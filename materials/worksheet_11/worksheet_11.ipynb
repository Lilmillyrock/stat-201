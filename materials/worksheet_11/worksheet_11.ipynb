{
 "cells": [
  {
   "cell_type": "markdown",
   "id": "duplicate-purple",
   "metadata": {
    "deletable": false,
    "editable": false,
    "nbgrader": {
     "cell_type": "markdown",
     "checksum": "7536a0a64fbebe8cff12905f199644a1",
     "grade": false,
     "grade_id": "cell-a285fa9a5c8bfcea",
     "locked": true,
     "schema_version": 3,
     "solution": false,
     "task": false
    }
   },
   "source": [
    "# Worksheet 11: Beyond two-group comparisons"
   ]
  },
  {
   "cell_type": "code",
   "execution_count": null,
   "id": "mediterranean-cradle",
   "metadata": {
    "deletable": false,
    "editable": false,
    "lines_to_next_cell": 2,
    "message": false,
    "nbgrader": {
     "cell_type": "code",
     "checksum": "10d52d255485661aee13f498a3e794b2",
     "grade": false,
     "grade_id": "cell-30f56caec5c2231a",
     "locked": true,
     "schema_version": 3,
     "solution": false,
     "task": false
    },
    "warning": false
   },
   "outputs": [],
   "source": [
    "suppressPackageStartupMessages(library(tidyverse))\n",
    "suppressPackageStartupMessages(library(infer))\n",
    "suppressPackageStartupMessages(library(datateachr))\n",
    "suppressPackageStartupMessages(library(testthat))\n",
    "suppressPackageStartupMessages(library(digest))"
   ]
  },
  {
   "cell_type": "markdown",
   "id": "adverse-resource",
   "metadata": {
    "deletable": false,
    "editable": false,
    "nbgrader": {
     "cell_type": "markdown",
     "checksum": "6d632649259fbfba2179521d1bffb1cb",
     "grade": false,
     "grade_id": "cell-03120628ad8c51eb",
     "locked": true,
     "schema_version": 3,
     "solution": false,
     "task": false
    }
   },
   "source": [
    "## Learning Objectives\n",
    "\n",
    "- Run a simple one-way ANOVA, without knowing the details of the test (the level of detail required is what's presented in the blog post).\n",
    "- Calculate and interpret prediction intervals.\n",
    "\n",
    "## Exercise 1: Recap Exercises\n",
    "\n",
    "### Question 1.1\n",
    "\n",
    "After how many hypotheses would we expect to make one Type I error, if each hypothesis is tested at a 0.05 significance level? Assuming the data from these tests are independent, that is. Put the number in a variable named `recap1`."
   ]
  },
  {
   "cell_type": "code",
   "execution_count": null,
   "id": "dressed-bouquet",
   "metadata": {
    "deletable": false,
    "nbgrader": {
     "cell_type": "code",
     "checksum": "f26800a7aff80a91c535df4bc189c251",
     "grade": false,
     "grade_id": "cell-a9b66c6f231ce5f7",
     "locked": false,
     "schema_version": 3,
     "solution": true,
     "task": false
    }
   },
   "outputs": [],
   "source": [
    "# recap1 <- FILL_THIS_IN\n",
    "# your code here\n",
    "fail() # No Answer - remove if you provide an answer\n",
    "print(recap1)"
   ]
  },
  {
   "cell_type": "code",
   "execution_count": null,
   "id": "limited-uncle",
   "metadata": {
    "deletable": false,
    "editable": false,
    "nbgrader": {
     "cell_type": "code",
     "checksum": "bd6b6a25087e942b12ca9d74349f79f8",
     "grade": true,
     "grade_id": "cell-ef5fd2da92bda890",
     "locked": true,
     "points": 1,
     "schema_version": 3,
     "solution": false,
     "task": false
    }
   },
   "outputs": [],
   "source": [
    "test_that(\"recap 1\", {\n",
    "  expect_identical(\n",
    "    digest(as.numeric(recap1)),\n",
    "    \"c72d0198505540505acfb4b2b49911e6\"\n",
    "  )\n",
    "})\n",
    "cat(\"success!\")"
   ]
  },
  {
   "cell_type": "markdown",
   "id": "renewable-fifteen",
   "metadata": {
    "deletable": false,
    "editable": false,
    "nbgrader": {
     "cell_type": "markdown",
     "checksum": "b98c4bca1f88b77a09b1c405b34cdd40",
     "grade": false,
     "grade_id": "cell-4cd9f26b1e63ec57",
     "locked": true,
     "schema_version": 3,
     "solution": false,
     "task": false
    }
   },
   "source": [
    "### Question 1.2\n",
    "\n",
    "You decide to get some practice with data analysis, so you analyse a different data set each week. For each analysis, you produce a single 90% confidence interval for a parameter. After how many projects would you expect to have made a confidence interval that _does not_ contain the true parameter? Put your answer in a variable named `recap2`."
   ]
  },
  {
   "cell_type": "code",
   "execution_count": null,
   "id": "laughing-health",
   "metadata": {
    "deletable": false,
    "nbgrader": {
     "cell_type": "code",
     "checksum": "27fd56b6b599079f4d70d4938c6107d9",
     "grade": false,
     "grade_id": "cell-062f255249a8cf9d",
     "locked": false,
     "schema_version": 3,
     "solution": true,
     "task": false
    }
   },
   "outputs": [],
   "source": [
    "# recap2 <- FILL_THIS_IN\n",
    "# your code here\n",
    "fail() # No Answer - remove if you provide an answer\n",
    "print(recap2)"
   ]
  },
  {
   "cell_type": "code",
   "execution_count": null,
   "id": "metropolitan-rings",
   "metadata": {
    "deletable": false,
    "editable": false,
    "lines_to_next_cell": 2,
    "nbgrader": {
     "cell_type": "code",
     "checksum": "e1f1f11267975cf2485ec425741dcdc3",
     "grade": true,
     "grade_id": "cell-fcf35b0222506bc2",
     "locked": true,
     "points": 1,
     "schema_version": 3,
     "solution": false,
     "task": false
    }
   },
   "outputs": [],
   "source": [
    "test_that(\"recap 2\", {\n",
    "  expect_identical(\n",
    "    digest(as.numeric(recap2)),\n",
    "    \"2522027d230e3dfe02d8b6eba1fd73e1\"\n",
    "  )\n",
    "})\n",
    "cat(\"success!\")"
   ]
  },
  {
   "cell_type": "markdown",
   "id": "informal-merit",
   "metadata": {
    "deletable": false,
    "editable": false,
    "nbgrader": {
     "cell_type": "markdown",
     "checksum": "8f6e8a21b127e1eeba0e970c8bdecd26",
     "grade": false,
     "grade_id": "cell-4cd1cdee8339b6b0",
     "locked": true,
     "schema_version": 3,
     "solution": false,
     "task": false
    }
   },
   "source": [
    "## Exercise 2: One-Way ANOVA\n",
    "\n",
    "Consider the `attitude` dataset in the datasets R package, which provides the survey scores of six questions (along with an overall score) given to employees of an organization. A tidy version of the data without the overall score is stored below in the `attitudes_tidy` variable."
   ]
  },
  {
   "cell_type": "code",
   "execution_count": null,
   "id": "exempt-opera",
   "metadata": {
    "deletable": false,
    "editable": false,
    "nbgrader": {
     "cell_type": "code",
     "checksum": "61b1891ecc58207ec01491cdd2fea59c",
     "grade": false,
     "grade_id": "cell-08bda415cb782a17",
     "locked": true,
     "schema_version": 3,
     "solution": false,
     "task": false
    }
   },
   "outputs": [],
   "source": [
    "attitude_tidy <- attitude %>% \n",
    "   select(-rating) %>% \n",
    "   pivot_longer(everything(), names_to = \"question\", values_to = \"score\")\n",
    "head(attitude_tidy)"
   ]
  },
  {
   "cell_type": "markdown",
   "id": "celtic-logistics",
   "metadata": {
    "deletable": false,
    "editable": false,
    "nbgrader": {
     "cell_type": "markdown",
     "checksum": "4d9e3eb73ed389cc3c7b7ae59492e088",
     "grade": false,
     "grade_id": "cell-bb5794f87538efeb",
     "locked": true,
     "schema_version": 3,
     "solution": false,
     "task": false
    }
   },
   "source": [
    "A jitterplot + boxplot of the data is shown below:"
   ]
  },
  {
   "cell_type": "code",
   "execution_count": null,
   "id": "together-orange",
   "metadata": {
    "deletable": false,
    "editable": false,
    "fig.align": "center",
    "fig.height": 3,
    "fig.width": 5,
    "nbgrader": {
     "cell_type": "code",
     "checksum": "ac8a36e137d347df8f3f52c11c23a958",
     "grade": false,
     "grade_id": "cell-9cf9b2f149373847",
     "locked": true,
     "schema_version": 3,
     "solution": false,
     "task": false
    }
   },
   "outputs": [],
   "source": [
    "attitude_tidy %>% \n",
    "  mutate(question = question %>% \n",
    "           as_factor() %>% \n",
    "           fct_reorder(score)) %>% \n",
    "  ggplot(aes(question, score)) +\n",
    "  geom_boxplot(width = 0.4, outlier.shape = NA) +\n",
    "  geom_jitter(width = 0.2, alpha = 1 / 3) +\n",
    "  theme_minimal()"
   ]
  },
  {
   "cell_type": "markdown",
   "id": "vocational-engineering",
   "metadata": {
    "deletable": false,
    "editable": false,
    "nbgrader": {
     "cell_type": "markdown",
     "checksum": "40b904a4457a479678e4a19535ed693d",
     "grade": false,
     "grade_id": "cell-6a2869d508878e41",
     "locked": true,
     "schema_version": 3,
     "solution": false,
     "task": false
    }
   },
   "source": [
    "Although there are visual differences between the groups, perhaps these differences are due to randomness.\n",
    "\n",
    "For this exercise, denote $\\mu_1, \\mu_2, \\ldots, \\mu_6$ the means of each group (ordered as in the above plot).\n",
    "\n",
    "### Question 2.1\n",
    "\n",
    "Maybe the mean scores are actually the same for each question. How can we write this as a null hypothesis, using symbols? Place the letter to your answer in a variable named `null_hypothesis`.\n",
    "\n",
    "**a**\\. $\\mu_1 = \\mu_2 = \\cdots = \\mu_6$    \n",
    "**b**\\. There are actually 15 null hypotheses, one for each pair of means: $\\mu_1 = \\mu_2$, $\\mu_1 = \\mu_3$, $\\mu_2 = \\mu_3$, etc.     \n",
    "**c**\\. There is an upward trend in score across question type."
   ]
  },
  {
   "cell_type": "code",
   "execution_count": null,
   "id": "regulated-referral",
   "metadata": {
    "deletable": false,
    "nbgrader": {
     "cell_type": "code",
     "checksum": "b22009969a4a0e5f73d7e244e3f8614f",
     "grade": false,
     "grade_id": "cell-0c013cc9509debf9",
     "locked": false,
     "schema_version": 3,
     "solution": true,
     "task": false
    }
   },
   "outputs": [],
   "source": [
    "# null_hypothesis <- \"FILL_THIS_IN\"\n",
    "# your code here\n",
    "fail() # No Answer - remove if you provide an answer"
   ]
  },
  {
   "cell_type": "code",
   "execution_count": null,
   "id": "leading-surrey",
   "metadata": {
    "deletable": false,
    "editable": false,
    "nbgrader": {
     "cell_type": "code",
     "checksum": "11adb5be518a2d8eb81a961a48b030b8",
     "grade": true,
     "grade_id": "cell-6a3a9cd39a8d21b0",
     "locked": true,
     "points": 1,
     "schema_version": 3,
     "solution": false,
     "task": false
    }
   },
   "outputs": [],
   "source": [
    "test_that(\"null hypothesis\", {\n",
    "    hashed_answer <- digest(tolower(null_hypothesis))\n",
    "    if (hashed_answer == \"ddf100612805359cd81fdc5ce3b9fbba\") {\n",
    "        cat(\"This would result in 15 separate tests -- we're looking for a single test.\")\n",
    "    } else if (hashed_answer == \"6e7a8c1c098e8817e3df3fd1b21149d1\") {\n",
    "        cat(\"The grouping variable has no inherent order, so there's no such thing as a trend.\")\n",
    "    }\n",
    "    expect_identical(hashed_answer, \"127a2ec00989b9f7faf671ed470be7f8\")\n",
    "})\n",
    "cat(\"success!\")"
   ]
  },
  {
   "cell_type": "markdown",
   "id": "caroline-split",
   "metadata": {
    "deletable": false,
    "editable": false,
    "nbgrader": {
     "cell_type": "markdown",
     "checksum": "5a1cb426f8edc3affc14ada819b8f675",
     "grade": false,
     "grade_id": "cell-a892af3ec11ba1dc",
     "locked": true,
     "schema_version": 3,
     "solution": false,
     "task": false
    }
   },
   "source": [
    "### Question 2.2\n",
    "\n",
    "Make a tibble containing the variances for each question. Your tibble should have columns named `\"question\"`, containing the question, and `\"variance\"`, containing the variance calculated using the `var()`. There should be six rows -- one for each question. Store the tibble in a variable called `attitude_variances`."
   ]
  },
  {
   "cell_type": "code",
   "execution_count": null,
   "id": "organic-rescue",
   "metadata": {
    "deletable": false,
    "nbgrader": {
     "cell_type": "code",
     "checksum": "0697f4e6eb14dd79fef00ab00ee61712",
     "grade": false,
     "grade_id": "cell-cd7d55fce539aa7c",
     "locked": false,
     "schema_version": 3,
     "solution": true,
     "task": false
    }
   },
   "outputs": [],
   "source": [
    "# attitude_variances <- FILL_THIS_IN\n",
    "# your code here\n",
    "fail() # No Answer - remove if you provide an answer\n",
    "print(attitude_variances)"
   ]
  },
  {
   "cell_type": "code",
   "execution_count": null,
   "id": "reflected-ordinary",
   "metadata": {
    "deletable": false,
    "editable": false,
    "lines_to_next_cell": 2,
    "nbgrader": {
     "cell_type": "code",
     "checksum": "9ff3f37f88edfd78b8e393171f578620",
     "grade": true,
     "grade_id": "cell-84949f8e7463ec43",
     "locked": true,
     "points": 1,
     "schema_version": 3,
     "solution": false,
     "task": false
    }
   },
   "outputs": [],
   "source": [
    "test_that(\"attitude group variances are correct\", {\n",
    "  standardized_answer <- attitude_variances %>% \n",
    "    mutate(variance = round(variance, digits = 4)) %>% \n",
    "    arrange(question) %>% \n",
    "    unclass()\n",
    "  expect_identical(\n",
    "    digest(standardized_answer), \n",
    "    \"f236ecf1d8852cf445dc3e5085d1414f\"\n",
    "  )\n",
    "})\n",
    "cat(\"success!\")"
   ]
  },
  {
   "cell_type": "markdown",
   "id": "organic-things",
   "metadata": {
    "deletable": false,
    "editable": false,
    "nbgrader": {
     "cell_type": "markdown",
     "checksum": "5b04e6d3d963e83eafc985dc70022287",
     "grade": false,
     "grade_id": "cell-271b865277e55db4",
     "locked": true,
     "schema_version": 3,
     "solution": false,
     "task": false
    }
   },
   "source": [
    "### Question 2.3\n",
    "\n",
    "ANOVA performs more accurately if the variances within each group are the same. Judging by the observed variances, does this look like a decent approximation? Some resources say that, as long as the group with the highest variance isn't many multiples bigger than the smallest group variance, then the specified significance level will be roughly equal to the true significance level. Store either `\"a\"`, `\"b\"`, or `\"c\"` with the variable `variance_call` to indicate your response.\n",
    "\n",
    "**a**\\.  We can assume that the variances are equal.   \n",
    "**b**\\.  The difference in variances between groups is concerning.   \n",
    "**c**\\.  Each group having the same variance appears to be a decent approximation."
   ]
  },
  {
   "cell_type": "code",
   "execution_count": null,
   "id": "elegant-violation",
   "metadata": {
    "deletable": false,
    "lines_to_next_cell": 2,
    "nbgrader": {
     "cell_type": "code",
     "checksum": "227c976e88fd01dad3de6708359144dc",
     "grade": false,
     "grade_id": "cell-d06411780d61ebf0",
     "locked": false,
     "schema_version": 3,
     "solution": true,
     "task": false
    }
   },
   "outputs": [],
   "source": [
    "# variance_call <- \"FILL_THIS_IN\"\n",
    "# your code here\n",
    "fail() # No Answer - remove if you provide an answer"
   ]
  },
  {
   "cell_type": "code",
   "execution_count": null,
   "id": "protected-monster",
   "metadata": {
    "deletable": false,
    "editable": false,
    "lines_to_next_cell": 2,
    "nbgrader": {
     "cell_type": "code",
     "checksum": "1e35296b8b4d1019b0071948c3040eb7",
     "grade": true,
     "grade_id": "cell-eb3eb8016185f490",
     "locked": true,
     "points": 1,
     "schema_version": 3,
     "solution": false,
     "task": false
    }
   },
   "outputs": [],
   "source": [
    "test_that(\"Variance call is correct\", {\n",
    "  answer_hash <- digest(tolower(variance_call))\n",
    "  if (answer_hash == \"127a2ec00989b9f7faf671ed470be7f8\") {\n",
    "    cat(\"It's not good language to 'assume' equal variances, \",\n",
    "        \"since the variances are almost surely at least a little different.\")\n",
    "  }\n",
    "  expect_identical(answer_hash, \"6e7a8c1c098e8817e3df3fd1b21149d1\")\n",
    "})\n",
    "cat(\"success!\")"
   ]
  },
  {
   "cell_type": "markdown",
   "id": "universal-freeware",
   "metadata": {
    "deletable": false,
    "editable": false,
    "nbgrader": {
     "cell_type": "markdown",
     "checksum": "5289f95bd8496e13791a58e6621d3dcb",
     "grade": false,
     "grade_id": "cell-e802fc25001340c6",
     "locked": true,
     "schema_version": 3,
     "solution": false,
     "task": false
    }
   },
   "source": [
    "### Question 2.4\n",
    "\n",
    "If the null hypothesis is true, then the overall variance could be calculated in two ways:\n",
    "\n",
    "- The overall variance, as if the grouping variable was absent. Calculate this quantity, and store it in a variable named `variance_overall`\n",
    "- The average group variance. Calculate this value by averaging the variances within each group. Store this number in a variable named `variance_group_avg`.\n",
    "\n",
    "Note that there are other ANOVA methods that weigh group variances a different ways, to account for situations where groups have quite different variances.\n",
    "\n",
    "A test statistic, then, would measure the discrepancy between these two values. Instead of calculating the difference, it works out better to calculate the _ratio_ of the overall variance to the average group variance. A big number (away from 1) is evidence that the null hypothesis may not be true. Store this ratio in a variable named `variance_ratio`.\n",
    "\n",
    "Framework:\n",
    "\n",
    "```\n",
    "variance_overall <- attitude_tidy %>% \n",
    "  summarise(FILL_THIS_IN) %>% \n",
    "  pull(FILL_THIS_IN)\n",
    "variance_group_avg <- attitude_variances %>% \n",
    "  summarise(FILL_THIS_IN) %>% \n",
    "  pull(FILL_THIS_IN)\n",
    "variance_ratio <- FILL_THIS_IN\n",
    "```\n",
    "\n",
    "Your solution:"
   ]
  },
  {
   "cell_type": "code",
   "execution_count": null,
   "id": "bottom-applicant",
   "metadata": {
    "deletable": false,
    "lines_to_next_cell": 2,
    "nbgrader": {
     "cell_type": "code",
     "checksum": "d3b225c3f8372784f5e088f515e1950f",
     "grade": false,
     "grade_id": "cell-07a587e9222fe286",
     "locked": false,
     "schema_version": 3,
     "solution": true,
     "task": false
    }
   },
   "outputs": [],
   "source": [
    "# your code here\n",
    "fail() # No Answer - remove if you provide an answer\n",
    "print(variance_overall)\n",
    "print(variance_group_avg)\n",
    "print(variance_ratio)"
   ]
  },
  {
   "cell_type": "code",
   "execution_count": null,
   "id": "superb-content",
   "metadata": {
    "deletable": false,
    "editable": false,
    "nbgrader": {
     "cell_type": "code",
     "checksum": "a75245ea3bdcab4abbb5aac29d39b847",
     "grade": true,
     "grade_id": "cell-7206307d327d032a",
     "locked": true,
     "points": 1,
     "schema_version": 3,
     "solution": false,
     "task": false
    }
   },
   "outputs": [],
   "source": [
    "test_that(\"variance calculations\", {\n",
    "    overall <- digest(round(variance_overall, digits = 2))\n",
    "    group_avg <- digest(round(variance_group_avg, digits = 2))\n",
    "    ratio <- digest(round(variance_ratio, digits = 2))\n",
    "    expect_identical(overall, \"6363a1d1005026d0626f68f768ad1ecc\")\n",
    "    expect_identical(group_avg, \"f4e70e61a8f13b7409b2b296a1d1d386\")\n",
    "    expect_identical(ratio, \"1088ff6cbfbfe0ca38e6d5b79804c749\")\n",
    "})\n",
    "cat(\"success!\")"
   ]
  },
  {
   "cell_type": "markdown",
   "id": "miniature-spectrum",
   "metadata": {
    "deletable": false,
    "editable": false,
    "nbgrader": {
     "cell_type": "markdown",
     "checksum": "48ddb4f30a6469e5dd6ce806b0ca621d",
     "grade": false,
     "grade_id": "cell-b01d59b1129f3456",
     "locked": true,
     "schema_version": 3,
     "solution": false,
     "task": false
    }
   },
   "source": [
    "### Question 2.5\n",
    "\n",
    "The _actual_ test statistic -- called the ANOVA F-test statistic -- is a little different from the one we calculated. Its scale is adjusted, and is shifted so that its base is at 0. The interpretation is as a ratio of _treatment variance_ (variability of group means around the overall mean) to the within-group variance. Also, it turns out that this test statistic is well approximated by an _F_-distribution if the null hypothesis is true -- and is exactly true if each group's population is Normally distributed, and the group variances are exactly equal.\n",
    "\n",
    "Use the `aov()` function to test the hypothesis. The relevant arguments are:\n",
    "\n",
    "- First argument (`formula`): Takes the form `numeric_column_name ~ group_column_name`.\n",
    "- `data`: Takes a data frame in tidy format (grouping column and numeric column).\n",
    "\n",
    "Use the broom package's `tidy()` function to obtain the F-statistic and p-value. Store these values in the variables `f_stat` and `anova_pval`, respectively.\n",
    "\n",
    "Framework:\n",
    "\n",
    "```\n",
    "anova_results <- aov(FILL_THIS_IN ~ FILL_THIS_IN, data = FILL_THIS_IN) %>% \n",
    "  broom::tidy()\n",
    "f_stat <- FILL_THIS_IN\n",
    "anova_pval <- FILL_THIS_IN\n",
    "```"
   ]
  },
  {
   "cell_type": "code",
   "execution_count": null,
   "id": "approximate-desert",
   "metadata": {
    "deletable": false,
    "nbgrader": {
     "cell_type": "code",
     "checksum": "1bc12bd9ff22a6ee7ddec55f75024eb8",
     "grade": false,
     "grade_id": "cell-e4f6f14c0c38ae6c",
     "locked": false,
     "schema_version": 3,
     "solution": true,
     "task": false
    }
   },
   "outputs": [],
   "source": [
    "# your code here\n",
    "fail() # No Answer - remove if you provide an answer\n",
    "print(anova_results)\n",
    "print(f_stat)\n",
    "print(anova_pval)"
   ]
  },
  {
   "cell_type": "code",
   "execution_count": null,
   "id": "sporting-deviation",
   "metadata": {
    "deletable": false,
    "editable": false,
    "lines_to_next_cell": 2,
    "nbgrader": {
     "cell_type": "code",
     "checksum": "eca0ab867dae2805d4571e0aa420be28",
     "grade": true,
     "grade_id": "cell-8401214a49d0e3de",
     "locked": true,
     "points": 1,
     "schema_version": 3,
     "solution": false,
     "task": false
    }
   },
   "outputs": [],
   "source": [
    "test_that(\"Question 2.6\", {\n",
    "  expect_identical(\n",
    "    digest(round(f_stat, digits = 4)),\n",
    "    \"201c106c767545f7ae0f82bf91390fe4\"\n",
    "  )\n",
    "  expect_identical(\n",
    "    digest(signif(anova_pval, digits = 4)),\n",
    "    \"85048b8d9987b60a8ff053eccf2128b1\"\n",
    "  )\n",
    "})\n",
    "cat(\"success!\")"
   ]
  },
  {
   "cell_type": "markdown",
   "id": "ignored-vanilla",
   "metadata": {
    "deletable": false,
    "editable": false,
    "nbgrader": {
     "cell_type": "markdown",
     "checksum": "fee0d3f4d9ffbb261be8e11ad0b868ec",
     "grade": false,
     "grade_id": "cell-d766af941418a67b",
     "locked": true,
     "schema_version": 3,
     "solution": false,
     "task": false
    }
   },
   "source": [
    "_Note_: You can also run an ANOVA by fitting linear models first, with `lm()`. But, this is a topic for STAT 301! \n",
    "\n",
    "### Question 2.6\n",
    "\n",
    "What is our conclusion under a 0.01 significance level? Assign the letter response to a variable named `anova_conclusion`.\n",
    "\n",
    "**a**\\. Each group has a different / unique mean.   \n",
    "**b**\\. There's not enough evidence to suggest that the group means are different.   \n",
    "**c**\\. The group means are all equal.     \n",
    "**d**\\. At least one group has a mean that is significantly different from the others.   \n",
    "**e**\\. There is a positive linear relationship between score and question."
   ]
  },
  {
   "cell_type": "code",
   "execution_count": null,
   "id": "logical-sentence",
   "metadata": {
    "deletable": false,
    "nbgrader": {
     "cell_type": "code",
     "checksum": "d6f15c60672a60fae02e9ee0f0d2c687",
     "grade": false,
     "grade_id": "cell-f243d8d103397740",
     "locked": false,
     "schema_version": 3,
     "solution": true,
     "task": false
    }
   },
   "outputs": [],
   "source": [
    "# anova_conclusion <- \"FILL_THIS_IN\"\n",
    "# your code here\n",
    "fail() # No Answer - remove if you provide an answer"
   ]
  },
  {
   "cell_type": "code",
   "execution_count": null,
   "id": "boring-charter",
   "metadata": {
    "deletable": false,
    "editable": false,
    "lines_to_next_cell": 0,
    "nbgrader": {
     "cell_type": "code",
     "checksum": "828a98fd72508bf133d8938603a7755d",
     "grade": true,
     "grade_id": "cell-7a84b72472c0f947",
     "locked": true,
     "points": 1,
     "schema_version": 3,
     "solution": false,
     "task": false
    }
   },
   "outputs": [],
   "source": [
    "test_that(\"ANOVA conclusion\", {\n",
    "  answer_hash <- digest(tolower(anova_conclusion))\n",
    "  if (answer_hash == \"93a9078c6326f37b481d3e99b60ad987\") {\n",
    "    cat(\"The 'spacing' and ordering of questions is arbitrary,\",\n",
    "        \"so there's no way we can talk about direction and shape\",\n",
    "        \"of a relationship.\")\n",
    "  }\n",
    "  expect_identical(answer_hash, \"d110f00cfb1b248e835137025804a23b\")\n",
    "})\n",
    "cat(\"success!\")"
   ]
  },
  {
   "cell_type": "markdown",
   "id": "elementary-celebration",
   "metadata": {
    "deletable": false,
    "editable": false,
    "nbgrader": {
     "cell_type": "markdown",
     "checksum": "5e265802c6253f70eda8293d8038ff28",
     "grade": false,
     "grade_id": "cell-57c3cb6d60ccea8c",
     "locked": true,
     "schema_version": 3,
     "solution": false,
     "task": false
    }
   },
   "source": [
    "## Exercise 3: Prediction Intervals\n",
    "\n",
    "Until now, we've been making inference on _population parameters_, such as means, quantiles, variances, etc. As we've seen, this inference allows us to present both (1) our best guess as to what the parameter is (an estimate), along with (2) a description of uncertainty (such as confidence intervals and hypothesis tests). But, \n",
    "how can we go about making inference on a _new observation_? \n",
    "\n",
    "In the tutorial, you'll explore predictions themselves. In this worksheet, we'll explore the inference part of predictions: _prediction intervals_.\n",
    "\n",
    "To form a prediction interval, instead of using quantiles of the _(estimated) sampling distribution_, use the _population distribution_. \n",
    "\n",
    "Unlike sampling distributions, using the _true_ population distribution to form prediction intervals actually gives us prediction intervals with the specified probability. Using _true_ sampling distributions, on the other hand, is not useful for forming confidence intervals, because we know the true mean is in the center of the sampling distribution, so no interval at all is needed.\n",
    "\n",
    "Since it's unusual to have access to the population distribution in practice, a common approach is to use the _sample distribution_ when forming prediction intervals. Doing so usually results in the true coverage probability to veer from the specified probability -- something we'll explore a little more in this exercise. \n",
    "\n",
    "### Question 3.1\n",
    "\n",
    "Recall the City of Vancouver building permits dataset `building_permits` in the datateachr R package, which has building permit info on all buildings since 2017. Here is a tibble of the project values of all One-Family Dwellings (having non-zero value):"
   ]
  },
  {
   "cell_type": "code",
   "execution_count": null,
   "id": "comfortable-craft",
   "metadata": {
    "deletable": false,
    "editable": false,
    "lines_to_next_cell": 2,
    "nbgrader": {
     "cell_type": "code",
     "checksum": "aa5174fb16efc1e68dda234e487a47cf",
     "grade": false,
     "grade_id": "cell-ffb2f8b1e51fbc7f",
     "locked": true,
     "schema_version": 3,
     "solution": false,
     "task": false
    }
   },
   "outputs": [],
   "source": [
    "project_values <- building_permits %>% \n",
    "    filter(specific_use_category == \"One-Family Dwelling\") %>% \n",
    "    select(project_value) %>% \n",
    "    filter(project_value > 0)\n",
    "head(project_values)"
   ]
  },
  {
   "cell_type": "markdown",
   "id": "union-crossing",
   "metadata": {
    "deletable": false,
    "editable": false,
    "nbgrader": {
     "cell_type": "markdown",
     "checksum": "3f34435f8376acd3dbde0f369a530469",
     "grade": false,
     "grade_id": "cell-b815d929182a1b66",
     "locked": true,
     "schema_version": 3,
     "solution": false,
     "task": false
    }
   },
   "source": [
    "<!-- For your own reference, here is a 95% *confidence* interval for the mean (Here, we'll take the population to be infinite: the value in today's dollars of all one-family dwellings since 2017, going on into the future. (Also assuming society remains similar to today's society.) -->\n",
    "<!-- ) -->\n",
    "\n",
    "<!-- ```{r} -->\n",
    "<!-- project_values %>%  -->\n",
    "<!--   rep_sample_n(size = nrow(.), replace = TRUE, reps = 1000) %>%  -->\n",
    "<!--   group_by(replicate) %>%  -->\n",
    "<!--   summarise(mean_value = mean(project_value), .groups = \"drop\") %>%  -->\n",
    "<!--   pull(mean_value) %>%  -->\n",
    "<!--   quantile(c(0.025, 0.975)) %>%  -->\n",
    "<!--   unname() -->\n",
    "<!-- ``` -->\n",
    "\n",
    "If a new one-family dwelling is going to be built, what is a 90% prediction interval for this property's value (given that it's above 0)? Store this interval as a vector of length two (lower first, upper second), as a variable named `dwelling_pi`. \n",
    "\n",
    "Technicalities:\n",
    "\n",
    "- Use the `quantile()` function (and its default `type = 7` argument).\n",
    "- Ensure equal probability on both sides of the distribution. "
   ]
  },
  {
   "cell_type": "code",
   "execution_count": null,
   "id": "formal-salvation",
   "metadata": {
    "deletable": false,
    "nbgrader": {
     "cell_type": "code",
     "checksum": "5f416b6d4a404b7be0dab3252e81217c",
     "grade": false,
     "grade_id": "cell-0a236b691b187a60",
     "locked": false,
     "schema_version": 3,
     "solution": true,
     "task": false
    }
   },
   "outputs": [],
   "source": [
    "# dwelling_pi <- FILL_THIS_IN\n",
    "# your code here\n",
    "fail() # No Answer - remove if you provide an answer\n",
    "print(dwelling_pi)"
   ]
  },
  {
   "cell_type": "code",
   "execution_count": null,
   "id": "victorian-intake",
   "metadata": {
    "deletable": false,
    "editable": false,
    "nbgrader": {
     "cell_type": "code",
     "checksum": "b122515e4007f599142076d44d4acfb8",
     "grade": true,
     "grade_id": "cell-959598381c47c70d",
     "locked": true,
     "points": 1,
     "schema_version": 3,
     "solution": false,
     "task": false
    }
   },
   "outputs": [],
   "source": [
    "test_that(\"One-Family Dwelling PI\", {\n",
    "  expect_identical(\n",
    "    digest(round(unname(dwelling_pi), digits = 2)),\n",
    "    \"ebbcb0aa1dd53b57e2da4ca96cfd46d3\"\n",
    "  )\n",
    "})\n",
    "cat(\"success!\")"
   ]
  },
  {
   "cell_type": "markdown",
   "id": "tropical-questionnaire",
   "metadata": {
    "deletable": false,
    "editable": false,
    "nbgrader": {
     "cell_type": "markdown",
     "checksum": "c1127ca8488a8b09330c6f9de671a9f2",
     "grade": false,
     "grade_id": "cell-ae52142007c0c214",
     "locked": true,
     "schema_version": 3,
     "solution": false,
     "task": false
    }
   },
   "source": [
    "### Question 3.2\n",
    "\n",
    "Based on the definitions of prediction interval and confidence interval, what happens to these intervals as the sample size increases? Place the letters of your response in alphabetical order as a string, in a variable named `interval_trends`.\n",
    "\n",
    "**a**\\. Confidence intervals remain roughly the same width, because the confidence level remains the same.    \n",
    "**b**\\. Confidence intervals get narrower as we zero in on the true parameter.    \n",
    "**c**\\. Confidence intervals expand as we gain more and more confidence with larger sample sizes.   \n",
    "**d**\\. Prediction intervals remain roughly the same width -- after all, we're just getting better and better at estimating the true quantiles making up the boundaries of the prediction interval.   \n",
    "**e**\\. Prediction intervals get narrower as we zero in on the true future value.    \n",
    "**f**\\. Prediction intervals expand as we gain more and more confidence with larger sample sizes. "
   ]
  },
  {
   "cell_type": "code",
   "execution_count": null,
   "id": "bearing-opera",
   "metadata": {
    "deletable": false,
    "nbgrader": {
     "cell_type": "code",
     "checksum": "cd71a22f317d9e0794d72daa7a1310a8",
     "grade": false,
     "grade_id": "cell-a11587ed58b8c74b",
     "locked": false,
     "schema_version": 3,
     "solution": true,
     "task": false
    }
   },
   "outputs": [],
   "source": [
    "# interval_trends <- \"FILL_THIS_IN\"\n",
    "# your code here\n",
    "fail() # No Answer - remove if you provide an answer"
   ]
  },
  {
   "cell_type": "code",
   "execution_count": null,
   "id": "cardiac-proportion",
   "metadata": {
    "deletable": false,
    "editable": false,
    "nbgrader": {
     "cell_type": "code",
     "checksum": "78c14b84aa8fc9571d7fd60b2f4cfdd5",
     "grade": true,
     "grade_id": "cell-4415ae970aef0c2b",
     "locked": true,
     "points": 1,
     "schema_version": 3,
     "solution": false,
     "task": false
    }
   },
   "outputs": [],
   "source": [
    "test_that(\"Realities of smaller coverage probability\", {\n",
    "  answer_hash <- digest(tolower(interval_trends))\n",
    "  expect_identical(answer_hash, \"95767987b2037a2f09c4e5c0997ec206\")\n",
    "})\n",
    "cat(\"success!\")"
   ]
  },
  {
   "cell_type": "markdown",
   "id": "hundred-collectible",
   "metadata": {
    "deletable": false,
    "editable": false,
    "nbgrader": {
     "cell_type": "markdown",
     "checksum": "2fdab46dfb5fd5546a7c0c69f2b74667",
     "grade": false,
     "grade_id": "cell-bfbf84f298285d2d",
     "locked": true,
     "schema_version": 3,
     "solution": false,
     "task": false
    }
   },
   "source": [
    "### Question 3.3\n",
    "\n",
    "To build concepts, let's interpret our sample as being the entire population. What proportion of this population's property values fall in the prediction interval? This is called the _true coverage probability_, because it's the proportion of the population that truly falls in the interval. Take the interval to be inclusive of both endpoints. Store the proportion in a variable named `dwellings_in_pi`. \n",
    "\n",
    "(By the way: the reason you don't get 90% exactly is because the population is finite. This means that changing one of the endpoints of your prediction interval to the next higher or lower value will cause the confidence level to also make a discrete jump to another value. This is especially characteristic of discrete data.)\n",
    "\n",
    "Framework:\n",
    "\n",
    "```\n",
    "dwellings_in_pi <- project_values %>% \n",
    "  summarise(prop = mean(\n",
    "    FILL_THIS_IN >= FILL_THIS_IN &\n",
    "      FILL_THIS_IN <= FILL_THIS_IN\n",
    "  )) %>% \n",
    "  pull(FILL_THIS_IN)\n",
    "```\n",
    "\n",
    "Your solution:"
   ]
  },
  {
   "cell_type": "code",
   "execution_count": null,
   "id": "fleet-permission",
   "metadata": {
    "deletable": false,
    "nbgrader": {
     "cell_type": "code",
     "checksum": "581e32b0d65df19519f761024f40a87b",
     "grade": false,
     "grade_id": "cell-289c421bd1a11c64",
     "locked": false,
     "schema_version": 3,
     "solution": true,
     "task": false
    }
   },
   "outputs": [],
   "source": [
    "# dwellings_in_pi <- FILL_THIS_IN\n",
    "# your code here\n",
    "fail() # No Answer - remove if you provide an answer\n",
    "print(dwellings_in_pi)"
   ]
  },
  {
   "cell_type": "code",
   "execution_count": null,
   "id": "forty-overview",
   "metadata": {
    "deletable": false,
    "editable": false,
    "lines_to_next_cell": 2,
    "nbgrader": {
     "cell_type": "code",
     "checksum": "9b7c6cd76a11c1bab2903c0a7d67ff8d",
     "grade": true,
     "grade_id": "cell-fc4227d65b91295d",
     "locked": true,
     "points": 1,
     "schema_version": 3,
     "solution": false,
     "task": false
    }
   },
   "outputs": [],
   "source": [
    "test_that(\"Proportion in prediction interval\", {\n",
    "  expect_identical(\n",
    "    digest(round(dwellings_in_pi, digits = 4)),\n",
    "    \"e2ad489efa88de3347f33df53dca0e44\"\n",
    "  )\n",
    "})\n",
    "cat(\"success!\")"
   ]
  },
  {
   "cell_type": "markdown",
   "id": "brave-posting",
   "metadata": {
    "deletable": false,
    "editable": false,
    "nbgrader": {
     "cell_type": "markdown",
     "checksum": "fe7b7db6fc2959c0917b2b115a6d3226",
     "grade": false,
     "grade_id": "cell-a2d18322d817b4c0",
     "locked": true,
     "schema_version": 3,
     "solution": false,
     "task": false
    }
   },
   "source": [
    "### Question 3.4\n",
    "\n",
    "Let's still interpret our sample as being the population, so that we can see an example of the specified coverage probability veering off from the true coverage probability. \n",
    "\n",
    "To see how the true coverage probabilities vary depending on the sample, let's take multiple (1000) samples, and calculate the true coverage probability for each of them. Remember, since our original sample is the entire population, it wouldn't make sense to sample with replacement, because we could potentially duplicate members of our population. Use a seed of `123`, and store your final vector of 1000 coverage probabilities in a vector named `coverage`. \n",
    "\n",
    "Scaffolding:\n",
    "\n",
    "```\n",
    "set.seed(123)\n",
    "## Draw 1000 samples of size 100:\n",
    "sample_pi <- project_values %>% \n",
    "  rep_sample_n(FILL_THIS_IN, replace = FILL_THIS_IN, reps = FILL_THIS_IN) %>% \n",
    "  group_by(replicate) %>% \n",
    "  summarise(lower = quantile(FILL_THIS_IN, FILL_THIS_IN),\n",
    "            upper = quantile(FILL_THIS_IN, FILL_THIS_IN))\n",
    "## Get vector of project values:\n",
    "project_values_vec <- project_values$project_value\n",
    "## Calculate coverage probabilities:\n",
    "coverage <- sample_pi %>% \n",
    "  group_by(replicate) %>% \n",
    "  summarise(coverage = mean(\n",
    "    project_values_vec >= FILL_THIS_IN &\n",
    "      FILL_THIS_IN\n",
    "  )) %>% \n",
    "  pull(coverage)\n",
    "```\n",
    "\n",
    "Your solution:"
   ]
  },
  {
   "cell_type": "code",
   "execution_count": null,
   "id": "rolled-cookie",
   "metadata": {
    "deletable": false,
    "lines_to_next_cell": 2,
    "nbgrader": {
     "cell_type": "code",
     "checksum": "f09b9185594a5080e8abfcfad5c943c2",
     "grade": false,
     "grade_id": "cell-a0c46e43e511731a",
     "locked": false,
     "schema_version": 3,
     "solution": true,
     "task": false
    }
   },
   "outputs": [],
   "source": [
    "# set.seed(123)\n",
    "# FILL_THIS_IN\n",
    "# your code here\n",
    "fail() # No Answer - remove if you provide an answer\n",
    "head(coverage)"
   ]
  },
  {
   "cell_type": "code",
   "execution_count": null,
   "id": "simplified-color",
   "metadata": {
    "deletable": false,
    "editable": false,
    "nbgrader": {
     "cell_type": "code",
     "checksum": "697a27525ff83306bbe48e35c688b1e0",
     "grade": true,
     "grade_id": "cell-93e1e1def662ebb3",
     "locked": true,
     "points": 1,
     "schema_version": 3,
     "solution": false,
     "task": false
    }
   },
   "outputs": [],
   "source": [
    "test_that(\"Sample coverages\", {\n",
    "  expect_identical(\n",
    "    digest(round(unname(sort(coverage)), digits = 4)),\n",
    "    \"a87fa2047aca2dd118f118b0b49dd3e3\"\n",
    "  )\n",
    "})\n",
    "cat(\"success!\")"
   ]
  },
  {
   "cell_type": "markdown",
   "id": "metropolitan-ottawa",
   "metadata": {
    "deletable": false,
    "editable": false,
    "nbgrader": {
     "cell_type": "markdown",
     "checksum": "202c20aa90a321f3c1869dc59c35eaf7",
     "grade": false,
     "grade_id": "cell-4e4a9c9ae77b0c96",
     "locked": true,
     "schema_version": 3,
     "solution": false,
     "task": false
    }
   },
   "source": [
    "### Question 3.5\n",
    "\n",
    "Here is a histogram of the coverage probabilities you produced, with a vertical line representing the intended coverage probability:"
   ]
  },
  {
   "cell_type": "code",
   "execution_count": null,
   "id": "attended-history",
   "metadata": {
    "deletable": false,
    "editable": false,
    "nbgrader": {
     "cell_type": "code",
     "checksum": "9880440a34aa8f498b62624ec277f55a",
     "grade": false,
     "grade_id": "cell-1d9ba5fd90529702",
     "locked": true,
     "schema_version": 3,
     "solution": false,
     "task": false
    }
   },
   "outputs": [],
   "source": [
    "qplot(coverage, bins = 30) +\n",
    "  theme_minimal() +\n",
    "  xlab(\"Coverage probability\") +\n",
    "  ylab(\"Count\") +\n",
    "  geom_vline(xintercept = 0.9)"
   ]
  },
  {
   "cell_type": "markdown",
   "id": "powered-violence",
   "metadata": {
    "deletable": false,
    "editable": false,
    "nbgrader": {
     "cell_type": "markdown",
     "checksum": "bf6022c04f147e41b1804dbee257913a",
     "grade": false,
     "grade_id": "cell-23dc35d1b89130d2",
     "locked": true,
     "schema_version": 3,
     "solution": false,
     "task": false
    }
   },
   "source": [
    "As you can see, the true coverage probability depends on the sample drawn. This histogram shape is typical, with more mass on the left, suggesting that smaller coverage probabilities are more likely.\n",
    "\n",
    "Based on your simulation, just how likely are you to get a coverage probability less than the specified coverage probability of 0.9? Put this probability in a variable named `prob_smaller`."
   ]
  },
  {
   "cell_type": "code",
   "execution_count": null,
   "id": "heavy-dinner",
   "metadata": {
    "deletable": false,
    "nbgrader": {
     "cell_type": "code",
     "checksum": "fc987f03b34a9f113ede1dac512c8863",
     "grade": false,
     "grade_id": "cell-746dd958bb0ffa9e",
     "locked": false,
     "schema_version": 3,
     "solution": true,
     "task": false
    }
   },
   "outputs": [],
   "source": [
    "# prob_smaller <- FILL_THIS_IN\n",
    "# your code here\n",
    "fail() # No Answer - remove if you provide an answer\n",
    "print(prob_smaller)"
   ]
  },
  {
   "cell_type": "code",
   "execution_count": null,
   "id": "absent-reconstruction",
   "metadata": {
    "deletable": false,
    "editable": false,
    "lines_to_next_cell": 2,
    "nbgrader": {
     "cell_type": "code",
     "checksum": "1a06befdfefb2175a1c3dbbefcb1575c",
     "grade": true,
     "grade_id": "cell-4d12051f167e577a",
     "locked": true,
     "points": 1,
     "schema_version": 3,
     "solution": false,
     "task": false
    }
   },
   "outputs": [],
   "source": [
    "test_that(\"Probability of smaller coverage\", {\n",
    "  expect_identical(\n",
    "    digest(round(prob_smaller, digits = 3)),\n",
    "    \"4b2646cfd98fd99bc210dbf47d832ffd\"\n",
    "  )\n",
    "})\n",
    "cat(\"success!\")"
   ]
  },
  {
   "cell_type": "markdown",
   "id": "supported-chocolate",
   "metadata": {
    "deletable": false,
    "editable": false,
    "nbgrader": {
     "cell_type": "markdown",
     "checksum": "11809c14ff2748c578227eee36d45152",
     "grade": false,
     "grade_id": "cell-0f9b4a388d2e5685",
     "locked": true,
     "schema_version": 3,
     "solution": false,
     "task": false
    }
   },
   "source": [
    "### Question 3.6\n",
    "\n",
    "Now, consider our original population of one-family dwellings now and in the future. If it turns out that the true coverage probability of our prediction interval is smaller than the specified probability of 90%, what does this mean? Keep in mind that we can't know how the true coverage probability will compare. Place your selection(s) in alphabetical order in one string in a variable named `realities`.\n",
    "\n",
    "**a**\\. More one-family dwellings being built will have property values outside of our interval than we think.   \n",
    "**b**\\. Less one-family dwellings being built will have property values outside of our interval than we think.   \n",
    "**c**\\. In order to capture the true coverage probability, we would need to expand our prediction interval.   \n",
    "**d**\\. In order to capture the true coverage probability, we would need to shrink our prediction interval.   \n",
    "\n",
    "Before we end this section, it's worth saying that there's still merit in using a sample-based prediction interval, even though the true coverage probability might be different from the specified one. Just as we have to accept error when estimating a parameter like the mean, we have to accept some level of error here, too. That being said, there *are* ways of adjusting prediction intervals to more closely match the true coverage probability. A famous one is when the population distribution is Gaussian (just google \"prediction interval\", and many resources will show a formula based on a Normal population). But, we won't cover these methods in this course. "
   ]
  },
  {
   "cell_type": "code",
   "execution_count": null,
   "id": "isolated-breach",
   "metadata": {
    "deletable": false,
    "nbgrader": {
     "cell_type": "code",
     "checksum": "39fa4f3e9e0aed5ea5d25493498b55c4",
     "grade": false,
     "grade_id": "cell-0b8fd530909e8105",
     "locked": false,
     "schema_version": 3,
     "solution": true,
     "task": false
    }
   },
   "outputs": [],
   "source": [
    "# realities <- \"FILL_THIS_IN\"\n",
    "# your code here\n",
    "fail() # No Answer - remove if you provide an answer"
   ]
  },
  {
   "cell_type": "code",
   "execution_count": null,
   "id": "powered-boost",
   "metadata": {
    "deletable": false,
    "editable": false,
    "lines_to_next_cell": 0,
    "nbgrader": {
     "cell_type": "code",
     "checksum": "6e4ae30452f2f6c34c2116d033910b25",
     "grade": true,
     "grade_id": "cell-41b20de3cf33f39b",
     "locked": true,
     "points": 1,
     "schema_version": 3,
     "solution": false,
     "task": false
    }
   },
   "outputs": [],
   "source": [
    "test_that(\"Realities of smaller coverage probability\", {\n",
    "  answer_hash <- digest(tolower(realities))\n",
    "  expect_identical(answer_hash, \"7ecaefcc6ebc9848e7cb04b5c783ae0a\")\n",
    "})\n",
    "cat(\"success!\")"
   ]
  },
  {
   "cell_type": "markdown",
   "id": "approved-residence",
   "metadata": {},
   "source": [
    "\n",
    "\n",
    "\n",
    "\n",
    "\n"
   ]
  }
 ],
 "metadata": {
  "docker": {
   "latest_image_tag": "v0.6.0"
  },
  "jupytext": {
   "cell_metadata_filter": "warning,message,-all",
   "formats": "ipynb,Rmd",
   "notebook_metadata_filter": "-all"
  },
  "kernelspec": {
   "display_name": "R",
   "language": "R",
   "name": "ir"
  },
  "language_info": {
   "codemirror_mode": "r",
   "file_extension": ".r",
   "mimetype": "text/x-r-source",
   "name": "R",
   "pygments_lexer": "r",
   "version": "4.0.3"
  }
 },
 "nbformat": 4,
 "nbformat_minor": 5
}
