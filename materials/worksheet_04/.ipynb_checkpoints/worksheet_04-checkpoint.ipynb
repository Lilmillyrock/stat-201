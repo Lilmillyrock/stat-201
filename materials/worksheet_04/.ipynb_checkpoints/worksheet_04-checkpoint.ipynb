{
 "cells": [
  {
   "cell_type": "markdown",
   "metadata": {
    "nbgrader": {
     "grade": false,
     "grade_id": "cell-c3be035a676e3d8f",
     "locked": true,
     "schema_version": 3,
     "solution": false,
     "task": false
    }
   },
   "source": [
    "# Worksheet 4: Confidence Intervals via Bootstrapping"
   ]
  },
  {
   "cell_type": "markdown",
   "metadata": {
    "nbgrader": {
     "grade": false,
     "grade_id": "cell-e74e47156fd30ffe",
     "locked": true,
     "schema_version": 3,
     "solution": false,
     "task": false
    }
   },
   "source": [
    "#### Lecture and Tutorial Learning Goals:\n",
    "From this section, students are expected to be able to:\n",
    "\n",
    "1. Define what a confidence interval is and why we want to generate one.\n",
    "2. Explain how the bootstrap sampling distribution can be used to create confidence intervals.\n",
    "3. Write a computer script to calculate confidence intervals for a population parameter using bootstrapping.\n",
    "4. Effectively visualize point estimates and confidence intervals.\n",
    "5. Interpret and explain results from confidence intervals.\n",
    "6. Discuss the potential limitations of these methods."
   ]
  },
  {
   "cell_type": "code",
   "execution_count": 1,
   "metadata": {
    "nbgrader": {
     "grade": false,
     "grade_id": "cell-e3dd9d74ab20965b",
     "locked": true,
     "schema_version": 3,
     "solution": false,
     "task": false
    }
   },
   "outputs": [
    {
     "name": "stderr",
     "output_type": "stream",
     "text": [
      "── \u001b[1mAttaching packages\u001b[22m ────────────────────────────────────────────────────────────────── tidyverse 1.3.1 ──\n",
      "\n",
      "\u001b[32m✔\u001b[39m \u001b[34mggplot2\u001b[39m 3.3.5     \u001b[32m✔\u001b[39m \u001b[34mpurrr  \u001b[39m 0.3.4\n",
      "\u001b[32m✔\u001b[39m \u001b[34mtibble \u001b[39m 3.1.5     \u001b[32m✔\u001b[39m \u001b[34mdplyr  \u001b[39m 1.0.7\n",
      "\u001b[32m✔\u001b[39m \u001b[34mtidyr  \u001b[39m 1.1.4     \u001b[32m✔\u001b[39m \u001b[34mstringr\u001b[39m 1.4.0\n",
      "\u001b[32m✔\u001b[39m \u001b[34mreadr  \u001b[39m 2.0.2     \u001b[32m✔\u001b[39m \u001b[34mforcats\u001b[39m 0.5.1\n",
      "\n",
      "── \u001b[1mConflicts\u001b[22m ───────────────────────────────────────────────────────────────────── tidyverse_conflicts() ──\n",
      "\u001b[31m✖\u001b[39m \u001b[34mdplyr\u001b[39m::\u001b[32mfilter()\u001b[39m masks \u001b[34mstats\u001b[39m::filter()\n",
      "\u001b[31m✖\u001b[39m \u001b[34mdplyr\u001b[39m::\u001b[32mlag()\u001b[39m    masks \u001b[34mstats\u001b[39m::lag()\n",
      "\n",
      "\n",
      "Attaching package: ‘testthat’\n",
      "\n",
      "\n",
      "The following object is masked from ‘package:dplyr’:\n",
      "\n",
      "    matches\n",
      "\n",
      "\n",
      "The following object is masked from ‘package:purrr’:\n",
      "\n",
      "    is_null\n",
      "\n",
      "\n",
      "The following objects are masked from ‘package:readr’:\n",
      "\n",
      "    edition_get, local_edition\n",
      "\n",
      "\n",
      "The following object is masked from ‘package:tidyr’:\n",
      "\n",
      "    matches\n",
      "\n",
      "\n"
     ]
    }
   ],
   "source": [
    "# Run this cell before continuing.\n",
    "library(cowplot)\n",
    "library(datateachr)\n",
    "library(infer)\n",
    "library(repr)\n",
    "library(tidyverse)\n",
    "source(\"tests_worksheet_04.R\")"
   ]
  },
  {
   "cell_type": "markdown",
   "metadata": {
    "nbgrader": {
     "grade": false,
     "grade_id": "cell-04657c2d7e49dc5d",
     "locked": true,
     "schema_version": 3,
     "solution": false,
     "task": false
    }
   },
   "source": [
    "## 1. Short Recap & Warm-Up\n",
    "\n",
    "Before we start exploring the new material for this week, let's remind ourselves of some of the most important points that we covered in the previous week by answering a couple of questions."
   ]
  },
  {
   "cell_type": "markdown",
   "metadata": {
    "nbgrader": {
     "grade": false,
     "grade_id": "cell-277aef32f735ac0e",
     "locked": true,
     "schema_version": 3,
     "solution": false,
     "task": false
    }
   },
   "source": [
    "**Question 1.0**\n",
    "<br>{points: 1}\n",
    "\n",
    "Consider the following diagram of some of the concepts that we have learned about so far:\n",
    "\n",
    "```\n",
    "population -> parameters\n",
    "    sample -> point estimate -> estimates -> ...(1)\n",
    "    sample -> ...(2) -> standard error\n",
    "        bootstrap samples -> bootstrap distribution -> ...(3) -> sampling distribution\n",
    "                             bootstrap distribution -> ...(4) -> estimates -> ...(5)\n",
    "```\n",
    "An arrow `->` indicates some type of relationship between the two conjoined terms. For example, `population -> parameters` could be interpretted as \"a population has parameters\", and `sample -> point estimate` could be interpretted as \"from a sample, we can compute a point estimate\".\n",
    "\n",
    "Notice that some terms are missing, as indicated by the 5 `...`'s. Your job is to match the following terms with their appropriate locations in the diagram:\n",
    "\n",
    "A. Standard deviation\n",
    "\n",
    "B. Standard error\n",
    "\n",
    "C. Estimator\n",
    "\n",
    "D. Estimates\n",
    "\n",
    "E. Parameter\n",
    "\n",
    "Your answer should be a string containing the letters associated with the terms **in the same order as they would appear in the completed diagram:** `(1)(2)(3)(4)(5)`. Each letter must be used exactly once. For example, one potential solution is `\"ABCDE\"`.\n",
    "\n",
    "_Assign your answer to an object called `answer1.0`. Your answer should be a string containing the letters \"A\", \"B\", \"C\", \"D\", and \"E\" in any order._"
   ]
  },
  {
   "cell_type": "code",
   "execution_count": 2,
   "metadata": {
    "nbgrader": {
     "grade": false,
     "grade_id": "cell-1727cffb8fad502f",
     "locked": false,
     "schema_version": 3,
     "solution": true,
     "task": false
    }
   },
   "outputs": [],
   "source": [
    "# answer1.0 <- ...\n",
    "\n",
    "### BEGIN SOLUTION\n",
    "answer1.0 <- \"ECDAB\"\n",
    "### END SOLUTION"
   ]
  },
  {
   "cell_type": "code",
   "execution_count": 3,
   "metadata": {
    "nbgrader": {
     "grade": true,
     "grade_id": "cell-44068c9ca1db48aa",
     "locked": true,
     "points": 1,
     "schema_version": 3,
     "solution": false,
     "task": false
    }
   },
   "outputs": [
    {
     "name": "stdout",
     "output_type": "stream",
     "text": [
      "\u001b[32mTest passed\u001b[39m 🎊\n",
      "\u001b[32mTest passed\u001b[39m 🥇\n",
      "\u001b[32mTest passed\u001b[39m 🎉\n",
      "[1] \"Success!\"\n"
     ]
    }
   ],
   "source": [
    "test_1.0()"
   ]
  },
  {
   "cell_type": "markdown",
   "metadata": {
    "nbgrader": {
     "grade": false,
     "grade_id": "cell-eea64fe8856b291f",
     "locked": true,
     "schema_version": 3,
     "solution": false,
     "task": false
    }
   },
   "source": [
    "**Question 1.1**\n",
    "<br>{points: 1}\n",
    "\n",
    "Which statment below is **not** true?\n",
    "\n",
    "A. Given a sample of size 100, we could get a useful estimate of the sampling distribution for samples of size 100 by taking many bootstrap samples of size 70 from the original sample.\n",
    "\n",
    "B. As sample size increases, the standard deviation of the boostrap distribution resulting from a given sample generally decreases.\n",
    "\n",
    "C. The standard deviation of a bootstrap distribution can provide a reliable estimate of the standard error of an estimator, even if the estimator's distribution is asymmetrical.\n",
    "\n",
    "D. The procedure for drawing a normal sample and a bootstrap sample are very similar, with the exception of where we sample from, and the type of sampling (with vs. without replacement).\n",
    "\n",
    "_Assign your answer to an object called `answer1.1`. Your answer should be a single character surrounded by quotes._"
   ]
  },
  {
   "cell_type": "code",
   "execution_count": 4,
   "metadata": {
    "nbgrader": {
     "grade": false,
     "grade_id": "cell-6e7c99c9098e9e01",
     "locked": false,
     "schema_version": 3,
     "solution": true,
     "task": false
    }
   },
   "outputs": [],
   "source": [
    "# answer1.1 <- ...\n",
    "\n",
    "### BEGIN SOLUTION\n",
    "answer1.1 <- \"A\"\n",
    "### END SOLUTION"
   ]
  },
  {
   "cell_type": "code",
   "execution_count": 5,
   "metadata": {
    "nbgrader": {
     "grade": true,
     "grade_id": "cell-0e9dc9ae6c2a29f4",
     "locked": true,
     "points": 1,
     "schema_version": 3,
     "solution": false,
     "task": false
    }
   },
   "outputs": [
    {
     "name": "stdout",
     "output_type": "stream",
     "text": [
      "\u001b[32mTest passed\u001b[39m 🎉\n",
      "\u001b[32mTest passed\u001b[39m 😸\n",
      "\u001b[32mTest passed\u001b[39m 🎉\n",
      "[1] \"Success!\"\n"
     ]
    }
   ],
   "source": [
    "test_1.1()"
   ]
  },
  {
   "cell_type": "markdown",
   "metadata": {
    "nbgrader": {
     "grade": false,
     "grade_id": "cell-0ba462b13e472a93",
     "locked": true,
     "schema_version": 3,
     "solution": false,
     "task": false
    }
   },
   "source": [
    "## 2. Introduction to Confidence Intervals\n",
    "\n",
    "So far, we have spent a lot of time understanding sampling distributions as well as one method used to estimate them (bootstrapping). But what's the point of sampling distributions in reality? We know that it tells us about **sampling variation**, which we quantify as the **standard error** of an estimator (the standard deviation of the estimator's distribution). But how are sampling distributions used in practice?\n",
    "> We use a sampling distribution to give a range of plausible values for a population parameter. This range of values is known as a **confidence interval**.\n",
    "\n",
    "In this section, we'll present the basic idea behind confidence intervals and the formal concepts that are used to define them."
   ]
  },
  {
   "cell_type": "markdown",
   "metadata": {
    "nbgrader": {
     "grade": false,
     "grade_id": "cell-509ae1c00179cdf6",
     "locked": true,
     "schema_version": 3,
     "solution": false,
     "task": false
    }
   },
   "source": [
    "### Vancouver Street Trees\n",
    "Because we are introducing something brand new, let's revisit a dataset that we are familiar with: `vancouver_trees`. This time, we'll consider our population to be all of the public trees planted in Sunset. Our parameter of interest will be the mean of the `diameter` variable. In the cell below we have filtered the data frame for the population of interest and selected the variable that we need. We have also converted the diameter column from inches to centimetres."
   ]
  },
  {
   "cell_type": "code",
   "execution_count": 6,
   "metadata": {
    "nbgrader": {
     "grade": false,
     "grade_id": "cell-acaf959d1d48ef8b",
     "locked": true,
     "schema_version": 3,
     "solution": false,
     "task": false
    }
   },
   "outputs": [
    {
     "data": {
      "text/html": [
       "<table class=\"dataframe\">\n",
       "<caption>A tibble: 6 × 1</caption>\n",
       "<thead>\n",
       "\t<tr><th scope=col>diameter</th></tr>\n",
       "\t<tr><th scope=col>&lt;dbl&gt;</th></tr>\n",
       "</thead>\n",
       "<tbody>\n",
       "\t<tr><td>33.02</td></tr>\n",
       "\t<tr><td>29.21</td></tr>\n",
       "\t<tr><td>13.97</td></tr>\n",
       "\t<tr><td> 7.62</td></tr>\n",
       "\t<tr><td> 7.62</td></tr>\n",
       "\t<tr><td>20.32</td></tr>\n",
       "</tbody>\n",
       "</table>\n"
      ],
      "text/latex": [
       "A tibble: 6 × 1\n",
       "\\begin{tabular}{l}\n",
       " diameter\\\\\n",
       " <dbl>\\\\\n",
       "\\hline\n",
       "\t 33.02\\\\\n",
       "\t 29.21\\\\\n",
       "\t 13.97\\\\\n",
       "\t  7.62\\\\\n",
       "\t  7.62\\\\\n",
       "\t 20.32\\\\\n",
       "\\end{tabular}\n"
      ],
      "text/markdown": [
       "\n",
       "A tibble: 6 × 1\n",
       "\n",
       "| diameter &lt;dbl&gt; |\n",
       "|---|\n",
       "| 33.02 |\n",
       "| 29.21 |\n",
       "| 13.97 |\n",
       "|  7.62 |\n",
       "|  7.62 |\n",
       "| 20.32 |\n",
       "\n"
      ],
      "text/plain": [
       "  diameter\n",
       "1 33.02   \n",
       "2 29.21   \n",
       "3 13.97   \n",
       "4  7.62   \n",
       "5  7.62   \n",
       "6 20.32   "
      ]
     },
     "metadata": {},
     "output_type": "display_data"
    }
   ],
   "source": [
    "# Run this cell before continuing.\n",
    "sunset_pop <- \n",
    "    vancouver_trees %>% \n",
    "    filter(neighbourhood_name == \"SUNSET\") %>% \n",
    "    select(diameter) %>% \n",
    "    mutate(diameter = diameter * 2.54)\n",
    "\n",
    "head(sunset_pop)"
   ]
  },
  {
   "cell_type": "markdown",
   "metadata": {
    "nbgrader": {
     "grade": false,
     "grade_id": "cell-04d92e2140412282",
     "locked": true,
     "schema_version": 3,
     "solution": false,
     "task": false
    }
   },
   "source": [
    "**Question 2.0** \n",
    "<br> {points: 1}\n",
    "\n",
    "Calculate the mean of the population of interest.\n",
    "\n",
    "_Assign your answer to an object called `pop_mean`. Your answer should be a single number._"
   ]
  },
  {
   "cell_type": "code",
   "execution_count": 7,
   "metadata": {
    "nbgrader": {
     "grade": false,
     "grade_id": "cell-9316dff880f18da5",
     "locked": false,
     "schema_version": 3,
     "solution": true,
     "task": false
    }
   },
   "outputs": [
    {
     "data": {
      "text/html": [
       "27.3762608581331"
      ],
      "text/latex": [
       "27.3762608581331"
      ],
      "text/markdown": [
       "27.3762608581331"
      ],
      "text/plain": [
       "[1] 27.37626"
      ]
     },
     "metadata": {},
     "output_type": "display_data"
    }
   ],
   "source": [
    "### BEGIN SOLUTION\n",
    "pop_mean <- \n",
    "    sunset_pop %>% \n",
    "    pull(diameter) %>% \n",
    "    mean()\n",
    "### END SOLUTION\n",
    "\n",
    "pop_mean"
   ]
  },
  {
   "cell_type": "code",
   "execution_count": 8,
   "metadata": {
    "nbgrader": {
     "grade": true,
     "grade_id": "cell-21c011af0ae860c8",
     "locked": true,
     "points": 1,
     "schema_version": 3,
     "solution": false,
     "task": false
    }
   },
   "outputs": [
    {
     "name": "stdout",
     "output_type": "stream",
     "text": [
      "\u001b[32mTest passed\u001b[39m 🥳\n",
      "\u001b[32mTest passed\u001b[39m 😀\n",
      "\u001b[32mTest passed\u001b[39m 🎊\n",
      "[1] \"Success!\"\n"
     ]
    }
   ],
   "source": [
    "test_2.0()"
   ]
  },
  {
   "cell_type": "markdown",
   "metadata": {
    "nbgrader": {
     "grade": false,
     "grade_id": "cell-668169d4e9139f50",
     "locked": true,
     "schema_version": 3,
     "solution": false,
     "task": false
    }
   },
   "source": [
    "In the cell below, we run code that generates 10 different bootstrap distributions. Each distribution estimates the sampling distribution of the mean of `sunset_pop` for samples of size 24. Hence, each bootstrap distribution was generated by taking a single sample of size 24 from the population `sunset_pop`, taking many resamples from this sample, and calculating the mean of each resample. We can consider the bootstrap distributions to depict some plausible values for the population parameter of interest, based on the original sample that was used to generate them.\n",
    "\n",
    "_Use the 10 bootstrap distributions below to answer the **next question**._"
   ]
  },
  {
   "cell_type": "code",
   "execution_count": 9,
   "metadata": {
    "nbgrader": {
     "grade": false,
     "grade_id": "cell-1e4480115f4769d7",
     "locked": true,
     "schema_version": 3,
     "solution": false,
     "task": false
    }
   },
   "outputs": [
    {
     "data": {
      "image/png": "[encoded data removed]",
      "text/plain": [
       "plot without title"
      ]
     },
     "metadata": {
      "image/png": {
       "height": 480,
       "width": 1200
      }
     },
     "output_type": "display_data"
    }
   ],
   "source": [
    "# Run this cell before continuing.\n",
    "options(repr.plot.width = 20, repr.plot.height = 8)\n",
    "source(\"bootstrap_dists_worksheet_04.R\")\n",
    "print(bootstrap_dists)"
   ]
  },
  {
   "cell_type": "markdown",
   "metadata": {
    "nbgrader": {
     "grade": false,
     "grade_id": "cell-c93453feb55827dc",
     "locked": true,
     "schema_version": 3,
     "solution": false,
     "task": false
    }
   },
   "source": [
    "**Question 2.1**\n",
    "<br>{points: 1}\n",
    "\n",
    "How many of the bootstrap distributions **reasonably \"cover\"** the true mean of the population?\n",
    "\n",
    "**Hint:** there may be more than one correct answer.\n",
    "\n",
    "_Assign your answer to an object called `answer2.1`. Your answer should be a single integer._"
   ]
  },
  {
   "cell_type": "code",
   "execution_count": 10,
   "metadata": {
    "nbgrader": {
     "grade": false,
     "grade_id": "cell-b718f74c7ad73204",
     "locked": false,
     "schema_version": 3,
     "solution": true,
     "task": false
    }
   },
   "outputs": [],
   "source": [
    "# answer2.1 <- ...\n",
    "\n",
    "### BEGIN SOLUTION\n",
    "answer2.1 <- 8\n",
    "\n",
    "# Also accepted\n",
    "answer2.1 <- 7\n",
    "answer2.1 <- 9\n",
    "### END SOLUTION"
   ]
  },
  {
   "cell_type": "code",
   "execution_count": 11,
   "metadata": {
    "nbgrader": {
     "grade": true,
     "grade_id": "cell-cf6d3812af64bde2",
     "locked": true,
     "points": 1,
     "schema_version": 3,
     "solution": false,
     "task": false
    }
   },
   "outputs": [
    {
     "name": "stdout",
     "output_type": "stream",
     "text": [
      "\u001b[32mTest passed\u001b[39m 🌈\n",
      "\u001b[32mTest passed\u001b[39m 🥳\n",
      "\u001b[32mTest passed\u001b[39m 🌈\n",
      "\u001b[32mTest passed\u001b[39m 🥳\n",
      "[1] \"Success!\"\n"
     ]
    }
   ],
   "source": [
    "test_2.1()"
   ]
  },
  {
   "cell_type": "markdown",
   "metadata": {
    "nbgrader": {
     "grade": false,
     "grade_id": "cell-08219e12485b6dbd",
     "locked": true,
     "schema_version": 3,
     "solution": false,
     "task": false
    }
   },
   "source": [
    "### Quantiles\n",
    "Is there a clear answer to the previous question? Not really... The meaning of \"reasonably covers\" may differ from person to person; where would you draw the line between \"covers\" and \"does not cover\"? To avoid relying on our own intuition, we need a more rigorous way to say whether or not a bootstrap distribution \"covers\" the parameter of interest. To do this, we will use **quantiles**. The general definition of quantiles that we will be using in this course is as follows:\n",
    "> The $p$th quantile is the value of the observation data set where a proportion of $p$ fall below it, and $1 - p$ fall above it.\n",
    "\n",
    "The $p$th quantile is also commonly referred to as the $p \\times 100\\%$th **percentile**. For example, the 0.025th quantile is also referred to as the 2.5th percentile. "
   ]
  },
  {
   "cell_type": "markdown",
   "metadata": {
    "nbgrader": {
     "grade": false,
     "grade_id": "cell-5a8d653eb31a90a3",
     "locked": true,
     "schema_version": 3,
     "solution": false,
     "task": false
    }
   },
   "source": [
    "**Question 2.2**\n",
    "<br>{points: 1}\n",
    "\n",
    "Take a single sample of size 150 from `sunset_pop` using `rep_sample_n`. Be sure to `ungroup` and select only the variable that we are interested in (`diameter`). Use the scaffolding provided below as a guide:\n",
    "\n",
    "```r\n",
    "sample_1 <- \n",
    "    ... %>% \n",
    "    rep_sample_n(reps = ..., size = ..., replace = ...) %>% \n",
    "    ungroup() %>% \n",
    "    select(...)\n",
    "```\n",
    "\n",
    "_Assign your data frame to an object called `sample_1`._"
   ]
  },
  {
   "cell_type": "code",
   "execution_count": 12,
   "metadata": {
    "nbgrader": {
     "grade": false,
     "grade_id": "cell-631427c9071eaba9",
     "locked": false,
     "schema_version": 3,
     "solution": true,
     "task": false
    }
   },
   "outputs": [
    {
     "data": {
      "text/html": [
       "<table class=\"dataframe\">\n",
       "<caption>A tibble: 6 × 1</caption>\n",
       "<thead>\n",
       "\t<tr><th scope=col>diameter</th></tr>\n",
       "\t<tr><th scope=col>&lt;dbl&gt;</th></tr>\n",
       "</thead>\n",
       "<tbody>\n",
       "\t<tr><td> 7.62</td></tr>\n",
       "\t<tr><td>57.15</td></tr>\n",
       "\t<tr><td>40.64</td></tr>\n",
       "\t<tr><td> 7.62</td></tr>\n",
       "\t<tr><td> 7.62</td></tr>\n",
       "\t<tr><td>43.18</td></tr>\n",
       "</tbody>\n",
       "</table>\n"
      ],
      "text/latex": [
       "A tibble: 6 × 1\n",
       "\\begin{tabular}{l}\n",
       " diameter\\\\\n",
       " <dbl>\\\\\n",
       "\\hline\n",
       "\t  7.62\\\\\n",
       "\t 57.15\\\\\n",
       "\t 40.64\\\\\n",
       "\t  7.62\\\\\n",
       "\t  7.62\\\\\n",
       "\t 43.18\\\\\n",
       "\\end{tabular}\n"
      ],
      "text/markdown": [
       "\n",
       "A tibble: 6 × 1\n",
       "\n",
       "| diameter &lt;dbl&gt; |\n",
       "|---|\n",
       "|  7.62 |\n",
       "| 57.15 |\n",
       "| 40.64 |\n",
       "|  7.62 |\n",
       "|  7.62 |\n",
       "| 43.18 |\n",
       "\n"
      ],
      "text/plain": [
       "  diameter\n",
       "1  7.62   \n",
       "2 57.15   \n",
       "3 40.64   \n",
       "4  7.62   \n",
       "5  7.62   \n",
       "6 43.18   "
      ]
     },
     "metadata": {},
     "output_type": "display_data"
    }
   ],
   "source": [
    "set.seed(8622) # DO NOT CHANGE THIS!\n",
    "\n",
    "### BEGIN SOLUTION\n",
    "sample_1 <- \n",
    "    sunset_pop %>% \n",
    "    rep_sample_n(reps = 1, size = 150, replace = FALSE) %>% \n",
    "    ungroup() %>% \n",
    "    select(diameter)\n",
    "### END SOLUTION\n",
    "\n",
    "head(sample_1)"
   ]
  },
  {
   "cell_type": "code",
   "execution_count": 13,
   "metadata": {
    "nbgrader": {
     "grade": true,
     "grade_id": "cell-a081d7650da43c44",
     "locked": true,
     "points": 1,
     "schema_version": 3,
     "solution": false,
     "task": false
    }
   },
   "outputs": [
    {
     "name": "stdout",
     "output_type": "stream",
     "text": [
      "\u001b[32mTest passed\u001b[39m 🥇\n",
      "\u001b[32mTest passed\u001b[39m 😸\n",
      "\u001b[32mTest passed\u001b[39m 🥳\n",
      "\u001b[32mTest passed\u001b[39m 🥇\n",
      "\u001b[32mTest passed\u001b[39m 🎊\n",
      "[1] \"Success!\"\n"
     ]
    }
   ],
   "source": [
    "test_2.2()"
   ]
  },
  {
   "cell_type": "markdown",
   "metadata": {
    "nbgrader": {
     "grade": false,
     "grade_id": "cell-21b0d343665f8c2b",
     "locked": true,
     "schema_version": 3,
     "solution": false,
     "task": false
    }
   },
   "source": [
    "**Question 2.3**\n",
    "<br> {points: 1}\n",
    "\n",
    "Calculate the 0.75th quantile of `sample_1` using R's `quantile` function. Use the scaffolding provided below as a guide:\n",
    "\n",
    "```r\n",
    "upper_quantile <- \n",
    "    sample_1 %>% \n",
    "    ...(...) %>% \n",
    "    quantile(...)\n",
    "```\n",
    "\n",
    "**Hints:**\n",
    "1. `quantile` takes a numeric vector for the first argument\n",
    "2. You can use the `pull` to get a single column from a data frame as a vector, for example, `pull(data_frame, column_name)`\n",
    "\n",
    "_Assign your answer to an object called `upper_quantile`. Your answer should be a single number._"
   ]
  },
  {
   "cell_type": "code",
   "execution_count": 14,
   "metadata": {
    "nbgrader": {
     "grade": false,
     "grade_id": "cell-cacf4f1c9c1e26dc",
     "locked": false,
     "schema_version": 3,
     "solution": true,
     "task": false
    }
   },
   "outputs": [
    {
     "data": {
      "text/html": [
       "<strong>75%:</strong> 36.03625"
      ],
      "text/latex": [
       "\\textbf{75\\textbackslash{}\\%:} 36.03625"
      ],
      "text/markdown": [
       "**75%:** 36.03625"
      ],
      "text/plain": [
       "     75% \n",
       "36.03625 "
      ]
     },
     "metadata": {},
     "output_type": "display_data"
    }
   ],
   "source": [
    "### BEGIN SOLUTION\n",
    "upper_quantile <- \n",
    "    sample_1 %>% \n",
    "    pull(diameter) %>% \n",
    "    quantile(0.75)\n",
    "### END SOLUTION\n",
    "\n",
    "upper_quantile"
   ]
  },
  {
   "cell_type": "code",
   "execution_count": 15,
   "metadata": {
    "nbgrader": {
     "grade": true,
     "grade_id": "cell-8b38703a2532492b",
     "locked": true,
     "points": 1,
     "schema_version": 3,
     "solution": false,
     "task": false
    }
   },
   "outputs": [
    {
     "name": "stdout",
     "output_type": "stream",
     "text": [
      "\u001b[32mTest passed\u001b[39m 🥇\n",
      "\u001b[32mTest passed\u001b[39m 😀\n",
      "\u001b[32mTest passed\u001b[39m 🌈\n",
      "\u001b[32mTest passed\u001b[39m 🎊\n",
      "\u001b[32mTest passed\u001b[39m 🌈\n",
      "[1] \"Success!\"\n"
     ]
    }
   ],
   "source": [
    "test_2.2()"
   ]
  },
  {
   "cell_type": "markdown",
   "metadata": {
    "nbgrader": {
     "grade": false,
     "grade_id": "cell-1decc52a2880a0bf",
     "locked": true,
     "schema_version": 3,
     "solution": false,
     "task": false
    }
   },
   "source": [
    "**Question 2.4**\n",
    "<br>{points: 1}\n",
    "\n",
    "True or false?\n",
    "\n",
    "One correct interpretation of the value of `upper_quantile` is: approximately 25% of observations in the sample `sample_1` lie above the value of `upper_quantile`.\n",
    "\n",
    "_Assign your answer to an object called `answer2.4`. Your answer should be either \"true\" or \"false\", surrounded by quotes._"
   ]
  },
  {
   "cell_type": "code",
   "execution_count": 16,
   "metadata": {
    "nbgrader": {
     "grade": false,
     "grade_id": "cell-43b8be334725790e",
     "locked": false,
     "schema_version": 3,
     "solution": true,
     "task": false
    }
   },
   "outputs": [],
   "source": [
    "# answer2.4 <- ...\n",
    "\n",
    "### BEGIN SOLUTION\n",
    "answer2.4 <- \"true\"\n",
    "### END SOLUTION"
   ]
  },
  {
   "cell_type": "code",
   "execution_count": 17,
   "metadata": {
    "nbgrader": {
     "grade": true,
     "grade_id": "cell-e04d21251d8de8fb",
     "locked": true,
     "points": 1,
     "schema_version": 3,
     "solution": false,
     "task": false
    }
   },
   "outputs": [
    {
     "name": "stdout",
     "output_type": "stream",
     "text": [
      "\u001b[32mTest passed\u001b[39m 😀\n",
      "\u001b[32mTest passed\u001b[39m 🎊\n",
      "\u001b[32mTest passed\u001b[39m 🎉\n",
      "[1] \"Success!\"\n"
     ]
    }
   ],
   "source": [
    "test_2.4()"
   ]
  },
  {
   "cell_type": "markdown",
   "metadata": {
    "nbgrader": {
     "grade": false,
     "grade_id": "cell-bffd96979f8468c2",
     "locked": true,
     "schema_version": 3,
     "solution": false,
     "task": false
    }
   },
   "source": [
    "**Question 2.5**\n",
    "<br> {points: 1}\n",
    "\n",
    "Calculate the 0.25th quantile of `sample_1` using R's `quantile` function.\n",
    "\n",
    "_Assign your answer to an object called `lower_quantile`. Your answer should be a single number._"
   ]
  },
  {
   "cell_type": "code",
   "execution_count": 18,
   "metadata": {
    "nbgrader": {
     "grade": false,
     "grade_id": "cell-80552f5495dd76e7",
     "locked": false,
     "schema_version": 3,
     "solution": true,
     "task": false
    }
   },
   "outputs": [
    {
     "data": {
      "text/html": [
       "<strong>25%:</strong> 7.77875"
      ],
      "text/latex": [
       "\\textbf{25\\textbackslash{}\\%:} 7.77875"
      ],
      "text/markdown": [
       "**25%:** 7.77875"
      ],
      "text/plain": [
       "    25% \n",
       "7.77875 "
      ]
     },
     "metadata": {},
     "output_type": "display_data"
    }
   ],
   "source": [
    "### BEGIN SOLUTION\n",
    "lower_quantile <- \n",
    "    sample_1 %>% \n",
    "    pull(diameter) %>% \n",
    "    quantile(0.25)\n",
    "### END SOLUTION\n",
    "\n",
    "lower_quantile"
   ]
  },
  {
   "cell_type": "code",
   "execution_count": 19,
   "metadata": {
    "nbgrader": {
     "grade": true,
     "grade_id": "cell-00effe9dd34235fa",
     "locked": true,
     "points": 1,
     "schema_version": 3,
     "solution": false,
     "task": false
    }
   },
   "outputs": [
    {
     "name": "stdout",
     "output_type": "stream",
     "text": [
      "\u001b[32mTest passed\u001b[39m 🌈\n",
      "\u001b[32mTest passed\u001b[39m 🎊\n",
      "\u001b[32mTest passed\u001b[39m 😸\n",
      "[1] \"Success!\"\n"
     ]
    }
   ],
   "source": [
    "test_2.5()"
   ]
  },
  {
   "cell_type": "markdown",
   "metadata": {
    "nbgrader": {
     "grade": false,
     "grade_id": "cell-6509ea4d827fc45e",
     "locked": true,
     "schema_version": 3,
     "solution": false,
     "task": false
    }
   },
   "source": [
    "**Question 2.6**\n",
    "<br> {points: 1}\n",
    "\n",
    "Plot the distribution of the sample `sample_1` using `geom_histogram` with bin widths of 2. Additionally, add vertical lines on top of the histogram at the location of the 0.25th and 0.75th quantiles using `geom_vline`. Ensure your plot has descriptive, human-readable labels with units and a title. Use the scaffolding provided below as a guide:\n",
    "\n",
    "```r\n",
    "sample_quantile_plot <- \n",
    "    ... %>% \n",
    "    ggplot(aes(x = ...)) +\n",
    "    theme_bw() +\n",
    "    ...(binwidth = ..., color = 'white') +\n",
    "    geom_vline(... = lower_quantile, colour = \"red\", size = 1) +\n",
    "    ...(xintercept = upper_quantile, colour = \"red\", size = 1) +\n",
    "    labs(title = \"Sample Distribution (150 observations from population)\",\n",
    "         x = ...) + \n",
    "    theme(text = element_text(size = 20))\n",
    "\n",
    "```\n",
    "\n",
    "_Assign your plot to an object called `sample_quantile_plot`._"
   ]
  },
  {
   "cell_type": "code",
   "execution_count": 20,
   "metadata": {
    "nbgrader": {
     "grade": false,
     "grade_id": "cell-f733caa7b3918b85",
     "locked": false,
     "schema_version": 3,
     "solution": true,
     "task": false
    }
   },
   "outputs": [
    {
     "data": {
      "image/png": "[encoded data removed]",
      "text/plain": [
       "plot without title"
      ]
     },
     "metadata": {
      "image/png": {
       "height": 480,
       "width": 1200
      }
     },
     "output_type": "display_data"
    }
   ],
   "source": [
    "### BEGIN SOLUTION\n",
    "sample_quantile_plot <- \n",
    "    sample_1 %>% \n",
    "    ggplot(aes(x = diameter)) +\n",
    "    theme_bw() +\n",
    "    geom_histogram(binwidth = 2, color = 'white') +\n",
    "    geom_vline(xintercept = lower_quantile, colour = \"red\", size = 1) +\n",
    "    geom_vline(xintercept = upper_quantile, colour = \"red\", size = 1) +\n",
    "    labs(title = \"Sample Distribution (150 observations from population)\",\n",
    "         x = \"Diameter (cm)\") +\n",
    "    theme(text = element_text(size = 20))\n",
    "### END SOLUTION\n",
    "\n",
    "sample_quantile_plot"
   ]
  },
  {
   "cell_type": "code",
   "execution_count": 21,
   "metadata": {
    "nbgrader": {
     "grade": true,
     "grade_id": "cell-4d14bf1e59651b64",
     "locked": true,
     "points": 1,
     "schema_version": 3,
     "solution": false,
     "task": false
    }
   },
   "outputs": [
    {
     "name": "stdout",
     "output_type": "stream",
     "text": [
      "\u001b[32mTest passed\u001b[39m 🌈\n",
      "\u001b[32mTest passed\u001b[39m 🎉\n",
      "\u001b[32mTest passed\u001b[39m 🎊\n",
      "\u001b[32mTest passed\u001b[39m 🎉\n",
      "\u001b[32mTest passed\u001b[39m 🌈\n",
      "\u001b[32mTest passed\u001b[39m 🥇\n",
      "\u001b[32mTest passed\u001b[39m 😸\n",
      "\u001b[32mTest passed\u001b[39m 🥇\n",
      "[1] \"Success!\"\n"
     ]
    }
   ],
   "source": [
    "test_2.6()"
   ]
  },
  {
   "cell_type": "markdown",
   "metadata": {
    "nbgrader": {
     "grade": false,
     "grade_id": "cell-d39d1428b752e6ef",
     "locked": true,
     "schema_version": 3,
     "solution": false,
     "task": false
    }
   },
   "source": [
    "**Question 2.7** \n",
    "<br> {points: 1}\n",
    "\n",
    "Calculate the proportion of `sample_1` that falls **below** the 0.75th quantile you calculated earlier (`upper_quantile`). Use the scaffolding provided below as a guide:\n",
    "\n",
    "```r\n",
    "p_below <-\n",
    "    sample_1 %>% \n",
    "    summarise(prop = mean(... < ...)) %>% \n",
    "    pull(...)\n",
    "```\n",
    "\n",
    "_Assign your answer to an object called `p_below`. Your answer should be a single number._"
   ]
  },
  {
   "cell_type": "code",
   "execution_count": 22,
   "metadata": {
    "nbgrader": {
     "grade": false,
     "grade_id": "cell-d881d2aa312309a9",
     "locked": false,
     "schema_version": 3,
     "solution": true,
     "task": false
    }
   },
   "outputs": [
    {
     "data": {
      "text/html": [
       "0.746666666666667"
      ],
      "text/latex": [
       "0.746666666666667"
      ],
      "text/markdown": [
       "0.746666666666667"
      ],
      "text/plain": [
       "[1] 0.7466667"
      ]
     },
     "metadata": {},
     "output_type": "display_data"
    }
   ],
   "source": [
    "### BEGIN SOLUTION\n",
    "p_below <-\n",
    "    sample_1 %>% \n",
    "    summarise(prop = mean(diameter < upper_quantile)) %>% \n",
    "    pull(prop)\n",
    "### END SOLUTION\n",
    "\n",
    "p_below"
   ]
  },
  {
   "cell_type": "code",
   "execution_count": 23,
   "metadata": {
    "nbgrader": {
     "grade": true,
     "grade_id": "cell-6f42ef47e030eb3c",
     "locked": true,
     "points": 1,
     "schema_version": 3,
     "solution": false,
     "task": false
    }
   },
   "outputs": [
    {
     "name": "stdout",
     "output_type": "stream",
     "text": [
      "\u001b[32mTest passed\u001b[39m 🌈\n",
      "\u001b[32mTest passed\u001b[39m 🎉\n",
      "\u001b[32mTest passed\u001b[39m 😸\n",
      "[1] \"Success!\"\n"
     ]
    }
   ],
   "source": [
    "test_2.7()"
   ]
  },
  {
   "cell_type": "markdown",
   "metadata": {
    "nbgrader": {
     "grade": false,
     "grade_id": "cell-4182c2bf8c74aae5",
     "locked": true,
     "schema_version": 3,
     "solution": false,
     "task": false
    }
   },
   "source": [
    "**Question 2.8** \n",
    "<br> {points: 1}\n",
    "\n",
    "Calculate the proportion of `sample_1` that falls **between** the 0.25th and 0.75th quantiles that you calculated earlier (`lower_quantile` and `upper_quantile`, respectively).\n",
    "\n",
    "**Hint:** one method of calculating the answer to this question is very similar to the method used in the previous question.\n",
    "\n",
    "_Assign your answer to an object called `p_between`. Your answer should be a single number._"
   ]
  },
  {
   "cell_type": "code",
   "execution_count": 24,
   "metadata": {
    "nbgrader": {
     "grade": false,
     "grade_id": "cell-8eec876afcff3471",
     "locked": false,
     "schema_version": 3,
     "solution": true,
     "task": false
    }
   },
   "outputs": [
    {
     "data": {
      "text/html": [
       "0.493333333333333"
      ],
      "text/latex": [
       "0.493333333333333"
      ],
      "text/markdown": [
       "0.493333333333333"
      ],
      "text/plain": [
       "[1] 0.4933333"
      ]
     },
     "metadata": {},
     "output_type": "display_data"
    }
   ],
   "source": [
    "### BEGIN SOLUTION\n",
    "p_between <-\n",
    "    sample_1 %>% \n",
    "    summarise(prop = mean(diameter < upper_quantile & \n",
    "                          diameter > lower_quantile)) %>% \n",
    "    pull(prop)\n",
    "### END SOLUTION\n",
    "\n",
    "p_between"
   ]
  },
  {
   "cell_type": "code",
   "execution_count": 25,
   "metadata": {
    "nbgrader": {
     "grade": true,
     "grade_id": "cell-ba5a902a9f7c2d70",
     "locked": true,
     "points": 1,
     "schema_version": 3,
     "solution": false,
     "task": false
    }
   },
   "outputs": [
    {
     "name": "stdout",
     "output_type": "stream",
     "text": [
      "\u001b[32mTest passed\u001b[39m 🥇\n",
      "\u001b[32mTest passed\u001b[39m 🥇\n",
      "\u001b[32mTest passed\u001b[39m 😀\n",
      "[1] \"Success!\"\n"
     ]
    }
   ],
   "source": [
    "test_2.8()"
   ]
  },
  {
   "cell_type": "markdown",
   "metadata": {
    "nbgrader": {
     "grade": false,
     "grade_id": "cell-2f242a5fcf503103",
     "locked": true,
     "schema_version": 3,
     "solution": false,
     "task": false
    }
   },
   "source": [
    "**Question 2.9**\n",
    "<br>{points: 1}\n",
    "\n",
    "Assume that we are certain that the sample `sample_1` is unbiased and representative of the population (i.e. we can consider it to be a good estimate of the population). Which of the interpretation **of the interval** (`lower_quantile`, `upper_quantile`) between the two quantiles of the sample distribution is **incorrect**?\n",
    "\n",
    "A. If we picked a random observation from the population, we can estimate that there is approximately a 50% chance that its diameter would fall within the interval (`lower_quantile`, `upper_quantile`).\n",
    "\n",
    "B. Approximately 25% of the diameters of the observations in the sample fall above the value of `upper_quantile`.\n",
    "\n",
    "C. If we draw another random sample and randomly picked an observation, there is approximately a 75% chance that its diameter would fall above the value of `lower_quantile`.\n",
    "\n",
    "D. We can estimate that approximately 25% of the diameters of the observations in the population fall below the value of `lower_quantile`.\n",
    "\n",
    "_Assign your answer to an object called `answer2.9`. Your answer should be a single character surrounded by quotes._"
   ]
  },
  {
   "cell_type": "code",
   "execution_count": 26,
   "metadata": {
    "nbgrader": {
     "grade": false,
     "grade_id": "cell-15bf5fcc9a1caf7a",
     "locked": false,
     "schema_version": 3,
     "solution": true,
     "task": false
    }
   },
   "outputs": [],
   "source": [
    "# answer2.9 <- ...\n",
    "\n",
    "### BEGIN SOLUTION\n",
    "answer2.9 <- \"C\"\n",
    "### END SOLUTION"
   ]
  },
  {
   "cell_type": "code",
   "execution_count": 27,
   "metadata": {
    "nbgrader": {
     "grade": true,
     "grade_id": "cell-05e987f5d1c2ac77",
     "locked": true,
     "points": 1,
     "schema_version": 3,
     "solution": false,
     "task": false
    }
   },
   "outputs": [
    {
     "name": "stdout",
     "output_type": "stream",
     "text": [
      "\u001b[32mTest passed\u001b[39m 🌈\n",
      "\u001b[32mTest passed\u001b[39m 🥇\n",
      "\u001b[32mTest passed\u001b[39m 🎉\n",
      "[1] \"Success!\"\n"
     ]
    }
   ],
   "source": [
    "test_2.9()"
   ]
  },
  {
   "cell_type": "markdown",
   "metadata": {
    "nbgrader": {
     "grade": false,
     "grade_id": "cell-9f27e8a9508261b2",
     "locked": true,
     "schema_version": 3,
     "solution": false,
     "task": false
    }
   },
   "source": [
    "**Question 2.10**\n",
    "<br>{points: 1}\n",
    "\n",
    "Like the previous question, assume that we are certain that the sample `sample_1` is unbiased and representative of the population (i.e. we can consider it to be a good estimate of the population). However, suppose that you calculated the 0.1th quantile for `lower_quantile` and the 0.6th quantile for `upper_quantile` for the sample, instead of the 0.25th and 0.75th quantiles as you did previously.\n",
    "\n",
    "Given the above scenario, would the correctness of the following interpretation of the interval (`lower_quantile`, `upper_quantile`) remain **unchanged**?\n",
    "\n",
    "> If we picked a random observation from the population, we can estimate that there is approximately a 50% chance that it would fall within the interval (`lower_quantile`, `upper_quantile`).\n",
    "\n",
    "_Assign your answer to an object called `answer2.10`. Your answer should be either \"true\" or \"false\", surrounded by quotes._"
   ]
  },
  {
   "cell_type": "code",
   "execution_count": 28,
   "metadata": {
    "nbgrader": {
     "grade": false,
     "grade_id": "cell-7cb07710ff20a77a",
     "locked": false,
     "schema_version": 3,
     "solution": true,
     "task": false
    }
   },
   "outputs": [],
   "source": [
    "# answer2.10 <- ...\n",
    "\n",
    "### BEGIN SOLUTION\n",
    "answer2.10 <- \"true\"\n",
    "### END SOLUTION"
   ]
  },
  {
   "cell_type": "code",
   "execution_count": 29,
   "metadata": {
    "nbgrader": {
     "grade": true,
     "grade_id": "cell-7c17acaaaaafaf03",
     "locked": true,
     "points": 1,
     "schema_version": 3,
     "solution": false,
     "task": false
    }
   },
   "outputs": [
    {
     "name": "stdout",
     "output_type": "stream",
     "text": [
      "\u001b[32mTest passed\u001b[39m 🌈\n",
      "\u001b[32mTest passed\u001b[39m 😀\n",
      "\u001b[32mTest passed\u001b[39m 😀\n",
      "[1] \"Success!\"\n"
     ]
    }
   ],
   "source": [
    "test_2.10()"
   ]
  },
  {
   "cell_type": "markdown",
   "metadata": {
    "nbgrader": {
     "grade": false,
     "grade_id": "cell-d5e11d0ae75cba1a",
     "locked": true,
     "schema_version": 3,
     "solution": false,
     "task": false
    }
   },
   "source": [
    "## 3. Formalizing Confidence Intervals\n",
    "\n",
    "Now that we understand quantiles and how we can interpret them, we can rephrase the vague question of\n",
    "> How many of the bootstrap distributions **reasonably \"cover\"** the true mean of the population?\n",
    "\n",
    "that we encountered at the start of the previous section. Specifically, we could ask something like\n",
    "> Does the interval between the 0.1th and 0.9th quantiles capture the true mean of the population?\n",
    "\n",
    "instead, where the answer does not rely on one's intuition. That interval referenced in the question above is called a **confidence interval**, and in particular, it is called an **80% confidence interval**. One should think of a confidence interval as a **range of plausible** values for the population parameter, which may or may not fall within the interval. This is significantly different than a point estimate, which is a **single plausible value** for the population parameter. A popular analogy used to compare point estimates to confidence intervals is fishing with a spear vs. fishing with a net, respectively.\n",
    "\n",
    "<br>\n",
    "\n",
    "![](https://d33wubrfki0l68.cloudfront.net/45f6d2e16255dbcb42de86336e1e49ef732aa5da/8bcd0/images/shutterstock/point_estimate_vs_conf_int.png)\n",
    "<div style=\"text-align: center\"><i>Image from <a href=\"https://moderndive.com/8-confidence-intervals.html#ci-build-up\">ModernDive (Figure 8.15)</i></a></div><br>\n",
    "With a spear, we are aiming for a particular fish (a single value) and hoping to catch it, whereas with a net, we are aiming for a larger area in space (a range of plausible values) and hoping that the fish is captured in the net."
   ]
  },
  {
   "cell_type": "markdown",
   "metadata": {
    "nbgrader": {
     "grade": false,
     "grade_id": "cell-f79e0d2285a3d223",
     "locked": true,
     "schema_version": 3,
     "solution": false,
     "task": false
    }
   },
   "source": [
    "### Calculating & Visualizing a Single 90% Confidence Interval Using Bootstrapping\n",
    "To get a clearer picture of how we can use quantiles and a bootstrap sampling distribution to calculate a confidence interval, let's calculate one from scratch. Specifically, we'll calculate a single 90% confidence interval for the mean of the `diameter` variable for the population `sunset_pop`. Afterwards, we'll visualize it and compare it to the true mean.\n",
    "> As usual, it is important to note that we do not usually have access to the population parameter of interest; many of these questions are purely for your understanding of confidence intervals. "
   ]
  },
  {
   "cell_type": "markdown",
   "metadata": {
    "nbgrader": {
     "grade": false,
     "grade_id": "cell-e79671482c0c74aa",
     "locked": true,
     "schema_version": 3,
     "solution": false,
     "task": false
    }
   },
   "source": [
    "**Question 3.0** \n",
    "<br> {points: 1}\n",
    "\n",
    "Take a single random sample of size 30 from `sunset_pop` using `rep_sample_n` and a seed of 0120. Ensure the resulting data frame only has a single column: `diameter`. Use the scaffolding provided below as a guide:\n",
    "\n",
    "```r\n",
    "sample_2 <- \n",
    "    sunset_pop %>% \n",
    "    rep_sample_n(reps = ..., size = ..., replace = ...) %>% \n",
    "    ungroup() %>% \n",
    "    select(...)\n",
    "```\n",
    "\n",
    "**Note:** don't forget that `rep_sample_n` returns a grouped data frame.\n",
    "\n",
    "_Assign your data frame to an object called `sample_2`._"
   ]
  },
  {
   "cell_type": "code",
   "execution_count": 30,
   "metadata": {
    "nbgrader": {
     "grade": false,
     "grade_id": "cell-9662bf3faea4b384",
     "locked": false,
     "schema_version": 3,
     "solution": true,
     "task": false
    }
   },
   "outputs": [
    {
     "data": {
      "text/html": [
       "<table class=\"dataframe\">\n",
       "<caption>A tibble: 6 × 1</caption>\n",
       "<thead>\n",
       "\t<tr><th scope=col>diameter</th></tr>\n",
       "\t<tr><th scope=col>&lt;dbl&gt;</th></tr>\n",
       "</thead>\n",
       "<tbody>\n",
       "\t<tr><td> 7.62</td></tr>\n",
       "\t<tr><td>41.91</td></tr>\n",
       "\t<tr><td>66.04</td></tr>\n",
       "\t<tr><td>39.37</td></tr>\n",
       "\t<tr><td> 7.62</td></tr>\n",
       "\t<tr><td>38.10</td></tr>\n",
       "</tbody>\n",
       "</table>\n"
      ],
      "text/latex": [
       "A tibble: 6 × 1\n",
       "\\begin{tabular}{l}\n",
       " diameter\\\\\n",
       " <dbl>\\\\\n",
       "\\hline\n",
       "\t  7.62\\\\\n",
       "\t 41.91\\\\\n",
       "\t 66.04\\\\\n",
       "\t 39.37\\\\\n",
       "\t  7.62\\\\\n",
       "\t 38.10\\\\\n",
       "\\end{tabular}\n"
      ],
      "text/markdown": [
       "\n",
       "A tibble: 6 × 1\n",
       "\n",
       "| diameter &lt;dbl&gt; |\n",
       "|---|\n",
       "|  7.62 |\n",
       "| 41.91 |\n",
       "| 66.04 |\n",
       "| 39.37 |\n",
       "|  7.62 |\n",
       "| 38.10 |\n",
       "\n"
      ],
      "text/plain": [
       "  diameter\n",
       "1  7.62   \n",
       "2 41.91   \n",
       "3 66.04   \n",
       "4 39.37   \n",
       "5  7.62   \n",
       "6 38.10   "
      ]
     },
     "metadata": {},
     "output_type": "display_data"
    }
   ],
   "source": [
    "set.seed(0120) # DO NOT CHANGE!\n",
    "\n",
    "### BEGIN SOLUTION\n",
    "sample_2 <- \n",
    "    sunset_pop %>% \n",
    "    rep_sample_n(reps = 1, size = 30, replace = FALSE) %>% \n",
    "    ungroup() %>% \n",
    "    select(diameter)\n",
    "### END SOLUTION\n",
    "head(sample_2)"
   ]
  },
  {
   "cell_type": "code",
   "execution_count": 31,
   "metadata": {
    "nbgrader": {
     "grade": true,
     "grade_id": "cell-655ca510c6b77ddd",
     "locked": true,
     "points": 1,
     "schema_version": 3,
     "solution": false,
     "task": false
    }
   },
   "outputs": [
    {
     "name": "stdout",
     "output_type": "stream",
     "text": [
      "\u001b[32mTest passed\u001b[39m 😀\n",
      "\u001b[32mTest passed\u001b[39m 😸\n",
      "\u001b[32mTest passed\u001b[39m 😀\n",
      "\u001b[32mTest passed\u001b[39m 🎉\n",
      "\u001b[32mTest passed\u001b[39m 🎊\n",
      "[1] \"Success!\"\n"
     ]
    }
   ],
   "source": [
    "test_3.0()"
   ]
  },
  {
   "cell_type": "markdown",
   "metadata": {
    "nbgrader": {
     "grade": false,
     "grade_id": "cell-c91006d0be04f2ed",
     "locked": true,
     "schema_version": 3,
     "solution": false,
     "task": false
    }
   },
   "source": [
    "**Question 3.1** \n",
    "<br> {points: 1}\n",
    "\n",
    "Generate a bootstrap distribution of sample means from `sample_2` by re-sampling with replacement 1000 times using `rep_sample_n` and a seed of 5127. Then, calculate the mean of each bootstrap sample. Name the new column containing the bootstrap sample means `mean_diameter`, and select only that column. Use the scaffolding provided below as a guide:\n",
    "```r\n",
    "bootstrap_dist <- \n",
    "    sample_2 %>% \n",
    "    rep_sample_n(reps = ..., size = ..., replace = ...) %>% \n",
    "    group_by(...) %>% \n",
    "    ...(mean_diameter = ...(diameter)) %>% \n",
    "    select(mean_diameter)\n",
    "```\n",
    "\n",
    "_Assign your data frame to an object called `bootstrap_dist`._"
   ]
  },
  {
   "cell_type": "code",
   "execution_count": 32,
   "metadata": {
    "nbgrader": {
     "grade": false,
     "grade_id": "cell-3210e119a4b45f52",
     "locked": false,
     "schema_version": 3,
     "solution": true,
     "task": false
    }
   },
   "outputs": [
    {
     "data": {
      "text/html": [
       "<table class=\"dataframe\">\n",
       "<caption>A tibble: 6 × 1</caption>\n",
       "<thead>\n",
       "\t<tr><th scope=col>mean_diameter</th></tr>\n",
       "\t<tr><th scope=col>&lt;dbl&gt;</th></tr>\n",
       "</thead>\n",
       "<tbody>\n",
       "\t<tr><td>31.26317</td></tr>\n",
       "\t<tr><td>24.15117</td></tr>\n",
       "\t<tr><td>31.60183</td></tr>\n",
       "\t<tr><td>20.82800</td></tr>\n",
       "\t<tr><td>19.64267</td></tr>\n",
       "\t<tr><td>26.52183</td></tr>\n",
       "</tbody>\n",
       "</table>\n"
      ],
      "text/latex": [
       "A tibble: 6 × 1\n",
       "\\begin{tabular}{l}\n",
       " mean\\_diameter\\\\\n",
       " <dbl>\\\\\n",
       "\\hline\n",
       "\t 31.26317\\\\\n",
       "\t 24.15117\\\\\n",
       "\t 31.60183\\\\\n",
       "\t 20.82800\\\\\n",
       "\t 19.64267\\\\\n",
       "\t 26.52183\\\\\n",
       "\\end{tabular}\n"
      ],
      "text/markdown": [
       "\n",
       "A tibble: 6 × 1\n",
       "\n",
       "| mean_diameter &lt;dbl&gt; |\n",
       "|---|\n",
       "| 31.26317 |\n",
       "| 24.15117 |\n",
       "| 31.60183 |\n",
       "| 20.82800 |\n",
       "| 19.64267 |\n",
       "| 26.52183 |\n",
       "\n"
      ],
      "text/plain": [
       "  mean_diameter\n",
       "1 31.26317     \n",
       "2 24.15117     \n",
       "3 31.60183     \n",
       "4 20.82800     \n",
       "5 19.64267     \n",
       "6 26.52183     "
      ]
     },
     "metadata": {},
     "output_type": "display_data"
    }
   ],
   "source": [
    "set.seed(5127) # DO NOT CHANGE!\n",
    "\n",
    "### BEGIN SOLUTION\n",
    "bootstrap_dist <- \n",
    "    sample_2 %>% \n",
    "    rep_sample_n(reps = 1000, size = 30, replace = TRUE) %>% \n",
    "    group_by(replicate) %>% \n",
    "    summarize(mean_diameter = mean(diameter)) %>% \n",
    "    select(mean_diameter)\n",
    "### END SOLUTION\n",
    "head(bootstrap_dist)"
   ]
  },
  {
   "cell_type": "code",
   "execution_count": 33,
   "metadata": {
    "nbgrader": {
     "grade": true,
     "grade_id": "cell-468f79ddac80be06",
     "locked": true,
     "points": 1,
     "schema_version": 3,
     "solution": false,
     "task": false
    }
   },
   "outputs": [
    {
     "name": "stdout",
     "output_type": "stream",
     "text": [
      "\u001b[32mTest passed\u001b[39m 🥇\n",
      "\u001b[32mTest passed\u001b[39m 🥇\n",
      "\u001b[32mTest passed\u001b[39m 🎉\n",
      "\u001b[32mTest passed\u001b[39m 🎊\n",
      "\u001b[32mTest passed\u001b[39m 🥳\n",
      "[1] \"Success!\"\n"
     ]
    }
   ],
   "source": [
    "test_3.1()"
   ]
  },
  {
   "cell_type": "markdown",
   "metadata": {
    "nbgrader": {
     "grade": false,
     "grade_id": "cell-c687afc82623f277",
     "locked": true,
     "schema_version": 3,
     "solution": false,
     "task": false
    }
   },
   "source": [
    "**Question 3.2** \n",
    "<br> {points: 1}\n",
    "\n",
    "Calculate the 5th and 95th percentiles of `bootstrap_dist` using the `quantile` and `summarize` functions. Name the column containing the 5th percentile `ci_lower` and the column containing the 95th percentile `ci_upper`. Use the scaffolding provided below as a guide:\n",
    "\n",
    "```r\n",
    "ci <- \n",
    "    bootstrap_dist %>% \n",
    "    ...(ci_lower = quantile(..., 0.05),\n",
    "              ci_upper = ...(mean_diameter, ...))\n",
    "```\n",
    "\n",
    "_Assign your data frame to an object called `ci`._"
   ]
  },
  {
   "cell_type": "code",
   "execution_count": 34,
   "metadata": {
    "nbgrader": {
     "grade": false,
     "grade_id": "cell-5c3ecec57f5961ed",
     "locked": false,
     "schema_version": 3,
     "solution": true,
     "task": false
    }
   },
   "outputs": [
    {
     "data": {
      "text/html": [
       "<table class=\"dataframe\">\n",
       "<caption>A tibble: 1 × 2</caption>\n",
       "<thead>\n",
       "\t<tr><th scope=col>ci_lower</th><th scope=col>ci_upper</th></tr>\n",
       "\t<tr><th scope=col>&lt;dbl&gt;</th><th scope=col>&lt;dbl&gt;</th></tr>\n",
       "</thead>\n",
       "<tbody>\n",
       "\t<tr><td>20.828</td><td>32.28128</td></tr>\n",
       "</tbody>\n",
       "</table>\n"
      ],
      "text/latex": [
       "A tibble: 1 × 2\n",
       "\\begin{tabular}{ll}\n",
       " ci\\_lower & ci\\_upper\\\\\n",
       " <dbl> & <dbl>\\\\\n",
       "\\hline\n",
       "\t 20.828 & 32.28128\\\\\n",
       "\\end{tabular}\n"
      ],
      "text/markdown": [
       "\n",
       "A tibble: 1 × 2\n",
       "\n",
       "| ci_lower &lt;dbl&gt; | ci_upper &lt;dbl&gt; |\n",
       "|---|---|\n",
       "| 20.828 | 32.28128 |\n",
       "\n"
      ],
      "text/plain": [
       "  ci_lower ci_upper\n",
       "1 20.828   32.28128"
      ]
     },
     "metadata": {},
     "output_type": "display_data"
    }
   ],
   "source": [
    "### BEGIN SOLUTION\n",
    "ci <- \n",
    "    bootstrap_dist %>% \n",
    "    summarize(ci_lower = quantile(mean_diameter, 0.05),\n",
    "              ci_upper = quantile(mean_diameter, 0.95))\n",
    "### END SOLUTION\n",
    "head(ci)"
   ]
  },
  {
   "cell_type": "code",
   "execution_count": 35,
   "metadata": {
    "nbgrader": {
     "grade": true,
     "grade_id": "cell-06d2c37656961ba4",
     "locked": true,
     "points": 1,
     "schema_version": 3,
     "solution": false,
     "task": false
    }
   },
   "outputs": [
    {
     "name": "stdout",
     "output_type": "stream",
     "text": [
      "\u001b[32mTest passed\u001b[39m 🌈\n",
      "\u001b[32mTest passed\u001b[39m 🥳\n",
      "\u001b[32mTest passed\u001b[39m 😀\n",
      "\u001b[32mTest passed\u001b[39m 🥳\n",
      "[1] \"Success!\"\n"
     ]
    }
   ],
   "source": [
    "test_3.2()"
   ]
  },
  {
   "cell_type": "markdown",
   "metadata": {
    "nbgrader": {
     "grade": false,
     "grade_id": "cell-49ce2db61cd6187f",
     "locked": true,
     "schema_version": 3,
     "solution": false,
     "task": false
    }
   },
   "source": [
    "**Question 3.3**\n",
    "<br> {points: 1}\n",
    "\n",
    "Plot the confidence interval (represented by a transluscent rectangle) and true mean of the population (represented by a vertical line, generated by `geom_vline`) over the bootstrap distribution `sample_2s` (visualized as a histogram with bin widths of 1, generated by `geom_histogram`). Use the scaffolding provided below as a guide:\n",
    "\n",
    "```r\n",
    "ci_plot <- \n",
    "    ... %>% \n",
    "    ggplot(aes(x = ...)) +\n",
    "    ...(binwidth = ..., colour = \"white\", fill = \"grey\") +\n",
    "    annotate(\"rect\", xmin = ci$ci_lower, xmax = ci$ci_upper, ymin = 0, ymax = Inf,\n",
    "             fill = \"deepskyblue\",\n",
    "             alpha = 0.3) +\n",
    "    geom_vline(xintercept = pop_mean,\n",
    "               size = 2,\n",
    "               colour = \"red\") +\n",
    "    labs(title = \"Bootstrap distribution with 90% confidence interval\",\n",
    "         x = \"Mean tree diameter (cm)\") +\n",
    "    theme_bw() # Sets a theme for better visibility\n",
    "```\n",
    "\n",
    "**Note:** recall that you already calculated the true mean of the population in the and saved it to an object named `pop_mean`. \n",
    "\n",
    "_Assign your plot to an object called `ci_plot`._"
   ]
  },
  {
   "cell_type": "code",
   "execution_count": 36,
   "metadata": {
    "nbgrader": {
     "grade": false,
     "grade_id": "cell-eb29c1f5f79ebd0d",
     "locked": false,
     "schema_version": 3,
     "solution": true,
     "task": false
    }
   },
   "outputs": [
    {
     "data": {
      "image/png": "[encoded data removed]",
      "text/plain": [
       "plot without title"
      ]
     },
     "metadata": {
      "image/png": {
       "height": 480,
       "width": 1200
      }
     },
     "output_type": "display_data"
    }
   ],
   "source": [
    "### BEGIN SOLUTION\n",
    "ci_plot <- \n",
    "    bootstrap_dist %>% \n",
    "    ggplot(aes(x = mean_diameter)) +\n",
    "    geom_histogram(binwidth = 1, colour = \"white\", fill = \"grey\") +\n",
    "    annotate(\"rect\", xmin = ci$ci_lower, xmax = ci$ci_upper, ymin = 0, ymax = Inf,\n",
    "             fill = \"deepskyblue\",\n",
    "             alpha = 0.3) +\n",
    "    geom_vline(xintercept = pop_mean,\n",
    "               size = 2,\n",
    "               colour = \"red\") +\n",
    "    labs(title = \"Bootstrap distribution with 90% confidence interval\",\n",
    "         x = \"Mean tree diameter (cm)\") +\n",
    "    theme_bw()\n",
    "### END SOLUTION\n",
    "\n",
    "ci_plot"
   ]
  },
  {
   "cell_type": "code",
   "execution_count": 37,
   "metadata": {
    "nbgrader": {
     "grade": true,
     "grade_id": "cell-f9895e50fbccccc1",
     "locked": true,
     "points": 1,
     "schema_version": 3,
     "solution": false,
     "task": false
    }
   },
   "outputs": [
    {
     "name": "stdout",
     "output_type": "stream",
     "text": [
      "\u001b[32mTest passed\u001b[39m 🎊\n",
      "\u001b[32mTest passed\u001b[39m 🎊\n",
      "\u001b[32mTest passed\u001b[39m 😀\n",
      "\u001b[32mTest passed\u001b[39m 🎊\n",
      "\u001b[32mTest passed\u001b[39m 😀\n",
      "\u001b[32mTest passed\u001b[39m 😀\n",
      "\u001b[32mTest passed\u001b[39m 😀\n",
      "[1] \"Success!\"\n"
     ]
    }
   ],
   "source": [
    "test_3.3()"
   ]
  },
  {
   "cell_type": "markdown",
   "metadata": {
    "nbgrader": {
     "grade": false,
     "grade_id": "cell-8f5235449d935656",
     "locked": true,
     "schema_version": 3,
     "solution": false,
     "task": false
    }
   },
   "source": [
    "**Question 3.4**\n",
    "<br>{points: 1}\n",
    "\n",
    "True or false?\n",
    "\n",
    "The parameter of interest (the mean diameter of public street trees located in sunset) is captured by the confidence interval that we calculated in **question 3.2** and visualized above.\n",
    "\n",
    "_Assign your answer to an object called `answer3.4`. Your answer should be either \"true\" or \"false\", surrounded by quotes._"
   ]
  },
  {
   "cell_type": "code",
   "execution_count": 38,
   "metadata": {
    "nbgrader": {
     "grade": false,
     "grade_id": "cell-fc39e7ebca011d85",
     "locked": false,
     "schema_version": 3,
     "solution": true,
     "task": false
    }
   },
   "outputs": [],
   "source": [
    "# answer3.4 <- ...\n",
    "\n",
    "### BEGIN SOLUTION\n",
    "answer3.4 <- \"true\"\n",
    "### END SOLUTION"
   ]
  },
  {
   "cell_type": "code",
   "execution_count": 39,
   "metadata": {
    "nbgrader": {
     "grade": true,
     "grade_id": "cell-c3b87542b1ddd91e",
     "locked": true,
     "points": 1,
     "schema_version": 3,
     "solution": false,
     "task": false
    }
   },
   "outputs": [
    {
     "name": "stdout",
     "output_type": "stream",
     "text": [
      "\u001b[32mTest passed\u001b[39m 🥳\n",
      "\u001b[32mTest passed\u001b[39m 🥳\n",
      "\u001b[32mTest passed\u001b[39m 🌈\n",
      "[1] \"Success!\"\n"
     ]
    }
   ],
   "source": [
    "test_3.4()"
   ]
  },
  {
   "cell_type": "markdown",
   "metadata": {
    "nbgrader": {
     "grade": false,
     "grade_id": "cell-5045ad6c08aad93f",
     "locked": true,
     "schema_version": 3,
     "solution": false,
     "task": false
    }
   },
   "source": [
    "### Calculating & Visualizing Many 90% Confidence Intervals Using Bootstrapping\n",
    "How can we interpret a confidence interval when we don't have access to the population parameter (i.e. in reality)? Does our interpretation change as the width of the interval changes? How could we choose the width in the first place? To answer these questions, we're going to produce 100 different 90% confidence intervals to see how they behave. The bulk of the work has already been done for you in the cell below. We took 100 samples of size 30 and used each one to produce an estimate of the sampling distribution using bootstrapping with 1000 repetitions, essentially repeating the procedure you followed at the start of this section 100 times over."
   ]
  },
  {
   "cell_type": "code",
   "execution_count": 40,
   "metadata": {
    "nbgrader": {
     "grade": false,
     "grade_id": "cell-44364736f4a0c09a",
     "locked": true,
     "schema_version": 3,
     "solution": false,
     "task": false
    }
   },
   "outputs": [
    {
     "name": "stderr",
     "output_type": "stream",
     "text": [
      "\u001b[1m\u001b[1mRows: \u001b[1m\u001b[22m\u001b[34m\u001b[34m100000\u001b[34m\u001b[39m \u001b[1m\u001b[1mColumns: \u001b[1m\u001b[22m\u001b[34m\u001b[34m3\u001b[34m\u001b[39m\n",
      "\n",
      "\u001b[36m──\u001b[39m \u001b[1m\u001b[1mColumn specification\u001b[1m\u001b[22m \u001b[36m───────────────────────────────────────────────────────────────────────────────────\u001b[39m\n",
      "\u001b[1mDelimiter:\u001b[22m \",\"\n",
      "\u001b[32mdbl\u001b[39m (3): sample_id, replicate, bootstrap_mean\n",
      "\n",
      "\n",
      "\u001b[36mℹ\u001b[39m Use \u001b[30m\u001b[47m\u001b[30m\u001b[47m`spec()`\u001b[47m\u001b[30m\u001b[49m\u001b[39m to retrieve the full column specification for this data.\n",
      "\u001b[36mℹ\u001b[39m Specify the column types or set \u001b[30m\u001b[47m\u001b[30m\u001b[47m`show_col_types = FALSE`\u001b[47m\u001b[30m\u001b[49m\u001b[39m to quiet this message.\n",
      "\n",
      "\u001b[1m\u001b[1mRows: \u001b[1m\u001b[22m\u001b[34m\u001b[34m30000\u001b[34m\u001b[39m \u001b[1m\u001b[1mColumns: \u001b[1m\u001b[22m\u001b[34m\u001b[34m3\u001b[34m\u001b[39m\n",
      "\n",
      "\u001b[36m──\u001b[39m \u001b[1m\u001b[1mColumn specification\u001b[1m\u001b[22m \u001b[36m───────────────────────────────────────────────────────────────────────────────────\u001b[39m\n",
      "\u001b[1mDelimiter:\u001b[22m \",\"\n",
      "\u001b[32mdbl\u001b[39m (3): sample_id, replicate, diameter\n",
      "\n",
      "\n",
      "\u001b[36mℹ\u001b[39m Use \u001b[30m\u001b[47m\u001b[30m\u001b[47m`spec()`\u001b[47m\u001b[30m\u001b[49m\u001b[39m to retrieve the full column specification for this data.\n",
      "\u001b[36mℹ\u001b[39m Specify the column types or set \u001b[30m\u001b[47m\u001b[30m\u001b[47m`show_col_types = FALSE`\u001b[47m\u001b[30m\u001b[49m\u001b[39m to quiet this message.\n",
      "\n"
     ]
    }
   ],
   "source": [
    "# Run this cell before continuing.\n",
    "sampling_dist_estimates <- read_csv(\"sampling_dist_estimates.csv\")\n",
    "bootstrap_samples <- read_csv(\"bootstrap_samples.csv\")"
   ]
  },
  {
   "cell_type": "markdown",
   "metadata": {
    "nbgrader": {
     "grade": false,
     "grade_id": "cell-e4c194c8f89c4d32",
     "locked": true,
     "schema_version": 3,
     "solution": false,
     "task": false
    }
   },
   "source": [
    "However, here are a few questions to check your understanding of what went on behind the scenes.\n",
    "\n",
    "_Use the following information to answer the **next 3 questions**._\n",
    "\n",
    "Consider the following two data frames:\n",
    "1. `sampling_dist_estimates`: contains 100 estimates of the sampling distribution as 100 different tibbles within the column `bootstrap_mean`. The `sample_id` column ranges from 1 to 100 (since we took 100 samples)\n",
    "2. `bootstrap_samples`: a bootstrap data frame, where `sample_id == 1` for all rows"
   ]
  },
  {
   "cell_type": "code",
   "execution_count": 41,
   "metadata": {
    "nbgrader": {
     "grade": false,
     "grade_id": "cell-050b99444ff299dd",
     "locked": true,
     "schema_version": 3,
     "solution": false,
     "task": false
    }
   },
   "outputs": [
    {
     "name": "stdout",
     "output_type": "stream",
     "text": [
      "\u001b[90m# A tibble: 100,000 × 3\u001b[39m\n",
      "   sample_id replicate bootstrap_mean\n",
      "       \u001b[3m\u001b[90m<dbl>\u001b[39m\u001b[23m     \u001b[3m\u001b[90m<dbl>\u001b[39m\u001b[23m          \u001b[3m\u001b[90m<dbl>\u001b[39m\u001b[23m\n",
      "\u001b[90m 1\u001b[39m         1         1           37.6\n",
      "\u001b[90m 2\u001b[39m         1         2           36.8\n",
      "\u001b[90m 3\u001b[39m         1         3           30.6\n",
      "\u001b[90m 4\u001b[39m         1         4           33.4\n",
      "\u001b[90m 5\u001b[39m         1         5           26.2\n",
      "\u001b[90m 6\u001b[39m         1         6           31.1\n",
      "\u001b[90m 7\u001b[39m         1         7           28.7\n",
      "\u001b[90m 8\u001b[39m         1         8           28.3\n",
      "\u001b[90m 9\u001b[39m         1         9           31.2\n",
      "\u001b[90m10\u001b[39m         1        10           32.5\n",
      "\u001b[90m# … with 99,990 more rows\u001b[39m\n",
      "\u001b[90m# A tibble: 30,000 × 3\u001b[39m\n",
      "   sample_id replicate diameter\n",
      "       \u001b[3m\u001b[90m<dbl>\u001b[39m\u001b[23m     \u001b[3m\u001b[90m<dbl>\u001b[39m\u001b[23m    \u001b[3m\u001b[90m<dbl>\u001b[39m\u001b[23m\n",
      "\u001b[90m 1\u001b[39m         1         1    10.2 \n",
      "\u001b[90m 2\u001b[39m         1         1     7.62\n",
      "\u001b[90m 3\u001b[39m         1         1    27.9 \n",
      "\u001b[90m 4\u001b[39m         1         1    33.0 \n",
      "\u001b[90m 5\u001b[39m         1         1     7.62\n",
      "\u001b[90m 6\u001b[39m         1         1     7.62\n",
      "\u001b[90m 7\u001b[39m         1         1    45.7 \n",
      "\u001b[90m 8\u001b[39m         1         1    45.7 \n",
      "\u001b[90m 9\u001b[39m         1         1    33.0 \n",
      "\u001b[90m10\u001b[39m         1         1    33.0 \n",
      "\u001b[90m# … with 29,990 more rows\u001b[39m\n"
     ]
    }
   ],
   "source": [
    "print(sampling_dist_estimates)\n",
    "print(bootstrap_samples)"
   ]
  },
  {
   "cell_type": "markdown",
   "metadata": {
    "nbgrader": {
     "grade": false,
     "grade_id": "cell-89d9be6420a6b0c2",
     "locked": true,
     "schema_version": 3,
     "solution": false,
     "task": false
    }
   },
   "source": [
    "**Question 3.5**\n",
    "<br>{points: 1}\n",
    "\n",
    "True or false?\n",
    "\n",
    "`bootstrap_samples` contains all of the bootstrap samples that were used to calculate the `bootstrap_mean` variable in `sampling_dist_estimates` for all of the 100 original samples.\n",
    "\n",
    "_Assign your answer to an object called `answer3.5`. Your answer should be either \"true\" or \"false\", surrounded by quotes._"
   ]
  },
  {
   "cell_type": "code",
   "execution_count": 42,
   "metadata": {
    "nbgrader": {
     "grade": false,
     "grade_id": "cell-6119935a39ff6560",
     "locked": false,
     "schema_version": 3,
     "solution": true,
     "task": false
    }
   },
   "outputs": [],
   "source": [
    "# answer3.5 <- ...\n",
    "\n",
    "### BEGIN SOLUTION\n",
    "answer3.5 <- \"false\"\n",
    "### END SOLUTION"
   ]
  },
  {
   "cell_type": "code",
   "execution_count": 43,
   "metadata": {
    "nbgrader": {
     "grade": true,
     "grade_id": "cell-38d43d4c70b0e718",
     "locked": true,
     "points": 1,
     "schema_version": 3,
     "solution": false,
     "task": false
    }
   },
   "outputs": [
    {
     "name": "stdout",
     "output_type": "stream",
     "text": [
      "\u001b[32mTest passed\u001b[39m 😸\n",
      "\u001b[32mTest passed\u001b[39m 🥇\n",
      "\u001b[32mTest passed\u001b[39m 🌈\n",
      "[1] \"Success!\"\n"
     ]
    }
   ],
   "source": [
    "test_3.5()"
   ]
  },
  {
   "cell_type": "markdown",
   "metadata": {
    "nbgrader": {
     "grade": false,
     "grade_id": "cell-00d2e4f54afbf569",
     "locked": true,
     "schema_version": 3,
     "solution": false,
     "task": false
    }
   },
   "source": [
    "**Question 3.6**\n",
    "<br>{points: 1}\n",
    "\n",
    "True or false?\n",
    "\n",
    "Given **only** the `sampling_dist_estimates` data frame, we could produce `bootstrap_samples` data frame.\n",
    "\n",
    "_Assign your answer to an object called `answer3.6`. Your answer should be either \"true\" or \"false\", surrounded by quotes._"
   ]
  },
  {
   "cell_type": "code",
   "execution_count": 44,
   "metadata": {
    "nbgrader": {
     "grade": false,
     "grade_id": "cell-1098ceb1db0279d4",
     "locked": false,
     "schema_version": 3,
     "solution": true,
     "task": false
    }
   },
   "outputs": [],
   "source": [
    "# answer3.6 <- ...\n",
    "\n",
    "### BEGIN SOLUTION\n",
    "answer3.6 <- \"false\"\n",
    "### END SOLUTION"
   ]
  },
  {
   "cell_type": "code",
   "execution_count": 45,
   "metadata": {
    "nbgrader": {
     "grade": true,
     "grade_id": "cell-3368d315642a0ac1",
     "locked": true,
     "points": 1,
     "schema_version": 3,
     "solution": false,
     "task": false
    }
   },
   "outputs": [
    {
     "name": "stdout",
     "output_type": "stream",
     "text": [
      "\u001b[32mTest passed\u001b[39m 😸\n",
      "\u001b[32mTest passed\u001b[39m 🌈\n",
      "\u001b[32mTest passed\u001b[39m 😀\n",
      "[1] \"Success!\"\n"
     ]
    }
   ],
   "source": [
    "test_3.6()"
   ]
  },
  {
   "cell_type": "markdown",
   "metadata": {
    "nbgrader": {
     "grade": false,
     "grade_id": "cell-adfe76c5059f0f22",
     "locked": true,
     "schema_version": 3,
     "solution": false,
     "task": false
    }
   },
   "source": [
    "**Question 3.7** \n",
    "<br> {points: 1}\n",
    "\n",
    "Use `bootstrap_samples` to re-create the bootstrap distribution from `sampling_dist_estimates` that was generated using `sample_id == 1`. Your resulting data frame should have two columns: `replicate` and `bootstrap_mean`.\n",
    "\n",
    "_Assign your data frame to an object called `sampling_dist_estimate`._"
   ]
  },
  {
   "cell_type": "code",
   "execution_count": 46,
   "metadata": {
    "nbgrader": {
     "grade": false,
     "grade_id": "cell-42da114f25e415ff",
     "locked": false,
     "schema_version": 3,
     "solution": true,
     "task": false
    }
   },
   "outputs": [
    {
     "name": "stdout",
     "output_type": "stream",
     "text": [
      "\u001b[90m# A tibble: 1,000 × 2\u001b[39m\n",
      "   replicate bootstrap_mean\n",
      "       \u001b[3m\u001b[90m<dbl>\u001b[39m\u001b[23m          \u001b[3m\u001b[90m<dbl>\u001b[39m\u001b[23m\n",
      "\u001b[90m 1\u001b[39m         1           37.6\n",
      "\u001b[90m 2\u001b[39m         2           36.8\n",
      "\u001b[90m 3\u001b[39m         3           30.6\n",
      "\u001b[90m 4\u001b[39m         4           33.4\n",
      "\u001b[90m 5\u001b[39m         5           26.2\n",
      "\u001b[90m 6\u001b[39m         6           31.1\n",
      "\u001b[90m 7\u001b[39m         7           28.7\n",
      "\u001b[90m 8\u001b[39m         8           28.3\n",
      "\u001b[90m 9\u001b[39m         9           31.2\n",
      "\u001b[90m10\u001b[39m        10           32.5\n",
      "\u001b[90m# … with 990 more rows\u001b[39m\n"
     ]
    }
   ],
   "source": [
    "### BEGIN SOLUTION\n",
    "sampling_dist_estimate <- \n",
    "    bootstrap_samples %>% \n",
    "    group_by(replicate) %>% \n",
    "    summarize(bootstrap_mean = mean(diameter))\n",
    "### END SOLUTION\n",
    "\n",
    "print(sampling_dist_estimate)"
   ]
  },
  {
   "cell_type": "code",
   "execution_count": 47,
   "metadata": {
    "nbgrader": {
     "grade": true,
     "grade_id": "cell-f5c211ade1be51d0",
     "locked": true,
     "points": 1,
     "schema_version": 3,
     "solution": false,
     "task": false
    }
   },
   "outputs": [
    {
     "name": "stdout",
     "output_type": "stream",
     "text": [
      "\u001b[32mTest passed\u001b[39m 😸\n",
      "\u001b[32mTest passed\u001b[39m 🎉\n",
      "\u001b[32mTest passed\u001b[39m 🥇\n",
      "\u001b[32mTest passed\u001b[39m 🎊\n",
      "\u001b[32mTest passed\u001b[39m 🥳\n",
      "[1] \"Success!\"\n"
     ]
    }
   ],
   "source": [
    "test_3.7()"
   ]
  },
  {
   "cell_type": "markdown",
   "metadata": {
    "nbgrader": {
     "grade": false,
     "grade_id": "cell-cc5f6279584f2648",
     "locked": true,
     "schema_version": 3,
     "solution": false,
     "task": false
    }
   },
   "source": [
    "**Question 3.8** \n",
    "<br> {points: 1}\n",
    "\n",
    "Now that we understand where `sampling_dist_estimates` came from, calculate a 90% confidence interval from each bootstrap distribution using the 0.05th and 0.95th quantiles. Use the scaffolding provided below as a guide:\n",
    "\n",
    "```r\n",
    "intervals <- \n",
    "    sampling_dist_estimates %>% \n",
    "    ...(...) %>% \n",
    "    summarize(ci_lower = ...(bootstrap_mean, ...),\n",
    "              ci_upper = ...(..., ...))\n",
    "```\n",
    "\n",
    "**Hint:** The procedure is very similar to **question 3.2**, but with one extra step.\n",
    "\n",
    "_Assign your data frame to an object called `intervals`._"
   ]
  },
  {
   "cell_type": "code",
   "execution_count": 48,
   "metadata": {
    "nbgrader": {
     "grade": false,
     "grade_id": "cell-cfcd85d8fdffd524",
     "locked": false,
     "schema_version": 3,
     "solution": true,
     "task": false
    }
   },
   "outputs": [
    {
     "name": "stdout",
     "output_type": "stream",
     "text": [
      "\u001b[90m# A tibble: 100 × 3\u001b[39m\n",
      "   sample_id ci_lower ci_upper\n",
      "       \u001b[3m\u001b[90m<dbl>\u001b[39m\u001b[23m    \u001b[3m\u001b[90m<dbl>\u001b[39m\u001b[23m    \u001b[3m\u001b[90m<dbl>\u001b[39m\u001b[23m\n",
      "\u001b[90m 1\u001b[39m         1     26.9     40.2\n",
      "\u001b[90m 2\u001b[39m         2     21.1     31.2\n",
      "\u001b[90m 3\u001b[39m         3     16.5     28.4\n",
      "\u001b[90m 4\u001b[39m         4     21.7     34.1\n",
      "\u001b[90m 5\u001b[39m         5     17.5     27.8\n",
      "\u001b[90m 6\u001b[39m         6     22.7     38.4\n",
      "\u001b[90m 7\u001b[39m         7     22.9     37.8\n",
      "\u001b[90m 8\u001b[39m         8     18.5     28.5\n",
      "\u001b[90m 9\u001b[39m         9     24.6     36.2\n",
      "\u001b[90m10\u001b[39m        10     16.3     27.9\n",
      "\u001b[90m# … with 90 more rows\u001b[39m\n"
     ]
    }
   ],
   "source": [
    "### BEGIN SOLUTION\n",
    "intervals <- \n",
    "    sampling_dist_estimates %>% \n",
    "    group_by(sample_id) %>% \n",
    "    summarize(ci_lower = quantile(bootstrap_mean, 0.05),\n",
    "              ci_upper = quantile(bootstrap_mean, 0.95))\n",
    "### END SOLUTION\n",
    "\n",
    "print(intervals)"
   ]
  },
  {
   "cell_type": "code",
   "execution_count": 49,
   "metadata": {
    "nbgrader": {
     "grade": true,
     "grade_id": "cell-d2e624405bcd8f41",
     "locked": true,
     "points": 1,
     "schema_version": 3,
     "solution": false,
     "task": false
    }
   },
   "outputs": [
    {
     "name": "stdout",
     "output_type": "stream",
     "text": [
      "\u001b[32mTest passed\u001b[39m 🥳\n",
      "\u001b[32mTest passed\u001b[39m 😸\n",
      "\u001b[32mTest passed\u001b[39m 🥳\n",
      "\u001b[32mTest passed\u001b[39m 🎊\n",
      "\u001b[32mTest passed\u001b[39m 🥇\n",
      "[1] \"Success!\"\n"
     ]
    }
   ],
   "source": [
    "test_3.8()"
   ]
  },
  {
   "cell_type": "markdown",
   "metadata": {
    "nbgrader": {
     "grade": false,
     "grade_id": "cell-d62749d5f278136a",
     "locked": true,
     "schema_version": 3,
     "solution": false,
     "task": false
    }
   },
   "source": [
    "**Question 3.9** \n",
    "<br> {points: 1}\n",
    "\n",
    "Add a variable named `captured` to `intervals` that indicates whether the confidence interval described in that row captures the true mean (`pop_mean`). If the true mean is captured, `captured` should be `TRUE`, otherwise it should be `FALSE`. Use the scaffolding provided below as a guide:\n",
    "\n",
    "```r\n",
    "intervals_captured <- \n",
    "    intervals %>% \n",
    "    mutate(captured = (ci_lower <= ... & pop_mean <= ...))\n",
    "```\n",
    "\n",
    "_Assign your answer to an object called `intervals_captured`. Your answer should be a single number._"
   ]
  },
  {
   "cell_type": "code",
   "execution_count": 50,
   "metadata": {
    "nbgrader": {
     "grade": false,
     "grade_id": "cell-f04e9dff8487a991",
     "locked": false,
     "schema_version": 3,
     "solution": true,
     "task": false
    }
   },
   "outputs": [
    {
     "data": {
      "text/html": [
       "<table class=\"dataframe\">\n",
       "<caption>A tibble: 6 × 4</caption>\n",
       "<thead>\n",
       "\t<tr><th scope=col>sample_id</th><th scope=col>ci_lower</th><th scope=col>ci_upper</th><th scope=col>captured</th></tr>\n",
       "\t<tr><th scope=col>&lt;dbl&gt;</th><th scope=col>&lt;dbl&gt;</th><th scope=col>&lt;dbl&gt;</th><th scope=col>&lt;lgl&gt;</th></tr>\n",
       "</thead>\n",
       "<tbody>\n",
       "\t<tr><td>1</td><td>26.90283</td><td>40.20079</td><td>TRUE</td></tr>\n",
       "\t<tr><td>2</td><td>21.08094</td><td>31.24306</td><td>TRUE</td></tr>\n",
       "\t<tr><td>3</td><td>16.46661</td><td>28.39297</td><td>TRUE</td></tr>\n",
       "\t<tr><td>4</td><td>21.67149</td><td>34.10162</td><td>TRUE</td></tr>\n",
       "\t<tr><td>5</td><td>17.50166</td><td>27.79501</td><td>TRUE</td></tr>\n",
       "\t<tr><td>6</td><td>22.66738</td><td>38.40162</td><td>TRUE</td></tr>\n",
       "</tbody>\n",
       "</table>\n"
      ],
      "text/latex": [
       "A tibble: 6 × 4\n",
       "\\begin{tabular}{llll}\n",
       " sample\\_id & ci\\_lower & ci\\_upper & captured\\\\\n",
       " <dbl> & <dbl> & <dbl> & <lgl>\\\\\n",
       "\\hline\n",
       "\t 1 & 26.90283 & 40.20079 & TRUE\\\\\n",
       "\t 2 & 21.08094 & 31.24306 & TRUE\\\\\n",
       "\t 3 & 16.46661 & 28.39297 & TRUE\\\\\n",
       "\t 4 & 21.67149 & 34.10162 & TRUE\\\\\n",
       "\t 5 & 17.50166 & 27.79501 & TRUE\\\\\n",
       "\t 6 & 22.66738 & 38.40162 & TRUE\\\\\n",
       "\\end{tabular}\n"
      ],
      "text/markdown": [
       "\n",
       "A tibble: 6 × 4\n",
       "\n",
       "| sample_id &lt;dbl&gt; | ci_lower &lt;dbl&gt; | ci_upper &lt;dbl&gt; | captured &lt;lgl&gt; |\n",
       "|---|---|---|---|\n",
       "| 1 | 26.90283 | 40.20079 | TRUE |\n",
       "| 2 | 21.08094 | 31.24306 | TRUE |\n",
       "| 3 | 16.46661 | 28.39297 | TRUE |\n",
       "| 4 | 21.67149 | 34.10162 | TRUE |\n",
       "| 5 | 17.50166 | 27.79501 | TRUE |\n",
       "| 6 | 22.66738 | 38.40162 | TRUE |\n",
       "\n"
      ],
      "text/plain": [
       "  sample_id ci_lower ci_upper captured\n",
       "1 1         26.90283 40.20079 TRUE    \n",
       "2 2         21.08094 31.24306 TRUE    \n",
       "3 3         16.46661 28.39297 TRUE    \n",
       "4 4         21.67149 34.10162 TRUE    \n",
       "5 5         17.50166 27.79501 TRUE    \n",
       "6 6         22.66738 38.40162 TRUE    "
      ]
     },
     "metadata": {},
     "output_type": "display_data"
    }
   ],
   "source": [
    "### BEGIN SOLUTION\n",
    "intervals_captured <- \n",
    "    intervals %>% \n",
    "    mutate(captured = (ci_lower <= pop_mean & pop_mean <= ci_upper))\n",
    "### END SOLUTION\n",
    "head(intervals_captured)"
   ]
  },
  {
   "cell_type": "code",
   "execution_count": 51,
   "metadata": {
    "nbgrader": {
     "grade": true,
     "grade_id": "cell-84b7cebc8e7d4385",
     "locked": true,
     "points": 1,
     "schema_version": 3,
     "solution": false,
     "task": false
    }
   },
   "outputs": [
    {
     "name": "stdout",
     "output_type": "stream",
     "text": [
      "\u001b[32mTest passed\u001b[39m 🌈\n",
      "\u001b[32mTest passed\u001b[39m 😀\n",
      "\u001b[32mTest passed\u001b[39m 🥳\n",
      "\u001b[32mTest passed\u001b[39m 😸\n",
      "\u001b[32mTest passed\u001b[39m 😸\n",
      "[1] \"Success!\"\n"
     ]
    }
   ],
   "source": [
    "test_3.9()"
   ]
  },
  {
   "cell_type": "markdown",
   "metadata": {
    "nbgrader": {
     "grade": false,
     "grade_id": "cell-5cc314f8a903e16d",
     "locked": true,
     "schema_version": 3,
     "solution": false,
     "task": false
    }
   },
   "source": [
    "**Question 3.10**\n",
    "<br> {points: 1}\n",
    "\n",
    "Visualize all 100 confidence intervals. Each interval is represented by a horizontal line (`geom_segment`) and is coloured depending on whether it captures the true mean of the population, which is represented as a vertical line (`geom_vline`). The ID of the sample should be on the y-axis. Use the scaffolding provided below as a guide:\n",
    "\n",
    "```r\n",
    "many_ci_plot <- \n",
    "    ... %>%\n",
    "    ggplot() +\n",
    "    scale_colour_manual(breaks = c(\"TRUE\", \"FALSE\"), # Change colour scale for better visibility.\n",
    "                        values = c(\"grey\", \"black\")) +\n",
    "    ...(aes(x = ...,\n",
    "                     xend = ...,\n",
    "                     y = sample_id,\n",
    "                     yend = sample_id,\n",
    "                     colour = ...)) +\n",
    "    ...(xintercept = ..., colour = \"red\", size = 1) +\n",
    "    labs(title = \"100 90% Confidence Intervals\",\n",
    "         y = \"Sample ID\",\n",
    "         x = \"Diameter (cm)\",\n",
    "         colour = \"Captured?\") +\n",
    "    theme_bw() # Sets a theme for better visibility.\n",
    "```\n",
    "\n",
    "_Assign your plot to an object called `many_ci_plot`._"
   ]
  },
  {
   "cell_type": "code",
   "execution_count": 52,
   "metadata": {
    "nbgrader": {
     "grade": false,
     "grade_id": "cell-5e4348b127e03245",
     "locked": false,
     "schema_version": 3,
     "solution": true,
     "task": false
    }
   },
   "outputs": [
    {
     "data": {
      "image/png": "[encoded data removed]",
      "text/plain": [
       "plot without title"
      ]
     },
     "metadata": {
      "image/png": {
       "height": 360,
       "width": 300
      }
     },
     "output_type": "display_data"
    }
   ],
   "source": [
    "options(repr.plot.width = 5, repr.plot.height = 6)\n",
    "\n",
    "### BEGIN SOLUTION\n",
    "many_ci_plot <- \n",
    "    intervals_captured %>%\n",
    "    ggplot() +\n",
    "    scale_colour_manual(breaks = c(\"TRUE\", \"FALSE\"), # Change colour scale for better visibility.\n",
    "                        values = c(\"grey\", \"black\")) +\n",
    "    geom_segment(aes(x = ci_lower,\n",
    "                     xend = ci_upper,\n",
    "                     y = sample_id,\n",
    "                     yend = sample_id,\n",
    "                     colour = captured)) +\n",
    "    geom_vline(xintercept = pop_mean, colour = \"red\", size = 1) +\n",
    "    labs(title = \"100 90% Confidence Intervals\",\n",
    "         y = \"Sample ID\",\n",
    "         colour = \"Captured?\") +\n",
    "    theme_bw() # Sets a theme for better visibility.\n",
    "### END SOLUTION\n",
    "\n",
    "many_ci_plot"
   ]
  },
  {
   "cell_type": "code",
   "execution_count": 53,
   "metadata": {
    "nbgrader": {
     "grade": true,
     "grade_id": "cell-2d43ad356138ddbc",
     "locked": true,
     "points": 1,
     "schema_version": 3,
     "solution": false,
     "task": false
    }
   },
   "outputs": [
    {
     "name": "stdout",
     "output_type": "stream",
     "text": [
      "\u001b[32mTest passed\u001b[39m 🥇\n",
      "\u001b[32mTest passed\u001b[39m 🥳\n",
      "\u001b[32mTest passed\u001b[39m 😸\n",
      "\u001b[32mTest passed\u001b[39m 🎊\n",
      "\u001b[32mTest passed\u001b[39m 😸\n",
      "\u001b[32mTest passed\u001b[39m 🥇\n",
      "[1] \"Success!\"\n"
     ]
    }
   ],
   "source": [
    "test_3.10()"
   ]
  },
  {
   "cell_type": "markdown",
   "metadata": {
    "nbgrader": {
     "grade": false,
     "grade_id": "cell-b42b0e3fe75aa077",
     "locked": true,
     "schema_version": 3,
     "solution": false,
     "task": false
    }
   },
   "source": [
    "**Question 3.11**\n",
    "<br>{points: 1}\n",
    "\n",
    "Using the plot above, how many of the 100 confidence intervals \"capture\" the true mean of the population?\n",
    "\n",
    "_Assign your answer to an object called `answer3.11`. Your answer should be a single integer._"
   ]
  },
  {
   "cell_type": "code",
   "execution_count": 54,
   "metadata": {
    "nbgrader": {
     "grade": false,
     "grade_id": "cell-8f63c686e8f83932",
     "locked": false,
     "schema_version": 3,
     "solution": true,
     "task": false
    }
   },
   "outputs": [],
   "source": [
    "# answer3.11 <- ...\n",
    "\n",
    "### BEGIN SOLUTION\n",
    "answer3.11 <- 89\n",
    "### END SOLUTION"
   ]
  },
  {
   "cell_type": "code",
   "execution_count": 55,
   "metadata": {
    "nbgrader": {
     "grade": true,
     "grade_id": "cell-21fc9714f214f663",
     "locked": true,
     "points": 1,
     "schema_version": 3,
     "solution": false,
     "task": false
    }
   },
   "outputs": [
    {
     "name": "stdout",
     "output_type": "stream",
     "text": [
      "\u001b[32mTest passed\u001b[39m 🎉\n",
      "\u001b[32mTest passed\u001b[39m 🌈\n",
      "\u001b[32mTest passed\u001b[39m 🌈\n",
      "\u001b[32mTest passed\u001b[39m 🌈\n",
      "[1] \"Success!\"\n"
     ]
    }
   ],
   "source": [
    "test_3.11()"
   ]
  },
  {
   "cell_type": "markdown",
   "metadata": {
    "nbgrader": {
     "grade": false,
     "grade_id": "cell-1a3b8516cd23c692",
     "locked": true,
     "schema_version": 3,
     "solution": false,
     "task": false
    }
   },
   "source": [
    "**Question 3.12**\n",
    "<br>{points: 1}\n",
    "\n",
    "If we repeated the above experiment, but with 1000 different 90% confidence intervals instead of 100, how many of the intervals would you **expect** to capture the true mean of the population?\n",
    "\n",
    "_Assign your answer to an object called `answer3.12`. Your answer should be a single integer._"
   ]
  },
  {
   "cell_type": "code",
   "execution_count": 56,
   "metadata": {
    "nbgrader": {
     "grade": false,
     "grade_id": "cell-bb9290a90cf1a962",
     "locked": false,
     "schema_version": 3,
     "solution": true,
     "task": false
    }
   },
   "outputs": [],
   "source": [
    "# answer3.12 <- ...\n",
    "\n",
    "### BEGIN SOLUTION\n",
    "answer3.12 <- 900\n",
    "### END SOLUTION"
   ]
  },
  {
   "cell_type": "code",
   "execution_count": 57,
   "metadata": {
    "nbgrader": {
     "grade": true,
     "grade_id": "cell-a82f209ebd0dc15e",
     "locked": true,
     "points": 1,
     "schema_version": 3,
     "solution": false,
     "task": false
    }
   },
   "outputs": [
    {
     "name": "stdout",
     "output_type": "stream",
     "text": [
      "\u001b[32mTest passed\u001b[39m 🌈\n",
      "\u001b[32mTest passed\u001b[39m 🌈\n",
      "\u001b[32mTest passed\u001b[39m 🥇\n",
      "\u001b[32mTest passed\u001b[39m 😸\n",
      "[1] \"Success!\"\n"
     ]
    }
   ],
   "source": [
    "test_3.12()"
   ]
  },
  {
   "cell_type": "markdown",
   "metadata": {
    "nbgrader": {
     "grade": false,
     "grade_id": "cell-8b120440dfa4831f",
     "locked": true,
     "schema_version": 3,
     "solution": false,
     "task": false
    }
   },
   "source": [
    "**Question 3.13**\n",
    "<br>{points: 1}\n",
    "\n",
    "Suppose you **did not** have data for the entire population of public street trees in Sunset. Consider a single **90% confidence interval** that you calculated using by bootstrapping a single sample of size $n$.\n",
    "\n",
    "True or false?\n",
    "\n",
    "We can interpret the confidence interval as: we are 90% confident that the true mean is captured by the interval. Or, in other words, across all 90% confidence intervals that could be calculated for the mean of the population of interest, we can expect that 90% of the intervals contain the true mean. \n",
    "\n",
    "_Assign your answer to an object called `answer3.13`. Your answer should be either \"true\" or \"false\", surrounded by quotes._"
   ]
  },
  {
   "cell_type": "code",
   "execution_count": 58,
   "metadata": {
    "nbgrader": {
     "grade": false,
     "grade_id": "cell-88e21c6567e30d81",
     "locked": false,
     "schema_version": 3,
     "solution": true,
     "task": false
    }
   },
   "outputs": [],
   "source": [
    "# answer3.13 <- ...\n",
    "\n",
    "### BEGIN SOLUTION\n",
    "answer3.13 <- \"true\"\n",
    "### END SOLUTION"
   ]
  },
  {
   "cell_type": "code",
   "execution_count": 59,
   "metadata": {
    "nbgrader": {
     "grade": true,
     "grade_id": "cell-db5f3330adee8e77",
     "locked": true,
     "points": 1,
     "schema_version": 3,
     "solution": false,
     "task": false
    }
   },
   "outputs": [
    {
     "name": "stdout",
     "output_type": "stream",
     "text": [
      "\u001b[32mTest passed\u001b[39m 🥳\n",
      "\u001b[32mTest passed\u001b[39m 😸\n",
      "\u001b[32mTest passed\u001b[39m 🌈\n",
      "[1] \"Success!\"\n"
     ]
    }
   ],
   "source": [
    "test_3.13()"
   ]
  },
  {
   "cell_type": "markdown",
   "metadata": {
    "nbgrader": {
     "grade": false,
     "grade_id": "cell-efa920c654bbd2a6",
     "locked": true,
     "schema_version": 3,
     "solution": false,
     "task": false
    }
   },
   "source": [
    "## 4. Conclusion\n",
    "Here are a few more questions that target some of the nuances related to confidence intervals."
   ]
  },
  {
   "cell_type": "markdown",
   "metadata": {
    "nbgrader": {
     "grade": false,
     "grade_id": "cell-c2dd7916ef433d4c",
     "locked": true,
     "schema_version": 3,
     "solution": false,
     "task": false
    }
   },
   "source": [
    "**Question 4.0**\n",
    "<br>{points: 1}\n",
    "\n",
    "Suppose you **did not** have access to data for the entire population of public street trees in Sunset. Assume you took a single sample of size 75 and used bootstrapping to calculate a 95% confidence interval for the **standard deviation** of the diameter of the population, which turned out to be\n",
    "> (12.52cm, 22.33cm)\n",
    "\n",
    "True or false?\n",
    "\n",
    "There is a 95% chance that the true standard deviation of the diameter of the population of public street trees in Sunset will fall within this interval.\n",
    "\n",
    "_Assign your answer to an object called `answer4.0`. Your answer should be either \"true\" or \"false\", surrounded by quotes._"
   ]
  },
  {
   "cell_type": "code",
   "execution_count": 60,
   "metadata": {
    "nbgrader": {
     "grade": false,
     "grade_id": "cell-e8d058e353ab4f72",
     "locked": false,
     "schema_version": 3,
     "solution": true,
     "task": false
    }
   },
   "outputs": [],
   "source": [
    "# answer4.0 <- ...\n",
    "\n",
    "### BEGIN SOLUTION\n",
    "answer4.0 <- \"false\"\n",
    "### END SOLUTION"
   ]
  },
  {
   "cell_type": "code",
   "execution_count": 61,
   "metadata": {
    "nbgrader": {
     "grade": true,
     "grade_id": "cell-bbd47776f99243d4",
     "locked": true,
     "points": 1,
     "schema_version": 3,
     "solution": false,
     "task": false
    }
   },
   "outputs": [
    {
     "name": "stdout",
     "output_type": "stream",
     "text": [
      "\u001b[32mTest passed\u001b[39m 🌈\n",
      "\u001b[32mTest passed\u001b[39m 🥳\n",
      "\u001b[32mTest passed\u001b[39m 😀\n",
      "[1] \"Success!\"\n"
     ]
    }
   ],
   "source": [
    "test_4.0()"
   ]
  },
  {
   "cell_type": "markdown",
   "metadata": {
    "nbgrader": {
     "grade": false,
     "grade_id": "cell-0a22a20c35a80f51",
     "locked": true,
     "schema_version": 3,
     "solution": false,
     "task": false
    }
   },
   "source": [
    "**Question 4.1**\n",
    "<br>{points: 1}\n",
    "\n",
    "Suppose you were interested in calculating a 90% confidence interval for the **true proportion** of UBC students who lived on campus during their first year. Which of the following can be considered as \"random\"?\n",
    "\n",
    "A. The true proportion of the population of interest.\n",
    "\n",
    "B. The lower bound of a 99% confidence interval for the proportion of the population of interest.\n",
    "\n",
    "C. The upper bound of a 99% confidence interval for the proportion of the population of interest.\n",
    "\n",
    "D. A confidence interval of (0.44, 0.82) that you calculated by taking a sample of size 50 from the population of UBC students.\n",
    "\n",
    "E. All of the above.\n",
    "\n",
    "F. Only A, B, and C.\n",
    "\n",
    "G. Only B, C, and D.\n",
    "\n",
    "H. Only A and D.\n",
    "\n",
    "I. Only B and C.\n",
    "\n",
    "_Assign your answer to an object called `answer4.1`. Your answer should be a single character surrounded by quotes._"
   ]
  },
  {
   "cell_type": "code",
   "execution_count": 62,
   "metadata": {
    "nbgrader": {
     "grade": false,
     "grade_id": "cell-0f3aa2532492f4c5",
     "locked": false,
     "schema_version": 3,
     "solution": true,
     "task": false
    }
   },
   "outputs": [],
   "source": [
    "# answer4.1 <- ...\n",
    "\n",
    "### BEGIN SOLUTION\n",
    "answer4.1 <- \"I\"\n",
    "### END SOLUTION"
   ]
  },
  {
   "cell_type": "code",
   "execution_count": 63,
   "metadata": {
    "nbgrader": {
     "grade": true,
     "grade_id": "cell-2def133d8fcf3278",
     "locked": true,
     "points": 1,
     "schema_version": 3,
     "solution": false,
     "task": false
    }
   },
   "outputs": [
    {
     "name": "stdout",
     "output_type": "stream",
     "text": [
      "\u001b[32mTest passed\u001b[39m 🎊\n",
      "\u001b[32mTest passed\u001b[39m 😸\n",
      "\u001b[32mTest passed\u001b[39m 🥇\n",
      "[1] \"Success!\"\n"
     ]
    }
   ],
   "source": [
    "test_4.1()"
   ]
  },
  {
   "cell_type": "markdown",
   "metadata": {
    "nbgrader": {
     "grade": false,
     "grade_id": "cell-f5e68ef10f101d6c",
     "locked": true,
     "schema_version": 3,
     "solution": false,
     "task": false
    }
   },
   "source": [
    "**Question 4.2**\n",
    "<br>{points: 1}\n",
    "\n",
    "Suppose you calculated two 50% confidence intervals for the mean of the number of years that it takes a UBC student to complete their undergraduate degree using bootstrapping. For the first confidence interval, you used the 0.1th and 0.6th quantiles, and for the second, you used the 0.25th and 0.75th quantiles.\n",
    "\n",
    "True or false?\n",
    "\n",
    "Both confidence intervals are valid **and** they can be interpretted in the same way.\n",
    "\n",
    "_Assign your answer to an object called `answer4.2`. Your answer should be either \"true\" or \"false\", surrounded by quotes._"
   ]
  },
  {
   "cell_type": "code",
   "execution_count": 64,
   "metadata": {
    "nbgrader": {
     "grade": false,
     "grade_id": "cell-2d10c846379de836",
     "locked": false,
     "schema_version": 3,
     "solution": true,
     "task": false
    }
   },
   "outputs": [],
   "source": [
    "# answer4.2 <- ...\n",
    "\n",
    "### BEGIN SOLUTION\n",
    "answer4.2 <- \"true\"\n",
    "### END SOLUTION"
   ]
  },
  {
   "cell_type": "code",
   "execution_count": 65,
   "metadata": {
    "nbgrader": {
     "grade": true,
     "grade_id": "cell-957569e757b313b3",
     "locked": true,
     "points": 1,
     "schema_version": 3,
     "solution": false,
     "task": false
    }
   },
   "outputs": [
    {
     "name": "stdout",
     "output_type": "stream",
     "text": [
      "\u001b[32mTest passed\u001b[39m 🎊\n",
      "\u001b[32mTest passed\u001b[39m 😸\n",
      "\u001b[32mTest passed\u001b[39m 🥳\n",
      "[1] \"Success!\"\n"
     ]
    }
   ],
   "source": [
    "test_4.2()"
   ]
  },
  {
   "cell_type": "markdown",
   "metadata": {
    "nbgrader": {
     "grade": false,
     "grade_id": "cell-df732433c2fb284d",
     "locked": true,
     "schema_version": 3,
     "solution": false,
     "task": false
    }
   },
   "source": [
    "**Question 4.3**\n",
    "<br>{points: 1}\n",
    "\n",
    "Consider the following (**impossible**) scenario:\n",
    "\n",
    "> Congratulations! You've just made a statistical breakthrough and found a way to access the true sampling distribution for any population using only a single sample! There is no need for bootstrapping anymore, as you can determine the true sampling distribution directly.\n",
    "> \n",
    "> However, you're still unable to work out the population parameter you are interested in. So, you decide to use the 0.1th and 0.9th quantiles of true sampling distribution to formulate a confidence interval for the population parameter.\n",
    "\n",
    "What confidence level is **most likely** to be associated with this confidence interval that you calculated in the scenario above?\n",
    "\n",
    "A. 0%\n",
    "\n",
    "B. 50%\n",
    "\n",
    "C. 80%\n",
    "\n",
    "D. 100%\n",
    "\n",
    "_Assign your answer to an object called `answer4.3`. Your answer should be a single character surrounded by quotes._"
   ]
  },
  {
   "cell_type": "code",
   "execution_count": 66,
   "metadata": {
    "nbgrader": {
     "grade": false,
     "grade_id": "cell-9d1f6cfbbe4c3ce5",
     "locked": false,
     "schema_version": 3,
     "solution": true,
     "task": false
    }
   },
   "outputs": [],
   "source": [
    "# answer4.3 <- ...\n",
    "\n",
    "### BEGIN SOLUTION\n",
    "answer4.3 <- \"D\"\n",
    "### END SOLUTION"
   ]
  },
  {
   "cell_type": "code",
   "execution_count": 67,
   "metadata": {
    "nbgrader": {
     "grade": true,
     "grade_id": "cell-fd193800f5a81b99",
     "locked": true,
     "points": 1,
     "schema_version": 3,
     "solution": false,
     "task": false
    }
   },
   "outputs": [
    {
     "name": "stdout",
     "output_type": "stream",
     "text": [
      "\u001b[32mTest passed\u001b[39m 🎊\n",
      "\u001b[32mTest passed\u001b[39m 🎉\n",
      "\u001b[32mTest passed\u001b[39m 😸\n",
      "[1] \"Success!\"\n"
     ]
    }
   ],
   "source": [
    "test_4.3()"
   ]
  }
 ],
 "metadata": {
  "celltoolbar": "Create Assignment",
  "docker": {
   "latest_image_tag": "v0.4.0"
  },
  "jupytext": {
   "formats": "ipynb,Rmd"
  },
  "kernelspec": {
   "display_name": "R",
   "language": "R",
   "name": "ir"
  },
  "language_info": {
   "codemirror_mode": "r",
   "file_extension": ".r",
   "mimetype": "text/x-r-source",
   "name": "R",
   "pygments_lexer": "r",
   "version": "4.1.1"
  }
 },
 "nbformat": 4,
 "nbformat_minor": 4
}
