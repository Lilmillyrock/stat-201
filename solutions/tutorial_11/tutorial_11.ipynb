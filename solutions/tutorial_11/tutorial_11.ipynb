{
 "cells": [
  {
   "cell_type": "markdown",
   "metadata": {
    "nbgrader": {
     "grade": false,
     "grade_id": "cell-7f7daff5cfa3835f",
     "locked": true,
     "schema_version": 3,
     "solution": false,
     "task": false
    }
   },
   "source": [
    "# Tutorial 11: Beyond two-group comparisons"
   ]
  },
  {
   "cell_type": "code",
   "execution_count": 1,
   "metadata": {
    "message": false,
    "nbgrader": {
     "grade": false,
     "grade_id": "cell-eaa306f38e77ac65",
     "locked": true,
     "schema_version": 3,
     "solution": false,
     "task": false
    },
    "warning": false
   },
   "outputs": [
    {
     "name": "stderr",
     "output_type": "stream",
     "text": [
      "── \u001b[1mAttaching packages\u001b[22m ─────────────────────────────────────── tidyverse 1.3.0 ──\n",
      "\n",
      "\u001b[32m✔\u001b[39m \u001b[34mggplot2\u001b[39m 3.3.2     \u001b[32m✔\u001b[39m \u001b[34mpurrr  \u001b[39m 0.3.4\n",
      "\u001b[32m✔\u001b[39m \u001b[34mtibble \u001b[39m 3.0.3     \u001b[32m✔\u001b[39m \u001b[34mdplyr  \u001b[39m 1.0.2\n",
      "\u001b[32m✔\u001b[39m \u001b[34mtidyr  \u001b[39m 1.1.1     \u001b[32m✔\u001b[39m \u001b[34mstringr\u001b[39m 1.4.0\n",
      "\u001b[32m✔\u001b[39m \u001b[34mreadr  \u001b[39m 1.3.1     \u001b[32m✔\u001b[39m \u001b[34mforcats\u001b[39m 0.5.0\n",
      "\n",
      "Warning message:\n",
      "“package ‘ggplot2’ was built under R version 4.0.1”\n",
      "Warning message:\n",
      "“package ‘tibble’ was built under R version 4.0.2”\n",
      "Warning message:\n",
      "“package ‘tidyr’ was built under R version 4.0.2”\n",
      "Warning message:\n",
      "“package ‘dplyr’ was built under R version 4.0.2”\n",
      "── \u001b[1mConflicts\u001b[22m ────────────────────────────────────────── tidyverse_conflicts() ──\n",
      "\u001b[31m✖\u001b[39m \u001b[34mdplyr\u001b[39m::\u001b[32mfilter()\u001b[39m masks \u001b[34mstats\u001b[39m::filter()\n",
      "\u001b[31m✖\u001b[39m \u001b[34mdplyr\u001b[39m::\u001b[32mlag()\u001b[39m    masks \u001b[34mstats\u001b[39m::lag()\n",
      "\n",
      "Warning message:\n",
      "“package ‘infer’ was built under R version 4.0.2”\n",
      "\n",
      "Attaching package: ‘testthat’\n",
      "\n",
      "\n",
      "The following object is masked from ‘package:dplyr’:\n",
      "\n",
      "    matches\n",
      "\n",
      "\n",
      "The following object is masked from ‘package:purrr’:\n",
      "\n",
      "    is_null\n",
      "\n",
      "\n",
      "The following object is masked from ‘package:tidyr’:\n",
      "\n",
      "    matches\n",
      "\n",
      "\n",
      "Warning message:\n",
      "“package ‘broom’ was built under R version 4.0.2”\n"
     ]
    }
   ],
   "source": [
    "library(tidyverse)\n",
    "library(infer)\n",
    "library(datateachr)\n",
    "library(testthat)\n",
    "library(digest)\n",
    "library(broom)"
   ]
  },
  {
   "cell_type": "markdown",
   "metadata": {
    "nbgrader": {
     "grade": false,
     "grade_id": "cell-8b74f3b0488e6391",
     "locked": true,
     "schema_version": 3,
     "solution": false,
     "task": false
    }
   },
   "source": [
    "## Learning Objectives\n",
    "\n",
    "- Run a simple one-way ANOVA, without knowing the details of the test (the level of detail required is what's presented in the blog post).\n",
    "- Apply FDR or Bonferroni correction to control the errors when performing multiple hypothesis testing.\n",
    "- The value of presenting an entire distribution as a prediction."
   ]
  },
  {
   "cell_type": "markdown",
   "metadata": {
    "nbgrader": {
     "grade": false,
     "grade_id": "cell-35ac1699a9df82f1",
     "locked": true,
     "schema_version": 3,
     "solution": false,
     "task": false
    }
   },
   "source": [
    "## Exercise 1: Multiple Comparisons\n",
    "\n",
    "Last week, we saw that we're more likely to commit a Type I error as we test more and more hypotheses. This week, we'll investigate two methods for addressing this issue. \n",
    "\n",
    "Consider the GWAS dataset:"
   ]
  },
  {
   "cell_type": "code",
   "execution_count": 2,
   "metadata": {
    "nbgrader": {
     "grade": false,
     "grade_id": "cell-e922a43ee98a429e",
     "locked": true,
     "schema_version": 3,
     "solution": false,
     "task": false
    }
   },
   "outputs": [
    {
     "name": "stderr",
     "output_type": "stream",
     "text": [
      "Parsed with column specification:\n",
      "cols(\n",
      "  public_gene_name = \u001b[31mcol_character()\u001b[39m,\n",
      "  `p-value` = \u001b[32mcol_double()\u001b[39m\n",
      ")\n",
      "\n"
     ]
    },
    {
     "data": {
      "text/html": [
       "<table>\n",
       "<caption>A tibble: 6 × 2</caption>\n",
       "<thead>\n",
       "\t<tr><th scope=col>public_gene_name</th><th scope=col>p_value</th></tr>\n",
       "\t<tr><th scope=col>&lt;chr&gt;</th><th scope=col>&lt;dbl&gt;</th></tr>\n",
       "</thead>\n",
       "<tbody>\n",
       "\t<tr><td>osm-1  </td><td>0.000001020</td></tr>\n",
       "\t<tr><td>che-3  </td><td>0.000016100</td></tr>\n",
       "\t<tr><td>F01D4.9</td><td>0.000055600</td></tr>\n",
       "\t<tr><td>mdf-1  </td><td>0.000100000</td></tr>\n",
       "\t<tr><td>cnt-1  </td><td>0.000123946</td></tr>\n",
       "\t<tr><td>lars-1 </td><td>0.001526370</td></tr>\n",
       "</tbody>\n",
       "</table>\n"
      ],
      "text/latex": [
       "A tibble: 6 × 2\n",
       "\\begin{tabular}{ll}\n",
       " public\\_gene\\_name & p\\_value\\\\\n",
       " <chr> & <dbl>\\\\\n",
       "\\hline\n",
       "\t osm-1   & 0.000001020\\\\\n",
       "\t che-3   & 0.000016100\\\\\n",
       "\t F01D4.9 & 0.000055600\\\\\n",
       "\t mdf-1   & 0.000100000\\\\\n",
       "\t cnt-1   & 0.000123946\\\\\n",
       "\t lars-1  & 0.001526370\\\\\n",
       "\\end{tabular}\n"
      ],
      "text/markdown": [
       "\n",
       "A tibble: 6 × 2\n",
       "\n",
       "| public_gene_name &lt;chr&gt; | p_value &lt;dbl&gt; |\n",
       "|---|---|\n",
       "| osm-1   | 0.000001020 |\n",
       "| che-3   | 0.000016100 |\n",
       "| F01D4.9 | 0.000055600 |\n",
       "| mdf-1   | 0.000100000 |\n",
       "| cnt-1   | 0.000123946 |\n",
       "| lars-1  | 0.001526370 |\n",
       "\n"
      ],
      "text/plain": [
       "  public_gene_name p_value    \n",
       "1 osm-1            0.000001020\n",
       "2 che-3            0.000016100\n",
       "3 F01D4.9          0.000055600\n",
       "4 mdf-1            0.000100000\n",
       "5 cnt-1            0.000123946\n",
       "6 lars-1           0.001526370"
      ]
     },
     "metadata": {},
     "output_type": "display_data"
    }
   ],
   "source": [
    "gwas <- \n",
    "    read_csv(\"gwas.csv\")  %>% \n",
    "    rename(p_value = `p-value`)\n",
    "\n",
    "head(gwas)"
   ]
  },
  {
   "cell_type": "markdown",
   "metadata": {
    "nbgrader": {
     "grade": false,
     "grade_id": "cell-6467cb7a56a3076f",
     "locked": true,
     "schema_version": 3,
     "solution": false,
     "task": false
    }
   },
   "source": [
    "The dataset, as described by Dr. Tiffany Timbers:\n",
    "\n",
    "> The dataset you will see contains two columns, a list of gene names and a list of unadjusted p-values generated from the analysis (the particular statistical test used is called the Sequence Kernel Analysis test, or SKAT). These p-values were created by repeating the analysis on many variables from the same dataset, thus we have a multiple testing problem to deal with!\n",
    "> \n",
    "> Each p-value corresponds to a gene, and tests whether that gene is associated to a phenotype.\n",
    "> \n",
    "> The study can be accessed here: http://dx.doi.org/10.1371/journal.pgen.1006235\n",
    "\n",
    "In STAT 201, we will very briefly explore two methods for handling multiple hypothesis testing: the __Bonferroni__ and __Benjamin-Hochberg (BH)__ adjustments. Unfortunately, we will not have time to go into how they work. But, the idea for both of them is to increase the p-values so that tests are less likely to pass.\n",
    "\n",
    "In general, it's not always obvious when you should use a p-value adjustment. If you conduct a study that includes a few unrelated hypothesis tests, should you \"proof\" the entire study by adjusting all p-values? Probably not. If you do, and you decide to gain a little bit of extra insight by testing one last hypothesis before submitting the study, should you then adjust all of the p-values in the study, potentially changing your results? This isn't realistic. But, if you can group your hypotheses into one overarching question, like [testing to see which of 20 types of jellybeans cause acne](https://xkcd.com/882/), you then might want to implement some level of error-proofing."
   ]
  },
  {
   "cell_type": "markdown",
   "metadata": {
    "nbgrader": {
     "grade": false,
     "grade_id": "cell-13db9415dfd084a0",
     "locked": true,
     "schema_version": 3,
     "solution": false,
     "task": false
    }
   },
   "source": [
    "### Question 1.1\n",
    "\n",
    "How many of the null hypotheses would be rejected under a 0.05 significance level? Store this value in a variable named `number_significant`. What proportion of the total number of tests is that? Store this value in a variable named `prop_significant`."
   ]
  },
  {
   "cell_type": "code",
   "execution_count": 3,
   "metadata": {
    "nbgrader": {
     "grade": false,
     "grade_id": "cell-bf3ff2835661d424",
     "locked": false,
     "schema_version": 3,
     "solution": true,
     "task": false
    }
   },
   "outputs": [
    {
     "name": "stdout",
     "output_type": "stream",
     "text": [
      "[1] 100\n",
      "[1] 0.08695652\n"
     ]
    }
   ],
   "source": [
    "# number_significant <- FILL_THIS_IN\n",
    "# prop_significant <- FILL_THIS_IN\n",
    "\n",
    "### BEGIN SOLUTION\n",
    "number_significant <- \n",
    "    gwas %>% \n",
    "    filter(p_value < 0.05) %>% \n",
    "    nrow()\n",
    "\n",
    "prop_significant <- gwas %>% \n",
    "    summarise(prop = mean(p_value < 0.05)) %>% \n",
    "    pull(prop)\n",
    "### END SOLUTION\n",
    "\n",
    "print(number_significant)\n",
    "print(prop_significant)"
   ]
  },
  {
   "cell_type": "code",
   "execution_count": 4,
   "metadata": {
    "lines_to_next_cell": 2,
    "nbgrader": {
     "grade": true,
     "grade_id": "cell-04f35cffe3a21414",
     "locked": true,
     "points": 1,
     "schema_version": 3,
     "solution": false,
     "task": false
    }
   },
   "outputs": [
    {
     "name": "stdout",
     "output_type": "stream",
     "text": [
      "success!"
     ]
    }
   ],
   "source": [
    "test_that(\"Amount significant\", {\n",
    "  expect_identical(\n",
    "    digest(as.numeric(number_significant)),\n",
    "    \"d344558826c683dbadec305ed64365f1\"\n",
    "  )\n",
    "  expect_identical(\n",
    "    digest(round(prop_significant, digits = 4)),\n",
    "    \"99b9d16651e54de85f1fccc55493a06e\"\n",
    "  )\n",
    "})\n",
    "cat(\"success!\")"
   ]
  },
  {
   "cell_type": "markdown",
   "metadata": {
    "nbgrader": {
     "grade": false,
     "grade_id": "cell-c217f340f6c06105",
     "locked": true,
     "schema_version": 3,
     "solution": false,
     "task": false
    }
   },
   "source": [
    "### Question 1.2: Bonferroni Adjustment\n",
    "\n",
    "The Bonferroni correction is seen as an aggressive p-value adjustment method. So, it typically won't be able to detect subtle effect sizes. It limits the probability of seeing at least one false positive (Type I error) to the specified significance level $\\alpha$. \n",
    "\n",
    "The idea is, if there are $k$ hypotheses being tested, to either (1) adjust your chosen significance level $\\alpha$ to $\\alpha / k$, or equivalently, (2) multiply your p-values by $k$.\n",
    "\n",
    "Adjust the p-values of the GWAS study according to a Bonferroni adjustment. Store the adjusted p-values in a vector named `pval_bonf`. You can use the `p.adjust()` function, inserting the vector of p-values in the first argument. How many of these null hypotheses are rejected now, under a 0.05 significance level? Put the number in a variable named `count_bonf`."
   ]
  },
  {
   "cell_type": "code",
   "execution_count": 5,
   "metadata": {
    "nbgrader": {
     "grade": false,
     "grade_id": "cell-a5ad5a93a0225bbe",
     "locked": false,
     "schema_version": 3,
     "solution": true,
     "task": false
    }
   },
   "outputs": [
    {
     "data": {
      "text/html": [
       "<style>\n",
       ".list-inline {list-style: none; margin:0; padding: 0}\n",
       ".list-inline>li {display: inline-block}\n",
       ".list-inline>li:not(:last-child)::after {content: \"\\00b7\"; padding: 0 .5ex}\n",
       "</style>\n",
       "<ol class=list-inline><li>0.001173</li><li>0.018515</li><li>0.06394</li><li>0.115</li><li>0.1425379</li><li>1</li></ol>\n"
      ],
      "text/latex": [
       "\\begin{enumerate*}\n",
       "\\item 0.001173\n",
       "\\item 0.018515\n",
       "\\item 0.06394\n",
       "\\item 0.115\n",
       "\\item 0.1425379\n",
       "\\item 1\n",
       "\\end{enumerate*}\n"
      ],
      "text/markdown": [
       "1. 0.001173\n",
       "2. 0.018515\n",
       "3. 0.06394\n",
       "4. 0.115\n",
       "5. 0.1425379\n",
       "6. 1\n",
       "\n",
       "\n"
      ],
      "text/plain": [
       "[1] 0.0011730 0.0185150 0.0639400 0.1150000 0.1425379 1.0000000"
      ]
     },
     "metadata": {},
     "output_type": "display_data"
    },
    {
     "name": "stdout",
     "output_type": "stream",
     "text": [
      "[1] 2\n"
     ]
    }
   ],
   "source": [
    "# pval_bonf <- p.adjust(FILL_THIS_IN, method = \"bonferroni\")\n",
    "# count_bonf <- FILL_THIS_IN\n",
    "\n",
    "### BEGIN SOLUTION\n",
    "pval_bonf <- p.adjust(gwas$p_value, method = \"bonferroni\")\n",
    "count_bonf <- sum(pval_bonf < 0.05)\n",
    "### END SOLUTION\n",
    "\n",
    "head(pval_bonf)\n",
    "print(count_bonf)"
   ]
  },
  {
   "cell_type": "code",
   "execution_count": 6,
   "metadata": {
    "nbgrader": {
     "grade": true,
     "grade_id": "cell-d57df8bbcc573872",
     "locked": true,
     "points": 1,
     "schema_version": 3,
     "solution": false,
     "task": false
    }
   },
   "outputs": [
    {
     "name": "stdout",
     "output_type": "stream",
     "text": [
      "success!"
     ]
    }
   ],
   "source": [
    "test_that(\"Amount significant\", {\n",
    "  expect_identical(\n",
    "    digest(signif(sort(pval_bonf), digits = 4)),\n",
    "    \"2a8b9d0aa1b0678a4ba67a6799b630ec\"\n",
    "  )\n",
    "  expect_identical(\n",
    "    digest(as.numeric(count_bonf)),\n",
    "    \"db8e490a925a60e62212cefc7674ca02\"\n",
    "  )\n",
    "})\n",
    "cat(\"success!\")"
   ]
  },
  {
   "cell_type": "markdown",
   "metadata": {
    "nbgrader": {
     "grade": false,
     "grade_id": "cell-1f3347800192a83b",
     "locked": true,
     "schema_version": 3,
     "solution": false,
     "task": false
    }
   },
   "source": [
    "### Question 1.3: BH Adjustment\n",
    "\n",
    "The BH method is a more forgiving method in comparison to the Bonferroni method, and so may be more realistic. Instead of assigning a probability for seeing any Type I error at all, the BH method limits the _false discovery rate_ = the proportion of \"discoveries\" (rejections of the null) that are false. \n",
    "\n",
    "Adjusting the p-values to limit the false discovery rate to some specified level $\\alpha$ is more complicated, and we won't get into details (and won't expect you to, either). But the idea is that, given that p-values are completely random numbers between 0 and 1 _if the null hypothesis is true_, the collection of p-values are compared against what a random sample between 0 and 1 would look like. The p-values that deviate from this pattern are flagged as being significant.\n",
    "\n",
    "Adjust the p-values of the GWAS study according to a BH adjustment. Store the adjusted p-values in a vector named `pval_bh`. How many of these null hypotheses are rejected now, under a 0.05 significance level? Put the number in a variable named `count_bh`."
   ]
  },
  {
   "cell_type": "code",
   "execution_count": 7,
   "metadata": {
    "nbgrader": {
     "grade": false,
     "grade_id": "cell-0d41998b7e66ffee",
     "locked": false,
     "schema_version": 3,
     "solution": true,
     "task": false
    }
   },
   "outputs": [
    {
     "data": {
      "text/html": [
       "<style>\n",
       ".list-inline {list-style: none; margin:0; padding: 0}\n",
       ".list-inline>li {display: inline-block}\n",
       ".list-inline>li:not(:last-child)::after {content: \"\\00b7\"; padding: 0 .5ex}\n",
       "</style>\n",
       "<ol class=list-inline><li>0.001173</li><li>0.0092575</li><li>0.0213133333333333</li><li>0.02850758</li><li>0.02850758</li><li>0.2581264125</li></ol>\n"
      ],
      "text/latex": [
       "\\begin{enumerate*}\n",
       "\\item 0.001173\n",
       "\\item 0.0092575\n",
       "\\item 0.0213133333333333\n",
       "\\item 0.02850758\n",
       "\\item 0.02850758\n",
       "\\item 0.2581264125\n",
       "\\end{enumerate*}\n"
      ],
      "text/markdown": [
       "1. 0.001173\n",
       "2. 0.0092575\n",
       "3. 0.0213133333333333\n",
       "4. 0.02850758\n",
       "5. 0.02850758\n",
       "6. 0.2581264125\n",
       "\n",
       "\n"
      ],
      "text/plain": [
       "[1] 0.00117300 0.00925750 0.02131333 0.02850758 0.02850758 0.25812641"
      ]
     },
     "metadata": {},
     "output_type": "display_data"
    },
    {
     "name": "stdout",
     "output_type": "stream",
     "text": [
      "[1] 5\n"
     ]
    }
   ],
   "source": [
    "# pval_bh <- p.adjust(FILL_THIS_IN, method = \"BH\")\n",
    "# count_bh <- FILL_THIS_IN\n",
    "\n",
    "### BEGIN SOLUTION\n",
    "pval_bh <- p.adjust(gwas$p_value, method = \"BH\")\n",
    "count_bh <- sum(pval_bh < 0.05)\n",
    "### END SOLUTION\n",
    "\n",
    "head(pval_bh)\n",
    "print(count_bh)"
   ]
  },
  {
   "cell_type": "code",
   "execution_count": 8,
   "metadata": {
    "lines_to_next_cell": 2,
    "nbgrader": {
     "grade": true,
     "grade_id": "cell-74f008affbe5842d",
     "locked": true,
     "points": 1,
     "schema_version": 3,
     "solution": false,
     "task": false
    }
   },
   "outputs": [
    {
     "name": "stdout",
     "output_type": "stream",
     "text": [
      "success!"
     ]
    }
   ],
   "source": [
    "test_that(\"Amount significant\", {\n",
    "  expect_identical(\n",
    "    digest(signif(sort(pval_bh), digits = 4)),\n",
    "    \"40cdfc2e1720e67f3aae56823ec9ed9e\"\n",
    "  )\n",
    "  expect_identical(\n",
    "    digest(as.numeric(count_bh)),\n",
    "    \"5e338704a8e069ebd8b38ca71991cf94\"\n",
    "  )\n",
    "})\n",
    "cat(\"success!\")"
   ]
  },
  {
   "cell_type": "markdown",
   "metadata": {
    "nbgrader": {
     "grade": false,
     "grade_id": "cell-033d029a19111ee9",
     "locked": true,
     "schema_version": 3,
     "solution": false,
     "task": false
    }
   },
   "source": [
    "## Exercise 2: Prediction\n",
    "\n",
    "Until now, we've been making inference on _population parameters_, such as means, quantiles, variances, etc. As we've seen, this inference allows us to present both (1) our best guess as to what the parameter is (an estimate), along with (2) a description of uncertainty (such as confidence intervals and hypothesis tests). But, \n",
    "how can we go about making inference on a _new observation_? \n",
    "\n",
    "In the worksheet, you explored the inference part of predictions. In this tutorial, you'll explore the predictions themselves.\n",
    "\n",
    "Consider the survey data stored in `attitude`, used in the worksheet. How can we predict what the survey results would be in another department that wasn't included in the survey? Recall that each row of the dataset corresponds to a department that was surveyed."
   ]
  },
  {
   "cell_type": "code",
   "execution_count": 9,
   "metadata": {
    "nbgrader": {
     "grade": false,
     "grade_id": "cell-5938e2ed2b477949",
     "locked": true,
     "schema_version": 3,
     "solution": false,
     "task": false
    }
   },
   "outputs": [
    {
     "data": {
      "text/html": [
       "<table>\n",
       "<caption>A data.frame: 6 × 7</caption>\n",
       "<thead>\n",
       "\t<tr><th></th><th scope=col>rating</th><th scope=col>complaints</th><th scope=col>privileges</th><th scope=col>learning</th><th scope=col>raises</th><th scope=col>critical</th><th scope=col>advance</th></tr>\n",
       "\t<tr><th></th><th scope=col>&lt;dbl&gt;</th><th scope=col>&lt;dbl&gt;</th><th scope=col>&lt;dbl&gt;</th><th scope=col>&lt;dbl&gt;</th><th scope=col>&lt;dbl&gt;</th><th scope=col>&lt;dbl&gt;</th><th scope=col>&lt;dbl&gt;</th></tr>\n",
       "</thead>\n",
       "<tbody>\n",
       "\t<tr><th scope=row>1</th><td>43</td><td>51</td><td>30</td><td>39</td><td>61</td><td>92</td><td>45</td></tr>\n",
       "\t<tr><th scope=row>2</th><td>63</td><td>64</td><td>51</td><td>54</td><td>63</td><td>73</td><td>47</td></tr>\n",
       "\t<tr><th scope=row>3</th><td>71</td><td>70</td><td>68</td><td>69</td><td>76</td><td>86</td><td>48</td></tr>\n",
       "\t<tr><th scope=row>4</th><td>61</td><td>63</td><td>45</td><td>47</td><td>54</td><td>84</td><td>35</td></tr>\n",
       "\t<tr><th scope=row>5</th><td>81</td><td>78</td><td>56</td><td>66</td><td>71</td><td>83</td><td>47</td></tr>\n",
       "\t<tr><th scope=row>6</th><td>43</td><td>55</td><td>49</td><td>44</td><td>54</td><td>49</td><td>34</td></tr>\n",
       "</tbody>\n",
       "</table>\n"
      ],
      "text/latex": [
       "A data.frame: 6 × 7\n",
       "\\begin{tabular}{r|lllllll}\n",
       "  & rating & complaints & privileges & learning & raises & critical & advance\\\\\n",
       "  & <dbl> & <dbl> & <dbl> & <dbl> & <dbl> & <dbl> & <dbl>\\\\\n",
       "\\hline\n",
       "\t1 & 43 & 51 & 30 & 39 & 61 & 92 & 45\\\\\n",
       "\t2 & 63 & 64 & 51 & 54 & 63 & 73 & 47\\\\\n",
       "\t3 & 71 & 70 & 68 & 69 & 76 & 86 & 48\\\\\n",
       "\t4 & 61 & 63 & 45 & 47 & 54 & 84 & 35\\\\\n",
       "\t5 & 81 & 78 & 56 & 66 & 71 & 83 & 47\\\\\n",
       "\t6 & 43 & 55 & 49 & 44 & 54 & 49 & 34\\\\\n",
       "\\end{tabular}\n"
      ],
      "text/markdown": [
       "\n",
       "A data.frame: 6 × 7\n",
       "\n",
       "| <!--/--> | rating &lt;dbl&gt; | complaints &lt;dbl&gt; | privileges &lt;dbl&gt; | learning &lt;dbl&gt; | raises &lt;dbl&gt; | critical &lt;dbl&gt; | advance &lt;dbl&gt; |\n",
       "|---|---|---|---|---|---|---|---|\n",
       "| 1 | 43 | 51 | 30 | 39 | 61 | 92 | 45 |\n",
       "| 2 | 63 | 64 | 51 | 54 | 63 | 73 | 47 |\n",
       "| 3 | 71 | 70 | 68 | 69 | 76 | 86 | 48 |\n",
       "| 4 | 61 | 63 | 45 | 47 | 54 | 84 | 35 |\n",
       "| 5 | 81 | 78 | 56 | 66 | 71 | 83 | 47 |\n",
       "| 6 | 43 | 55 | 49 | 44 | 54 | 49 | 34 |\n",
       "\n"
      ],
      "text/plain": [
       "  rating complaints privileges learning raises critical advance\n",
       "1 43     51         30         39       61     92       45     \n",
       "2 63     64         51         54       63     73       47     \n",
       "3 71     70         68         69       76     86       48     \n",
       "4 61     63         45         47       54     84       35     \n",
       "5 81     78         56         66       71     83       47     \n",
       "6 43     55         49         44       54     49       34     "
      ]
     },
     "metadata": {},
     "output_type": "display_data"
    }
   ],
   "source": [
    "head(attitude)"
   ]
  },
  {
   "cell_type": "markdown",
   "metadata": {
    "nbgrader": {
     "grade": false,
     "grade_id": "cell-edce3e77046bdf42",
     "locked": true,
     "schema_version": 3,
     "solution": false,
     "task": false
    }
   },
   "source": [
    "As an aside:\n",
    "\n",
    "- This prediction question is what the branch of _supervised learning_ is primarily concerned with. Usually, it's most useful to make predictions when more than one _predictor_ variable is present (for now, we only have one predictor variable: \"question\"). But, without first thinking about how to make predictions in the absence of predictor variables (or at least, in the presence of one grouping variable like we have), it's easy to lose sight of the interpretation of these predictions. (Hint: the interpretation of a prediction is _not_ just \"a best guess\".)\n",
    "- It's worth saying that, if you were working for this organization that was surveyed, you might have anecdotal evidence as to how this department might respond to the survey. Sometimes, in the presence of numeric analyses, it's easy to forget this and to only rely on the numbers, but human input is also very valuable.\n",
    "\n",
    "### Question 2.1\n",
    "\n",
    "Probably the most common approach to prediction is to use the mean. What would the prediction be for the `\"raises\"` question in this case? Store your prediction in a variable named `prediction_raises`. Yes, this just amounts to calculating the mean!\n",
    "\n",
    "(By the way, it seems most supervised learning models try to make predictions using the mean, although there's nothing about the mean that makes it any better of a prediction than other parameters such as the median!) "
   ]
  },
  {
   "cell_type": "code",
   "execution_count": 10,
   "metadata": {
    "lines_to_next_cell": 2,
    "nbgrader": {
     "grade": false,
     "grade_id": "cell-92febe773ef47018",
     "locked": false,
     "schema_version": 3,
     "solution": true,
     "task": false
    }
   },
   "outputs": [
    {
     "name": "stdout",
     "output_type": "stream",
     "text": [
      "[1] 64.63333\n"
     ]
    }
   ],
   "source": [
    "# prediction_raises <- FILL_THIS_IN\n",
    "\n",
    "### BEGIN SOLUTION\n",
    "prediction_raises <- \n",
    "    attitude %>% \n",
    "    pull(raises) %>% \n",
    "    mean()\n",
    "### END SOLUTION\n",
    "\n",
    "print(prediction_raises)"
   ]
  },
  {
   "cell_type": "code",
   "execution_count": 11,
   "metadata": {
    "nbgrader": {
     "grade": true,
     "grade_id": "cell-757b068f37a3e5fc",
     "locked": true,
     "points": 1,
     "schema_version": 3,
     "solution": false,
     "task": false
    }
   },
   "outputs": [
    {
     "name": "stdout",
     "output_type": "stream",
     "text": [
      "success!"
     ]
    }
   ],
   "source": [
    "test_that(\"Mean prediction of Raises\", {\n",
    "  expect_identical(\n",
    "    digest(round(prediction_raises, digits = 4)),\n",
    "    \"dd346a8cabe03648836f07864372d5f5\"\n",
    "  )\n",
    "})\n",
    "cat(\"success!\")"
   ]
  },
  {
   "cell_type": "markdown",
   "metadata": {
    "nbgrader": {
     "grade": false,
     "grade_id": "cell-6a9606c4b9dae453",
     "locked": true,
     "schema_version": 3,
     "solution": false,
     "task": false
    }
   },
   "source": [
    "### Question 2.2\n",
    "\n",
    "What score would you predict the department to give on the `\"privileges\"` question? This time, use the median as a prediction, using the `median()` function. Store your prediction in the variable `prediction_privileges`."
   ]
  },
  {
   "cell_type": "code",
   "execution_count": 12,
   "metadata": {
    "lines_to_next_cell": 2,
    "nbgrader": {
     "grade": false,
     "grade_id": "cell-c261a2188ea64431",
     "locked": false,
     "schema_version": 3,
     "solution": true,
     "task": false
    }
   },
   "outputs": [
    {
     "name": "stdout",
     "output_type": "stream",
     "text": [
      "[1] 51.5\n"
     ]
    }
   ],
   "source": [
    "# prediction_privileges <- FILL_THIS_IN\n",
    "\n",
    "### BEGIN SOLUTION\n",
    "prediction_privileges <- \n",
    "    attitude %>% \n",
    "    pull(privileges) %>% \n",
    "    median()\n",
    "### END SOLUTION\n",
    "\n",
    "print(prediction_privileges)"
   ]
  },
  {
   "cell_type": "code",
   "execution_count": 13,
   "metadata": {
    "nbgrader": {
     "grade": true,
     "grade_id": "cell-b21efbbae9a28aa6",
     "locked": true,
     "points": 1,
     "schema_version": 3,
     "solution": false,
     "task": false
    }
   },
   "outputs": [
    {
     "name": "stdout",
     "output_type": "stream",
     "text": [
      "success!"
     ]
    }
   ],
   "source": [
    "test_that(\"Median prediction of Privileges\", {\n",
    "  expect_identical(\n",
    "    digest(round(prediction_privileges, digits = 1)),\n",
    "    \"8e53beb1022c46a17cdfe1f1f2f2f827\"\n",
    "  )\n",
    "})\n",
    "cat(\"success!\")"
   ]
  },
  {
   "cell_type": "markdown",
   "metadata": {
    "nbgrader": {
     "grade": false,
     "grade_id": "cell-9bbc5ca343f292c4",
     "locked": true,
     "schema_version": 3,
     "solution": false,
     "task": false
    }
   },
   "source": [
    "### Question 2.3\n",
    "\n",
    "Depending on the application, you should ask yourself if you truly need a single value prediction. Consider predicting the department's response to the `\"critical\"` question based on the histogram of outcomes below:"
   ]
  },
  {
   "cell_type": "code",
   "execution_count": 14,
   "metadata": {
    "fig.align": "center",
    "fig.height": 3,
    "fig.width": 5,
    "nbgrader": {
     "grade": false,
     "grade_id": "cell-8e5594e1925f12c9",
     "locked": true,
     "schema_version": 3,
     "solution": false,
     "task": false
    }
   },
   "outputs": [
    {
     "data": {
      "image/png": "[encoded data removed]",
      "text/plain": [
       "plot without title"
      ]
     },
     "metadata": {
      "image/png": {
       "height": 420,
       "width": 420
      }
     },
     "output_type": "display_data"
    }
   ],
   "source": [
    "ggplot(attitude, aes(critical)) +\n",
    "    geom_histogram(bins = 10) +\n",
    "    theme_minimal() +\n",
    "    xlab(\"Score for question 'Critical'\")"
   ]
  },
  {
   "cell_type": "markdown",
   "metadata": {
    "nbgrader": {
     "grade": false,
     "grade_id": "cell-3514fdfea77a6f49",
     "locked": true,
     "schema_version": 3,
     "solution": false,
     "task": false
    }
   },
   "source": [
    "Which of these statements can be inferred by looking at the histogram? Store the letter to your response in a variable named `prediction_critical`.\n",
    "\n",
    "**a**\\. Probably won't be less than 50   \n",
    "**b**\\. Probably won't be more than 90   \n",
    "**c**\\. Most likely to be somewhere between 65 and 85   \n",
    "**d**\\. All of the above\n",
    "\n",
    "By the way, we're able to come up with this histogram, because we have access to multiple observations for the `\"critical\"` question. In supervised learning scenarios, it's uncommon to have such luxury. Yet, methods exist to access such a distribution -- but that's beyond the scope of this course. "
   ]
  },
  {
   "cell_type": "code",
   "execution_count": 15,
   "metadata": {
    "lines_to_next_cell": 2,
    "nbgrader": {
     "grade": false,
     "grade_id": "cell-c64a591352da386e",
     "locked": false,
     "schema_version": 3,
     "solution": true,
     "task": false
    }
   },
   "outputs": [],
   "source": [
    "# prediction_critical <- \"FILL_THIS_IN\"\n",
    "\n",
    "### BEGIN SOLUTION\n",
    "prediction_critical <- \"d\"\n",
    "### END SOLUTION"
   ]
  },
  {
   "cell_type": "code",
   "execution_count": 16,
   "metadata": {
    "nbgrader": {
     "grade": true,
     "grade_id": "cell-467db76407515f56",
     "locked": true,
     "points": 1,
     "schema_version": 3,
     "solution": false,
     "task": false
    }
   },
   "outputs": [
    {
     "name": "stdout",
     "output_type": "stream",
     "text": [
      "success!"
     ]
    }
   ],
   "source": [
    "test_that(\"Prediction Critical is right\", {\n",
    "  answer_hash <- digest(tolower(prediction_critical))\n",
    "  expect_identical(answer_hash, \"d110f00cfb1b248e835137025804a23b\")\n",
    "})\n",
    "cat(\"success!\")"
   ]
  },
  {
   "cell_type": "markdown",
   "metadata": {
    "nbgrader": {
     "grade": false,
     "grade_id": "cell-0ac2af721fdb0d8d",
     "locked": true,
     "schema_version": 3,
     "solution": false,
     "task": false
    }
   },
   "source": [
    "### Question 2.4\n",
    "\n",
    "Ultimately, predictions are useful because they help us make decisions. If you have to make many decisions quickly, it may not be practical to have a human look at a histogram as part of a decision-making procedure. But if there are few decisions that are very important, going beyond a single-value prediction is useful, such as by looking at histograms. \n",
    "\n",
    "Given this, which of the following scenarios **would it be desirable** to investigate histogram(s) before making decisions? Don't worry about how you'd come up with such histograms, or what they'd look like. Put your choices in a single variable named `prediction_decisions`, in alphabetical order. \n",
    "\n",
    "**a**\\. You are deciding between two people to hire in a high-leverage position in your company, and you want to predict what the \"productivity\" of each person would be after they are hired.    \n",
    "**b**\\. You work for a song streaming company, and want to predict favourable songs for each of your customers automatically.    \n",
    "**c**\\. You are trying to decide whether your business can afford a large purchase.     \n",
    "**d**\\. You work for the Coast Mountain Bus Company, who operates all the city busses in the Vancouver area, and want to predict the demand at every bus stop throughout this coming Canada Day. "
   ]
  },
  {
   "cell_type": "code",
   "execution_count": 17,
   "metadata": {
    "lines_to_next_cell": 2,
    "nbgrader": {
     "grade": false,
     "grade_id": "cell-68b20f9ef7b8c69f",
     "locked": false,
     "schema_version": 3,
     "solution": true,
     "task": false
    }
   },
   "outputs": [],
   "source": [
    "# prediction_decisions <- \"FILL_THIS_IN\"\n",
    "\n",
    "### BEGIN SOLUTION\n",
    "prediction_decisions <- \"ac\"\n",
    "### END SOLUTION"
   ]
  },
  {
   "cell_type": "code",
   "execution_count": 18,
   "metadata": {
    "lines_to_next_cell": 2,
    "nbgrader": {
     "grade": true,
     "grade_id": "cell-37c0d2f797452e40",
     "locked": true,
     "points": 1,
     "schema_version": 3,
     "solution": false,
     "task": false
    }
   },
   "outputs": [
    {
     "name": "stdout",
     "output_type": "stream",
     "text": [
      "success!"
     ]
    }
   ],
   "source": [
    "test_that(\"Prediction decisions is/are right\", {\n",
    "  answer_hash <- digest(tolower(prediction_decisions))\n",
    "  expect_identical(answer_hash, \"7ecaefcc6ebc9848e7cb04b5c783ae0a\")\n",
    "})\n",
    "cat(\"success!\")"
   ]
  },
  {
   "cell_type": "markdown",
   "metadata": {
    "nbgrader": {
     "grade": false,
     "grade_id": "cell-920af51f0592f3cc",
     "locked": true,
     "schema_version": 3,
     "solution": false,
     "task": false
    }
   },
   "source": [
    "## Exercise 3: ANOVA\n",
    "\n",
    "In this exercise, we will revisit the `attitude` survey data from the worksheet. We are going to investigate whether there's a significant difference between the means of two specific questions: \"privileges\" and \"learning\". The following tibble contains the relevant subset of data. "
   ]
  },
  {
   "cell_type": "code",
   "execution_count": 19,
   "metadata": {
    "nbgrader": {
     "grade": false,
     "grade_id": "cell-7d637512e0b77b6a",
     "locked": true,
     "schema_version": 3,
     "solution": false,
     "task": false
    }
   },
   "outputs": [
    {
     "data": {
      "text/html": [
       "<table>\n",
       "<caption>A tibble: 6 × 2</caption>\n",
       "<thead>\n",
       "\t<tr><th scope=col>question</th><th scope=col>score</th></tr>\n",
       "\t<tr><th scope=col>&lt;chr&gt;</th><th scope=col>&lt;dbl&gt;</th></tr>\n",
       "</thead>\n",
       "<tbody>\n",
       "\t<tr><td>privileges</td><td>30</td></tr>\n",
       "\t<tr><td>learning  </td><td>39</td></tr>\n",
       "\t<tr><td>privileges</td><td>51</td></tr>\n",
       "\t<tr><td>learning  </td><td>54</td></tr>\n",
       "\t<tr><td>privileges</td><td>68</td></tr>\n",
       "\t<tr><td>learning  </td><td>69</td></tr>\n",
       "</tbody>\n",
       "</table>\n"
      ],
      "text/latex": [
       "A tibble: 6 × 2\n",
       "\\begin{tabular}{ll}\n",
       " question & score\\\\\n",
       " <chr> & <dbl>\\\\\n",
       "\\hline\n",
       "\t privileges & 30\\\\\n",
       "\t learning   & 39\\\\\n",
       "\t privileges & 51\\\\\n",
       "\t learning   & 54\\\\\n",
       "\t privileges & 68\\\\\n",
       "\t learning   & 69\\\\\n",
       "\\end{tabular}\n"
      ],
      "text/markdown": [
       "\n",
       "A tibble: 6 × 2\n",
       "\n",
       "| question &lt;chr&gt; | score &lt;dbl&gt; |\n",
       "|---|---|\n",
       "| privileges | 30 |\n",
       "| learning   | 39 |\n",
       "| privileges | 51 |\n",
       "| learning   | 54 |\n",
       "| privileges | 68 |\n",
       "| learning   | 69 |\n",
       "\n"
      ],
      "text/plain": [
       "  question   score\n",
       "1 privileges 30   \n",
       "2 learning   39   \n",
       "3 privileges 51   \n",
       "4 learning   54   \n",
       "5 privileges 68   \n",
       "6 learning   69   "
      ]
     },
     "metadata": {},
     "output_type": "display_data"
    }
   ],
   "source": [
    "attitude_tidy <- \n",
    "    attitude %>% \n",
    "    select(-rating) %>% \n",
    "    pivot_longer(everything(), names_to = \"question\", values_to = \"score\")\n",
    "\n",
    "attitude_two <- \n",
    "    attitude_tidy %>% \n",
    "   filter(question %in% c(\"privileges\", \"learning\"))\n",
    "\n",
    "head(attitude_two)"
   ]
  },
  {
   "cell_type": "markdown",
   "metadata": {
    "nbgrader": {
     "grade": false,
     "grade_id": "cell-19ae3432ee0d1878",
     "locked": true,
     "schema_version": 3,
     "solution": false,
     "task": false
    }
   },
   "source": [
    "### Question 3.1\n",
    "\n",
    "Test the hypothesis using a two-sample t-test, approximating the group variances to be equal. Use the `tidy()` function from the broom package to tidy your results, putting the resulting tibble in a variable called `two_t_equal_tidy`."
   ]
  },
  {
   "cell_type": "code",
   "execution_count": 20,
   "metadata": {
    "lines_to_next_cell": 2,
    "nbgrader": {
     "grade": false,
     "grade_id": "cell-f94607b905ef0a68",
     "locked": false,
     "schema_version": 3,
     "solution": true,
     "task": false
    }
   },
   "outputs": [
    {
     "name": "stdout",
     "output_type": "stream",
     "text": [
      "\u001b[38;5;246m# A tibble: 1 x 10\u001b[39m\n",
      "  estimate estimate1 estimate2 statistic p.value parameter conf.low conf.high\n",
      "     \u001b[3m\u001b[38;5;246m<dbl>\u001b[39m\u001b[23m     \u001b[3m\u001b[38;5;246m<dbl>\u001b[39m\u001b[23m     \u001b[3m\u001b[38;5;246m<dbl>\u001b[39m\u001b[23m     \u001b[3m\u001b[38;5;246m<dbl>\u001b[39m\u001b[23m   \u001b[3m\u001b[38;5;246m<dbl>\u001b[39m\u001b[23m     \u001b[3m\u001b[38;5;246m<dbl>\u001b[39m\u001b[23m    \u001b[3m\u001b[38;5;246m<dbl>\u001b[39m\u001b[23m     \u001b[3m\u001b[38;5;246m<dbl>\u001b[39m\u001b[23m\n",
      "\u001b[38;5;250m1\u001b[39m     3.23      56.4      53.1      1.04   0.301        58    -\u001b[31m2\u001b[39m\u001b[31m.\u001b[39m\u001b[31m96\u001b[39m      9.43\n",
      "\u001b[38;5;246m# … with 2 more variables: method \u001b[3m\u001b[38;5;246m<chr>\u001b[38;5;246m\u001b[23m, alternative \u001b[3m\u001b[38;5;246m<chr>\u001b[38;5;246m\u001b[23m\u001b[39m\n"
     ]
    }
   ],
   "source": [
    "# two_t_equal_tidy <- \n",
    "#    t.test(FILL_THIS_IN ~ FILL_THIS_IN, data = attitude_two, \n",
    "#               var.equal = FILL_THIS_IN) %>% \n",
    "#   tidy()\n",
    "\n",
    "### BEGIN SOLUTION\n",
    "two_t_equal_tidy <- \n",
    "    t.test(score ~ question, data = attitude_two, \n",
    "               var.equal = TRUE) %>% \n",
    "    tidy()\n",
    "### END SOLUTION\n",
    "\n",
    "print(two_t_equal_tidy)"
   ]
  },
  {
   "cell_type": "code",
   "execution_count": 21,
   "metadata": {
    "lines_to_next_cell": 2,
    "nbgrader": {
     "grade": true,
     "grade_id": "cell-8f099f82410d536f",
     "locked": true,
     "points": 1,
     "schema_version": 3,
     "solution": false,
     "task": false
    }
   },
   "outputs": [
    {
     "name": "stdout",
     "output_type": "stream",
     "text": [
      "success!"
     ]
    }
   ],
   "source": [
    "test_that(\"two-sample t test\", {\n",
    "  unclassed_tibble <- two_t_equal_tidy %>% \n",
    "    mutate(across(where(is.numeric), signif, digits = 6)) %>% \n",
    "    unclass()\n",
    "  expect_identical(digest(unclassed_tibble), \"c326804de16a7881dac2a5b3c33ca020\")\n",
    "})\n",
    "cat(\"success!\")"
   ]
  },
  {
   "cell_type": "markdown",
   "metadata": {
    "nbgrader": {
     "grade": false,
     "grade_id": "cell-dbe3ae8b59ed9dd4",
     "locked": true,
     "schema_version": 3,
     "solution": false,
     "task": false
    }
   },
   "source": [
    "### Question 3.2\n",
    "\n",
    "Test the hypothesis using a two-sample t-test, allowing the group variances to be unequal. Use the `tidy()` function from the broom package to tidy your results, putting the resulting tibble in a variable called `two_t_unequal_tidy`."
   ]
  },
  {
   "cell_type": "code",
   "execution_count": 22,
   "metadata": {
    "lines_to_next_cell": 2,
    "nbgrader": {
     "grade": false,
     "grade_id": "cell-44582ffde9fd6881",
     "locked": false,
     "schema_version": 3,
     "solution": true,
     "task": false
    }
   },
   "outputs": [
    {
     "name": "stdout",
     "output_type": "stream",
     "text": [
      "\u001b[38;5;246m# A tibble: 1 x 10\u001b[39m\n",
      "  estimate estimate1 estimate2 statistic p.value parameter conf.low conf.high\n",
      "     \u001b[3m\u001b[38;5;246m<dbl>\u001b[39m\u001b[23m     \u001b[3m\u001b[38;5;246m<dbl>\u001b[39m\u001b[23m     \u001b[3m\u001b[38;5;246m<dbl>\u001b[39m\u001b[23m     \u001b[3m\u001b[38;5;246m<dbl>\u001b[39m\u001b[23m   \u001b[3m\u001b[38;5;246m<dbl>\u001b[39m\u001b[23m     \u001b[3m\u001b[38;5;246m<dbl>\u001b[39m\u001b[23m    \u001b[3m\u001b[38;5;246m<dbl>\u001b[39m\u001b[23m     \u001b[3m\u001b[38;5;246m<dbl>\u001b[39m\u001b[23m\n",
      "\u001b[38;5;250m1\u001b[39m     3.23      56.4      53.1      1.04   0.301      57.9    -\u001b[31m2\u001b[39m\u001b[31m.\u001b[39m\u001b[31m96\u001b[39m      9.43\n",
      "\u001b[38;5;246m# … with 2 more variables: method \u001b[3m\u001b[38;5;246m<chr>\u001b[38;5;246m\u001b[23m, alternative \u001b[3m\u001b[38;5;246m<chr>\u001b[38;5;246m\u001b[23m\u001b[39m\n"
     ]
    }
   ],
   "source": [
    "# two_t_unequal_tidy <- t.test(FILL_THIS_IN ~ FILL_THIS_IN, data = attitude_two, \n",
    "#                              var.equal = FILL_THIS_IN) %>% \n",
    "#   tidy()\n",
    "\n",
    "### BEGIN SOLUTION\n",
    "two_t_unequal_tidy <- \n",
    "    t.test(score ~ question, data = attitude_two, \n",
    "               var.equal = FALSE) %>% \n",
    "    tidy()\n",
    "### END SOLUTION\n",
    "\n",
    "print(two_t_unequal_tidy)"
   ]
  },
  {
   "cell_type": "code",
   "execution_count": 23,
   "metadata": {
    "nbgrader": {
     "grade": true,
     "grade_id": "cell-5a9a2437322fcb5d",
     "locked": true,
     "points": 1,
     "schema_version": 3,
     "solution": false,
     "task": false
    }
   },
   "outputs": [
    {
     "name": "stdout",
     "output_type": "stream",
     "text": [
      "success!"
     ]
    }
   ],
   "source": [
    "test_that(\"two-sample t test, unequal\", {\n",
    "  unclassed_tibble <- two_t_unequal_tidy %>% \n",
    "    mutate(across(where(is.numeric), signif, digits = 6)) %>% \n",
    "    unclass()\n",
    "  expect_identical(digest(unclassed_tibble), \"fa84d26bab7f0c530f9128ddcbe0d5d6\")\n",
    "})\n",
    "cat(\"success!\")"
   ]
  },
  {
   "cell_type": "markdown",
   "metadata": {
    "nbgrader": {
     "grade": false,
     "grade_id": "cell-2cbc678f144f9f51",
     "locked": true,
     "schema_version": 3,
     "solution": false,
     "task": false
    }
   },
   "source": [
    "### Question 3.3\n",
    "\n",
    "Test the hypothesis using an ANOVA F-test. Use the `tidy()` function from the broom package to tidy your results, putting the resulting tibble in a variable called `two_anova_tidy`. Hint: use the `aov()` function. Scaffolding is given in the worksheet if you need a reminder. "
   ]
  },
  {
   "cell_type": "code",
   "execution_count": 24,
   "metadata": {
    "lines_to_next_cell": 2,
    "nbgrader": {
     "grade": false,
     "grade_id": "cell-8fb3318a04726b48",
     "locked": false,
     "schema_version": 3,
     "solution": true,
     "task": false
    }
   },
   "outputs": [
    {
     "name": "stdout",
     "output_type": "stream",
     "text": [
      "\u001b[38;5;246m# A tibble: 2 x 6\u001b[39m\n",
      "  term         df sumsq meansq statistic p.value\n",
      "  \u001b[3m\u001b[38;5;246m<chr>\u001b[39m\u001b[23m     \u001b[3m\u001b[38;5;246m<dbl>\u001b[39m\u001b[23m \u001b[3m\u001b[38;5;246m<dbl>\u001b[39m\u001b[23m  \u001b[3m\u001b[38;5;246m<dbl>\u001b[39m\u001b[23m     \u001b[3m\u001b[38;5;246m<dbl>\u001b[39m\u001b[23m   \u001b[3m\u001b[38;5;246m<dbl>\u001b[39m\u001b[23m\n",
      "\u001b[38;5;250m1\u001b[39m question      1  157.   157.      1.09   0.301\n",
      "\u001b[38;5;250m2\u001b[39m Residuals    58 \u001b[4m8\u001b[24m336.   144.     \u001b[31mNA\u001b[39m     \u001b[31mNA\u001b[39m    \n"
     ]
    }
   ],
   "source": [
    "# two_anova_tidy <- FILL_THIS_IN\n",
    "### BEGIN SOLUTION\n",
    "two_anova_tidy <- \n",
    "    aov(score ~ question, data = attitude_two) %>% \n",
    "    tidy()\n",
    "### END SOLUTION\n",
    "\n",
    "print(two_anova_tidy)"
   ]
  },
  {
   "cell_type": "code",
   "execution_count": 25,
   "metadata": {
    "lines_to_next_cell": 0,
    "nbgrader": {
     "grade": true,
     "grade_id": "cell-2bf2e0457de039cc",
     "locked": true,
     "points": 1,
     "schema_version": 3,
     "solution": false,
     "task": false
    }
   },
   "outputs": [
    {
     "name": "stdout",
     "output_type": "stream",
     "text": [
      "success!"
     ]
    }
   ],
   "source": [
    "test_that(\"two-sample t test, unequal\", {\n",
    "  unclassed_tibble <- two_anova_tidy %>% \n",
    "    mutate(across(where(is.numeric), signif, digits = 6)) %>% \n",
    "    unclass()\n",
    "  expect_identical(digest(unclassed_tibble), \"d930a51f72a40a3933ae536c699a924a\")\n",
    "})\n",
    "cat(\"success!\")"
   ]
  },
  {
   "cell_type": "markdown",
   "metadata": {
    "nbgrader": {
     "grade": false,
     "grade_id": "cell-a0f71eadfc52af1a",
     "locked": true,
     "schema_version": 3,
     "solution": false,
     "task": false
    }
   },
   "source": [
    "### Question 3.4\n",
    "\n",
    "Store the $p$-values of the above three tests in the following variables. \n",
    "\n",
    "- Two-sample $t$-test, equal variance: `two_t_equal`\n",
    "- Two-sample $t$-test, unequal variance: `two_t_unequal`\n",
    "- ANOVA $F$-test: `two_anova`\n",
    "\n",
    "By the way, the ANOVA $F$-test has a $p$-value that's identical to one of the two $t$-tests (take a look at which one) -- this is no accident, this is always true whenever there are two groups! So, the ANOVA $F$-test is truly a generalization of the two-sample $t$-test. "
   ]
  },
  {
   "cell_type": "code",
   "execution_count": 26,
   "metadata": {
    "lines_to_next_cell": 2,
    "nbgrader": {
     "grade": false,
     "grade_id": "cell-433541c893203176",
     "locked": false,
     "schema_version": 3,
     "solution": true,
     "task": false
    }
   },
   "outputs": [
    {
     "name": "stdout",
     "output_type": "stream",
     "text": [
      "[1] 0.3005753\n",
      "[1] 0.3005827\n",
      "[1] 0.3005753\n"
     ]
    }
   ],
   "source": [
    "# two_t_equal <- FILL_THIS_IN\n",
    "# two_t_unequal <- FILL_THIS_IN\n",
    "# two_anova <- FILL_THIS_IN\n",
    "\n",
    "### BEGIN SOLUTION\n",
    "two_t_equal <- two_t_equal_tidy$p.value\n",
    "two_t_unequal <- two_t_unequal_tidy$p.value\n",
    "two_anova <- two_anova_tidy$p.value[1]\n",
    "### END SOLUTION\n",
    "\n",
    "print(two_t_equal)\n",
    "print(two_t_unequal)\n",
    "print(two_anova)"
   ]
  },
  {
   "cell_type": "code",
   "execution_count": 27,
   "metadata": {
    "lines_to_next_cell": 2,
    "nbgrader": {
     "grade": true,
     "grade_id": "cell-691ab1b3ef7b80b6",
     "locked": true,
     "points": 1,
     "schema_version": 3,
     "solution": false,
     "task": false
    }
   },
   "outputs": [
    {
     "name": "stdout",
     "output_type": "stream",
     "text": [
      "success!"
     ]
    }
   ],
   "source": [
    "test_that(\"Two group test\", {\n",
    "  expect_identical(\n",
    "    digest(round(two_t_equal, digits = 6)), \n",
    "    \"77710c78ca705287d335be9ac2ca8d86\"\n",
    "  )\n",
    "  expect_identical(\n",
    "    digest(round(two_t_unequal, digits = 6)), \n",
    "    \"5e8f21b565d74ce485c5852857bf2786\"\n",
    "  )\n",
    "  expect_identical(\n",
    "    digest(round(two_anova, digits = 6)), \n",
    "    \"77710c78ca705287d335be9ac2ca8d86\"\n",
    "  )\n",
    "})\n",
    "cat(\"success!\")"
   ]
  },
  {
   "cell_type": "markdown",
   "metadata": {
    "nbgrader": {
     "grade": false,
     "grade_id": "cell-bf5ceafae308d426",
     "locked": true,
     "schema_version": 3,
     "solution": false,
     "task": false
    }
   },
   "source": [
    "### Question 3.5\n",
    "\n",
    "In the above two-sample comparison, the two questions that appeared to have the most similar means were selected for comparison. Why is this bad practice? Store the letter of your choice in the variable named `why_inappropriate`.\n",
    "\n",
    "**a**\\.  If we want to highlight two groups, we should choose the ones that are most _different_, not the most similar.    \n",
    "**b**\\.  This is an example of \"cherry picking\": only presenting two groups that appear the most similar means that these two groups are more likely to be artificially similar.     \n",
    "**c**\\.  This is actually not bad practice at all -- it's a natural next step after ANOVA to investigate pairs of groups. \n"
   ]
  },
  {
   "cell_type": "code",
   "execution_count": 28,
   "metadata": {
    "lines_to_next_cell": 2,
    "nbgrader": {
     "grade": false,
     "grade_id": "cell-1b4a4dab3f72de55",
     "locked": false,
     "schema_version": 3,
     "solution": true,
     "task": false
    }
   },
   "outputs": [
    {
     "name": "stdout",
     "output_type": "stream",
     "text": [
      "[1] \"b\"\n"
     ]
    }
   ],
   "source": [
    "# why_inappropriate <- \"FILL_THIS_IN\"\n",
    "\n",
    "### BEGIN SOLUTION\n",
    "why_inappropriate <- \"b\"\n",
    "### END SOLUTION\n",
    "\n",
    "print(why_inappropriate)"
   ]
  },
  {
   "cell_type": "code",
   "execution_count": 29,
   "metadata": {
    "lines_to_next_cell": 0,
    "nbgrader": {
     "grade": true,
     "grade_id": "cell-76f531f9a0a22509",
     "locked": true,
     "points": 1,
     "schema_version": 3,
     "solution": false,
     "task": false
    }
   },
   "outputs": [
    {
     "name": "stdout",
     "output_type": "stream",
     "text": [
      "success!"
     ]
    }
   ],
   "source": [
    "test_that(\"Answer to why these two groups\", {\n",
    "  answer_hash <- digest(tolower(why_inappropriate))\n",
    "  if (answer_hash == \"127a2ec00989b9f7faf671ed470be7f8\") {\n",
    "    cat(\"This response suggests that there's some statistical\",\n",
    "        \"justification for choosing two specific groups to test,\", \n",
    "        \"but there is no such justification.\")\n",
    "  } else if (answer_hash == \"6e7a8c1c098e8817e3df3fd1b21149d1\") {\n",
    "    cat(\"Although this is true, the comparison we did only includes\",\n",
    "        \"one specific pair of groups, whereas we should have\",\n",
    "        \"investigated all pairs\")\n",
    "  }\n",
    "  expect_identical(answer_hash, \"ddf100612805359cd81fdc5ce3b9fbba\")\n",
    "})\n",
    "cat(\"success!\")"
   ]
  }
 ],
 "metadata": {
  "celltoolbar": "Create Assignment",
  "docker": {
   "latest_image_tag": "v0.6.0"
  },
  "jupytext": {
   "formats": "ipynb,Rmd"
  },
  "kernelspec": {
   "display_name": "R",
   "language": "R",
   "name": "ir"
  },
  "language_info": {
   "codemirror_mode": "r",
   "file_extension": ".r",
   "mimetype": "text/x-r-source",
   "name": "R",
   "pygments_lexer": "r",
   "version": "4.0.0"
  }
 },
 "nbformat": 4,
 "nbformat_minor": 5
}
