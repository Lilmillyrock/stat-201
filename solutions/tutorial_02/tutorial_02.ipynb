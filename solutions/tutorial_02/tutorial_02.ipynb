{
 "cells": [
  {
   "cell_type": "markdown",
   "metadata": {
    "nbgrader": {
     "grade": false,
     "grade_id": "cell-e878cedd195c223b",
     "locked": true,
     "schema_version": 3,
     "solution": false,
     "task": false
    }
   },
   "source": [
    "# Tutorial 2: Populations and Sampling"
   ]
  },
  {
   "cell_type": "markdown",
   "metadata": {
    "nbgrader": {
     "grade": false,
     "grade_id": "cell-54a529ad4f75126b",
     "locked": true,
     "schema_version": 3,
     "solution": false,
     "task": false
    }
   },
   "source": [
    "### Lecture and Tutorial Learning Goals\n",
    "After completing this week's lecture and tutorial work, you will be able to:\n",
    "\n",
    "1. Compare and contrast quantitative and categorical variables.\n",
    "2. Explain random and representative sampling and how this can influence estimation.\n",
    "3. Define random variables and explain how they relate to sampling.\n",
    "4. Define standard error and explain its purpose.\n",
    "5. Compare and contrast population distribution, sample distribution and an estimator's sampling distribution.\n",
    "6. Explain what a sampling distribution is, list its properties, and its purpose in statistical inference."
   ]
  },
  {
   "cell_type": "code",
   "execution_count": 1,
   "metadata": {
    "nbgrader": {
     "grade": false,
     "grade_id": "cell-072bbedad529ead5",
     "locked": true,
     "schema_version": 3,
     "solution": false,
     "task": false
    }
   },
   "outputs": [
    {
     "name": "stderr",
     "output_type": "stream",
     "text": [
      "\n",
      "********************************************************\n",
      "\n",
      "Note: As of version 1.0.0, cowplot does not change the\n",
      "\n",
      "  default ggplot2 theme anymore. To recover the previous\n",
      "\n",
      "  behavior, execute:\n",
      "  theme_set(theme_cowplot())\n",
      "\n",
      "********************************************************\n",
      "\n",
      "\n",
      "Warning message:\n",
      "“package ‘infer’ was built under R version 4.0.2”\n",
      "\n",
      "Attaching package: ‘lubridate’\n",
      "\n",
      "\n",
      "The following object is masked from ‘package:cowplot’:\n",
      "\n",
      "    stamp\n",
      "\n",
      "\n",
      "The following objects are masked from ‘package:base’:\n",
      "\n",
      "    date, intersect, setdiff, union\n",
      "\n",
      "\n",
      "── \u001b[1mAttaching packages\u001b[22m ─────────────────────────────────────── tidyverse 1.3.0 ──\n",
      "\n",
      "\u001b[32m✔\u001b[39m \u001b[34mggplot2\u001b[39m 3.3.2     \u001b[32m✔\u001b[39m \u001b[34mpurrr  \u001b[39m 0.3.4\n",
      "\u001b[32m✔\u001b[39m \u001b[34mtibble \u001b[39m 3.0.3     \u001b[32m✔\u001b[39m \u001b[34mdplyr  \u001b[39m 1.0.2\n",
      "\u001b[32m✔\u001b[39m \u001b[34mtidyr  \u001b[39m 1.1.1     \u001b[32m✔\u001b[39m \u001b[34mstringr\u001b[39m 1.4.0\n",
      "\u001b[32m✔\u001b[39m \u001b[34mreadr  \u001b[39m 1.3.1     \u001b[32m✔\u001b[39m \u001b[34mforcats\u001b[39m 0.5.0\n",
      "\n",
      "Warning message:\n",
      "“package ‘ggplot2’ was built under R version 4.0.1”\n",
      "Warning message:\n",
      "“package ‘tibble’ was built under R version 4.0.2”\n",
      "Warning message:\n",
      "“package ‘tidyr’ was built under R version 4.0.2”\n",
      "Warning message:\n",
      "“package ‘dplyr’ was built under R version 4.0.2”\n",
      "── \u001b[1mConflicts\u001b[22m ────────────────────────────────────────── tidyverse_conflicts() ──\n",
      "\u001b[31m✖\u001b[39m \u001b[34mlubridate\u001b[39m::\u001b[32mas.difftime()\u001b[39m masks \u001b[34mbase\u001b[39m::as.difftime()\n",
      "\u001b[31m✖\u001b[39m \u001b[34mlubridate\u001b[39m::\u001b[32mdate()\u001b[39m        masks \u001b[34mbase\u001b[39m::date()\n",
      "\u001b[31m✖\u001b[39m \u001b[34mdplyr\u001b[39m::\u001b[32mfilter()\u001b[39m          masks \u001b[34mstats\u001b[39m::filter()\n",
      "\u001b[31m✖\u001b[39m \u001b[34mlubridate\u001b[39m::\u001b[32mintersect()\u001b[39m   masks \u001b[34mbase\u001b[39m::intersect()\n",
      "\u001b[31m✖\u001b[39m \u001b[34mdplyr\u001b[39m::\u001b[32mlag()\u001b[39m             masks \u001b[34mstats\u001b[39m::lag()\n",
      "\u001b[31m✖\u001b[39m \u001b[34mlubridate\u001b[39m::\u001b[32msetdiff()\u001b[39m     masks \u001b[34mbase\u001b[39m::setdiff()\n",
      "\u001b[31m✖\u001b[39m \u001b[34mlubridate\u001b[39m::\u001b[32mstamp()\u001b[39m       masks \u001b[34mcowplot\u001b[39m::stamp()\n",
      "\u001b[31m✖\u001b[39m \u001b[34mlubridate\u001b[39m::\u001b[32munion()\u001b[39m       masks \u001b[34mbase\u001b[39m::union()\n",
      "\n",
      "\n",
      "Attaching package: ‘testthat’\n",
      "\n",
      "\n",
      "The following object is masked from ‘package:dplyr’:\n",
      "\n",
      "    matches\n",
      "\n",
      "\n",
      "The following object is masked from ‘package:purrr’:\n",
      "\n",
      "    is_null\n",
      "\n",
      "\n",
      "The following object is masked from ‘package:tidyr’:\n",
      "\n",
      "    matches\n",
      "\n",
      "\n"
     ]
    }
   ],
   "source": [
    "# Run this cell before continuing.\n",
    "library(cowplot)\n",
    "library(datateachr)\n",
    "library(digest)\n",
    "library(infer)\n",
    "library(lubridate)\n",
    "library(repr)\n",
    "library(tidyverse)\n",
    "source(\"tests_tutorial_02.R\")"
   ]
  },
  {
   "cell_type": "markdown",
   "metadata": {
    "nbgrader": {
     "grade": false,
     "grade_id": "cell-814a3bbf621b941f",
     "locked": true,
     "schema_version": 3,
     "solution": false,
     "task": false
    }
   },
   "source": [
    "## 1. Warm-Up Questions\n",
    "\n",
    "Here are a few questions to get you warmed up before we dive into the tutorial."
   ]
  },
  {
   "cell_type": "markdown",
   "metadata": {
    "nbgrader": {
     "grade": false,
     "grade_id": "cell-ab94b4d1c4911d17",
     "locked": true,
     "schema_version": 3,
     "solution": false,
     "task": false
    }
   },
   "source": [
    "**Question 1.0**\n",
    "<br>{points: 1}\n",
    "\n",
    "Suppose you are given a random sample of the heights of 100 different trees planted in Vancouver. You are asked to calculate the variance of the sample, which will be used as a point estimate of the variance of the height of all trees in Vancouver.\n",
    "\n",
    "True or false?\n",
    "\n",
    "Your point estimate could be considered the outcome of a random variable.\n",
    "\n",
    "_Assign your answer to an object called `answer1.0`. Your answer should be either \"true\" or \"false\", surrounded by quotes._"
   ]
  },
  {
   "cell_type": "code",
   "execution_count": 2,
   "metadata": {
    "nbgrader": {
     "grade": false,
     "grade_id": "cell-ee3221cfa9364516",
     "locked": false,
     "schema_version": 3,
     "solution": true,
     "task": false
    }
   },
   "outputs": [],
   "source": [
    "# answer1.0 <- ...\n",
    "\n",
    "### BEGIN SOLUTION\n",
    "answer1.0 <- \"true\"\n",
    "### END SOLUTION"
   ]
  },
  {
   "cell_type": "code",
   "execution_count": 3,
   "metadata": {
    "nbgrader": {
     "grade": true,
     "grade_id": "cell-19ddcc9b045f5837",
     "locked": true,
     "points": 1,
     "schema_version": 3,
     "solution": false,
     "task": false
    }
   },
   "outputs": [
    {
     "name": "stdout",
     "output_type": "stream",
     "text": [
      "[1] \"Success!\"\n"
     ]
    }
   ],
   "source": [
    "test_1.0()"
   ]
  },
  {
   "cell_type": "markdown",
   "metadata": {
    "nbgrader": {
     "grade": false,
     "grade_id": "cell-ee9f65d2aca14d1e",
     "locked": true,
     "schema_version": 3,
     "solution": false,
     "task": false
    }
   },
   "source": [
    "**Question 1.1**\n",
    "<br>{points: 1}\n",
    "\n",
    "Consider the following 20 values:\n",
    "\n",
    "```\n",
    "-2\t 7\t-7\t-10\t 0\n",
    " 4\t-7\t 5\t 10\t 9\n",
    " 9\t 6\t-3\t  2\t 1\n",
    " 4\t 1\t 2\t  7\t-9\n",
    "```\n",
    "\n",
    "What is the proportion of the values that are **less than or equal to 0**?\n",
    "\n",
    "_Assign your answer to an object called `answer1.1`. Your answer should be a single number._"
   ]
  },
  {
   "cell_type": "code",
   "execution_count": 4,
   "metadata": {
    "nbgrader": {
     "grade": false,
     "grade_id": "cell-140d960e0aeccec8",
     "locked": false,
     "schema_version": 3,
     "solution": true,
     "task": false
    }
   },
   "outputs": [
    {
     "data": {
      "text/html": [
       "0.35"
      ],
      "text/latex": [
       "0.35"
      ],
      "text/markdown": [
       "0.35"
      ],
      "text/plain": [
       "[1] 0.35"
      ]
     },
     "metadata": {},
     "output_type": "display_data"
    }
   ],
   "source": [
    "# answer1.1 <- ...\n",
    "\n",
    "### BEGIN SOLUTION\n",
    "answer1.1 <- 7 / 20\n",
    "### END SOLUTION\n",
    "\n",
    "answer1.1"
   ]
  },
  {
   "cell_type": "code",
   "execution_count": 5,
   "metadata": {
    "nbgrader": {
     "grade": true,
     "grade_id": "cell-7334b04965794762",
     "locked": true,
     "points": 1,
     "schema_version": 3,
     "solution": false,
     "task": false
    }
   },
   "outputs": [
    {
     "name": "stdout",
     "output_type": "stream",
     "text": [
      "[1] \"Success!\"\n"
     ]
    }
   ],
   "source": [
    "test_1.1()"
   ]
  },
  {
   "cell_type": "markdown",
   "metadata": {
    "nbgrader": {
     "grade": false,
     "grade_id": "cell-e7edc23c85367d7a",
     "locked": true,
     "schema_version": 3,
     "solution": false,
     "task": false
    }
   },
   "source": [
    "**Question 1.2**\n",
    "<br>{points: 1}\n",
    "\n",
    "In which scenario(s) would it **not** be logical to calculate the mean of the data collected?\n",
    "\n",
    "A. You record the length of each word on a single page in a book.\n",
    "\n",
    "B. You record the colour of each vehicle parked along one side of a block in downtown Vancouver.\n",
    "\n",
    "C. You record the time that it takes for you sprint 100m on 10 different days.\n",
    "\n",
    "D. You record the number of students using laptops during each of the first 5 days of your math class.\n",
    "\n",
    "E. None of the above\n",
    "\n",
    "_Assign your answer to an object called `answer1.2`. Your answer should be a single character surrounded by quotes._"
   ]
  },
  {
   "cell_type": "code",
   "execution_count": 6,
   "metadata": {
    "nbgrader": {
     "grade": false,
     "grade_id": "cell-f0edb2a029003f3a",
     "locked": false,
     "schema_version": 3,
     "solution": true,
     "task": false
    }
   },
   "outputs": [],
   "source": [
    "# answer1.2 <- ...\n",
    "\n",
    "### BEGIN SOLUTION\n",
    "answer1.2 <- \"B\"\n",
    "### END SOLUTION"
   ]
  },
  {
   "cell_type": "code",
   "execution_count": 7,
   "metadata": {
    "nbgrader": {
     "grade": true,
     "grade_id": "cell-3467ef68544c6ec2",
     "locked": true,
     "points": 1,
     "schema_version": 3,
     "solution": false,
     "task": false
    }
   },
   "outputs": [
    {
     "name": "stdout",
     "output_type": "stream",
     "text": [
      "[1] \"Success!\"\n"
     ]
    }
   ],
   "source": [
    "test_1.2()"
   ]
  },
  {
   "cell_type": "markdown",
   "metadata": {
    "nbgrader": {
     "grade": false,
     "grade_id": "cell-a526e3ba7d40ef3c",
     "locked": true,
     "schema_version": 3,
     "solution": false,
     "task": false
    }
   },
   "source": [
    "**Question 1.3**\n",
    "<br>{points: 1}\n",
    "\n",
    "True or false?\n",
    "\n",
    "An estimator is a random variable whose distribution is the sampling distribution for a particular sample size and population parameter."
   ]
  },
  {
   "cell_type": "code",
   "execution_count": 8,
   "metadata": {
    "nbgrader": {
     "grade": false,
     "grade_id": "cell-f26017e8ccddaf15",
     "locked": false,
     "schema_version": 3,
     "solution": true,
     "task": false
    }
   },
   "outputs": [],
   "source": [
    "# answer1.3 <- ...\n",
    "\n",
    "### BEGIN SOLUTION\n",
    "answer1.3 <- \"true\"\n",
    "### END SOLUTION"
   ]
  },
  {
   "cell_type": "code",
   "execution_count": 9,
   "metadata": {
    "nbgrader": {
     "grade": true,
     "grade_id": "cell-342c9b87e546ce6c",
     "locked": true,
     "points": 1,
     "schema_version": 3,
     "solution": false,
     "task": false
    }
   },
   "outputs": [
    {
     "name": "stdout",
     "output_type": "stream",
     "text": [
      "[1] \"Success!\"\n"
     ]
    }
   ],
   "source": [
    "test_1.3()"
   ]
  },
  {
   "cell_type": "markdown",
   "metadata": {
    "nbgrader": {
     "grade": false,
     "grade_id": "cell-eff6d292442e9f82",
     "locked": true,
     "schema_version": 3,
     "solution": false,
     "task": false
    }
   },
   "source": [
    "## 2. Influence of Sample Size\n",
    "\n",
    "Recall that in the last worksheet, we took a look at how the size of our virtual samples can affect the shape of the sampling distributions that they produce. In this tutorial, we are going to continue looking at these trends in a bit more depth.\n",
    "\n",
    "To do this, we will be using the `apt_buildings` dataset from the `datateachr` package. Unlike the other dataset that we have worked with from this package, `vancouver_trees`, this dataset originates from Toronto. Here is a bit more information about it from the documentation (which you can access yourself using `?apt_buildings`):\n",
    "> This dataset contains Toronto apartment building information for buildings that are registered in the Apartment Building Standard (ABS) program. The information was collected from building owners/managers during the initial registration process. \n",
    "\n",
    "![](https://media.giphy.com/media/Ru86ce44TU4A8/giphy.gif)\n",
    "<div style=\"text-align: center\"><i>Image from <a href=\"https://media.giphy.com/media/Ru86ce44TU4A8/giphy.gif\">giphy.com</i></a></div>\n",
    "\n",
    "As this dataset contains information about all apartments registered in the ABS program, we can consider it as a finite population. Hence, to solidify our understanding of the influence of sampling size on sampling distributions, we will take a look at the **sampling distribution of sample variance** for the **age (in years)** of our population apartment buildings in Toronto that are registered in the ABS program."
   ]
  },
  {
   "cell_type": "code",
   "execution_count": 10,
   "metadata": {
    "nbgrader": {
     "grade": false,
     "grade_id": "cell-26183e350a81edc6",
     "locked": true,
     "schema_version": 3,
     "solution": false,
     "task": false
    }
   },
   "outputs": [
    {
     "data": {
      "text/html": [
       "<style>\n",
       ".list-inline {list-style: none; margin:0; padding: 0}\n",
       ".list-inline>li {display: inline-block}\n",
       ".list-inline>li:not(:last-child)::after {content: \"\\00b7\"; padding: 0 .5ex}\n",
       "</style>\n",
       "<ol class=list-inline><li>'id'</li><li>'air_conditioning'</li><li>'amenities'</li><li>'balconies'</li><li>'barrier_free_accessibilty_entr'</li><li>'bike_parking'</li><li>'exterior_fire_escape'</li><li>'fire_alarm'</li><li>'garbage_chutes'</li><li>'heating_type'</li><li>'intercom'</li><li>'laundry_room'</li><li>'locker_or_storage_room'</li><li>'no_of_elevators'</li><li>'parking_type'</li><li>'pets_allowed'</li><li>'prop_management_company_name'</li><li>'property_type'</li><li>'rsn'</li><li>'separate_gas_meters'</li><li>'separate_hydro_meters'</li><li>'separate_water_meters'</li><li>'site_address'</li><li>'sprinkler_system'</li><li>'visitor_parking'</li><li>'ward'</li><li>'window_type'</li><li>'year_built'</li><li>'year_registered'</li><li>'no_of_storeys'</li><li>'emergency_power'</li><li>'non-smoking_building'</li><li>'no_of_units'</li><li>'no_of_accessible_parking_spaces'</li><li>'facilities_available'</li><li>'cooling_room'</li><li>'no_barrier_free_accessible_units'</li></ol>\n"
      ],
      "text/latex": [
       "\\begin{enumerate*}\n",
       "\\item 'id'\n",
       "\\item 'air\\_conditioning'\n",
       "\\item 'amenities'\n",
       "\\item 'balconies'\n",
       "\\item 'barrier\\_free\\_accessibilty\\_entr'\n",
       "\\item 'bike\\_parking'\n",
       "\\item 'exterior\\_fire\\_escape'\n",
       "\\item 'fire\\_alarm'\n",
       "\\item 'garbage\\_chutes'\n",
       "\\item 'heating\\_type'\n",
       "\\item 'intercom'\n",
       "\\item 'laundry\\_room'\n",
       "\\item 'locker\\_or\\_storage\\_room'\n",
       "\\item 'no\\_of\\_elevators'\n",
       "\\item 'parking\\_type'\n",
       "\\item 'pets\\_allowed'\n",
       "\\item 'prop\\_management\\_company\\_name'\n",
       "\\item 'property\\_type'\n",
       "\\item 'rsn'\n",
       "\\item 'separate\\_gas\\_meters'\n",
       "\\item 'separate\\_hydro\\_meters'\n",
       "\\item 'separate\\_water\\_meters'\n",
       "\\item 'site\\_address'\n",
       "\\item 'sprinkler\\_system'\n",
       "\\item 'visitor\\_parking'\n",
       "\\item 'ward'\n",
       "\\item 'window\\_type'\n",
       "\\item 'year\\_built'\n",
       "\\item 'year\\_registered'\n",
       "\\item 'no\\_of\\_storeys'\n",
       "\\item 'emergency\\_power'\n",
       "\\item 'non-smoking\\_building'\n",
       "\\item 'no\\_of\\_units'\n",
       "\\item 'no\\_of\\_accessible\\_parking\\_spaces'\n",
       "\\item 'facilities\\_available'\n",
       "\\item 'cooling\\_room'\n",
       "\\item 'no\\_barrier\\_free\\_accessible\\_units'\n",
       "\\end{enumerate*}\n"
      ],
      "text/markdown": [
       "1. 'id'\n",
       "2. 'air_conditioning'\n",
       "3. 'amenities'\n",
       "4. 'balconies'\n",
       "5. 'barrier_free_accessibilty_entr'\n",
       "6. 'bike_parking'\n",
       "7. 'exterior_fire_escape'\n",
       "8. 'fire_alarm'\n",
       "9. 'garbage_chutes'\n",
       "10. 'heating_type'\n",
       "11. 'intercom'\n",
       "12. 'laundry_room'\n",
       "13. 'locker_or_storage_room'\n",
       "14. 'no_of_elevators'\n",
       "15. 'parking_type'\n",
       "16. 'pets_allowed'\n",
       "17. 'prop_management_company_name'\n",
       "18. 'property_type'\n",
       "19. 'rsn'\n",
       "20. 'separate_gas_meters'\n",
       "21. 'separate_hydro_meters'\n",
       "22. 'separate_water_meters'\n",
       "23. 'site_address'\n",
       "24. 'sprinkler_system'\n",
       "25. 'visitor_parking'\n",
       "26. 'ward'\n",
       "27. 'window_type'\n",
       "28. 'year_built'\n",
       "29. 'year_registered'\n",
       "30. 'no_of_storeys'\n",
       "31. 'emergency_power'\n",
       "32. 'non-smoking_building'\n",
       "33. 'no_of_units'\n",
       "34. 'no_of_accessible_parking_spaces'\n",
       "35. 'facilities_available'\n",
       "36. 'cooling_room'\n",
       "37. 'no_barrier_free_accessible_units'\n",
       "\n",
       "\n"
      ],
      "text/plain": [
       " [1] \"id\"                               \"air_conditioning\"                \n",
       " [3] \"amenities\"                        \"balconies\"                       \n",
       " [5] \"barrier_free_accessibilty_entr\"   \"bike_parking\"                    \n",
       " [7] \"exterior_fire_escape\"             \"fire_alarm\"                      \n",
       " [9] \"garbage_chutes\"                   \"heating_type\"                    \n",
       "[11] \"intercom\"                         \"laundry_room\"                    \n",
       "[13] \"locker_or_storage_room\"           \"no_of_elevators\"                 \n",
       "[15] \"parking_type\"                     \"pets_allowed\"                    \n",
       "[17] \"prop_management_company_name\"     \"property_type\"                   \n",
       "[19] \"rsn\"                              \"separate_gas_meters\"             \n",
       "[21] \"separate_hydro_meters\"            \"separate_water_meters\"           \n",
       "[23] \"site_address\"                     \"sprinkler_system\"                \n",
       "[25] \"visitor_parking\"                  \"ward\"                            \n",
       "[27] \"window_type\"                      \"year_built\"                      \n",
       "[29] \"year_registered\"                  \"no_of_storeys\"                   \n",
       "[31] \"emergency_power\"                  \"non-smoking_building\"            \n",
       "[33] \"no_of_units\"                      \"no_of_accessible_parking_spaces\" \n",
       "[35] \"facilities_available\"             \"cooling_room\"                    \n",
       "[37] \"no_barrier_free_accessible_units\""
      ]
     },
     "metadata": {},
     "output_type": "display_data"
    }
   ],
   "source": [
    "# Run this cell before continuing.\n",
    "colnames(apt_buildings)"
   ]
  },
  {
   "cell_type": "markdown",
   "metadata": {
    "nbgrader": {
     "grade": false,
     "grade_id": "cell-748bb43889baf70e",
     "locked": true,
     "schema_version": 3,
     "solution": false,
     "task": false
    }
   },
   "source": [
    "Taking a look at the list of columns in the `apt_buildings` dataset that has been printed above, it appears there is no column describing age; we must create one ourselves."
   ]
  },
  {
   "cell_type": "markdown",
   "metadata": {
    "nbgrader": {
     "grade": false,
     "grade_id": "cell-d022c2280f3cad60",
     "locked": true,
     "schema_version": 3,
     "solution": false,
     "task": false
    }
   },
   "source": [
    "**Question 2.0** \n",
    "<br> {points: 1}\n",
    "\n",
    "Use the scaffolding in the code cell below to add a new `age_yrs` column (which should describe be the age in **years** of each building) to `apt_buildings`, and then select only that new column. Afterwards, filter out rows that contain `NA` values.\n",
    "\n",
    "_**Note:** `Sys.Date()` is a function that returns a `date-time` object describing the current time, and `year()` is a function that gets the year from a `date-time` object. Hence, `year(Sys.Date())` is the current year._\n",
    "\n",
    "_**Hint:** check the list of column names above to see which column you need to use to calculate `age_yrs`._\n",
    "\n",
    "_Assign your data frame to an object called `apt_ages`._"
   ]
  },
  {
   "cell_type": "code",
   "execution_count": 11,
   "metadata": {
    "nbgrader": {
     "grade": false,
     "grade_id": "cell-72431e625a28bea3",
     "locked": false,
     "schema_version": 3,
     "solution": true,
     "task": false
    }
   },
   "outputs": [
    {
     "data": {
      "text/html": [
       "<table>\n",
       "<caption>A tibble: 6 × 1</caption>\n",
       "<thead>\n",
       "\t<tr><th scope=col>age_yrs</th></tr>\n",
       "\t<tr><th scope=col>&lt;dbl&gt;</th></tr>\n",
       "</thead>\n",
       "<tbody>\n",
       "\t<tr><td>54</td></tr>\n",
       "\t<tr><td>51</td></tr>\n",
       "\t<tr><td>94</td></tr>\n",
       "\t<tr><td>62</td></tr>\n",
       "\t<tr><td>78</td></tr>\n",
       "\t<tr><td>69</td></tr>\n",
       "</tbody>\n",
       "</table>\n"
      ],
      "text/latex": [
       "A tibble: 6 × 1\n",
       "\\begin{tabular}{l}\n",
       " age\\_yrs\\\\\n",
       " <dbl>\\\\\n",
       "\\hline\n",
       "\t 54\\\\\n",
       "\t 51\\\\\n",
       "\t 94\\\\\n",
       "\t 62\\\\\n",
       "\t 78\\\\\n",
       "\t 69\\\\\n",
       "\\end{tabular}\n"
      ],
      "text/markdown": [
       "\n",
       "A tibble: 6 × 1\n",
       "\n",
       "| age_yrs &lt;dbl&gt; |\n",
       "|---|\n",
       "| 54 |\n",
       "| 51 |\n",
       "| 94 |\n",
       "| 62 |\n",
       "| 78 |\n",
       "| 69 |\n",
       "\n"
      ],
      "text/plain": [
       "  age_yrs\n",
       "1 54     \n",
       "2 51     \n",
       "3 94     \n",
       "4 62     \n",
       "5 78     \n",
       "6 69     "
      ]
     },
     "metadata": {},
     "output_type": "display_data"
    }
   ],
   "source": [
    "# apt_ages <- \n",
    "#    apt_buildings %>% \n",
    "#    ...(... = year(Sys.Date()) - ...) %>%    \n",
    "#    select(...) %>% \n",
    "#    ...(...)\n",
    "\n",
    "### BEGIN SOLUTION\n",
    "apt_ages <- \n",
    "    apt_buildings %>% \n",
    "    mutate(age_yrs = year(Sys.Date()) - year_built) %>%    \n",
    "    select(age_yrs) %>% \n",
    "    filter(!is.na(age_yrs))\n",
    "### END SOLUTION\n",
    "\n",
    "head(apt_ages)"
   ]
  },
  {
   "cell_type": "code",
   "execution_count": 12,
   "metadata": {
    "nbgrader": {
     "grade": true,
     "grade_id": "cell-06cb18bbf067eafe",
     "locked": true,
     "points": 1,
     "schema_version": 3,
     "solution": false,
     "task": false
    }
   },
   "outputs": [
    {
     "name": "stdout",
     "output_type": "stream",
     "text": [
      "[1] \"Success!\"\n"
     ]
    }
   ],
   "source": [
    "test_2.0()"
   ]
  },
  {
   "cell_type": "markdown",
   "metadata": {
    "nbgrader": {
     "grade": false,
     "grade_id": "cell-6d372aa6ac776323",
     "locked": true,
     "schema_version": 3,
     "solution": false,
     "task": false
    }
   },
   "source": [
    "**Question 2.1**\n",
    "<br> {points: 1}\n",
    "\n",
    "Visualize the population distribution by creating a histogram with bin widths of 10 using `geom_histogram`. Add a title to the plot using `ggtitle` and ensure that the x-axis has a descriptive and human-readable label.\n",
    "\n",
    "_Assign your plot to an object called `apt_age_dist`._"
   ]
  },
  {
   "cell_type": "code",
   "execution_count": 13,
   "metadata": {
    "nbgrader": {
     "grade": false,
     "grade_id": "cell-5ffde2ae0d0f6fb1",
     "locked": false,
     "schema_version": 3,
     "solution": true,
     "task": false
    }
   },
   "outputs": [
    {
     "data": {
      "image/png": "[encoded data removed]",
      "text/plain": [
       "plot without title"
      ]
     },
     "metadata": {
      "image/png": {
       "height": 420,
       "width": 420
      }
     },
     "output_type": "display_data"
    }
   ],
   "source": [
    "# apt_age_dist <- \n",
    "#    apt_ages %>% \n",
    "#    ggplot(aes(x = ...)) +\n",
    "#    ...(... = ..., boundary = 0, color = 'white') +\n",
    "#    ...(\"Ages of Toronto ABS Apartment Buildings\") +\n",
    "#    ...(\"...\")\n",
    "\n",
    "### BEGIN SOLUTION\n",
    "apt_age_dist <- \n",
    "    apt_ages %>% \n",
    "    ggplot(aes(x = age_yrs)) +\n",
    "    geom_histogram(binwidth = 10, boundary = 0, color = 'white') +\n",
    "    ggtitle(\"Ages of Toronto ABS Apartment Buildings\") +\n",
    "    xlab(\"Age (years)\")\n",
    "### END SOLUTION\n",
    "\n",
    "apt_age_dist"
   ]
  },
  {
   "cell_type": "code",
   "execution_count": 14,
   "metadata": {
    "nbgrader": {
     "grade": true,
     "grade_id": "cell-260bb0b7736e6db1",
     "locked": true,
     "points": 1,
     "schema_version": 3,
     "solution": false,
     "task": false
    }
   },
   "outputs": [
    {
     "name": "stdout",
     "output_type": "stream",
     "text": [
      "[1] \"Success!\"\n"
     ]
    }
   ],
   "source": [
    "test_2.1()"
   ]
  },
  {
   "cell_type": "markdown",
   "metadata": {
    "nbgrader": {
     "grade": false,
     "grade_id": "cell-b4a218c8fc742180",
     "locked": true,
     "schema_version": 3,
     "solution": false,
     "task": false
    }
   },
   "source": [
    "**Question 2.2**\n",
    "<br> {points: 3}\n",
    "\n",
    "Let the $X$ be the age (in years) of a randomly selected apartment from the population of interest (all apartments in Toronto that are registered in the ABS program). Is it more likely that $X \\leq 25$ or $X \\geq 75$? Justify your answer in 1-2 sentences."
   ]
  },
  {
   "cell_type": "markdown",
   "metadata": {
    "nbgrader": {
     "grade": true,
     "grade_id": "cell-a28bcc5868a1fae7",
     "locked": false,
     "points": 3,
     "schema_version": 3,
     "solution": true,
     "task": false
    }
   },
   "source": [
    "### BEGIN SOLUTION\n",
    "More apartments in the population are $\\geq 75$ years old than apartments $\\leq 25$ years old, so it is more likely that we choose one that is $\\geq 75$ years old since all of the apartments in the population have an equal chance of being selected.\n",
    "### END SOLUTION"
   ]
  },
  {
   "cell_type": "markdown",
   "metadata": {
    "nbgrader": {
     "grade": false,
     "grade_id": "cell-ba00d3dc68131c58",
     "locked": true,
     "schema_version": 3,
     "solution": false,
     "task": false
    }
   },
   "source": [
    "**Question 2.3**\n",
    "<br> {points: 1}\n",
    "\n",
    "Use the `rep_sample_n` function to take 2000 samples of size 10 from the population `apt_ages`. Use the seed `3735`. Then, calculate the variance of each sample; name the column containing the sample variances `sample_var`. Your final data frame should have two columns: `replicate` and `sample_var`.\n",
    "\n",
    "_Assign your data frame to an object called `sample_vars_10x2000`._"
   ]
  },
  {
   "cell_type": "code",
   "execution_count": 15,
   "metadata": {
    "nbgrader": {
     "grade": false,
     "grade_id": "cell-bfd696f40df627bb",
     "locked": false,
     "schema_version": 3,
     "solution": true,
     "task": false
    }
   },
   "outputs": [
    {
     "name": "stderr",
     "output_type": "stream",
     "text": [
      "`summarise()` ungrouping output (override with `.groups` argument)\n",
      "\n"
     ]
    },
    {
     "data": {
      "text/html": [
       "<table>\n",
       "<caption>A tibble: 6 × 2</caption>\n",
       "<thead>\n",
       "\t<tr><th scope=col>replicate</th><th scope=col>sample_var</th></tr>\n",
       "\t<tr><th scope=col>&lt;int&gt;</th><th scope=col>&lt;dbl&gt;</th></tr>\n",
       "</thead>\n",
       "<tbody>\n",
       "\t<tr><td>1</td><td> 60.71111</td></tr>\n",
       "\t<tr><td>2</td><td>310.71111</td></tr>\n",
       "\t<tr><td>3</td><td>166.04444</td></tr>\n",
       "\t<tr><td>4</td><td>193.77778</td></tr>\n",
       "\t<tr><td>5</td><td>129.28889</td></tr>\n",
       "\t<tr><td>6</td><td>200.45556</td></tr>\n",
       "</tbody>\n",
       "</table>\n"
      ],
      "text/latex": [
       "A tibble: 6 × 2\n",
       "\\begin{tabular}{ll}\n",
       " replicate & sample\\_var\\\\\n",
       " <int> & <dbl>\\\\\n",
       "\\hline\n",
       "\t 1 &  60.71111\\\\\n",
       "\t 2 & 310.71111\\\\\n",
       "\t 3 & 166.04444\\\\\n",
       "\t 4 & 193.77778\\\\\n",
       "\t 5 & 129.28889\\\\\n",
       "\t 6 & 200.45556\\\\\n",
       "\\end{tabular}\n"
      ],
      "text/markdown": [
       "\n",
       "A tibble: 6 × 2\n",
       "\n",
       "| replicate &lt;int&gt; | sample_var &lt;dbl&gt; |\n",
       "|---|---|\n",
       "| 1 |  60.71111 |\n",
       "| 2 | 310.71111 |\n",
       "| 3 | 166.04444 |\n",
       "| 4 | 193.77778 |\n",
       "| 5 | 129.28889 |\n",
       "| 6 | 200.45556 |\n",
       "\n"
      ],
      "text/plain": [
       "  replicate sample_var\n",
       "1 1          60.71111 \n",
       "2 2         310.71111 \n",
       "3 3         166.04444 \n",
       "4 4         193.77778 \n",
       "5 5         129.28889 \n",
       "6 6         200.45556 "
      ]
     },
     "metadata": {},
     "output_type": "display_data"
    }
   ],
   "source": [
    "set.seed(3735) # DO NOT CHANGE!\n",
    "\n",
    "### BEGIN SOLUTION\n",
    "sample_vars_10x2000 <- \n",
    "    apt_ages %>% \n",
    "    rep_sample_n(size = 10, reps = 2000) %>% \n",
    "    group_by(replicate) %>% \n",
    "    summarise(sample_var = var(age_yrs))\n",
    "### END SOLUTION\n",
    "\n",
    "head(sample_vars_10x2000)"
   ]
  },
  {
   "cell_type": "code",
   "execution_count": 16,
   "metadata": {
    "nbgrader": {
     "grade": true,
     "grade_id": "cell-0a2c436fa5a27f7b",
     "locked": true,
     "points": 1,
     "schema_version": 3,
     "solution": false,
     "task": false
    }
   },
   "outputs": [
    {
     "name": "stdout",
     "output_type": "stream",
     "text": [
      "[1] \"Success!\"\n"
     ]
    }
   ],
   "source": [
    "test_2.3()"
   ]
  },
  {
   "cell_type": "markdown",
   "metadata": {
    "nbgrader": {
     "grade": false,
     "grade_id": "cell-61b2eff1ffabc9c8",
     "locked": true,
     "schema_version": 3,
     "solution": false,
     "task": false
    }
   },
   "source": [
    "**Question 2.4**\n",
    "<br> {points: 1}\n",
    "\n",
    "Visualize the distribution of the sample variances that you calculated in the previous question by plotting a histogram with bin widths of 80 using `geom_histogram`. Add a title of \"size = 10, 2000 reps\" to the plot using `ggtitle` and ensure that the x-axis has a descriptive and human-readable label.\n",
    "\n",
    "_Assign your plot to an object called `sampling_dist_10x2000`._"
   ]
  },
  {
   "cell_type": "code",
   "execution_count": 17,
   "metadata": {
    "nbgrader": {
     "grade": false,
     "grade_id": "cell-57d34a3685eadabf",
     "locked": false,
     "schema_version": 3,
     "solution": true,
     "task": false
    }
   },
   "outputs": [
    {
     "data": {
      "image/png": "[encoded data removed]",
      "text/plain": [
       "plot without title"
      ]
     },
     "metadata": {
      "image/png": {
       "height": 420,
       "width": 420
      }
     },
     "output_type": "display_data"
    }
   ],
   "source": [
    "# sampling_dist_10x2000 <- \n",
    "#    ... %>% \n",
    "#    ...(aes(x = sample_var)) +\n",
    "#    ...(binwidth = ...) +\n",
    "#    ggtitle(...) +\n",
    "#    ...(...)\n",
    "\n",
    "### BEGIN SOLUTION\n",
    "sampling_dist_10x2000 <- \n",
    "    sample_vars_10x2000 %>% \n",
    "    ggplot(aes(x = sample_var)) +\n",
    "    geom_histogram(binwidth = 80, color = 'white') +\n",
    "    ggtitle(\"size = 10, 2000 reps\") +\n",
    "    xlab(\"Sample Variance\")\n",
    "### END SOLUTION\n",
    "\n",
    "sampling_dist_10x2000"
   ]
  },
  {
   "cell_type": "code",
   "execution_count": 18,
   "metadata": {
    "nbgrader": {
     "grade": true,
     "grade_id": "cell-91d26a4811796629",
     "locked": true,
     "points": 1,
     "schema_version": 3,
     "solution": false,
     "task": false
    }
   },
   "outputs": [
    {
     "name": "stdout",
     "output_type": "stream",
     "text": [
      "[1] \"Success!\"\n"
     ]
    }
   ],
   "source": [
    "test_2.4()"
   ]
  },
  {
   "cell_type": "markdown",
   "metadata": {
    "nbgrader": {
     "grade": false,
     "grade_id": "cell-a9196bcc6cfa8834",
     "locked": true,
     "schema_version": 3,
     "solution": false,
     "task": false
    }
   },
   "source": [
    "**Question 2.5**\n",
    "<br> {points: 1}\n",
    "\n",
    "Using the same strategy as you did in **question 2.2**, draw 2000 random samples of size 50 from the population `apt_ages`. Use the seed `4623`. Then, for each sample, calculate the sample variance. Finally, visualize the distribution of the sample variances you just calculated by plotting a histogram with bin widths of 60 using `geom_histogram`. Add a title of \"size = 50, 2000 reps\" to the plot using `ggtitle` and ensure that the x-axis has a descriptive and human-readable label.\n",
    "\n",
    "_Assign your plot to an object called `sampling_dist_50x2000`._"
   ]
  },
  {
   "cell_type": "code",
   "execution_count": 19,
   "metadata": {
    "nbgrader": {
     "grade": false,
     "grade_id": "cell-5f6ff68722771bb2",
     "locked": false,
     "schema_version": 3,
     "solution": true,
     "task": false
    }
   },
   "outputs": [
    {
     "name": "stderr",
     "output_type": "stream",
     "text": [
      "`summarise()` ungrouping output (override with `.groups` argument)\n",
      "\n"
     ]
    },
    {
     "data": {
      "image/png": "[encoded data removed]",
      "text/plain": [
       "plot without title"
      ]
     },
     "metadata": {
      "image/png": {
       "height": 420,
       "width": 420
      }
     },
     "output_type": "display_data"
    }
   ],
   "source": [
    "set.seed(4623) # DO NOT CHANGE!\n",
    "\n",
    "### BEGIN SOLUTION\n",
    "sampling_dist_50x2000 <- apt_ages %>% \n",
    "    rep_sample_n(size = 50, reps = 2000) %>% \n",
    "    group_by(replicate) %>% \n",
    "    summarise(sample_var = var(age_yrs)) %>% \n",
    "    ggplot(aes(x = sample_var)) + \n",
    "    geom_histogram(binwidth = 60, color = 'white') +\n",
    "    ggtitle(\"size = 50, 2000 reps\") +\n",
    "    xlab(\"Sample Variance\")\n",
    "### END SOLUTION\n",
    "\n",
    "sampling_dist_50x2000"
   ]
  },
  {
   "cell_type": "code",
   "execution_count": 20,
   "metadata": {
    "nbgrader": {
     "grade": true,
     "grade_id": "cell-4654ab9a460d94c4",
     "locked": true,
     "points": 1,
     "schema_version": 3,
     "solution": false,
     "task": false
    }
   },
   "outputs": [
    {
     "name": "stdout",
     "output_type": "stream",
     "text": [
      "[1] \"Success!\"\n"
     ]
    }
   ],
   "source": [
    "test_2.5()"
   ]
  },
  {
   "cell_type": "markdown",
   "metadata": {
    "nbgrader": {
     "grade": false,
     "grade_id": "cell-c5bb4004eb9087f2",
     "locked": true,
     "schema_version": 3,
     "solution": false,
     "task": false
    }
   },
   "source": [
    "**Question 2.6**\n",
    "<br> {points: 1}\n",
    "\n",
    "Using the same strategy as you did in **question 2.2**, draw 2000 random samples of size 150 from the population `apt_ages`. Use the seed `8614`. Then, for each sample, calculate the sample variance. Finally, visualize the distribution of the sample variances you just calculated by plotting a histogram with bin widths of 30 using `geom_histogram`. Add a title of \"size = 150, 2000 reps\" to the plot using `ggtitle` and ensure that the x-axis has a descriptive and human-readable label.\n",
    "\n",
    "_Assign your plot to an object called `sampling_dist_150x2000`._"
   ]
  },
  {
   "cell_type": "code",
   "execution_count": 21,
   "metadata": {
    "nbgrader": {
     "grade": false,
     "grade_id": "cell-dba2e1cf0450de35",
     "locked": false,
     "schema_version": 3,
     "solution": true,
     "task": false
    }
   },
   "outputs": [
    {
     "name": "stderr",
     "output_type": "stream",
     "text": [
      "`summarise()` ungrouping output (override with `.groups` argument)\n",
      "\n"
     ]
    },
    {
     "data": {
      "image/png": "[encoded data removed]",
      "text/plain": [
       "plot without title"
      ]
     },
     "metadata": {
      "image/png": {
       "height": 420,
       "width": 420
      }
     },
     "output_type": "display_data"
    }
   ],
   "source": [
    "set.seed(8614)\n",
    "\n",
    "### BEGIN SOLUTION\n",
    "sampling_dist_150x2000 <- apt_ages %>% \n",
    "    rep_sample_n(size = 150, reps = 2000) %>% \n",
    "    group_by(replicate) %>% \n",
    "    summarise(sample_var = var(age_yrs)) %>% \n",
    "    ggplot(aes(x = sample_var)) + \n",
    "    geom_histogram(binwidth = 30, color = 'white') +\n",
    "    ggtitle(\"size = 150, 2000 reps\") +\n",
    "    xlab(\"Sample Variance\")\n",
    "### END SOLUTION\n",
    "\n",
    "sampling_dist_150x2000"
   ]
  },
  {
   "cell_type": "code",
   "execution_count": 22,
   "metadata": {
    "nbgrader": {
     "grade": true,
     "grade_id": "cell-4799dd561a0d61c7",
     "locked": true,
     "points": 1,
     "schema_version": 3,
     "solution": false,
     "task": false
    }
   },
   "outputs": [
    {
     "name": "stdout",
     "output_type": "stream",
     "text": [
      "[1] \"Success!\"\n"
     ]
    }
   ],
   "source": [
    "test_2.6()"
   ]
  },
  {
   "cell_type": "markdown",
   "metadata": {
    "nbgrader": {
     "grade": false,
     "grade_id": "cell-c2fce07e86a7fc10",
     "locked": true,
     "schema_version": 3,
     "solution": false,
     "task": false
    }
   },
   "source": [
    "_Use the set of plots below to answer the **next 2 questions**. Some of the code may be confusing, but you do not need to understand the code to answer the questions._\n",
    "\n",
    "In the code cell below, we have used `plot_grid` to plot the three sampling distributions side-by-side. We have sorted the plots by increasing order of sample size from left to right.\n",
    "\n",
    "**Note**: a small number of the sample variances are not visible because we manually set bounds on the x-axis so you can compare the distributions more easily (this causes the warnings you observe below)."
   ]
  },
  {
   "cell_type": "code",
   "execution_count": 23,
   "metadata": {
    "nbgrader": {
     "grade": false,
     "grade_id": "cell-256a9d20bf3efb5a",
     "locked": true,
     "schema_version": 3,
     "solution": false,
     "task": false
    }
   },
   "outputs": [
    {
     "name": "stderr",
     "output_type": "stream",
     "text": [
      "Scale for 'y' is already present. Adding another scale for 'y', which will\n",
      "replace the existing scale.\n",
      "\n",
      "Scale for 'y' is already present. Adding another scale for 'y', which will\n",
      "replace the existing scale.\n",
      "\n",
      "Scale for 'y' is already present. Adding another scale for 'y', which will\n",
      "replace the existing scale.\n",
      "\n",
      "Warning message:\n",
      "“Removed 25 rows containing non-finite values (stat_bin).”\n",
      "Warning message:\n",
      "“Removed 2 rows containing missing values (geom_bar).”\n",
      "Warning message:\n",
      "“Removed 1 rows containing non-finite values (stat_bin).”\n",
      "Warning message:\n",
      "“Removed 2 rows containing missing values (geom_bar).”\n",
      "Warning message:\n",
      "“Removed 2 rows containing missing values (geom_bar).”\n"
     ]
    },
    {
     "data": {
      "image/png": "[encoded data removed]",
      "text/plain": [
       "plot without title"
      ]
     },
     "metadata": {
      "image/png": {
       "height": 420,
       "width": 1200
      }
     },
     "output_type": "display_data"
    }
   ],
   "source": [
    "# Run this cell before continuing.\n",
    "options(repr.plot.width = 20) # temp\n",
    "\n",
    "var_plot_row <- plot_grid(sampling_dist_10x2000  + xlim(0, 1250) + ylim(0, 500)+ ylim(0, 500) + theme(text = element_text(size=25)),\n",
    "                           sampling_dist_50x2000  + xlim(0, 1250) + ylim(0, 500) + ylim(0, 500) + theme(text = element_text(size=25)),\n",
    "                           sampling_dist_150x2000 + xlim(0, 1250) + ylim(0, 500) + ylim(0, 500) + theme(text = element_text(size=25)),\n",
    "                           ncol = 3)\n",
    "title <- ggdraw() + \n",
    "  draw_label(\"Comparison of distributions of sample variances\",\n",
    "             fontface = 'bold',\n",
    "             x = 0,\n",
    "             hjust = 0) +\n",
    "  theme(plot.margin = margin(0, 0, 0, 7))\n",
    "\n",
    "vars_grid <- plot_grid(title,\n",
    "                       var_plot_row,\n",
    "                       ncol = 1,\n",
    "                       rel_heights = c(0.1, 1))\n",
    "\n",
    "vars_grid"
   ]
  },
  {
   "cell_type": "markdown",
   "metadata": {
    "nbgrader": {
     "grade": false,
     "grade_id": "cell-b81a69a258c5c9e2",
     "locked": true,
     "schema_version": 3,
     "solution": false,
     "task": false
    }
   },
   "source": [
    "**Question 2.7**\n",
    "<br> {points: 3}\n",
    "\n",
    "Given the three distributions of sample variances printed above, what can you say about the relationship(s) between sample size and the resulting distribution of sample variances (i.e. as the sample size changes, how does the distribution change)? Answer in 2-3 sentences in your own words."
   ]
  },
  {
   "cell_type": "markdown",
   "metadata": {
    "nbgrader": {
     "grade": true,
     "grade_id": "cell-6247a09f38047bd5",
     "locked": false,
     "points": 3,
     "schema_version": 3,
     "solution": true,
     "task": false
    }
   },
   "source": [
    "### BEGIN SOLUTION\n",
    "- As sample size increases, the distribution of sample variances becomes narrower (OR the standard error of the distribution decreases).\n",
    "- As sample size increases, the distribution of sample variances becomes more symmetrical and/or appears more bell shaped.\n",
    "\n",
    "### END SOLUTION"
   ]
  },
  {
   "cell_type": "markdown",
   "metadata": {
    "nbgrader": {
     "grade": false,
     "grade_id": "cell-bf217720327aedca",
     "locked": true,
     "schema_version": 3,
     "solution": false,
     "task": false
    }
   },
   "source": [
    "In the cell below, we have printed the true variance of the population. Use this value AND the sampling distribution printed above to answer the **next question**."
   ]
  },
  {
   "cell_type": "code",
   "execution_count": 24,
   "metadata": {
    "nbgrader": {
     "grade": false,
     "grade_id": "cell-9b62bb9684a965cc",
     "locked": true,
     "schema_version": 3,
     "solution": false,
     "task": false
    }
   },
   "outputs": [
    {
     "name": "stdout",
     "output_type": "stream",
     "text": [
      "[1] 364.0567\n"
     ]
    }
   ],
   "source": [
    "# Run this cell before continuing.\n",
    "print(var(apt_ages$age_yrs))"
   ]
  },
  {
   "cell_type": "markdown",
   "metadata": {
    "nbgrader": {
     "grade": false,
     "grade_id": "cell-cf251c85ca4d4756",
     "locked": true,
     "schema_version": 3,
     "solution": false,
     "task": false
    }
   },
   "source": [
    "**Question 2.8**\n",
    "<br> {points: 3}\n",
    "\n",
    "What is similar between the three sampling distributions above? Answer in 1-2 sentences in your own words."
   ]
  },
  {
   "cell_type": "markdown",
   "metadata": {
    "nbgrader": {
     "grade": true,
     "grade_id": "cell-487509bbc8ae46a2",
     "locked": false,
     "points": 3,
     "schema_version": 3,
     "solution": true,
     "task": false
    }
   },
   "source": [
    "### BEGIN SOLUTION\n",
    "- The mean of each sampling distribution appears to be near the true variance of ~360 (OR the \"centre\" of each sampling distribution appears to be near the true variance of ~360 should probably be accepted here as well).\n",
    "\n",
    "### END SOLUTION"
   ]
  },
  {
   "cell_type": "markdown",
   "metadata": {
    "nbgrader": {
     "grade": false,
     "grade_id": "cell-70a043b6daa5e7e2",
     "locked": true,
     "schema_version": 3,
     "solution": false,
     "task": false
    }
   },
   "source": [
    "## 3. Influence of Sample Repetitions (the `reps` argument)\n",
    "\n",
    "At this point, you should have a deep understanding of how sample size influences the sampling distributions of point estimates. However, as we hinted in the previous section, there is one more argument that we haven't tinkered with: the `reps` argument in `rep_sample_n`.\n",
    "\n",
    "> To be clear, the `reps` argument describes the _number of samples_ that we take when calling `rep_sample_n`. The `replicate` column of the data frame returned by `rep_sample_n` describes which sample that observation is a member of. For example, if `reps = 10` and `size = 5`, then we will have $5 \\times 10 = 50$ rows in the data frame produced by `rep_sample_n`, with `replicate` numbers ranging from 1 to 10, inclusive.\n",
    "\n",
    "In this section, we are going to explore the relationship between the number of samples we take (sample repetitions) and the sampling distribution produced, while holding the sample size constant. To do this, we are going to use the same population as the last section (`apt_ages`: the age in years of apartments in Toronto that are registered in the Apartment Building Standard program)."
   ]
  },
  {
   "cell_type": "markdown",
   "metadata": {
    "nbgrader": {
     "grade": false,
     "grade_id": "cell-fae274cdbc0d7baf",
     "locked": true,
     "schema_version": 3,
     "solution": false,
     "task": false
    }
   },
   "source": [
    "**Question 3.0**\n",
    "<br> {points: 1}\n",
    "\n",
    "Consider the following code that takes a number of samples from `apt_ages`:\n",
    "```r\n",
    "samples <- apt_ages %>% \n",
    "    rep_sample_n(size = 15, reps = 2000)\n",
    "```\n",
    "\n",
    "And, suppose one row of the resulting `samples` data frame appears as follows:\n",
    "\n",
    "| replicate | age_yrs |\n",
    "| --------- | ------- |\n",
    "| 201       | 15      |\n",
    "\n",
    "Given the code above, which of the following statements is true about this individual row taken from `samples`?\n",
    "\n",
    "A. This is the 201st observation sampled from `apt_ages`.\n",
    "\n",
    "B. This is the 15th observation sampled from `apt_ages`.\n",
    "\n",
    "C. This observation is a member of the 201st sample taken from `apt_ages`.\n",
    "\n",
    "D. This observation is a member of the 15th sample taken from `apt_ages`.\n",
    "\n",
    "_Assign your answer to an object called `answer3.0`. Your answer should be a single character surrounded by quotes._"
   ]
  },
  {
   "cell_type": "code",
   "execution_count": 25,
   "metadata": {
    "nbgrader": {
     "grade": false,
     "grade_id": "cell-ddb2f18952910742",
     "locked": false,
     "schema_version": 3,
     "solution": true,
     "task": false
    }
   },
   "outputs": [],
   "source": [
    "# answer3.0 <- ...\n",
    "\n",
    "### BEGIN SOLUTION\n",
    "answer3.0 <- \"C\"\n",
    "### END SOLUTION"
   ]
  },
  {
   "cell_type": "code",
   "execution_count": 26,
   "metadata": {
    "nbgrader": {
     "grade": true,
     "grade_id": "cell-9e3d30aca1aa9bbc",
     "locked": true,
     "points": 3,
     "schema_version": 3,
     "solution": false,
     "task": false
    }
   },
   "outputs": [
    {
     "name": "stdout",
     "output_type": "stream",
     "text": [
      "[1] \"Success!\"\n"
     ]
    }
   ],
   "source": [
    "# Here we check to see whether you have given your answer the correct\n",
    "# object name. However, all other tests have been hidden so you can\n",
    "# practice deciding when you have the correct answer.\n",
    "test_that('Did not assign answer to an object called \"answer3.0\"', {\n",
    "  expect_true(exists(\"answer3.0\"))\n",
    "})\n",
    "\n",
    "test_that('Solution should be a single character (\"A\", \"B\", \"C\", or \"D\")', {\n",
    "  expect_match(answer3.0, \"a|b|c|d\", ignore.case = TRUE)\n",
    "})\n",
    "### BEGIN HIDDEN TESTS\n",
    "test_that(\"Solution is incorrect\", {\n",
    "  expect_equal(digest(tolower(answer3.0)), \"6e7a8c1c098e8817e3df3fd1b21149d1\")\n",
    "})\n",
    "\n",
    "print(\"Success!\")\n",
    "### END HIDDEN TESTS"
   ]
  },
  {
   "cell_type": "markdown",
   "metadata": {
    "nbgrader": {
     "grade": false,
     "grade_id": "cell-5de3743af956a013",
     "locked": true,
     "schema_version": 3,
     "solution": false,
     "task": false
    }
   },
   "source": [
    "**Question 3.1**\n",
    "<br> {points: 1}\n",
    "\n",
    "Use the `rep_sample_n` function to take 1000 samples of size 20 from the population `apt_ages`. Use the seed `3448`. Then, calculate the variance of each sample; name the column containing the sample variances `sample_var`.\n",
    "\n",
    "_Assign your data frame to an object called `sample_vars_20x1000`._"
   ]
  },
  {
   "cell_type": "code",
   "execution_count": 27,
   "metadata": {
    "nbgrader": {
     "grade": false,
     "grade_id": "cell-df551ee1f1ae6b8b",
     "locked": false,
     "schema_version": 3,
     "solution": true,
     "task": false
    }
   },
   "outputs": [
    {
     "name": "stderr",
     "output_type": "stream",
     "text": [
      "`summarise()` ungrouping output (override with `.groups` argument)\n",
      "\n"
     ]
    },
    {
     "data": {
      "text/html": [
       "<table>\n",
       "<caption>A tibble: 6 × 2</caption>\n",
       "<thead>\n",
       "\t<tr><th scope=col>replicate</th><th scope=col>sample_var</th></tr>\n",
       "\t<tr><th scope=col>&lt;int&gt;</th><th scope=col>&lt;dbl&gt;</th></tr>\n",
       "</thead>\n",
       "<tbody>\n",
       "\t<tr><td>1</td><td>217.1684</td></tr>\n",
       "\t<tr><td>2</td><td>435.2079</td></tr>\n",
       "\t<tr><td>3</td><td>526.3579</td></tr>\n",
       "\t<tr><td>4</td><td>291.6421</td></tr>\n",
       "\t<tr><td>5</td><td>312.3658</td></tr>\n",
       "\t<tr><td>6</td><td>133.8316</td></tr>\n",
       "</tbody>\n",
       "</table>\n"
      ],
      "text/latex": [
       "A tibble: 6 × 2\n",
       "\\begin{tabular}{ll}\n",
       " replicate & sample\\_var\\\\\n",
       " <int> & <dbl>\\\\\n",
       "\\hline\n",
       "\t 1 & 217.1684\\\\\n",
       "\t 2 & 435.2079\\\\\n",
       "\t 3 & 526.3579\\\\\n",
       "\t 4 & 291.6421\\\\\n",
       "\t 5 & 312.3658\\\\\n",
       "\t 6 & 133.8316\\\\\n",
       "\\end{tabular}\n"
      ],
      "text/markdown": [
       "\n",
       "A tibble: 6 × 2\n",
       "\n",
       "| replicate &lt;int&gt; | sample_var &lt;dbl&gt; |\n",
       "|---|---|\n",
       "| 1 | 217.1684 |\n",
       "| 2 | 435.2079 |\n",
       "| 3 | 526.3579 |\n",
       "| 4 | 291.6421 |\n",
       "| 5 | 312.3658 |\n",
       "| 6 | 133.8316 |\n",
       "\n"
      ],
      "text/plain": [
       "  replicate sample_var\n",
       "1 1         217.1684  \n",
       "2 2         435.2079  \n",
       "3 3         526.3579  \n",
       "4 4         291.6421  \n",
       "5 5         312.3658  \n",
       "6 6         133.8316  "
      ]
     },
     "metadata": {},
     "output_type": "display_data"
    }
   ],
   "source": [
    "set.seed(3448) # DO NOT CHANGE!\n",
    "\n",
    "### BEGIN SOLUTION\n",
    "sample_vars_20x1000 <- apt_ages %>% \n",
    "    rep_sample_n(size = 20, reps = 1000) %>% \n",
    "    group_by(replicate) %>% \n",
    "    summarise(sample_var = var(age_yrs))\n",
    "### END SOLUTION\n",
    "\n",
    "head(sample_vars_20x1000)"
   ]
  },
  {
   "cell_type": "code",
   "execution_count": 28,
   "metadata": {
    "nbgrader": {
     "grade": true,
     "grade_id": "cell-ea6886a8fb5a6a12",
     "locked": true,
     "points": 1,
     "schema_version": 3,
     "solution": false,
     "task": false
    }
   },
   "outputs": [
    {
     "name": "stdout",
     "output_type": "stream",
     "text": [
      "[1] \"Success!\"\n"
     ]
    }
   ],
   "source": [
    "test_3.1()"
   ]
  },
  {
   "cell_type": "markdown",
   "metadata": {
    "nbgrader": {
     "grade": false,
     "grade_id": "cell-058fc2d9edb254c0",
     "locked": true,
     "schema_version": 3,
     "solution": false,
     "task": false
    }
   },
   "source": [
    "**Question 3.2**\n",
    "<br> {points: 1}\n",
    "\n",
    "Visualize the distribution of the sample variances that you calculated in the previous question by plotting a histogram with bin widths of 5 using `geom_histogram`. Add a title of \"size = 20, 1000 reps\" to the plot using `ggtitle` and ensure that the x-axis has a descriptive and human-readable label.\n",
    "\n",
    "_Assign your plot to an object called `sampling_dist_20x1000`._"
   ]
  },
  {
   "cell_type": "code",
   "execution_count": 29,
   "metadata": {
    "nbgrader": {
     "grade": false,
     "grade_id": "cell-56d1cad13827cb57",
     "locked": false,
     "schema_version": 3,
     "solution": true,
     "task": false
    }
   },
   "outputs": [
    {
     "data": {
      "image/png": "[encoded data removed]",
      "text/plain": [
       "plot without title"
      ]
     },
     "metadata": {
      "image/png": {
       "height": 420,
       "width": 1200
      }
     },
     "output_type": "display_data"
    }
   ],
   "source": [
    "### BEGIN SOLUTION\n",
    "sampling_dist_20x1000 <- sample_vars_20x1000 %>% \n",
    "    ggplot(aes(x = sample_var)) +\n",
    "    geom_histogram(binwidth = 5) +\n",
    "    ggtitle(\"size = 20, 1000 reps\") +\n",
    "    xlab(\"Sample Variance\")\n",
    "### END SOLUTION\n",
    "\n",
    "sampling_dist_20x1000"
   ]
  },
  {
   "cell_type": "code",
   "execution_count": 30,
   "metadata": {
    "nbgrader": {
     "grade": true,
     "grade_id": "cell-92023380dd1ffdea",
     "locked": true,
     "points": 1,
     "schema_version": 3,
     "solution": false,
     "task": false
    }
   },
   "outputs": [
    {
     "name": "stdout",
     "output_type": "stream",
     "text": [
      "[1] \"Success!\"\n"
     ]
    }
   ],
   "source": [
    "test_3.2()"
   ]
  },
  {
   "cell_type": "markdown",
   "metadata": {
    "nbgrader": {
     "grade": false,
     "grade_id": "cell-6482fbb01eedb37f",
     "locked": true,
     "schema_version": 3,
     "solution": false,
     "task": false
    }
   },
   "source": [
    "**Question 3.3**\n",
    "<br> {points: 1}\n",
    "\n",
    "Using the same strategy as you did in **question 3.1**, draw 5000 random samples of size 20 from the population `apt_ages`. Use the seed `7631`. Then, for each sample, calculate the variance. Finally, visualize the distribution of the sample variances you just calculated by plotting a histogram with bin widths of 5 using `geom_histogram`. Add a title of \"size = 20, 5000 reps\" to the plot using `ggtitle` and ensure that the x-axis has a descriptive and human-readable label.\n",
    "\n",
    "_**Hint:** you can use the code from the previous section as a framework for your code here!_\n",
    "\n",
    "_Assign your plot to an object called `sampling_dist_20x5000`._"
   ]
  },
  {
   "cell_type": "code",
   "execution_count": 31,
   "metadata": {
    "nbgrader": {
     "grade": false,
     "grade_id": "cell-e164db48f429b609",
     "locked": false,
     "schema_version": 3,
     "solution": true,
     "task": false
    }
   },
   "outputs": [
    {
     "name": "stderr",
     "output_type": "stream",
     "text": [
      "`summarise()` ungrouping output (override with `.groups` argument)\n",
      "\n"
     ]
    },
    {
     "data": {
      "image/png": "[encoded data removed]",
      "text/plain": [
       "plot without title"
      ]
     },
     "metadata": {
      "image/png": {
       "height": 420,
       "width": 1200
      }
     },
     "output_type": "display_data"
    }
   ],
   "source": [
    "set.seed(7631)\n",
    "\n",
    "### BEGIN SOLUTION\n",
    "sampling_dist_20x5000 <- apt_ages %>% \n",
    "    rep_sample_n(size = 20, reps = 5000) %>% \n",
    "    group_by(replicate) %>% \n",
    "    summarise(sample_var = var(age_yrs)) %>% \n",
    "    ggplot(aes(x = sample_var)) + \n",
    "    geom_histogram(binwidth = 5) +\n",
    "    ggtitle(\"size = 20, 5000 reps\") +\n",
    "    xlab(\"Sample Variance\")\n",
    "### END SOLUTION\n",
    "\n",
    "sampling_dist_20x5000"
   ]
  },
  {
   "cell_type": "code",
   "execution_count": 32,
   "metadata": {
    "nbgrader": {
     "grade": true,
     "grade_id": "cell-9e1d0fb5432536fb",
     "locked": true,
     "points": 1,
     "schema_version": 3,
     "solution": false,
     "task": false
    }
   },
   "outputs": [
    {
     "name": "stdout",
     "output_type": "stream",
     "text": [
      "[1] \"Success!\"\n"
     ]
    }
   ],
   "source": [
    "test_3.3()"
   ]
  },
  {
   "cell_type": "markdown",
   "metadata": {
    "nbgrader": {
     "grade": false,
     "grade_id": "cell-9ce06ef61e845054",
     "locked": true,
     "schema_version": 3,
     "solution": false,
     "task": false
    }
   },
   "source": [
    "**Question 3.4**\n",
    "<br> {points: 1}\n",
    "\n",
    "Using the same strategy as you did in **question 3.1**, draw 20000 random samples of size 20 from the population `apt_ages`. Use the seed `3695`. Then, for each sample, calculate the variance. Finally, visualize the distribution of the sample variances you just calculated by plotting a histogram with bin widths of 5 using `geom_histogram`. Add a title of \"size = 20, 20000 reps\" to the plot using `ggtitle` and ensure that the x-axis has a descriptive and human-readable label.\n",
    "\n",
    "_**Hint:** you can use the code from the previous section as a framework for your code here!_\n",
    "\n",
    "_Assign your plot to an object called `sampling_dist_20x20000`._"
   ]
  },
  {
   "cell_type": "code",
   "execution_count": 33,
   "metadata": {
    "nbgrader": {
     "grade": false,
     "grade_id": "cell-a98f148673d4e2d7",
     "locked": false,
     "schema_version": 3,
     "solution": true,
     "task": false
    }
   },
   "outputs": [
    {
     "name": "stderr",
     "output_type": "stream",
     "text": [
      "`summarise()` ungrouping output (override with `.groups` argument)\n",
      "\n"
     ]
    },
    {
     "data": {
      "image/png": "[encoded data removed]",
      "text/plain": [
       "plot without title"
      ]
     },
     "metadata": {
      "image/png": {
       "height": 420,
       "width": 1200
      }
     },
     "output_type": "display_data"
    }
   ],
   "source": [
    "set.seed(3695)\n",
    "\n",
    "### BEGIN SOLUTION\n",
    "sampling_dist_20x20000 <- apt_ages %>% \n",
    "    rep_sample_n(size = 20, reps = 20000) %>% \n",
    "    group_by(replicate) %>% \n",
    "    summarise(sample_var = var(age_yrs)) %>% \n",
    "    ggplot(aes(x = sample_var)) + \n",
    "    geom_histogram(binwidth = 5) +\n",
    "    ggtitle(\"size = 20, 20000 reps\") +\n",
    "    xlab(\"Sample Variance\")\n",
    "### END SOLUTION\n",
    "\n",
    "sampling_dist_20x20000"
   ]
  },
  {
   "cell_type": "code",
   "execution_count": 34,
   "metadata": {
    "nbgrader": {
     "grade": true,
     "grade_id": "cell-b43ba8b35a85ddee",
     "locked": true,
     "points": 1,
     "schema_version": 3,
     "solution": false,
     "task": false
    }
   },
   "outputs": [
    {
     "name": "stdout",
     "output_type": "stream",
     "text": [
      "[1] \"Success!\"\n"
     ]
    }
   ],
   "source": [
    "test_3.4()"
   ]
  },
  {
   "cell_type": "markdown",
   "metadata": {
    "nbgrader": {
     "grade": false,
     "grade_id": "cell-2c5f079c329e35a4",
     "locked": true,
     "schema_version": 3,
     "solution": false,
     "task": false
    }
   },
   "source": [
    "_Use the set of plots below to answer the **next question**. Some of the code may be confusing, but you do not need to understand the code to answer the question._\n",
    "\n",
    "In the code cell below, we have used `plot_grid` to plot the three sampling distributions side-by-side. We have sorted the plots by increasing order of sample repetitions from top to bottom.\n",
    "\n",
    "**Note**: a small number of the sample variances are not visible because we manually set bounds on the x-axis so you can compare the distributions more easily (this causes the warnings you observe below)."
   ]
  },
  {
   "cell_type": "code",
   "execution_count": 35,
   "metadata": {
    "nbgrader": {
     "grade": false,
     "grade_id": "cell-a4bc2c031eabf499",
     "locked": true,
     "schema_version": 3,
     "solution": false,
     "task": false
    }
   },
   "outputs": [
    {
     "name": "stderr",
     "output_type": "stream",
     "text": [
      "Warning message:\n",
      "“Removed 3 rows containing non-finite values (stat_bin).”\n",
      "Warning message:\n",
      "“Removed 2 rows containing missing values (geom_bar).”\n",
      "Warning message:\n",
      "“Removed 34 rows containing non-finite values (stat_bin).”\n",
      "Warning message:\n",
      "“Removed 2 rows containing missing values (geom_bar).”\n",
      "Warning message:\n",
      "“Removed 135 rows containing non-finite values (stat_bin).”\n",
      "Warning message:\n",
      "“Removed 2 rows containing missing values (geom_bar).”\n"
     ]
    },
    {
     "data": {
      "image/png": "[encoded data removed]",
      "text/plain": [
       "plot without title"
      ]
     },
     "metadata": {
      "image/png": {
       "height": 480,
       "width": 600
      }
     },
     "output_type": "display_data"
    }
   ],
   "source": [
    "# Run this cell before continuing.\n",
    "options(repr.plot.width = 10, repr.plot.height = 8) # temp\n",
    "\n",
    "var_plot_col <- plot_grid(sampling_dist_20x1000  + xlim(0, 1500),\n",
    "                          sampling_dist_20x5000  + xlim(0, 1500),\n",
    "                          sampling_dist_20x20000 + xlim(0, 1500),\n",
    "                          ncol = 1)\n",
    "title <- ggdraw() + \n",
    "  draw_label(\"Comparison of distributions of sample variances, varying sample repetitions\",\n",
    "             fontface = 'bold',\n",
    "             x = 0,\n",
    "             hjust = 0) +\n",
    "  theme(plot.margin = margin(0, 0, 0, 7))\n",
    "\n",
    "vars_grid <- plot_grid(title,\n",
    "                       var_plot_col,\n",
    "                       ncol = 1,\n",
    "                       rel_heights = c(0.1, 1))\n",
    "\n",
    "vars_grid"
   ]
  },
  {
   "cell_type": "markdown",
   "metadata": {
    "nbgrader": {
     "grade": false,
     "grade_id": "cell-6f255566d10e17eb",
     "locked": true,
     "schema_version": 3,
     "solution": false,
     "task": false
    }
   },
   "source": [
    "**Question 3.5**\n",
    "<br> {points: 3}\n",
    "\n",
    "**Note:** the bin widths for the histograms above are _significantly_ smaller than the bin widths for the histograms produced in section 2 so we can see the effects of number of sampling repetitions clearly.\n",
    "\n",
    "How does the sampling distribution change as we increase the number of sampling repititions?"
   ]
  },
  {
   "cell_type": "markdown",
   "metadata": {
    "nbgrader": {
     "grade": true,
     "grade_id": "cell-643cde902b49aeb1",
     "locked": false,
     "points": 3,
     "schema_version": 3,
     "solution": true,
     "task": false
    }
   },
   "source": [
    "### BEGIN SOLUTION\n",
    "There are several reasonable ways to describe the relationship here, including:\n",
    "- The distributions become more \"filled in\" (or, similarly, there appears to be less missing values) as the number of sample repetitions increases.\n",
    "- The distributions become smoother as the number of sample repetitions increases.\n",
    "\n",
    "### END SOLUTION"
   ]
  },
  {
   "cell_type": "markdown",
   "metadata": {
    "nbgrader": {
     "grade": false,
     "grade_id": "cell-1e3d8991a08a1e75",
     "locked": true,
     "schema_version": 3,
     "solution": false,
     "task": false
    }
   },
   "source": [
    "_Use the plot below to answer the **next 2 questions**._\n",
    "\n",
    "Below is a picture of a sampling distribution (displayed a histogram with **bin widths of 2**) that was produced by taking **20 million samples** of size 20 from `apt_ages` using `rep_sample_n`. This is an extreme example to further demonstrate the effects of the number of sample repetitions on the resulting sample distribution:\n",
    "\n",
    "<img src=\"smooth_plot.png\" style=\"width: 500px;\"/>\n",
    "\n",
    "> <font color='red'><font size = 3>**WARNING!**</font>: Do **NOT** attempt to take this many samples on your own inside this notebook **OR ANY OTHER NOTEBOOK** located on the JupyterHub that we use for STAT 201."
   ]
  },
  {
   "cell_type": "markdown",
   "metadata": {
    "nbgrader": {
     "grade": false,
     "grade_id": "cell-074c6d2ab15ba4e2",
     "locked": true,
     "schema_version": 3,
     "solution": false,
     "task": false
    }
   },
   "source": [
    "**Question 3.6**\n",
    "<br> {points: 3}\n",
    "\n",
    "Why don't we always take a large number of samples when exploring sampling distributions so we can get a nice, smooth distribution like the one shown above?\n",
    "\n",
    "A. Taking a large number of samples is computationally expensive.\n",
    "\n",
    "B. We may not always have enough data to draw such a large number of samples.\n",
    "\n",
    "C. We can get a good approximation of the \"smoother\" sampling distribution by using less sample repetitions, but larger bin widths in our histogram.\n",
    "\n",
    "D. All of the above.\n",
    "\n",
    "E. A and B only.\n",
    "\n",
    "F. A and C only.\n",
    "\n",
    "G. B and C only.\n",
    "\n",
    "H. None of the above.\n",
    "\n",
    "_Assign your answer to an object called `answer3.6`. Your answer should be a single character surrounded by quotes._"
   ]
  },
  {
   "cell_type": "code",
   "execution_count": 36,
   "metadata": {
    "nbgrader": {
     "grade": false,
     "grade_id": "cell-e13587503fbb792d",
     "locked": false,
     "schema_version": 3,
     "solution": true,
     "task": false
    }
   },
   "outputs": [],
   "source": [
    "# answer3.6 <- ...\n",
    "\n",
    "### BEGIN SOLUTION\n",
    "answer3.6 <- \"F\"\n",
    "### END SOLUTION"
   ]
  },
  {
   "cell_type": "code",
   "execution_count": 37,
   "metadata": {
    "nbgrader": {
     "grade": true,
     "grade_id": "cell-b121ddf9b7f0c895",
     "locked": true,
     "points": 1,
     "schema_version": 3,
     "solution": false,
     "task": false
    }
   },
   "outputs": [
    {
     "name": "stdout",
     "output_type": "stream",
     "text": [
      "[1] \"Success!\"\n"
     ]
    }
   ],
   "source": [
    "test_3.6()"
   ]
  },
  {
   "cell_type": "markdown",
   "metadata": {
    "nbgrader": {
     "grade": false,
     "grade_id": "cell-0955b59c0b3419f0",
     "locked": true,
     "schema_version": 3,
     "solution": false,
     "task": false
    }
   },
   "source": [
    "**Question 3.7**\n",
    "<br> {points: 3}\n",
    "\n",
    "True or false?\n",
    "\n",
    "The sampling distribution displayed below is a good approximation of the smooth sampling distribution pictured above.\n",
    "\n",
    "**Note:** the sampling distribution below was generated using 2000 samples of size 20 and bin widths of 45.\n",
    "\n",
    "_Assign your answer to an object called `answer3.7`. Your answer should be either \"true\" or \"false\", surrounded by quotes._"
   ]
  },
  {
   "cell_type": "code",
   "execution_count": 38,
   "metadata": {
    "nbgrader": {
     "grade": false,
     "grade_id": "cell-ad4f0cac123403fd",
     "locked": true,
     "schema_version": 3,
     "solution": false,
     "task": false
    }
   },
   "outputs": [
    {
     "name": "stderr",
     "output_type": "stream",
     "text": [
      "`summarise()` ungrouping output (override with `.groups` argument)\n",
      "\n"
     ]
    },
    {
     "data": {
      "image/png": "[encoded data removed]",
      "text/plain": [
       "plot without title"
      ]
     },
     "metadata": {
      "image/png": {
       "height": 240,
       "width": 540
      }
     },
     "output_type": "display_data"
    }
   ],
   "source": [
    "# NOTE: perhaps convert this plot to a picture to hide the code?\n",
    "options(repr.plot.width = 9, repr.plot.height = 4) # temp\n",
    "set.seed(4746)\n",
    "\n",
    "apt_ages %>% \n",
    "    rep_sample_n(size = 20, reps = 2000) %>% \n",
    "    group_by(replicate) %>% \n",
    "    summarise(sample_var = var(age_yrs)) %>% \n",
    "    ggplot(aes(x = sample_var)) + \n",
    "    geom_histogram(binwidth = 45, color = 'white') +\n",
    "    ggtitle(\"size = 20, 2000 reps\") +\n",
    "    xlab(\"Sample Variance\")"
   ]
  },
  {
   "cell_type": "code",
   "execution_count": 39,
   "metadata": {
    "nbgrader": {
     "grade": false,
     "grade_id": "cell-35cda83f1d9208f9",
     "locked": false,
     "schema_version": 3,
     "solution": true,
     "task": false
    }
   },
   "outputs": [],
   "source": [
    "# answer3.7 <- ...\n",
    "\n",
    "### BEGIN SOLUTION\n",
    "answer3.7 <- \"true\"\n",
    "### END SOLUTION"
   ]
  },
  {
   "cell_type": "code",
   "execution_count": 40,
   "metadata": {
    "nbgrader": {
     "grade": true,
     "grade_id": "cell-a776642bf4dae7b9",
     "locked": true,
     "points": 1,
     "schema_version": 3,
     "solution": false,
     "task": false
    }
   },
   "outputs": [
    {
     "name": "stdout",
     "output_type": "stream",
     "text": [
      "[1] \"Success!\"\n"
     ]
    }
   ],
   "source": [
    "test_3.7()"
   ]
  },
  {
   "cell_type": "markdown",
   "metadata": {
    "nbgrader": {
     "grade": false,
     "grade_id": "cell-2a19d7a7bc919855",
     "locked": true,
     "schema_version": 3,
     "solution": false,
     "task": false
    }
   },
   "source": [
    "## 4. Distributions\n",
    "\n",
    "So far, in this course, we have looked at many different distributions, each of which falls into one of three different categories:\n",
    "\n",
    "1. Population distributions\n",
    "2. Sample distributions\n",
    "3. Sampl**_ing_** distributions (of an estimator)\n",
    "\n",
    "In this section, we are going to revisit the definitions of each distribution and explore the relationships between them using `apt_buildings` dataset that we introduced at the start of this tutorial. However, this time we will look at the `no_of_storeys` variable and parameters relating to the centre of the population; the median and the mean.\n",
    "\n",
    "In the code cell below, we have selected only the `no_of_storeys` column and saved the result to a data frame named `apt_storeys` for your convenience; we will define this as our population for this section."
   ]
  },
  {
   "cell_type": "code",
   "execution_count": 41,
   "metadata": {
    "nbgrader": {
     "grade": false,
     "grade_id": "cell-6a610402ab257f46",
     "locked": true,
     "schema_version": 3,
     "solution": false,
     "task": false
    }
   },
   "outputs": [],
   "source": [
    "apt_storeys <- apt_buildings %>% \n",
    "    select(no_of_storeys)"
   ]
  },
  {
   "cell_type": "markdown",
   "metadata": {
    "nbgrader": {
     "grade": false,
     "grade_id": "cell-93214766c0edcabb",
     "locked": true,
     "schema_version": 3,
     "solution": false,
     "task": false
    }
   },
   "source": [
    "**Question 4.0**\n",
    "<br> {points: 3}\n",
    "\n",
    "Visualize the population distribution by creating a histogram with bin widths of 2 using `geom_histogram`. Add a title to the plot using `ggtitle` and ensure that the x-axis has a descriptive and human-readable label.\n",
    "\n",
    "_Assign your plot to an object called `apt_storeys_dist`._"
   ]
  },
  {
   "cell_type": "code",
   "execution_count": 42,
   "metadata": {
    "nbgrader": {
     "grade": false,
     "grade_id": "cell-0221ce4a6d88c79e",
     "locked": false,
     "schema_version": 3,
     "solution": true,
     "task": false
    },
    "scrolled": true
   },
   "outputs": [
    {
     "data": {
      "image/png": "[encoded data removed]",
      "text/plain": [
       "plot without title"
      ]
     },
     "metadata": {
      "image/png": {
       "height": 240,
       "width": 540
      }
     },
     "output_type": "display_data"
    }
   ],
   "source": [
    "### BEGIN SOLUTION\n",
    "apt_storeys_dist <- apt_storeys %>% \n",
    "    ggplot(aes(x = no_of_storeys)) +\n",
    "    geom_histogram(binwidth = 2, boundary = 1, color = 'white') +\n",
    "    ggtitle(\"# Storeys In Toronto ABS Apartment Buildings\") +\n",
    "    xlab(\"# Storeys\")\n",
    "### END SOLUTION\n",
    "\n",
    "apt_storeys_dist"
   ]
  },
  {
   "cell_type": "code",
   "execution_count": 43,
   "metadata": {
    "nbgrader": {
     "grade": true,
     "grade_id": "cell-1d230c757a56c4d3",
     "locked": true,
     "points": 3,
     "schema_version": 3,
     "solution": false,
     "task": false
    }
   },
   "outputs": [
    {
     "name": "stdout",
     "output_type": "stream",
     "text": [
      "[1] \"Success!\"\n"
     ]
    }
   ],
   "source": [
    "# Here we check to see whether you have given your answer the correct\n",
    "# object name. However, all other tests have been hidden so you can\n",
    "# practice deciding when you have the correct answer.\n",
    "test_that('Did not assign answer to an object called \"apt_storeys_dist\"', {\n",
    "  expect_true(exists(\"apt_storeys_dist\"))\n",
    "})\n",
    "### BEGIN HIDDEN TESTS\n",
    "properties <- c(apt_storeys_dist$layers[[1]]$mapping, apt_storeys_dist$mapping)\n",
    "\n",
    "test_that(\"Plot should have no_of_storeys on the x-axis\", {\n",
    "  expect_true(\"no_of_storeys\" == rlang::get_expr(properties$x))\n",
    "})\n",
    "\n",
    "test_that(\"Plot is not the correct type\", {\n",
    "  expect_true(\"GeomBar\" %in% class(apt_storeys_dist$layers[[1]]$geom))\n",
    "})\n",
    "\n",
    "test_that(\"Plot does not have the correct bin width\", {\n",
    "expect_equal(\n",
    "  digest(as.integer(mget(\"stat_params\", apt_storeys_dist$layers[[1]])[[\"stat_params\"]][[\"binwidth\"]])),\n",
    "  \"c01f179e4b57ab8bd9de309e6d576c48\"\n",
    "  )\n",
    "})\n",
    "\n",
    "test_that(\"Plot does not use the correct data\", {\n",
    "  expect_equal(digest(nrow(apt_storeys_dist$data)), \"fba724f161f023e3109ce285541a026d\")\n",
    "  expect_equal(digest(as.integer(sum(apt_storeys_dist$data$no_of_storeys))), \"f6aeafdd1d60e8cf3500d85e50fade5f\")\n",
    "})\n",
    "\n",
    "test_that(\"x-axis label should be descriptive and human readable\", {\n",
    "  expect_false(apt_storeys_dist$labels$x == \"no_of_storeys\")\n",
    "})\n",
    "\n",
    "test_that(\"Plot should have a title\", {\n",
    "  expect_true(\"title\" %in% names(apt_storeys_dist$labels))\n",
    "})\n",
    "\n",
    "print(\"Success!\")\n",
    "### END HIDDEN TESTS"
   ]
  },
  {
   "cell_type": "markdown",
   "metadata": {
    "nbgrader": {
     "grade": false,
     "grade_id": "cell-d0409ad1e1b9e058",
     "locked": true,
     "schema_version": 3,
     "solution": false,
     "task": false
    }
   },
   "source": [
    "**Question 4.1**\n",
    "<br> {points: 3}\n",
    "\n",
    "Considering the population `apt_storeys` and the population distribution you created in **question 4.0**, which pair of distributions from the following list would you expect to have the **most** similar characteristics?\n",
    "\n",
    "1. Population distribution of `apt_storeys`\n",
    "2. Sample distribution generated using a sample of size 15 from `apt_storeys`\n",
    "3. Sample distribution generated using a sample of size 283 from `apt_storeys`\n",
    "4. Sampling distribution of sample medians generated using samples of size 9 and 200,000 sample repetitions from `apt_storeys`\n",
    "5. Sampling distribution of sample means (generated using samples of size 175 and 200,000 sample repetitions from `apt_storeys`\n",
    "\n",
    "A. 1 & 2\n",
    "\n",
    "B. 1 & 3\n",
    "\n",
    "C. 1 & 4\n",
    "\n",
    "D. 1 & 5\n",
    "\n",
    "E. 2 & 3\n",
    "\n",
    "F. 4 & 5\n",
    "\n",
    "G. There is not enough information to answer the question.\n",
    "\n",
    "_Assign your answer to an object called `answer4.1`. Your answer should be a single character surrounded by quotes._"
   ]
  },
  {
   "cell_type": "code",
   "execution_count": 44,
   "metadata": {
    "nbgrader": {
     "grade": false,
     "grade_id": "cell-b37888aa62cb71ee",
     "locked": false,
     "schema_version": 3,
     "solution": true,
     "task": false
    }
   },
   "outputs": [],
   "source": [
    "# answer4.1 <- ...\n",
    "\n",
    "### BEGIN SOLUTION\n",
    "answer4.1 <- \"B\"\n",
    "### END SOLUTION"
   ]
  },
  {
   "cell_type": "code",
   "execution_count": 45,
   "metadata": {
    "nbgrader": {
     "grade": true,
     "grade_id": "cell-415f912ba3f6516c",
     "locked": true,
     "points": 3,
     "schema_version": 3,
     "solution": false,
     "task": false
    }
   },
   "outputs": [
    {
     "name": "stdout",
     "output_type": "stream",
     "text": [
      "[1] \"Success!\"\n"
     ]
    }
   ],
   "source": [
    "# Here we check to see whether you have given your answer the correct\n",
    "# object name. However, all other tests have been hidden so you can\n",
    "# practice deciding when you have the correct answer.\n",
    "test_that('Did not assign answer to an object called \"answer4.1\"', {\n",
    "  expect_true(exists(\"answer4.1\"))\n",
    "})\n",
    "\n",
    "test_that('Solution should be a single character (\"A\", \"B\", \"C\", \"D\", \"E\", \"F\", or \"G\")', {\n",
    "  expect_match(answer4.1, \"a|b|c|d|e|f|g\", ignore.case = TRUE)\n",
    "})\n",
    "### BEGIN HIDDEN TESTS\n",
    "test_that(\"Solution is incorrect\", {\n",
    "  expect_equal(digest(tolower(answer4.1)), \"ddf100612805359cd81fdc5ce3b9fbba\")\n",
    "})\n",
    "\n",
    "print(\"Success!\")\n",
    "### END HIDDEN TESTS"
   ]
  },
  {
   "cell_type": "markdown",
   "metadata": {
    "nbgrader": {
     "grade": false,
     "grade_id": "cell-a7274b64a2787415",
     "locked": true,
     "schema_version": 3,
     "solution": false,
     "task": false
    }
   },
   "source": [
    "**Question 4.2**\n",
    "<br> {points: 3}\n",
    "\n",
    "True or false?\n",
    "\n",
    "As you increase the sample size used to generate a sample distribution, the variance of the distribution will decrease.\n",
    "\n",
    "_Assign your answer to an object called `answer4.2`. Your answer should be either \"true\" or \"false\", surrounded by quotes._"
   ]
  },
  {
   "cell_type": "code",
   "execution_count": 46,
   "metadata": {
    "nbgrader": {
     "grade": false,
     "grade_id": "cell-997d8932340fa6c7",
     "locked": false,
     "schema_version": 3,
     "solution": true,
     "task": false
    }
   },
   "outputs": [],
   "source": [
    "# answer4.2 <- ...\n",
    "\n",
    "### BEGIN SOLUTION\n",
    "answer4.2 <- \"false\"\n",
    "### END SOLUTION"
   ]
  },
  {
   "cell_type": "code",
   "execution_count": 47,
   "metadata": {
    "nbgrader": {
     "grade": true,
     "grade_id": "cell-592172c7a16ff792",
     "locked": true,
     "points": 3,
     "schema_version": 3,
     "solution": false,
     "task": false
    }
   },
   "outputs": [
    {
     "name": "stdout",
     "output_type": "stream",
     "text": [
      "[1] \"Success!\"\n"
     ]
    }
   ],
   "source": [
    "# Here we check to see whether you have given your answer the correct\n",
    "# object name. However, all other tests have been hidden so you can\n",
    "# practice deciding when you have the correct answer.\n",
    "test_that('Did not assign answer to an object called \"answer4.2\"', {\n",
    "  expect_true(exists(\"answer4.2\"))\n",
    "})\n",
    "\n",
    "test_that('Answer should be \"true\" or \"false\"', {\n",
    "  expect_match(answer4.2, \"true|false\", ignore.case = TRUE)\n",
    "})\n",
    "### BEGIN HIDDEN TESTS\n",
    "test_that(\"Solution is incorrect\", {\n",
    "  expect_equal(digest(tolower(answer4.2)), \"d2a90307aac5ae8d0ef58e2fe730d38b\")\n",
    "})\n",
    "\n",
    "print(\"Success!\")\n",
    "### END HIDDEN TESTS"
   ]
  },
  {
   "cell_type": "markdown",
   "metadata": {
    "nbgrader": {
     "grade": false,
     "grade_id": "cell-3693c9a1d65aa0d5",
     "locked": true,
     "schema_version": 3,
     "solution": false,
     "task": false
    }
   },
   "source": [
    "**Question 4.3**\n",
    "<br> {points: 3}\n",
    "\n",
    "**Note:** this question has two parts!\n",
    "\n",
    "a) Take a single sample from `apt_storeys` of size 100 using the `rep_sample_n` function and a seed of 4524.\n",
    "\n",
    "_Assign your data frame to an object called `sample`._\n",
    "\n",
    "<br>\n",
    "\n",
    "b) Afterwards, visualize the distribution of the sample by creating a histogram with bin widths of 2 using `geom_histogram`. Additionally, add the argument `boundary = 0` to `geom_histogram` to force the histogram bars to start at 0 on the x-axis. Finally, add a title to the plot using `ggtitle` and ensure that the x-axis has a descriptive and human-readable label.\n",
    "\n",
    "_Assign your plot to an object called `sample_dist`._"
   ]
  },
  {
   "cell_type": "code",
   "execution_count": 48,
   "metadata": {
    "nbgrader": {
     "grade": false,
     "grade_id": "cell-0096b4d2dcdb1e76",
     "locked": false,
     "schema_version": 3,
     "solution": true,
     "task": false
    }
   },
   "outputs": [
    {
     "data": {
      "text/html": [
       "<table>\n",
       "<caption>A grouped_df: 6 × 2</caption>\n",
       "<thead>\n",
       "\t<tr><th scope=col>replicate</th><th scope=col>no_of_storeys</th></tr>\n",
       "\t<tr><th scope=col>&lt;int&gt;</th><th scope=col>&lt;dbl&gt;</th></tr>\n",
       "</thead>\n",
       "<tbody>\n",
       "\t<tr><td>1</td><td> 4</td></tr>\n",
       "\t<tr><td>1</td><td>14</td></tr>\n",
       "\t<tr><td>1</td><td> 4</td></tr>\n",
       "\t<tr><td>1</td><td> 9</td></tr>\n",
       "\t<tr><td>1</td><td> 8</td></tr>\n",
       "\t<tr><td>1</td><td> 5</td></tr>\n",
       "</tbody>\n",
       "</table>\n"
      ],
      "text/latex": [
       "A grouped\\_df: 6 × 2\n",
       "\\begin{tabular}{ll}\n",
       " replicate & no\\_of\\_storeys\\\\\n",
       " <int> & <dbl>\\\\\n",
       "\\hline\n",
       "\t 1 &  4\\\\\n",
       "\t 1 & 14\\\\\n",
       "\t 1 &  4\\\\\n",
       "\t 1 &  9\\\\\n",
       "\t 1 &  8\\\\\n",
       "\t 1 &  5\\\\\n",
       "\\end{tabular}\n"
      ],
      "text/markdown": [
       "\n",
       "A grouped_df: 6 × 2\n",
       "\n",
       "| replicate &lt;int&gt; | no_of_storeys &lt;dbl&gt; |\n",
       "|---|---|\n",
       "| 1 |  4 |\n",
       "| 1 | 14 |\n",
       "| 1 |  4 |\n",
       "| 1 |  9 |\n",
       "| 1 |  8 |\n",
       "| 1 |  5 |\n",
       "\n"
      ],
      "text/plain": [
       "  replicate no_of_storeys\n",
       "1 1          4           \n",
       "2 1         14           \n",
       "3 1          4           \n",
       "4 1          9           \n",
       "5 1          8           \n",
       "6 1          5           "
      ]
     },
     "metadata": {},
     "output_type": "display_data"
    },
    {
     "data": {
      "image/png": "[encoded data removed]",
      "text/plain": [
       "plot without title"
      ]
     },
     "metadata": {
      "image/png": {
       "height": 240,
       "width": 540
      }
     },
     "output_type": "display_data"
    }
   ],
   "source": [
    "set.seed(4524)\n",
    "\n",
    "### BEGIN SOLUTION\n",
    "sample <- apt_storeys %>% \n",
    "    rep_sample_n(size = 100, reps = 1)\n",
    "\n",
    "sample_dist <- sample %>% \n",
    "    ggplot(aes(x = no_of_storeys)) +\n",
    "    geom_histogram(binwidth = 2, boundary = 0, color = 'white') +\n",
    "    ggtitle(\"# Storeys In Toronto ABS Apartment Buildings\") +\n",
    "    xlab(\"# Storeys\")\n",
    "### END SOLUTION\n",
    "\n",
    "head(sample)\n",
    "sample_dist"
   ]
  },
  {
   "cell_type": "code",
   "execution_count": 49,
   "metadata": {
    "nbgrader": {
     "grade": true,
     "grade_id": "cell-30c5d7cb7339ff00",
     "locked": true,
     "points": 3,
     "schema_version": 3,
     "solution": false,
     "task": false
    }
   },
   "outputs": [
    {
     "name": "stdout",
     "output_type": "stream",
     "text": [
      "[1] \"Success!\"\n"
     ]
    }
   ],
   "source": [
    "# Here we check to see whether you have given your answer the correct\n",
    "# object name. However, all other tests have been hidden so you can\n",
    "# practice deciding when you have the correct answer.\n",
    "test_that('Did not assign answer to an object called \"sample\"', {\n",
    "  expect_true(exists(\"sample\"))\n",
    "})\n",
    "\n",
    "test_that('Did not assign answer to an object called \"sample_dist\"', {\n",
    "  expect_true(exists(\"sample_dist\"))\n",
    "})\n",
    "### BEGIN HIDDEN TESTS\n",
    "test_that(\"Solution should be a data frame\", {\n",
    "  expect_true(\"data.frame\" %in% class(sample))\n",
    "})\n",
    "\n",
    "expected_colnames <- c(\"replicate\", \"no_of_storeys\")\n",
    "given_colnames <- colnames(sample)\n",
    "test_that(\"Data frame does not have the correct columns\", {\n",
    "  expect_equal(length(setdiff(\n",
    "    union(expected_colnames, given_colnames),\n",
    "    intersect(expected_colnames, given_colnames)\n",
    "  )), 0)\n",
    "})\n",
    "\n",
    "test_that(\"Data frame does not contain the correct number of rows\", {\n",
    "  expect_equal(digest(as.integer(nrow(sample))), \"5d6e7fe43b3b73e5fd2961d5162486fa\")\n",
    "})\n",
    "\n",
    "test_that(\"Data frame does not contain the correct data\", {\n",
    "  expect_equal(digest(as.integer(sum(sample$no_of_storeys))), \"2d7a7e3c385cd075b2e9cc5d622b5f7c\")\n",
    "})\n",
    "\n",
    "properties <- c(sample_dist$layers[[1]]$mapping, sample_dist$mapping)\n",
    "\n",
    "test_that(\"Plot should have no_of_storeys on the x-axis\", {\n",
    "  expect_true(\"no_of_storeys\" == rlang::get_expr(properties$x))\n",
    "})\n",
    "\n",
    "test_that(\"Plot is not the correct type\", {\n",
    "  expect_true(\"GeomBar\" %in% class(sample_dist$layers[[1]]$geom))\n",
    "})\n",
    "\n",
    "test_that(\"Plot does not have the correct bin width\", {\n",
    "expect_equal(\n",
    "  digest(as.integer(mget(\"stat_params\", sample_dist$layers[[1]])[[\"stat_params\"]][[\"binwidth\"]])),\n",
    "  \"c01f179e4b57ab8bd9de309e6d576c48\"\n",
    "  )\n",
    "})\n",
    "\n",
    "test_that(\"Plot does not use the correct data\", {\n",
    "  expect_equal(digest(nrow(sample_dist$data)), \"5d6e7fe43b3b73e5fd2961d5162486fa\")\n",
    "  expect_equal(digest(round(sum(sample_dist$data$no_of_storeys))), \"d6c3072b7fa3f6036b3b4557015c3935\")\n",
    "})\n",
    "\n",
    "test_that(\"x-axis label should be descriptive and human readable\", {\n",
    "  expect_false(sample_dist$labels$x == \"no_of_storeys\")\n",
    "})\n",
    "\n",
    "test_that(\"Plot should have a title\", {\n",
    "  expect_true(\"title\" %in% names(sample_dist$labels))\n",
    "})\n",
    "\n",
    "print(\"Success!\")\n",
    "### END HIDDEN TESTS"
   ]
  },
  {
   "cell_type": "markdown",
   "metadata": {
    "nbgrader": {
     "grade": false,
     "grade_id": "cell-2c2a90f042653be6",
     "locked": true,
     "schema_version": 3,
     "solution": false,
     "task": false
    }
   },
   "source": [
    "**Question 4.4**\n",
    "<br> {points: 3}\n",
    "\n",
    "**Note:** this question has two parts!\n",
    "\n",
    "a) Calculate the **mean** of the sample you took in **question 4.3** (`sample`).\n",
    "\n",
    "_Assign your answer to an object called `sample_mean`. Your answer should be a single number._\n",
    "\n",
    "<br>\n",
    "\n",
    "b) Calculate the **median** of the sample you took in **question 4.3** (`sample`).\n",
    "\n",
    "_Assign your answer to an object called `sample_median`. Your answer should be a single number._\n",
    "\n",
    "<font color='dodgerblue'> **Hint:** you can convert a 1x1 dataframe to a single number using the `as.numeric()` function!"
   ]
  },
  {
   "cell_type": "code",
   "execution_count": 50,
   "metadata": {
    "nbgrader": {
     "grade": false,
     "grade_id": "cell-d7ab7f6fe8350cb7",
     "locked": false,
     "schema_version": 3,
     "solution": true,
     "task": false
    }
   },
   "outputs": [
    {
     "name": "stderr",
     "output_type": "stream",
     "text": [
      "`summarise()` ungrouping output (override with `.groups` argument)\n",
      "\n",
      "`summarise()` ungrouping output (override with `.groups` argument)\n",
      "\n"
     ]
    },
    {
     "data": {
      "text/html": [
       "7.65"
      ],
      "text/latex": [
       "7.65"
      ],
      "text/markdown": [
       "7.65"
      ],
      "text/plain": [
       "[1] 7.65"
      ]
     },
     "metadata": {},
     "output_type": "display_data"
    },
    {
     "data": {
      "text/html": [
       "4.5"
      ],
      "text/latex": [
       "4.5"
      ],
      "text/markdown": [
       "4.5"
      ],
      "text/plain": [
       "[1] 4.5"
      ]
     },
     "metadata": {},
     "output_type": "display_data"
    }
   ],
   "source": [
    "### BEGIN SOLUTION\n",
    "sample_mean <- mean(sample$no_of_storeys)\n",
    "sample_median <- median(sample$no_of_storeys)\n",
    "\n",
    "# Another viable solution:\n",
    "sample_mean <- \n",
    "    sample %>% \n",
    "    summarise(mean = mean(no_of_storeys)) %>% \n",
    "    select(mean) %>% \n",
    "    as.numeric()\n",
    "\n",
    "sample_median <- \n",
    "    sample %>% \n",
    "    summarise(median = median(no_of_storeys)) %>% \n",
    "    select(median) %>% \n",
    "    as.numeric()\n",
    "### END SOLUTION\n",
    "\n",
    "sample_mean\n",
    "sample_median"
   ]
  },
  {
   "cell_type": "code",
   "execution_count": 51,
   "metadata": {
    "nbgrader": {
     "grade": true,
     "grade_id": "cell-d05853c35df333b2",
     "locked": true,
     "points": 3,
     "schema_version": 3,
     "solution": false,
     "task": false
    }
   },
   "outputs": [
    {
     "name": "stdout",
     "output_type": "stream",
     "text": [
      "[1] \"Success!\"\n"
     ]
    }
   ],
   "source": [
    "# Here we check to see whether you have given your answer the correct\n",
    "# object name. However, all other tests have been hidden so you can\n",
    "# practice deciding when you have the correct answer.\n",
    "test_that('Did not assign answer to an object called \"sample_mean\"', {\n",
    "  expect_true(exists(\"sample_mean\"))\n",
    "})\n",
    "test_that(\"Solution should be a number\", {\n",
    "  expect_false(is.na(as.numeric(sample_mean)))\n",
    "})\n",
    "\n",
    "test_that('Did not assign answer to an object called \"sample_median\"', {\n",
    "  expect_true(exists(\"sample_median\"))\n",
    "})\n",
    "test_that(\"Solution should be a number\", {\n",
    "  expect_false(is.na(as.numeric(sample_median)))\n",
    "})\n",
    "### BEGIN HIDDEN TESTS\n",
    "test_that(\"Solution is incorrect\", {\n",
    "  expect_equal(digest(as.integer(sample_mean * 100000)), \"7f8201dd33e50ceb4cd9315c9055c64f\")\n",
    "})\n",
    "\n",
    "test_that(\"Solution is incorrect\", {\n",
    "  expect_equal(digest(as.integer(sample_median * 100000)), \"e86f88001b3c8253dc6b26537dbf7d8e\")\n",
    "})\n",
    "\n",
    "print(\"Success!\")\n",
    "### END HIDDEN TESTS"
   ]
  },
  {
   "cell_type": "markdown",
   "metadata": {
    "nbgrader": {
     "grade": false,
     "grade_id": "cell-1d7870dee996de61",
     "locked": true,
     "schema_version": 3,
     "solution": false,
     "task": false
    }
   },
   "source": [
    "_Use the value of `sample_mean` and `sample_median` to answer the **next 2 questions**._"
   ]
  },
  {
   "cell_type": "markdown",
   "metadata": {
    "nbgrader": {
     "grade": false,
     "grade_id": "cell-e868ca2f0c5a7db0",
     "locked": true,
     "schema_version": 3,
     "solution": false,
     "task": false
    }
   },
   "source": [
    "**Question 4.5**\n",
    "<br> {points: 3}\n",
    "\n",
    "Assume the sample you took in **question 4.3**, `sample`, was one out of many samples taken from `apt_storeys` and used to generate one of the sampling distributions below.\n",
    "\n",
    "Given that each was generated using 1000 sample replicates, which histogram below represents a sampling distribution of sample means that **most likely** contains a point estimate from `sample`?\n",
    "\n",
    "<img src=\"question4.5.png\"/>\n",
    "\n",
    "_Assign your answer to an object called `answer4.5`. Your answer should be a single character surrounded by quotes._"
   ]
  },
  {
   "cell_type": "code",
   "execution_count": 52,
   "metadata": {
    "nbgrader": {
     "grade": false,
     "grade_id": "cell-8b0ce7e5735e78ad",
     "locked": false,
     "schema_version": 3,
     "solution": true,
     "task": false
    }
   },
   "outputs": [],
   "source": [
    "# answer4.5 <- ...\n",
    "\n",
    "### BEGIN SOLUTION\n",
    "answer4.5 <- \"D\"\n",
    "### END SOLUTION"
   ]
  },
  {
   "cell_type": "code",
   "execution_count": 53,
   "metadata": {
    "nbgrader": {
     "grade": true,
     "grade_id": "cell-a48999f3328bcbd0",
     "locked": true,
     "points": 3,
     "schema_version": 3,
     "solution": false,
     "task": false
    }
   },
   "outputs": [
    {
     "name": "stdout",
     "output_type": "stream",
     "text": [
      "[1] \"Success!\"\n"
     ]
    }
   ],
   "source": [
    "# Here we check to see whether you have given your answer the correct\n",
    "# object name. However, all other tests have been hidden so you can\n",
    "# practice deciding when you have the correct answer.\n",
    "test_that('Did not assign answer to an object called \"answer4.5\"', {\n",
    "  expect_true(exists(\"answer4.5\"))\n",
    "})\n",
    "\n",
    "test_that('Solution should be a single character (\"A\", \"B\", \"C\", or \"D\")', {\n",
    "  expect_match(answer4.5, \"a|b|c|d\", ignore.case = TRUE)\n",
    "})\n",
    "### BEGIN HIDDEN TESTS\n",
    "test_that(\"Solution is incorrect\", {\n",
    "  expect_equal(digest(tolower(answer4.5)), \"d110f00cfb1b248e835137025804a23b\")\n",
    "})\n",
    "\n",
    "print(\"Success!\")\n",
    "### END HIDDEN TESTS"
   ]
  },
  {
   "cell_type": "markdown",
   "metadata": {
    "nbgrader": {
     "grade": false,
     "grade_id": "cell-d65a150c5fae03d6",
     "locked": true,
     "schema_version": 3,
     "solution": false,
     "task": false
    }
   },
   "source": [
    "**Question 4.6**\n",
    "<br> {points: 3}\n",
    "\n",
    "Consider the following two distributions:\n",
    "1. Sampling distribution of sample means of `apt_storeys`, generated using 50,000 samples of size 250\n",
    "2. Sampling distribution of sample medians of `apt_storeys`, generated using 50,000 samples of size 250\n",
    "\n",
    "Given the values of `sample_mean` and `sample_median`, what should you expect about the position of the mean of distribution 2 in comparison to the mean of distribution 1?"
   ]
  },
  {
   "cell_type": "markdown",
   "metadata": {
    "nbgrader": {
     "grade": true,
     "grade_id": "cell-e1caed95e00109dc",
     "locked": false,
     "points": 3,
     "schema_version": 3,
     "solution": true,
     "task": false
    }
   },
   "source": [
    "### BEGIN SOLUTION\n",
    "The mean of distribution 2 should fall to the left of (or should be smaller than) the mean of distribution 1.\n",
    "### END SOLUTION"
   ]
  },
  {
   "cell_type": "markdown",
   "metadata": {
    "nbgrader": {
     "grade": false,
     "grade_id": "cell-cc0545fe782efe45",
     "locked": true,
     "schema_version": 3,
     "solution": false,
     "task": false
    }
   },
   "source": [
    "## 5. The Reality of Sampling\n",
    "\n",
    "If you recall from the last worksheet, there were two important points that we should have in the back of our minds as we learn about sampling and sampling distributions:\n",
    "> First, you must acknowledge that we don't usually have access to data for the entire population that we are interested in like we have so far. If we did, we could always calculate the population parameter directly. Here, we are taking the opportunity of having access to these entire populations to study sampling distributions. Second, always remember the purpose of learning about sampling distributions. By learning about the properties of sampling distributions, you will be able to understand the inherent variability/error in point estimates. This \"error\" associated with a point estimate is critical, and in later weeks we will learn how to report it formally.\n",
    "\n",
    "So, what happens when we don't have access to the entire population? In this section, we'll take a look at two different point estimates, compare them, and introduce ourselves to the problem that we will be able to address next week."
   ]
  },
  {
   "cell_type": "markdown",
   "metadata": {
    "nbgrader": {
     "grade": false,
     "grade_id": "cell-24d83e70f27a6c55",
     "locked": true,
     "schema_version": 3,
     "solution": false,
     "task": false
    }
   },
   "source": [
    "_Use the following scenario to answer the next **3 questions**._\n",
    "\n",
    "Suppose you are interested in determining the median height of all students at UBC. You do not have the resources to perform a census or take a large number of samples. You end up gathering two different samples and compute a point estimate of the median for each sample. The details of each point estimate are as follows:\n",
    "\n",
    "1. Using a sample size of 42, you calculate a sample median of 175.3cm (or around 5' 9\"). You are certain that the sample is unbiased and representative of the population.\n",
    "2. Using a sample size of 7, you calculate a sample median of 167.6cm (or around 5' 6\"). You are certain that the sample is unbiased and representative of the population."
   ]
  },
  {
   "cell_type": "markdown",
   "metadata": {
    "nbgrader": {
     "grade": false,
     "grade_id": "cell-dd0a789519d115f0",
     "locked": true,
     "schema_version": 3,
     "solution": false,
     "task": false
    }
   },
   "source": [
    "**Question 5.0**\n",
    "<br> {points: 1}\n",
    "\n",
    "Which point estimate has a **higher chance** of being closer to the true median of all students at UBC?\n",
    "\n",
    "A. Point estimate 1\n",
    "\n",
    "B. Point estimate 2\n",
    "\n",
    "_Assign your answer to an object called `answer5.0`. Your answer should be a single character surrounded by quotes._"
   ]
  },
  {
   "cell_type": "code",
   "execution_count": 54,
   "metadata": {
    "nbgrader": {
     "grade": false,
     "grade_id": "cell-c93aa63b25d2e85f",
     "locked": false,
     "schema_version": 3,
     "solution": true,
     "task": false
    }
   },
   "outputs": [],
   "source": [
    "# answer5.0 <- ...\n",
    "\n",
    "### BEGIN SOLUTION\n",
    "answer5.0 <- \"A\"\n",
    "### END SOLUTION"
   ]
  },
  {
   "cell_type": "code",
   "execution_count": 55,
   "metadata": {
    "nbgrader": {
     "grade": true,
     "grade_id": "cell-7508e66b22ea9921",
     "locked": true,
     "points": 1,
     "schema_version": 3,
     "solution": false,
     "task": false
    }
   },
   "outputs": [
    {
     "name": "stdout",
     "output_type": "stream",
     "text": [
      "[1] \"Success!\"\n"
     ]
    }
   ],
   "source": [
    "test_5.0()"
   ]
  },
  {
   "cell_type": "markdown",
   "metadata": {
    "nbgrader": {
     "grade": false,
     "grade_id": "cell-95d4625fca43e5b6",
     "locked": true,
     "schema_version": 3,
     "solution": false,
     "task": false
    }
   },
   "source": [
    "**Question 5.1**\n",
    "<br> {points: 1}\n",
    "\n",
    "True or false?\n",
    "\n",
    "One potential justification for the correct answer to the previous question could be: the standard deviation of the sampling distribution containing the first point estimate is larger than the standard deviation of the sampling distribution containing the second point estimate.\n",
    "\n",
    "_Assign your answer to an object called `answer5.1`. Your answer should be either \"true\" or \"false\", surrounded by quotes._"
   ]
  },
  {
   "cell_type": "code",
   "execution_count": 56,
   "metadata": {
    "nbgrader": {
     "grade": false,
     "grade_id": "cell-8c31f7f568de20b2",
     "locked": false,
     "schema_version": 3,
     "solution": true,
     "task": false
    }
   },
   "outputs": [],
   "source": [
    "# answer5.1 <- ...\n",
    "\n",
    "### BEGIN SOLUTION\n",
    "answer5.1 <- \"false\"\n",
    "### END SOLUTION"
   ]
  },
  {
   "cell_type": "code",
   "execution_count": 57,
   "metadata": {
    "nbgrader": {
     "grade": true,
     "grade_id": "cell-2a4e3bd34392bce5",
     "locked": true,
     "points": 1,
     "schema_version": 3,
     "solution": false,
     "task": false
    }
   },
   "outputs": [
    {
     "name": "stdout",
     "output_type": "stream",
     "text": [
      "[1] \"Success!\"\n"
     ]
    }
   ],
   "source": [
    "test_5.1()"
   ]
  },
  {
   "cell_type": "markdown",
   "metadata": {
    "nbgrader": {
     "grade": false,
     "grade_id": "cell-a3bbdb4b85d6594d",
     "locked": true,
     "schema_version": 3,
     "solution": false,
     "task": false
    }
   },
   "source": [
    "**Question 5.2**\n",
    "<br> {points: 1}\n",
    "\n",
    "Given what you have learned so far in this course and the scenario described above, how could you **quantify** the sampling variance of the two different samples?\n",
    "\n",
    "A. Take many more samples of size 42 and size 7 and compute the standard error of each sampling distribution.\n",
    "\n",
    "B. Estimate the standard error by computing the standard deviation of the two samples.\n",
    "\n",
    "C. There does not seem to be a way to do this using the techniques we have learned so far in this course. However, there must be some way to do this using a single sample. Perhaps we will learn about how to do this next week _(hint: you will)_.\n",
    "\n",
    "D. None of the above.\n",
    "\n",
    "_Assign your answer to an object called `answer5.2`. Your answer should be a single character surrounded by quotes._"
   ]
  },
  {
   "cell_type": "code",
   "execution_count": 58,
   "metadata": {
    "nbgrader": {
     "grade": false,
     "grade_id": "cell-77c85c7f076e024d",
     "locked": false,
     "schema_version": 3,
     "solution": true,
     "task": false
    }
   },
   "outputs": [],
   "source": [
    "# answer5.2 <- ...\n",
    "\n",
    "### BEGIN SOLUTION\n",
    "answer5.2 <- \"C\"\n",
    "### END SOLUTION"
   ]
  },
  {
   "cell_type": "code",
   "execution_count": 59,
   "metadata": {
    "nbgrader": {
     "grade": true,
     "grade_id": "cell-1a178122a934be88",
     "locked": true,
     "points": 1,
     "schema_version": 3,
     "solution": false,
     "task": false
    }
   },
   "outputs": [
    {
     "name": "stdout",
     "output_type": "stream",
     "text": [
      "[1] \"Success!\"\n"
     ]
    }
   ],
   "source": [
    "test_5.2()"
   ]
  }
 ],
 "metadata": {
  "celltoolbar": "Create Assignment",
  "docker": {
   "latest_image_tag": "v0.4.0"
  },
  "jupytext": {
   "formats": "ipynb,Rmd"
  },
  "kernelspec": {
   "display_name": "R",
   "language": "R",
   "name": "ir"
  },
  "language_info": {
   "codemirror_mode": "r",
   "file_extension": ".r",
   "mimetype": "text/x-r-source",
   "name": "R",
   "pygments_lexer": "r",
   "version": "4.1.1"
  }
 },
 "nbformat": 4,
 "nbformat_minor": 4
}
