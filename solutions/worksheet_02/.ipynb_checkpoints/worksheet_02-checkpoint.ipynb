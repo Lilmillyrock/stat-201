{
 "cells": [
  {
   "cell_type": "markdown",
   "metadata": {
    "nbgrader": {
     "grade": false,
     "grade_id": "cell-5d74e003204bdc7c",
     "locked": true,
     "schema_version": 3,
     "solution": false,
     "task": false
    }
   },
   "source": [
    "# Worksheet 2: Populations and Sampling"
   ]
  },
  {
   "cell_type": "markdown",
   "metadata": {
    "nbgrader": {
     "grade": false,
     "grade_id": "cell-6e0e5cd42c84f810",
     "locked": true,
     "schema_version": 3,
     "solution": false,
     "task": false
    }
   },
   "source": [
    "### Lecture and Tutorial Learning Goals\n",
    "After completing this week's lecture and tutorial work, you will be able to:\n",
    "\n",
    "1. Compare and contrast quantitative and categorical variables.\n",
    "2. Explain random and representative sampling and how this can influence estimation.\n",
    "3. Define random variables and explain how they relate to sampling.\n",
    "4. Define standard error and explain its purpose.\n",
    "5. Compare and contrast population distribution, sample distribution and an estimator's sampling distribution.\n",
    "6. Explain what a sampling distribution is, list its properties, and its purpose in statistical inference."
   ]
  },
  {
   "cell_type": "code",
   "execution_count": 1,
   "metadata": {
    "nbgrader": {
     "grade": false,
     "grade_id": "cell-cdfeee5b501a179d",
     "locked": true,
     "schema_version": 3,
     "solution": false,
     "task": false
    }
   },
   "outputs": [
    {
     "name": "stderr",
     "output_type": "stream",
     "text": [
      "\n",
      "********************************************************\n",
      "\n",
      "Note: As of version 1.0.0, cowplot does not change the\n",
      "\n",
      "  default ggplot2 theme anymore. To recover the previous\n",
      "\n",
      "  behavior, execute:\n",
      "  theme_set(theme_cowplot())\n",
      "\n",
      "********************************************************\n",
      "\n",
      "\n",
      "Warning message:\n",
      "“package ‘infer’ was built under R version 4.0.2”\n",
      "── \u001b[1mAttaching packages\u001b[22m ─────────────────────────────────────── tidyverse 1.3.0 ──\n",
      "\n",
      "\u001b[32m✔\u001b[39m \u001b[34mggplot2\u001b[39m 3.3.2     \u001b[32m✔\u001b[39m \u001b[34mpurrr  \u001b[39m 0.3.4\n",
      "\u001b[32m✔\u001b[39m \u001b[34mtibble \u001b[39m 3.0.3     \u001b[32m✔\u001b[39m \u001b[34mdplyr  \u001b[39m 1.0.2\n",
      "\u001b[32m✔\u001b[39m \u001b[34mtidyr  \u001b[39m 1.1.1     \u001b[32m✔\u001b[39m \u001b[34mstringr\u001b[39m 1.4.0\n",
      "\u001b[32m✔\u001b[39m \u001b[34mreadr  \u001b[39m 1.3.1     \u001b[32m✔\u001b[39m \u001b[34mforcats\u001b[39m 0.5.0\n",
      "\n",
      "Warning message:\n",
      "“package ‘ggplot2’ was built under R version 4.0.1”\n",
      "Warning message:\n",
      "“package ‘tibble’ was built under R version 4.0.2”\n",
      "Warning message:\n",
      "“package ‘tidyr’ was built under R version 4.0.2”\n",
      "Warning message:\n",
      "“package ‘dplyr’ was built under R version 4.0.2”\n",
      "── \u001b[1mConflicts\u001b[22m ────────────────────────────────────────── tidyverse_conflicts() ──\n",
      "\u001b[31m✖\u001b[39m \u001b[34mdplyr\u001b[39m::\u001b[32mcombine()\u001b[39m masks \u001b[34mgridExtra\u001b[39m::combine()\n",
      "\u001b[31m✖\u001b[39m \u001b[34mdplyr\u001b[39m::\u001b[32mfilter()\u001b[39m  masks \u001b[34mstats\u001b[39m::filter()\n",
      "\u001b[31m✖\u001b[39m \u001b[34mdplyr\u001b[39m::\u001b[32mlag()\u001b[39m     masks \u001b[34mstats\u001b[39m::lag()\n",
      "\n",
      "\n",
      "Attaching package: ‘testthat’\n",
      "\n",
      "\n",
      "The following object is masked from ‘package:dplyr’:\n",
      "\n",
      "    matches\n",
      "\n",
      "\n",
      "The following object is masked from ‘package:purrr’:\n",
      "\n",
      "    is_null\n",
      "\n",
      "\n",
      "The following object is masked from ‘package:tidyr’:\n",
      "\n",
      "    matches\n",
      "\n",
      "\n"
     ]
    }
   ],
   "source": [
    "# Run this cell before continuing.\n",
    "library(cowplot)\n",
    "library(digest)\n",
    "library(gridExtra)\n",
    "library(infer)\n",
    "library(repr)\n",
    "library(taxyvr)\n",
    "library(tidyverse)\n",
    "source(\"tests_worksheet_02.R\")"
   ]
  },
  {
   "cell_type": "markdown",
   "metadata": {
    "nbgrader": {
     "grade": false,
     "grade_id": "cell-db6779330180eb83",
     "locked": true,
     "schema_version": 3,
     "solution": false,
     "task": false
    }
   },
   "source": [
    "## 1. Warm-Up Questions\n",
    "\n",
    "Before we get started, let's start with a few warm-up questions."
   ]
  },
  {
   "cell_type": "markdown",
   "metadata": {
    "nbgrader": {
     "grade": false,
     "grade_id": "cell-eb586840fcc0dffb",
     "locked": true,
     "schema_version": 3,
     "solution": false,
     "task": false
    }
   },
   "source": [
    "**Question 1.0**\n",
    "<br>{points: 1}\n",
    "\n",
    "True or false?\n",
    "\n",
    "The distribution of a single sample will **always** have a similar shape to the population distribution.\n",
    "\n",
    "_Assign your answer to an object called `answer1.0`. Your answer should be either \"true\" or \"false\" surrounded by quotes._"
   ]
  },
  {
   "cell_type": "code",
   "execution_count": 2,
   "metadata": {
    "nbgrader": {
     "grade": false,
     "grade_id": "cell-29a9adf7e6ea149e",
     "locked": false,
     "schema_version": 3,
     "solution": true,
     "task": false
    }
   },
   "outputs": [],
   "source": [
    "# answer1.0 <- ...\n",
    "\n",
    "### BEGIN SOLUTION\n",
    "answer1.0 <- \"false\"\n",
    "### END SOLUTION"
   ]
  },
  {
   "cell_type": "code",
   "execution_count": 3,
   "metadata": {
    "nbgrader": {
     "grade": true,
     "grade_id": "cell-939c12dc83d99156",
     "locked": true,
     "points": 1,
     "schema_version": 3,
     "solution": false,
     "task": false
    }
   },
   "outputs": [
    {
     "name": "stdout",
     "output_type": "stream",
     "text": [
      "[1] \"Success!\"\n"
     ]
    }
   ],
   "source": [
    "test_1.0()"
   ]
  },
  {
   "cell_type": "markdown",
   "metadata": {
    "nbgrader": {
     "grade": false,
     "grade_id": "cell-97b86dec05432d87",
     "locked": true,
     "schema_version": 3,
     "solution": false,
     "task": false
    }
   },
   "source": [
    "**Question 1.1**\n",
    "<br>{points: 1}\n",
    "\n",
    "Which of the following variables is **not** an example of a quantitative variable?\n",
    "\n",
    "A. The number of red Skittles in a given package.\n",
    "\n",
    "B. The species of a tree.\n",
    "\n",
    "C. The age of a student in STAT 201.\n",
    "\n",
    "D. The weight of a newborn puppy.\n",
    "\n",
    "_Assign your answer to an object called `answer1.1`. Your answer should be a single character surrounded by quotes._"
   ]
  },
  {
   "cell_type": "code",
   "execution_count": 4,
   "metadata": {
    "nbgrader": {
     "grade": false,
     "grade_id": "cell-49fc8e017bd917a9",
     "locked": false,
     "schema_version": 3,
     "solution": true,
     "task": false
    }
   },
   "outputs": [],
   "source": [
    "# answer1.1 <- ...\n",
    "\n",
    "### BEGIN SOLUTION\n",
    "answer1.1 <- \"B\"\n",
    "### END SOLUTION"
   ]
  },
  {
   "cell_type": "code",
   "execution_count": 5,
   "metadata": {
    "nbgrader": {
     "grade": true,
     "grade_id": "cell-0e1045f7c706859b",
     "locked": true,
     "points": 1,
     "schema_version": 3,
     "solution": false,
     "task": false
    }
   },
   "outputs": [
    {
     "name": "stdout",
     "output_type": "stream",
     "text": [
      "[1] \"Success!\"\n"
     ]
    }
   ],
   "source": [
    "test_1.1()"
   ]
  },
  {
   "cell_type": "markdown",
   "metadata": {
    "nbgrader": {
     "grade": false,
     "grade_id": "cell-62a8810743e4dc45",
     "locked": true,
     "schema_version": 3,
     "solution": false,
     "task": false
    }
   },
   "source": [
    "**Question 1.2**\n",
    "<br>{points: 1}\n",
    "\n",
    "We quantify the variation of the point estimates in a sampling distribution by using:\n",
    "\n",
    "A. The variance of the sampling distribution, which is called the standard variance.\n",
    "\n",
    "B. The variance of the sampling distribution, which is called the standard error.\n",
    "\n",
    "C. The square root of the variance of the sampling distribution, which is called the standard variance.\n",
    "\n",
    "D. The standard deviation of the sampling distribution, which is called the standard error.\n",
    "\n",
    "_Assign your answer to an object called `answer1.2`. Your answer should be a single character surrounded by quotes._"
   ]
  },
  {
   "cell_type": "code",
   "execution_count": 6,
   "metadata": {
    "nbgrader": {
     "grade": false,
     "grade_id": "cell-a54c534433b2173b",
     "locked": false,
     "schema_version": 3,
     "solution": true,
     "task": false
    }
   },
   "outputs": [],
   "source": [
    "# answer1.2 <- ...\n",
    "\n",
    "### BEGIN SOLUTION\n",
    "answer1.2 <- \"D\"\n",
    "### END SOLUTION"
   ]
  },
  {
   "cell_type": "code",
   "execution_count": 7,
   "metadata": {
    "nbgrader": {
     "grade": true,
     "grade_id": "cell-440a7e90021f2c67",
     "locked": true,
     "points": 0,
     "schema_version": 3,
     "solution": false,
     "task": false
    }
   },
   "outputs": [
    {
     "name": "stdout",
     "output_type": "stream",
     "text": [
      "[1] \"Success!\"\n"
     ]
    }
   ],
   "source": [
    "test_1.2()"
   ]
  },
  {
   "cell_type": "markdown",
   "metadata": {
    "nbgrader": {
     "grade": false,
     "grade_id": "cell-d08c340377094e97",
     "locked": true,
     "schema_version": 3,
     "solution": false,
     "task": false
    }
   },
   "source": [
    "## 2. Random Variables\n",
    "\n",
    "Since we are going to be working with populations and sampling quite extensively throughout this course, we are now going to introduce the concept of a random variable so we can describe them a bit more formally. First, let's answer a few general questions relating to random variables, and then we will connect them to our understanding of populations and sampling."
   ]
  },
  {
   "cell_type": "markdown",
   "metadata": {
    "nbgrader": {
     "grade": false,
     "grade_id": "cell-ade7bbe70c090c97",
     "locked": true,
     "schema_version": 3,
     "solution": false,
     "task": false
    }
   },
   "source": [
    "**Question 2.0**\n",
    "<br>{points: 1}\n",
    "\n",
    "Which of the following examples could **not** be described as a random variable?\n",
    "\n",
    "A. The number of windows in the Earth Sciences Building (ESB).\n",
    "\n",
    "B. The number of students in the Earth Sciences Building (ESB) in an hour from now.\n",
    "\n",
    "C. The result of rolling a 6-sided die.\n",
    "\n",
    "D. The result of a coin flip.\n",
    "\n",
    "_Assign your answer to an object called `answer2.0`. Your answer should be a single character surrounded by quotes._"
   ]
  },
  {
   "cell_type": "code",
   "execution_count": 8,
   "metadata": {
    "nbgrader": {
     "grade": false,
     "grade_id": "cell-4745bddc088bf76e",
     "locked": false,
     "schema_version": 3,
     "solution": true,
     "task": false
    }
   },
   "outputs": [],
   "source": [
    "# answer2.0 <- ...\n",
    "\n",
    "### BEGIN SOLUTION\n",
    "answer2.0 <- \"A\"\n",
    "### END SOLUTION"
   ]
  },
  {
   "cell_type": "code",
   "execution_count": 9,
   "metadata": {
    "nbgrader": {
     "grade": true,
     "grade_id": "cell-85e877f0379142a5",
     "locked": true,
     "points": 1,
     "schema_version": 3,
     "solution": false,
     "task": false
    }
   },
   "outputs": [
    {
     "name": "stdout",
     "output_type": "stream",
     "text": [
      "[1] \"Success!\"\n"
     ]
    }
   ],
   "source": [
    "test_2.0()"
   ]
  },
  {
   "cell_type": "markdown",
   "metadata": {
    "nbgrader": {
     "grade": false,
     "grade_id": "cell-52669c282a889350",
     "locked": true,
     "schema_version": 3,
     "solution": false,
     "task": false
    }
   },
   "source": [
    "_Use the following information to answer the **next 2 questions**._\n",
    "\n",
    "Consider the population of cars owned by UBC students and assume there are exactly $3000$ of these cars. Suppose we had access to up-to-date data for the age (in years, rounded down to the nearest integer), horsepower (HP), and the number of doors for each of the $3000$ cars (we have access to data for the entire population). The first few rows of the data frame representing the population might look something like this\n",
    "\n",
    "\n",
    "| age | horsepower | doors |\n",
    "|-----|------------|-------|\n",
    "| 7   | 127        | 4     |\n",
    "| 9   | 310        | 4     |\n",
    "| 5   | 140        | 2     |\n",
    "| 5   | 132        | 2     |\n",
    "| ... | ...        | ...   |\n",
    "\n",
    "with $2996$ more rows."
   ]
  },
  {
   "cell_type": "markdown",
   "metadata": {
    "nbgrader": {
     "grade": false,
     "grade_id": "cell-4a62cb59552694c2",
     "locked": true,
     "schema_version": 3,
     "solution": false,
     "task": false
    }
   },
   "source": [
    "**Question 2.1**\n",
    "<br>{points: 1}\n",
    "\n",
    "Convince yourself that the age of a single UBC student's car is a random variable (the distribution of the random variable can be visualized as a histogram of all of the car ages in the population). Call it $X$. Which of the following statements best describes the meaning of the `age` column of the data frame in relation to the random variable $X$?\n",
    "\n",
    "A. The `age` column is an outcome of $X$.\n",
    "\n",
    "B. The `age` column is a sample of $3000$ different outcomes of $X$.\n",
    "\n",
    "C. The `age` column is the collection of all possible outcomes of $X$.\n",
    "\n",
    "_Assign your answer to an object called `answer2.1`. Your answer should be a single character surrounded by quotes._"
   ]
  },
  {
   "cell_type": "code",
   "execution_count": 10,
   "metadata": {
    "nbgrader": {
     "grade": false,
     "grade_id": "cell-9881d6f54de83c12",
     "locked": false,
     "schema_version": 3,
     "solution": true,
     "task": false
    }
   },
   "outputs": [],
   "source": [
    "# answer2.1 <- ...\n",
    "\n",
    "### BEGIN SOLUTION\n",
    "answer2.1 <- \"C\"\n",
    "### END SOLUTION"
   ]
  },
  {
   "cell_type": "code",
   "execution_count": 11,
   "metadata": {
    "nbgrader": {
     "grade": true,
     "grade_id": "cell-8d8fbbbba420afb9",
     "locked": true,
     "points": 1,
     "schema_version": 3,
     "solution": false,
     "task": false
    }
   },
   "outputs": [
    {
     "name": "stdout",
     "output_type": "stream",
     "text": [
      "[1] \"Success!\"\n"
     ]
    }
   ],
   "source": [
    "test_2.1()"
   ]
  },
  {
   "cell_type": "markdown",
   "metadata": {
    "nbgrader": {
     "grade": false,
     "grade_id": "cell-af84de35225c6a0d",
     "locked": true,
     "schema_version": 3,
     "solution": false,
     "task": false
    }
   },
   "source": [
    "**Question 2.2**\n",
    "<br>{points: 1}\n",
    "\n",
    "Suppose we choose a single car from the population (the data frame above) using `rep_sample_n(size = 1)` and it has the following characteristics:\n",
    "\n",
    "| age | horsepower | doors |\n",
    "|-----|------------|-------|\n",
    "| 2   | 156        | 2     |\n",
    "\n",
    "True or false?\n",
    "\n",
    "The number of doors on this car (2) can be considered an outcome of a random variable.\n",
    "\n",
    "_Assign your answer to an object called `answer2.2`. Your answer should be either \"true\" or \"false\", surrounded by quotes._"
   ]
  },
  {
   "cell_type": "code",
   "execution_count": 12,
   "metadata": {
    "nbgrader": {
     "grade": false,
     "grade_id": "cell-601a51d473b0d8ef",
     "locked": false,
     "schema_version": 3,
     "solution": true,
     "task": false
    }
   },
   "outputs": [],
   "source": [
    "# answer2.2 <- ...\n",
    "\n",
    "### BEGIN SOLUTION\n",
    "answer2.2 <- \"true\"\n",
    "### END SOLUTION"
   ]
  },
  {
   "cell_type": "code",
   "execution_count": 13,
   "metadata": {
    "nbgrader": {
     "grade": true,
     "grade_id": "cell-a0d53a43b9baa31e",
     "locked": true,
     "points": 1,
     "schema_version": 3,
     "solution": false,
     "task": false
    }
   },
   "outputs": [
    {
     "name": "stdout",
     "output_type": "stream",
     "text": [
      "[1] \"Success!\"\n"
     ]
    }
   ],
   "source": [
    "test_2.2()"
   ]
  },
  {
   "cell_type": "markdown",
   "metadata": {
    "nbgrader": {
     "grade": false,
     "grade_id": "cell-ec6e5b3b0d856c6a",
     "locked": true,
     "schema_version": 3,
     "solution": false,
     "task": false
    }
   },
   "source": [
    "**Question 2.3**\n",
    "<br>{points: 1}\n",
    "\n",
    "Which of the following variables related to populations and sampling is an example of a random variable?\n",
    "\n",
    "A. The mean of a population.\n",
    "\n",
    "B. The mean of a random sample from a population.\n",
    "\n",
    "C. The number of individuals in a population.\n",
    "\n",
    "D. The number of individuals in a random sample from a population.\n",
    "\n",
    "_Assign your answer to an object called `answer2.3`. Your answer should be a single character surrounded by quotes._"
   ]
  },
  {
   "cell_type": "code",
   "execution_count": 14,
   "metadata": {
    "nbgrader": {
     "grade": false,
     "grade_id": "cell-851832733516e7f8",
     "locked": false,
     "schema_version": 3,
     "solution": true,
     "task": false
    }
   },
   "outputs": [],
   "source": [
    "# answer2.3 <- ...\n",
    "\n",
    "### BEGIN SOLUTION\n",
    "answer2.3 <- \"B\"\n",
    "### END SOLUTION"
   ]
  },
  {
   "cell_type": "code",
   "execution_count": 15,
   "metadata": {
    "nbgrader": {
     "grade": true,
     "grade_id": "cell-6f972ad56f889117",
     "locked": true,
     "points": 1,
     "schema_version": 3,
     "solution": false,
     "task": false
    }
   },
   "outputs": [
    {
     "name": "stdout",
     "output_type": "stream",
     "text": [
      "[1] \"Success!\"\n"
     ]
    }
   ],
   "source": [
    "test_2.3()"
   ]
  },
  {
   "cell_type": "markdown",
   "metadata": {
    "nbgrader": {
     "grade": false,
     "grade_id": "cell-b571aa4b21fd46d0",
     "locked": true,
     "schema_version": 3,
     "solution": false,
     "task": false
    }
   },
   "source": [
    "**Question 2.4**\n",
    "<br>{points: 1}\n",
    "\n",
    "True or false?\n",
    "\n",
    "Given that an \"estimator\" is a random variable whose distribution is the sampling distribution for a population paramater, a point estimate is an observation of a random variable.\n",
    "\n",
    "_Assign your answer to an object called `answer2.4`. Your answer should be either `\"true\"` or `\"false\"`."
   ]
  },
  {
   "cell_type": "code",
   "execution_count": 16,
   "metadata": {
    "nbgrader": {
     "grade": false,
     "grade_id": "cell-f25e9214a2023843",
     "locked": false,
     "schema_version": 3,
     "solution": true,
     "task": false
    }
   },
   "outputs": [],
   "source": [
    "# answer2.4 <- ...\n",
    "\n",
    "### BEGIN SOLUTION\n",
    "answer2.4 <- \"true\"\n",
    "### END SOLUTION"
   ]
  },
  {
   "cell_type": "code",
   "execution_count": 17,
   "metadata": {
    "nbgrader": {
     "grade": true,
     "grade_id": "cell-dfa044b49cb963b1",
     "locked": true,
     "points": 0,
     "schema_version": 3,
     "solution": false,
     "task": false
    }
   },
   "outputs": [
    {
     "name": "stdout",
     "output_type": "stream",
     "text": [
      "[1] \"Success!\"\n"
     ]
    }
   ],
   "source": [
    "test_2.4()"
   ]
  },
  {
   "cell_type": "markdown",
   "metadata": {
    "nbgrader": {
     "grade": false,
     "grade_id": "cell-48595088ea6784fe",
     "locked": true,
     "schema_version": 3,
     "solution": false,
     "task": false
    }
   },
   "source": [
    "## 3. Influence of Sample Size\n",
    "\n",
    "In the previous worksheet, you may have noticed that we held the sample size at a relatively constant size throughout our simulations. But what happens to our sampling distributions when we increase or decrease the sample size more drastically (e.g. a sample size of 10 or 100)? Does it matter? How does it affect our sampling distribution(s)? Is there a pattern? These are some questions that we will answer as we progress through the remainder of this worksheet. To do so, we will revisit the real population we worked with in `worksheet_01`.\n",
    "\n",
    "![](https://media.giphy.com/media/5XRB3Ay93FZw4/giphy.gif)\n",
    "<div style=\"text-align: center\"><i>Image from <a href=\"hhttps://giphy.com/gifs/5XRB3Ay93FZw4/links\">giphy.com</i></a></div>\n",
    "\n",
    "As you work through the rest of this worksheet, there are a few important things you should keep in mind. First, you must acknowledge that we don't usually have access to data for the entire population that we are interested in like we have so far. If we did, we could always calculate the population parameter directly. Here, we are taking the opportunity of having access to these entire populations to study sampling distributions. Second, always remember the purpose of learning about sampling distributions. By learning about the properties of sampling distributions, you will be able to understand the inherent variability/error in point estimates. This \"error\" associated with a point estimate is critical, and in later weeks we will learn how to report it formally.\n",
    "\n",
    "### Vancouver Property Tax (Revisited)\n",
    "\n",
    "If you recall from `worksheet_01`, we explored the population distribution, some sample distributions, and the sampling distribution of sample means for the tax assessment value for **multiple-family dwellings in strata housing** in Vancouver using the `tax_2019` dataset from the `taxyvr` R package. As mentioned previously, we're going to revisit and extend our exploration of the sampling distribution of sample means by altering the size of our simulated samples from this dataset.\n",
    "\n",
    "Let's start by filtering the `tax_2019` dataset for the population that we are interested in again. Since you already did this during the last worksheet, we have done it for you in the code cell below. Recall that we were interested in the `current_land_value` of properties that meet the following criteria:\n",
    "- **Have a `current_land_value` greater than \\$1:**  Some properties are assignment a value of `NA` and these are the properties undergoing big renovations. These values get ammended after the improvement and are reflected in the following year's assessment. The same occurs with homes that are asssessed at $0.\n",
    "- **Are of `legal_type` `\"STRATA\"`**\n",
    "- **Are of `zone_category` `\"Multiple Family Dwelling\"`** \n",
    "\n",
    "_If you need a refresher on the `tax_2019` dataset and where it came from, please look back at `worksheet_01` and re-read the introduction of section 2 there._"
   ]
  },
  {
   "cell_type": "code",
   "execution_count": 18,
   "metadata": {
    "nbgrader": {
     "grade": false,
     "grade_id": "cell-1f3bfd53e562ce26",
     "locked": true,
     "schema_version": 3,
     "solution": false,
     "task": false
    }
   },
   "outputs": [
    {
     "data": {
      "text/html": [
       "<table>\n",
       "<caption>A tibble: 6 × 1</caption>\n",
       "<thead>\n",
       "\t<tr><th scope=col>current_land_value</th></tr>\n",
       "\t<tr><th scope=col>&lt;dbl&gt;</th></tr>\n",
       "</thead>\n",
       "<tbody>\n",
       "\t<tr><td>1052000</td></tr>\n",
       "\t<tr><td> 984000</td></tr>\n",
       "\t<tr><td> 984000</td></tr>\n",
       "\t<tr><td>1067000</td></tr>\n",
       "\t<tr><td> 500000</td></tr>\n",
       "\t<tr><td> 982000</td></tr>\n",
       "</tbody>\n",
       "</table>\n"
      ],
      "text/latex": [
       "A tibble: 6 × 1\n",
       "\\begin{tabular}{l}\n",
       " current\\_land\\_value\\\\\n",
       " <dbl>\\\\\n",
       "\\hline\n",
       "\t 1052000\\\\\n",
       "\t  984000\\\\\n",
       "\t  984000\\\\\n",
       "\t 1067000\\\\\n",
       "\t  500000\\\\\n",
       "\t  982000\\\\\n",
       "\\end{tabular}\n"
      ],
      "text/markdown": [
       "\n",
       "A tibble: 6 × 1\n",
       "\n",
       "| current_land_value &lt;dbl&gt; |\n",
       "|---|\n",
       "| 1052000 |\n",
       "|  984000 |\n",
       "|  984000 |\n",
       "| 1067000 |\n",
       "|  500000 |\n",
       "|  982000 |\n",
       "\n"
      ],
      "text/plain": [
       "  current_land_value\n",
       "1 1052000           \n",
       "2  984000           \n",
       "3  984000           \n",
       "4 1067000           \n",
       "5  500000           \n",
       "6  982000           "
      ]
     },
     "metadata": {},
     "output_type": "display_data"
    }
   ],
   "source": [
    "# Run this cell before continuing.\n",
    "multi_family_strata <- \n",
    "    tax_2019 %>%  \n",
    "    filter(!is.na(current_land_value),\n",
    "           current_land_value > 1,\n",
    "           legal_type == \"STRATA\",\n",
    "           zone_category == \"Multiple Family Dwelling\") %>% \n",
    "    select(current_land_value)\n",
    "head(multi_family_strata)"
   ]
  },
  {
   "cell_type": "markdown",
   "metadata": {
    "nbgrader": {
     "grade": false,
     "grade_id": "cell-218a5a8ba7c99cba",
     "locked": true,
     "schema_version": 3,
     "solution": false,
     "task": false
    }
   },
   "source": [
    "**Question 3.0** \n",
    "<br> {points: 1}\n",
    "\n",
    "Now let's start taking samples from our population `multi_family_strata`. First, take 2000 random samples of size 10 using the `rep_sample_n` function and a seed of `9869`.\n",
    "\n",
    "_Assign your data frame to an object called `samples_10`._"
   ]
  },
  {
   "cell_type": "code",
   "execution_count": 19,
   "metadata": {
    "nbgrader": {
     "grade": false,
     "grade_id": "cell-303acaad7b7ef9ec",
     "locked": false,
     "schema_version": 3,
     "solution": true,
     "task": false
    }
   },
   "outputs": [
    {
     "data": {
      "text/html": [
       "<table>\n",
       "<caption>A grouped_df: 6 × 2</caption>\n",
       "<thead>\n",
       "\t<tr><th scope=col>replicate</th><th scope=col>current_land_value</th></tr>\n",
       "\t<tr><th scope=col>&lt;int&gt;</th><th scope=col>&lt;dbl&gt;</th></tr>\n",
       "</thead>\n",
       "<tbody>\n",
       "\t<tr><td>1</td><td> 625000</td></tr>\n",
       "\t<tr><td>1</td><td> 472000</td></tr>\n",
       "\t<tr><td>1</td><td> 491000</td></tr>\n",
       "\t<tr><td>1</td><td> 808000</td></tr>\n",
       "\t<tr><td>1</td><td> 653000</td></tr>\n",
       "\t<tr><td>1</td><td>1039000</td></tr>\n",
       "</tbody>\n",
       "</table>\n"
      ],
      "text/latex": [
       "A grouped\\_df: 6 × 2\n",
       "\\begin{tabular}{ll}\n",
       " replicate & current\\_land\\_value\\\\\n",
       " <int> & <dbl>\\\\\n",
       "\\hline\n",
       "\t 1 &  625000\\\\\n",
       "\t 1 &  472000\\\\\n",
       "\t 1 &  491000\\\\\n",
       "\t 1 &  808000\\\\\n",
       "\t 1 &  653000\\\\\n",
       "\t 1 & 1039000\\\\\n",
       "\\end{tabular}\n"
      ],
      "text/markdown": [
       "\n",
       "A grouped_df: 6 × 2\n",
       "\n",
       "| replicate &lt;int&gt; | current_land_value &lt;dbl&gt; |\n",
       "|---|---|\n",
       "| 1 |  625000 |\n",
       "| 1 |  472000 |\n",
       "| 1 |  491000 |\n",
       "| 1 |  808000 |\n",
       "| 1 |  653000 |\n",
       "| 1 | 1039000 |\n",
       "\n"
      ],
      "text/plain": [
       "  replicate current_land_value\n",
       "1 1          625000           \n",
       "2 1          472000           \n",
       "3 1          491000           \n",
       "4 1          808000           \n",
       "5 1          653000           \n",
       "6 1         1039000           "
      ]
     },
     "metadata": {},
     "output_type": "display_data"
    }
   ],
   "source": [
    "set.seed(9869) # DO NOT CHANGE!\n",
    "\n",
    "### BEGIN SOLUTION\n",
    "samples_10 <- \n",
    "    multi_family_strata %>% \n",
    "    rep_sample_n(size = 10, reps = 2000)\n",
    "### END SOLUTION\n",
    "\n",
    "head(samples_10)"
   ]
  },
  {
   "cell_type": "code",
   "execution_count": 20,
   "metadata": {
    "nbgrader": {
     "grade": true,
     "grade_id": "cell-7fa51fbfac84d70e",
     "locked": true,
     "points": 1,
     "schema_version": 3,
     "solution": false,
     "task": false
    }
   },
   "outputs": [
    {
     "name": "stdout",
     "output_type": "stream",
     "text": [
      "[1] \"Success!\"\n"
     ]
    }
   ],
   "source": [
    "test_3.0()"
   ]
  },
  {
   "cell_type": "markdown",
   "metadata": {
    "nbgrader": {
     "grade": false,
     "grade_id": "cell-fc7136064820d5f8",
     "locked": true,
     "schema_version": 3,
     "solution": false,
     "task": false
    }
   },
   "source": [
    "**Question 3.1** \n",
    "<br> {points: 1}\n",
    "\n",
    "Next, calculate the mean of each sample you took in **question 3.0**; these are our point estimates. Name the new column containing the sample means `sample_mean`.\n",
    "\n",
    "_Assign your data frame to an object called `sample_means_10`._"
   ]
  },
  {
   "cell_type": "code",
   "execution_count": 21,
   "metadata": {
    "nbgrader": {
     "grade": false,
     "grade_id": "cell-9e4581334e49b421",
     "locked": false,
     "schema_version": 3,
     "solution": true,
     "task": false
    }
   },
   "outputs": [
    {
     "name": "stderr",
     "output_type": "stream",
     "text": [
      "`summarise()` ungrouping output (override with `.groups` argument)\n",
      "\n"
     ]
    },
    {
     "data": {
      "text/html": [
       "<table>\n",
       "<caption>A tibble: 6 × 2</caption>\n",
       "<thead>\n",
       "\t<tr><th scope=col>replicate</th><th scope=col>sample_mean</th></tr>\n",
       "\t<tr><th scope=col>&lt;int&gt;</th><th scope=col>&lt;dbl&gt;</th></tr>\n",
       "</thead>\n",
       "<tbody>\n",
       "\t<tr><td>1</td><td>578900</td></tr>\n",
       "\t<tr><td>2</td><td>551000</td></tr>\n",
       "\t<tr><td>3</td><td>489900</td></tr>\n",
       "\t<tr><td>4</td><td>632300</td></tr>\n",
       "\t<tr><td>5</td><td>634000</td></tr>\n",
       "\t<tr><td>6</td><td>650300</td></tr>\n",
       "</tbody>\n",
       "</table>\n"
      ],
      "text/latex": [
       "A tibble: 6 × 2\n",
       "\\begin{tabular}{ll}\n",
       " replicate & sample\\_mean\\\\\n",
       " <int> & <dbl>\\\\\n",
       "\\hline\n",
       "\t 1 & 578900\\\\\n",
       "\t 2 & 551000\\\\\n",
       "\t 3 & 489900\\\\\n",
       "\t 4 & 632300\\\\\n",
       "\t 5 & 634000\\\\\n",
       "\t 6 & 650300\\\\\n",
       "\\end{tabular}\n"
      ],
      "text/markdown": [
       "\n",
       "A tibble: 6 × 2\n",
       "\n",
       "| replicate &lt;int&gt; | sample_mean &lt;dbl&gt; |\n",
       "|---|---|\n",
       "| 1 | 578900 |\n",
       "| 2 | 551000 |\n",
       "| 3 | 489900 |\n",
       "| 4 | 632300 |\n",
       "| 5 | 634000 |\n",
       "| 6 | 650300 |\n",
       "\n"
      ],
      "text/plain": [
       "  replicate sample_mean\n",
       "1 1         578900     \n",
       "2 2         551000     \n",
       "3 3         489900     \n",
       "4 4         632300     \n",
       "5 5         634000     \n",
       "6 6         650300     "
      ]
     },
     "metadata": {},
     "output_type": "display_data"
    }
   ],
   "source": [
    "### BEGIN SOLUTION\n",
    "sample_means_10 <- \n",
    "    samples_10 %>% \n",
    "    group_by(replicate) %>% \n",
    "    summarise(sample_mean = mean(current_land_value))\n",
    "### END SOLUTION\n",
    "\n",
    "head(sample_means_10)"
   ]
  },
  {
   "cell_type": "code",
   "execution_count": 22,
   "metadata": {
    "nbgrader": {
     "grade": true,
     "grade_id": "cell-eae137174260d70f",
     "locked": true,
     "points": 1,
     "schema_version": 3,
     "solution": false,
     "task": false
    }
   },
   "outputs": [
    {
     "name": "stdout",
     "output_type": "stream",
     "text": [
      "[1] \"Success!\"\n"
     ]
    }
   ],
   "source": [
    "test_3.1()"
   ]
  },
  {
   "cell_type": "markdown",
   "metadata": {
    "nbgrader": {
     "grade": false,
     "grade_id": "cell-409f1b2769bebe07",
     "locked": true,
     "schema_version": 3,
     "solution": false,
     "task": false
    }
   },
   "source": [
    "**Question 3.2**\n",
    "<br> {points: 1}\n",
    "\n",
    "Finally, visualize the distribution of the sample means from the previous question by plotting a histogram using `geom_histogram` with the argument `binwidth = 30000`. Add a title of \"n = 10\" to the plot using `ggtitle` and ensure that the x-axis has a human-readable label.\n",
    "\n",
    "_Assign your plot to an object called `sampling_dist_10`._"
   ]
  },
  {
   "cell_type": "code",
   "execution_count": 23,
   "metadata": {
    "nbgrader": {
     "grade": false,
     "grade_id": "cell-b019963b74a75a0b",
     "locked": false,
     "schema_version": 3,
     "solution": true,
     "task": false
    },
    "scrolled": true
   },
   "outputs": [
    {
     "data": {
      "image/png": "[encoded data removed]",
      "text/plain": [
       "plot without title"
      ]
     },
     "metadata": {
      "image/png": {
       "height": 420,
       "width": 420
      }
     },
     "output_type": "display_data"
    }
   ],
   "source": [
    "### BEGIN SOLUTION\n",
    "sampling_dist_10 <- \n",
    "    sample_means_10 %>% \n",
    "    ggplot(aes(x = sample_mean)) +\n",
    "    geom_histogram(binwidth = 30000, color='white') +\n",
    "    xlab(\"Sample Mean Land Value (CAD)\") +\n",
    "    ggtitle(\"n = 10\")\n",
    "### END SOLUTION\n",
    "\n",
    "sampling_dist_10"
   ]
  },
  {
   "cell_type": "code",
   "execution_count": 24,
   "metadata": {
    "nbgrader": {
     "grade": true,
     "grade_id": "cell-37af6e6d17076bcf",
     "locked": true,
     "points": 1,
     "schema_version": 3,
     "solution": false,
     "task": false
    }
   },
   "outputs": [
    {
     "name": "stdout",
     "output_type": "stream",
     "text": [
      "[1] \"Success!\"\n"
     ]
    }
   ],
   "source": [
    "test_3.2()"
   ]
  },
  {
   "cell_type": "markdown",
   "metadata": {
    "nbgrader": {
     "grade": false,
     "grade_id": "cell-da45ac1a5690d79e",
     "locked": true,
     "schema_version": 3,
     "solution": false,
     "task": false
    }
   },
   "source": [
    "**Question 3.3** \n",
    "<br> {points: 1}\n",
    "\n",
    "Using the same strategy as you did above, draw 2000 random samples of size 30 from `multi_family_strata` using the `rep_sample_n` function, but this time use the seed `7032`. For each sample, calculate the mean as the point estimate. Lastly, visualize the distribution of the sample means (point estimates) you just calculated by plotting a histogram using `geom_histogram` with the argument `binwidth = 25000`. Add a title of \"n = 30\" to the plot using `ggtitle` and ensure that the x-axis has a human-readable label.\n",
    "\n",
    "_Assign your plot to an object called `sampling_dist_30`._"
   ]
  },
  {
   "cell_type": "code",
   "execution_count": 25,
   "metadata": {
    "nbgrader": {
     "grade": false,
     "grade_id": "cell-8e33a33f5bcfe9f3",
     "locked": false,
     "schema_version": 3,
     "solution": true,
     "task": false
    }
   },
   "outputs": [
    {
     "name": "stderr",
     "output_type": "stream",
     "text": [
      "`summarise()` ungrouping output (override with `.groups` argument)\n",
      "\n"
     ]
    },
    {
     "data": {
      "image/png": "[encoded data removed]",
      "text/plain": [
       "plot without title"
      ]
     },
     "metadata": {
      "image/png": {
       "height": 420,
       "width": 420
      }
     },
     "output_type": "display_data"
    }
   ],
   "source": [
    "set.seed(7032) # DO NOT CHANGE!\n",
    "\n",
    "### BEGIN SOLUTION\n",
    "sampling_dist_30 <- multi_family_strata %>% \n",
    "    rep_sample_n(size = 30, reps = 2000) %>% \n",
    "    group_by(replicate) %>% \n",
    "    summarise(sample_mean = mean(current_land_value)) %>% \n",
    "    ggplot(aes(x = sample_mean)) +\n",
    "    geom_histogram(binwidth = 25000, color = 'white') +\n",
    "    xlab(\"Mean Land Value (CAD)\") +\n",
    "    ggtitle(\"n = 30\")\n",
    "### END SOLUTION\n",
    "sampling_dist_30"
   ]
  },
  {
   "cell_type": "code",
   "execution_count": 26,
   "metadata": {
    "nbgrader": {
     "grade": true,
     "grade_id": "cell-273df730ac619b40",
     "locked": true,
     "points": 1,
     "schema_version": 3,
     "solution": false,
     "task": false
    }
   },
   "outputs": [
    {
     "name": "stdout",
     "output_type": "stream",
     "text": [
      "[1] \"Success!\"\n"
     ]
    }
   ],
   "source": [
    "test_3.3()"
   ]
  },
  {
   "cell_type": "markdown",
   "metadata": {
    "nbgrader": {
     "grade": false,
     "grade_id": "cell-84fb3dbd6492d91a",
     "locked": true,
     "schema_version": 3,
     "solution": false,
     "task": false
    }
   },
   "source": [
    "**Question 3.4** \n",
    "<br> {points: 1}\n",
    "\n",
    "Again, using the same strategy as you did above, draw 2000 random samples of size 100 using the `rep_sample_n` function. Use the seed `8408`. For each sample, calculate the mean as the point estimate. Lastly, visualize the distribution of the sample means (point estimates) you just calculated by plotting a histogram using `geom_histogram` with the argument `binwidth = 14000`. Add a title of \"n = 100\" to the plot using `ggtitle` and ensure that the x-axis has a human-readable label.\n",
    "\n",
    "_Assign your plot to an object called `sampling_dist_100`._"
   ]
  },
  {
   "cell_type": "code",
   "execution_count": 27,
   "metadata": {
    "nbgrader": {
     "grade": false,
     "grade_id": "cell-e2cb7f9ef0d83904",
     "locked": false,
     "schema_version": 3,
     "solution": true,
     "task": false
    },
    "scrolled": false
   },
   "outputs": [
    {
     "name": "stderr",
     "output_type": "stream",
     "text": [
      "`summarise()` ungrouping output (override with `.groups` argument)\n",
      "\n"
     ]
    },
    {
     "data": {
      "image/png": "[encoded data removed]",
      "text/plain": [
       "plot without title"
      ]
     },
     "metadata": {
      "image/png": {
       "height": 420,
       "width": 420
      }
     },
     "output_type": "display_data"
    }
   ],
   "source": [
    "set.seed(8408) # DO NOT CHANGE!\n",
    "\n",
    "### BEGIN SOLUTION\n",
    "sampling_dist_100 <- multi_family_strata %>% \n",
    "    rep_sample_n(size = 100, reps = 2000) %>% \n",
    "    group_by(replicate) %>% \n",
    "    summarise(sample_mean = mean(current_land_value)) %>% \n",
    "    ggplot(aes(x = sample_mean)) +\n",
    "    geom_histogram(binwidth = 14000, color = 'white') +\n",
    "    xlab(\"Mean Land Value (CAD)\") +\n",
    "    ggtitle(\"n = 100\")\n",
    "### END SOLUTION\n",
    "sampling_dist_100"
   ]
  },
  {
   "cell_type": "code",
   "execution_count": 28,
   "metadata": {
    "nbgrader": {
     "grade": true,
     "grade_id": "cell-f68f6bcb383eff02",
     "locked": true,
     "points": 1,
     "schema_version": 3,
     "solution": false,
     "task": false
    }
   },
   "outputs": [
    {
     "name": "stdout",
     "output_type": "stream",
     "text": [
      "[1] \"Success!\"\n"
     ]
    }
   ],
   "source": [
    "test_3.4()"
   ]
  },
  {
   "cell_type": "markdown",
   "metadata": {
    "nbgrader": {
     "grade": false,
     "grade_id": "cell-8e182b389bb40473",
     "locked": true,
     "schema_version": 3,
     "solution": false,
     "task": false
    }
   },
   "source": [
    "In the code cell below, we have used `plot_grid` to plot the three sampling distributions side-by-side. We have sorted the plots by increasing order of sample size from left to right. **Note**: a small number of the sample means are not visible because we manually set bounds on the x-axis so you can compare the distributions more easily (this causes the warnings you observe below).\n",
    "\n",
    "_Use the set of plots below to answer the **next question**. Some of the code may be confusing, but you do not need to understand the code to answer the question._"
   ]
  },
  {
   "cell_type": "code",
   "execution_count": 29,
   "metadata": {
    "nbgrader": {
     "grade": false,
     "grade_id": "cell-afa92dcfa7631f52",
     "locked": true,
     "schema_version": 3,
     "solution": false,
     "task": false
    },
    "scrolled": false
   },
   "outputs": [
    {
     "name": "stderr",
     "output_type": "stream",
     "text": [
      "Warning message:\n",
      "“Removed 12 rows containing non-finite values (stat_bin).”\n",
      "Warning message:\n",
      "“Removed 2 rows containing missing values (geom_bar).”\n",
      "Warning message:\n",
      "“Removed 2 rows containing missing values (geom_bar).”\n",
      "Warning message:\n",
      "“Removed 2 rows containing missing values (geom_bar).”\n"
     ]
    },
    {
     "data": {
      "image/png": "[encoded data removed]",
      "text/plain": [
       "plot without title"
      ]
     },
     "metadata": {
      "image/png": {
       "height": 420,
       "width": 1200
      }
     },
     "output_type": "display_data"
    }
   ],
   "source": [
    "# Run this cell before continuing.\n",
    "options(repr.plot.width = 20) # temp\n",
    "\n",
    "mean_plot_row <- plot_grid(sampling_dist_10 +\n",
    "                theme(axis.text.x = element_text(angle = 90)) +\n",
    "                scale_x_continuous(breaks = seq(400000, 1200000, 200000),\n",
    "                                   limits = c(400000, 1200000)),\n",
    "            sampling_dist_30 +\n",
    "                theme(axis.text.x = element_text(angle = 90)) +\n",
    "                scale_x_continuous(breaks = seq(400000, 1200000, 200000),\n",
    "                                   limits = c(400000, 1200000)),\n",
    "            sampling_dist_100 +\n",
    "                theme(axis.text.x = element_text(angle = 90)) +\n",
    "                scale_x_continuous(breaks = seq(400000, 1200000, 200000),\n",
    "                                   limits = c(400000, 1200000)),\n",
    "            ncol = 3)\n",
    "title <- ggdraw() + \n",
    "  draw_label(\"Comparison of sampling distributions of sample means\",\n",
    "             fontface = 'bold',\n",
    "             x = 0,\n",
    "             hjust = 0) +\n",
    "  theme(plot.margin = margin(0, 0, 0, 7))\n",
    "\n",
    "means_grid <- plot_grid(title,\n",
    "                        mean_plot_row,\n",
    "                        ncol = 1,\n",
    "                        rel_heights = c(0.1, 1))\n",
    "\n",
    "means_grid"
   ]
  },
  {
   "cell_type": "markdown",
   "metadata": {
    "nbgrader": {
     "grade": false,
     "grade_id": "cell-6d6eb0e43482155e",
     "locked": true,
     "schema_version": 3,
     "solution": false,
     "task": false
    }
   },
   "source": [
    "**Question 3.5**\n",
    "<br> {points: 1}\n",
    "\n",
    "Considering the set of plots above, which statement below **is not** correct:\n",
    "\n",
    "A. As the sample size increases, the sampling distribution becomes narrower.\n",
    "\n",
    "B. As the sample size increases, there are more sample point estimates closer to the true population mean.\n",
    "\n",
    "C. As the sample size increases, the sampling distribution appears more bell-shaped.\n",
    "\n",
    "D. As the sample size increases, the standard error of the estimator increases.\n",
    "\n",
    "_Assign your answer to an object called `answer3.5`. Your answer should be a single character surrounded by quotes._"
   ]
  },
  {
   "cell_type": "code",
   "execution_count": 30,
   "metadata": {
    "nbgrader": {
     "grade": false,
     "grade_id": "cell-58cda3f054966112",
     "locked": false,
     "schema_version": 3,
     "solution": true,
     "task": false
    }
   },
   "outputs": [],
   "source": [
    "# answer3.5 <- ...\n",
    "\n",
    "### END SOLUTION\n",
    "answer3.5 <- \"D\"\n",
    "### END SOLUTION"
   ]
  },
  {
   "cell_type": "code",
   "execution_count": 31,
   "metadata": {
    "nbgrader": {
     "grade": true,
     "grade_id": "cell-d68c6b42ff8a70d5",
     "locked": true,
     "points": 1,
     "schema_version": 3,
     "solution": false,
     "task": false
    }
   },
   "outputs": [
    {
     "name": "stdout",
     "output_type": "stream",
     "text": [
      "[1] \"Success!\"\n"
     ]
    }
   ],
   "source": [
    "test_3.5()"
   ]
  },
  {
   "cell_type": "markdown",
   "metadata": {
    "nbgrader": {
     "grade": false,
     "grade_id": "cell-7972e65e3ce6cd7f",
     "locked": true,
     "schema_version": 3,
     "solution": false,
     "task": false
    }
   },
   "source": [
    "**Question 3.6**\n",
    "<br> {points: 1}\n",
    "\n",
    "Given what you observed above, and considering the real life scenario where you only have the resources to take one sample, answer the true or false question below: \n",
    "\n",
    "True or false?\n",
    "\n",
    "The smaller your random sample, the better your point estimate reflects the true population quantity you are trying to estimate. \n",
    "\n",
    "_Assign your answer to an object called `answer3.6`. Your answer should be either \"true\" or \"false\", surrounded by quotes._"
   ]
  },
  {
   "cell_type": "code",
   "execution_count": 32,
   "metadata": {
    "nbgrader": {
     "grade": false,
     "grade_id": "cell-59003042d3f3f156",
     "locked": false,
     "schema_version": 3,
     "solution": true,
     "task": false
    }
   },
   "outputs": [],
   "source": [
    "# answer3.6 <- ...\n",
    "\n",
    "### BEGIN SOLUTION\n",
    "answer3.6 <- \"false\"\n",
    "### END SOLUTION"
   ]
  },
  {
   "cell_type": "code",
   "execution_count": 33,
   "metadata": {
    "nbgrader": {
     "grade": true,
     "grade_id": "cell-b9ef4e1a5bcb5bb9",
     "locked": true,
     "points": 1,
     "schema_version": 3,
     "solution": false,
     "task": false
    }
   },
   "outputs": [
    {
     "name": "stdout",
     "output_type": "stream",
     "text": [
      "[1] \"Success!\"\n"
     ]
    }
   ],
   "source": [
    "test_3.6()"
   ]
  },
  {
   "cell_type": "markdown",
   "metadata": {
    "nbgrader": {
     "grade": false,
     "grade_id": "cell-64353174ba5550f6",
     "locked": true,
     "schema_version": 3,
     "solution": false,
     "task": false
    }
   },
   "source": [
    "## 4. Proportions\n",
    "\n",
    "Previously we have only been interested in the population parameters of mean, median, and variance. However, these parameters can only describe numerical data; what about categorical data? For this type of data, we often refer to **proportions**. Recall that proportion is the ratio of the number of individuals in the population with a given attribute to the size of the entire population. For example, if there are $n$ individuals in our population and there are $x$ individuals amongst the population with a given attribute of interest, then the proportion, $p$, of the individuals of interest is \n",
    "\n",
    "$$p = \\frac{x}{n}$$\n",
    "\n",
    "Just like with the other parameters we have explored, we can also estimate the proportion of a population by taking a sample and calculating a point estimate. Thus, we can also have a sampling distribution of sample proportions. But how does this sampling distribution look? Does it have the same properties as the others we have explored? Is it affected by the sample size in the same way? Let's find out.\n"
   ]
  },
  {
   "cell_type": "markdown",
   "metadata": {
    "nbgrader": {
     "grade": false,
     "grade_id": "cell-ba510f173c3b9a17",
     "locked": true,
     "schema_version": 3,
     "solution": false,
     "task": false
    }
   },
   "source": [
    "Before we continue, here are a couple questions to reinforce your knowledge of the concept of proportion."
   ]
  },
  {
   "cell_type": "markdown",
   "metadata": {
    "nbgrader": {
     "grade": false,
     "grade_id": "cell-c178aeef21572645",
     "locked": true,
     "schema_version": 3,
     "solution": false,
     "task": false
    }
   },
   "source": [
    "**Question 4.0**\n",
    "<br>{points: 1}\n",
    "\n",
    "Consider the population of students enrolled at UBC's Vancouver campus. As of the start of the 2019 Winter term, there were 57250 students in total, and among them, 10294 were Faculty of Science students ([source](https://bog3.sites.olt.ubc.ca/files/2020/01/4_2020.02_Enrolment-Annual-Report.pdf)). What is the proportion of Science students at UBC?\n",
    "\n",
    "_Assign your answer to an object called `answer4.0`. Your answer should be a single number._"
   ]
  },
  {
   "cell_type": "code",
   "execution_count": 34,
   "metadata": {
    "nbgrader": {
     "grade": false,
     "grade_id": "cell-3e96a0d7c9028c28",
     "locked": false,
     "schema_version": 3,
     "solution": true,
     "task": false
    }
   },
   "outputs": [
    {
     "data": {
      "text/html": [
       "0.179807860262009"
      ],
      "text/latex": [
       "0.179807860262009"
      ],
      "text/markdown": [
       "0.179807860262009"
      ],
      "text/plain": [
       "[1] 0.1798079"
      ]
     },
     "metadata": {},
     "output_type": "display_data"
    }
   ],
   "source": [
    "# answer4.0 <- ...\n",
    "\n",
    "### BEGIN SOLUTION\n",
    "answer4.0 <- 10294 / 57250\n",
    "### END SOLUTION\n",
    "\n",
    "answer4.0"
   ]
  },
  {
   "cell_type": "code",
   "execution_count": 35,
   "metadata": {
    "nbgrader": {
     "grade": true,
     "grade_id": "cell-ac17357e81cdaf6e",
     "locked": true,
     "points": 1,
     "schema_version": 3,
     "solution": false,
     "task": false
    }
   },
   "outputs": [
    {
     "name": "stdout",
     "output_type": "stream",
     "text": [
      "[1] \"Success!\"\n"
     ]
    }
   ],
   "source": [
    "test_4.0()"
   ]
  },
  {
   "cell_type": "markdown",
   "metadata": {
    "nbgrader": {
     "grade": false,
     "grade_id": "cell-948af605408daf22",
     "locked": true,
     "schema_version": 3,
     "solution": false,
     "task": false
    }
   },
   "source": [
    "**Question 4.1**\n",
    "<br>{points: 1}\n",
    "\n",
    "You are told that 168 students in your BIOL 200 section have taken, or are currently taking, one or more CPSC or STAT courses, which is 60% of the students in the section. How many students are there in total in your BIOL 200 section?\n",
    "\n",
    "_Assign your answer to an object called `answer4.1`. Your answer should be a single number._"
   ]
  },
  {
   "cell_type": "code",
   "execution_count": 36,
   "metadata": {
    "nbgrader": {
     "grade": false,
     "grade_id": "cell-1b1cca76607912d2",
     "locked": false,
     "schema_version": 3,
     "solution": true,
     "task": false
    }
   },
   "outputs": [
    {
     "data": {
      "text/html": [
       "280"
      ],
      "text/latex": [
       "280"
      ],
      "text/markdown": [
       "280"
      ],
      "text/plain": [
       "[1] 280"
      ]
     },
     "metadata": {},
     "output_type": "display_data"
    }
   ],
   "source": [
    "# answer4.1 <- ...\n",
    "\n",
    "### BEGIN SOLUTION\n",
    "answer4.1 <- 168 / 0.6\n",
    "### END SOLUTION\n",
    "answer4.1"
   ]
  },
  {
   "cell_type": "code",
   "execution_count": 37,
   "metadata": {
    "nbgrader": {
     "grade": true,
     "grade_id": "cell-922d209a74075a4f",
     "locked": true,
     "points": 1,
     "schema_version": 3,
     "solution": false,
     "task": false
    }
   },
   "outputs": [
    {
     "name": "stdout",
     "output_type": "stream",
     "text": [
      "[1] \"Success!\"\n"
     ]
    }
   ],
   "source": [
    "test_4.1()"
   ]
  },
  {
   "cell_type": "markdown",
   "metadata": {
    "nbgrader": {
     "grade": false,
     "grade_id": "cell-de5e76040569868c",
     "locked": true,
     "schema_version": 3,
     "solution": false,
     "task": false
    }
   },
   "source": [
    "### Proportions of Vancouver Property Tax \n",
    "\n",
    "To learn more about proportions and the sampling distribution of sample proportions, we are again going to revisit the `tax_2019` dataset from the `taxyvr` R package. However, this time we'll be looking at a different variable for **all** properties in Vancouver: `geo_local_area`, which describes the local area where the property can be found (such as Kitsilano, Downtown, or Oakridge). Specifically, we will be looking at the **proportion of properties in Vancouver located downtown** (have a `geo_local_area` of `\"Downtown\"`), which we can call our population parameter of interest.\n",
    "\n",
    "Just as before, don't forget about where we are in the grand scheme of things. Let's remind ourselves of the two things we should be keeping in mind as we work through this section:\n",
    "\n",
    "> First, you must acknowledge that we don't usually have access to data for the entire population that we are interested in like we have so far. If we did, we could always calculate the population parameter directly. Here, we are taking the opportunity of having access to these entire populations to study sampling distributions. Second, always remember the purpose of learning about sampling distributions. By learning about the properties of sampling distributions, you will be able to understand the inherent variability/error in point estimates. This \"error\" associated with a point estimate is critical, and in later weeks we will learn how to report it formally."
   ]
  },
  {
   "cell_type": "markdown",
   "metadata": {
    "nbgrader": {
     "grade": false,
     "grade_id": "cell-68556462eb251638",
     "locked": true,
     "schema_version": 3,
     "solution": false,
     "task": false
    }
   },
   "source": [
    "**Question 4.2**\n",
    "<br>{points: 1}\n",
    "\n",
    "True or false?\n",
    "\n",
    "The `geo_local_area` variable in the `tax_2019` dataset is an example of a categorical variable.\n",
    "\n",
    "_Assign your answer to an object called `answer4.2`. Your answer should be either \"true\" or \"false\", surrounded by quotes._"
   ]
  },
  {
   "cell_type": "code",
   "execution_count": 38,
   "metadata": {
    "nbgrader": {
     "grade": false,
     "grade_id": "cell-4782bbac07cc5dd7",
     "locked": false,
     "schema_version": 3,
     "solution": true,
     "task": false
    }
   },
   "outputs": [],
   "source": [
    "# answer4.2 <- ...\n",
    "\n",
    "### BEGIN SOLUTION\n",
    "answer4.2 <- \"true\"\n",
    "### END SOLUTION"
   ]
  },
  {
   "cell_type": "code",
   "execution_count": 39,
   "metadata": {
    "nbgrader": {
     "grade": true,
     "grade_id": "cell-739bd297786badd3",
     "locked": true,
     "points": 1,
     "schema_version": 3,
     "solution": false,
     "task": false
    }
   },
   "outputs": [
    {
     "name": "stdout",
     "output_type": "stream",
     "text": [
      "[1] \"Success!\"\n"
     ]
    }
   ],
   "source": [
    "test_4.2()"
   ]
  },
  {
   "cell_type": "markdown",
   "metadata": {
    "nbgrader": {
     "grade": false,
     "grade_id": "cell-bab59223730622a1",
     "locked": true,
     "schema_version": 3,
     "solution": false,
     "task": false
    }
   },
   "source": [
    "**Question 4.3**\n",
    "<br>{points: 1}\n",
    "\n",
    "From the `tax_2019` dataset, filter out the rows that contain an `NA` in the `geo_local_area` column and select only this column.\n",
    "\n",
    "_Assign your data frame to an object called `geo_pop`._"
   ]
  },
  {
   "cell_type": "code",
   "execution_count": 40,
   "metadata": {
    "nbgrader": {
     "grade": false,
     "grade_id": "cell-c1f42fe962aea858",
     "locked": false,
     "schema_version": 3,
     "solution": true,
     "task": false
    }
   },
   "outputs": [
    {
     "data": {
      "text/html": [
       "<table>\n",
       "<caption>A tibble: 6 × 1</caption>\n",
       "<thead>\n",
       "\t<tr><th scope=col>geo_local_area</th></tr>\n",
       "\t<tr><th scope=col>&lt;chr&gt;</th></tr>\n",
       "</thead>\n",
       "<tbody>\n",
       "\t<tr><td>West Point Grey</td></tr>\n",
       "\t<tr><td>West Point Grey</td></tr>\n",
       "\t<tr><td>West Point Grey</td></tr>\n",
       "\t<tr><td>West Point Grey</td></tr>\n",
       "\t<tr><td>West Point Grey</td></tr>\n",
       "\t<tr><td>West Point Grey</td></tr>\n",
       "</tbody>\n",
       "</table>\n"
      ],
      "text/latex": [
       "A tibble: 6 × 1\n",
       "\\begin{tabular}{l}\n",
       " geo\\_local\\_area\\\\\n",
       " <chr>\\\\\n",
       "\\hline\n",
       "\t West Point Grey\\\\\n",
       "\t West Point Grey\\\\\n",
       "\t West Point Grey\\\\\n",
       "\t West Point Grey\\\\\n",
       "\t West Point Grey\\\\\n",
       "\t West Point Grey\\\\\n",
       "\\end{tabular}\n"
      ],
      "text/markdown": [
       "\n",
       "A tibble: 6 × 1\n",
       "\n",
       "| geo_local_area &lt;chr&gt; |\n",
       "|---|\n",
       "| West Point Grey |\n",
       "| West Point Grey |\n",
       "| West Point Grey |\n",
       "| West Point Grey |\n",
       "| West Point Grey |\n",
       "| West Point Grey |\n",
       "\n"
      ],
      "text/plain": [
       "  geo_local_area \n",
       "1 West Point Grey\n",
       "2 West Point Grey\n",
       "3 West Point Grey\n",
       "4 West Point Grey\n",
       "5 West Point Grey\n",
       "6 West Point Grey"
      ]
     },
     "metadata": {},
     "output_type": "display_data"
    }
   ],
   "source": [
    "### BEGIN SOLUTION\n",
    "geo_pop <- \n",
    "    tax_2019 %>%  \n",
    "    filter(!is.na(geo_local_area)) %>% \n",
    "    select(geo_local_area)\n",
    "### END SOLUTION\n",
    "\n",
    "head(geo_pop)"
   ]
  },
  {
   "cell_type": "code",
   "execution_count": 41,
   "metadata": {
    "nbgrader": {
     "grade": true,
     "grade_id": "cell-a69019dd39e8d083",
     "locked": true,
     "points": 1,
     "schema_version": 3,
     "solution": false,
     "task": false
    }
   },
   "outputs": [
    {
     "name": "stdout",
     "output_type": "stream",
     "text": [
      "[1] \"Success!\"\n"
     ]
    }
   ],
   "source": [
    "test_4.3()"
   ]
  },
  {
   "cell_type": "markdown",
   "metadata": {
    "nbgrader": {
     "grade": false,
     "grade_id": "cell-b93af13346d05f22",
     "locked": true,
     "schema_version": 3,
     "solution": false,
     "task": false
    }
   },
   "source": [
    "**Question 4.4**\n",
    "<br>{points: 1}\n",
    "\n",
    "Calculate the proportion of properties in our population `geo_pop` that are `\"Downtown\"`; this is the population parameter of interest. Recall that we are going to be exploring the effect of sampling size on the distributions of the point estimates for this parameter.\n",
    "\n",
    "_Assign your answer to an object called `p`. Your answer should be a single number._"
   ]
  },
  {
   "cell_type": "code",
   "execution_count": 42,
   "metadata": {
    "nbgrader": {
     "grade": false,
     "grade_id": "cell-849d9979497dd0d6",
     "locked": false,
     "schema_version": 3,
     "solution": true,
     "task": false
    }
   },
   "outputs": [
    {
     "data": {
      "text/html": [
       "0.195001900328921"
      ],
      "text/latex": [
       "0.195001900328921"
      ],
      "text/markdown": [
       "0.195001900328921"
      ],
      "text/plain": [
       "[1] 0.1950019"
      ]
     },
     "metadata": {},
     "output_type": "display_data"
    }
   ],
   "source": [
    "### BEGIN SOLUTION\n",
    "geo_pop_prop <- \n",
    "    geo_pop %>% \n",
    "    count(geo_local_area) %>% \n",
    "    mutate(p = n/sum(n))\n",
    "\n",
    "p <-\n",
    "    geo_pop_prop %>% \n",
    "    filter(geo_local_area == \"Downtown\") %>% \n",
    "    pull(p)\n",
    "### END SOLUTION\n",
    "\n",
    "p"
   ]
  },
  {
   "cell_type": "code",
   "execution_count": 43,
   "metadata": {
    "nbgrader": {
     "grade": true,
     "grade_id": "cell-ba8a8c4244a1551d",
     "locked": true,
     "points": 1,
     "schema_version": 3,
     "solution": false,
     "task": false
    }
   },
   "outputs": [
    {
     "name": "stdout",
     "output_type": "stream",
     "text": [
      "[1] \"Success!\"\n"
     ]
    }
   ],
   "source": [
    "test_4.4()"
   ]
  },
  {
   "cell_type": "markdown",
   "metadata": {
    "nbgrader": {
     "grade": false,
     "grade_id": "cell-31e196e1d305d33e",
     "locked": true,
     "schema_version": 3,
     "solution": false,
     "task": false
    }
   },
   "source": [
    "**Question 4.5**\n",
    "<br>{points: 1}\n",
    "\n",
    "Let's take our first set of samples from our population `geo_pop`. First, take 2000 random samples of a size 10 using the `rep_sample_n` function and a seed of `2410`.\n",
    "\n",
    "_Assign your data frame to an object called `samples_10`._"
   ]
  },
  {
   "cell_type": "code",
   "execution_count": 44,
   "metadata": {
    "nbgrader": {
     "grade": false,
     "grade_id": "cell-76dca3e8757f294a",
     "locked": false,
     "schema_version": 3,
     "solution": true,
     "task": false
    }
   },
   "outputs": [
    {
     "data": {
      "text/html": [
       "<table>\n",
       "<caption>A grouped_df: 6 × 2</caption>\n",
       "<thead>\n",
       "\t<tr><th scope=col>replicate</th><th scope=col>geo_local_area</th></tr>\n",
       "\t<tr><th scope=col>&lt;int&gt;</th><th scope=col>&lt;chr&gt;</th></tr>\n",
       "</thead>\n",
       "<tbody>\n",
       "\t<tr><td>1</td><td>Victoria-Fraserview</td></tr>\n",
       "\t<tr><td>1</td><td>Mount Pleasant     </td></tr>\n",
       "\t<tr><td>1</td><td>Killarney          </td></tr>\n",
       "\t<tr><td>1</td><td>South Cambie       </td></tr>\n",
       "\t<tr><td>1</td><td>Sunset             </td></tr>\n",
       "\t<tr><td>1</td><td>Fairview           </td></tr>\n",
       "</tbody>\n",
       "</table>\n"
      ],
      "text/latex": [
       "A grouped\\_df: 6 × 2\n",
       "\\begin{tabular}{ll}\n",
       " replicate & geo\\_local\\_area\\\\\n",
       " <int> & <chr>\\\\\n",
       "\\hline\n",
       "\t 1 & Victoria-Fraserview\\\\\n",
       "\t 1 & Mount Pleasant     \\\\\n",
       "\t 1 & Killarney          \\\\\n",
       "\t 1 & South Cambie       \\\\\n",
       "\t 1 & Sunset             \\\\\n",
       "\t 1 & Fairview           \\\\\n",
       "\\end{tabular}\n"
      ],
      "text/markdown": [
       "\n",
       "A grouped_df: 6 × 2\n",
       "\n",
       "| replicate &lt;int&gt; | geo_local_area &lt;chr&gt; |\n",
       "|---|---|\n",
       "| 1 | Victoria-Fraserview |\n",
       "| 1 | Mount Pleasant      |\n",
       "| 1 | Killarney           |\n",
       "| 1 | South Cambie        |\n",
       "| 1 | Sunset              |\n",
       "| 1 | Fairview            |\n",
       "\n"
      ],
      "text/plain": [
       "  replicate geo_local_area     \n",
       "1 1         Victoria-Fraserview\n",
       "2 1         Mount Pleasant     \n",
       "3 1         Killarney          \n",
       "4 1         South Cambie       \n",
       "5 1         Sunset             \n",
       "6 1         Fairview           "
      ]
     },
     "metadata": {},
     "output_type": "display_data"
    }
   ],
   "source": [
    "set.seed(2410) # DO NOT CHANGE!\n",
    "\n",
    "### BEGIN SOLUTION\n",
    "samples_10 <- \n",
    "    geo_pop %>% \n",
    "    rep_sample_n(size = 10, reps = 2000)\n",
    "### END SOLUTION\n",
    "head(samples_10)"
   ]
  },
  {
   "cell_type": "code",
   "execution_count": 45,
   "metadata": {
    "nbgrader": {
     "grade": true,
     "grade_id": "cell-6b3abca156f86d36",
     "locked": true,
     "points": 1,
     "schema_version": 3,
     "solution": false,
     "task": false
    }
   },
   "outputs": [
    {
     "name": "stdout",
     "output_type": "stream",
     "text": [
      "[1] \"Success!\"\n"
     ]
    }
   ],
   "source": [
    "test_4.5()"
   ]
  },
  {
   "cell_type": "markdown",
   "metadata": {
    "nbgrader": {
     "grade": false,
     "grade_id": "cell-1f6861f2f516ebb6",
     "locked": true,
     "schema_version": 3,
     "solution": false,
     "task": false
    }
   },
   "source": [
    "**Question 4.6**\n",
    "<br>{points: 1}\n",
    "\n",
    "Next, calculate the proportion of each sample you took in the previous question. Name the new column containing the sample proportions `sample_proportion`.\n",
    "\n",
    "_Assign your data frame to an object called `sample_proportions_10`._"
   ]
  },
  {
   "cell_type": "code",
   "execution_count": 46,
   "metadata": {
    "nbgrader": {
     "grade": false,
     "grade_id": "cell-6b334028eda70e8d",
     "locked": false,
     "schema_version": 3,
     "solution": true,
     "task": false
    }
   },
   "outputs": [
    {
     "name": "stderr",
     "output_type": "stream",
     "text": [
      "`summarise()` ungrouping output (override with `.groups` argument)\n",
      "\n"
     ]
    },
    {
     "data": {
      "text/html": [
       "<table>\n",
       "<caption>A tibble: 6 × 2</caption>\n",
       "<thead>\n",
       "\t<tr><th scope=col>replicate</th><th scope=col>sample_proportion</th></tr>\n",
       "\t<tr><th scope=col>&lt;int&gt;</th><th scope=col>&lt;dbl&gt;</th></tr>\n",
       "</thead>\n",
       "<tbody>\n",
       "\t<tr><td>1</td><td>0.0</td></tr>\n",
       "\t<tr><td>2</td><td>0.2</td></tr>\n",
       "\t<tr><td>3</td><td>0.1</td></tr>\n",
       "\t<tr><td>4</td><td>0.1</td></tr>\n",
       "\t<tr><td>5</td><td>0.2</td></tr>\n",
       "\t<tr><td>6</td><td>0.4</td></tr>\n",
       "</tbody>\n",
       "</table>\n"
      ],
      "text/latex": [
       "A tibble: 6 × 2\n",
       "\\begin{tabular}{ll}\n",
       " replicate & sample\\_proportion\\\\\n",
       " <int> & <dbl>\\\\\n",
       "\\hline\n",
       "\t 1 & 0.0\\\\\n",
       "\t 2 & 0.2\\\\\n",
       "\t 3 & 0.1\\\\\n",
       "\t 4 & 0.1\\\\\n",
       "\t 5 & 0.2\\\\\n",
       "\t 6 & 0.4\\\\\n",
       "\\end{tabular}\n"
      ],
      "text/markdown": [
       "\n",
       "A tibble: 6 × 2\n",
       "\n",
       "| replicate &lt;int&gt; | sample_proportion &lt;dbl&gt; |\n",
       "|---|---|\n",
       "| 1 | 0.0 |\n",
       "| 2 | 0.2 |\n",
       "| 3 | 0.1 |\n",
       "| 4 | 0.1 |\n",
       "| 5 | 0.2 |\n",
       "| 6 | 0.4 |\n",
       "\n"
      ],
      "text/plain": [
       "  replicate sample_proportion\n",
       "1 1         0.0              \n",
       "2 2         0.2              \n",
       "3 3         0.1              \n",
       "4 4         0.1              \n",
       "5 5         0.2              \n",
       "6 6         0.4              "
      ]
     },
     "metadata": {},
     "output_type": "display_data"
    }
   ],
   "source": [
    "### BEGIN SOLUTION\n",
    "sample_proportions_10 <- samples_10 %>% \n",
    "    group_by(replicate) %>% \n",
    "    summarize(sample_proportion = sum(geo_local_area == \"Downtown\")/n())\n",
    "### END SOLUTION\n",
    "\n",
    "head(sample_proportions_10)"
   ]
  },
  {
   "cell_type": "code",
   "execution_count": 47,
   "metadata": {
    "nbgrader": {
     "grade": true,
     "grade_id": "cell-e61f87f6eb7ceb6c",
     "locked": true,
     "points": 1,
     "schema_version": 3,
     "solution": false,
     "task": false
    }
   },
   "outputs": [
    {
     "name": "stdout",
     "output_type": "stream",
     "text": [
      "[1] \"Success!\"\n"
     ]
    }
   ],
   "source": [
    "test_4.6()"
   ]
  },
  {
   "cell_type": "markdown",
   "metadata": {
    "nbgrader": {
     "grade": false,
     "grade_id": "cell-a0f7ae74be4f7007",
     "locked": true,
     "schema_version": 3,
     "solution": false,
     "task": false
    }
   },
   "source": [
    "**Question 4.7**\n",
    "<br>{points: 1}\n",
    "\n",
    "Finally, visualize the distribution of the sample proportions from the previous question by plotting a histogram using `geom_histogram` with the argument `binwidth = 1/10`. Add a title of \"n = 10\" to the plot using `ggtitle` and ensure that the x-axis has a human-readable label.\n",
    "\n",
    "_Assign your plot to an object called `sampling_dist_10`._"
   ]
  },
  {
   "cell_type": "code",
   "execution_count": 48,
   "metadata": {
    "nbgrader": {
     "grade": false,
     "grade_id": "cell-8a925ee49a49df0b",
     "locked": false,
     "schema_version": 3,
     "solution": true,
     "task": false
    },
    "scrolled": true
   },
   "outputs": [
    {
     "data": {
      "image/png": "[encoded data removed]",
      "text/plain": [
       "plot without title"
      ]
     },
     "metadata": {
      "image/png": {
       "height": 420,
       "width": 1200
      }
     },
     "output_type": "display_data"
    }
   ],
   "source": [
    "### BEGIN SOLUTION\n",
    "sampling_dist_10 <- \n",
    "    sample_proportions_10 %>% \n",
    "    ggplot(aes(x = sample_proportion)) +\n",
    "    geom_histogram(binwidth = 1/10, color = 'white') +\n",
    "    xlab(\"Sample Proportion of Downtown Buildings\") +\n",
    "    ggtitle(\"n = 10\")\n",
    "### END SOLUTION\n",
    "\n",
    "sampling_dist_10"
   ]
  },
  {
   "cell_type": "code",
   "execution_count": 49,
   "metadata": {
    "nbgrader": {
     "grade": true,
     "grade_id": "cell-b7a06cf5e3cd5fea",
     "locked": true,
     "points": 1,
     "schema_version": 3,
     "solution": false,
     "task": false
    }
   },
   "outputs": [
    {
     "name": "stdout",
     "output_type": "stream",
     "text": [
      "[1] \"Success!\"\n"
     ]
    }
   ],
   "source": [
    "test_4.7()"
   ]
  },
  {
   "cell_type": "markdown",
   "metadata": {
    "nbgrader": {
     "grade": false,
     "grade_id": "cell-ef6519fea53617bf",
     "locked": true,
     "schema_version": 3,
     "solution": false,
     "task": false
    }
   },
   "source": [
    "**Question 4.8** \n",
    "<br> {points: 1}\n",
    "\n",
    "Using the same strategy as you did above, draw 2000 random samples of size 30 from the population `geo_pop` using the `rep_sample_n` function, but this time use the seed `6977`. For each sample, calculate the proportion as the point estimate. Lastly, visualize the distribution of the sample proportions (point estimates) you just calculated by plotting a histogram using `geom_histogram` with the argument `binwidth = 1/30`. Add a title of \"n = 30\" to the plot using `ggtitle` and ensure that the x-axis has a human-readable label.\n",
    "\n",
    "_Assign your plot to an object called `sampling_dist_30`._"
   ]
  },
  {
   "cell_type": "code",
   "execution_count": 50,
   "metadata": {
    "nbgrader": {
     "grade": false,
     "grade_id": "cell-6662981ad1c6053f",
     "locked": false,
     "schema_version": 3,
     "solution": true,
     "task": false
    }
   },
   "outputs": [
    {
     "name": "stderr",
     "output_type": "stream",
     "text": [
      "`summarise()` ungrouping output (override with `.groups` argument)\n",
      "\n"
     ]
    },
    {
     "data": {
      "image/png": "[encoded data removed]",
      "text/plain": [
       "plot without title"
      ]
     },
     "metadata": {
      "image/png": {
       "height": 420,
       "width": 1200
      }
     },
     "output_type": "display_data"
    }
   ],
   "source": [
    "set.seed(6977) # DO NOT CHANGE!\n",
    "\n",
    "### BEGIN SOLUTION\n",
    "sampling_dist_30 <- \n",
    "    geo_pop %>% \n",
    "    rep_sample_n(size = 30, reps = 2000) %>% \n",
    "    group_by(replicate) %>% \n",
    "    summarize(x = sum(geo_local_area == \"Downtown\"),\n",
    "              n = n()) %>% \n",
    "    mutate(sample_proportion = x / n) %>% \n",
    "    ggplot(aes(x = sample_proportion)) +\n",
    "    geom_histogram(binwidth = 1/30, color = 'white') +\n",
    "    xlab(\"Sample Proportion of Downtown Buildings\") +\n",
    "    ggtitle(\"n = 30\")\n",
    "### END SOLUTION\n",
    "\n",
    "sampling_dist_30"
   ]
  },
  {
   "cell_type": "code",
   "execution_count": 51,
   "metadata": {
    "nbgrader": {
     "grade": true,
     "grade_id": "cell-48e1f932e6c95c2a",
     "locked": true,
     "points": 1,
     "schema_version": 3,
     "solution": false,
     "task": false
    }
   },
   "outputs": [
    {
     "name": "stdout",
     "output_type": "stream",
     "text": [
      "[1] \"Success!\"\n"
     ]
    }
   ],
   "source": [
    "test_4.8()"
   ]
  },
  {
   "cell_type": "markdown",
   "metadata": {
    "nbgrader": {
     "grade": false,
     "grade_id": "cell-4bbb4ae8290b9415",
     "locked": true,
     "schema_version": 3,
     "solution": false,
     "task": false
    }
   },
   "source": [
    "**Question 4.9** \n",
    "<br> {points: 1}\n",
    "\n",
    "Using the same strategy as you did above, draw 2000 random samples of size 100 from the population `geo_pop` using the `rep_sample_n` function, but this time use the seed `5231`. For each sample, calculate the proportion as the point estimate. Lastly, visualize the distribution of the sample proportions (point estimates) you just calculated by plotting a histogram using `geom_histogram` with the argument `binwidth = 1/100`. Add a title of \"n = 125\" to the plot using `ggtitle` and ensure that the x-axis has a human-readable label.\n",
    "\n",
    "_Assign your plot to an object called `sampling_dist_100`._"
   ]
  },
  {
   "cell_type": "code",
   "execution_count": 52,
   "metadata": {
    "nbgrader": {
     "grade": false,
     "grade_id": "cell-42874db0ecbd1c82",
     "locked": false,
     "schema_version": 3,
     "solution": true,
     "task": false
    },
    "scrolled": true
   },
   "outputs": [
    {
     "name": "stderr",
     "output_type": "stream",
     "text": [
      "`summarise()` ungrouping output (override with `.groups` argument)\n",
      "\n"
     ]
    },
    {
     "data": {
      "image/png": "[encoded data removed]",
      "text/plain": [
       "plot without title"
      ]
     },
     "metadata": {
      "image/png": {
       "height": 420,
       "width": 1200
      }
     },
     "output_type": "display_data"
    }
   ],
   "source": [
    "set.seed(5231) # DO NOT CHANGE!\n",
    "\n",
    "### BEGIN SOLUTION\n",
    "sampling_dist_100 <- geo_pop %>% \n",
    "    rep_sample_n(size = 100, reps = 2000) %>% \n",
    "    group_by(replicate) %>% \n",
    "    summarize(x = sum(geo_local_area == \"Downtown\"),\n",
    "              n = n()) %>% \n",
    "    mutate(sample_proportion = x / n) %>% \n",
    "    ggplot(aes(x = sample_proportion)) +\n",
    "    geom_histogram(binwidth = 1/100, color = 'white') +\n",
    "    xlab(\"Sample Proportion of Downtown Buildings\") +\n",
    "    ggtitle(\"n = 100\")\n",
    "### END SOLUTION\n",
    "sampling_dist_100"
   ]
  },
  {
   "cell_type": "code",
   "execution_count": 53,
   "metadata": {
    "nbgrader": {
     "grade": true,
     "grade_id": "cell-92debfa4ea7c2733",
     "locked": true,
     "points": 1,
     "schema_version": 3,
     "solution": false,
     "task": false
    }
   },
   "outputs": [
    {
     "name": "stdout",
     "output_type": "stream",
     "text": [
      "[1] \"Success!\"\n"
     ]
    }
   ],
   "source": [
    "test_4.9()"
   ]
  },
  {
   "cell_type": "markdown",
   "metadata": {
    "nbgrader": {
     "grade": false,
     "grade_id": "cell-efc13a0e61479f1e",
     "locked": true,
     "schema_version": 3,
     "solution": false,
     "task": false
    }
   },
   "source": [
    "In the code cell below, we have used `plot_grid` to plot the three sampling distributions side-by-side. We have sorted the plots by increasing order of sample size from left to right. \n",
    "\n",
    "_Use the set of plots below to answer the **next 2 questions**. Some of the code may be confusing, but you do not need to understand the code to answer the questions._"
   ]
  },
  {
   "cell_type": "code",
   "execution_count": 54,
   "metadata": {
    "nbgrader": {
     "grade": false,
     "grade_id": "cell-4c7f9950801bbf3a",
     "locked": true,
     "schema_version": 3,
     "solution": false,
     "task": false
    }
   },
   "outputs": [
    {
     "name": "stderr",
     "output_type": "stream",
     "text": [
      "Warning message:\n",
      "“Removed 1 rows containing missing values (geom_bar).”\n",
      "Warning message:\n",
      "“Removed 1 rows containing missing values (geom_bar).”\n",
      "Warning message:\n",
      "“Removed 2 rows containing missing values (geom_bar).”\n"
     ]
    },
    {
     "data": {
      "image/png": "[encoded data removed]",
      "text/plain": [
       "plot without title"
      ]
     },
     "metadata": {
      "image/png": {
       "height": 420,
       "width": 1200
      }
     },
     "output_type": "display_data"
    }
   ],
   "source": [
    "# Run this cell before continuing.\n",
    "options(repr.plot.width = 20)\n",
    "\n",
    "proportion_plot_row <- plot_grid(sampling_dist_10 +\n",
    "                                 scale_x_continuous(limits = c(-0.05, 0.8)),\n",
    "                                 sampling_dist_30 +\n",
    "                                 scale_x_continuous(limits = c(-0.05, 0.8)),\n",
    "                                 sampling_dist_100 +\n",
    "                                 scale_x_continuous(limits = c(-0.05, 0.8)),\n",
    "                                 ncol = 3)\n",
    "\n",
    "title <- ggdraw() + \n",
    "  draw_label(\"Comparison of sampling distributions of sample proportions\",\n",
    "             fontface = 'bold',\n",
    "             x = 0,\n",
    "             hjust = 0) +\n",
    "  theme(plot.margin = margin(0, 0, 0, 7))\n",
    "\n",
    "means_grid <- plot_grid(title,\n",
    "                        proportion_plot_row,\n",
    "                        ncol = 1,\n",
    "                        rel_heights = c(0.1, 1))\n",
    "\n",
    "means_grid"
   ]
  },
  {
   "cell_type": "markdown",
   "metadata": {
    "nbgrader": {
     "grade": false,
     "grade_id": "cell-afa0b1da40d4c5b5",
     "locked": true,
     "schema_version": 3,
     "solution": false,
     "task": false
    }
   },
   "source": [
    "**Question 4.10**\n",
    "<br> {points: 1}\n",
    "\n",
    "When considering the set of plots above, which statement below **is not** correct:\n",
    "\n",
    "A. As the sample size increases, the sampling distribution becomes narrower.\n",
    "\n",
    "B. As the sample size increases, there are more sample point estimates closer to the true population proportion.\n",
    "\n",
    "C. As the sample size increases, the sampling distribution appears more bell-shaped.\n",
    "\n",
    "D. As the sample size increases, the standard error of the estimator increases.\n",
    "\n",
    "_Assign your answer to an object called `answer4.10`. Your answer should be a single character surrounded by quotes._"
   ]
  },
  {
   "cell_type": "code",
   "execution_count": 55,
   "metadata": {
    "nbgrader": {
     "grade": false,
     "grade_id": "cell-3a4c341f6d8a2121",
     "locked": false,
     "schema_version": 3,
     "solution": true,
     "task": false
    }
   },
   "outputs": [],
   "source": [
    "# answer4.10 <- ...\n",
    "\n",
    "### BEGIN SOLUTION\n",
    "answer4.10 <- \"D\"\n",
    "### END SOLUTION"
   ]
  },
  {
   "cell_type": "code",
   "execution_count": 56,
   "metadata": {
    "nbgrader": {
     "grade": true,
     "grade_id": "cell-43ffdd1a64bf7894",
     "locked": true,
     "points": 1,
     "schema_version": 3,
     "solution": false,
     "task": false
    }
   },
   "outputs": [
    {
     "name": "stdout",
     "output_type": "stream",
     "text": [
      "[1] \"Success!\"\n"
     ]
    }
   ],
   "source": [
    "test_4.10()"
   ]
  },
  {
   "cell_type": "markdown",
   "metadata": {
    "nbgrader": {
     "grade": false,
     "grade_id": "cell-932953a112eb8592",
     "locked": true,
     "schema_version": 3,
     "solution": false,
     "task": false
    }
   },
   "source": [
    "**Question 4.11**\n",
    "<br> {points: 1}\n",
    "\n",
    "True or false?\n",
    "\n",
    "When considering the set of plots above, sample size has a similar influence on the distribution of sample proportions as it does the distribution of other point estimates.\n",
    "\n",
    "_Assign your answer to an object called `answer4.11`. Your answer should be either \"true\" or \"false\", surrounded by quotes._"
   ]
  },
  {
   "cell_type": "code",
   "execution_count": 57,
   "metadata": {
    "nbgrader": {
     "grade": false,
     "grade_id": "cell-6c1ae5238bf286ed",
     "locked": false,
     "schema_version": 3,
     "solution": true,
     "task": false
    }
   },
   "outputs": [],
   "source": [
    "# answer4.11 <- ...\n",
    "\n",
    "### BEGIN SOLUTION\n",
    "answer4.11 <- \"true\"\n",
    "### END SOLUTION"
   ]
  },
  {
   "cell_type": "code",
   "execution_count": 58,
   "metadata": {
    "nbgrader": {
     "grade": true,
     "grade_id": "cell-9b70f5d3f5b9d554",
     "locked": true,
     "points": 1,
     "schema_version": 3,
     "solution": false,
     "task": false
    }
   },
   "outputs": [
    {
     "name": "stdout",
     "output_type": "stream",
     "text": [
      "[1] \"Success!\"\n"
     ]
    }
   ],
   "source": [
    "test_4.11()"
   ]
  },
  {
   "cell_type": "markdown",
   "metadata": {
    "nbgrader": {
     "grade": false,
     "grade_id": "cell-69c9234f72a8306d",
     "locked": true,
     "schema_version": 3,
     "solution": false,
     "task": false
    }
   },
   "source": [
    "## 5. Random and Representative Sampling\n",
    "\n",
    "Imagine you are at an outdoor Beyoncé concert at the Coachella Valley Music and Arts Festival along with over 125,000 others in attendance, and you are interested in the proportion of the audience that has the entire Beyoncé's discography. Clearly, it would take far too many resources to check whether each audience member has the discography. So how would you answer your question?\n",
    "\n",
    "This situation, which is analogous to scenarios commonly faced in reality, would force you to estimate the population parameter rather than calculate it directly. As we have learned, one method of doing so is by **sampling**.\n",
    "\n",
    "![](https://media.giphy.com/media/fxTqfhCjfQC03qBVch/giphy.gif)\n",
    "<div style=\"text-align: center\"><i>Image from <a href=\"https://media.giphy.com/media/fxTqfhCjfQC03qBVch/giphy.gif\">giphy.com</i></a></div>\n",
    "\n",
    "So far, we have been using the `rep_sample_n` function to take virtual samples from data that we have acquired for entire populations, which guarantees that our samples are as **random** as possible and gives us a high chance that they are **representative**. However, how do we take a sample in reality when we don't have a function to do it for us?\n",
    "\n",
    "In the scenario above, suppose you took a sample from the population by asking the 40 people closest to the stage if they have Beyoncé's entire discography. Would this sample be representative of the population? Likely not. Perhaps the individuals near the front are diehard Beyoncé fans and are more likely to have bought the entire discography. This approach may result in an estimate that is much higher than the true parameter. But is the sample random at least? Not necessarily. Perhaps you had to line up early at the entrance to have a chance at being near the front, which means that those who are not diehard Beyoncé's fans and came in later had a significantly less chance of being selected, making the sample biased.\n",
    "\n",
    "The following questions will focus on your understanding of random and representative sampling and how it can affect your estimations."
   ]
  },
  {
   "cell_type": "markdown",
   "metadata": {
    "nbgrader": {
     "grade": false,
     "grade_id": "cell-240a9f04755fd698",
     "locked": true,
     "schema_version": 3,
     "solution": false,
     "task": false
    }
   },
   "source": [
    "**Question 5.0**\n",
    "<br>{points: 1}\n",
    "\n",
    "You are interested in determining the proportion of students at UBC that own an iPhone, but you do not have the resources to perform a census. Which sampling method would you expect to be the **least** biased?\n",
    "\n",
    "A. From a list of all registered UBC students, you randomly select 30 students and ask them if they own an iPhone.\n",
    "\n",
    "B. You randomly select 30 different people at the Starbucks in the Life Building ask them if they own an iPhone.\n",
    "\n",
    "C. From a list of all students registered in your STAT 201 lecture, you randomly select 30 students and ask them if they own an iPhone.\n",
    "\n",
    "D. You stand near an entrance to the West Parkade and randomly select 30 different people entering the parkade and ask them if they own an iPhone.\n",
    "\n",
    "_Assign your answer to an object called `answer5.0`. Your answer should be a single character surrounded by quotes._"
   ]
  },
  {
   "cell_type": "code",
   "execution_count": 59,
   "metadata": {
    "nbgrader": {
     "grade": false,
     "grade_id": "cell-fa982760960bb32e",
     "locked": false,
     "schema_version": 3,
     "solution": true,
     "task": false
    }
   },
   "outputs": [],
   "source": [
    "# answer5.0 <- ...\n",
    "\n",
    "### BEGIN SOLUTION\n",
    "answer5.0 <- \"A\"\n",
    "### END SOLUTION"
   ]
  },
  {
   "cell_type": "code",
   "execution_count": 60,
   "metadata": {
    "nbgrader": {
     "grade": true,
     "grade_id": "cell-23814927a131425b",
     "locked": true,
     "points": 1,
     "schema_version": 3,
     "solution": false,
     "task": false
    }
   },
   "outputs": [
    {
     "name": "stdout",
     "output_type": "stream",
     "text": [
      "[1] \"Success!\"\n"
     ]
    }
   ],
   "source": [
    "test_5.0()"
   ]
  },
  {
   "cell_type": "markdown",
   "metadata": {
    "nbgrader": {
     "grade": false,
     "grade_id": "cell-1b01ced0e24131fb",
     "locked": true,
     "schema_version": 3,
     "solution": false,
     "task": false
    }
   },
   "source": [
    "**Question 5.1**\n",
    "<br>{points: 1}\n",
    "\n",
    "You are interested in the proportion of UBC students who are satisfied with UBC's responses to COVID-19. To estimate the population parameter, you take a sample from the population by conducting several online polls through UBC's social media platforms, compiling the results, and using them to calculate a point estimate.\n",
    "\n",
    "True or false?\n",
    "\n",
    "The sampling method used in the scenario above is an example of random sampling. \n",
    "\n",
    "_Assign your answer to an object called `answer5.1`. Your answer should be either \"true\" or \"false\", surrounded by quotes._"
   ]
  },
  {
   "cell_type": "code",
   "execution_count": 61,
   "metadata": {
    "nbgrader": {
     "grade": false,
     "grade_id": "cell-5171268f427103e9",
     "locked": false,
     "schema_version": 3,
     "solution": true,
     "task": false
    }
   },
   "outputs": [],
   "source": [
    "# answer5.1 <- ...\n",
    "\n",
    "### BEGIN SOLUTION\n",
    "answer5.1 <- \"false\"\n",
    "### END SOLUTION"
   ]
  },
  {
   "cell_type": "code",
   "execution_count": 62,
   "metadata": {
    "nbgrader": {
     "grade": true,
     "grade_id": "cell-58e0a5591011346e",
     "locked": true,
     "points": 1,
     "schema_version": 3,
     "solution": false,
     "task": false
    }
   },
   "outputs": [
    {
     "name": "stdout",
     "output_type": "stream",
     "text": [
      "[1] \"Success!\"\n"
     ]
    }
   ],
   "source": [
    "test_5.1()"
   ]
  },
  {
   "cell_type": "markdown",
   "metadata": {
    "nbgrader": {
     "grade": false,
     "grade_id": "cell-30d4ffcdc68b3331",
     "locked": true,
     "schema_version": 3,
     "solution": false,
     "task": false
    }
   },
   "source": [
    "**Question 5.2**\n",
    "<br>{points: 1}\n",
    "\n",
    "You are interested in determining the mean age of all teaching staff at UBC (including professors, lecturers, TAs, etc.). Suppose you randomly choose 50 undergraduate TAs at UBC and calculate the mean of their ages to use as a point estimate. Would you expect the point estimate to be accurate? Why or why not?\n",
    "\n",
    "A. Your estimate is accurate because your sample size is large enough and the sample is representative of the population.\n",
    "\n",
    "B. Your estimate is inaccurate. It would likely be too low because of sample bias; your sample is not representative of the population.\n",
    "\n",
    "C. Your estimate is inaccurate. It would likely be too high because of sample bias; your sample is not representative of the population.\n",
    "\n",
    "D. Your estimate is inaccurate. There's a high chance it would be either too high or too low because the sample size is quite small.\n",
    "\n",
    "_Assign your answer to an object called `answer5.2`. Your answer should be a single character surrounded by quotes._"
   ]
  },
  {
   "cell_type": "code",
   "execution_count": 63,
   "metadata": {
    "nbgrader": {
     "grade": false,
     "grade_id": "cell-f45983f930ed4c1d",
     "locked": false,
     "schema_version": 3,
     "solution": true,
     "task": false
    }
   },
   "outputs": [],
   "source": [
    "# answer5.2 <- ...\n",
    "\n",
    "### BEGIN SOLUTION\n",
    "answer5.2 <- \"B\"\n",
    "### END SOLUTION"
   ]
  },
  {
   "cell_type": "code",
   "execution_count": 64,
   "metadata": {
    "nbgrader": {
     "grade": true,
     "grade_id": "cell-d2e022c935e15536",
     "locked": true,
     "points": 1,
     "schema_version": 3,
     "solution": false,
     "task": false
    }
   },
   "outputs": [
    {
     "name": "stdout",
     "output_type": "stream",
     "text": [
      "[1] \"Success!\"\n"
     ]
    }
   ],
   "source": [
    "test_5.2()"
   ]
  },
  {
   "cell_type": "markdown",
   "metadata": {
    "nbgrader": {
     "grade": false,
     "grade_id": "cell-0da84052148fd620",
     "locked": true,
     "schema_version": 3,
     "solution": false,
     "task": false
    }
   },
   "source": [
    "**Question 5.3**\n",
    "<br>{points: 1}\n",
    "\n",
    "Suppose you are hired by a fast-food restaurant company to survey its workers about working conditions. You are told that there are 25 restaurants in total, and that there is approximately 1 manager, 6 supervisors, and 34 other workers for each restaurant. You manage to randomly select 200 individuals from all 25 restaurants: 4 managers, 25 supervisors, and 171 workers.\n",
    "\n",
    "True or false?\n",
    "\n",
    "Your sample is representative of the population.\n",
    "\n",
    "_Assign your answer to an object called `answer5.3`. Your answer should be either \"true\" or \"false\", surrounded by quotes._"
   ]
  },
  {
   "cell_type": "code",
   "execution_count": 65,
   "metadata": {
    "nbgrader": {
     "grade": false,
     "grade_id": "cell-01642ceac6e1bc04",
     "locked": false,
     "schema_version": 3,
     "solution": true,
     "task": false
    }
   },
   "outputs": [],
   "source": [
    "# answer5.3 <- ...\n",
    "\n",
    "### BEGIN SOLUTION\n",
    "answer5.3 <- \"true\"\n",
    "### END SOLUTION"
   ]
  },
  {
   "cell_type": "code",
   "execution_count": 66,
   "metadata": {
    "nbgrader": {
     "grade": true,
     "grade_id": "cell-f2af439a5c815f41",
     "locked": true,
     "points": 1,
     "schema_version": 3,
     "solution": false,
     "task": false
    }
   },
   "outputs": [
    {
     "name": "stdout",
     "output_type": "stream",
     "text": [
      "[1] \"Success!\"\n"
     ]
    }
   ],
   "source": [
    "test_5.3()"
   ]
  }
 ],
 "metadata": {
  "celltoolbar": "Create Assignment",
  "docker": {
   "latest_image_tag": "v0.4.0"
  },
  "jupytext": {
   "formats": "ipynb,Rmd"
  },
  "kernelspec": {
   "display_name": "R",
   "language": "R",
   "name": "ir"
  },
  "language_info": {
   "codemirror_mode": "r",
   "file_extension": ".r",
   "mimetype": "text/x-r-source",
   "name": "R",
   "pygments_lexer": "r",
   "version": "4.1.1"
  }
 },
 "nbformat": 4,
 "nbformat_minor": 4
}
