{
 "cells": [
  {
   "cell_type": "markdown",
   "metadata": {
    "nbgrader": {
     "grade": false,
     "grade_id": "cell-57c92078710d7670",
     "locked": true,
     "schema_version": 3,
     "solution": false,
     "task": false
    }
   },
   "source": [
    "# Tutorial 6: Hypothesis Testing\n",
    "\n",
    "### Lecture and Tutorial Learning Goals\n",
    "From this section, students are expected to be able to:\n",
    "\n",
    "1.\tGive an example of a question you could answer with a hypothesis test.\n",
    "2.\tIdentify potential limitations in the data, arising from the methods of data collection, to answer the question\n",
    "3.\tSpecify a null and alternative hypothesis.\n",
    "4.\tGiven an inferential question, formulate hypotheses to be used in a hypothesis test.\n",
    "5.\tIdentify the correct steps and components of a basic hypothesis test.\n",
    "6.\tWrite computer scripts to perform hypothesis testing via simulation, randomization and bootstrapping approaches, as well as interpret the output.\n",
    "7.\tIdentify the advantages of simulation/randomization tests when estimating parameters different from proportions and means.\n",
    "8.\tDescribe the relationship between confidence intervals and hypothesis testing.\n",
    "9.\tDiscuss the potential limitations of these methods."
   ]
  },
  {
   "cell_type": "code",
   "execution_count": 1,
   "metadata": {
    "nbgrader": {
     "grade": false,
     "grade_id": "cell-fc07df746fa2acae",
     "locked": true,
     "schema_version": 3,
     "solution": false,
     "task": false
    },
    "scrolled": true
   },
   "outputs": [
    {
     "name": "stderr",
     "output_type": "stream",
     "text": [
      "\n",
      "********************************************************\n",
      "\n",
      "Note: As of version 1.0.0, cowplot does not change the\n",
      "\n",
      "  default ggplot2 theme anymore. To recover the previous\n",
      "\n",
      "  behavior, execute:\n",
      "  theme_set(theme_cowplot())\n",
      "\n",
      "********************************************************\n",
      "\n",
      "\n",
      "Warning message:\n",
      "“package ‘infer’ was built under R version 4.0.2”\n",
      "── \u001b[1mAttaching packages\u001b[22m ─────────────────────────────────────── tidyverse 1.3.0 ──\n",
      "\n",
      "\u001b[32m✔\u001b[39m \u001b[34mggplot2\u001b[39m 3.3.2     \u001b[32m✔\u001b[39m \u001b[34mpurrr  \u001b[39m 0.3.4\n",
      "\u001b[32m✔\u001b[39m \u001b[34mtibble \u001b[39m 3.0.3     \u001b[32m✔\u001b[39m \u001b[34mdplyr  \u001b[39m 1.0.2\n",
      "\u001b[32m✔\u001b[39m \u001b[34mtidyr  \u001b[39m 1.1.1     \u001b[32m✔\u001b[39m \u001b[34mstringr\u001b[39m 1.4.0\n",
      "\u001b[32m✔\u001b[39m \u001b[34mreadr  \u001b[39m 1.3.1     \u001b[32m✔\u001b[39m \u001b[34mforcats\u001b[39m 0.5.0\n",
      "\n",
      "Warning message:\n",
      "“package ‘ggplot2’ was built under R version 4.0.1”\n",
      "Warning message:\n",
      "“package ‘tibble’ was built under R version 4.0.2”\n",
      "Warning message:\n",
      "“package ‘tidyr’ was built under R version 4.0.2”\n",
      "Warning message:\n",
      "“package ‘dplyr’ was built under R version 4.0.2”\n",
      "── \u001b[1mConflicts\u001b[22m ────────────────────────────────────────── tidyverse_conflicts() ──\n",
      "\u001b[31m✖\u001b[39m \u001b[34mdplyr\u001b[39m::\u001b[32mfilter()\u001b[39m masks \u001b[34mstats\u001b[39m::filter()\n",
      "\u001b[31m✖\u001b[39m \u001b[34mdplyr\u001b[39m::\u001b[32mlag()\u001b[39m    masks \u001b[34mstats\u001b[39m::lag()\n",
      "\n",
      "\n",
      "Attaching package: ‘testthat’\n",
      "\n",
      "\n",
      "The following object is masked from ‘package:dplyr’:\n",
      "\n",
      "    matches\n",
      "\n",
      "\n",
      "The following object is masked from ‘package:purrr’:\n",
      "\n",
      "    is_null\n",
      "\n",
      "\n",
      "The following object is masked from ‘package:tidyr’:\n",
      "\n",
      "    matches\n",
      "\n",
      "\n"
     ]
    }
   ],
   "source": [
    "# Run this cell before continuing.\n",
    "library(cowplot)\n",
    "library(datateachr)\n",
    "library(digest)\n",
    "library(infer)\n",
    "library(repr)\n",
    "library(taxyvr)\n",
    "library(tidyverse)\n",
    "library(dplyr)\n",
    "library(datateachr)\n",
    "penguins <- read.csv(\"https://raw.githubusercontent.com/allisonhorst/palmerpenguins/master/inst/extdata/penguins.csv\")\n",
    "source(\"tests_tutorial_06.R\")"
   ]
  },
  {
   "cell_type": "markdown",
   "metadata": {
    "nbgrader": {
     "grade": false,
     "grade_id": "cell-5452f0b8e3cc9640",
     "locked": true,
     "schema_version": 3,
     "solution": false,
     "task": false
    }
   },
   "source": [
    "## 1. Annual Maximum Flow Rate of Bow River\n",
    "\n",
    "&emsp; When the snow melts in spring and summer, tons of water are released into the rivers, and floodings occur. One preventative measure is to keep track of the maximum flow of a river each year. For this question, we aim to prevent flooding by first studying the annual maximum daily discharge (in $m^3/s$) at a hydrometric station called <i> Bow River at Banff </i>, which is near Banff, Alberta. The data are saved to the data table <i>flow_sample</i>. Let's preview this dataset."
   ]
  },
  {
   "cell_type": "code",
   "execution_count": 2,
   "metadata": {
    "nbgrader": {
     "grade": false,
     "grade_id": "cell-00f0bba26d76ed06",
     "locked": true,
     "schema_version": 3,
     "solution": false,
     "task": false
    }
   },
   "outputs": [],
   "source": [
    "?flow_sample"
   ]
  },
  {
   "cell_type": "code",
   "execution_count": 3,
   "metadata": {
    "nbgrader": {
     "grade": false,
     "grade_id": "cell-5c3c13289a0b767a",
     "locked": true,
     "schema_version": 3,
     "solution": false,
     "task": false
    },
    "scrolled": true
   },
   "outputs": [
    {
     "data": {
      "text/html": [
       "<table>\n",
       "<caption>A tibble: 6 × 7</caption>\n",
       "<thead>\n",
       "\t<tr><th scope=col>station_id</th><th scope=col>year</th><th scope=col>extreme_type</th><th scope=col>month</th><th scope=col>day</th><th scope=col>flow</th><th scope=col>sym</th></tr>\n",
       "\t<tr><th scope=col>&lt;chr&gt;</th><th scope=col>&lt;dbl&gt;</th><th scope=col>&lt;chr&gt;</th><th scope=col>&lt;dbl&gt;</th><th scope=col>&lt;dbl&gt;</th><th scope=col>&lt;dbl&gt;</th><th scope=col>&lt;chr&gt;</th></tr>\n",
       "</thead>\n",
       "<tbody>\n",
       "\t<tr><td>05BB001</td><td>1909</td><td>maximum</td><td>7</td><td> 7</td><td>314</td><td>NA</td></tr>\n",
       "\t<tr><td>05BB001</td><td>1910</td><td>maximum</td><td>6</td><td>12</td><td>230</td><td>NA</td></tr>\n",
       "\t<tr><td>05BB001</td><td>1911</td><td>maximum</td><td>6</td><td>14</td><td>264</td><td>NA</td></tr>\n",
       "\t<tr><td>05BB001</td><td>1912</td><td>maximum</td><td>8</td><td>25</td><td>174</td><td>NA</td></tr>\n",
       "\t<tr><td>05BB001</td><td>1913</td><td>maximum</td><td>6</td><td>11</td><td>232</td><td>NA</td></tr>\n",
       "\t<tr><td>05BB001</td><td>1914</td><td>maximum</td><td>6</td><td>18</td><td>214</td><td>NA</td></tr>\n",
       "</tbody>\n",
       "</table>\n"
      ],
      "text/latex": [
       "A tibble: 6 × 7\n",
       "\\begin{tabular}{lllllll}\n",
       " station\\_id & year & extreme\\_type & month & day & flow & sym\\\\\n",
       " <chr> & <dbl> & <chr> & <dbl> & <dbl> & <dbl> & <chr>\\\\\n",
       "\\hline\n",
       "\t 05BB001 & 1909 & maximum & 7 &  7 & 314 & NA\\\\\n",
       "\t 05BB001 & 1910 & maximum & 6 & 12 & 230 & NA\\\\\n",
       "\t 05BB001 & 1911 & maximum & 6 & 14 & 264 & NA\\\\\n",
       "\t 05BB001 & 1912 & maximum & 8 & 25 & 174 & NA\\\\\n",
       "\t 05BB001 & 1913 & maximum & 6 & 11 & 232 & NA\\\\\n",
       "\t 05BB001 & 1914 & maximum & 6 & 18 & 214 & NA\\\\\n",
       "\\end{tabular}\n"
      ],
      "text/markdown": [
       "\n",
       "A tibble: 6 × 7\n",
       "\n",
       "| station_id &lt;chr&gt; | year &lt;dbl&gt; | extreme_type &lt;chr&gt; | month &lt;dbl&gt; | day &lt;dbl&gt; | flow &lt;dbl&gt; | sym &lt;chr&gt; |\n",
       "|---|---|---|---|---|---|---|\n",
       "| 05BB001 | 1909 | maximum | 7 |  7 | 314 | NA |\n",
       "| 05BB001 | 1910 | maximum | 6 | 12 | 230 | NA |\n",
       "| 05BB001 | 1911 | maximum | 6 | 14 | 264 | NA |\n",
       "| 05BB001 | 1912 | maximum | 8 | 25 | 174 | NA |\n",
       "| 05BB001 | 1913 | maximum | 6 | 11 | 232 | NA |\n",
       "| 05BB001 | 1914 | maximum | 6 | 18 | 214 | NA |\n",
       "\n"
      ],
      "text/plain": [
       "  station_id year extreme_type month day flow sym\n",
       "1 05BB001    1909 maximum      7      7  314  NA \n",
       "2 05BB001    1910 maximum      6     12  230  NA \n",
       "3 05BB001    1911 maximum      6     14  264  NA \n",
       "4 05BB001    1912 maximum      8     25  174  NA \n",
       "5 05BB001    1913 maximum      6     11  232  NA \n",
       "6 05BB001    1914 maximum      6     18  214  NA "
      ]
     },
     "metadata": {},
     "output_type": "display_data"
    }
   ],
   "source": [
    "head(flow_sample)"
   ]
  },
  {
   "cell_type": "markdown",
   "metadata": {
    "nbgrader": {
     "grade": false,
     "grade_id": "cell-1d4382bf89c3623d",
     "locked": true,
     "schema_version": 3,
     "solution": false,
     "task": false
    }
   },
   "source": [
    "A village downstream wants to build a dam to mitigate the effects of annual flooding. To design this dam, we’re interested in studying the distribution of the maximum flow of Bow River at this station. A retired employee, who was monitoring many hydrometric stations in the area, claims that the annual maximum flow is typically around $210 m^3/s$. However, residents in the area claim  that the annual maximum flow is typically higher than $210 m^3/s$."
   ]
  },
  {
   "cell_type": "markdown",
   "metadata": {
    "nbgrader": {
     "grade": false,
     "grade_id": "cell-eb547880fb23e1e7",
     "locked": true,
     "schema_version": 3,
     "solution": false,
     "task": false
    }
   },
   "source": [
    "<b>Question 1.1: Selecting Parameter</b><br>\n",
    "{points: 2}\n",
    "\n",
    "Which of the parameters below would be most suitable to investigate and ultimately test the residents’ claim? (Select all that apply)\n",
    "\n",
    "A. The mean of the annual maximum flow distribution at Bow River\n",
    "\n",
    "B. The median of the annual maximum flow distribution at Bow River\n",
    "\n",
    "C. The variance of the annual maximum flow distribution at Bow River\n",
    "\n",
    "D. The proportion of annual maximum flow values at Bow River exceeding the residents’ claim\n",
    "\n",
    "_Assign your answer to an object called `answer1.1`. Your answer should be a sequence of characters surrounded by quotes (e.g., \"ABCD\")._"
   ]
  },
  {
   "cell_type": "code",
   "execution_count": 4,
   "metadata": {
    "nbgrader": {
     "grade": false,
     "grade_id": "cell-59d0d769a179b776",
     "locked": false,
     "schema_version": 3,
     "solution": true,
     "task": false
    }
   },
   "outputs": [
    {
     "data": {
      "text/html": [
       "'AB'"
      ],
      "text/latex": [
       "'AB'"
      ],
      "text/markdown": [
       "'AB'"
      ],
      "text/plain": [
       "[1] \"AB\""
      ]
     },
     "metadata": {},
     "output_type": "display_data"
    }
   ],
   "source": [
    "#answer1.1 <- \"\"\n",
    "\n",
    "### BEGIN SOLUTION\n",
    "answer1.1 <- \"AB\"\n",
    "### END SOLUTION\n",
    "\n",
    "answer1.1"
   ]
  },
  {
   "cell_type": "code",
   "execution_count": 5,
   "metadata": {
    "nbgrader": {
     "grade": true,
     "grade_id": "cell-5b21334104d55645",
     "locked": true,
     "points": 2,
     "schema_version": 3,
     "solution": false,
     "task": false
    }
   },
   "outputs": [
    {
     "name": "stdout",
     "output_type": "stream",
     "text": [
      "[1] \"Success!\"\n"
     ]
    }
   ],
   "source": [
    "# Here we check to see if you have given your answer the correct object name\n",
    "# and if your answer is plausible. However, all other tests have been hidden\n",
    "# so you can practice deciding when you have the correct answer.\n",
    "\n",
    "test_that('Did not assign answer to an object called \"answer1.1\"', {\n",
    "    expect_true(exists(\"answer1.1\"))\n",
    "  })\n",
    "\n",
    "### BEGIN HIDDEN TESTS\n",
    "  answer_hash <- digest(tolower(paste(sort(unlist(strsplit(answer1.1, \"\"))), collapse = \"\")))\n",
    "\n",
    "  test_that(\"Solution is incorrect\", {\n",
    "    expect_equal(answer_hash, \"8b63e49106226d2a45958a7e24c97c37\")\n",
    "  })\n",
    "\n",
    "  print(\"Success!\")\n",
    "### END HIDDEN TESTS\n"
   ]
  },
  {
   "cell_type": "markdown",
   "metadata": {
    "nbgrader": {
     "grade": false,
     "grade_id": "cell-f8c1adc7133c799b",
     "locked": true,
     "schema_version": 3,
     "solution": false,
     "task": false
    }
   },
   "source": [
    "&emsp; For now, let us focus on the mean of the annual maximum flow. We want to test hypotheses about the mean <b>at the 5% significance level</b>. Here we assume that the annual maximum flow data originate from a distribution that does not change over the years (due to climate change, tectonic activities, etc)."
   ]
  },
  {
   "cell_type": "markdown",
   "metadata": {
    "nbgrader": {
     "grade": false,
     "grade_id": "cell-d04e69597c43ec20",
     "locked": true,
     "schema_version": 3,
     "solution": false,
     "task": false
    }
   },
   "source": [
    "<b>Question 1.2: Null Hypothesis</b><br>\n",
    "{points: 2}\n",
    "\n",
    "Which of the following would be an appropriate null hypothesis for us to set, given the residents’ and retired employee’s claims?\n",
    "\n",
    "A. $H_0$: The mean of the annual maximum flow at Bow River is equal to $210 m^3/s$.\n",
    "\n",
    "B. $H_0$: The mean of the annual maximum flow at Bow River is greater than $210 m^3/s$.\n",
    "\n",
    "C. $H_0$: The mean of the annual maximum flow at Bow River is greater than or equal to $210 m^3/s$.\n",
    "\n",
    "D. $H_0$: The mean of the annual maximum flow at Bow River is NOT equal to $210 m^3/s$.\n",
    "\n",
    "Your answer should be a string containing one letter.\n",
    "\n",
    "_Assign your answer to an object called `answer1.2`. Your answer should be a single character surrounded by quotes._"
   ]
  },
  {
   "cell_type": "code",
   "execution_count": 6,
   "metadata": {
    "nbgrader": {
     "grade": false,
     "grade_id": "cell-bbdcf0abb3076bb4",
     "locked": false,
     "schema_version": 3,
     "solution": true,
     "task": false
    }
   },
   "outputs": [
    {
     "data": {
      "text/html": [
       "'A'"
      ],
      "text/latex": [
       "'A'"
      ],
      "text/markdown": [
       "'A'"
      ],
      "text/plain": [
       "[1] \"A\""
      ]
     },
     "metadata": {},
     "output_type": "display_data"
    }
   ],
   "source": [
    "#answer1.2 <-\"\"\n",
    "\n",
    "### BEGIN SOLUTION\n",
    "answer1.2 <- \"A\"\n",
    "### END SOLUTION\n",
    "\n",
    "answer1.2"
   ]
  },
  {
   "cell_type": "code",
   "execution_count": 7,
   "metadata": {
    "nbgrader": {
     "grade": true,
     "grade_id": "cell-09943b30d60804fe",
     "locked": true,
     "points": 2,
     "schema_version": 3,
     "solution": false,
     "task": false
    }
   },
   "outputs": [
    {
     "name": "stdout",
     "output_type": "stream",
     "text": [
      "[1] \"Success!\"\n"
     ]
    }
   ],
   "source": [
    "# Here we check to see if you have given your answer the correct object name\n",
    "# and if your answer is plausible. However, all other tests have been hidden\n",
    "# so you can practice deciding when you have the correct answer.\n",
    "\n",
    "test_that('Did not assign answer to an object called \"answer1.2\"', {\n",
    "expect_true(exists(\"answer1.2\"))\n",
    "})\n",
    "\n",
    "### BEGIN HIDDEN TESTS\n",
    "answer_hash <- digest(tolower(paste(sort(unlist(strsplit(answer1.2, \"\"))), collapse = \"\")))\n",
    "\n",
    "test_that(\"Solution is incorrect\", {\n",
    "expect_equal(answer_hash, \"127a2ec00989b9f7faf671ed470be7f8\")\n",
    "})\n",
    "\n",
    "print(\"Success!\")\n",
    "### END HIDDEN TESTS\n"
   ]
  },
  {
   "cell_type": "markdown",
   "metadata": {
    "nbgrader": {
     "grade": false,
     "grade_id": "cell-0adb8800e06c8afc",
     "locked": true,
     "schema_version": 3,
     "solution": false,
     "task": false
    }
   },
   "source": [
    "<b>Question 1.3: Alternative Hypothesis </b><br>\n",
    "{points: 2}\n",
    "\n",
    "Which of the following would be an appropriate alternative hypothesis for us to set, given the residents’ and retired employee’s claims?\n",
    "\n",
    "A. $H_1$: The mean of the annual maximum flow at Bow River is less than $210 m^3/s$.\n",
    "\n",
    "B. $H_1$: The mean of the annual maximum flow at Bow River is greater than $210 m^3/s$.\n",
    "\n",
    "C. $H_1$: The mean of the annual maximum flow at Bow River is greater than or equal to $210 m^3/s$.\n",
    "\n",
    "D. $H_1$: The mean of the annual maximum flow at Bow River is <b>NOT</b> equal to $210 m^3/s$.\n",
    "\n",
    "Your answer should be a string containing one letter.\n",
    "\n",
    "_Assign your answer to an object called `answer1.3`. Your answer should be a single character surrounded by quotes._"
   ]
  },
  {
   "cell_type": "code",
   "execution_count": 8,
   "metadata": {
    "nbgrader": {
     "grade": false,
     "grade_id": "cell-276a5cceb1bb36f8",
     "locked": false,
     "schema_version": 3,
     "solution": true,
     "task": false
    }
   },
   "outputs": [
    {
     "data": {
      "text/html": [
       "'B'"
      ],
      "text/latex": [
       "'B'"
      ],
      "text/markdown": [
       "'B'"
      ],
      "text/plain": [
       "[1] \"B\""
      ]
     },
     "metadata": {},
     "output_type": "display_data"
    }
   ],
   "source": [
    "#answer1.3 <-\"\"\n",
    "\n",
    "### BEGIN SOLUTION\n",
    "answer1.3 <- \"B\"\n",
    "### END SOLUTION\n",
    "answer1.3"
   ]
  },
  {
   "cell_type": "code",
   "execution_count": 9,
   "metadata": {
    "nbgrader": {
     "grade": true,
     "grade_id": "cell-54163d50760ddff3",
     "locked": true,
     "points": 2,
     "schema_version": 3,
     "solution": false,
     "task": false
    }
   },
   "outputs": [
    {
     "name": "stdout",
     "output_type": "stream",
     "text": [
      "[1] \"Success!\"\n"
     ]
    }
   ],
   "source": [
    "# Here we check to see if you have given your answer the correct object name\n",
    "# and if your answer is plausible. However, all other tests have been hidden\n",
    "# so you can practice deciding when you have the correct answer.\n",
    "\n",
    "\n",
    "test_that('Did not assign answer to an object called \"answer1.3\"', {\n",
    "    expect_true(exists(\"answer1.3\"))\n",
    "})\n",
    "\n",
    "### BEGIN HIDDEN TESTS\n",
    "answer_hash <- digest(tolower(paste(sort(unlist(strsplit(answer1.3, \"\"))), collapse = \"\")))\n",
    "\n",
    "test_that(\"Solution is incorrect\", {\n",
    "    expect_equal(answer_hash, \"ddf100612805359cd81fdc5ce3b9fbba\")\n",
    "})\n",
    "\n",
    "print(\"Success!\")\n",
    "### END HIDDEN TESTS"
   ]
  },
  {
   "cell_type": "markdown",
   "metadata": {
    "nbgrader": {
     "grade": false,
     "grade_id": "cell-e29939b4e2828732",
     "locked": true,
     "schema_version": 3,
     "solution": false,
     "task": false
    }
   },
   "source": [
    "&emsp; Now we select the maximum flow, keep only the year and the flow columns. We also find the sample size."
   ]
  },
  {
   "cell_type": "code",
   "execution_count": 10,
   "metadata": {
    "nbgrader": {
     "grade": false,
     "grade_id": "cell-97d809446f479cf4",
     "locked": true,
     "schema_version": 3,
     "solution": false,
     "task": false
    }
   },
   "outputs": [
    {
     "data": {
      "text/html": [
       "<table>\n",
       "<caption>A tibble: 6 × 2</caption>\n",
       "<thead>\n",
       "\t<tr><th scope=col>year</th><th scope=col>maximum_flow</th></tr>\n",
       "\t<tr><th scope=col>&lt;dbl&gt;</th><th scope=col>&lt;dbl&gt;</th></tr>\n",
       "</thead>\n",
       "<tbody>\n",
       "\t<tr><td>1909</td><td>314</td></tr>\n",
       "\t<tr><td>1910</td><td>230</td></tr>\n",
       "\t<tr><td>1911</td><td>264</td></tr>\n",
       "\t<tr><td>1912</td><td>174</td></tr>\n",
       "\t<tr><td>1913</td><td>232</td></tr>\n",
       "\t<tr><td>1914</td><td>214</td></tr>\n",
       "</tbody>\n",
       "</table>\n"
      ],
      "text/latex": [
       "A tibble: 6 × 2\n",
       "\\begin{tabular}{ll}\n",
       " year & maximum\\_flow\\\\\n",
       " <dbl> & <dbl>\\\\\n",
       "\\hline\n",
       "\t 1909 & 314\\\\\n",
       "\t 1910 & 230\\\\\n",
       "\t 1911 & 264\\\\\n",
       "\t 1912 & 174\\\\\n",
       "\t 1913 & 232\\\\\n",
       "\t 1914 & 214\\\\\n",
       "\\end{tabular}\n"
      ],
      "text/markdown": [
       "\n",
       "A tibble: 6 × 2\n",
       "\n",
       "| year &lt;dbl&gt; | maximum_flow &lt;dbl&gt; |\n",
       "|---|---|\n",
       "| 1909 | 314 |\n",
       "| 1910 | 230 |\n",
       "| 1911 | 264 |\n",
       "| 1912 | 174 |\n",
       "| 1913 | 232 |\n",
       "| 1914 | 214 |\n",
       "\n"
      ],
      "text/plain": [
       "  year maximum_flow\n",
       "1 1909 314         \n",
       "2 1910 230         \n",
       "3 1911 264         \n",
       "4 1912 174         \n",
       "5 1913 232         \n",
       "6 1914 214         "
      ]
     },
     "metadata": {},
     "output_type": "display_data"
    }
   ],
   "source": [
    "# Run this code before continuing\n",
    "max_flow_sample <- \n",
    "    flow_sample %>%\n",
    "    filter(extreme_type == 'maximum') %>%\n",
    "    select(year, flow) %>% \n",
    "    rename(maximum_flow = flow)\n",
    "\n",
    "head(max_flow_sample)\n"
   ]
  },
  {
   "cell_type": "markdown",
   "metadata": {
    "nbgrader": {
     "grade": false,
     "grade_id": "cell-67097464296d3c5f",
     "locked": true,
     "schema_version": 3,
     "solution": false,
     "task": false
    }
   },
   "source": [
    "<b> Question 1.4</b> <br>\n",
    "{points: 3}\n",
    "\n",
    "Calculate the observed test statistic from `max_flow_sample` with the `infer` package, specify the response, and use the `calculate` function. Leave your answer as a 1x1 tibble with a column named `stat`.\n",
    "\n",
    "_Assign your data frame to an object called `observed_mean`. Your data frame should have only one column, `stat`, and one row._"
   ]
  },
  {
   "cell_type": "code",
   "execution_count": 11,
   "metadata": {
    "nbgrader": {
     "grade": false,
     "grade_id": "cell-d9f83fc59d078643",
     "locked": false,
     "schema_version": 3,
     "solution": true,
     "task": false
    }
   },
   "outputs": [
    {
     "data": {
      "text/html": [
       "<table>\n",
       "<caption>A tibble: 1 × 1</caption>\n",
       "<thead>\n",
       "\t<tr><th scope=col>stat</th></tr>\n",
       "\t<tr><th scope=col>&lt;dbl&gt;</th></tr>\n",
       "</thead>\n",
       "<tbody>\n",
       "\t<tr><td>212.0734</td></tr>\n",
       "</tbody>\n",
       "</table>\n"
      ],
      "text/latex": [
       "A tibble: 1 × 1\n",
       "\\begin{tabular}{l}\n",
       " stat\\\\\n",
       " <dbl>\\\\\n",
       "\\hline\n",
       "\t 212.0734\\\\\n",
       "\\end{tabular}\n"
      ],
      "text/markdown": [
       "\n",
       "A tibble: 1 × 1\n",
       "\n",
       "| stat &lt;dbl&gt; |\n",
       "|---|\n",
       "| 212.0734 |\n",
       "\n"
      ],
      "text/plain": [
       "  stat    \n",
       "1 212.0734"
      ]
     },
     "metadata": {},
     "output_type": "display_data"
    }
   ],
   "source": [
    "#observed_mean <-\n",
    "\n",
    "### BEGIN SOLUTION\n",
    "observed_mean <- \n",
    "    max_flow_sample %>% \n",
    "    specify(response = maximum_flow)  %>%\n",
    "    calculate(stat = \"mean\")\n",
    "### END SOLUTION\n",
    "\n",
    "observed_mean "
   ]
  },
  {
   "cell_type": "code",
   "execution_count": 12,
   "metadata": {
    "nbgrader": {
     "grade": true,
     "grade_id": "cell-c0e444ce1fc5f664",
     "locked": true,
     "points": 3,
     "schema_version": 3,
     "solution": false,
     "task": false
    }
   },
   "outputs": [
    {
     "name": "stdout",
     "output_type": "stream",
     "text": [
      "[1] \"Success!\"\n"
     ]
    }
   ],
   "source": [
    "# Here we check to see if you have given your answer the correct object name\n",
    "# and if your answer is plausible. However, all other tests have been hidden\n",
    "# so you can practice deciding when you have the correct answer.\n",
    "\n",
    "test_that('Did not assign answer to an object called \"observed_mean\"', {\n",
    "    expect_true(exists(\"observed_mean\"))\n",
    "})\n",
    "\n",
    "test_that(\"Solution should be a data frame\", {\n",
    "    expect_true(\"data.frame\" %in% class(observed_mean))\n",
    "})\n",
    "\n",
    "\n",
    "### BEGIN HIDDEN TESTS\n",
    "\n",
    "  expected_colnames <- c(\"stat\")\n",
    "  given_colnames <- colnames(observed_mean)\n",
    "  test_that(\"Data frame does not have the correct columns\", {\n",
    "    expect_equal(length(setdiff(\n",
    "      union(expected_colnames, given_colnames),\n",
    "      intersect(expected_colnames, given_colnames)\n",
    "    )), 0)\n",
    "  })\n",
    "\n",
    "  test_that(\"Data frame does not contain the correct number of rows\", {\n",
    "    expect_equal(digest(as.integer(nrow(observed_mean))), \"4b5630ee914e848e8d07221556b0a2fb\")\n",
    "  })\n",
    "\n",
    "  test_that(\"Data frame does not contain the correct data\", {\n",
    "    expect_equal(digest(as.integer(sum(observed_mean$stat) * 10e6)), \"65ecbe3364eb4b7f14b220842a60d074\")\n",
    "  })\n",
    "\n",
    "  print(\"Success!\")\n",
    "\n",
    "### END HIDDEN TESTS"
   ]
  },
  {
   "cell_type": "markdown",
   "metadata": {
    "nbgrader": {
     "grade": false,
     "grade_id": "cell-4d47bff6731fa8a8",
     "locked": true,
     "schema_version": 3,
     "solution": false,
     "task": false
    }
   },
   "source": [
    "<b>Question 1.5: Simulating from the null distribution</b> <br>\n",
    "{points: 3}\n",
    "\n",
    "Using the `infer` workflow, generate 1000 samples from the null distribution. Remember the steps:\n",
    "\n",
    "1. `specify` the response;\n",
    "2. `hypothesize`;\n",
    "3. `generate` 1000 samples; \n",
    "4. and `calculate` the mean of each sample. \n",
    "\n",
    "_Assign your data frame to an object called `null_max_flow`. Your data frame should have two columns: `replicate` and  `stat`._"
   ]
  },
  {
   "cell_type": "code",
   "execution_count": 13,
   "metadata": {
    "nbgrader": {
     "grade": false,
     "grade_id": "cell-3c6d6c2eb789d852",
     "locked": false,
     "schema_version": 3,
     "solution": true,
     "task": false
    }
   },
   "outputs": [
    {
     "data": {
      "text/html": [
       "<table>\n",
       "<caption>A tibble: 6 × 2</caption>\n",
       "<thead>\n",
       "\t<tr><th scope=col>replicate</th><th scope=col>stat</th></tr>\n",
       "\t<tr><th scope=col>&lt;int&gt;</th><th scope=col>&lt;dbl&gt;</th></tr>\n",
       "</thead>\n",
       "<tbody>\n",
       "\t<tr><td>1</td><td>217.2110</td></tr>\n",
       "\t<tr><td>2</td><td>206.6881</td></tr>\n",
       "\t<tr><td>3</td><td>211.5505</td></tr>\n",
       "\t<tr><td>4</td><td>218.8899</td></tr>\n",
       "\t<tr><td>5</td><td>210.8899</td></tr>\n",
       "\t<tr><td>6</td><td>212.7890</td></tr>\n",
       "</tbody>\n",
       "</table>\n"
      ],
      "text/latex": [
       "A tibble: 6 × 2\n",
       "\\begin{tabular}{ll}\n",
       " replicate & stat\\\\\n",
       " <int> & <dbl>\\\\\n",
       "\\hline\n",
       "\t 1 & 217.2110\\\\\n",
       "\t 2 & 206.6881\\\\\n",
       "\t 3 & 211.5505\\\\\n",
       "\t 4 & 218.8899\\\\\n",
       "\t 5 & 210.8899\\\\\n",
       "\t 6 & 212.7890\\\\\n",
       "\\end{tabular}\n"
      ],
      "text/markdown": [
       "\n",
       "A tibble: 6 × 2\n",
       "\n",
       "| replicate &lt;int&gt; | stat &lt;dbl&gt; |\n",
       "|---|---|\n",
       "| 1 | 217.2110 |\n",
       "| 2 | 206.6881 |\n",
       "| 3 | 211.5505 |\n",
       "| 4 | 218.8899 |\n",
       "| 5 | 210.8899 |\n",
       "| 6 | 212.7890 |\n",
       "\n"
      ],
      "text/plain": [
       "  replicate stat    \n",
       "1 1         217.2110\n",
       "2 2         206.6881\n",
       "3 3         211.5505\n",
       "4 4         218.8899\n",
       "5 5         210.8899\n",
       "6 6         212.7890"
      ]
     },
     "metadata": {},
     "output_type": "display_data"
    }
   ],
   "source": [
    "set.seed(1432) # Do not change this\n",
    "\n",
    "#null_max_flow <-\n",
    "\n",
    "### BEGIN SOLUTION\n",
    "null_max_flow <-\n",
    "    max_flow_sample %>%\n",
    "    specify(response = maximum_flow)  %>%\n",
    "    hypothesize(null = \"point\", mu=210) %>%\n",
    "    generate(reps = 1000, type = \"bootstrap\") %>%\n",
    "    calculate(stat = \"mean\")\n",
    "### END SOLUTION\n",
    "\n",
    "head(null_max_flow)"
   ]
  },
  {
   "cell_type": "code",
   "execution_count": 14,
   "metadata": {
    "nbgrader": {
     "grade": true,
     "grade_id": "cell-81b290784b27c6d1",
     "locked": true,
     "points": 3,
     "schema_version": 3,
     "solution": false,
     "task": false
    }
   },
   "outputs": [
    {
     "name": "stdout",
     "output_type": "stream",
     "text": [
      "[1] \"Success!\"\n"
     ]
    }
   ],
   "source": [
    "# Here we check to see if you have given your answer the correct object name\n",
    "# and if your answer is plausible. However, all other tests have been hidden\n",
    "# so you can practice deciding when you have the correct answer.\n",
    "\n",
    "\n",
    "test_that('Did not assign answer to an object called \"null_max_flow\"', {\n",
    "    expect_true(exists(\"null_max_flow\"))\n",
    "  })\n",
    "\n",
    "  test_that(\"Solution should be a data frame\", {\n",
    "    expect_true(\"data.frame\" %in% class(null_max_flow))\n",
    "  })\n",
    "\n",
    "### BEGIN HIDDEN TESTS\n",
    "\n",
    "expected_colnames <- c(\"stat\")\n",
    "  given_colnames <- colnames(observed_mean)\n",
    "  test_that(\"Data frame does not have the correct columns\", {\n",
    "    expect_equal(length(setdiff(\n",
    "      union(expected_colnames, given_colnames),\n",
    "      intersect(expected_colnames, given_colnames)\n",
    "    )), 0)\n",
    "  })\n",
    "\n",
    "  test_that(\"Data frame does not contain the correct number of rows\", {\n",
    "    expect_equal(digest(as.integer(nrow(observed_mean))), \"4b5630ee914e848e8d07221556b0a2fb\")\n",
    "  })\n",
    "\n",
    "  test_that(\"Data frame does not contain the correct data\", {\n",
    "    expect_equal(digest(as.integer(sum(observed_mean$stat) * 10e6)), \"65ecbe3364eb4b7f14b220842a60d074\")\n",
    "  })\n",
    "\n",
    "  print(\"Success!\")\n",
    "\n",
    "### END HIDDEN TESTS\n"
   ]
  },
  {
   "cell_type": "markdown",
   "metadata": {
    "nbgrader": {
     "grade": false,
     "grade_id": "cell-145ec8e33ab901cc",
     "locked": true,
     "schema_version": 3,
     "solution": false,
     "task": false
    }
   },
   "source": [
    "<b>Question 1.6</b><br>\n",
    "{points: 3}\n",
    "\n",
    "Plot the result of the hypothesis test using `visualize` with 10 bins, put a vertical bar for the observed test statistic, and shade the tail(s). Label the x-axis as `Mean`.\n",
    "\n",
    "```r\n",
    "max_flow_result_plot <- \n",
    "    null_max_flow %>% \n",
    "    visualize(bins = ...) + \n",
    "    shade_p_value(obs_stat = ..., direction = ...) +\n",
    "    xlab(...)\n",
    "```\n",
    "\n",
    "<i>Assign your answer to an object called </i>`max_flow_result_plot`."
   ]
  },
  {
   "cell_type": "code",
   "execution_count": 15,
   "metadata": {
    "nbgrader": {
     "grade": false,
     "grade_id": "cell-2999b00535bb274a",
     "locked": false,
     "schema_version": 3,
     "solution": true,
     "task": false
    }
   },
   "outputs": [
    {
     "data": {
      "image/png": "[encoded data removed]",
      "text/plain": [
       "plot without title"
      ]
     },
     "metadata": {
      "image/png": {
       "height": 420,
       "width": 420
      }
     },
     "output_type": "display_data"
    }
   ],
   "source": [
    "#max_flow_result_plot <-\n",
    "\n",
    "### BEGIN SOLUTION\n",
    "\n",
    "max_flow_result_plot <- \n",
    "    visualize(null_max_flow, bins = 10) + \n",
    "    shade_p_value(obs_stat = observed_mean, direction = \"right\") +\n",
    "    theme(text = element_text(size = 22)) +\n",
    "    xlab(\"Mean\")\n",
    "\n",
    "### END SOLUTION\n",
    "\n",
    "max_flow_result_plot"
   ]
  },
  {
   "cell_type": "code",
   "execution_count": 16,
   "metadata": {
    "nbgrader": {
     "grade": true,
     "grade_id": "cell-0f59fcb4d9912b65",
     "locked": true,
     "points": 3,
     "schema_version": 3,
     "solution": false,
     "task": false
    }
   },
   "outputs": [
    {
     "name": "stdout",
     "output_type": "stream",
     "text": [
      "[1] \"Success!\"\n"
     ]
    }
   ],
   "source": [
    "test_1.6()"
   ]
  },
  {
   "cell_type": "markdown",
   "metadata": {
    "nbgrader": {
     "grade": false,
     "grade_id": "cell-d24a21794f869182",
     "locked": true,
     "schema_version": 3,
     "solution": false,
     "task": false
    }
   },
   "source": [
    "<b>Question 1.7</b><br>\n",
    "{points: 3}\n",
    "\n",
    "Use the `get_p_value` function from `infer` package to get the p-value from `null_max_flow`. \n",
    "\n",
    "```r\n",
    "answer1.7 <- \n",
    "    ... %>% \n",
    "    get_p_value(obs_stat = ..., direction = ...)\n",
    "```\n",
    "<i>Assign your answer to an object called </i>`answer1.7`."
   ]
  },
  {
   "cell_type": "code",
   "execution_count": 17,
   "metadata": {
    "nbgrader": {
     "grade": false,
     "grade_id": "cell-cdd5fa2b8770bc9f",
     "locked": false,
     "schema_version": 3,
     "solution": true,
     "task": false
    }
   },
   "outputs": [
    {
     "data": {
      "text/html": [
       "<table>\n",
       "<caption>A tibble: 1 × 1</caption>\n",
       "<thead>\n",
       "\t<tr><th scope=col>p_value</th></tr>\n",
       "\t<tr><th scope=col>&lt;dbl&gt;</th></tr>\n",
       "</thead>\n",
       "<tbody>\n",
       "\t<tr><td>0.369</td></tr>\n",
       "</tbody>\n",
       "</table>\n"
      ],
      "text/latex": [
       "A tibble: 1 × 1\n",
       "\\begin{tabular}{l}\n",
       " p\\_value\\\\\n",
       " <dbl>\\\\\n",
       "\\hline\n",
       "\t 0.369\\\\\n",
       "\\end{tabular}\n"
      ],
      "text/markdown": [
       "\n",
       "A tibble: 1 × 1\n",
       "\n",
       "| p_value &lt;dbl&gt; |\n",
       "|---|\n",
       "| 0.369 |\n",
       "\n"
      ],
      "text/plain": [
       "  p_value\n",
       "1 0.369  "
      ]
     },
     "metadata": {},
     "output_type": "display_data"
    }
   ],
   "source": [
    "#answer1.7 <-\n",
    "\n",
    "### BEGIN SOLUTION\n",
    "answer1.7 <- null_max_flow %>% \n",
    "          get_p_value(obs_stat = observed_mean, direction = \"right\")\n",
    "### END SOLUTION\n",
    "answer1.7"
   ]
  },
  {
   "cell_type": "code",
   "execution_count": 18,
   "metadata": {
    "nbgrader": {
     "grade": true,
     "grade_id": "cell-ec34f3b254715300",
     "locked": true,
     "points": 3,
     "schema_version": 3,
     "solution": false,
     "task": false
    }
   },
   "outputs": [
    {
     "name": "stdout",
     "output_type": "stream",
     "text": [
      "[1] \"Success!\"\n"
     ]
    }
   ],
   "source": [
    "test_1.7()"
   ]
  },
  {
   "cell_type": "markdown",
   "metadata": {
    "nbgrader": {
     "grade": false,
     "grade_id": "cell-726b2577fe97afcd",
     "locked": true,
     "schema_version": 3,
     "solution": false,
     "task": false
    }
   },
   "source": [
    "<b>Question 1.8: Conclusion of the test </b><br>\n",
    "{points: 3}\n",
    "\n",
    "What can we conclude based on the result of the hypothesis test?\n",
    "\n",
    "A. Given a p-value of 0.369 we do not reject the null hypothesis.\n",
    "\n",
    "B. Given a p-value of 0.369 we reject the null hypothesis.\n",
    "\n",
    "C. Given a p-value of 0.369 we do not reject the null hypothesis at the 5% significance level.\n",
    "\n",
    "D. Given a p-value of 0.369 we reject the null hypothesis at the 5% significance level.\n",
    "\n",
    "_Assign your answer to an object called `answer1.8`. Your response should be a single character surrounded by quotes._"
   ]
  },
  {
   "cell_type": "code",
   "execution_count": 19,
   "metadata": {
    "nbgrader": {
     "grade": false,
     "grade_id": "cell-cd83d388742b5c1e",
     "locked": false,
     "schema_version": 3,
     "solution": true,
     "task": false
    }
   },
   "outputs": [
    {
     "data": {
      "text/html": [
       "'C'"
      ],
      "text/latex": [
       "'C'"
      ],
      "text/markdown": [
       "'C'"
      ],
      "text/plain": [
       "[1] \"C\""
      ]
     },
     "metadata": {},
     "output_type": "display_data"
    }
   ],
   "source": [
    "#answer1.8 <-\n",
    "\n",
    "### BEGIN SOLUTION\n",
    "answer1.8 <- \"C\"\n",
    "### END SOLUTION\n",
    "\n",
    "answer1.8"
   ]
  },
  {
   "cell_type": "code",
   "execution_count": 20,
   "metadata": {
    "nbgrader": {
     "grade": true,
     "grade_id": "cell-c01da46960066eff",
     "locked": true,
     "points": 3,
     "schema_version": 3,
     "solution": false,
     "task": false
    }
   },
   "outputs": [
    {
     "name": "stdout",
     "output_type": "stream",
     "text": [
      "[1] \"Success!\"\n"
     ]
    }
   ],
   "source": [
    "# Here we check to see if you have given your answer the correct object name\n",
    "# and if your answer is plausible. However, all other tests have been hidden\n",
    "# so you can practice deciding when you have the correct answer.\n",
    "\n",
    "test_that('Did not assign answer to an object called \"answer1.8\"', {\n",
    "    expect_true(exists(\"answer1.8\"))\n",
    "})\n",
    "\n",
    "test_that('Solution should be a single character (\"A\", \"B\", \"C\", or \"D\")', {\n",
    "    expect_match(answer1.8, \"a|b|c|d\", ignore.case = TRUE)\n",
    "})\n",
    "\n",
    "### BEGIN HIDDEN TESTS\n",
    "\n",
    "answer_hash <- digest(tolower(answer1.8))\n",
    "  test_that(\"Solution is incorrect\", {\n",
    "    expect_equal(answer_hash, \"6e7a8c1c098e8817e3df3fd1b21149d1\")\n",
    "  })\n",
    "\n",
    "  print(\"Success!\")\n",
    "\n",
    "### END HIDDEN TESTS\n"
   ]
  },
  {
   "cell_type": "markdown",
   "metadata": {
    "nbgrader": {
     "grade": false,
     "grade_id": "cell-015747aad9f99ed7",
     "locked": true,
     "schema_version": 3,
     "solution": false,
     "task": false
    }
   },
   "source": [
    "<b>Question 1.9: Conclusion at a different significance level</b>\n",
    "\n",
    "{Points: 3}\n",
    "\n",
    "If we conducted the test at the 10% significance level instead, would our conclusion have been different?\n",
    "\n",
    "A. Yes, it would have, the null hypothesis would be rejected.\n",
    "\n",
    "B. Yes, it would have, the null hypothesis would be accepted.\n",
    "\n",
    "C. Yes, it would have, the null hypothesis would NOT be rejected.\n",
    "\n",
    "D. No, it wouldn’t.\n",
    "\n",
    "Your answer should be a string containing one letter.\n",
    "\n",
    "_Assign your answer to an object called `answer1.9`. Your answer should be a single character surrounded by quotes._"
   ]
  },
  {
   "cell_type": "code",
   "execution_count": 21,
   "metadata": {
    "nbgrader": {
     "grade": false,
     "grade_id": "cell-ff07ff67d5a1ed83",
     "locked": false,
     "schema_version": 3,
     "solution": true,
     "task": false
    }
   },
   "outputs": [
    {
     "data": {
      "text/html": [
       "'D'"
      ],
      "text/latex": [
       "'D'"
      ],
      "text/markdown": [
       "'D'"
      ],
      "text/plain": [
       "[1] \"D\""
      ]
     },
     "metadata": {},
     "output_type": "display_data"
    }
   ],
   "source": [
    "#answer1.9 <-\n",
    "\n",
    "### BEGIN SOLUTION\n",
    "answer1.9 <- \"D\"\n",
    "### END SOLUTION\n",
    "answer1.9"
   ]
  },
  {
   "cell_type": "code",
   "execution_count": 22,
   "metadata": {
    "nbgrader": {
     "grade": true,
     "grade_id": "cell-9f2fd9fe55309574",
     "locked": true,
     "points": 3,
     "schema_version": 3,
     "solution": false,
     "task": false
    }
   },
   "outputs": [
    {
     "name": "stdout",
     "output_type": "stream",
     "text": [
      "[1] \"Success!\"\n"
     ]
    }
   ],
   "source": [
    "test_1.9()"
   ]
  },
  {
   "cell_type": "markdown",
   "metadata": {
    "nbgrader": {
     "grade": false,
     "grade_id": "cell-ffa16ff57f4b5a8d",
     "locked": true,
     "schema_version": 3,
     "solution": false,
     "task": false
    }
   },
   "source": [
    "<b> Question 1.10</b> <br>\n",
    "{points: 3}\n",
    "\n",
    "Now we would like to find the 90% confidence interval for the mean. First, let's find the bootstrap distribution for the mean by generating 1000 samples. Use the `infer` package and `max_flow_sample` to specify the response, generate 1000 samples, and calculate the mean. \n",
    "\n",
    "\n",
    "_Assign your data frame to an object called `mean_max_bootstrap_dist`. Your data frame should have two columns: `replicate` and  `stat`._"
   ]
  },
  {
   "cell_type": "code",
   "execution_count": 23,
   "metadata": {
    "nbgrader": {
     "grade": false,
     "grade_id": "cell-64f8e7f7f47c3a85",
     "locked": false,
     "schema_version": 3,
     "solution": true,
     "task": false
    }
   },
   "outputs": [
    {
     "data": {
      "text/html": [
       "<table>\n",
       "<caption>A tibble: 6 × 2</caption>\n",
       "<thead>\n",
       "\t<tr><th scope=col>replicate</th><th scope=col>stat</th></tr>\n",
       "\t<tr><th scope=col>&lt;int&gt;</th><th scope=col>&lt;dbl&gt;</th></tr>\n",
       "</thead>\n",
       "<tbody>\n",
       "\t<tr><td>1</td><td>203.6972</td></tr>\n",
       "\t<tr><td>2</td><td>205.9633</td></tr>\n",
       "\t<tr><td>3</td><td>205.3853</td></tr>\n",
       "\t<tr><td>4</td><td>226.7706</td></tr>\n",
       "\t<tr><td>5</td><td>203.5413</td></tr>\n",
       "\t<tr><td>6</td><td>216.7615</td></tr>\n",
       "</tbody>\n",
       "</table>\n"
      ],
      "text/latex": [
       "A tibble: 6 × 2\n",
       "\\begin{tabular}{ll}\n",
       " replicate & stat\\\\\n",
       " <int> & <dbl>\\\\\n",
       "\\hline\n",
       "\t 1 & 203.6972\\\\\n",
       "\t 2 & 205.9633\\\\\n",
       "\t 3 & 205.3853\\\\\n",
       "\t 4 & 226.7706\\\\\n",
       "\t 5 & 203.5413\\\\\n",
       "\t 6 & 216.7615\\\\\n",
       "\\end{tabular}\n"
      ],
      "text/markdown": [
       "\n",
       "A tibble: 6 × 2\n",
       "\n",
       "| replicate &lt;int&gt; | stat &lt;dbl&gt; |\n",
       "|---|---|\n",
       "| 1 | 203.6972 |\n",
       "| 2 | 205.9633 |\n",
       "| 3 | 205.3853 |\n",
       "| 4 | 226.7706 |\n",
       "| 5 | 203.5413 |\n",
       "| 6 | 216.7615 |\n",
       "\n"
      ],
      "text/plain": [
       "  replicate stat    \n",
       "1 1         203.6972\n",
       "2 2         205.9633\n",
       "3 3         205.3853\n",
       "4 4         226.7706\n",
       "5 5         203.5413\n",
       "6 6         216.7615"
      ]
     },
     "metadata": {},
     "output_type": "display_data"
    }
   ],
   "source": [
    "set.seed(6882) # Do not change this\n",
    "\n",
    "#mean_max_bootstrap_dist <-\n",
    "\n",
    "### BEGIN SOLUTION\n",
    "mean_max_bootstrap_dist <-\n",
    "    max_flow_sample %>%\n",
    "    specify(response = maximum_flow)  %>%\n",
    "    generate(reps = 1000, type = \"bootstrap\") %>%\n",
    "    calculate(stat = \"mean\")\n",
    "### END SOLUTION\n",
    "\n",
    "head(mean_max_bootstrap_dist)"
   ]
  },
  {
   "cell_type": "code",
   "execution_count": 24,
   "metadata": {
    "nbgrader": {
     "grade": true,
     "grade_id": "cell-5f0b57fbbf90a7d5",
     "locked": true,
     "points": 3,
     "schema_version": 3,
     "solution": false,
     "task": false
    }
   },
   "outputs": [
    {
     "name": "stdout",
     "output_type": "stream",
     "text": [
      "[1] \"Success!\"\n"
     ]
    }
   ],
   "source": [
    "test_1.10()"
   ]
  },
  {
   "cell_type": "markdown",
   "metadata": {
    "nbgrader": {
     "grade": false,
     "grade_id": "cell-d56135d0ece3219e",
     "locked": true,
     "schema_version": 3,
     "solution": false,
     "task": false
    }
   },
   "source": [
    "<b> Question 1.11 </b> <br>\n",
    "{points: 2}\n",
    "\n",
    "Using the boostrap distribution `mean_max_bootstrap_dist`, find the 90% confidence interval given by the 0.1-quantile and 1-quantile (max). \n",
    "\n",
    "```r\n",
    "mean_max_flow_ci <- \n",
    "    ... %>% \n",
    "    summarise(lower_ci = ..., upper_ci = ...)\n",
    "```\n",
    "\n",
    "_Assign your data frame to an object called `mean_max_flow_ci`. Your data frame should have two columns: `lower_ci` and  `upper_ci`._"
   ]
  },
  {
   "cell_type": "code",
   "execution_count": 25,
   "metadata": {
    "nbgrader": {
     "grade": false,
     "grade_id": "cell-a7989458209c905e",
     "locked": false,
     "schema_version": 3,
     "solution": true,
     "task": false
    }
   },
   "outputs": [
    {
     "data": {
      "text/html": [
       "<table>\n",
       "<caption>A tibble: 1 × 2</caption>\n",
       "<thead>\n",
       "\t<tr><th scope=col>lower_ci</th><th scope=col>upper_ci</th></tr>\n",
       "\t<tr><th scope=col>&lt;dbl&gt;</th><th scope=col>&lt;dbl&gt;</th></tr>\n",
       "</thead>\n",
       "<tbody>\n",
       "\t<tr><td>203.8798</td><td>232.1743</td></tr>\n",
       "</tbody>\n",
       "</table>\n"
      ],
      "text/latex": [
       "A tibble: 1 × 2\n",
       "\\begin{tabular}{ll}\n",
       " lower\\_ci & upper\\_ci\\\\\n",
       " <dbl> & <dbl>\\\\\n",
       "\\hline\n",
       "\t 203.8798 & 232.1743\\\\\n",
       "\\end{tabular}\n"
      ],
      "text/markdown": [
       "\n",
       "A tibble: 1 × 2\n",
       "\n",
       "| lower_ci &lt;dbl&gt; | upper_ci &lt;dbl&gt; |\n",
       "|---|---|\n",
       "| 203.8798 | 232.1743 |\n",
       "\n"
      ],
      "text/plain": [
       "  lower_ci upper_ci\n",
       "1 203.8798 232.1743"
      ]
     },
     "metadata": {},
     "output_type": "display_data"
    }
   ],
   "source": [
    "# mean_max_flow_ci <-\n",
    "\n",
    "### BEGIN SOLUTION\n",
    "mean_max_flow_ci <- \n",
    "    mean_max_bootstrap_dist %>% \n",
    "    summarise(lower_ci = quantile(stat, 0.1), upper_ci = quantile(stat, 1))\n",
    "### END SOLUTION\n",
    "\n",
    "mean_max_flow_ci"
   ]
  },
  {
   "cell_type": "code",
   "execution_count": 26,
   "metadata": {
    "nbgrader": {
     "grade": true,
     "grade_id": "cell-c238fc99168e92b5",
     "locked": true,
     "points": 2,
     "schema_version": 3,
     "solution": false,
     "task": false
    }
   },
   "outputs": [
    {
     "name": "stdout",
     "output_type": "stream",
     "text": [
      "[1] \"Success!\"\n"
     ]
    }
   ],
   "source": [
    "test_1.11()"
   ]
  },
  {
   "cell_type": "markdown",
   "metadata": {
    "nbgrader": {
     "grade": false,
     "grade_id": "cell-d5cf433a7e810709",
     "locked": true,
     "schema_version": 3,
     "solution": false,
     "task": false
    }
   },
   "source": [
    "<b> Question 1.12 </b> <br>\n",
    "{points: 2}\n",
    "\n",
    "Using the `infer` package, visualize the confidence interval `mean_max_flow_ci` with the bootstrap distribution `mean_max_bootstrap_dist`.\n",
    "\n",
    "<i>Assign your plot to an object called </i>`mean_flow_ci_plot`."
   ]
  },
  {
   "cell_type": "code",
   "execution_count": 27,
   "metadata": {
    "nbgrader": {
     "grade": false,
     "grade_id": "cell-5d7f7b1bc05b579e",
     "locked": false,
     "schema_version": 3,
     "solution": true,
     "task": false
    },
    "scrolled": false
   },
   "outputs": [
    {
     "data": {
      "image/png": "[encoded data removed]",
      "text/plain": [
       "plot without title"
      ]
     },
     "metadata": {
      "image/png": {
       "height": 420,
       "width": 420
      }
     },
     "output_type": "display_data"
    }
   ],
   "source": [
    "# mean_flow_ci_plot <- \n",
    "\n",
    "### BEGIN SOLUTION\n",
    "mean_flow_ci_plot <- \n",
    "    visualize(mean_max_bootstrap_dist) + \n",
    "    shade_confidence_interval(endpoints = mean_max_flow_ci) +\n",
    "    xlab('Mean') + \n",
    "    theme(text = element_text(size = 20))\n",
    "### END SOLUTION\n",
    "\n",
    "mean_flow_ci_plot"
   ]
  },
  {
   "cell_type": "code",
   "execution_count": 28,
   "metadata": {
    "nbgrader": {
     "grade": true,
     "grade_id": "cell-4e8a5c776697d937",
     "locked": true,
     "points": 2,
     "schema_version": 3,
     "solution": false,
     "task": false
    }
   },
   "outputs": [
    {
     "name": "stdout",
     "output_type": "stream",
     "text": [
      "[1] \"Success!\"\n"
     ]
    }
   ],
   "source": [
    "test_1.12()"
   ]
  },
  {
   "cell_type": "markdown",
   "metadata": {
    "nbgrader": {
     "grade": false,
     "grade_id": "cell-43d4cea695e5b6f7",
     "locked": true,
     "schema_version": 3,
     "solution": false,
     "task": false
    }
   },
   "source": [
    "## 2.  Flipper Lengths of Penguins\n",
    "\n",
    "The dataset `penguins` contains size measurements for adult foraging penguins near Palmer Station, Antarctica. First, let's take a look at the first few rows of this dataset."
   ]
  },
  {
   "cell_type": "code",
   "execution_count": 29,
   "metadata": {
    "nbgrader": {
     "grade": false,
     "grade_id": "cell-9434eda90796aebe",
     "locked": true,
     "schema_version": 3,
     "solution": false,
     "task": false
    }
   },
   "outputs": [
    {
     "data": {
      "text/html": [
       "<table>\n",
       "<caption>A data.frame: 6 × 8</caption>\n",
       "<thead>\n",
       "\t<tr><th></th><th scope=col>species</th><th scope=col>island</th><th scope=col>bill_length_mm</th><th scope=col>bill_depth_mm</th><th scope=col>flipper_length_mm</th><th scope=col>body_mass_g</th><th scope=col>sex</th><th scope=col>year</th></tr>\n",
       "\t<tr><th></th><th scope=col>&lt;chr&gt;</th><th scope=col>&lt;chr&gt;</th><th scope=col>&lt;dbl&gt;</th><th scope=col>&lt;dbl&gt;</th><th scope=col>&lt;int&gt;</th><th scope=col>&lt;int&gt;</th><th scope=col>&lt;chr&gt;</th><th scope=col>&lt;int&gt;</th></tr>\n",
       "</thead>\n",
       "<tbody>\n",
       "\t<tr><th scope=row>1</th><td>Adelie</td><td>Torgersen</td><td>39.1</td><td>18.7</td><td>181</td><td>3750</td><td>male  </td><td>2007</td></tr>\n",
       "\t<tr><th scope=row>2</th><td>Adelie</td><td>Torgersen</td><td>39.5</td><td>17.4</td><td>186</td><td>3800</td><td>female</td><td>2007</td></tr>\n",
       "\t<tr><th scope=row>3</th><td>Adelie</td><td>Torgersen</td><td>40.3</td><td>18.0</td><td>195</td><td>3250</td><td>female</td><td>2007</td></tr>\n",
       "\t<tr><th scope=row>4</th><td>Adelie</td><td>Torgersen</td><td>  NA</td><td>  NA</td><td> NA</td><td>  NA</td><td>NA    </td><td>2007</td></tr>\n",
       "\t<tr><th scope=row>5</th><td>Adelie</td><td>Torgersen</td><td>36.7</td><td>19.3</td><td>193</td><td>3450</td><td>female</td><td>2007</td></tr>\n",
       "\t<tr><th scope=row>6</th><td>Adelie</td><td>Torgersen</td><td>39.3</td><td>20.6</td><td>190</td><td>3650</td><td>male  </td><td>2007</td></tr>\n",
       "</tbody>\n",
       "</table>\n"
      ],
      "text/latex": [
       "A data.frame: 6 × 8\n",
       "\\begin{tabular}{r|llllllll}\n",
       "  & species & island & bill\\_length\\_mm & bill\\_depth\\_mm & flipper\\_length\\_mm & body\\_mass\\_g & sex & year\\\\\n",
       "  & <chr> & <chr> & <dbl> & <dbl> & <int> & <int> & <chr> & <int>\\\\\n",
       "\\hline\n",
       "\t1 & Adelie & Torgersen & 39.1 & 18.7 & 181 & 3750 & male   & 2007\\\\\n",
       "\t2 & Adelie & Torgersen & 39.5 & 17.4 & 186 & 3800 & female & 2007\\\\\n",
       "\t3 & Adelie & Torgersen & 40.3 & 18.0 & 195 & 3250 & female & 2007\\\\\n",
       "\t4 & Adelie & Torgersen &   NA &   NA &  NA &   NA & NA     & 2007\\\\\n",
       "\t5 & Adelie & Torgersen & 36.7 & 19.3 & 193 & 3450 & female & 2007\\\\\n",
       "\t6 & Adelie & Torgersen & 39.3 & 20.6 & 190 & 3650 & male   & 2007\\\\\n",
       "\\end{tabular}\n"
      ],
      "text/markdown": [
       "\n",
       "A data.frame: 6 × 8\n",
       "\n",
       "| <!--/--> | species &lt;chr&gt; | island &lt;chr&gt; | bill_length_mm &lt;dbl&gt; | bill_depth_mm &lt;dbl&gt; | flipper_length_mm &lt;int&gt; | body_mass_g &lt;int&gt; | sex &lt;chr&gt; | year &lt;int&gt; |\n",
       "|---|---|---|---|---|---|---|---|---|\n",
       "| 1 | Adelie | Torgersen | 39.1 | 18.7 | 181 | 3750 | male   | 2007 |\n",
       "| 2 | Adelie | Torgersen | 39.5 | 17.4 | 186 | 3800 | female | 2007 |\n",
       "| 3 | Adelie | Torgersen | 40.3 | 18.0 | 195 | 3250 | female | 2007 |\n",
       "| 4 | Adelie | Torgersen |   NA |   NA |  NA |   NA | NA     | 2007 |\n",
       "| 5 | Adelie | Torgersen | 36.7 | 19.3 | 193 | 3450 | female | 2007 |\n",
       "| 6 | Adelie | Torgersen | 39.3 | 20.6 | 190 | 3650 | male   | 2007 |\n",
       "\n"
      ],
      "text/plain": [
       "  species island    bill_length_mm bill_depth_mm flipper_length_mm body_mass_g\n",
       "1 Adelie  Torgersen 39.1           18.7          181               3750       \n",
       "2 Adelie  Torgersen 39.5           17.4          186               3800       \n",
       "3 Adelie  Torgersen 40.3           18.0          195               3250       \n",
       "4 Adelie  Torgersen   NA             NA           NA                 NA       \n",
       "5 Adelie  Torgersen 36.7           19.3          193               3450       \n",
       "6 Adelie  Torgersen 39.3           20.6          190               3650       \n",
       "  sex    year\n",
       "1 male   2007\n",
       "2 female 2007\n",
       "3 female 2007\n",
       "4 NA     2007\n",
       "5 female 2007\n",
       "6 male   2007"
      ]
     },
     "metadata": {},
     "output_type": "display_data"
    }
   ],
   "source": [
    "head(penguins)"
   ]
  },
  {
   "cell_type": "markdown",
   "metadata": {
    "nbgrader": {
     "grade": false,
     "grade_id": "cell-827c6561abf44dc5",
     "locked": true,
     "schema_version": 3,
     "solution": false,
     "task": false
    }
   },
   "source": [
    "&emsp; We want to study how Adelie and Chinstrap penguins are different. First, we study their flipper lengths (in mm)."
   ]
  },
  {
   "cell_type": "markdown",
   "metadata": {
    "nbgrader": {
     "grade": false,
     "grade_id": "cell-245a0ab4a2611869",
     "locked": true,
     "schema_version": 3,
     "solution": false,
     "task": false
    }
   },
   "source": [
    "<b> Question 2.1: Pre-processing</b> <br>\n",
    "{points: 2}\n",
    "\n",
    "Filter the `penguins` dataset to remove all rows with `NA` in `flipper_length_mm`, keep only the `Adelie` and `Chinstrap` species, and select the two columns `species` and `flipper_length_mm`.\n",
    "\n",
    "_Assign your data frame to an object called `adelie_chinstrap_flipper`. Your data frame should have only two columns, `species` and `flipper_length_mm`._ "
   ]
  },
  {
   "cell_type": "code",
   "execution_count": 30,
   "metadata": {
    "nbgrader": {
     "grade": false,
     "grade_id": "cell-4befd1c3dc62017f",
     "locked": false,
     "schema_version": 3,
     "solution": true,
     "task": false
    }
   },
   "outputs": [
    {
     "data": {
      "text/html": [
       "<table>\n",
       "<caption>A data.frame: 6 × 2</caption>\n",
       "<thead>\n",
       "\t<tr><th></th><th scope=col>species</th><th scope=col>flipper_length_mm</th></tr>\n",
       "\t<tr><th></th><th scope=col>&lt;chr&gt;</th><th scope=col>&lt;int&gt;</th></tr>\n",
       "</thead>\n",
       "<tbody>\n",
       "\t<tr><th scope=row>1</th><td>Adelie</td><td>181</td></tr>\n",
       "\t<tr><th scope=row>2</th><td>Adelie</td><td>186</td></tr>\n",
       "\t<tr><th scope=row>3</th><td>Adelie</td><td>195</td></tr>\n",
       "\t<tr><th scope=row>4</th><td>Adelie</td><td>193</td></tr>\n",
       "\t<tr><th scope=row>5</th><td>Adelie</td><td>190</td></tr>\n",
       "\t<tr><th scope=row>6</th><td>Adelie</td><td>181</td></tr>\n",
       "</tbody>\n",
       "</table>\n"
      ],
      "text/latex": [
       "A data.frame: 6 × 2\n",
       "\\begin{tabular}{r|ll}\n",
       "  & species & flipper\\_length\\_mm\\\\\n",
       "  & <chr> & <int>\\\\\n",
       "\\hline\n",
       "\t1 & Adelie & 181\\\\\n",
       "\t2 & Adelie & 186\\\\\n",
       "\t3 & Adelie & 195\\\\\n",
       "\t4 & Adelie & 193\\\\\n",
       "\t5 & Adelie & 190\\\\\n",
       "\t6 & Adelie & 181\\\\\n",
       "\\end{tabular}\n"
      ],
      "text/markdown": [
       "\n",
       "A data.frame: 6 × 2\n",
       "\n",
       "| <!--/--> | species &lt;chr&gt; | flipper_length_mm &lt;int&gt; |\n",
       "|---|---|---|\n",
       "| 1 | Adelie | 181 |\n",
       "| 2 | Adelie | 186 |\n",
       "| 3 | Adelie | 195 |\n",
       "| 4 | Adelie | 193 |\n",
       "| 5 | Adelie | 190 |\n",
       "| 6 | Adelie | 181 |\n",
       "\n"
      ],
      "text/plain": [
       "  species flipper_length_mm\n",
       "1 Adelie  181              \n",
       "2 Adelie  186              \n",
       "3 Adelie  195              \n",
       "4 Adelie  193              \n",
       "5 Adelie  190              \n",
       "6 Adelie  181              "
      ]
     },
     "metadata": {},
     "output_type": "display_data"
    }
   ],
   "source": [
    "#adelie_chinstrap_flipper <-\n",
    "\n",
    "### BEGIN SOLUTION\n",
    "adelie_chinstrap_flipper <- \n",
    "    penguins %>% \n",
    "    filter(!is.na(flipper_length_mm), species %in% c(\"Adelie\", \"Chinstrap\")) %>% \n",
    "    select(species, flipper_length_mm)\n",
    "### END SOLUTION\n",
    "\n",
    "head(adelie_chinstrap_flipper)"
   ]
  },
  {
   "cell_type": "code",
   "execution_count": 31,
   "metadata": {
    "nbgrader": {
     "grade": true,
     "grade_id": "cell-8e8fea9ac0fa10b3",
     "locked": true,
     "points": 2,
     "schema_version": 3,
     "solution": false,
     "task": false
    }
   },
   "outputs": [
    {
     "name": "stdout",
     "output_type": "stream",
     "text": [
      "[1] \"Success!\"\n"
     ]
    }
   ],
   "source": [
    "test_2.1()"
   ]
  },
  {
   "cell_type": "markdown",
   "metadata": {
    "nbgrader": {
     "grade": false,
     "grade_id": "cell-13b20a70bc1ac634",
     "locked": true,
     "schema_version": 3,
     "solution": false,
     "task": false
    }
   },
   "source": [
    "<b>Question 2.2: Null hypothesis</b> <br>\n",
    "{points: 2}\n",
    "\n",
    "&emsp; An ecologist suspects that flipper lengths affect their ability to swim. But are the flipper lengths different between the species? Looking at photos of the two penguin species, some claim that their flippers are generally the same length. However, an ecologist hypothesizes that they may not be the same length. To study the distributions of the flipper lengths of the two species, let's conduct a hypothesis test to examine their <b> difference in medians</b>.\n",
    "\n",
    "Which of the following would be an appropriate null hypothesis for us to set, given the above situation?\n",
    "\n",
    "A. $H_0$: The median flipper length of the Adelie penguins is the same as the median flipper length of the Chinstrap penguins.\n",
    "\n",
    "B. $H_0$: The mean flipper length of the Adelie penguins is the same as the mean flipper length of the Chinstrap penguins.\n",
    "\n",
    "C. $H_0$: The median flipper length of the Adelie penguins is different from the median flipper length of the Chinstrap penguins.\n",
    "\n",
    "D. $H_0$: The median flipper length of the Adelie penguins is greater than the median flipper length of the Chinstrap penguins.\n",
    "\n",
    "Your answer should be a string containing one letter.\n",
    "\n",
    "_Assign your answer to an object called `answer2.2`. Your answer should be a single character surrounded by quotes._"
   ]
  },
  {
   "cell_type": "code",
   "execution_count": 32,
   "metadata": {
    "nbgrader": {
     "grade": false,
     "grade_id": "cell-d2bf2e8a134f2895",
     "locked": false,
     "schema_version": 3,
     "solution": true,
     "task": false
    }
   },
   "outputs": [
    {
     "data": {
      "text/html": [
       "'A'"
      ],
      "text/latex": [
       "'A'"
      ],
      "text/markdown": [
       "'A'"
      ],
      "text/plain": [
       "[1] \"A\""
      ]
     },
     "metadata": {},
     "output_type": "display_data"
    }
   ],
   "source": [
    "#answer2.2 <-\n",
    "\n",
    "### BEGIN SOLUTION\n",
    "answer2.2 <- \"A\"\n",
    "### END SOLUTION\n",
    "\n",
    "answer2.2"
   ]
  },
  {
   "cell_type": "code",
   "execution_count": 33,
   "metadata": {
    "nbgrader": {
     "grade": true,
     "grade_id": "cell-101813e2ab74aecd",
     "locked": true,
     "points": 2,
     "schema_version": 3,
     "solution": false,
     "task": false
    }
   },
   "outputs": [
    {
     "name": "stdout",
     "output_type": "stream",
     "text": [
      "[1] \"Success!\"\n"
     ]
    }
   ],
   "source": [
    "# Here we check to see if you have given your answer the correct object name\n",
    "# and if your answer is plausible. However, all other tests have been hidden\n",
    "# so you can practice deciding when you have the correct answer.\n",
    "\n",
    "test_that('Did not assign answer to an object called \"answer2.2\"', {\n",
    "    expect_true(exists(\"answer2.2\"))\n",
    "})\n",
    "\n",
    "test_that('Solution should be a single character (\"A\", \"B\", \"C\", or \"D\")', {\n",
    "    expect_match(answer2.2, \"a|b|c|d\", ignore.case = TRUE)\n",
    "})\n",
    "\n",
    "### BEGIN HIDDEN TESTS\n",
    "\n",
    "answer_hash <- digest(tolower(answer2.2))\n",
    "\n",
    "test_that(\"Solution is incorrect\", {\n",
    "    expect_equal(answer_hash, \"127a2ec00989b9f7faf671ed470be7f8\")\n",
    "})\n",
    "\n",
    "print(\"Success!\")\n",
    "### END HIDDEN TESTS"
   ]
  },
  {
   "cell_type": "markdown",
   "metadata": {
    "nbgrader": {
     "grade": false,
     "grade_id": "cell-bb806d6682525df9",
     "locked": true,
     "schema_version": 3,
     "solution": false,
     "task": false
    }
   },
   "source": [
    "<b>Question 2.3: Alternative Hypothesis</b><br>\n",
    "{points: 2}\n",
    "\n",
    "Which of the following would be an appropriate alternative hypothesis for us to set, given the above situation?\n",
    "\n",
    "A. $H_1$: The median flipper length of the Adelie penguins is the same as the median flipper length of the Chinstrap penguins.\n",
    "\n",
    "B. $H_1$: The mean flipper length of the Adelie penguins is different from the mean flipper length of the Chinstrap penguins.\n",
    "\n",
    "C. $H_1$: The median flipper length of the Adelie penguins is different from the median flipper length of the Chinstrap penguins.\n",
    "\n",
    "D. $H_1$: The median flipper length of the Adelie penguins is less than the median flipper length of the Chinstrap penguins.\n",
    "\n",
    "Your answer should be a string containing one letter.\n",
    "\n",
    "_Assign your answer to an object called `answer2.3`. Your answer should be a single character surrounded by quotes._"
   ]
  },
  {
   "cell_type": "code",
   "execution_count": 34,
   "metadata": {
    "nbgrader": {
     "grade": false,
     "grade_id": "cell-d05d1675c44c9eb6",
     "locked": false,
     "schema_version": 3,
     "solution": true,
     "task": false
    }
   },
   "outputs": [
    {
     "data": {
      "text/html": [
       "'C'"
      ],
      "text/latex": [
       "'C'"
      ],
      "text/markdown": [
       "'C'"
      ],
      "text/plain": [
       "[1] \"C\""
      ]
     },
     "metadata": {},
     "output_type": "display_data"
    }
   ],
   "source": [
    "#answer2.3 <-\n",
    "\n",
    "### BEGIN SOLUTION\n",
    "answer2.3 <- \"C\"\n",
    "### END SOLUTION\n",
    "\n",
    "answer2.3"
   ]
  },
  {
   "cell_type": "code",
   "execution_count": 35,
   "metadata": {
    "nbgrader": {
     "grade": true,
     "grade_id": "cell-550bdafdc0a5c4c6",
     "locked": true,
     "points": 2,
     "schema_version": 3,
     "solution": false,
     "task": false
    }
   },
   "outputs": [
    {
     "name": "stdout",
     "output_type": "stream",
     "text": [
      "[1] \"Success!\"\n"
     ]
    }
   ],
   "source": [
    "# Here we check to see if you have given your answer the correct object name\n",
    "# and if your answer is plausible. However, all other tests have been hidden\n",
    "# so you can practice deciding when you have the correct answer.\n",
    "\n",
    "test_that('Did not assign answer to an object called \"answer2.3\"', {\n",
    "    expect_true(exists(\"answer2.3\"))\n",
    "})\n",
    "\n",
    "test_that('Solution should be a single character (\"A\", \"B\", \"C\", or \"D\")', {\n",
    "    expect_match(answer2.3, \"a|b|c|d\", ignore.case = TRUE)\n",
    "})\n",
    "\n",
    "### BEGIN HIDDEN TESTS\n",
    "\n",
    "answer_hash <- digest(tolower(answer2.3))\n",
    "\n",
    "test_that(\"Solution is incorrect\", {\n",
    "    expect_equal(answer_hash, \"6e7a8c1c098e8817e3df3fd1b21149d1\")\n",
    "})\n",
    "\n",
    "print(\"Success!\")\n",
    "### END HIDDEN TESTS"
   ]
  },
  {
   "cell_type": "markdown",
   "metadata": {
    "nbgrader": {
     "grade": false,
     "grade_id": "cell-f4da9409ad2b8f49",
     "locked": true,
     "schema_version": 3,
     "solution": false,
     "task": false
    }
   },
   "source": [
    "<b> Question 2.4 </b> <br>\n",
    "{points: 2}\n",
    "\n",
    "Count the numbers of Adelie penguins and Chinstrap penguins examined in `adelie_chinstrap_flipper`.\n",
    "\n",
    "```r\n",
    "penguin_count <-\n",
    "    ... %>% \n",
    "    count(...)\n",
    "```\n",
    "\n",
    "_Assign your data frame to an object called `penguin_count`. Your data frame should have only two columns: `species` and `n`._"
   ]
  },
  {
   "cell_type": "code",
   "execution_count": 36,
   "metadata": {
    "nbgrader": {
     "grade": false,
     "grade_id": "cell-743723213f0f9cb1",
     "locked": false,
     "schema_version": 3,
     "solution": true,
     "task": false
    },
    "scrolled": false
   },
   "outputs": [
    {
     "data": {
      "text/html": [
       "<table>\n",
       "<caption>A data.frame: 2 × 2</caption>\n",
       "<thead>\n",
       "\t<tr><th scope=col>species</th><th scope=col>n</th></tr>\n",
       "\t<tr><th scope=col>&lt;chr&gt;</th><th scope=col>&lt;int&gt;</th></tr>\n",
       "</thead>\n",
       "<tbody>\n",
       "\t<tr><td>Adelie   </td><td>151</td></tr>\n",
       "\t<tr><td>Chinstrap</td><td> 68</td></tr>\n",
       "</tbody>\n",
       "</table>\n"
      ],
      "text/latex": [
       "A data.frame: 2 × 2\n",
       "\\begin{tabular}{ll}\n",
       " species & n\\\\\n",
       " <chr> & <int>\\\\\n",
       "\\hline\n",
       "\t Adelie    & 151\\\\\n",
       "\t Chinstrap &  68\\\\\n",
       "\\end{tabular}\n"
      ],
      "text/markdown": [
       "\n",
       "A data.frame: 2 × 2\n",
       "\n",
       "| species &lt;chr&gt; | n &lt;int&gt; |\n",
       "|---|---|\n",
       "| Adelie    | 151 |\n",
       "| Chinstrap |  68 |\n",
       "\n"
      ],
      "text/plain": [
       "  species   n  \n",
       "1 Adelie    151\n",
       "2 Chinstrap  68"
      ]
     },
     "metadata": {},
     "output_type": "display_data"
    }
   ],
   "source": [
    "# penguin_count <-\n",
    "\n",
    "### BEGIN SOLUTION\n",
    "penguin_count <-\n",
    "    adelie_chinstrap_flipper %>% \n",
    "    count(species)\n",
    "### END SOLUTION\n",
    "\n",
    "penguin_count"
   ]
  },
  {
   "cell_type": "code",
   "execution_count": 37,
   "metadata": {
    "nbgrader": {
     "grade": true,
     "grade_id": "cell-541be377c0b58516",
     "locked": true,
     "points": 2,
     "schema_version": 3,
     "solution": false,
     "task": false
    }
   },
   "outputs": [
    {
     "name": "stdout",
     "output_type": "stream",
     "text": [
      "[1] \"Success!\"\n"
     ]
    }
   ],
   "source": [
    "test_2.4()"
   ]
  },
  {
   "cell_type": "markdown",
   "metadata": {
    "nbgrader": {
     "grade": false,
     "grade_id": "cell-d74ad5c7b9e32c98",
     "locked": true,
     "schema_version": 3,
     "solution": false,
     "task": false
    }
   },
   "source": [
    "<b> Question 2.5</b><br>\n",
    "{points: 3}\n",
    "\n",
    "Calculate the observed test statistic with the `infer` package. Use `adelie_chinstrap_flipper` to specify the response and explanatory variables, and calculate Adelie's median minus Chinstrap's median. \n",
    "\n",
    "_Assign your data frame to an object called `observed_diff_in_medians`. Your data frame should have only one column, `stat`, and one row._"
   ]
  },
  {
   "cell_type": "code",
   "execution_count": 38,
   "metadata": {
    "nbgrader": {
     "grade": false,
     "grade_id": "cell-8944e82a58ce1446",
     "locked": false,
     "schema_version": 3,
     "solution": true,
     "task": false
    }
   },
   "outputs": [
    {
     "data": {
      "text/html": [
       "<table>\n",
       "<caption>A tibble: 1 × 1</caption>\n",
       "<thead>\n",
       "\t<tr><th scope=col>stat</th></tr>\n",
       "\t<tr><th scope=col>&lt;dbl&gt;</th></tr>\n",
       "</thead>\n",
       "<tbody>\n",
       "\t<tr><td>-6</td></tr>\n",
       "</tbody>\n",
       "</table>\n"
      ],
      "text/latex": [
       "A tibble: 1 × 1\n",
       "\\begin{tabular}{l}\n",
       " stat\\\\\n",
       " <dbl>\\\\\n",
       "\\hline\n",
       "\t -6\\\\\n",
       "\\end{tabular}\n"
      ],
      "text/markdown": [
       "\n",
       "A tibble: 1 × 1\n",
       "\n",
       "| stat &lt;dbl&gt; |\n",
       "|---|\n",
       "| -6 |\n",
       "\n"
      ],
      "text/plain": [
       "  stat\n",
       "1 -6  "
      ]
     },
     "metadata": {},
     "output_type": "display_data"
    }
   ],
   "source": [
    "#obs_diff_in_medians <- \n",
    "\n",
    "### BEGIN SOLUTION\n",
    "obs_diff_in_medians <- \n",
    "    adelie_chinstrap_flipper  %>% \n",
    "    specify(formula = flipper_length_mm ~ species) %>%\n",
    "    calculate(stat = \"diff in medians\", order = c(\"Adelie\", \"Chinstrap\"))\n",
    "### END SOLUTION\n",
    "\n",
    "obs_diff_in_medians"
   ]
  },
  {
   "cell_type": "code",
   "execution_count": 39,
   "metadata": {
    "nbgrader": {
     "grade": true,
     "grade_id": "cell-9e72fe57d4e4d98c",
     "locked": true,
     "points": 3,
     "schema_version": 3,
     "solution": false,
     "task": false
    }
   },
   "outputs": [
    {
     "name": "stdout",
     "output_type": "stream",
     "text": [
      "[1] \"Success!\"\n"
     ]
    }
   ],
   "source": [
    "test_2.5()"
   ]
  },
  {
   "cell_type": "markdown",
   "metadata": {
    "nbgrader": {
     "grade": false,
     "grade_id": "cell-b818e868e059e825",
     "locked": true,
     "schema_version": 3,
     "solution": false,
     "task": false
    }
   },
   "source": [
    "<b>Question 2.6: Simulating from the null distribution</b> <br>\n",
    "{points: 3}\n",
    "\n",
    "Using the `infer` package, generate 1000 samples from the null distribution. Use `adelie_chinstrap_flipper` to specify the response and explanatory variables, hypothesize, generate 1000 samples and calculate Adelie's median minus Chinstrap's median.\n",
    "\n",
    "_Assign your data frame to an object called `null_diff_in_medians`. Your data frame should have only two columns: `replicate` and `stat`._"
   ]
  },
  {
   "cell_type": "code",
   "execution_count": 40,
   "metadata": {
    "nbgrader": {
     "grade": false,
     "grade_id": "cell-9a967990242fda67",
     "locked": false,
     "schema_version": 3,
     "solution": true,
     "task": false
    },
    "scrolled": true
   },
   "outputs": [
    {
     "data": {
      "text/html": [
       "<table>\n",
       "<caption>A tibble: 6 × 2</caption>\n",
       "<thead>\n",
       "\t<tr><th scope=col>replicate</th><th scope=col>stat</th></tr>\n",
       "\t<tr><th scope=col>&lt;int&gt;</th><th scope=col>&lt;dbl&gt;</th></tr>\n",
       "</thead>\n",
       "<tbody>\n",
       "\t<tr><td>1</td><td>-3.0</td></tr>\n",
       "\t<tr><td>2</td><td> 2.0</td></tr>\n",
       "\t<tr><td>3</td><td>-1.0</td></tr>\n",
       "\t<tr><td>4</td><td> 2.0</td></tr>\n",
       "\t<tr><td>5</td><td>-0.5</td></tr>\n",
       "\t<tr><td>6</td><td> 3.0</td></tr>\n",
       "</tbody>\n",
       "</table>\n"
      ],
      "text/latex": [
       "A tibble: 6 × 2\n",
       "\\begin{tabular}{ll}\n",
       " replicate & stat\\\\\n",
       " <int> & <dbl>\\\\\n",
       "\\hline\n",
       "\t 1 & -3.0\\\\\n",
       "\t 2 &  2.0\\\\\n",
       "\t 3 & -1.0\\\\\n",
       "\t 4 &  2.0\\\\\n",
       "\t 5 & -0.5\\\\\n",
       "\t 6 &  3.0\\\\\n",
       "\\end{tabular}\n"
      ],
      "text/markdown": [
       "\n",
       "A tibble: 6 × 2\n",
       "\n",
       "| replicate &lt;int&gt; | stat &lt;dbl&gt; |\n",
       "|---|---|\n",
       "| 1 | -3.0 |\n",
       "| 2 |  2.0 |\n",
       "| 3 | -1.0 |\n",
       "| 4 |  2.0 |\n",
       "| 5 | -0.5 |\n",
       "| 6 |  3.0 |\n",
       "\n"
      ],
      "text/plain": [
       "  replicate stat\n",
       "1 1         -3.0\n",
       "2 2          2.0\n",
       "3 3         -1.0\n",
       "4 4          2.0\n",
       "5 5         -0.5\n",
       "6 6          3.0"
      ]
     },
     "metadata": {},
     "output_type": "display_data"
    }
   ],
   "source": [
    "set.seed(5437) # Do not change this\n",
    "\n",
    "#null_diff_in_medians <-\n",
    "\n",
    "### BEGIN SOLUTION\n",
    "null_diff_in_medians <- \n",
    "    adelie_chinstrap_flipper %>% \n",
    "    specify(formula = flipper_length_mm ~ species) %>%\n",
    "    hypothesize(null = \"independence\") %>% \n",
    "    generate(reps = 1000, type = \"permute\")  %>%\n",
    "    calculate(stat = \"diff in medians\", order = c(\"Adelie\", \"Chinstrap\"))\n",
    "### END SOLUTION\n",
    "\n",
    "head(null_diff_in_medians)"
   ]
  },
  {
   "cell_type": "code",
   "execution_count": 41,
   "metadata": {
    "nbgrader": {
     "grade": true,
     "grade_id": "cell-0c90dd8cb33e5c6b",
     "locked": true,
     "points": 3,
     "schema_version": 3,
     "solution": false,
     "task": false
    }
   },
   "outputs": [
    {
     "name": "stdout",
     "output_type": "stream",
     "text": [
      "[1] \"Success!\"\n"
     ]
    }
   ],
   "source": [
    "test_2.6()"
   ]
  },
  {
   "cell_type": "markdown",
   "metadata": {
    "nbgrader": {
     "grade": false,
     "grade_id": "cell-a8e5bf9578f7b714",
     "locked": true,
     "schema_version": 3,
     "solution": false,
     "task": false
    }
   },
   "source": [
    "<b>Question 2.7</b> <br>\n",
    "{points: 3}\n",
    "\n",
    "Plot the result of the hypothesis test with `visualize` with 10 bins, put a vertical bar for the observed test statistic `obs_diff_in_medians`, and shade the tail(s).\n",
    "\n",
    "_Assign your plot to an object called `diff_in_medians_plot`._"
   ]
  },
  {
   "cell_type": "code",
   "execution_count": 42,
   "metadata": {
    "nbgrader": {
     "grade": false,
     "grade_id": "cell-88088363709a3021",
     "locked": false,
     "schema_version": 3,
     "solution": true,
     "task": false
    },
    "scrolled": false
   },
   "outputs": [
    {
     "data": {
      "image/png": "[encoded data removed]",
      "text/plain": [
       "plot without title"
      ]
     },
     "metadata": {
      "image/png": {
       "height": 420,
       "width": 420
      }
     },
     "output_type": "display_data"
    }
   ],
   "source": [
    "#diff_in_medians_plot <-\n",
    "\n",
    "### BEGIN SOLUTION\n",
    "diff_in_medians_plot <-\n",
    "    visualize(null_diff_in_medians, bins = 10) + \n",
    "    shade_p_value(obs_stat = obs_diff_in_medians, direction = \"both\") +\n",
    "    xlab(\"Difference in median\") +\n",
    "    theme(text = element_text(size = 20))\n",
    "### END SOLUTION\n",
    "\n",
    "diff_in_medians_plot"
   ]
  },
  {
   "cell_type": "code",
   "execution_count": 43,
   "metadata": {
    "nbgrader": {
     "grade": true,
     "grade_id": "cell-722525e3c18b6163",
     "locked": true,
     "points": 3,
     "schema_version": 3,
     "solution": false,
     "task": false
    }
   },
   "outputs": [
    {
     "name": "stdout",
     "output_type": "stream",
     "text": [
      "[1] \"Success!\"\n"
     ]
    }
   ],
   "source": [
    "test_2.7()"
   ]
  },
  {
   "cell_type": "markdown",
   "metadata": {
    "nbgrader": {
     "grade": false,
     "grade_id": "cell-4efbcadd10da44f6",
     "locked": true,
     "schema_version": 3,
     "solution": false,
     "task": false
    }
   },
   "source": [
    "<b>Question 2.8</b> <br>\n",
    "{points: 3}\n",
    "\n",
    "Obtain the p-value of `obs_diff_in_medians` from `null_diff_in_medians`. Leave your answer as a $1 \\times 1$ tibble with column name `p_value`.\n",
    "\n",
    "_Assign your data frame to an object called `answer2`. Your data frame should have only one column: `p_value`._"
   ]
  },
  {
   "cell_type": "code",
   "execution_count": 44,
   "metadata": {
    "nbgrader": {
     "grade": false,
     "grade_id": "cell-9cc94e6fc7915e7e",
     "locked": false,
     "schema_version": 3,
     "solution": true,
     "task": false
    }
   },
   "outputs": [
    {
     "name": "stderr",
     "output_type": "stream",
     "text": [
      "Warning message:\n",
      "“Please be cautious in reporting a p-value of 0. This result is an approximation based on the number of `reps` chosen in the `generate()` step. See `?get_p_value()` for more information.”\n"
     ]
    },
    {
     "data": {
      "text/html": [
       "<table>\n",
       "<caption>A tibble: 1 × 1</caption>\n",
       "<thead>\n",
       "\t<tr><th scope=col>p_value</th></tr>\n",
       "\t<tr><th scope=col>&lt;dbl&gt;</th></tr>\n",
       "</thead>\n",
       "<tbody>\n",
       "\t<tr><td>0</td></tr>\n",
       "</tbody>\n",
       "</table>\n"
      ],
      "text/latex": [
       "A tibble: 1 × 1\n",
       "\\begin{tabular}{l}\n",
       " p\\_value\\\\\n",
       " <dbl>\\\\\n",
       "\\hline\n",
       "\t 0\\\\\n",
       "\\end{tabular}\n"
      ],
      "text/markdown": [
       "\n",
       "A tibble: 1 × 1\n",
       "\n",
       "| p_value &lt;dbl&gt; |\n",
       "|---|\n",
       "| 0 |\n",
       "\n"
      ],
      "text/plain": [
       "  p_value\n",
       "1 0      "
      ]
     },
     "metadata": {},
     "output_type": "display_data"
    }
   ],
   "source": [
    "#answer2.8 <-\n",
    "\n",
    "### BEGIN SOLUTION\n",
    "answer2.8 <-\n",
    "    null_diff_in_medians %>% \n",
    "    get_p_value(obs_stat =  obs_diff_in_medians, direction = \"both\")\n",
    "### END SOLUTION\n",
    "\n",
    "answer2.8"
   ]
  },
  {
   "cell_type": "code",
   "execution_count": 45,
   "metadata": {
    "nbgrader": {
     "grade": true,
     "grade_id": "cell-6ae9456876481e63",
     "locked": true,
     "points": 3,
     "schema_version": 3,
     "solution": false,
     "task": false
    }
   },
   "outputs": [
    {
     "name": "stdout",
     "output_type": "stream",
     "text": [
      "[1] \"Success!\"\n"
     ]
    }
   ],
   "source": [
    "test_2.8()"
   ]
  },
  {
   "cell_type": "markdown",
   "metadata": {
    "nbgrader": {
     "grade": false,
     "grade_id": "cell-79472809acf073c4",
     "locked": true,
     "schema_version": 3,
     "solution": false,
     "task": false
    }
   },
   "source": [
    "<b> Question 2.9 </b> <br>\n",
    "{points: 2}\n",
    "\n",
    "We should never report a p-value of 0 because this suggests that making a Type I error is impossible. But this is too bold of a claim to make.\n",
    "\n",
    "What would be the best way to report the p-value? Think about what the next smallest p-value is possible to be calculated, given that we are using 1000 repetitions to calculate the sample.\n",
    "\n",
    "A. The p-value is < 0.05\n",
    "\n",
    "B. The p-value is < 0.01\n",
    "\n",
    "C. The p-value is < 0.001\n",
    "\n",
    "D. The p-value is < 0.0001\n",
    "\n",
    "\n",
    "_Assign you answer to an object called `answer2.9`. Your answer should be a string containing one letter._"
   ]
  },
  {
   "cell_type": "code",
   "execution_count": 46,
   "metadata": {
    "nbgrader": {
     "grade": false,
     "grade_id": "cell-38a0bd20fb422203",
     "locked": false,
     "schema_version": 3,
     "solution": true,
     "task": false
    }
   },
   "outputs": [
    {
     "data": {
      "text/html": [
       "'C'"
      ],
      "text/latex": [
       "'C'"
      ],
      "text/markdown": [
       "'C'"
      ],
      "text/plain": [
       "[1] \"C\""
      ]
     },
     "metadata": {},
     "output_type": "display_data"
    }
   ],
   "source": [
    "#answer2.9 <-\n",
    "\n",
    "### BEGIN SOLUTION\n",
    "answer2.9 <- 'C'\n",
    "### END SOLUTION\n",
    "answer2.9"
   ]
  },
  {
   "cell_type": "code",
   "execution_count": 47,
   "metadata": {
    "nbgrader": {
     "grade": true,
     "grade_id": "cell-dca9a139679d58de",
     "locked": true,
     "points": 2,
     "schema_version": 3,
     "solution": false,
     "task": false
    }
   },
   "outputs": [
    {
     "name": "stdout",
     "output_type": "stream",
     "text": [
      "[1] \"Success!\"\n"
     ]
    }
   ],
   "source": [
    "test_2.9()"
   ]
  },
  {
   "cell_type": "markdown",
   "metadata": {
    "nbgrader": {
     "grade": false,
     "grade_id": "cell-eae8d4303213040d",
     "locked": true,
     "schema_version": 3,
     "solution": false,
     "task": false
    }
   },
   "source": [
    "<b> Question 2.10: Conclusion of the test </b> <br>\n",
    "{points: 3}\n",
    "\n",
    "What can we conclude based on the result of the hypothesis test?\n",
    "\n",
    "A. Given a p-value < 0.001 we reject the null hypothesis.\n",
    "\n",
    "B. Given a p-value < 0.001 we accept the alternative hypothesis at the 5% significance level.\n",
    "\n",
    "C. Given a p-value < 0.001 we do not reject the null hypothesis at the 5% significance level.\n",
    "\n",
    "D. Given a p-value < 0.001 we reject the null hypothesis at the 5% significance level.\n",
    "\n",
    "\n",
    "_Assign your answer to an object called `answer2.10`. Your answer should be a string containing one letter._"
   ]
  },
  {
   "cell_type": "code",
   "execution_count": 48,
   "metadata": {
    "nbgrader": {
     "grade": false,
     "grade_id": "cell-f0c4498d52c61f7b",
     "locked": false,
     "schema_version": 3,
     "solution": true,
     "task": false
    }
   },
   "outputs": [
    {
     "data": {
      "text/html": [
       "'D'"
      ],
      "text/latex": [
       "'D'"
      ],
      "text/markdown": [
       "'D'"
      ],
      "text/plain": [
       "[1] \"D\""
      ]
     },
     "metadata": {},
     "output_type": "display_data"
    }
   ],
   "source": [
    "#answer2.10 <-\n",
    "\n",
    "### BEGIN SOLUTION\n",
    "answer2.10 <- \"D\"\n",
    "### END SOLUTION\n",
    "\n",
    "answer2.10"
   ]
  },
  {
   "cell_type": "code",
   "execution_count": 49,
   "metadata": {
    "nbgrader": {
     "grade": true,
     "grade_id": "cell-48cf027f333efc2a",
     "locked": true,
     "points": 3,
     "schema_version": 3,
     "solution": false,
     "task": false
    }
   },
   "outputs": [
    {
     "name": "stdout",
     "output_type": "stream",
     "text": [
      "[1] \"Success!\"\n"
     ]
    }
   ],
   "source": [
    "# Here we check to see if you have given your answer the correct object name\n",
    "# and if your answer is plausible. However, all other tests have been hidden\n",
    "# so you can practice deciding when you have the correct answer.\n",
    "\n",
    "test_that('Did not assign answer to an object called \"answer2.10\"', {\n",
    "    expect_true(exists(\"answer2.10\"))\n",
    "})\n",
    "\n",
    "test_that('Solution should be a single character (\"A\", \"B\", \"C\", or \"D\")', {\n",
    "    expect_match(answer2.10, \"a|b|c|d\", ignore.case = TRUE)\n",
    "})\n",
    "\n",
    "\n",
    "### BEGIN HIDDEN TESTS\n",
    "\n",
    "answer_hash <- digest(tolower(answer2.10))\n",
    "test_that(\"Solution is incorrect\", {\n",
    "    expect_equal(answer_hash, \"d110f00cfb1b248e835137025804a23b\")\n",
    "})\n",
    "\n",
    "print(\"Success!\")\n",
    "### END HIDDEN TESTS"
   ]
  },
  {
   "cell_type": "markdown",
   "metadata": {
    "nbgrader": {
     "grade": false,
     "grade_id": "cell-b442d7a4c1941e61",
     "locked": true,
     "schema_version": 3,
     "solution": false,
     "task": false
    }
   },
   "source": [
    "<b> Question 2.11</b><br>\n",
    "{points: 3}\n",
    "\n",
    "Now we would like to find the 90% confidence interval for the difference in median. First, let's find the bootstrap distribution for the difference in medians with the `infer` package. Use `diff_in_medians_bootstrap_dist` to specify the response and explanatory variables, generate 1000 samples, and calculate Adelie's median minus Chinstrap's median. \n",
    "\n",
    "_Assign your data frame to an object called `diff_in_medians_bootstrap_dist`. Your data frame should have only two columns: `replicate` and `stat`._"
   ]
  },
  {
   "cell_type": "code",
   "execution_count": 50,
   "metadata": {
    "nbgrader": {
     "grade": false,
     "grade_id": "cell-32def599d1f74cff",
     "locked": false,
     "schema_version": 3,
     "solution": true,
     "task": false
    }
   },
   "outputs": [
    {
     "data": {
      "text/html": [
       "<table>\n",
       "<caption>A tibble: 6 × 2</caption>\n",
       "<thead>\n",
       "\t<tr><th scope=col>replicate</th><th scope=col>stat</th></tr>\n",
       "\t<tr><th scope=col>&lt;int&gt;</th><th scope=col>&lt;dbl&gt;</th></tr>\n",
       "</thead>\n",
       "<tbody>\n",
       "\t<tr><td>1</td><td>-6.0</td></tr>\n",
       "\t<tr><td>2</td><td>-5.5</td></tr>\n",
       "\t<tr><td>3</td><td>-6.0</td></tr>\n",
       "\t<tr><td>4</td><td>-5.0</td></tr>\n",
       "\t<tr><td>5</td><td>-6.0</td></tr>\n",
       "\t<tr><td>6</td><td>-6.0</td></tr>\n",
       "</tbody>\n",
       "</table>\n"
      ],
      "text/latex": [
       "A tibble: 6 × 2\n",
       "\\begin{tabular}{ll}\n",
       " replicate & stat\\\\\n",
       " <int> & <dbl>\\\\\n",
       "\\hline\n",
       "\t 1 & -6.0\\\\\n",
       "\t 2 & -5.5\\\\\n",
       "\t 3 & -6.0\\\\\n",
       "\t 4 & -5.0\\\\\n",
       "\t 5 & -6.0\\\\\n",
       "\t 6 & -6.0\\\\\n",
       "\\end{tabular}\n"
      ],
      "text/markdown": [
       "\n",
       "A tibble: 6 × 2\n",
       "\n",
       "| replicate &lt;int&gt; | stat &lt;dbl&gt; |\n",
       "|---|---|\n",
       "| 1 | -6.0 |\n",
       "| 2 | -5.5 |\n",
       "| 3 | -6.0 |\n",
       "| 4 | -5.0 |\n",
       "| 5 | -6.0 |\n",
       "| 6 | -6.0 |\n",
       "\n"
      ],
      "text/plain": [
       "  replicate stat\n",
       "1 1         -6.0\n",
       "2 2         -5.5\n",
       "3 3         -6.0\n",
       "4 4         -5.0\n",
       "5 5         -6.0\n",
       "6 6         -6.0"
      ]
     },
     "metadata": {},
     "output_type": "display_data"
    }
   ],
   "source": [
    "set.seed(9263) # Do not change this\n",
    "\n",
    "#diff_in_medians_bootstrap_dist <-\n",
    "\n",
    "### BEGIN SOLUTION\n",
    "diff_in_medians_bootstrap_dist <- \n",
    "    adelie_chinstrap_flipper %>%\n",
    "    specify(formula = flipper_length_mm ~ species) %>%\n",
    "    generate(reps = 1000, type = \"bootstrap\") %>%\n",
    "    calculate(stat = \"diff in medians\", order = c(\"Adelie\", \"Chinstrap\"))  \n",
    "### END SOLUTION\n",
    "\n",
    "head(diff_in_medians_bootstrap_dist)"
   ]
  },
  {
   "cell_type": "code",
   "execution_count": 51,
   "metadata": {
    "nbgrader": {
     "grade": true,
     "grade_id": "cell-1f971841b9de346a",
     "locked": true,
     "points": 3,
     "schema_version": 3,
     "solution": false,
     "task": false
    }
   },
   "outputs": [
    {
     "name": "stdout",
     "output_type": "stream",
     "text": [
      "[1] \"Success!\"\n"
     ]
    }
   ],
   "source": [
    "test_2.11()"
   ]
  },
  {
   "cell_type": "markdown",
   "metadata": {
    "nbgrader": {
     "grade": false,
     "grade_id": "cell-3841d11be9807d7c",
     "locked": true,
     "schema_version": 3,
     "solution": false,
     "task": false
    }
   },
   "source": [
    "<b> Question 2.12 </b><br>\n",
    "{points: 2}\n",
    "\n",
    "Use `diff_in_medians_bootstrap_dist` to find the 90% confidence interval.\n",
    "\n",
    "_Assign your data frame to an object called `diff_in_medians_ci`. Your data frame should have two columns: `lower_ci` and  `upper_ci`._"
   ]
  },
  {
   "cell_type": "code",
   "execution_count": 52,
   "metadata": {
    "nbgrader": {
     "grade": false,
     "grade_id": "cell-314b02546d1b8263",
     "locked": false,
     "schema_version": 3,
     "solution": true,
     "task": false
    }
   },
   "outputs": [
    {
     "data": {
      "text/html": [
       "<table>\n",
       "<caption>A tibble: 1 × 2</caption>\n",
       "<thead>\n",
       "\t<tr><th scope=col>lower_ci</th><th scope=col>upper_ci</th></tr>\n",
       "\t<tr><th scope=col>&lt;dbl&gt;</th><th scope=col>&lt;dbl&gt;</th></tr>\n",
       "</thead>\n",
       "<tbody>\n",
       "\t<tr><td>-7</td><td>-4</td></tr>\n",
       "</tbody>\n",
       "</table>\n"
      ],
      "text/latex": [
       "A tibble: 1 × 2\n",
       "\\begin{tabular}{ll}\n",
       " lower\\_ci & upper\\_ci\\\\\n",
       " <dbl> & <dbl>\\\\\n",
       "\\hline\n",
       "\t -7 & -4\\\\\n",
       "\\end{tabular}\n"
      ],
      "text/markdown": [
       "\n",
       "A tibble: 1 × 2\n",
       "\n",
       "| lower_ci &lt;dbl&gt; | upper_ci &lt;dbl&gt; |\n",
       "|---|---|\n",
       "| -7 | -4 |\n",
       "\n"
      ],
      "text/plain": [
       "  lower_ci upper_ci\n",
       "1 -7       -4      "
      ]
     },
     "metadata": {},
     "output_type": "display_data"
    }
   ],
   "source": [
    "#diff_in_medians_ci <-\n",
    "\n",
    "### BEGIN SOLUTION\n",
    "diff_in_medians_ci <- \n",
    "    diff_in_medians_bootstrap_dist %>% \n",
    "    get_confidence_interval(level = 0.90, type = \"percentile\")\n",
    "### END SOLUTION\n",
    "\n",
    "diff_in_medians_ci"
   ]
  },
  {
   "cell_type": "code",
   "execution_count": 53,
   "metadata": {
    "nbgrader": {
     "grade": true,
     "grade_id": "cell-02c49394935e92c8",
     "locked": true,
     "points": 2,
     "schema_version": 3,
     "solution": false,
     "task": false
    }
   },
   "outputs": [
    {
     "name": "stdout",
     "output_type": "stream",
     "text": [
      "[1] \"Success!\"\n"
     ]
    }
   ],
   "source": [
    "# Here we check to see if you have given your answer the correct object name\n",
    "# and if your answer is plausible. However, all other tests have been hidden\n",
    "# so you can practice deciding when you have the correct answer.\n",
    "\n",
    "test_that('Did not assign answer to an object called \"diff_in_medians_ci\"', {\n",
    "expect_true(exists(\"diff_in_medians_ci\"))\n",
    "})\n",
    "\n",
    "test_that(\"Solution should be a data frame\", {\n",
    "expect_true(\"data.frame\" %in% class(diff_in_medians_ci))\n",
    "})\n",
    "\n",
    "expected_colnames <- c(\"lower_ci\", \"upper_ci\")\n",
    "given_colnames <- colnames(diff_in_medians_ci)\n",
    "test_that(\"Data frame does not have the correct columns\", {\n",
    "    expect_equal(length(setdiff(\n",
    "      union(expected_colnames, given_colnames),\n",
    "      intersect(expected_colnames, given_colnames)\n",
    "    )), 0)\n",
    "})\n",
    "\n",
    "### BEGIN HIDDEN TESTS\n",
    "\n",
    "test_that(\"Data frame does not contain the correct data\", {\n",
    "    expect_equal(digest(as.integer(sum(diff_in_medians_ci$lower_ci) * 10)), \"f872f13e25467a39ead2b4a05e00adf0\")\n",
    "    expect_equal(digest(as.integer(sum(diff_in_medians_ci$upper_ci) * 10)), \"4576b114cdcf02f33aab0622728c91aa\")\n",
    "})\n",
    "\n",
    "print(\"Success!\")\n",
    "### END HIDDEN TESTS"
   ]
  },
  {
   "cell_type": "markdown",
   "metadata": {
    "nbgrader": {
     "grade": false,
     "grade_id": "cell-aa117608bf62ed0b",
     "locked": true,
     "schema_version": 3,
     "solution": false,
     "task": false
    }
   },
   "source": [
    "<b> Question 2.13 </b><br>\n",
    "{points: 2}\n",
    "\n",
    "Visualize the confidence interval `diff_in_medians_ci` with the bootstrap distribution `diff_in_medians_bootstrap_dist`.\n",
    "\n",
    "<i>Assign your plot to an object called </i>`diff_in_medians_ci_plot`."
   ]
  },
  {
   "cell_type": "code",
   "execution_count": 54,
   "metadata": {
    "nbgrader": {
     "grade": false,
     "grade_id": "cell-33ccfe26348df47a",
     "locked": false,
     "schema_version": 3,
     "solution": true,
     "task": false
    }
   },
   "outputs": [
    {
     "data": {
      "image/png": "[encoded data removed]",
      "text/plain": [
       "plot without title"
      ]
     },
     "metadata": {
      "image/png": {
       "height": 420,
       "width": 420
      }
     },
     "output_type": "display_data"
    }
   ],
   "source": [
    "# diff_in_medians_ci_plot <-\n",
    "\n",
    "### BEGIN SOLUTION\n",
    "diff_in_medians_ci_plot <-\n",
    "    visualize(diff_in_medians_bootstrap_dist) + \n",
    "    shade_confidence_interval(endpoints = diff_in_medians_ci) + \n",
    "    theme(text = element_text(size = 20)) + \n",
    "    xlab(\"Difference in Medians\")\n",
    "### END SOLUTION\n",
    "\n",
    "diff_in_medians_ci_plot"
   ]
  },
  {
   "cell_type": "code",
   "execution_count": 55,
   "metadata": {
    "nbgrader": {
     "grade": true,
     "grade_id": "cell-a56d2bec8b964479",
     "locked": true,
     "points": 2,
     "schema_version": 3,
     "solution": false,
     "task": false
    }
   },
   "outputs": [
    {
     "name": "stdout",
     "output_type": "stream",
     "text": [
      "[1] \"Success!\"\n"
     ]
    }
   ],
   "source": [
    "test_2.13()"
   ]
  },
  {
   "cell_type": "markdown",
   "metadata": {
    "nbgrader": {
     "grade": false,
     "grade_id": "cell-1146dfe6f077838a",
     "locked": true,
     "schema_version": 3,
     "solution": false,
     "task": false
    }
   },
   "source": [
    "## 3. Breast Cancer and Radiation Therapy\n",
    "\n",
    "&emsp; For this question, we will use the dataset found at https://archive.ics.uci.edu/ml/datasets/Breast+Cancer. The dataset contains information on 286 breast cancer patients, including variables on tumour size, tumour location, radiation therapy, cancer recurrence, and other basic medical history data. Given this dataset, we want to investigate whether there is a significant difference in the proportions of cancer recurrence between patients who were treated with experimental radiation therapy and patients who were not (i.e. received an alternate treatment). We will assume that the patients have been randomized into each of these two treatment groups.\n",
    "\n",
    "&emsp; Let's load this dataset. Note that the \"irradiat\" column indicates whether or not the patient received radiation therapy, while the \"Class\" column indicates whether or not the patient experienced a cancer recurrence event."
   ]
  },
  {
   "cell_type": "code",
   "execution_count": 56,
   "metadata": {
    "nbgrader": {
     "grade": false,
     "grade_id": "cell-5ce07a14b10cac34",
     "locked": true,
     "schema_version": 3,
     "solution": false,
     "task": false
    }
   },
   "outputs": [
    {
     "data": {
      "text/html": [
       "<table>\n",
       "<caption>A data.frame: 6 × 10</caption>\n",
       "<thead>\n",
       "\t<tr><th></th><th scope=col>class</th><th scope=col>age</th><th scope=col>menopause</th><th scope=col>tumor-size</th><th scope=col>inv-nodes</th><th scope=col>node-caps</th><th scope=col>deg-malig</th><th scope=col>breast</th><th scope=col>breast-quad</th><th scope=col>irradiat</th></tr>\n",
       "\t<tr><th></th><th scope=col>&lt;chr&gt;</th><th scope=col>&lt;chr&gt;</th><th scope=col>&lt;chr&gt;</th><th scope=col>&lt;chr&gt;</th><th scope=col>&lt;chr&gt;</th><th scope=col>&lt;chr&gt;</th><th scope=col>&lt;int&gt;</th><th scope=col>&lt;chr&gt;</th><th scope=col>&lt;chr&gt;</th><th scope=col>&lt;chr&gt;</th></tr>\n",
       "</thead>\n",
       "<tbody>\n",
       "\t<tr><th scope=row>1</th><td>no-recurrence-events</td><td>30-39</td><td>premeno</td><td>30-34</td><td>0-2</td><td>no</td><td>3</td><td>left </td><td>left_low </td><td>no</td></tr>\n",
       "\t<tr><th scope=row>2</th><td>no-recurrence-events</td><td>40-49</td><td>premeno</td><td>20-24</td><td>0-2</td><td>no</td><td>2</td><td>right</td><td>right_up </td><td>no</td></tr>\n",
       "\t<tr><th scope=row>3</th><td>no-recurrence-events</td><td>40-49</td><td>premeno</td><td>20-24</td><td>0-2</td><td>no</td><td>2</td><td>left </td><td>left_low </td><td>no</td></tr>\n",
       "\t<tr><th scope=row>4</th><td>no-recurrence-events</td><td>60-69</td><td>ge40   </td><td>15-19</td><td>0-2</td><td>no</td><td>2</td><td>right</td><td>left_up  </td><td>no</td></tr>\n",
       "\t<tr><th scope=row>5</th><td>no-recurrence-events</td><td>40-49</td><td>premeno</td><td>0-4  </td><td>0-2</td><td>no</td><td>2</td><td>right</td><td>right_low</td><td>no</td></tr>\n",
       "\t<tr><th scope=row>6</th><td>no-recurrence-events</td><td>60-69</td><td>ge40   </td><td>15-19</td><td>0-2</td><td>no</td><td>2</td><td>left </td><td>left_low </td><td>no</td></tr>\n",
       "</tbody>\n",
       "</table>\n"
      ],
      "text/latex": [
       "A data.frame: 6 × 10\n",
       "\\begin{tabular}{r|llllllllll}\n",
       "  & class & age & menopause & tumor-size & inv-nodes & node-caps & deg-malig & breast & breast-quad & irradiat\\\\\n",
       "  & <chr> & <chr> & <chr> & <chr> & <chr> & <chr> & <int> & <chr> & <chr> & <chr>\\\\\n",
       "\\hline\n",
       "\t1 & no-recurrence-events & 30-39 & premeno & 30-34 & 0-2 & no & 3 & left  & left\\_low  & no\\\\\n",
       "\t2 & no-recurrence-events & 40-49 & premeno & 20-24 & 0-2 & no & 2 & right & right\\_up  & no\\\\\n",
       "\t3 & no-recurrence-events & 40-49 & premeno & 20-24 & 0-2 & no & 2 & left  & left\\_low  & no\\\\\n",
       "\t4 & no-recurrence-events & 60-69 & ge40    & 15-19 & 0-2 & no & 2 & right & left\\_up   & no\\\\\n",
       "\t5 & no-recurrence-events & 40-49 & premeno & 0-4   & 0-2 & no & 2 & right & right\\_low & no\\\\\n",
       "\t6 & no-recurrence-events & 60-69 & ge40    & 15-19 & 0-2 & no & 2 & left  & left\\_low  & no\\\\\n",
       "\\end{tabular}\n"
      ],
      "text/markdown": [
       "\n",
       "A data.frame: 6 × 10\n",
       "\n",
       "| <!--/--> | class &lt;chr&gt; | age &lt;chr&gt; | menopause &lt;chr&gt; | tumor-size &lt;chr&gt; | inv-nodes &lt;chr&gt; | node-caps &lt;chr&gt; | deg-malig &lt;int&gt; | breast &lt;chr&gt; | breast-quad &lt;chr&gt; | irradiat &lt;chr&gt; |\n",
       "|---|---|---|---|---|---|---|---|---|---|---|\n",
       "| 1 | no-recurrence-events | 30-39 | premeno | 30-34 | 0-2 | no | 3 | left  | left_low  | no |\n",
       "| 2 | no-recurrence-events | 40-49 | premeno | 20-24 | 0-2 | no | 2 | right | right_up  | no |\n",
       "| 3 | no-recurrence-events | 40-49 | premeno | 20-24 | 0-2 | no | 2 | left  | left_low  | no |\n",
       "| 4 | no-recurrence-events | 60-69 | ge40    | 15-19 | 0-2 | no | 2 | right | left_up   | no |\n",
       "| 5 | no-recurrence-events | 40-49 | premeno | 0-4   | 0-2 | no | 2 | right | right_low | no |\n",
       "| 6 | no-recurrence-events | 60-69 | ge40    | 15-19 | 0-2 | no | 2 | left  | left_low  | no |\n",
       "\n"
      ],
      "text/plain": [
       "  class                age   menopause tumor-size inv-nodes node-caps deg-malig\n",
       "1 no-recurrence-events 30-39 premeno   30-34      0-2       no        3        \n",
       "2 no-recurrence-events 40-49 premeno   20-24      0-2       no        2        \n",
       "3 no-recurrence-events 40-49 premeno   20-24      0-2       no        2        \n",
       "4 no-recurrence-events 60-69 ge40      15-19      0-2       no        2        \n",
       "5 no-recurrence-events 40-49 premeno   0-4        0-2       no        2        \n",
       "6 no-recurrence-events 60-69 ge40      15-19      0-2       no        2        \n",
       "  breast breast-quad irradiat\n",
       "1 left   left_low    no      \n",
       "2 right  right_up    no      \n",
       "3 left   left_low    no      \n",
       "4 right  left_up     no      \n",
       "5 right  right_low   no      \n",
       "6 left   left_low    no      "
      ]
     },
     "metadata": {},
     "output_type": "display_data"
    }
   ],
   "source": [
    "breast_cancer <- read.csv(url(\"https://archive.ics.uci.edu/ml/machine-learning-databases/breast-cancer/breast-cancer.data\"),header=FALSE)\n",
    "colnames(breast_cancer) <- c(\"class\", \"age\", \"menopause\", \"tumor-size\", \"inv-nodes\", \"node-caps\", \"deg-malig\", \"breast\", \"breast-quad\", \"irradiat\")\n",
    "head(breast_cancer)"
   ]
  },
  {
   "cell_type": "code",
   "execution_count": 57,
   "metadata": {
    "nbgrader": {
     "grade": false,
     "grade_id": "cell-f86991f96a49f4c7",
     "locked": true,
     "schema_version": 3,
     "solution": false,
     "task": false
    }
   },
   "outputs": [
    {
     "data": {
      "text/html": [
       "<table>\n",
       "<caption>A data.frame: 6 × 2</caption>\n",
       "<thead>\n",
       "\t<tr><th></th><th scope=col>class</th><th scope=col>irradiat</th></tr>\n",
       "\t<tr><th></th><th scope=col>&lt;chr&gt;</th><th scope=col>&lt;chr&gt;</th></tr>\n",
       "</thead>\n",
       "<tbody>\n",
       "\t<tr><th scope=row>1</th><td>no-recurrence-events</td><td>no</td></tr>\n",
       "\t<tr><th scope=row>2</th><td>no-recurrence-events</td><td>no</td></tr>\n",
       "\t<tr><th scope=row>3</th><td>no-recurrence-events</td><td>no</td></tr>\n",
       "\t<tr><th scope=row>4</th><td>no-recurrence-events</td><td>no</td></tr>\n",
       "\t<tr><th scope=row>5</th><td>no-recurrence-events</td><td>no</td></tr>\n",
       "\t<tr><th scope=row>6</th><td>no-recurrence-events</td><td>no</td></tr>\n",
       "</tbody>\n",
       "</table>\n"
      ],
      "text/latex": [
       "A data.frame: 6 × 2\n",
       "\\begin{tabular}{r|ll}\n",
       "  & class & irradiat\\\\\n",
       "  & <chr> & <chr>\\\\\n",
       "\\hline\n",
       "\t1 & no-recurrence-events & no\\\\\n",
       "\t2 & no-recurrence-events & no\\\\\n",
       "\t3 & no-recurrence-events & no\\\\\n",
       "\t4 & no-recurrence-events & no\\\\\n",
       "\t5 & no-recurrence-events & no\\\\\n",
       "\t6 & no-recurrence-events & no\\\\\n",
       "\\end{tabular}\n"
      ],
      "text/markdown": [
       "\n",
       "A data.frame: 6 × 2\n",
       "\n",
       "| <!--/--> | class &lt;chr&gt; | irradiat &lt;chr&gt; |\n",
       "|---|---|---|\n",
       "| 1 | no-recurrence-events | no |\n",
       "| 2 | no-recurrence-events | no |\n",
       "| 3 | no-recurrence-events | no |\n",
       "| 4 | no-recurrence-events | no |\n",
       "| 5 | no-recurrence-events | no |\n",
       "| 6 | no-recurrence-events | no |\n",
       "\n"
      ],
      "text/plain": [
       "  class                irradiat\n",
       "1 no-recurrence-events no      \n",
       "2 no-recurrence-events no      \n",
       "3 no-recurrence-events no      \n",
       "4 no-recurrence-events no      \n",
       "5 no-recurrence-events no      \n",
       "6 no-recurrence-events no      "
      ]
     },
     "metadata": {},
     "output_type": "display_data"
    }
   ],
   "source": [
    "recurrence_irradiat <- \n",
    "    breast_cancer %>%\n",
    "    select(class, irradiat)\n",
    "\n",
    "head(recurrence_irradiat)"
   ]
  },
  {
   "cell_type": "markdown",
   "metadata": {
    "nbgrader": {
     "grade": false,
     "grade_id": "cell-dacb75318f7c5a87",
     "locked": true,
     "schema_version": 3,
     "solution": false,
     "task": false
    }
   },
   "source": [
    "&emsp; Let's group by `class` and `irradiat` and tally how many samples are in each group."
   ]
  },
  {
   "cell_type": "code",
   "execution_count": 58,
   "metadata": {
    "nbgrader": {
     "grade": false,
     "grade_id": "cell-4b0dd6b1d19b03b8",
     "locked": true,
     "schema_version": 3,
     "solution": false,
     "task": false
    }
   },
   "outputs": [
    {
     "data": {
      "text/html": [
       "<table>\n",
       "<caption>A tibble: 2 × 3</caption>\n",
       "<thead>\n",
       "\t<tr><th scope=col>class</th><th scope=col>no</th><th scope=col>yes</th></tr>\n",
       "\t<tr><th scope=col>&lt;chr&gt;</th><th scope=col>&lt;int&gt;</th><th scope=col>&lt;int&gt;</th></tr>\n",
       "</thead>\n",
       "<tbody>\n",
       "\t<tr><td>no-recurrence-events</td><td>164</td><td>37</td></tr>\n",
       "\t<tr><td>recurrence-events   </td><td> 54</td><td>31</td></tr>\n",
       "</tbody>\n",
       "</table>\n"
      ],
      "text/latex": [
       "A tibble: 2 × 3\n",
       "\\begin{tabular}{lll}\n",
       " class & no & yes\\\\\n",
       " <chr> & <int> & <int>\\\\\n",
       "\\hline\n",
       "\t no-recurrence-events & 164 & 37\\\\\n",
       "\t recurrence-events    &  54 & 31\\\\\n",
       "\\end{tabular}\n"
      ],
      "text/markdown": [
       "\n",
       "A tibble: 2 × 3\n",
       "\n",
       "| class &lt;chr&gt; | no &lt;int&gt; | yes &lt;int&gt; |\n",
       "|---|---|---|\n",
       "| no-recurrence-events | 164 | 37 |\n",
       "| recurrence-events    |  54 | 31 |\n",
       "\n"
      ],
      "text/plain": [
       "  class                no  yes\n",
       "1 no-recurrence-events 164 37 \n",
       "2 recurrence-events     54 31 "
      ]
     },
     "metadata": {},
     "output_type": "display_data"
    }
   ],
   "source": [
    "recurrence_irradiat %>%\n",
    "    group_by(irradiat, class) %>%\n",
    "    tally() %>%\n",
    "    spread(irradiat, n)"
   ]
  },
  {
   "cell_type": "markdown",
   "metadata": {
    "nbgrader": {
     "grade": false,
     "grade_id": "cell-b5bfec02b1f8467d",
     "locked": true,
     "schema_version": 3,
     "solution": false,
     "task": false
    }
   },
   "source": [
    "<b>Question 3.1</b><br>\n",
    "{points: 3}\n",
    "\n",
    "Let $p_{1}$ be the proportion of radiation therapy patients (irradiat=true) that subsequently experienced cancer recurrence, and let $p_{2}$ be the proportion of patients that did not receive radiation therapy (irradiat=false) and subsequently experienced cancer recurrence. \n",
    "\n",
    "We want to test $$H_0: p_{1} = p_{2},$$ and $$H_a: p_{1} \\neq p_{2}.$$\n",
    "\n",
    "Calculate the observed test statistic $\\hat{p}_1 - \\hat{p}_2$ using `recurrence_irradiat` by first specifying the response and explanatory variables.\n",
    "\n",
    "_Assign your data frame to an object called `obs_diff_prop`. Your data frame should have only one column, `stat`, and one row._"
   ]
  },
  {
   "cell_type": "code",
   "execution_count": 59,
   "metadata": {
    "nbgrader": {
     "grade": false,
     "grade_id": "cell-50f5046219d6451d",
     "locked": false,
     "schema_version": 3,
     "solution": true,
     "task": false
    }
   },
   "outputs": [
    {
     "data": {
      "text/html": [
       "<table>\n",
       "<caption>A tibble: 1 × 1</caption>\n",
       "<thead>\n",
       "\t<tr><th scope=col>stat</th></tr>\n",
       "\t<tr><th scope=col>&lt;dbl&gt;</th></tr>\n",
       "</thead>\n",
       "<tbody>\n",
       "\t<tr><td>0.2081759</td></tr>\n",
       "</tbody>\n",
       "</table>\n"
      ],
      "text/latex": [
       "A tibble: 1 × 1\n",
       "\\begin{tabular}{l}\n",
       " stat\\\\\n",
       " <dbl>\\\\\n",
       "\\hline\n",
       "\t 0.2081759\\\\\n",
       "\\end{tabular}\n"
      ],
      "text/markdown": [
       "\n",
       "A tibble: 1 × 1\n",
       "\n",
       "| stat &lt;dbl&gt; |\n",
       "|---|\n",
       "| 0.2081759 |\n",
       "\n"
      ],
      "text/plain": [
       "  stat     \n",
       "1 0.2081759"
      ]
     },
     "metadata": {},
     "output_type": "display_data"
    }
   ],
   "source": [
    "#obs_diff_prop <- \n",
    "\n",
    "### BEGIN SOLUTION\n",
    "obs_diff_prop <- \n",
    "    recurrence_irradiat %>%\n",
    "    specify(formula=class~irradiat, success=\"recurrence-events\") %>%\n",
    "    calculate(stat = \"diff in props\", order = c(\"yes\", \"no\"))\n",
    "### END SOLUTION\n",
    "\n",
    "obs_diff_prop "
   ]
  },
  {
   "cell_type": "code",
   "execution_count": 60,
   "metadata": {
    "nbgrader": {
     "grade": true,
     "grade_id": "cell-1149952055648d06",
     "locked": true,
     "points": 3,
     "schema_version": 3,
     "solution": false,
     "task": false
    }
   },
   "outputs": [
    {
     "name": "stdout",
     "output_type": "stream",
     "text": [
      "[1] \"Success!\"\n"
     ]
    }
   ],
   "source": [
    "test_3.1()"
   ]
  },
  {
   "cell_type": "markdown",
   "metadata": {
    "nbgrader": {
     "grade": false,
     "grade_id": "cell-8b47ef7e19d98891",
     "locked": true,
     "schema_version": 3,
     "solution": false,
     "task": false
    }
   },
   "source": [
    "<b>Question 3.2: Null Distribution</b><br>\n",
    "{points: 3}\n",
    "\n",
    "Generate 1000 samples from the null distribution. Use `recurrence_irradiat` to specify the response and explanatory variables, hypothesize, generate 1000 samples and calculate the proportion of irradiated patients having recurrent cancer minus the proportion of non-irradiated patients having recurrent cancer. \n",
    "\n",
    "_Assign your data frame to an object called `irradiat_null_distribution`. Your data frame should have only two columns: `replicate` and `stat`._"
   ]
  },
  {
   "cell_type": "code",
   "execution_count": 61,
   "metadata": {
    "nbgrader": {
     "grade": false,
     "grade_id": "cell-e6801b15b4258c14",
     "locked": false,
     "schema_version": 3,
     "solution": true,
     "task": false
    },
    "scrolled": true
   },
   "outputs": [
    {
     "data": {
      "text/html": [
       "<table>\n",
       "<caption>A tibble: 6 × 2</caption>\n",
       "<thead>\n",
       "\t<tr><th scope=col>replicate</th><th scope=col>stat</th></tr>\n",
       "\t<tr><th scope=col>&lt;int&gt;</th><th scope=col>&lt;dbl&gt;</th></tr>\n",
       "</thead>\n",
       "<tbody>\n",
       "\t<tr><td>1</td><td>-0.08121964</td></tr>\n",
       "\t<tr><td>2</td><td> 0.15029682</td></tr>\n",
       "\t<tr><td>3</td><td> 0.05383162</td></tr>\n",
       "\t<tr><td>4</td><td> 0.03453859</td></tr>\n",
       "\t<tr><td>5</td><td>-0.06192661</td></tr>\n",
       "\t<tr><td>6</td><td> 0.01524555</td></tr>\n",
       "</tbody>\n",
       "</table>\n"
      ],
      "text/latex": [
       "A tibble: 6 × 2\n",
       "\\begin{tabular}{ll}\n",
       " replicate & stat\\\\\n",
       " <int> & <dbl>\\\\\n",
       "\\hline\n",
       "\t 1 & -0.08121964\\\\\n",
       "\t 2 &  0.15029682\\\\\n",
       "\t 3 &  0.05383162\\\\\n",
       "\t 4 &  0.03453859\\\\\n",
       "\t 5 & -0.06192661\\\\\n",
       "\t 6 &  0.01524555\\\\\n",
       "\\end{tabular}\n"
      ],
      "text/markdown": [
       "\n",
       "A tibble: 6 × 2\n",
       "\n",
       "| replicate &lt;int&gt; | stat &lt;dbl&gt; |\n",
       "|---|---|\n",
       "| 1 | -0.08121964 |\n",
       "| 2 |  0.15029682 |\n",
       "| 3 |  0.05383162 |\n",
       "| 4 |  0.03453859 |\n",
       "| 5 | -0.06192661 |\n",
       "| 6 |  0.01524555 |\n",
       "\n"
      ],
      "text/plain": [
       "  replicate stat       \n",
       "1 1         -0.08121964\n",
       "2 2          0.15029682\n",
       "3 3          0.05383162\n",
       "4 4          0.03453859\n",
       "5 5         -0.06192661\n",
       "6 6          0.01524555"
      ]
     },
     "metadata": {},
     "output_type": "display_data"
    }
   ],
   "source": [
    "set.seed(3526)\n",
    "#irradiat_null_distribution <-\n",
    "\n",
    "### BEGIN SOLUTION\n",
    "irradiat_null_distribution <- recurrence_irradiat %>%\n",
    "                    specify(formula=class~irradiat, success=\"recurrence-events\") %>%\n",
    "                    hypothesize(null=\"independence\") %>%\n",
    "                    generate(reps = 1000, type = \"permute\") %>%\n",
    "                    calculate(stat = \"diff in props\", order = c(\"yes\", \"no\"))\n",
    "### END SOLUTION\n",
    "\n",
    "head(irradiat_null_distribution)"
   ]
  },
  {
   "cell_type": "code",
   "execution_count": 62,
   "metadata": {
    "nbgrader": {
     "grade": true,
     "grade_id": "cell-3a16b15f5692aca8",
     "locked": true,
     "points": 3,
     "schema_version": 3,
     "solution": false,
     "task": false
    }
   },
   "outputs": [
    {
     "name": "stdout",
     "output_type": "stream",
     "text": [
      "[1] \"Success!\"\n"
     ]
    }
   ],
   "source": [
    "test_3.2()"
   ]
  },
  {
   "cell_type": "markdown",
   "metadata": {
    "nbgrader": {
     "grade": false,
     "grade_id": "cell-fcaaa01f1f5c44a9",
     "locked": true,
     "schema_version": 3,
     "solution": false,
     "task": false
    }
   },
   "source": [
    "<b>Question 3.3</b><br>\n",
    "{points: 3}\n",
    "\n",
    "Plot the result of the hypothesis test using `visualize` with 10 bins, put a vertical bar for the observed test statistic `obs_diff_prop`, and shade the tail(s).\n",
    "\n",
    "<i>Assign your answer to an object called </i>`irradiate_result_plot`."
   ]
  },
  {
   "cell_type": "code",
   "execution_count": 63,
   "metadata": {
    "nbgrader": {
     "grade": false,
     "grade_id": "cell-7818997009c7aef4",
     "locked": false,
     "schema_version": 3,
     "solution": true,
     "task": false
    },
    "scrolled": false
   },
   "outputs": [
    {
     "data": {
      "image/png": "[encoded data removed]",
      "text/plain": [
       "plot without title"
      ]
     },
     "metadata": {
      "image/png": {
       "height": 420,
       "width": 420
      }
     },
     "output_type": "display_data"
    }
   ],
   "source": [
    "#irradiate_result_plot <-\n",
    "\n",
    "### BEGIN SOLUTION\n",
    "irradiate_result_plot <-\n",
    "    visualize(irradiat_null_distribution, bins = 10) + \n",
    "    shade_p_value(obs_stat = obs_diff_prop, direction = \"both\") +\n",
    "    xlab(\"Difference in proportion\")\n",
    "### END SOLUTION\n",
    "\n",
    "irradiate_result_plot "
   ]
  },
  {
   "cell_type": "code",
   "execution_count": 64,
   "metadata": {
    "nbgrader": {
     "grade": true,
     "grade_id": "cell-c5d0b20f2d897555",
     "locked": true,
     "points": 3,
     "schema_version": 3,
     "solution": false,
     "task": false
    }
   },
   "outputs": [
    {
     "name": "stdout",
     "output_type": "stream",
     "text": [
      "[1] \"Success!\"\n"
     ]
    }
   ],
   "source": [
    "test_3.3()"
   ]
  },
  {
   "cell_type": "markdown",
   "metadata": {
    "nbgrader": {
     "grade": false,
     "grade_id": "cell-cfc255e700f115c2",
     "locked": true,
     "schema_version": 3,
     "solution": false,
     "task": false
    }
   },
   "source": [
    "<b>Question 3.4: Calculate p-value</b> <br>\n",
    "{points: 3}\n",
    "\n",
    "Obtain the p-value from `irradiat_null_distribution`. Leave your answer as a $1 \\times 1$ tibble with column name `p_value`.\n",
    "\n",
    "<i>Assign your answer to an object called </i>`answer3.4`."
   ]
  },
  {
   "cell_type": "code",
   "execution_count": 65,
   "metadata": {
    "nbgrader": {
     "grade": false,
     "grade_id": "cell-cdd617571e2e7956",
     "locked": false,
     "schema_version": 3,
     "solution": true,
     "task": false
    }
   },
   "outputs": [
    {
     "data": {
      "text/html": [
       "<table>\n",
       "<caption>A tibble: 1 × 1</caption>\n",
       "<thead>\n",
       "\t<tr><th scope=col>p_value</th></tr>\n",
       "\t<tr><th scope=col>&lt;dbl&gt;</th></tr>\n",
       "</thead>\n",
       "<tbody>\n",
       "\t<tr><td>0.004</td></tr>\n",
       "</tbody>\n",
       "</table>\n"
      ],
      "text/latex": [
       "A tibble: 1 × 1\n",
       "\\begin{tabular}{l}\n",
       " p\\_value\\\\\n",
       " <dbl>\\\\\n",
       "\\hline\n",
       "\t 0.004\\\\\n",
       "\\end{tabular}\n"
      ],
      "text/markdown": [
       "\n",
       "A tibble: 1 × 1\n",
       "\n",
       "| p_value &lt;dbl&gt; |\n",
       "|---|\n",
       "| 0.004 |\n",
       "\n"
      ],
      "text/plain": [
       "  p_value\n",
       "1 0.004  "
      ]
     },
     "metadata": {},
     "output_type": "display_data"
    }
   ],
   "source": [
    "#answer3.4<-\n",
    "\n",
    "### BEGIN SOLUTION\n",
    "answer3.4 <-\n",
    "    irradiat_null_distribution %>% \n",
    "    get_p_value(obs_stat = obs_diff_prop, direction = \"both\")\n",
    "### END SOLUTION\n",
    "answer3.4"
   ]
  },
  {
   "cell_type": "code",
   "execution_count": 66,
   "metadata": {
    "nbgrader": {
     "grade": true,
     "grade_id": "cell-506d7cba4ff83f8d",
     "locked": true,
     "points": 3,
     "schema_version": 3,
     "solution": false,
     "task": false
    }
   },
   "outputs": [
    {
     "name": "stdout",
     "output_type": "stream",
     "text": [
      "[1] \"Success!\"\n"
     ]
    }
   ],
   "source": [
    "# Here we check to see if you have given your answer the correct object name\n",
    "# and if your answer is plausible. However, all other tests have been hidden\n",
    "# so you can practice deciding when you have the correct answer.\n",
    "\n",
    "test_that('Did not assign answer to an object called \"answer3.4\"', {\n",
    "    expect_true(exists(\"answer3.4\"))\n",
    "  })\n",
    "\n",
    "  test_that(\"Solution should be a data frame\", {\n",
    "    expect_true(\"data.frame\" %in% class(answer3.4))\n",
    "  })\n",
    "\n",
    "expected_colnames <- c(\"p_value\")\n",
    "given_colnames <- colnames(answer3.4)\n",
    "test_that(\"Data frame does not have the correct columns\", {\n",
    "    expect_equal(length(setdiff(\n",
    "      union(expected_colnames, given_colnames),\n",
    "      intersect(expected_colnames, given_colnames)\n",
    "    )), 0)\n",
    "})\n",
    "\n",
    "### BEGIN HIDDEN TESTS\n",
    "\n",
    "test_that(\"Data frame does not contain the correct number of rows\", {\n",
    "    expect_equal(digest(as.integer(nrow(answer3.4))), \"4b5630ee914e848e8d07221556b0a2fb\")\n",
    "})\n",
    "\n",
    "test_that(\"Data frame does not contain the correct data\", {\n",
    "    expect_equal(digest(as.integer(sum(answer3.4$p_value) * 10e6)), \"6f31d2cd2d03043e0063a6c33f2bff6b\")\n",
    "})\n",
    "\n",
    "print(\"Success!\")\n",
    "### END HIDDEN TESTS"
   ]
  },
  {
   "cell_type": "markdown",
   "metadata": {
    "nbgrader": {
     "grade": false,
     "grade_id": "cell-a5c982b6b269f9be",
     "locked": true,
     "schema_version": 3,
     "solution": false,
     "task": false
    }
   },
   "source": [
    "&emsp; Thus, given the p-value above, we reject the null hypothesis at 5% significance level.\n",
    "\n",
    "&emsp; Given this result and the test statistic that we observed in Question 3.1, there is evidence to suggest that cancer recurrence is associated with the type of treatment received. Specifically, patients who received the experimental radiation therapy may be more likely to experience cancer recurrence than patients who did not. This may be attributable to its lower effectiveness at eliminating the cancer present, compared to alternative treatments."
   ]
  }
 ],
 "metadata": {
  "celltoolbar": "Create Assignment",
  "jupytext": {
   "formats": "ipynb,Rmd"
  },
  "kernelspec": {
   "display_name": "R",
   "language": "R",
   "name": "ir"
  },
  "language_info": {
   "codemirror_mode": "r",
   "file_extension": ".r",
   "mimetype": "text/x-r-source",
   "name": "R",
   "pygments_lexer": "r",
   "version": "4.0.0"
  }
 },
 "nbformat": 4,
 "nbformat_minor": 4
}
