{
 "cells": [
  {
   "cell_type": "markdown",
   "metadata": {
    "nbgrader": {
     "grade": false,
     "grade_id": "cell-c386201f5323a017",
     "locked": true,
     "schema_version": 3,
     "solution": false,
     "task": false
    }
   },
   "source": [
    "# Worksheet 6: Hypothesis Testing"
   ]
  },
  {
   "cell_type": "markdown",
   "metadata": {
    "nbgrader": {
     "grade": false,
     "grade_id": "cell-63551cb2c79b3c82",
     "locked": true,
     "schema_version": 3,
     "solution": false,
     "task": false
    }
   },
   "source": [
    "###  Lecture and Tutorial Learning Goals\n",
    "After completing this week's lecture and tutorial work, you will be able to:\n",
    "\n",
    "1. Give an example of a question you could answer with a hypothesis test.\n",
    "2. Differentiate composite vs. simple hypotheses.\n",
    "3. Given an inferential question, formulate null and alternative hypotheses to be used in a hypothesis test.\n",
    "4. Identify the steps and components of a basic hypothesis test (\"there is only one hypothesis test\").\n",
    "5. Write computer scripts to perform hypothesis testing via simulation, randomization and bootstrapping approaches, as well as interpret the output.\n",
    "6. Describe the relationship between confidence intervals and hypothesis testing.\n",
    "7. Discuss the potential limitations of this simulation approach to hypothesis testing."
   ]
  },
  {
   "cell_type": "code",
   "execution_count": 1,
   "metadata": {
    "nbgrader": {
     "grade": false,
     "grade_id": "cell-e4ddf503dcc46d63",
     "locked": true,
     "schema_version": 3,
     "solution": false,
     "task": false
    }
   },
   "outputs": [
    {
     "name": "stderr",
     "output_type": "stream",
     "text": [
      "\n",
      "********************************************************\n",
      "\n",
      "Note: As of version 1.0.0, cowplot does not change the\n",
      "\n",
      "  default ggplot2 theme anymore. To recover the previous\n",
      "\n",
      "  behavior, execute:\n",
      "  theme_set(theme_cowplot())\n",
      "\n",
      "********************************************************\n",
      "\n",
      "\n",
      "Warning message:\n",
      "“package ‘infer’ was built under R version 4.0.2”\n",
      "── \u001b[1mAttaching packages\u001b[22m ─────────────────────────────────────── tidyverse 1.3.0 ──\n",
      "\n",
      "\u001b[32m✔\u001b[39m \u001b[34mggplot2\u001b[39m 3.3.2     \u001b[32m✔\u001b[39m \u001b[34mpurrr  \u001b[39m 0.3.4\n",
      "\u001b[32m✔\u001b[39m \u001b[34mtibble \u001b[39m 3.0.3     \u001b[32m✔\u001b[39m \u001b[34mdplyr  \u001b[39m 1.0.2\n",
      "\u001b[32m✔\u001b[39m \u001b[34mtidyr  \u001b[39m 1.1.1     \u001b[32m✔\u001b[39m \u001b[34mstringr\u001b[39m 1.4.0\n",
      "\u001b[32m✔\u001b[39m \u001b[34mreadr  \u001b[39m 1.3.1     \u001b[32m✔\u001b[39m \u001b[34mforcats\u001b[39m 0.5.0\n",
      "\n",
      "Warning message:\n",
      "“package ‘ggplot2’ was built under R version 4.0.1”\n",
      "Warning message:\n",
      "“package ‘tibble’ was built under R version 4.0.2”\n",
      "Warning message:\n",
      "“package ‘tidyr’ was built under R version 4.0.2”\n",
      "Warning message:\n",
      "“package ‘dplyr’ was built under R version 4.0.2”\n",
      "── \u001b[1mConflicts\u001b[22m ────────────────────────────────────────── tidyverse_conflicts() ──\n",
      "\u001b[31m✖\u001b[39m \u001b[34mdplyr\u001b[39m::\u001b[32mcombine()\u001b[39m masks \u001b[34mgridExtra\u001b[39m::combine()\n",
      "\u001b[31m✖\u001b[39m \u001b[34mdplyr\u001b[39m::\u001b[32mfilter()\u001b[39m  masks \u001b[34mstats\u001b[39m::filter()\n",
      "\u001b[31m✖\u001b[39m \u001b[34mdplyr\u001b[39m::\u001b[32mlag()\u001b[39m     masks \u001b[34mstats\u001b[39m::lag()\n",
      "\n",
      "\n",
      "Attaching package: ‘testthat’\n",
      "\n",
      "\n",
      "The following object is masked from ‘package:dplyr’:\n",
      "\n",
      "    matches\n",
      "\n",
      "\n",
      "The following object is masked from ‘package:purrr’:\n",
      "\n",
      "    is_null\n",
      "\n",
      "\n",
      "The following object is masked from ‘package:tidyr’:\n",
      "\n",
      "    matches\n",
      "\n",
      "\n"
     ]
    }
   ],
   "source": [
    "# Run this cell before continuing.\n",
    "library(cowplot)\n",
    "library(digest)\n",
    "library(gridExtra)\n",
    "library(infer)\n",
    "library(repr)\n",
    "library(tidyverse)\n",
    "library(datateachr)\n",
    "source(\"tests_worksheet_06.R\")"
   ]
  },
  {
   "cell_type": "markdown",
   "metadata": {
    "nbgrader": {
     "grade": false,
     "grade_id": "cell-6d14c502fafa7a1c",
     "locked": true,
     "schema_version": 3,
     "solution": false,
     "task": false
    }
   },
   "source": [
    "## 1. Short Recap & Warm-Up Question\n",
    "\n",
    "The hypothesis testing problem is very similar to the confidence intervals problem you learned in Week 4.  There is just a shift in focus. For confidence intervals, we want to find plausible values for the parameter given a sample. In hypothesis testing, we want to find  \"plausible\" values for a statistic given a fixed value for the parameter. For example,  given a sample average $\\bar{x}=2$, confidence intervals aim to find plausible values for the populational mean $\\mu$. On the other hand, hypothesis tests assume a population parameter, say $\\mu=2$, and aims to check if the obtained $\\bar{x}$ is \"compatible\" with that value.\n",
    "\n",
    "Before we start, let us refresh our memory on confidence intervals."
   ]
  },
  {
   "cell_type": "markdown",
   "metadata": {
    "nbgrader": {
     "grade": false,
     "grade_id": "cell-14b123c1602669dc",
     "locked": true,
     "schema_version": 3,
     "solution": false,
     "task": false
    }
   },
   "source": [
    "**Question 1.1**\n",
    "<br>{points: 1}\n",
    "\n",
    "When calculating a confidence interval, we are looking to find plausible values for a:\n",
    "\n",
    "A. statistic;\n",
    "\n",
    "B. parameter;\n",
    "\n",
    "C. observations in the sample;\n",
    "\n",
    "D. observations in the population;\n",
    "\n",
    "_Assign your answer to an object called `answer1.1`. Your response should be a single character surrounded by quotes._"
   ]
  },
  {
   "cell_type": "code",
   "execution_count": 2,
   "metadata": {
    "nbgrader": {
     "grade": false,
     "grade_id": "cell-3bb33029a7df43f9",
     "locked": false,
     "schema_version": 3,
     "solution": true,
     "task": false
    }
   },
   "outputs": [
    {
     "data": {
      "text/html": [
       "'B'"
      ],
      "text/latex": [
       "'B'"
      ],
      "text/markdown": [
       "'B'"
      ],
      "text/plain": [
       "[1] \"B\""
      ]
     },
     "metadata": {},
     "output_type": "display_data"
    }
   ],
   "source": [
    "# answer1.1 <- ...\n",
    "\n",
    "### BEGIN SOLUTION\n",
    "answer1.1 <- \"B\"\n",
    "### END SOLUTION\n",
    "\n",
    "answer1.1"
   ]
  },
  {
   "cell_type": "code",
   "execution_count": 3,
   "metadata": {
    "nbgrader": {
     "grade": true,
     "grade_id": "cell-43a9de8cf24eae44",
     "locked": true,
     "points": 1,
     "schema_version": 3,
     "solution": false,
     "task": false
    }
   },
   "outputs": [
    {
     "name": "stdout",
     "output_type": "stream",
     "text": [
      "[1] \"Success!\"\n"
     ]
    }
   ],
   "source": [
    "test_1.1()"
   ]
  },
  {
   "cell_type": "markdown",
   "metadata": {
    "nbgrader": {
     "grade": false,
     "grade_id": "cell-710e857eb0dc8ddc",
     "locked": true,
     "schema_version": 3,
     "solution": false,
     "task": false
    }
   },
   "source": [
    "**Question 1.2**\n",
    "<br>{points: 1}\n",
    "\n",
    "Consider the population of all UBC students in a given year. We want the proportion of students that have at least one car. \n",
    "\n",
    "Complete the sentences below using one of the following two options:\n",
    "\n",
    "- `A` for constant\n",
    "- `B` for random\n",
    "\n",
    "--------------------\n",
    "\n",
    "Before we take a sample:\n",
    "\n",
    "1. The elements of the sample are ...\n",
    "2. The sample proportion is ...\n",
    "3. The sample standard error is ...\n",
    "4. The boundaries of a confidence interval are ...\n",
    "5. The parameter $p$ is ...\n",
    "\n",
    "After we take the sample:\n",
    "1. The elements of the sample are ...\n",
    "2. The sample proportion is ...\n",
    "3. The sample standard error is ...\n",
    "4. The boundaries of a confidence interval are ...\n",
    "5. The parameter $p$ is ...\n",
    "6. The elements of bootstrap samples are ...\n",
    "\n",
    "\n",
    "\n",
    "Your answer should be a string containing the letters associated with the terms in the same order as the sentences they complete. For example, one potential solution is \"AAABBAAABB\".\n",
    "\n",
    "_Assign your answer to an object called `answer1.2`._"
   ]
  },
  {
   "cell_type": "code",
   "execution_count": 4,
   "metadata": {
    "nbgrader": {
     "grade": false,
     "grade_id": "cell-463a78463ef1620a",
     "locked": false,
     "schema_version": 3,
     "solution": true,
     "task": false
    }
   },
   "outputs": [
    {
     "data": {
      "text/html": [
       "'BBBBAAAAAAB'"
      ],
      "text/latex": [
       "'BBBBAAAAAAB'"
      ],
      "text/markdown": [
       "'BBBBAAAAAAB'"
      ],
      "text/plain": [
       "[1] \"BBBBAAAAAAB\""
      ]
     },
     "metadata": {},
     "output_type": "display_data"
    }
   ],
   "source": [
    "# answer1.2 <- ...\n",
    "\n",
    "### BEGIN SOLUTION\n",
    "answer1.2 <- \"BBBBAAAAAAB\"\n",
    "### END SOLUTION\n",
    "\n",
    "answer1.2"
   ]
  },
  {
   "cell_type": "code",
   "execution_count": 5,
   "metadata": {
    "nbgrader": {
     "grade": true,
     "grade_id": "cell-5a41cab3328cd70e",
     "locked": true,
     "points": 1,
     "schema_version": 3,
     "solution": false,
     "task": false
    },
    "scrolled": true
   },
   "outputs": [
    {
     "name": "stdout",
     "output_type": "stream",
     "text": [
      "[1] \"Success!\"\n"
     ]
    }
   ],
   "source": [
    "test_1.2()"
   ]
  },
  {
   "cell_type": "markdown",
   "metadata": {
    "nbgrader": {
     "grade": false,
     "grade_id": "cell-8d19530a56cce591",
     "locked": true,
     "schema_version": 3,
     "solution": false,
     "task": false
    }
   },
   "source": [
    "## 2. Introduction to Hypothesis Testing\n",
    "\n",
    "To introduce the idea of hypothesis testing, let us consider the Hepatitis C Virus (HCV) dataset. HCV is a virus that damages the liver. The HCV dataset contains several measurements obtained from blood tests at different stages of the disease, which are, in increasing order of severity: (1) No-Fibrosis; (2) Fibrosis; and (3) Cirrhosis. Let us take a look at the dataset first:"
   ]
  },
  {
   "cell_type": "code",
   "execution_count": 6,
   "metadata": {
    "nbgrader": {
     "grade": false,
     "grade_id": "cell-0a7267736a03a363",
     "locked": true,
     "schema_version": 3,
     "solution": false,
     "task": false
    },
    "scrolled": false
   },
   "outputs": [
    {
     "name": "stderr",
     "output_type": "stream",
     "text": [
      "Parsed with column specification:\n",
      "cols(\n",
      "  category = \u001b[31mcol_character()\u001b[39m,\n",
      "  age = \u001b[32mcol_double()\u001b[39m,\n",
      "  sex = \u001b[31mcol_character()\u001b[39m,\n",
      "  albumin = \u001b[32mcol_double()\u001b[39m,\n",
      "  alkaline_phosphatase = \u001b[32mcol_double()\u001b[39m,\n",
      "  alanine_aminotransferase = \u001b[32mcol_double()\u001b[39m,\n",
      "  `\r\n",
      "aspartate_aminotransferase` = \u001b[32mcol_double()\u001b[39m,\n",
      "  bilirubin = \u001b[32mcol_double()\u001b[39m,\n",
      "  `\r\n",
      "cholinesterase` = \u001b[32mcol_double()\u001b[39m,\n",
      "  `\r\n",
      "cholesterol` = \u001b[32mcol_double()\u001b[39m,\n",
      "  creatinine = \u001b[32mcol_double()\u001b[39m,\n",
      "  gamma_glutamyl_transferase = \u001b[32mcol_double()\u001b[39m,\n",
      "  PROT = \u001b[32mcol_double()\u001b[39m\n",
      ")\n",
      "\n"
     ]
    },
    {
     "data": {
      "text/html": [
       "<table>\n",
       "<caption>A tibble: 6 × 13</caption>\n",
       "<thead>\n",
       "\t<tr><th scope=col>category</th><th scope=col>age</th><th scope=col>sex</th><th scope=col>albumin</th><th scope=col>alkaline_phosphatase</th><th scope=col>alanine_aminotransferase</th><th scope=col>\r\n",
       "aspartate_aminotransferase</th><th scope=col>bilirubin</th><th scope=col>\r\n",
       "cholinesterase</th><th scope=col>\r\n",
       "cholesterol</th><th scope=col>creatinine</th><th scope=col>gamma_glutamyl_transferase</th><th scope=col>PROT</th></tr>\n",
       "\t<tr><th scope=col>&lt;fct&gt;</th><th scope=col>&lt;dbl&gt;</th><th scope=col>&lt;chr&gt;</th><th scope=col>&lt;dbl&gt;</th><th scope=col>&lt;dbl&gt;</th><th scope=col>&lt;dbl&gt;</th><th scope=col>&lt;dbl&gt;</th><th scope=col>&lt;dbl&gt;</th><th scope=col>&lt;dbl&gt;</th><th scope=col>&lt;dbl&gt;</th><th scope=col>&lt;dbl&gt;</th><th scope=col>&lt;dbl&gt;</th><th scope=col>&lt;dbl&gt;</th></tr>\n",
       "</thead>\n",
       "<tbody>\n",
       "\t<tr><td>No-Fibrosis</td><td>38</td><td>m</td><td>45</td><td>56.3</td><td>  NA</td><td> 33.1</td><td> 7</td><td>9.58</td><td>6.00</td><td>77.9</td><td>18.9</td><td>63.0</td></tr>\n",
       "\t<tr><td>No-Fibrosis</td><td>19</td><td>m</td><td>41</td><td>  NA</td><td>87.0</td><td> 67.0</td><td>12</td><td>7.55</td><td>3.90</td><td>62.0</td><td>65.0</td><td>75.0</td></tr>\n",
       "\t<tr><td>No-Fibrosis</td><td>23</td><td>m</td><td>47</td><td>19.1</td><td>38.9</td><td>164.2</td><td>17</td><td>7.09</td><td>3.20</td><td>79.3</td><td>90.4</td><td>70.1</td></tr>\n",
       "\t<tr><td>No-Fibrosis</td><td>25</td><td>m</td><td>42</td><td>38.2</td><td>63.3</td><td>187.7</td><td>14</td><td>6.00</td><td>4.28</td><td>66.9</td><td>40.2</td><td>70.5</td></tr>\n",
       "\t<tr><td>No-Fibrosis</td><td>27</td><td>m</td><td>45</td><td>27.5</td><td>10.5</td><td> 37.8</td><td>10</td><td>8.77</td><td>3.20</td><td>55.2</td><td>35.9</td><td>74.5</td></tr>\n",
       "\t<tr><td>No-Fibrosis</td><td>29</td><td>m</td><td>49</td><td>  NA</td><td>53.0</td><td> 39.0</td><td>15</td><td>8.79</td><td>3.60</td><td>79.0</td><td>37.0</td><td>90.0</td></tr>\n",
       "</tbody>\n",
       "</table>\n"
      ],
      "text/latex": [
       "A tibble: 6 × 13\n",
       "\\begin{tabular}{lllllllllllll}\n",
       " category & age & sex & albumin & alkaline\\_phosphatase & alanine\\_aminotransferase & \r\n",
       "aspartate\\_aminotransferase & bilirubin & \r\n",
       "cholinesterase & \r\n",
       "cholesterol & creatinine & gamma\\_glutamyl\\_transferase & PROT\\\\\n",
       " <fct> & <dbl> & <chr> & <dbl> & <dbl> & <dbl> & <dbl> & <dbl> & <dbl> & <dbl> & <dbl> & <dbl> & <dbl>\\\\\n",
       "\\hline\n",
       "\t No-Fibrosis & 38 & m & 45 & 56.3 &   NA &  33.1 &  7 & 9.58 & 6.00 & 77.9 & 18.9 & 63.0\\\\\n",
       "\t No-Fibrosis & 19 & m & 41 &   NA & 87.0 &  67.0 & 12 & 7.55 & 3.90 & 62.0 & 65.0 & 75.0\\\\\n",
       "\t No-Fibrosis & 23 & m & 47 & 19.1 & 38.9 & 164.2 & 17 & 7.09 & 3.20 & 79.3 & 90.4 & 70.1\\\\\n",
       "\t No-Fibrosis & 25 & m & 42 & 38.2 & 63.3 & 187.7 & 14 & 6.00 & 4.28 & 66.9 & 40.2 & 70.5\\\\\n",
       "\t No-Fibrosis & 27 & m & 45 & 27.5 & 10.5 &  37.8 & 10 & 8.77 & 3.20 & 55.2 & 35.9 & 74.5\\\\\n",
       "\t No-Fibrosis & 29 & m & 49 &   NA & 53.0 &  39.0 & 15 & 8.79 & 3.60 & 79.0 & 37.0 & 90.0\\\\\n",
       "\\end{tabular}\n"
      ],
      "text/markdown": [
       "\n",
       "A tibble: 6 × 13\n",
       "\n",
       "| category &lt;fct&gt; | age &lt;dbl&gt; | sex &lt;chr&gt; | albumin &lt;dbl&gt; | alkaline_phosphatase &lt;dbl&gt; | alanine_aminotransferase &lt;dbl&gt; | \r\n",
       "aspartate_aminotransferase &lt;dbl&gt; | bilirubin &lt;dbl&gt; | \r\n",
       "cholinesterase &lt;dbl&gt; | \r\n",
       "cholesterol &lt;dbl&gt; | creatinine &lt;dbl&gt; | gamma_glutamyl_transferase &lt;dbl&gt; | PROT &lt;dbl&gt; |\n",
       "|---|---|---|---|---|---|---|---|---|---|---|---|---|\n",
       "| No-Fibrosis | 38 | m | 45 | 56.3 |   NA |  33.1 |  7 | 9.58 | 6.00 | 77.9 | 18.9 | 63.0 |\n",
       "| No-Fibrosis | 19 | m | 41 |   NA | 87.0 |  67.0 | 12 | 7.55 | 3.90 | 62.0 | 65.0 | 75.0 |\n",
       "| No-Fibrosis | 23 | m | 47 | 19.1 | 38.9 | 164.2 | 17 | 7.09 | 3.20 | 79.3 | 90.4 | 70.1 |\n",
       "| No-Fibrosis | 25 | m | 42 | 38.2 | 63.3 | 187.7 | 14 | 6.00 | 4.28 | 66.9 | 40.2 | 70.5 |\n",
       "| No-Fibrosis | 27 | m | 45 | 27.5 | 10.5 |  37.8 | 10 | 8.77 | 3.20 | 55.2 | 35.9 | 74.5 |\n",
       "| No-Fibrosis | 29 | m | 49 |   NA | 53.0 |  39.0 | 15 | 8.79 | 3.60 | 79.0 | 37.0 | 90.0 |\n",
       "\n"
      ],
      "text/plain": [
       "  category    age sex albumin alkaline_phosphatase alanine_aminotransferase\n",
       "1 No-Fibrosis 38  m   45      56.3                   NA                    \n",
       "2 No-Fibrosis 19  m   41        NA                 87.0                    \n",
       "3 No-Fibrosis 23  m   47      19.1                 38.9                    \n",
       "4 No-Fibrosis 25  m   42      38.2                 63.3                    \n",
       "5 No-Fibrosis 27  m   45      27.5                 10.5                    \n",
       "6 No-Fibrosis 29  m   49        NA                 53.0                    \n",
       "  \\r\\naspartate_aminotransferase bilirubin \\r\\ncholinesterase \\r\\ncholesterol\n",
       "1  33.1                           7        9.58               6.00           \n",
       "2  67.0                          12        7.55               3.90           \n",
       "3 164.2                          17        7.09               3.20           \n",
       "4 187.7                          14        6.00               4.28           \n",
       "5  37.8                          10        8.77               3.20           \n",
       "6  39.0                          15        8.79               3.60           \n",
       "  creatinine gamma_glutamyl_transferase PROT\n",
       "1 77.9       18.9                       63.0\n",
       "2 62.0       65.0                       75.0\n",
       "3 79.3       90.4                       70.1\n",
       "4 66.9       40.2                       70.5\n",
       "5 55.2       35.9                       74.5\n",
       "6 79.0       37.0                       90.0"
      ]
     },
     "metadata": {},
     "output_type": "display_data"
    }
   ],
   "source": [
    "hcv_dataset <-\n",
    "    read_csv(\"data/hcv-data-set.csv\") %>% \n",
    "    mutate(category = fct_recode(category, \"No-Fibrosis\" = \"Hepatitis\")) %>% \n",
    "    filter(category != \"Blood Donor\") %>% \n",
    "    mutate(category = fct_drop(category))\n",
    "\n",
    "head(hcv_dataset)"
   ]
  },
  {
   "cell_type": "markdown",
   "metadata": {
    "nbgrader": {
     "grade": false,
     "grade_id": "cell-f0f472705a72b9af",
     "locked": true,
     "schema_version": 3,
     "solution": false,
     "task": false
    }
   },
   "source": [
    "Albumin is a protein produced by the liver. Since Hepatitis C causes liver damage, one might suspect that people with hepatitis C would have lower albumin levels than healthy people. Although this is quite reasonable, is there enough evidence to support this claim? The difference in albumin levels might be so big (or so small) that we could easily answer this question with a simple plot. In other cases, however, the answer is not entirely clear. \n",
    "\n",
    "The medical community has established that the average level of albumin in people with a healthy liver is `44g/L`.\n",
    "In the next exercise, you will start investigating the level of albumin in patients carrying HCV. "
   ]
  },
  {
   "cell_type": "markdown",
   "metadata": {
    "nbgrader": {
     "grade": false,
     "grade_id": "cell-981e17ae7a6a3d1a",
     "locked": true,
     "schema_version": 3,
     "solution": false,
     "task": false
    }
   },
   "source": [
    "**Question 2.1**\n",
    "<br>{points: 1}\n",
    "\n",
    "Plot the boxplots of the `albumin` level for each stage of the disease by filling in the scaffolding below. Let us also add a line to represent the level of albumin in people with a healthy liver.\n",
    "\n",
    "_Assign your plot to an object called `boxplots`._"
   ]
  },
  {
   "cell_type": "code",
   "execution_count": 7,
   "metadata": {
    "nbgrader": {
     "grade": false,
     "grade_id": "cell-4cdcaa7f5d2844a1",
     "locked": false,
     "schema_version": 3,
     "solution": true,
     "task": false
    },
    "scrolled": false
   },
   "outputs": [
    {
     "name": "stderr",
     "output_type": "stream",
     "text": [
      "Warning message:\n",
      "“Removed 1 rows containing non-finite values (stat_boxplot).”\n"
     ]
    },
    {
     "data": {
      "image/png": "[encoded data removed]",
      "text/plain": [
       "plot without title"
      ]
     },
     "metadata": {
      "image/png": {
       "height": 420,
       "width": 420
      }
     },
     "output_type": "display_data"
    }
   ],
   "source": [
    "#boxplots <- \n",
    "#    ... %>%  \n",
    "#    ggplot(aes(x = ..., y = albumin)) + \n",
    "#    geom_...() + \n",
    "#    ylab(\"albumin g/L\") +\n",
    "#    ...(...) +\n",
    "#    theme(text = element_text(size=25)) +\n",
    "#    geom_hline(yintercept=..., color=\"blue\")\n",
    "\n",
    "### BEGIN SOLUTION\n",
    "boxplots <- \n",
    "    hcv_dataset %>%  \n",
    "    ggplot(aes(x = category, y = albumin)) + \n",
    "    geom_boxplot() + \n",
    "    ylab(\"albumin g/L\") +\n",
    "    ggtitle(\"Boxplots of albumin levels\") +\n",
    "    theme(text = element_text(size=25)) +\n",
    "    geom_hline(yintercept=44, color=\"blue\")\n",
    "### END SOLUTION\n",
    "boxplots"
   ]
  },
  {
   "cell_type": "code",
   "execution_count": 8,
   "metadata": {
    "nbgrader": {
     "grade": true,
     "grade_id": "cell-142cda7b731649b9",
     "locked": true,
     "points": 1,
     "schema_version": 3,
     "solution": false,
     "task": false
    },
    "scrolled": true
   },
   "outputs": [
    {
     "name": "stdout",
     "output_type": "stream",
     "text": [
      "[1] \"Success!\"\n"
     ]
    }
   ],
   "source": [
    "test_2.1()"
   ]
  },
  {
   "cell_type": "markdown",
   "metadata": {
    "nbgrader": {
     "grade": false,
     "grade_id": "cell-40cf0af5f074419f",
     "locked": true,
     "schema_version": 3,
     "solution": false,
     "task": false
    }
   },
   "source": [
    "**Question 2.2**\n",
    "<br>{points: 1}\n",
    "\n",
    "Compare the boxplots of albumin levels in each group against the mean albumin level of people with healthy livers. Then, for each category, please select the statement you think is most suitable. \n",
    "\n",
    "Statements: \n",
    "\n",
    "a. The boxplot shows a sample distribution that is not compatible with a mean level of albumin of 44g/L. In other words, it would be very surprising (or unlucky!) to obtain such a sample distribution from a population with a mean level of albumin of 44g/L.\n",
    "\n",
    "b. The boxplot shows a sample distribution that is compatible with a mean level of albumin of 44g/L. \n",
    "\n",
    "c. The boxplot shows some indications that the sample does not come from a population with a mean albumin level of 44g/L. However, it is hard to tell if the distinction is due to the sampling variability or a real difference in the mean albumin level.\n",
    "\n",
    "_Assign the letter of the statement `\"a\"`, `\"b\"`, or `\"c\"`, for each of the groups in object `answer2.2`._"
   ]
  },
  {
   "cell_type": "code",
   "execution_count": 9,
   "metadata": {
    "nbgrader": {
     "grade": false,
     "grade_id": "cell-dd814fa3f33bc284",
     "locked": false,
     "schema_version": 3,
     "solution": true,
     "task": false
    }
   },
   "outputs": [
    {
     "data": {
      "text/html": [
       "<style>\n",
       ".dl-inline {width: auto; margin:0; padding: 0}\n",
       ".dl-inline>dt, .dl-inline>dd {float: none; width: auto; display: inline-block}\n",
       ".dl-inline>dt::after {content: \":\\0020\"; padding-right: .5ex}\n",
       ".dl-inline>dt:not(:first-of-type) {padding-left: .5ex}\n",
       "</style><dl class=dl-inline><dt>No-Fibrosis</dt><dd>'b'</dd><dt>Fibrosis</dt><dd>'c'</dd><dt>Cirrhosis</dt><dd>'a'</dd></dl>\n"
      ],
      "text/latex": [
       "\\begin{description*}\n",
       "\\item[No-Fibrosis] 'b'\n",
       "\\item[Fibrosis] 'c'\n",
       "\\item[Cirrhosis] 'a'\n",
       "\\end{description*}\n"
      ],
      "text/markdown": [
       "No-Fibrosis\n",
       ":   'b'Fibrosis\n",
       ":   'c'Cirrhosis\n",
       ":   'a'\n",
       "\n"
      ],
      "text/plain": [
       "No-Fibrosis    Fibrosis   Cirrhosis \n",
       "        \"b\"         \"c\"         \"a\" "
      ]
     },
     "metadata": {},
     "output_type": "display_data"
    }
   ],
   "source": [
    "answer2.2 <- NULL\n",
    "#answer2.2['No-Fibrosis'] <- \n",
    "#answer2.2['Fibrosis'] <- \n",
    "#answer2.2['Cirrhosis'] <- \n",
    "\n",
    "### BEGIN SOLUTION\n",
    "answer2.2['No-Fibrosis'] <- \"b\"\n",
    "answer2.2['Fibrosis'] <- \"c\"\n",
    "answer2.2['Cirrhosis'] <- \"a\"\n",
    "### END SOLUTION\n",
    "\n",
    "answer2.2"
   ]
  },
  {
   "cell_type": "code",
   "execution_count": 10,
   "metadata": {
    "nbgrader": {
     "grade": true,
     "grade_id": "cell-ed48f83d6e0a09ee",
     "locked": true,
     "points": 1,
     "schema_version": 3,
     "solution": false,
     "task": false
    }
   },
   "outputs": [
    {
     "name": "stdout",
     "output_type": "stream",
     "text": [
      "[1] \"Success!\"\n"
     ]
    }
   ],
   "source": [
    "test_2.2()"
   ]
  },
  {
   "cell_type": "markdown",
   "metadata": {
    "nbgrader": {
     "grade": false,
     "grade_id": "cell-a30f3c627bfe96a3",
     "locked": true,
     "schema_version": 3,
     "solution": false,
     "task": false
    }
   },
   "source": [
    "Note that we are not trying to find the plausible values for the true mean of the albumin level for each category based on our sample (which would be a confidence interval). Instead, we are trying to see if the sample we have is compatible with a hypothetical scenario of interest: the categories have the same mean level of albumin as people with a healthy liver. In other words, would it be plausible to obtain the sample we got if the hypothetical scenario of interest was real? \n",
    "\n",
    "Hypothesis testing is like a counter-proof. We are not trying to prove that a hypothetical scenario is real. We are checking if there is enough evidence in our sample to contradict the hypothesis (i.e., our sample is \"too incompatible\" with such a hypothetical scenario).\n",
    "\n",
    "But what is a hypothesis precisely? A hypothesis is a statement about the population. Some examples of hypotheses:\n",
    "\n",
    "1. The population is normally distributed.\n",
    "2. The populational mean, $\\mu$, is equal to a specified value $\\mu_0$.\n",
    "3. The populational proportion, $p$, is higher than a specified value of $p_0$. \n",
    "\n",
    "Although a hypothesis can be more general (like Example 1 above), hypotheses frequently refer to a population parameter such as mean, proportion, or variance. A hypothesis testing consists of two competing hypotheses: (1) $H_0$, the _null hypothesis_; and (2) $H_A$ (or $H_1$), the alternative hypothesis. The null hypothesis is generally the status quo, i.e., the hypothesis that no change has happened. It is assumed that $H_0$ and $H_A$ cover all the possible scenarios. (this means that either $H_0$ or $H_A$ is true -- but we do not know which). "
   ]
  },
  {
   "cell_type": "markdown",
   "metadata": {
    "nbgrader": {
     "grade": false,
     "grade_id": "cell-adaf773afe499f58",
     "locked": true,
     "schema_version": 3,
     "solution": false,
     "task": false
    }
   },
   "source": [
    "**Question 2.3**\n",
    "<br>{points: 1}\n",
    "\n",
    "In HCV dataset, we are investigating if the liver damage caused by the Hepatitis C Virus will reduce the albumin level compared to people with a healthy liver. What is the _null hypothesis_ we are testing?\n",
    "\n",
    "A. $H_0: \\mu<44g/L$\n",
    "\n",
    "B. $H_0: \\mu=44g/L$\n",
    "\n",
    "C. $H_0: \\mu>44g/L$\n",
    "\n",
    "D. $H_0: \\mu\\neq44g/L$\n",
    "\n",
    "\n",
    "_Assign your answer to an object called `answer2.3`. Your answer should be one of `\"A\"`, `\"B\"`, `\"C\"`, or `\"D\"`._"
   ]
  },
  {
   "cell_type": "code",
   "execution_count": 11,
   "metadata": {
    "nbgrader": {
     "grade": false,
     "grade_id": "cell-50c85bb29980ef39",
     "locked": false,
     "schema_version": 3,
     "solution": true,
     "task": false
    }
   },
   "outputs": [
    {
     "data": {
      "text/html": [
       "'B'"
      ],
      "text/latex": [
       "'B'"
      ],
      "text/markdown": [
       "'B'"
      ],
      "text/plain": [
       "[1] \"B\""
      ]
     },
     "metadata": {},
     "output_type": "display_data"
    }
   ],
   "source": [
    "#answer2.3 <- \n",
    "\n",
    "### BEGIN SOLUTION\n",
    "answer2.3 <- \"B\"\n",
    "### END SOLUTION\n",
    "\n",
    "answer2.3"
   ]
  },
  {
   "cell_type": "code",
   "execution_count": 12,
   "metadata": {
    "nbgrader": {
     "grade": true,
     "grade_id": "cell-720a6790dabd7f53",
     "locked": true,
     "points": 1,
     "schema_version": 3,
     "solution": false,
     "task": false
    }
   },
   "outputs": [
    {
     "name": "stdout",
     "output_type": "stream",
     "text": [
      "[1] \"Success!\"\n"
     ]
    }
   ],
   "source": [
    "test_2.3()"
   ]
  },
  {
   "cell_type": "markdown",
   "metadata": {
    "nbgrader": {
     "grade": false,
     "grade_id": "cell-f53bf5feaaa303da",
     "locked": true,
     "schema_version": 3,
     "solution": false,
     "task": false
    }
   },
   "source": [
    "**Question 2.4**\n",
    "<br>{points: 1}\n",
    "\n",
    "In HCV dataset, we are investigating if the liver damage caused by the Hepatitis C Virus will reduce the albumin level compared to people with a healthy liver. What is the _alternative hypothesis_?\n",
    "\n",
    "A. $H_A: \\mu<44g/L$\n",
    "\n",
    "B. $H_A: \\mu=44g/L$\n",
    "\n",
    "C. $H_A: \\mu>44g/L$\n",
    "\n",
    "D. $H_A: \\mu\\neq44g/L$\n",
    "\n",
    "\n",
    "_Assign your answer to an object called `answer2.4`. Your answer should be one of `\"A\"`, `\"B\"`, `\"C\"`, or `\"D\"`._"
   ]
  },
  {
   "cell_type": "code",
   "execution_count": 13,
   "metadata": {
    "nbgrader": {
     "grade": false,
     "grade_id": "cell-36a6bff87314be9c",
     "locked": false,
     "schema_version": 3,
     "solution": true,
     "task": false
    }
   },
   "outputs": [
    {
     "data": {
      "text/html": [
       "'A'"
      ],
      "text/latex": [
       "'A'"
      ],
      "text/markdown": [
       "'A'"
      ],
      "text/plain": [
       "[1] \"A\""
      ]
     },
     "metadata": {},
     "output_type": "display_data"
    }
   ],
   "source": [
    "#answer2.4 <- \n",
    "\n",
    "### BEGIN SOLUTION\n",
    "answer2.4 <- \"A\"\n",
    "### END SOLUTION\n",
    "\n",
    "answer2.4"
   ]
  },
  {
   "cell_type": "code",
   "execution_count": 14,
   "metadata": {
    "nbgrader": {
     "grade": true,
     "grade_id": "cell-88ba1a92407fbf91",
     "locked": true,
     "points": 1,
     "schema_version": 3,
     "solution": false,
     "task": false
    }
   },
   "outputs": [
    {
     "name": "stdout",
     "output_type": "stream",
     "text": [
      "[1] \"Success!\"\n"
     ]
    }
   ],
   "source": [
    "test_2.4()"
   ]
  },
  {
   "cell_type": "markdown",
   "metadata": {
    "nbgrader": {
     "grade": false,
     "grade_id": "cell-4eb9be4b25659fa5",
     "locked": true,
     "schema_version": 3,
     "solution": false,
     "task": false
    }
   },
   "source": [
    "Now that you have your _null hypothesis_ and _alternative hypothesis_ defined, it is time to conduct the hypothesis test, i.e., to check if there is enough evidence in your data to say that the _null hypothesis_ is false. But first, we need to understand what is meant by \"enough evidence\".  "
   ]
  },
  {
   "cell_type": "markdown",
   "metadata": {
    "nbgrader": {
     "grade": false,
     "grade_id": "cell-b107f2eb2a6a1d81",
     "locked": true,
     "schema_version": 3,
     "solution": false,
     "task": false
    }
   },
   "source": [
    "**Question 2.5**\n",
    "<br>{points: 3}\n",
    "\n",
    "For now, assume that the `hcv_dataset` contains the entire population of patients with `Fibrosis`. Your job is to do three things: \n",
    "\n",
    "A. Fill in the code below to get the mean albumin level of patients with `Fibrosis`. \n",
    "_Assign the result to an object called `answer2.5_A`_.\n",
    "\n",
    "B. Is the albumin level of patients with `Fibrosis` the same, lower, or higher than the albumin level of patients with healthy liver? _Assign the string \"lower\", \"same\", or \"higher\", to an object called `answer2.5_B`_.\n",
    "\n",
    "C. True or false: we can conclude with absolute certainty, just based on the mean value obtained in `Item A`, that the mean albumin level of patients with `Fibrosis` is lower than that of patients with a healthy liver. _Assign \"TRUE\" or \"FALSE\" to an object called `answer2.5_C`_ "
   ]
  },
  {
   "cell_type": "code",
   "execution_count": 15,
   "metadata": {
    "nbgrader": {
     "grade": false,
     "grade_id": "cell-400fb89f00feab05",
     "locked": false,
     "schema_version": 3,
     "solution": true,
     "task": false
    }
   },
   "outputs": [
    {
     "data": {
      "text/html": [
       "<table>\n",
       "<caption>A tibble: 1 × 1</caption>\n",
       "<thead>\n",
       "\t<tr><th scope=col>mean_albumin</th></tr>\n",
       "\t<tr><th scope=col>&lt;dbl&gt;</th></tr>\n",
       "</thead>\n",
       "<tbody>\n",
       "\t<tr><td>41.7619</td></tr>\n",
       "</tbody>\n",
       "</table>\n"
      ],
      "text/latex": [
       "A tibble: 1 × 1\n",
       "\\begin{tabular}{l}\n",
       " mean\\_albumin\\\\\n",
       " <dbl>\\\\\n",
       "\\hline\n",
       "\t 41.7619\\\\\n",
       "\\end{tabular}\n"
      ],
      "text/markdown": [
       "\n",
       "A tibble: 1 × 1\n",
       "\n",
       "| mean_albumin &lt;dbl&gt; |\n",
       "|---|\n",
       "| 41.7619 |\n",
       "\n"
      ],
      "text/plain": [
       "  mean_albumin\n",
       "1 41.7619     "
      ]
     },
     "metadata": {},
     "output_type": "display_data"
    },
    {
     "data": {
      "text/html": [
       "'lower'"
      ],
      "text/latex": [
       "'lower'"
      ],
      "text/markdown": [
       "'lower'"
      ],
      "text/plain": [
       "[1] \"lower\""
      ]
     },
     "metadata": {},
     "output_type": "display_data"
    },
    {
     "data": {
      "text/html": [
       "'true'"
      ],
      "text/latex": [
       "'true'"
      ],
      "text/markdown": [
       "'true'"
      ],
      "text/plain": [
       "[1] \"true\""
      ]
     },
     "metadata": {},
     "output_type": "display_data"
    }
   ],
   "source": [
    "#answer2.5_A <- \n",
    "#    hcv_dataset %>% \n",
    "#    filter(category == ...) %>% \n",
    "#    summarise(mean_albumin = ...)\n",
    "\n",
    "#answer2.5_B <- ...\n",
    "#answer2.5_C <- ...\n",
    "\n",
    "### BEGIN SOLUTION\n",
    "answer2.5_A <- \n",
    "    hcv_dataset %>% \n",
    "    filter(category == \"Fibrosis\") %>% \n",
    "    summarise(mean_albumin = mean(albumin))\n",
    "\n",
    "answer2.5_B <- \"lower\"\n",
    "answer2.5_C <- \"true\"\n",
    "### END SOLUTION\n",
    "\n",
    "answer2.5_A\n",
    "answer2.5_B \n",
    "answer2.5_C"
   ]
  },
  {
   "cell_type": "code",
   "execution_count": 16,
   "metadata": {
    "nbgrader": {
     "grade": true,
     "grade_id": "cell-ca750fa0213a3a9c",
     "locked": true,
     "points": 1,
     "schema_version": 3,
     "solution": false,
     "task": false
    },
    "scrolled": true
   },
   "outputs": [
    {
     "name": "stdout",
     "output_type": "stream",
     "text": [
      "[1] \"Success!\"\n"
     ]
    }
   ],
   "source": [
    "test_2.5_A()"
   ]
  },
  {
   "cell_type": "code",
   "execution_count": 17,
   "metadata": {
    "nbgrader": {
     "grade": true,
     "grade_id": "cell-b251443d674f48d8",
     "locked": true,
     "points": 1,
     "schema_version": 3,
     "solution": false,
     "task": false
    }
   },
   "outputs": [
    {
     "name": "stdout",
     "output_type": "stream",
     "text": [
      "[1] \"Success!\"\n"
     ]
    }
   ],
   "source": [
    "test_2.5_B()"
   ]
  },
  {
   "cell_type": "code",
   "execution_count": 18,
   "metadata": {
    "nbgrader": {
     "grade": true,
     "grade_id": "cell-598a5727cd1cd67f",
     "locked": true,
     "points": 1,
     "schema_version": 3,
     "solution": false,
     "task": false
    }
   },
   "outputs": [
    {
     "name": "stdout",
     "output_type": "stream",
     "text": [
      "[1] \"Success!\"\n"
     ]
    }
   ],
   "source": [
    "test_2.5_C()"
   ]
  },
  {
   "cell_type": "markdown",
   "metadata": {
    "nbgrader": {
     "grade": false,
     "grade_id": "cell-44834540512a6784",
     "locked": true,
     "schema_version": 3,
     "solution": false,
     "task": false
    }
   },
   "source": [
    "However, contrary to the previous question's assumption, `hcv_dataset` does not contain the entire population of patients with `Fibrosis`. We do not have access to the entire population, so we cannot calculate the parameter of interest and compare it with the hypothesized value. The decision to reject or not reject $H_0$ will be based on a sample. The first thing we need to decide is the sample statistic that we will use to test the _null hypothesis_. This statistic is known as _test statistic_. "
   ]
  },
  {
   "cell_type": "markdown",
   "metadata": {
    "nbgrader": {
     "grade": false,
     "grade_id": "cell-4ccb5e1f2ff272fb",
     "locked": true,
     "schema_version": 3,
     "solution": false,
     "task": false
    }
   },
   "source": [
    "**Question 2.6**\n",
    "<br>{points: 3}\n",
    "\n",
    "Considering the two hypotheses defined in Questions 2.3 and 2.4, which of the statistics below is adequate to be used as the test statistic?\n",
    "\n",
    "A. the sample median $Q_2$.\n",
    "\n",
    "B. the sample mean $\\bar{x}$.\n",
    "\n",
    "C. the sample standard deviation: $s=\\sqrt{\\frac{1}{n-1}\\sum_{i=1}^n\\left(x_i-\\bar{x}\\right)^2}$\n",
    "\n",
    "D. the constant $\\mu_0 = 44$\n",
    "\n",
    "_Assign your answer to an object called `answer2.6`. Your answer should be a single character surrounded by quotes._"
   ]
  },
  {
   "cell_type": "code",
   "execution_count": 19,
   "metadata": {
    "nbgrader": {
     "grade": false,
     "grade_id": "cell-aa173f406c5f76bd",
     "locked": false,
     "schema_version": 3,
     "solution": true,
     "task": false
    }
   },
   "outputs": [
    {
     "data": {
      "text/html": [
       "'B'"
      ],
      "text/latex": [
       "'B'"
      ],
      "text/markdown": [
       "'B'"
      ],
      "text/plain": [
       "[1] \"B\""
      ]
     },
     "metadata": {},
     "output_type": "display_data"
    }
   ],
   "source": [
    "# answer2.6 <- ...\n",
    "\n",
    "### BEGIN SOLUTION\n",
    "answer2.6 <- \"B\"\n",
    "### END SOLUTION\n",
    "\n",
    "answer2.6"
   ]
  },
  {
   "cell_type": "code",
   "execution_count": 20,
   "metadata": {
    "nbgrader": {
     "grade": true,
     "grade_id": "cell-99a05ff3bf3d3010",
     "locked": true,
     "points": 3,
     "schema_version": 3,
     "solution": false,
     "task": false
    }
   },
   "outputs": [
    {
     "name": "stdout",
     "output_type": "stream",
     "text": [
      "[1] \"Success!\"\n"
     ]
    }
   ],
   "source": [
    "test_2.6()"
   ]
  },
  {
   "cell_type": "markdown",
   "metadata": {
    "nbgrader": {
     "grade": false,
     "grade_id": "cell-3eabc3b367db3a2d",
     "locked": true,
     "schema_version": 3,
     "solution": false,
     "task": false
    }
   },
   "source": [
    "**Question 2.7**\n",
    "<br>{points: 3}\n",
    "\n",
    "A difficulty that arises is that the test statistic is dependent on the sample. Different samples provide different values for the test statistic. Therefore, we cannot just compare the test statistic's value with the hypothesized value of 44 g/L of albumin.\n",
    "\n",
    "In this exercise, you will obtain the bootstrapped sampling distribution of your test statistic using 10,000 replications. \n",
    "\n",
    "_Assign your answer to an object called `samp_dist_mean_albumin`._"
   ]
  },
  {
   "cell_type": "code",
   "execution_count": 21,
   "metadata": {
    "nbgrader": {
     "grade": false,
     "grade_id": "cell-2b596aa28283a4b5",
     "locked": false,
     "schema_version": 3,
     "solution": true,
     "task": false
    }
   },
   "outputs": [
    {
     "data": {
      "text/html": [
       "<table>\n",
       "<caption>A tibble: 6 × 2</caption>\n",
       "<thead>\n",
       "\t<tr><th scope=col>replicate</th><th scope=col>stat</th></tr>\n",
       "\t<tr><th scope=col>&lt;int&gt;</th><th scope=col>&lt;dbl&gt;</th></tr>\n",
       "</thead>\n",
       "<tbody>\n",
       "\t<tr><td>1</td><td>42.14286</td></tr>\n",
       "\t<tr><td>2</td><td>41.90476</td></tr>\n",
       "\t<tr><td>3</td><td>42.95238</td></tr>\n",
       "\t<tr><td>4</td><td>41.80952</td></tr>\n",
       "\t<tr><td>5</td><td>40.76190</td></tr>\n",
       "\t<tr><td>6</td><td>41.76190</td></tr>\n",
       "</tbody>\n",
       "</table>\n"
      ],
      "text/latex": [
       "A tibble: 6 × 2\n",
       "\\begin{tabular}{ll}\n",
       " replicate & stat\\\\\n",
       " <int> & <dbl>\\\\\n",
       "\\hline\n",
       "\t 1 & 42.14286\\\\\n",
       "\t 2 & 41.90476\\\\\n",
       "\t 3 & 42.95238\\\\\n",
       "\t 4 & 41.80952\\\\\n",
       "\t 5 & 40.76190\\\\\n",
       "\t 6 & 41.76190\\\\\n",
       "\\end{tabular}\n"
      ],
      "text/markdown": [
       "\n",
       "A tibble: 6 × 2\n",
       "\n",
       "| replicate &lt;int&gt; | stat &lt;dbl&gt; |\n",
       "|---|---|\n",
       "| 1 | 42.14286 |\n",
       "| 2 | 41.90476 |\n",
       "| 3 | 42.95238 |\n",
       "| 4 | 41.80952 |\n",
       "| 5 | 40.76190 |\n",
       "| 6 | 41.76190 |\n",
       "\n"
      ],
      "text/plain": [
       "  replicate stat    \n",
       "1 1         42.14286\n",
       "2 2         41.90476\n",
       "3 3         42.95238\n",
       "4 4         41.80952\n",
       "5 5         40.76190\n",
       "6 6         41.76190"
      ]
     },
     "metadata": {},
     "output_type": "display_data"
    }
   ],
   "source": [
    "set.seed(7) # Do not change this!\n",
    "\n",
    "fibrosis <-                         \n",
    "    hcv_dataset %>%                 \n",
    "    filter(category == \"Fibrosis\") \n",
    "\n",
    "#samp_dist_mean_albumin <- \n",
    "#     fibrosis %>% \n",
    "#     specify(response = ...) %>% \n",
    "#     generate(type = ..., reps = ...) %>% \n",
    "#     calculate(stat = ...)\n",
    "\n",
    "\n",
    "### BEGIN SOLUTION\n",
    "samp_dist_mean_albumin <- \n",
    "     fibrosis %>% \n",
    "     specify(response = albumin) %>% \n",
    "     generate(type = \"bootstrap\", reps = 10000) %>% \n",
    "     calculate(stat = \"mean\")\n",
    "### END SOLUTION\n",
    "\n",
    "head(samp_dist_mean_albumin)"
   ]
  },
  {
   "cell_type": "code",
   "execution_count": 22,
   "metadata": {
    "nbgrader": {
     "grade": true,
     "grade_id": "cell-e517af59db67cd28",
     "locked": true,
     "points": 3,
     "schema_version": 3,
     "solution": false,
     "task": false
    }
   },
   "outputs": [
    {
     "name": "stdout",
     "output_type": "stream",
     "text": [
      "[1] \"Success!\"\n"
     ]
    }
   ],
   "source": [
    "test_2.7()"
   ]
  },
  {
   "cell_type": "markdown",
   "metadata": {
    "nbgrader": {
     "grade": false,
     "grade_id": "cell-534fe94c5ad08e89",
     "locked": true,
     "schema_version": 3,
     "solution": false,
     "task": false
    }
   },
   "source": [
    "**Question 2.8**\n",
    "<br>{points: 1}\n",
    "\n",
    "Fill in the code below to obtain the observed test statistic. \n",
    "\n",
    "_Assign your answer to an object named `obs_test_stat`_."
   ]
  },
  {
   "cell_type": "code",
   "execution_count": 23,
   "metadata": {
    "nbgrader": {
     "grade": false,
     "grade_id": "cell-0e2236a9137d0c08",
     "locked": false,
     "schema_version": 3,
     "solution": true,
     "task": false
    }
   },
   "outputs": [
    {
     "data": {
      "text/html": [
       "41.7619047619048"
      ],
      "text/latex": [
       "41.7619047619048"
      ],
      "text/markdown": [
       "41.7619047619048"
      ],
      "text/plain": [
       "[1] 41.7619"
      ]
     },
     "metadata": {},
     "output_type": "display_data"
    }
   ],
   "source": [
    "#obs_test_stat <- ...(fibrosis$albumin)\n",
    "\n",
    "### BEGIN SOLUTION\n",
    "obs_test_stat <- mean(fibrosis$albumin)\n",
    "### END SOLUTION\n",
    "\n",
    "obs_test_stat"
   ]
  },
  {
   "cell_type": "code",
   "execution_count": 24,
   "metadata": {
    "nbgrader": {
     "grade": true,
     "grade_id": "cell-4cfc9bf55e3007fe",
     "locked": true,
     "points": 1,
     "schema_version": 3,
     "solution": false,
     "task": false
    }
   },
   "outputs": [
    {
     "name": "stdout",
     "output_type": "stream",
     "text": [
      "[1] \"Success!\"\n"
     ]
    }
   ],
   "source": [
    "test_2.8()"
   ]
  },
  {
   "cell_type": "markdown",
   "metadata": {
    "nbgrader": {
     "grade": false,
     "grade_id": "cell-5c7d1b43c64e2140",
     "locked": true,
     "schema_version": 3,
     "solution": false,
     "task": false
    }
   },
   "source": [
    "**Question 2.9**\n",
    "<br>{points: 3}\n",
    "\n",
    "Fill in the code below to plot the bootstrap sampling distribution you obtained in Question 2.7.\n",
    "\n",
    "_Assign your answer to an object called `samp_dist_mean_albumin_plot`._"
   ]
  },
  {
   "cell_type": "code",
   "execution_count": 25,
   "metadata": {
    "nbgrader": {
     "grade": false,
     "grade_id": "cell-ad2ae437dc251c1a",
     "locked": false,
     "schema_version": 3,
     "solution": true,
     "task": false
    },
    "scrolled": false
   },
   "outputs": [
    {
     "data": {
      "image/png": "[encoded data removed]",
      "text/plain": [
       "plot without title"
      ]
     },
     "metadata": {
      "image/png": {
       "height": 420,
       "width": 420
      }
     },
     "output_type": "display_data"
    }
   ],
   "source": [
    "#samp_dist_mean_albumin_plot <- \n",
    "#     ... %>% \n",
    "#     ggplot() + \n",
    "#     geom_...(aes(..), bins = 15, color=\"white\") +\n",
    "#     geom_vline(xintercept = obs_test_stat, color = \"red\", alpha=.3, lwd=2) + \n",
    "#     xlab(...) + \n",
    "#     theme(text = element_text(size=25)) + \n",
    "#     ggtitle(\"Bootstrapped sampling dist.\", subtitle = \"Mean albumin level \") +\n",
    "#     annotate(\"text\", x = 43.6, y = 2150, label = \"Observed test statistic\", color=\"red\", size=7)\n",
    "\n",
    "### BEGIN SOLUTION\n",
    "samp_dist_mean_albumin_plot <- \n",
    "     samp_dist_mean_albumin %>% \n",
    "     ggplot() + \n",
    "     geom_histogram(aes(stat), bins = 15, color=\"white\") +\n",
    "     geom_vline(xintercept = obs_test_stat, color = \"red\", alpha=.3, lwd=2) + \n",
    "     xlab(\"Mean albumin level (g/L)\") + \n",
    "     theme(text = element_text(size=25)) + \n",
    "     ggtitle(\"Bootstrapped sampling dist.\", subtitle = \"Mean albumin level \") +\n",
    "     annotate(\"text\", x = 43.6, y = 2150, label = \"Observed test statistic\", color=\"red\", size=7)\n",
    "### END SOLUTION\n",
    "\n",
    "samp_dist_mean_albumin_plot"
   ]
  },
  {
   "cell_type": "code",
   "execution_count": 26,
   "metadata": {
    "nbgrader": {
     "grade": true,
     "grade_id": "cell-aa367db5ce3307ea",
     "locked": true,
     "points": 3,
     "schema_version": 3,
     "solution": false,
     "task": false
    }
   },
   "outputs": [
    {
     "name": "stdout",
     "output_type": "stream",
     "text": [
      "[1] \"Success!\"\n"
     ]
    }
   ],
   "source": [
    "test_2.9()"
   ]
  },
  {
   "cell_type": "markdown",
   "metadata": {
    "nbgrader": {
     "grade": false,
     "grade_id": "cell-9b286f02e09aef4b",
     "locked": true,
     "schema_version": 3,
     "solution": false,
     "task": false
    }
   },
   "source": [
    "**Question 2.10: the Null model**\n",
    "<br>{points: 3}\n",
    "\n",
    "The test statistic's sampling distribution under the _null hypothesis_ ($H_0$) is called _null model_ or _null distribution_. Up to now, you have been studying the sampling distribution of a statistic using bootstrap simulation. This time you will use bootstrap to examine how the sampling distribution of your test statistic would look like if $H_0$ were true. \n",
    "\n",
    "The _null hypothesis_ states that the population mean is 44 g/L, which implies that, under $H_0$, the mean of the test statistic's sampling distribution is 44 g/L. Your job here is to obtain the _null model_ by recentering the sampling distribution stored in `samp_dist_mean_albumin` to 44 g/L.\n",
    "\n",
    "_Assign your answer to an object named `null_model`_."
   ]
  },
  {
   "cell_type": "code",
   "execution_count": 27,
   "metadata": {
    "nbgrader": {
     "grade": false,
     "grade_id": "cell-4f5a2f488ea65f69",
     "locked": false,
     "schema_version": 3,
     "solution": true,
     "task": false
    }
   },
   "outputs": [
    {
     "data": {
      "text/html": [
       "<table>\n",
       "<caption>A tibble: 6 × 2</caption>\n",
       "<thead>\n",
       "\t<tr><th scope=col>replicate</th><th scope=col>stat</th></tr>\n",
       "\t<tr><th scope=col>&lt;int&gt;</th><th scope=col>&lt;dbl&gt;</th></tr>\n",
       "</thead>\n",
       "<tbody>\n",
       "\t<tr><td>1</td><td>44.38095</td></tr>\n",
       "\t<tr><td>2</td><td>44.14286</td></tr>\n",
       "\t<tr><td>3</td><td>45.19048</td></tr>\n",
       "\t<tr><td>4</td><td>44.04762</td></tr>\n",
       "\t<tr><td>5</td><td>43.00000</td></tr>\n",
       "\t<tr><td>6</td><td>44.00000</td></tr>\n",
       "</tbody>\n",
       "</table>\n"
      ],
      "text/latex": [
       "A tibble: 6 × 2\n",
       "\\begin{tabular}{ll}\n",
       " replicate & stat\\\\\n",
       " <int> & <dbl>\\\\\n",
       "\\hline\n",
       "\t 1 & 44.38095\\\\\n",
       "\t 2 & 44.14286\\\\\n",
       "\t 3 & 45.19048\\\\\n",
       "\t 4 & 44.04762\\\\\n",
       "\t 5 & 43.00000\\\\\n",
       "\t 6 & 44.00000\\\\\n",
       "\\end{tabular}\n"
      ],
      "text/markdown": [
       "\n",
       "A tibble: 6 × 2\n",
       "\n",
       "| replicate &lt;int&gt; | stat &lt;dbl&gt; |\n",
       "|---|---|\n",
       "| 1 | 44.38095 |\n",
       "| 2 | 44.14286 |\n",
       "| 3 | 45.19048 |\n",
       "| 4 | 44.04762 |\n",
       "| 5 | 43.00000 |\n",
       "| 6 | 44.00000 |\n",
       "\n"
      ],
      "text/plain": [
       "  replicate stat    \n",
       "1 1         44.38095\n",
       "2 2         44.14286\n",
       "3 3         45.19048\n",
       "4 4         44.04762\n",
       "5 5         43.00000\n",
       "6 6         44.00000"
      ]
     },
     "metadata": {},
     "output_type": "display_data"
    }
   ],
   "source": [
    "#null_model <- \n",
    "    #samp_dist_mean_albumin %>% \n",
    "    #mutate(...)\n",
    "\n",
    "### BEGIN SOLUTION\n",
    "null_model <- \n",
    "    samp_dist_mean_albumin %>% \n",
    "    mutate(stat = stat + (44-obs_test_stat))\n",
    "### END SOLUTION\n",
    "\n",
    "head(null_model)"
   ]
  },
  {
   "cell_type": "code",
   "execution_count": 28,
   "metadata": {
    "nbgrader": {
     "grade": true,
     "grade_id": "cell-3b4192310ddeb76c",
     "locked": true,
     "points": 3,
     "schema_version": 3,
     "solution": false,
     "task": false
    }
   },
   "outputs": [
    {
     "name": "stdout",
     "output_type": "stream",
     "text": [
      "[1] \"Success!\"\n"
     ]
    }
   ],
   "source": [
    "test_2.10()"
   ]
  },
  {
   "cell_type": "markdown",
   "metadata": {
    "nbgrader": {
     "grade": false,
     "grade_id": "cell-0d4feaa2be943a8f",
     "locked": true,
     "schema_version": 3,
     "solution": false,
     "task": false
    }
   },
   "source": [
    "**Question 2.11: the Null model**\n",
    "<br>{points: 3}\n",
    "\n",
    "Fill in the code below to plot the _null model_ you obtained in the previous question. Also, add a vertical line to the plot at the observed value of the test statistic. \n",
    "\n",
    "_Assign your answer to an object called `null_model_plot`_."
   ]
  },
  {
   "cell_type": "code",
   "execution_count": 29,
   "metadata": {
    "nbgrader": {
     "grade": false,
     "grade_id": "cell-0399578e172109d3",
     "locked": false,
     "schema_version": 3,
     "solution": true,
     "task": false
    }
   },
   "outputs": [
    {
     "data": {
      "image/png": "[encoded data removed]",
      "text/plain": [
       "plot without title"
      ]
     },
     "metadata": {
      "image/png": {
       "height": 420,
       "width": 420
      }
     },
     "output_type": "display_data"
    }
   ],
   "source": [
    "#null_model_plot <-\n",
    "#     null_model %>% \n",
    "#     ggplot() +\n",
    "#     geom_...(..., bins = 15, color=\"white\") +\n",
    "#     geom_vline(xintercept = obs_test_stat, color = \"red\", alpha=.3, lwd=2) + \n",
    "#     xlab(\"Mean albumin level (g/L)\") + \n",
    "#     theme(text = element_text(size=25)) + \n",
    "#     ggtitle(\"Simulated null distribution\", subtitle = \"Mean albumin level\") +\n",
    "#     annotate(\"text\", x = 43.6, y = 2200, label = \"Observed test statistic\", color=\"red\", size=7)\n",
    "\n",
    "### BEGIN SOLUTION\n",
    "null_model_plot <-\n",
    "     null_model %>% \n",
    "     ggplot() +\n",
    "     geom_histogram(aes(stat), bins = 15, color=\"white\") +\n",
    "     geom_vline(xintercept = obs_test_stat, color = \"red\", alpha=.3, lwd=2) + \n",
    "     xlab(\"Mean albumin level (g/L)\") + \n",
    "     theme(text = element_text(size=25)) + \n",
    "     ggtitle(\"Simulated null distribution\", subtitle = \"Mean albumin level \") +\n",
    "     annotate(\"text\", x = 43.6, y = 2200, label = \"Observed test statistic\", color=\"red\", size=7)\n",
    "### END SOLUTION\n",
    "\n",
    "null_model_plot"
   ]
  },
  {
   "cell_type": "code",
   "execution_count": 30,
   "metadata": {
    "nbgrader": {
     "grade": true,
     "grade_id": "cell-facc05c4de74cf40",
     "locked": true,
     "points": 3,
     "schema_version": 3,
     "solution": false,
     "task": false
    }
   },
   "outputs": [
    {
     "name": "stdout",
     "output_type": "stream",
     "text": [
      "[1] \"Success!\"\n"
     ]
    }
   ],
   "source": [
    "test_2.11()"
   ]
  },
  {
   "cell_type": "markdown",
   "metadata": {
    "nbgrader": {
     "grade": false,
     "grade_id": "cell-2c1cb5c383d5a16d",
     "locked": true,
     "schema_version": 3,
     "solution": false,
     "task": false
    }
   },
   "source": [
    "**Question 2.12: p-value**\n",
    "<br>{points: 3}\n",
    "\n",
    "Is the observed value of the test statistic a plausible value to be obtained if $H_0$ were true? To answer this question, you will calculate the probability of getting a value more \"extreme\" than the observed test statistic under the null distribution. This probability is called _p-value_. \n",
    "\n",
    "_Assign your answer to an object called p_value_."
   ]
  },
  {
   "cell_type": "code",
   "execution_count": 31,
   "metadata": {
    "nbgrader": {
     "grade": false,
     "grade_id": "cell-09c7dc2a6bccdfcd",
     "locked": false,
     "schema_version": 3,
     "solution": true,
     "task": false
    }
   },
   "outputs": [
    {
     "data": {
      "text/html": [
       "0.0017"
      ],
      "text/latex": [
       "0.0017"
      ],
      "text/markdown": [
       "0.0017"
      ],
      "text/plain": [
       "[1] 0.0017"
      ]
     },
     "metadata": {},
     "output_type": "display_data"
    }
   ],
   "source": [
    "#p_value <- mean(null_model$stat < ...)\n",
    "\n",
    "### BEGIN SOLUTION\n",
    "p_value <- mean(null_model$stat < obs_test_stat)\n",
    "### END SOLUTION\n",
    "\n",
    "p_value"
   ]
  },
  {
   "cell_type": "code",
   "execution_count": 32,
   "metadata": {
    "nbgrader": {
     "grade": true,
     "grade_id": "cell-155a227436cbec99",
     "locked": true,
     "points": 3,
     "schema_version": 3,
     "solution": false,
     "task": false
    }
   },
   "outputs": [
    {
     "name": "stdout",
     "output_type": "stream",
     "text": [
      "[1] \"Success!\"\n"
     ]
    }
   ],
   "source": [
    "test_2.12()"
   ]
  },
  {
   "cell_type": "markdown",
   "metadata": {
    "nbgrader": {
     "grade": false,
     "grade_id": "cell-639f0185ddda5751",
     "locked": true,
     "schema_version": 3,
     "solution": false,
     "task": false
    }
   },
   "source": [
    "**Question 2.13: Decision**\n",
    "<br>{points: 3}\n",
    "\n",
    "Based on the _p-value_ you got in the previous question, which of the following you think better describes the situation?\n",
    "\n",
    "A. The low value of the p-value shows that it is entirely plausible to obtain the observed test statistic if $H_0$ were true. Therefore, $H_0$ should not be rejected.\n",
    "\n",
    "B. The low value of the p-value shows that it is quite unlikely to get the observed test statistic if $H_0$ were true, which _certainly_ shows that $H_0$ is false. Therefore, $H_0$ should be rejected. \n",
    "\n",
    "C. The low value of the p-value shows that it is quite unlikely to get the observed test statistic if $H_0$ were true, which _suggests_ that $H_0$ is false. Therefore, $H_0$ should be rejected. \n",
    "\n",
    "D. The _p-value_ is quite low, and since the _p-value_ is the probability that $H_0$ is true, we should reject $H_0$. \n",
    "\n",
    "_Assign your answer to an object called `answer2.13`. Your answer should be a single character surrounded by quotes._"
   ]
  },
  {
   "cell_type": "code",
   "execution_count": 33,
   "metadata": {
    "nbgrader": {
     "grade": false,
     "grade_id": "cell-20732de06b1c49f8",
     "locked": false,
     "schema_version": 3,
     "solution": true,
     "task": false
    }
   },
   "outputs": [
    {
     "data": {
      "text/html": [
       "'C'"
      ],
      "text/latex": [
       "'C'"
      ],
      "text/markdown": [
       "'C'"
      ],
      "text/plain": [
       "[1] \"C\""
      ]
     },
     "metadata": {},
     "output_type": "display_data"
    }
   ],
   "source": [
    "#answer2.13 <-\n",
    "\n",
    "### BEGIN SOLUTION\n",
    "answer2.13 <- \"C\"\n",
    "### END SOLUTION\n",
    "\n",
    "answer2.13"
   ]
  },
  {
   "cell_type": "code",
   "execution_count": 34,
   "metadata": {
    "nbgrader": {
     "grade": true,
     "grade_id": "cell-326c1016109197da",
     "locked": true,
     "points": 3,
     "schema_version": 3,
     "solution": false,
     "task": false
    }
   },
   "outputs": [
    {
     "name": "stdout",
     "output_type": "stream",
     "text": [
      "[1] \"Success!\"\n"
     ]
    }
   ],
   "source": [
    "test_2.13()"
   ]
  },
  {
   "cell_type": "markdown",
   "metadata": {
    "nbgrader": {
     "grade": false,
     "grade_id": "cell-e98cd4facee6b769",
     "locked": true,
     "schema_version": 3,
     "solution": false,
     "task": false
    }
   },
   "source": [
    "**Question 2.14: Types of Error**\n",
    "<br>{points: 3}\n",
    "\n",
    "There are two possible errors we could make in hypothesis testing:\n",
    "\n",
    "1. Type I Error: happens when we wrongly reject $H_0$ (i.e., we reject $H_0$ when $H_0$ is true);\n",
    "2. Type II Error: happens when we wrongly do not reject $H_0$ (i.e., we do not reject $H_0$ when $H_0$ is False);\n",
    "![](imgs/errors_table.png)\n",
    "\n",
    "Considering the decision you made in Question 2.13, which type of error you are subject to commit? \n",
    "\n",
    "A. Type I Error\n",
    "\n",
    "B. Type II Error\n",
    "\n",
    "_Assign your answer to an object called `answer2.14`._"
   ]
  },
  {
   "cell_type": "code",
   "execution_count": 35,
   "metadata": {
    "nbgrader": {
     "grade": false,
     "grade_id": "cell-dfac9b69c95ae6c4",
     "locked": false,
     "schema_version": 3,
     "solution": true,
     "task": false
    }
   },
   "outputs": [
    {
     "data": {
      "text/html": [
       "'A'"
      ],
      "text/latex": [
       "'A'"
      ],
      "text/markdown": [
       "'A'"
      ],
      "text/plain": [
       "[1] \"A\""
      ]
     },
     "metadata": {},
     "output_type": "display_data"
    }
   ],
   "source": [
    "#answer2.14 <-\n",
    "\n",
    "### BEGIN SOLUTION\n",
    "answer2.14 <- \"A\"\n",
    "### END SOLUTION\n",
    "\n",
    "answer2.14"
   ]
  },
  {
   "cell_type": "code",
   "execution_count": 36,
   "metadata": {
    "nbgrader": {
     "grade": true,
     "grade_id": "cell-d7f3be238ddfef27",
     "locked": true,
     "points": 3,
     "schema_version": 3,
     "solution": false,
     "task": false
    }
   },
   "outputs": [
    {
     "name": "stdout",
     "output_type": "stream",
     "text": [
      "[1] \"Success!\"\n"
     ]
    }
   ],
   "source": [
    "test_2.14()"
   ]
  },
  {
   "cell_type": "markdown",
   "metadata": {
    "nbgrader": {
     "grade": false,
     "grade_id": "cell-3ba3a59fbc0569b3",
     "locked": true,
     "schema_version": 3,
     "solution": false,
     "task": false
    }
   },
   "source": [
    "**Question 2.15: Significance level**\n",
    "<br>{points: 3}\n",
    "\n",
    "We know that a low _p-value_ is evidence against $H_0$. But how low must the _p-value_ be for us to decide to reject $H_0$? \n",
    "\n",
    "When performing hypothesis testing, we must set the so-called _significance level_. The significance level, $\\alpha$, is the probability of _Type I Error_. We will reject $H_0$ if the p-value is smaller than the significance level we chose. Typical values of $\\alpha$ are $10\\%, 5\\%$, and $1\\%$. It is important that you specify the $\\alpha$ level before conducting the hypothesis testing and obtaining the p-value. \n",
    "\n",
    "For this question, you must select all the significance level below for which we would reject $H_0$:\n",
    "\n",
    "A. $10\\%$\n",
    "\n",
    "B. $5\\%$\n",
    "\n",
    "C. $1\\%$\n",
    "\n",
    "D. $0.1\\%$\n",
    "\n",
    "E. None of the above.\n",
    "\n",
    "Your answer should be a string containing the letters associated with the items you selected in the same order as the items appear. For example, if you want to select `B` and `D`, you should use `\"BD\"`,  not `\"DB\"`. \n",
    "\n",
    "_Assign your answer to an object called `answer2.15`._"
   ]
  },
  {
   "cell_type": "code",
   "execution_count": 37,
   "metadata": {
    "nbgrader": {
     "grade": false,
     "grade_id": "cell-f1c0bff98d2e9722",
     "locked": false,
     "schema_version": 3,
     "solution": true,
     "task": false
    }
   },
   "outputs": [
    {
     "data": {
      "text/html": [
       "'ABC'"
      ],
      "text/latex": [
       "'ABC'"
      ],
      "text/markdown": [
       "'ABC'"
      ],
      "text/plain": [
       "[1] \"ABC\""
      ]
     },
     "metadata": {},
     "output_type": "display_data"
    }
   ],
   "source": [
    "#answer2.15 <- \n",
    "\n",
    "### BEGIN SOLUTION\n",
    "answer2.15 <- \"ABC\"\n",
    "### END SOLUTION\n",
    "\n",
    "answer2.15"
   ]
  },
  {
   "cell_type": "code",
   "execution_count": 38,
   "metadata": {
    "nbgrader": {
     "grade": true,
     "grade_id": "cell-36a4f9055f2c66d9",
     "locked": true,
     "points": 3,
     "schema_version": 3,
     "solution": false,
     "task": false
    }
   },
   "outputs": [
    {
     "name": "stdout",
     "output_type": "stream",
     "text": [
      "[1] \"Success!\"\n"
     ]
    }
   ],
   "source": [
    "test_2.15()"
   ]
  },
  {
   "cell_type": "markdown",
   "metadata": {
    "nbgrader": {
     "grade": false,
     "grade_id": "cell-025b3df4013a6d61",
     "locked": true,
     "schema_version": 3,
     "solution": false,
     "task": false
    }
   },
   "source": [
    "**Question 2.16: hypothesis testing with the `infer` package**\n",
    "<br>{points: 3}\n",
    "\n",
    "The `infer` package has a similar [workflow to conduct hypothesis tests](https://moderndive.com/9-hypothesis-testing.html#ht-infer) to the one you have been using for confidence intervals. \n",
    "\n",
    "In this question, you will conduct the same hypothesis test you just did manually, but this time you are going to use the `infer` package. Fill in the code below to generate 10,000 bootstrap samples from the null model using the `infer` workflow. Then, try comparing the first ten rows of the model you manually generated `null_model` with the first ten rows you obtained using `infer`\n",
    "\n",
    "_Assign your answer to an object called `null_model_infer`_. "
   ]
  },
  {
   "cell_type": "code",
   "execution_count": 39,
   "metadata": {
    "nbgrader": {
     "grade": false,
     "grade_id": "cell-1dfa0051161db7c5",
     "locked": false,
     "schema_version": 3,
     "solution": true,
     "task": false
    }
   },
   "outputs": [
    {
     "name": "stderr",
     "output_type": "stream",
     "text": [
      "Setting `type = \"bootstrap\"` in `generate()`.\n",
      "\n"
     ]
    },
    {
     "data": {
      "text/html": [
       "<table>\n",
       "<caption>A tibble: 6 × 2</caption>\n",
       "<thead>\n",
       "\t<tr><th scope=col>replicate</th><th scope=col>stat</th></tr>\n",
       "\t<tr><th scope=col>&lt;int&gt;</th><th scope=col>&lt;dbl&gt;</th></tr>\n",
       "</thead>\n",
       "<tbody>\n",
       "\t<tr><td>1</td><td>44.38095</td></tr>\n",
       "\t<tr><td>2</td><td>44.14286</td></tr>\n",
       "\t<tr><td>3</td><td>45.19048</td></tr>\n",
       "\t<tr><td>4</td><td>44.04762</td></tr>\n",
       "\t<tr><td>5</td><td>43.00000</td></tr>\n",
       "\t<tr><td>6</td><td>44.00000</td></tr>\n",
       "</tbody>\n",
       "</table>\n"
      ],
      "text/latex": [
       "A tibble: 6 × 2\n",
       "\\begin{tabular}{ll}\n",
       " replicate & stat\\\\\n",
       " <int> & <dbl>\\\\\n",
       "\\hline\n",
       "\t 1 & 44.38095\\\\\n",
       "\t 2 & 44.14286\\\\\n",
       "\t 3 & 45.19048\\\\\n",
       "\t 4 & 44.04762\\\\\n",
       "\t 5 & 43.00000\\\\\n",
       "\t 6 & 44.00000\\\\\n",
       "\\end{tabular}\n"
      ],
      "text/markdown": [
       "\n",
       "A tibble: 6 × 2\n",
       "\n",
       "| replicate &lt;int&gt; | stat &lt;dbl&gt; |\n",
       "|---|---|\n",
       "| 1 | 44.38095 |\n",
       "| 2 | 44.14286 |\n",
       "| 3 | 45.19048 |\n",
       "| 4 | 44.04762 |\n",
       "| 5 | 43.00000 |\n",
       "| 6 | 44.00000 |\n",
       "\n"
      ],
      "text/plain": [
       "  replicate stat    \n",
       "1 1         44.38095\n",
       "2 2         44.14286\n",
       "3 3         45.19048\n",
       "4 4         44.04762\n",
       "5 5         43.00000\n",
       "6 6         44.00000"
      ]
     },
     "metadata": {},
     "output_type": "display_data"
    }
   ],
   "source": [
    "set.seed(7) # Do not change this.\n",
    "\n",
    "#null_model_infer <- \n",
    "#    fibrosis %>% \n",
    "#    specify(...) %>% \n",
    "#    hypothesise(...) %>% \n",
    "#    generate(...) %>% \n",
    "#    calculate(...)\n",
    "\n",
    "### BEGIN SOLUTION\n",
    "null_model_infer <- \n",
    "    fibrosis %>% \n",
    "    specify(response = albumin) %>% \n",
    "    hypothesise(null = \"point\", mu = 44) %>% \n",
    "    generate(reps = 10000) %>% \n",
    "    calculate( stat = \"mean\")\n",
    "### END SOLUTION\n",
    "\n",
    "head(null_model_infer)"
   ]
  },
  {
   "cell_type": "code",
   "execution_count": 40,
   "metadata": {
    "nbgrader": {
     "grade": true,
     "grade_id": "cell-532a26a12c781427",
     "locked": true,
     "points": 3,
     "schema_version": 3,
     "solution": false,
     "task": false
    }
   },
   "outputs": [
    {
     "name": "stdout",
     "output_type": "stream",
     "text": [
      "[1] \"Success!\"\n"
     ]
    }
   ],
   "source": [
    "test_2.16()"
   ]
  },
  {
   "cell_type": "markdown",
   "metadata": {
    "nbgrader": {
     "grade": false,
     "grade_id": "cell-e9fe9bed81d549c0",
     "locked": true,
     "schema_version": 3,
     "solution": false,
     "task": false
    }
   },
   "source": [
    "**Question 2.17: Visualizing the result of the hypothesis test `infer`**\n",
    "<br>{points: 3}\n",
    "\n",
    "\n",
    "The `infer` package also makes it easy to visualize the result of your hypothesis test with `visualize` and `shade_p_value` functions (see [Section 9.3.1 of Modern Dive](https://moderndive.com/9-hypothesis-testing.html#ht-infer)).\n",
    "\n",
    "Fill in the code below to visualize the result of your hypothesis test. \n",
    "\n",
    "_Assign the answer to an object named `null_model_vis_infer`_"
   ]
  },
  {
   "cell_type": "code",
   "execution_count": 41,
   "metadata": {
    "nbgrader": {
     "grade": false,
     "grade_id": "cell-602979ab19235af9",
     "locked": false,
     "schema_version": 3,
     "solution": true,
     "task": false
    }
   },
   "outputs": [
    {
     "data": {
      "image/png": "[encoded data removed]",
      "text/plain": [
       "plot without title"
      ]
     },
     "metadata": {
      "image/png": {
       "height": 420,
       "width": 420
      }
     },
     "output_type": "display_data"
    }
   ],
   "source": [
    "#null_model_vis_infer <-\n",
    "#    null_model_infer %>% \n",
    "#    visualize(...) + \n",
    "#    shade_p_value(obs_stat = ..., direction = ...) +\n",
    "#    xlab(\"Mean albumin level (g/L)\") + \n",
    "#    theme(text = element_text(size=20))\n",
    "\n",
    "### BEGIN SOLUTION\n",
    "null_model_vis_infer <- \n",
    "    null_model_infer %>% \n",
    "    visualize() + \n",
    "    shade_p_value(obs_stat = obs_test_stat, direction = \"left\") +\n",
    "    xlab(\"Mean albumin level (g/L)\") + \n",
    "    theme(text = element_text(size=20))\n",
    "### END SOLUTION\n",
    "\n",
    "null_model_vis_infer"
   ]
  },
  {
   "cell_type": "code",
   "execution_count": 42,
   "metadata": {
    "nbgrader": {
     "grade": true,
     "grade_id": "cell-a9ca1ae0a796bb53",
     "locked": true,
     "points": 3,
     "schema_version": 3,
     "solution": false,
     "task": false
    }
   },
   "outputs": [
    {
     "name": "stdout",
     "output_type": "stream",
     "text": [
      "[1] \"Success!\"\n"
     ]
    }
   ],
   "source": [
    "test_2.17()"
   ]
  },
  {
   "cell_type": "markdown",
   "metadata": {
    "nbgrader": {
     "grade": false,
     "grade_id": "cell-6c878d761af53f37",
     "locked": true,
     "schema_version": 3,
     "solution": false,
     "task": false
    }
   },
   "source": [
    "**Question 2.18: Getting the p-value with `infer`**\n",
    "<br>{points: 1}\n",
    "\n",
    "To get the p-value with the `infer` package, we use the `get_p_value` function. Obtain the p-value using the `null_model_infer`. \n",
    "\n",
    "_Assign your answer to p_value_infer_"
   ]
  },
  {
   "cell_type": "code",
   "execution_count": 43,
   "metadata": {
    "nbgrader": {
     "grade": false,
     "grade_id": "cell-d8de10198a9915ac",
     "locked": false,
     "schema_version": 3,
     "solution": true,
     "task": false
    }
   },
   "outputs": [
    {
     "data": {
      "text/html": [
       "<table>\n",
       "<caption>A tibble: 1 × 1</caption>\n",
       "<thead>\n",
       "\t<tr><th scope=col>p_value</th></tr>\n",
       "\t<tr><th scope=col>&lt;dbl&gt;</th></tr>\n",
       "</thead>\n",
       "<tbody>\n",
       "\t<tr><td>0.0017</td></tr>\n",
       "</tbody>\n",
       "</table>\n"
      ],
      "text/latex": [
       "A tibble: 1 × 1\n",
       "\\begin{tabular}{l}\n",
       " p\\_value\\\\\n",
       " <dbl>\\\\\n",
       "\\hline\n",
       "\t 0.0017\\\\\n",
       "\\end{tabular}\n"
      ],
      "text/markdown": [
       "\n",
       "A tibble: 1 × 1\n",
       "\n",
       "| p_value &lt;dbl&gt; |\n",
       "|---|\n",
       "| 0.0017 |\n",
       "\n"
      ],
      "text/plain": [
       "  p_value\n",
       "1 0.0017 "
      ]
     },
     "metadata": {},
     "output_type": "display_data"
    }
   ],
   "source": [
    "#p_value_infer <- \n",
    "#    null_model_infer %>% \n",
    "#    get_p_value(...)\n",
    "\n",
    "### BEGIN SOLUTION\n",
    "p_value_infer <- \n",
    "    null_model_infer %>% \n",
    "    get_p_value(obs_stat = obs_test_stat, direction = \"left\")\n",
    "### END SOLUTION\n",
    "\n",
    "p_value_infer"
   ]
  },
  {
   "cell_type": "code",
   "execution_count": 44,
   "metadata": {
    "nbgrader": {
     "grade": true,
     "grade_id": "cell-878da68d39c876b0",
     "locked": true,
     "points": 1,
     "schema_version": 3,
     "solution": false,
     "task": false
    },
    "scrolled": true
   },
   "outputs": [
    {
     "name": "stdout",
     "output_type": "stream",
     "text": [
      "[1] \"Success!\"\n"
     ]
    }
   ],
   "source": [
    "test_2.18()"
   ]
  },
  {
   "cell_type": "markdown",
   "metadata": {
    "nbgrader": {
     "grade": false,
     "grade_id": "cell-ea0a9087eace5aa7",
     "locked": true,
     "schema_version": 3,
     "solution": false,
     "task": false
    }
   },
   "source": [
    "## 3. Hypothesis testing with two populations\n",
    "\n",
    "In the previous section, the hypothesis involved only one parameter from one population: the mean level of albumin in patients with `Fibrosis`. \n",
    "\n",
    "In this section, you will work with two populations, and your hypothesis will involve a parameter from each population. Although it seems more complicated, fear not, the process is pretty much the same: \n",
    "\n",
    "1. Specify the variable of interest (`specify()`);\n",
    "2. Define your hypotheses (`hypothesise()`);\n",
    "3. Simulate the observations (`generate()`);\n",
    "4. Generate values from the null model (`caculate()`);\n",
    "5. See how the observed statistic compares with the sampling distribution by checking the p-value.\n",
    "\n",
    "In the following sequence of exercises, we will try to answer the following question: \n",
    "\n",
    "> Is the diameter of the trees in Kitsilano bigger than in Kerrisdale?"
   ]
  },
  {
   "cell_type": "markdown",
   "metadata": {
    "nbgrader": {
     "grade": false,
     "grade_id": "cell-0d0aedd671460715",
     "locked": true,
     "schema_version": 3,
     "solution": false,
     "task": false
    }
   },
   "source": [
    "**Question 3.1: What are we comparing exactly?**\n",
    "<br>{points: 2}\n",
    "\n",
    "Different trees will have different diameters. We need a summary quantity to summarise each population: (1) all the trees in Kitsilano; and (2) all the trees in Kerrisdale. Which of the following quantities are appropriate to help answer the question (select all that apply):\n",
    "\n",
    "A. Population mean;\n",
    "\n",
    "B. Population variance;\n",
    "\n",
    "C. Population median;\n",
    "\n",
    "D. Population mode; \n",
    "\n",
    "_Assign your answer to an object called `answer3.1`. Your response should be a sequence of characters, e.g., \"ABCD\"._"
   ]
  },
  {
   "cell_type": "code",
   "execution_count": 45,
   "metadata": {
    "nbgrader": {
     "grade": false,
     "grade_id": "cell-76fa433852f954db",
     "locked": false,
     "schema_version": 3,
     "solution": true,
     "task": false
    }
   },
   "outputs": [
    {
     "data": {
      "text/html": [
       "'AC'"
      ],
      "text/latex": [
       "'AC'"
      ],
      "text/markdown": [
       "'AC'"
      ],
      "text/plain": [
       "[1] \"AC\""
      ]
     },
     "metadata": {},
     "output_type": "display_data"
    }
   ],
   "source": [
    "#answer3.1 <-\n",
    "\n",
    "### BEGIN SOLUTION\n",
    "answer3.1 <- \"AC\"\n",
    "### END SOLUTION\n",
    "\n",
    "answer3.1"
   ]
  },
  {
   "cell_type": "code",
   "execution_count": 46,
   "metadata": {
    "nbgrader": {
     "grade": true,
     "grade_id": "cell-ba8c3c631688bd08",
     "locked": true,
     "points": 2,
     "schema_version": 3,
     "solution": false,
     "task": false
    }
   },
   "outputs": [
    {
     "name": "stdout",
     "output_type": "stream",
     "text": [
      "[1] \"Success!\"\n"
     ]
    }
   ],
   "source": [
    "test_3.1()"
   ]
  },
  {
   "cell_type": "markdown",
   "metadata": {
    "nbgrader": {
     "grade": false,
     "grade_id": "cell-326ab3e29761c7f2",
     "locked": true,
     "schema_version": 3,
     "solution": false,
     "task": false
    }
   },
   "source": [
    "**Question 3.2: Setting the hypothesis**\n",
    "<br>{points: 2}\n",
    "\n",
    "If we were to use the median, say $m_1$ is the median diameter of the trees in Kitsilano and $m_2$ the median diameter of the trees in Kerrisdale, what are the appropriate hypotheses?\n",
    "\n",
    "A. $H_0: m_1-m_2 = 0$ vs $H_1: m_1-m_2 < 0$\n",
    "\n",
    "B. $H_0: m_1-m_2 = 0$ vs $H_1: m_1-m_2 > 0$\n",
    "\n",
    "C. $H_0: m_1-m_2 > 0$ vs $H_1: m_1-m_2 < 0$\n",
    "\n",
    "D. $H_0: m_1-m_2 < 0$ vs $H_1: m_1-m_2 = 0$\n",
    "\n",
    "_Assign your answer to an object called `answer3.2`._"
   ]
  },
  {
   "cell_type": "code",
   "execution_count": 47,
   "metadata": {
    "nbgrader": {
     "grade": false,
     "grade_id": "cell-3604ac09f4c211ec",
     "locked": false,
     "schema_version": 3,
     "solution": true,
     "task": false
    }
   },
   "outputs": [
    {
     "data": {
      "text/html": [
       "'B'"
      ],
      "text/latex": [
       "'B'"
      ],
      "text/markdown": [
       "'B'"
      ],
      "text/plain": [
       "[1] \"B\""
      ]
     },
     "metadata": {},
     "output_type": "display_data"
    }
   ],
   "source": [
    "#answer3.2 <-\n",
    "\n",
    "### BEGIN SOLUTION\n",
    "answer3.2 <- \"B\"\n",
    "### END SOLUTION\n",
    "\n",
    "answer3.2"
   ]
  },
  {
   "cell_type": "code",
   "execution_count": 48,
   "metadata": {
    "nbgrader": {
     "grade": true,
     "grade_id": "cell-512cb2e17bb87a53",
     "locked": true,
     "points": 2,
     "schema_version": 3,
     "solution": false,
     "task": false
    }
   },
   "outputs": [
    {
     "name": "stdout",
     "output_type": "stream",
     "text": [
      "[1] \"Success!\"\n"
     ]
    }
   ],
   "source": [
    "test_3.2()"
   ]
  },
  {
   "cell_type": "markdown",
   "metadata": {
    "nbgrader": {
     "grade": false,
     "grade_id": "cell-f24659bc1cf72fe5",
     "locked": true,
     "schema_version": 3,
     "solution": false,
     "task": false
    }
   },
   "source": [
    "**Question 3.3: The truth!**\n",
    "<br>{points: 3}\n",
    "\n",
    "Let us assume that the entire population of trees in Kitsilano and Kerrisdale is stored in the `trees_pop` variable. Let's find out the truth! \n",
    "What is the median diameter of each population of trees? Fill in the code below to find out.\n",
    "\n",
    "_Assign your answer to an object called `answer3.3`._"
   ]
  },
  {
   "cell_type": "code",
   "execution_count": 49,
   "metadata": {
    "nbgrader": {
     "grade": false,
     "grade_id": "cell-ac532d6c217b508a",
     "locked": true,
     "schema_version": 3,
     "solution": false,
     "task": false
    }
   },
   "outputs": [
    {
     "data": {
      "text/html": [
       "<table>\n",
       "<caption>A tibble: 6 × 2</caption>\n",
       "<thead>\n",
       "\t<tr><th scope=col>neighbourhood_name</th><th scope=col>diameter</th></tr>\n",
       "\t<tr><th scope=col>&lt;chr&gt;</th><th scope=col>&lt;dbl&gt;</th></tr>\n",
       "</thead>\n",
       "<tbody>\n",
       "\t<tr><td>KITSILANO </td><td>10.0</td></tr>\n",
       "\t<tr><td>KITSILANO </td><td>14.5</td></tr>\n",
       "\t<tr><td>KERRISDALE</td><td> 3.0</td></tr>\n",
       "\t<tr><td>KITSILANO </td><td> 3.0</td></tr>\n",
       "\t<tr><td>KITSILANO </td><td>16.0</td></tr>\n",
       "\t<tr><td>KITSILANO </td><td>30.0</td></tr>\n",
       "</tbody>\n",
       "</table>\n"
      ],
      "text/latex": [
       "A tibble: 6 × 2\n",
       "\\begin{tabular}{ll}\n",
       " neighbourhood\\_name & diameter\\\\\n",
       " <chr> & <dbl>\\\\\n",
       "\\hline\n",
       "\t KITSILANO  & 10.0\\\\\n",
       "\t KITSILANO  & 14.5\\\\\n",
       "\t KERRISDALE &  3.0\\\\\n",
       "\t KITSILANO  &  3.0\\\\\n",
       "\t KITSILANO  & 16.0\\\\\n",
       "\t KITSILANO  & 30.0\\\\\n",
       "\\end{tabular}\n"
      ],
      "text/markdown": [
       "\n",
       "A tibble: 6 × 2\n",
       "\n",
       "| neighbourhood_name &lt;chr&gt; | diameter &lt;dbl&gt; |\n",
       "|---|---|\n",
       "| KITSILANO  | 10.0 |\n",
       "| KITSILANO  | 14.5 |\n",
       "| KERRISDALE |  3.0 |\n",
       "| KITSILANO  |  3.0 |\n",
       "| KITSILANO  | 16.0 |\n",
       "| KITSILANO  | 30.0 |\n",
       "\n"
      ],
      "text/plain": [
       "  neighbourhood_name diameter\n",
       "1 KITSILANO          10.0    \n",
       "2 KITSILANO          14.5    \n",
       "3 KERRISDALE          3.0    \n",
       "4 KITSILANO           3.0    \n",
       "5 KITSILANO          16.0    \n",
       "6 KITSILANO          30.0    "
      ]
     },
     "metadata": {},
     "output_type": "display_data"
    }
   ],
   "source": [
    "# Run this code before continuing\n",
    "trees_pop <-\n",
    "    vancouver_trees %>% \n",
    "    filter(neighbourhood_name %in% c(\"KITSILANO\", \"KERRISDALE\")) %>% \n",
    "    select(neighbourhood_name, diameter)\n",
    "\n",
    "head(trees_pop)"
   ]
  },
  {
   "cell_type": "code",
   "execution_count": 50,
   "metadata": {
    "nbgrader": {
     "grade": false,
     "grade_id": "cell-0e6359010285ebe4",
     "locked": false,
     "schema_version": 3,
     "solution": true,
     "task": false
    }
   },
   "outputs": [
    {
     "name": "stderr",
     "output_type": "stream",
     "text": [
      "`summarise()` ungrouping output (override with `.groups` argument)\n",
      "\n"
     ]
    },
    {
     "data": {
      "text/html": [
       "<table>\n",
       "<caption>A tibble: 2 × 2</caption>\n",
       "<thead>\n",
       "\t<tr><th scope=col>neighbourhood_name</th><th scope=col>median</th></tr>\n",
       "\t<tr><th scope=col>&lt;chr&gt;</th><th scope=col>&lt;dbl&gt;</th></tr>\n",
       "</thead>\n",
       "<tbody>\n",
       "\t<tr><td>KERRISDALE</td><td>10</td></tr>\n",
       "\t<tr><td>KITSILANO </td><td>12</td></tr>\n",
       "</tbody>\n",
       "</table>\n"
      ],
      "text/latex": [
       "A tibble: 2 × 2\n",
       "\\begin{tabular}{ll}\n",
       " neighbourhood\\_name & median\\\\\n",
       " <chr> & <dbl>\\\\\n",
       "\\hline\n",
       "\t KERRISDALE & 10\\\\\n",
       "\t KITSILANO  & 12\\\\\n",
       "\\end{tabular}\n"
      ],
      "text/markdown": [
       "\n",
       "A tibble: 2 × 2\n",
       "\n",
       "| neighbourhood_name &lt;chr&gt; | median &lt;dbl&gt; |\n",
       "|---|---|\n",
       "| KERRISDALE | 10 |\n",
       "| KITSILANO  | 12 |\n",
       "\n"
      ],
      "text/plain": [
       "  neighbourhood_name median\n",
       "1 KERRISDALE         10    \n",
       "2 KITSILANO          12    "
      ]
     },
     "metadata": {},
     "output_type": "display_data"
    }
   ],
   "source": [
    "#answer3.3 <- \n",
    "#    trees_pop %>% \n",
    "#    ...(neighbourhood_name) %>% \n",
    "#    ...(median = ...)\n",
    "\n",
    "### BEGIN SOLUTION\n",
    "answer3.3 <- \n",
    "    trees_pop %>% \n",
    "    group_by(neighbourhood_name) %>% \n",
    "    summarise(median = median(diameter))\n",
    "### END SOLUTION\n",
    "\n",
    "answer3.3"
   ]
  },
  {
   "cell_type": "code",
   "execution_count": 51,
   "metadata": {
    "nbgrader": {
     "grade": true,
     "grade_id": "cell-8321b4d518a311c9",
     "locked": true,
     "points": 3,
     "schema_version": 3,
     "solution": false,
     "task": false
    }
   },
   "outputs": [
    {
     "name": "stdout",
     "output_type": "stream",
     "text": [
      "[1] \"Success!\"\n"
     ]
    }
   ],
   "source": [
    "test_3.3()"
   ]
  },
  {
   "cell_type": "markdown",
   "metadata": {
    "nbgrader": {
     "grade": false,
     "grade_id": "cell-9a765025a4ac8c86",
     "locked": true,
     "schema_version": 3,
     "solution": false,
     "task": false
    }
   },
   "source": [
    "**Question 3.4: Let's take a sample**\n",
    "<br>{points: 3}\n",
    "\n",
    "A sample of 31 trees from Kitsilano and 35 trees from Kerrisdale was taken and stored in the object `sample_trees`. Calculate the observed test statistic. \n",
    "\n",
    "_Assign your answer to an object called `obs_med_diam_diff`_"
   ]
  },
  {
   "cell_type": "code",
   "execution_count": 52,
   "metadata": {
    "nbgrader": {
     "grade": false,
     "grade_id": "cell-b0191856865c1d44",
     "locked": true,
     "schema_version": 3,
     "solution": false,
     "task": false
    }
   },
   "outputs": [
    {
     "data": {
      "text/html": [
       "<table>\n",
       "<caption>A tibble: 6 × 2</caption>\n",
       "<thead>\n",
       "\t<tr><th scope=col>neighbourhood_name</th><th scope=col>diameter</th></tr>\n",
       "\t<tr><th scope=col>&lt;chr&gt;</th><th scope=col>&lt;dbl&gt;</th></tr>\n",
       "</thead>\n",
       "<tbody>\n",
       "\t<tr><td>KERRISDALE</td><td> 8.00</td></tr>\n",
       "\t<tr><td>KERRISDALE</td><td>21.75</td></tr>\n",
       "\t<tr><td>KERRISDALE</td><td>16.50</td></tr>\n",
       "\t<tr><td>KERRISDALE</td><td>16.00</td></tr>\n",
       "\t<tr><td>KERRISDALE</td><td> 3.00</td></tr>\n",
       "\t<tr><td>KERRISDALE</td><td> 4.00</td></tr>\n",
       "</tbody>\n",
       "</table>\n"
      ],
      "text/latex": [
       "A tibble: 6 × 2\n",
       "\\begin{tabular}{ll}\n",
       " neighbourhood\\_name & diameter\\\\\n",
       " <chr> & <dbl>\\\\\n",
       "\\hline\n",
       "\t KERRISDALE &  8.00\\\\\n",
       "\t KERRISDALE & 21.75\\\\\n",
       "\t KERRISDALE & 16.50\\\\\n",
       "\t KERRISDALE & 16.00\\\\\n",
       "\t KERRISDALE &  3.00\\\\\n",
       "\t KERRISDALE &  4.00\\\\\n",
       "\\end{tabular}\n"
      ],
      "text/markdown": [
       "\n",
       "A tibble: 6 × 2\n",
       "\n",
       "| neighbourhood_name &lt;chr&gt; | diameter &lt;dbl&gt; |\n",
       "|---|---|\n",
       "| KERRISDALE |  8.00 |\n",
       "| KERRISDALE | 21.75 |\n",
       "| KERRISDALE | 16.50 |\n",
       "| KERRISDALE | 16.00 |\n",
       "| KERRISDALE |  3.00 |\n",
       "| KERRISDALE |  4.00 |\n",
       "\n"
      ],
      "text/plain": [
       "  neighbourhood_name diameter\n",
       "1 KERRISDALE          8.00   \n",
       "2 KERRISDALE         21.75   \n",
       "3 KERRISDALE         16.50   \n",
       "4 KERRISDALE         16.00   \n",
       "5 KERRISDALE          3.00   \n",
       "6 KERRISDALE          4.00   "
      ]
     },
     "metadata": {},
     "output_type": "display_data"
    }
   ],
   "source": [
    "set.seed(12) # Do not change this\n",
    "\n",
    "# Run this cell before continuing.\n",
    "sample_trees <- \n",
    "    trees_pop %>% \n",
    "    filter(neighbourhood_name==\"KERRISDALE\") %>% \n",
    "    sample_n(size=35) %>% \n",
    "    bind_rows(\n",
    "        trees_pop %>% \n",
    "            filter(neighbourhood_name==\"KITSILANO\") %>% \n",
    "            sample_n(size=31))\n",
    "\n",
    "head(sample_trees)"
   ]
  },
  {
   "cell_type": "code",
   "execution_count": 53,
   "metadata": {
    "nbgrader": {
     "grade": false,
     "grade_id": "cell-1c5277cac7748862",
     "locked": false,
     "schema_version": 3,
     "solution": true,
     "task": false
    }
   },
   "outputs": [
    {
     "name": "stderr",
     "output_type": "stream",
     "text": [
      "`summarise()` ungrouping output (override with `.groups` argument)\n",
      "\n"
     ]
    },
    {
     "data": {
      "text/html": [
       "-1"
      ],
      "text/latex": [
       "-1"
      ],
      "text/markdown": [
       "-1"
      ],
      "text/plain": [
       "[1] -1"
      ]
     },
     "metadata": {},
     "output_type": "display_data"
    }
   ],
   "source": [
    "### BEGIN SOLUTION\n",
    "\n",
    "obs_med_diam_diff <- \n",
    "    sample_trees %>% \n",
    "    filter(neighbourhood_name %in% c(\"KERRISDALE\", \"KITSILANO\")) %>%\n",
    "    group_by(neighbourhood_name) %>% \n",
    "    summarise(median = median(diameter)) %>%\n",
    "    pivot_wider(names_from = neighbourhood_name, values_from = median) %>%\n",
    "    transmute(diff = KITSILANO - KERRISDALE) %>%\n",
    "    pull(diff)\n",
    "\n",
    "### END SOLUTION\n",
    "\n",
    "obs_med_diam_diff"
   ]
  },
  {
   "cell_type": "code",
   "execution_count": 54,
   "metadata": {
    "nbgrader": {
     "grade": true,
     "grade_id": "cell-eeb2724c79c477c6",
     "locked": true,
     "points": 3,
     "schema_version": 3,
     "solution": false,
     "task": false
    }
   },
   "outputs": [
    {
     "name": "stdout",
     "output_type": "stream",
     "text": [
      "[1] \"Success!\"\n"
     ]
    }
   ],
   "source": [
    "test_3.4()"
   ]
  },
  {
   "cell_type": "markdown",
   "metadata": {
    "nbgrader": {
     "grade": false,
     "grade_id": "cell-95e24759c31bc5eb",
     "locked": true,
     "schema_version": 3,
     "solution": false,
     "task": false
    }
   },
   "source": [
    "**Question 3.5: Simulating from the null distribution**\n",
    "<br>{points: 3}\n",
    "\n",
    "Fill in the code below to generate 5000 samples from the null distribution.\n",
    "\n",
    "_Assign your answer to an object called `null_model_trees`_"
   ]
  },
  {
   "cell_type": "code",
   "execution_count": 55,
   "metadata": {
    "nbgrader": {
     "grade": false,
     "grade_id": "cell-fe80212fccaf0f1f",
     "locked": false,
     "schema_version": 3,
     "solution": true,
     "task": false
    }
   },
   "outputs": [
    {
     "data": {
      "text/html": [
       "<table>\n",
       "<caption>A tibble: 6 × 2</caption>\n",
       "<thead>\n",
       "\t<tr><th scope=col>replicate</th><th scope=col>stat</th></tr>\n",
       "\t<tr><th scope=col>&lt;int&gt;</th><th scope=col>&lt;dbl&gt;</th></tr>\n",
       "</thead>\n",
       "<tbody>\n",
       "\t<tr><td>1</td><td>-1.0</td></tr>\n",
       "\t<tr><td>2</td><td> 1.5</td></tr>\n",
       "\t<tr><td>3</td><td> 6.0</td></tr>\n",
       "\t<tr><td>4</td><td>-1.5</td></tr>\n",
       "\t<tr><td>5</td><td>-1.5</td></tr>\n",
       "\t<tr><td>6</td><td>-1.5</td></tr>\n",
       "</tbody>\n",
       "</table>\n"
      ],
      "text/latex": [
       "A tibble: 6 × 2\n",
       "\\begin{tabular}{ll}\n",
       " replicate & stat\\\\\n",
       " <int> & <dbl>\\\\\n",
       "\\hline\n",
       "\t 1 & -1.0\\\\\n",
       "\t 2 &  1.5\\\\\n",
       "\t 3 &  6.0\\\\\n",
       "\t 4 & -1.5\\\\\n",
       "\t 5 & -1.5\\\\\n",
       "\t 6 & -1.5\\\\\n",
       "\\end{tabular}\n"
      ],
      "text/markdown": [
       "\n",
       "A tibble: 6 × 2\n",
       "\n",
       "| replicate &lt;int&gt; | stat &lt;dbl&gt; |\n",
       "|---|---|\n",
       "| 1 | -1.0 |\n",
       "| 2 |  1.5 |\n",
       "| 3 |  6.0 |\n",
       "| 4 | -1.5 |\n",
       "| 5 | -1.5 |\n",
       "| 6 | -1.5 |\n",
       "\n"
      ],
      "text/plain": [
       "  replicate stat\n",
       "1 1         -1.0\n",
       "2 2          1.5\n",
       "3 3          6.0\n",
       "4 4         -1.5\n",
       "5 5         -1.5\n",
       "6 6         -1.5"
      ]
     },
     "metadata": {},
     "output_type": "display_data"
    }
   ],
   "source": [
    "set.seed(50)\n",
    "\n",
    "#null_model_trees <- \n",
    "#    sample_trees %>% \n",
    "#    specify(formula = ...) %>% \n",
    "#    hypothesise(null = ...) %>% \n",
    "#    generate(reps = 5000, type = ...) %>% \n",
    "#    calculate(stat=..., order = c(\"KITSILANO\", \"KERRISDALE\"))\n",
    "\n",
    "### BEGIN SOLUTION\n",
    "null_model_trees <- \n",
    "    sample_trees %>% \n",
    "    specify(formula = diameter ~ neighbourhood_name) %>% \n",
    "    hypothesise(null = \"independence\") %>% \n",
    "    generate(reps = 5000, type = \"permute\") %>% \n",
    "    calculate(stat=\"diff in medians\", order = c(\"KITSILANO\", \"KERRISDALE\"))    \n",
    "### END SOLUTION\n",
    "\n",
    "head(null_model_trees)"
   ]
  },
  {
   "cell_type": "code",
   "execution_count": 56,
   "metadata": {
    "nbgrader": {
     "grade": true,
     "grade_id": "cell-784331f2e3adbe88",
     "locked": true,
     "points": 3,
     "schema_version": 3,
     "solution": false,
     "task": false
    }
   },
   "outputs": [
    {
     "name": "stdout",
     "output_type": "stream",
     "text": [
      "[1] \"Success!\"\n"
     ]
    }
   ],
   "source": [
    "test_3.5()"
   ]
  },
  {
   "cell_type": "markdown",
   "metadata": {
    "nbgrader": {
     "grade": false,
     "grade_id": "cell-812681a3cd2d2834",
     "locked": true,
     "schema_version": 3,
     "solution": false,
     "task": false
    }
   },
   "source": [
    "**Question 3.6**\n",
    "<br>{points: 3}\n",
    "\n",
    "Fill in the code below to plot the result of the hypothesis test. \n",
    "\n",
    "_Assign your answer to an object called `trees_result_plot`_."
   ]
  },
  {
   "cell_type": "code",
   "execution_count": 57,
   "metadata": {
    "nbgrader": {
     "grade": false,
     "grade_id": "cell-523e9ef063ba782d",
     "locked": false,
     "schema_version": 3,
     "solution": true,
     "task": false
    }
   },
   "outputs": [
    {
     "data": {
      "image/png": "[encoded data removed]",
      "text/plain": [
       "plot without title"
      ]
     },
     "metadata": {
      "image/png": {
       "height": 420,
       "width": 420
      }
     },
     "output_type": "display_data"
    }
   ],
   "source": [
    "#trees_result_plot <- \n",
    "#    null_model_trees %>%\n",
    "#    visualize() + \n",
    "#    shade_p_value(obs_stat = ..., direction = ...)\n",
    "\n",
    "### BEGIN SOLUTION\n",
    "trees_result_plot <- \n",
    "    null_model_trees %>%\n",
    "    visualize() + \n",
    "    shade_p_value(obs_stat = obs_med_diam_diff, direction = \"right\") +\n",
    "    xlab(\"Difference in medians\")\n",
    "### END SOLUTION\n",
    "\n",
    "trees_result_plot"
   ]
  },
  {
   "cell_type": "code",
   "execution_count": 58,
   "metadata": {
    "nbgrader": {
     "grade": true,
     "grade_id": "cell-b177015e5b570b86",
     "locked": true,
     "points": 3,
     "schema_version": 3,
     "solution": false,
     "task": false
    }
   },
   "outputs": [
    {
     "name": "stdout",
     "output_type": "stream",
     "text": [
      "[1] \"Success!\"\n"
     ]
    }
   ],
   "source": [
    "test_3.6()"
   ]
  },
  {
   "cell_type": "markdown",
   "metadata": {
    "nbgrader": {
     "grade": false,
     "grade_id": "cell-c8e9e6051344a05e",
     "locked": true,
     "schema_version": 3,
     "solution": false,
     "task": false
    }
   },
   "source": [
    "**Question 3.7**\n",
    "<br>{points: 3}\n",
    "\n",
    "Obtain the p-value from `null_model_trees`.\n",
    "\n",
    "_Assign your answer to an object called `answer3.7`_."
   ]
  },
  {
   "cell_type": "code",
   "execution_count": 59,
   "metadata": {
    "nbgrader": {
     "grade": false,
     "grade_id": "cell-c4f1639bbbe64d41",
     "locked": false,
     "schema_version": 3,
     "solution": true,
     "task": false
    }
   },
   "outputs": [
    {
     "data": {
      "text/html": [
       "<table>\n",
       "<caption>A tibble: 1 × 1</caption>\n",
       "<thead>\n",
       "\t<tr><th scope=col>p_value</th></tr>\n",
       "\t<tr><th scope=col>&lt;dbl&gt;</th></tr>\n",
       "</thead>\n",
       "<tbody>\n",
       "\t<tr><td>0.637</td></tr>\n",
       "</tbody>\n",
       "</table>\n"
      ],
      "text/latex": [
       "A tibble: 1 × 1\n",
       "\\begin{tabular}{l}\n",
       " p\\_value\\\\\n",
       " <dbl>\\\\\n",
       "\\hline\n",
       "\t 0.637\\\\\n",
       "\\end{tabular}\n"
      ],
      "text/markdown": [
       "\n",
       "A tibble: 1 × 1\n",
       "\n",
       "| p_value &lt;dbl&gt; |\n",
       "|---|\n",
       "| 0.637 |\n",
       "\n"
      ],
      "text/plain": [
       "  p_value\n",
       "1 0.637  "
      ]
     },
     "metadata": {},
     "output_type": "display_data"
    }
   ],
   "source": [
    "#answer3.7 <- \n",
    "\n",
    "### BEGIN SOLUTION\n",
    "answer3.7 <- \n",
    "    null_model_trees %>% \n",
    "    get_p_value(obs_stat = obs_med_diam_diff, direction = \"right\")\n",
    "### END SOLUTION\n",
    "\n",
    "answer3.7"
   ]
  },
  {
   "cell_type": "code",
   "execution_count": 60,
   "metadata": {
    "nbgrader": {
     "grade": true,
     "grade_id": "cell-ede0354b1285433c",
     "locked": true,
     "points": 3,
     "schema_version": 3,
     "solution": false,
     "task": false
    }
   },
   "outputs": [
    {
     "name": "stdout",
     "output_type": "stream",
     "text": [
      "[1] \"Success!\"\n"
     ]
    }
   ],
   "source": [
    "test_3.7()"
   ]
  },
  {
   "cell_type": "markdown",
   "metadata": {},
   "source": [
    "**Question 3.8**\n",
    "<br>{points: 3}\n",
    "\n",
    "What decision should be made at 10% significance level?\n",
    "\n",
    "A. Reject $H_0$ and commit the Type I Error;\n",
    "\n",
    "B. Reject $H_0$ and commit the Type 2 Error;\n",
    "\n",
    "C. Correctly reject $H_0$;\n",
    "\n",
    "D. Not reject $H_0$ and commit the Type 1 Error;\n",
    "\n",
    "E. Not reject $H_0$ and commit the Type 2 Error;\n",
    "\n",
    "F. Correctly not reject $H_0$;\n",
    "\n",
    "_Assign your answer to an object called `answer3.5`_"
   ]
  },
  {
   "cell_type": "code",
   "execution_count": 61,
   "metadata": {
    "nbgrader": {
     "grade": false,
     "grade_id": "cell-cb42623aee11340d",
     "locked": false,
     "schema_version": 3,
     "solution": true,
     "task": false
    }
   },
   "outputs": [
    {
     "data": {
      "text/html": [
       "'E'"
      ],
      "text/latex": [
       "'E'"
      ],
      "text/markdown": [
       "'E'"
      ],
      "text/plain": [
       "[1] \"E\""
      ]
     },
     "metadata": {},
     "output_type": "display_data"
    }
   ],
   "source": [
    "#answer3.8 <- \n",
    "\n",
    "### BEGIN SOLUTION\n",
    "answer3.8 <- \"E\"\n",
    "### END SOLUTION\n",
    "\n",
    "answer3.8"
   ]
  },
  {
   "cell_type": "code",
   "execution_count": 62,
   "metadata": {
    "nbgrader": {
     "grade": true,
     "grade_id": "cell-68c4131a9c491e83",
     "locked": true,
     "points": 3,
     "schema_version": 3,
     "solution": false,
     "task": false
    }
   },
   "outputs": [
    {
     "name": "stdout",
     "output_type": "stream",
     "text": [
      "[1] \"Success!\"\n"
     ]
    }
   ],
   "source": [
    "test_3.8()"
   ]
  },
  {
   "cell_type": "markdown",
   "metadata": {
    "nbgrader": {
     "grade": false,
     "grade_id": "cell-8b42616ac3e9c479",
     "locked": true,
     "schema_version": 3,
     "solution": false,
     "task": false
    }
   },
   "source": [
    "## 4. Simulation: Exploring the power of a test\n",
    "\n",
    "In this section, we will simulate data to illustrate two concepts related to hypothesis test. \n",
    "\n",
    "\n",
    "Suppose that we are trying to test if the level of albumin in patients with fibrosis is 44g/L (which is the mean albumin level of patients with healthy liver): \n",
    "\n",
    "$H_0: \\mu = 44g/L$ vs $H_1:\\mu < 44g/L$. \n",
    "\n",
    "Let's assume that the true mean of patients with Fibrosis is 41.76. Therefore, we know that the alternative hypothesis $H_1$ is the true one. Let's simulate a population now. "
   ]
  },
  {
   "cell_type": "code",
   "execution_count": 63,
   "metadata": {
    "nbgrader": {
     "grade": false,
     "grade_id": "cell-4058aae31601537d",
     "locked": true,
     "schema_version": 3,
     "solution": false,
     "task": false
    }
   },
   "outputs": [
    {
     "data": {
      "text/html": [
       "<table>\n",
       "<caption>A tibble: 6 × 1</caption>\n",
       "<thead>\n",
       "\t<tr><th scope=col>albumin</th></tr>\n",
       "\t<tr><th scope=col>&lt;dbl&gt;</th></tr>\n",
       "</thead>\n",
       "<tbody>\n",
       "\t<tr><td>39.41706</td></tr>\n",
       "\t<tr><td>42.44683</td></tr>\n",
       "\t<tr><td>38.63475</td></tr>\n",
       "\t<tr><td>47.72635</td></tr>\n",
       "\t<tr><td>42.99236</td></tr>\n",
       "\t<tr><td>38.69145</td></tr>\n",
       "</tbody>\n",
       "</table>\n"
      ],
      "text/latex": [
       "A tibble: 6 × 1\n",
       "\\begin{tabular}{l}\n",
       " albumin\\\\\n",
       " <dbl>\\\\\n",
       "\\hline\n",
       "\t 39.41706\\\\\n",
       "\t 42.44683\\\\\n",
       "\t 38.63475\\\\\n",
       "\t 47.72635\\\\\n",
       "\t 42.99236\\\\\n",
       "\t 38.69145\\\\\n",
       "\\end{tabular}\n"
      ],
      "text/markdown": [
       "\n",
       "A tibble: 6 × 1\n",
       "\n",
       "| albumin &lt;dbl&gt; |\n",
       "|---|\n",
       "| 39.41706 |\n",
       "| 42.44683 |\n",
       "| 38.63475 |\n",
       "| 47.72635 |\n",
       "| 42.99236 |\n",
       "| 38.69145 |\n",
       "\n"
      ],
      "text/plain": [
       "  albumin \n",
       "1 39.41706\n",
       "2 42.44683\n",
       "3 38.63475\n",
       "4 47.72635\n",
       "5 42.99236\n",
       "6 38.69145"
      ]
     },
     "metadata": {},
     "output_type": "display_data"
    }
   ],
   "source": [
    "set.seed(1)\n",
    "# Run this cell before continuing\n",
    "true_pop <- \n",
    "    tibble(albumin = rnorm(50000, 41.76, 3.74))\n",
    "\n",
    "head(true_pop)"
   ]
  },
  {
   "cell_type": "markdown",
   "metadata": {
    "nbgrader": {
     "grade": false,
     "grade_id": "cell-b1e0fca5fb5cf275",
     "locked": true,
     "schema_version": 3,
     "solution": false,
     "task": false
    }
   },
   "source": [
    "**Question 4.1**\n",
    "<br>{points: 3}\n",
    "\n",
    "Fill in the code below to plot the histogram of the true population.\n",
    "\n",
    "_Assign your answer to an object called `true_pop_hist`._"
   ]
  },
  {
   "cell_type": "code",
   "execution_count": 64,
   "metadata": {
    "nbgrader": {
     "grade": false,
     "grade_id": "cell-5277c893ea57b610",
     "locked": false,
     "schema_version": 3,
     "solution": true,
     "task": false
    }
   },
   "outputs": [
    {
     "data": {
      "image/png": "[encoded data removed]",
      "text/plain": [
       "plot without title"
      ]
     },
     "metadata": {
      "image/png": {
       "height": 420,
       "width": 420
      }
     },
     "output_type": "display_data"
    }
   ],
   "source": [
    "\n",
    "#true_pop_hist <- \n",
    "#    true_pop %>% \n",
    "#    ....() +\n",
    "#    ...(..., color=\"#FF9999\", fill=\"#FF9999\", alpha=.35, bins=55)+\n",
    "#    theme(text = element_text(size=20))\n",
    "\n",
    "### BEGIN SOLUTION\n",
    "true_pop_hist <- \n",
    "    true_pop %>% \n",
    "    ggplot() +\n",
    "    geom_histogram(aes(albumin), color=\"#FF9999\", fill=\"#FF9999\", alpha=.35, bins=55)+\n",
    "    theme(text = element_text(size=20))\n",
    "### END SOLUTION\n",
    "\n",
    "true_pop_hist"
   ]
  },
  {
   "cell_type": "code",
   "execution_count": 65,
   "metadata": {
    "nbgrader": {
     "grade": true,
     "grade_id": "cell-ff9469396bea4423",
     "locked": true,
     "points": 3,
     "schema_version": 3,
     "solution": false,
     "task": false
    }
   },
   "outputs": [
    {
     "name": "stdout",
     "output_type": "stream",
     "text": [
      "[1] \"Success!\"\n"
     ]
    }
   ],
   "source": [
    "test_4.1()"
   ]
  },
  {
   "cell_type": "markdown",
   "metadata": {
    "nbgrader": {
     "grade": false,
     "grade_id": "cell-4a8886c0ab0b4ba6",
     "locked": true,
     "schema_version": 3,
     "solution": false,
     "task": false
    }
   },
   "source": [
    "**Question 4.2**\n",
    "<br>{points: 3}\n",
    "\n",
    "To test the hypothesis, we start by taking a sample (from the true population) and calculating the test statistic. In this exercise, you are going to use `rep_sample_n` to take one sample of size 30. \n",
    "\n",
    "_Assign your answer to an object called `sample`._"
   ]
  },
  {
   "cell_type": "code",
   "execution_count": 66,
   "metadata": {
    "nbgrader": {
     "grade": false,
     "grade_id": "cell-29b335c916d997f7",
     "locked": false,
     "schema_version": 3,
     "solution": true,
     "task": false
    }
   },
   "outputs": [
    {
     "data": {
      "text/html": [
       "<table>\n",
       "<caption>A grouped_df: 6 × 2</caption>\n",
       "<thead>\n",
       "\t<tr><th scope=col>replicate</th><th scope=col>albumin</th></tr>\n",
       "\t<tr><th scope=col>&lt;int&gt;</th><th scope=col>&lt;dbl&gt;</th></tr>\n",
       "</thead>\n",
       "<tbody>\n",
       "\t<tr><td>1</td><td>38.34774</td></tr>\n",
       "\t<tr><td>1</td><td>49.50687</td></tr>\n",
       "\t<tr><td>1</td><td>38.05065</td></tr>\n",
       "\t<tr><td>1</td><td>41.54900</td></tr>\n",
       "\t<tr><td>1</td><td>47.07603</td></tr>\n",
       "\t<tr><td>1</td><td>34.33513</td></tr>\n",
       "</tbody>\n",
       "</table>\n"
      ],
      "text/latex": [
       "A grouped\\_df: 6 × 2\n",
       "\\begin{tabular}{ll}\n",
       " replicate & albumin\\\\\n",
       " <int> & <dbl>\\\\\n",
       "\\hline\n",
       "\t 1 & 38.34774\\\\\n",
       "\t 1 & 49.50687\\\\\n",
       "\t 1 & 38.05065\\\\\n",
       "\t 1 & 41.54900\\\\\n",
       "\t 1 & 47.07603\\\\\n",
       "\t 1 & 34.33513\\\\\n",
       "\\end{tabular}\n"
      ],
      "text/markdown": [
       "\n",
       "A grouped_df: 6 × 2\n",
       "\n",
       "| replicate &lt;int&gt; | albumin &lt;dbl&gt; |\n",
       "|---|---|\n",
       "| 1 | 38.34774 |\n",
       "| 1 | 49.50687 |\n",
       "| 1 | 38.05065 |\n",
       "| 1 | 41.54900 |\n",
       "| 1 | 47.07603 |\n",
       "| 1 | 34.33513 |\n",
       "\n"
      ],
      "text/plain": [
       "  replicate albumin \n",
       "1 1         38.34774\n",
       "2 1         49.50687\n",
       "3 1         38.05065\n",
       "4 1         41.54900\n",
       "5 1         47.07603\n",
       "6 1         34.33513"
      ]
     },
     "metadata": {},
     "output_type": "display_data"
    }
   ],
   "source": [
    "set.seed(1) # Do not change this.\n",
    "\n",
    "#sample <- \n",
    "#    true_pop %>% \n",
    "#    ...(... = 30)\n",
    "\n",
    "### BEGIN SOLUTION\n",
    "sample <- \n",
    "    true_pop %>% \n",
    "    rep_sample_n(size = 30)\n",
    "### END SOLUTION\n",
    "\n",
    "head(sample)"
   ]
  },
  {
   "cell_type": "code",
   "execution_count": 67,
   "metadata": {
    "nbgrader": {
     "grade": true,
     "grade_id": "cell-b050d4afb4c8b839",
     "locked": true,
     "points": 3,
     "schema_version": 3,
     "solution": false,
     "task": false
    }
   },
   "outputs": [
    {
     "name": "stdout",
     "output_type": "stream",
     "text": [
      "[1] \"Success!\"\n"
     ]
    }
   ],
   "source": [
    "test_4.2()"
   ]
  },
  {
   "cell_type": "markdown",
   "metadata": {
    "nbgrader": {
     "grade": false,
     "grade_id": "cell-8e930442a99a9646",
     "locked": true,
     "schema_version": 3,
     "solution": false,
     "task": false
    }
   },
   "source": [
    "**Question 4.3**\n",
    "<br>{points: 6}\n",
    "\n",
    "Before we obtain the sampling distribution assuming $H_0$ was true (i.e., the null model), let's study the actual sampling distribution. Generate 10,000 values from the bootstrap sampling distribution and plot its histogram. \n",
    "\n",
    "_Assign the generated values to a tibble object called `sampling_dist` and the histogram to an object called `boot_sampl_dist_hist`._"
   ]
  },
  {
   "cell_type": "code",
   "execution_count": 68,
   "metadata": {
    "nbgrader": {
     "grade": false,
     "grade_id": "cell-3273b452290bdea4",
     "locked": false,
     "schema_version": 3,
     "solution": true,
     "task": false
    }
   },
   "outputs": [
    {
     "data": {
      "image/png": "[encoded data removed]",
      "text/plain": [
       "plot without title"
      ]
     },
     "metadata": {
      "image/png": {
       "height": 420,
       "width": 420
      }
     },
     "output_type": "display_data"
    }
   ],
   "source": [
    "set.seed(1)\n",
    "\n",
    "#sampling_dist <- \n",
    "#    sample %>% \n",
    "#    specify(...) %>% \n",
    "#    generate(...) %>% \n",
    "#    ...(stat = \"mean\") %>% \n",
    "#    mutate(samp_dist = \"True\")\n",
    "\n",
    "#boot_sampl_dist_hist <- \n",
    "#    sampling_dist %>% \n",
    "#    ggplot() +\n",
    "#    geom_histogram(aes(..., color=samp_dist, fill=samp_dist), alpha=.35, bins=20) +\n",
    "#    theme(text = element_text(size=20)) + \n",
    "#    xlab(\"Albumin g/L\")\n",
    "\n",
    "### BEGIN SOLUTION\n",
    "sampling_dist <- \n",
    "    sample %>% \n",
    "    specify(response = albumin) %>% \n",
    "    generate(reps = 10000, type = \"bootstrap\") %>% \n",
    "    calculate(stat = \"mean\") %>% \n",
    "    mutate(samp_dist = \"Actual\")\n",
    "\n",
    "boot_sampl_dist_hist <- \n",
    "    sampling_dist %>% \n",
    "    ggplot() +\n",
    "    geom_histogram(aes(stat, color=samp_dist, fill=samp_dist), alpha=.35, bins=20) +\n",
    "    theme(text = element_text(size=20)) + \n",
    "    xlab(\"Albumin g/L\")\n",
    "### END SOLUTION\n",
    "\n",
    "boot_sampl_dist_hist"
   ]
  },
  {
   "cell_type": "code",
   "execution_count": 69,
   "metadata": {
    "nbgrader": {
     "grade": true,
     "grade_id": "cell-f9503f077ef82acf",
     "locked": true,
     "points": 3,
     "schema_version": 3,
     "solution": false,
     "task": false
    }
   },
   "outputs": [
    {
     "name": "stdout",
     "output_type": "stream",
     "text": [
      "[1] \"Success!\"\n"
     ]
    }
   ],
   "source": [
    "test_4.3A()"
   ]
  },
  {
   "cell_type": "code",
   "execution_count": 70,
   "metadata": {
    "nbgrader": {
     "grade": true,
     "grade_id": "cell-106ccc9fa48f1350",
     "locked": true,
     "points": 3,
     "schema_version": 3,
     "solution": false,
     "task": false
    }
   },
   "outputs": [
    {
     "name": "stdout",
     "output_type": "stream",
     "text": [
      "[1] \"Success!\"\n"
     ]
    }
   ],
   "source": [
    "test_4.3B()"
   ]
  },
  {
   "cell_type": "markdown",
   "metadata": {
    "nbgrader": {
     "grade": false,
     "grade_id": "cell-7c465ae78a0cb4fe",
     "locked": true,
     "schema_version": 3,
     "solution": false,
     "task": false
    }
   },
   "source": [
    "**Question 4.4**\n",
    "<br>{points: 4}\n",
    "\n",
    "Next, it is time to conduct the hypothesis test. In this exercise, you need to generate values from the sampling distribution under $H_0$ (i.e., from the null model). \n",
    "\n",
    "_Assign the test statistic to an object called `obs_test_stat_4.4` and ensure these values are in a tibble named `null_model_4.4`._"
   ]
  },
  {
   "cell_type": "code",
   "execution_count": 71,
   "metadata": {
    "nbgrader": {
     "grade": false,
     "grade_id": "cell-7beefda387e9c9ec",
     "locked": false,
     "schema_version": 3,
     "solution": true,
     "task": false
    }
   },
   "outputs": [
    {
     "data": {
      "text/html": [
       "40.9722431712481"
      ],
      "text/latex": [
       "40.9722431712481"
      ],
      "text/markdown": [
       "40.9722431712481"
      ],
      "text/plain": [
       "[1] 40.97224"
      ]
     },
     "metadata": {},
     "output_type": "display_data"
    },
    {
     "data": {
      "text/html": [
       "<table>\n",
       "<caption>A tibble: 6 × 3</caption>\n",
       "<thead>\n",
       "\t<tr><th scope=col>replicate</th><th scope=col>stat</th><th scope=col>samp_dist</th></tr>\n",
       "\t<tr><th scope=col>&lt;int&gt;</th><th scope=col>&lt;dbl&gt;</th><th scope=col>&lt;chr&gt;</th></tr>\n",
       "</thead>\n",
       "<tbody>\n",
       "\t<tr><td>1</td><td>44.71797</td><td>null model</td></tr>\n",
       "\t<tr><td>2</td><td>43.15822</td><td>null model</td></tr>\n",
       "\t<tr><td>3</td><td>43.66680</td><td>null model</td></tr>\n",
       "\t<tr><td>4</td><td>43.73072</td><td>null model</td></tr>\n",
       "\t<tr><td>5</td><td>44.29037</td><td>null model</td></tr>\n",
       "\t<tr><td>6</td><td>43.42879</td><td>null model</td></tr>\n",
       "</tbody>\n",
       "</table>\n"
      ],
      "text/latex": [
       "A tibble: 6 × 3\n",
       "\\begin{tabular}{lll}\n",
       " replicate & stat & samp\\_dist\\\\\n",
       " <int> & <dbl> & <chr>\\\\\n",
       "\\hline\n",
       "\t 1 & 44.71797 & null model\\\\\n",
       "\t 2 & 43.15822 & null model\\\\\n",
       "\t 3 & 43.66680 & null model\\\\\n",
       "\t 4 & 43.73072 & null model\\\\\n",
       "\t 5 & 44.29037 & null model\\\\\n",
       "\t 6 & 43.42879 & null model\\\\\n",
       "\\end{tabular}\n"
      ],
      "text/markdown": [
       "\n",
       "A tibble: 6 × 3\n",
       "\n",
       "| replicate &lt;int&gt; | stat &lt;dbl&gt; | samp_dist &lt;chr&gt; |\n",
       "|---|---|---|\n",
       "| 1 | 44.71797 | null model |\n",
       "| 2 | 43.15822 | null model |\n",
       "| 3 | 43.66680 | null model |\n",
       "| 4 | 43.73072 | null model |\n",
       "| 5 | 44.29037 | null model |\n",
       "| 6 | 43.42879 | null model |\n",
       "\n"
      ],
      "text/plain": [
       "  replicate stat     samp_dist \n",
       "1 1         44.71797 null model\n",
       "2 2         43.15822 null model\n",
       "3 3         43.66680 null model\n",
       "4 4         43.73072 null model\n",
       "5 5         44.29037 null model\n",
       "6 6         43.42879 null model"
      ]
     },
     "metadata": {},
     "output_type": "display_data"
    }
   ],
   "source": [
    "set.seed(1) # Do not change this.\n",
    "\n",
    "#obs_test_stat_4.4 <- ....\n",
    "\n",
    "#null_model_4.4 <-\n",
    "#    sample %>% \n",
    "#    specify(...) %>% \n",
    "#    ...(...) %>% \n",
    "#    generate(reps = 10000, type = \"bootstrap\") %>% \n",
    "#    calculate(...) %>% \n",
    "#    mutate(samp_dist = \"null model\")\n",
    "\n",
    "### BEGIN SOLUTION\n",
    "obs_test_stat_4.4 <- mean(sample$albumin)\n",
    "\n",
    "null_model_4.4 <-\n",
    "    sample %>% \n",
    "    specify(response = albumin) %>% \n",
    "    hypothesise(null = \"point\", mu = 44) %>% \n",
    "    generate(reps = 10000, type = \"bootstrap\") %>% \n",
    "    calculate(stat = \"mean\") %>% \n",
    "    mutate(samp_dist = \"null model\")\n",
    "### END SOLUTION\n",
    "\n",
    "obs_test_stat_4.4\n",
    "head(null_model_4.4)"
   ]
  },
  {
   "cell_type": "code",
   "execution_count": 72,
   "metadata": {
    "nbgrader": {
     "grade": true,
     "grade_id": "cell-e85fc1a0f7e3ce8f",
     "locked": true,
     "points": 1,
     "schema_version": 3,
     "solution": false,
     "task": false
    }
   },
   "outputs": [
    {
     "name": "stdout",
     "output_type": "stream",
     "text": [
      "[1] \"Success!\"\n"
     ]
    }
   ],
   "source": [
    "test_4.4A()"
   ]
  },
  {
   "cell_type": "code",
   "execution_count": 73,
   "metadata": {
    "nbgrader": {
     "grade": true,
     "grade_id": "cell-a25565c89da9448f",
     "locked": true,
     "points": 3,
     "schema_version": 3,
     "solution": false,
     "task": false
    },
    "scrolled": true
   },
   "outputs": [
    {
     "name": "stdout",
     "output_type": "stream",
     "text": [
      "[1] \"Success!\"\n"
     ]
    }
   ],
   "source": [
    "test_4.4B()"
   ]
  },
  {
   "cell_type": "markdown",
   "metadata": {
    "nbgrader": {
     "grade": false,
     "grade_id": "cell-0b2a48b3b333b7bb",
     "locked": true,
     "schema_version": 3,
     "solution": false,
     "task": false
    }
   },
   "source": [
    "**Question 4.5**\n",
    "<br>{points: 1}\n",
    "\n",
    "What type of error are we subject to commit in this hypothesis test?\n",
    "\n",
    "A. Type I Error\n",
    "\n",
    "B. Type II Error\n",
    "\n",
    "\n",
    "_Assign your answer to an object called `answer4.5`. Your answer should be a single character surrounded by quotes._"
   ]
  },
  {
   "cell_type": "code",
   "execution_count": 74,
   "metadata": {
    "nbgrader": {
     "grade": false,
     "grade_id": "cell-fc7b0870d8bc373c",
     "locked": false,
     "schema_version": 3,
     "solution": true,
     "task": false
    }
   },
   "outputs": [
    {
     "data": {
      "text/html": [
       "'b'"
      ],
      "text/latex": [
       "'b'"
      ],
      "text/markdown": [
       "'b'"
      ],
      "text/plain": [
       "[1] \"b\""
      ]
     },
     "metadata": {},
     "output_type": "display_data"
    }
   ],
   "source": [
    "#answer4.5 <- \n",
    "### BEGIN SOLUTION\n",
    "answer4.5 <- \"b\"\n",
    "### END SOLUTION\n",
    "\n",
    "answer4.5"
   ]
  },
  {
   "cell_type": "code",
   "execution_count": 75,
   "metadata": {
    "nbgrader": {
     "grade": true,
     "grade_id": "cell-3a6b302efd1cb88c",
     "locked": true,
     "points": 1,
     "schema_version": 3,
     "solution": false,
     "task": false
    }
   },
   "outputs": [
    {
     "name": "stdout",
     "output_type": "stream",
     "text": [
      "[1] \"Success!\"\n"
     ]
    }
   ],
   "source": [
    "test_4.5()"
   ]
  },
  {
   "cell_type": "markdown",
   "metadata": {
    "nbgrader": {
     "grade": false,
     "grade_id": "cell-46032ae9773b2580",
     "locked": true,
     "schema_version": 3,
     "solution": false,
     "task": false
    }
   },
   "source": [
    "**Question 4.6**\n",
    "<br>{points: 1}\n",
    "\n",
    "To understand how type II error can occur, contrast the null model and the actual sampling distribution shown below:"
   ]
  },
  {
   "cell_type": "code",
   "execution_count": 76,
   "metadata": {
    "nbgrader": {
     "grade": false,
     "grade_id": "cell-a50901cf0188b6b6",
     "locked": true,
     "schema_version": 3,
     "solution": false,
     "task": false
    }
   },
   "outputs": [
    {
     "data": {
      "image/png": "[encoded data removed]",
      "text/plain": [
       "plot without title"
      ]
     },
     "metadata": {
      "image/png": {
       "height": 420,
       "width": 420
      }
     },
     "output_type": "display_data"
    }
   ],
   "source": [
    "sampling_dist %>% \n",
    "    bind_rows(null_model_4.4) %>% \n",
    "    ggplot() + \n",
    "    geom_histogram(aes(stat, color=samp_dist, fill=samp_dist), alpha=.25, bins=40, position=\"identity\" ) +\n",
    "    theme(text = element_text(size=20)) + \n",
    "    xlab(\"Albumin g/L\")"
   ]
  },
  {
   "cell_type": "markdown",
   "metadata": {
    "nbgrader": {
     "grade": false,
     "grade_id": "cell-046df4629f84bb79",
     "locked": true,
     "schema_version": 3,
     "solution": false,
     "task": false
    }
   },
   "source": [
    "As you can notice from the image above, there is an overlap between the null model and the actual sampling distribution. The bigger this overlap is, the higher is the chance that the actual sampling distribution generates a test statistic in the region of non-rejection of $H_0$ (imagine moving the red distribution towards the right). Unfortunately, for a given sample size, we cannot reduce the probability of type II error without increasing the probability of type I error. \n",
    "\n",
    "There are mainly two things that affect the probability of type II error: (1) the effect size (i.e., the difference between the true parameter and the hypothesized value in $H_0$); and (2) the sample size. \n",
    "\n",
    "We say that a test is powerful if it has a high chance of detecting when $H_0$ is false. In this sense, the power of a test is one minus the probability of type II error. \n",
    "\n",
    "The question for you here is: \n",
    "> Why increasing the sample size also increases the power of a test?\n",
    "\n",
    "A. Because it increases the effect size by moving the true sampling distribution and the null model in opposing directions, which reduces their overlap. \n",
    "\n",
    "B. Because increasing the sample size makes the sampling distribution narrower, reducing the overlap between the true sampling distribution and the null model. \n",
    "\n",
    "To help you answer this question, see the plot below. \n",
    "\n",
    "_Assign your answer to an object called answer4.6_"
   ]
  },
  {
   "cell_type": "code",
   "execution_count": 77,
   "metadata": {
    "nbgrader": {
     "grade": false,
     "grade_id": "cell-b506d7e9b291ccc1",
     "locked": true,
     "schema_version": 3,
     "solution": false,
     "task": false
    }
   },
   "outputs": [],
   "source": [
    "set.seed(15)  # Don't worry about this code. You can safely ignore it. \n",
    "\n",
    "example <-\n",
    "    tibble(effect_size = c(1,5,9)) %>% \n",
    "    mutate(pop = map(effect_size, ~rnorm(2000, 44-.x, 3))) %>% \n",
    "    crossing(tibble(n = c(40, 80, 500))) %>% \n",
    "    mutate(samp = map2(pop, n, ~tibble(var=sample(.x, size = .y)))) %>%\n",
    "    select(-pop) %>% \n",
    "    mutate(observed_test_stat = map_dbl(samp, ~mean(.x$var))) %>% \n",
    "    mutate(null_model = map(samp,\n",
    "                            ~specify(.x, response=var) %>% \n",
    "                            hypothesise(null = \"point\", mu = 44) %>% \n",
    "                            generate(reps = 10000, type='bootstrap') %>% \n",
    "                            calculate(stat = \"mean\") %>% \n",
    "                            mutate(samp_dist = \"Null Model\")),\n",
    "           samp_dist_temp = map(samp,\n",
    "                            ~specify(.x, response=var) %>% \n",
    "                            generate(reps = 10000, type='bootstrap') %>% \n",
    "                            calculate(stat = \"mean\") %>% \n",
    "                            mutate(samp_dist = \"Actual\"))) %>% \n",
    "    mutate(samp_dist = map2(null_model, samp_dist_temp, ~bind_rows(.x,.y))) %>% \n",
    "    select(-null_model, -samp_dist_temp, -samp) %>% \n",
    "    unnest(samp_dist) "
   ]
  },
  {
   "cell_type": "code",
   "execution_count": 78,
   "metadata": {
    "nbgrader": {
     "grade": false,
     "grade_id": "cell-7813ec901bcdc899",
     "locked": true,
     "schema_version": 3,
     "solution": false,
     "task": false
    }
   },
   "outputs": [
    {
     "data": {
      "image/png": "[encoded data removed]",
      "text/plain": [
       "plot without title"
      ]
     },
     "metadata": {
      "image/png": {
       "height": 420,
       "width": 900
      }
     },
     "output_type": "display_data"
    }
   ],
   "source": [
    "options(repr.plot.width=15, repr.plot.height=7) # Adjust these number so the plot looks good in your desktop\n",
    "\n",
    "example %>% \n",
    "    ggplot() +    \n",
    "    geom_histogram(aes(stat, color=samp_dist, fill=samp_dist), alpha=.25, bins=200, position=\"identity\" ) +\n",
    "    facet_grid(n~effect_size, labeller = labeller(.rows = label_both, .cols = label_both))+\n",
    "    theme(text = element_text(size=20)) + \n",
    "    xlab(\"Albumin g/L\")"
   ]
  },
  {
   "cell_type": "code",
   "execution_count": 79,
   "metadata": {
    "nbgrader": {
     "grade": false,
     "grade_id": "cell-2b4f17e7473bd754",
     "locked": false,
     "schema_version": 3,
     "solution": true,
     "task": false
    }
   },
   "outputs": [
    {
     "data": {
      "text/html": [
       "'B'"
      ],
      "text/latex": [
       "'B'"
      ],
      "text/markdown": [
       "'B'"
      ],
      "text/plain": [
       "[1] \"B\""
      ]
     },
     "metadata": {},
     "output_type": "display_data"
    }
   ],
   "source": [
    "#answer4.6 <-\n",
    "\n",
    "### BEGIN SOLUTION\n",
    "answer4.6 <- \"B\"\n",
    "### END SOLUTION\n",
    "\n",
    "answer4.6"
   ]
  },
  {
   "cell_type": "code",
   "execution_count": 80,
   "metadata": {
    "nbgrader": {
     "grade": true,
     "grade_id": "cell-4b1e027a28698cb7",
     "locked": true,
     "points": 1,
     "schema_version": 3,
     "solution": false,
     "task": false
    }
   },
   "outputs": [
    {
     "name": "stdout",
     "output_type": "stream",
     "text": [
      "[1] \"Success!\"\n"
     ]
    }
   ],
   "source": [
    "test_4.6()"
   ]
  }
 ],
 "metadata": {
  "celltoolbar": "Create Assignment",
  "docker": {
   "latest_image_tag": "v0.4.0"
  },
  "jupytext": {
   "formats": "ipynb,Rmd"
  },
  "kernelspec": {
   "display_name": "R",
   "language": "R",
   "name": "ir"
  },
  "language_info": {
   "codemirror_mode": "r",
   "file_extension": ".r",
   "mimetype": "text/x-r-source",
   "name": "R",
   "pygments_lexer": "r",
   "version": "4.0.0"
  }
 },
 "nbformat": 4,
 "nbformat_minor": 4
}
