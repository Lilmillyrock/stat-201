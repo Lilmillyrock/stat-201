{
 "cells": [
  {
   "cell_type": "markdown",
   "metadata": {
    "nbgrader": {
     "grade": false,
     "grade_id": "cell-a285fa9a5c8bfcea",
     "locked": true,
     "schema_version": 3,
     "solution": false,
     "task": false
    }
   },
   "source": [
    "# Worksheet 11: Beyond two-group comparisons"
   ]
  },
  {
   "cell_type": "code",
   "execution_count": 1,
   "metadata": {
    "lines_to_next_cell": 2,
    "message": false,
    "nbgrader": {
     "grade": false,
     "grade_id": "cell-30f56caec5c2231a",
     "locked": true,
     "schema_version": 3,
     "solution": false,
     "task": false
    },
    "warning": false
   },
   "outputs": [
    {
     "name": "stderr",
     "output_type": "stream",
     "text": [
      "── \u001b[1mAttaching packages\u001b[22m ─────────────────────────────────────── tidyverse 1.3.0 ──\n",
      "\n",
      "\u001b[32m✔\u001b[39m \u001b[34mggplot2\u001b[39m 3.3.2     \u001b[32m✔\u001b[39m \u001b[34mpurrr  \u001b[39m 0.3.4\n",
      "\u001b[32m✔\u001b[39m \u001b[34mtibble \u001b[39m 3.0.3     \u001b[32m✔\u001b[39m \u001b[34mdplyr  \u001b[39m 1.0.2\n",
      "\u001b[32m✔\u001b[39m \u001b[34mtidyr  \u001b[39m 1.1.1     \u001b[32m✔\u001b[39m \u001b[34mstringr\u001b[39m 1.4.0\n",
      "\u001b[32m✔\u001b[39m \u001b[34mreadr  \u001b[39m 1.3.1     \u001b[32m✔\u001b[39m \u001b[34mforcats\u001b[39m 0.5.0\n",
      "\n",
      "Warning message:\n",
      "“package ‘ggplot2’ was built under R version 4.0.1”\n",
      "Warning message:\n",
      "“package ‘tibble’ was built under R version 4.0.2”\n",
      "Warning message:\n",
      "“package ‘tidyr’ was built under R version 4.0.2”\n",
      "Warning message:\n",
      "“package ‘dplyr’ was built under R version 4.0.2”\n",
      "── \u001b[1mConflicts\u001b[22m ────────────────────────────────────────── tidyverse_conflicts() ──\n",
      "\u001b[31m✖\u001b[39m \u001b[34mdplyr\u001b[39m::\u001b[32mfilter()\u001b[39m masks \u001b[34mstats\u001b[39m::filter()\n",
      "\u001b[31m✖\u001b[39m \u001b[34mdplyr\u001b[39m::\u001b[32mlag()\u001b[39m    masks \u001b[34mstats\u001b[39m::lag()\n",
      "\n",
      "Warning message:\n",
      "“package ‘infer’ was built under R version 4.0.2”\n",
      "\n",
      "Attaching package: ‘testthat’\n",
      "\n",
      "\n",
      "The following object is masked from ‘package:dplyr’:\n",
      "\n",
      "    matches\n",
      "\n",
      "\n",
      "The following object is masked from ‘package:purrr’:\n",
      "\n",
      "    is_null\n",
      "\n",
      "\n",
      "The following object is masked from ‘package:tidyr’:\n",
      "\n",
      "    matches\n",
      "\n",
      "\n",
      "Warning message:\n",
      "“package ‘broom’ was built under R version 4.0.2”\n"
     ]
    }
   ],
   "source": [
    "library(tidyverse)\n",
    "library(infer)\n",
    "library(datateachr)\n",
    "library(testthat)\n",
    "library(digest)\n",
    "library(broom)\n",
    "source(\"tests_worksheet_11.r\")"
   ]
  },
  {
   "cell_type": "markdown",
   "metadata": {
    "nbgrader": {
     "grade": false,
     "grade_id": "cell-03120628ad8c51eb",
     "locked": true,
     "schema_version": 3,
     "solution": false,
     "task": false
    }
   },
   "source": [
    "## Learning Objectives\n",
    "\n",
    "- Run a simple one-way ANOVA, without knowing the details of the test (the level of detail required is what's presented in the blog post).\n",
    "- Calculate and interpret prediction intervals.\n",
    "\n",
    "## Exercise 1: Recap Exercises\n",
    "\n",
    "### Question 1.1\n",
    "\n",
    "After how many hypotheses would we expect to make one Type I error, if each hypothesis is tested at a 0.05 significance level? Assuming the data from these tests are independent, that is. Put the number in a variable named `recap1`."
   ]
  },
  {
   "cell_type": "code",
   "execution_count": 2,
   "metadata": {
    "nbgrader": {
     "grade": false,
     "grade_id": "cell-a9b66c6f231ce5f7",
     "locked": false,
     "schema_version": 3,
     "solution": true,
     "task": false
    }
   },
   "outputs": [
    {
     "name": "stdout",
     "output_type": "stream",
     "text": [
      "[1] 20\n"
     ]
    }
   ],
   "source": [
    "# recap1 <- FILL_THIS_IN\n",
    "\n",
    "### BEGIN SOLUTION\n",
    "recap1 <- 20\n",
    "### END SOLUTION\n",
    "\n",
    "print(recap1)"
   ]
  },
  {
   "cell_type": "code",
   "execution_count": 3,
   "metadata": {
    "nbgrader": {
     "grade": true,
     "grade_id": "cell-ef5fd2da92bda890",
     "locked": true,
     "points": 1,
     "schema_version": 3,
     "solution": false,
     "task": false
    }
   },
   "outputs": [
    {
     "name": "stdout",
     "output_type": "stream",
     "text": [
      "success!"
     ]
    }
   ],
   "source": [
    "test_1.1()"
   ]
  },
  {
   "cell_type": "markdown",
   "metadata": {
    "nbgrader": {
     "grade": false,
     "grade_id": "cell-4cd9f26b1e63ec57",
     "locked": true,
     "schema_version": 3,
     "solution": false,
     "task": false
    }
   },
   "source": [
    "### Question 1.2\n",
    "\n",
    "You decide to get some practice with data analysis, so you analyse a different data set each week. For each analysis, you produce a single 90% confidence interval for a parameter. After how many projects would you expect to have made a confidence interval that _does not_ contain the true parameter? Put your answer in a variable named `recap2`."
   ]
  },
  {
   "cell_type": "code",
   "execution_count": 4,
   "metadata": {
    "nbgrader": {
     "grade": false,
     "grade_id": "cell-062f255249a8cf9d",
     "locked": false,
     "schema_version": 3,
     "solution": true,
     "task": false
    }
   },
   "outputs": [
    {
     "name": "stdout",
     "output_type": "stream",
     "text": [
      "[1] 10\n"
     ]
    }
   ],
   "source": [
    "# recap2 <- FILL_THIS_IN\n",
    "\n",
    "### BEGIN SOLUTION\n",
    "recap2 <- 10\n",
    "### END SOLUTION\n",
    "\n",
    "print(recap2)"
   ]
  },
  {
   "cell_type": "code",
   "execution_count": 5,
   "metadata": {
    "lines_to_next_cell": 2,
    "nbgrader": {
     "grade": true,
     "grade_id": "cell-fcf35b0222506bc2",
     "locked": true,
     "points": 1,
     "schema_version": 3,
     "solution": false,
     "task": false
    }
   },
   "outputs": [
    {
     "name": "stdout",
     "output_type": "stream",
     "text": [
      "success!"
     ]
    }
   ],
   "source": [
    "test_1.2()"
   ]
  },
  {
   "cell_type": "markdown",
   "metadata": {
    "nbgrader": {
     "grade": false,
     "grade_id": "cell-4cd1cdee8339b6b0",
     "locked": true,
     "schema_version": 3,
     "solution": false,
     "task": false
    }
   },
   "source": [
    "## Exercise 2: One-Way ANOVA\n",
    "\n",
    "Consider the `attitude` dataset in the datasets R package, which provides the survey scores of six questions (along with an overall score) given to employees of an organization. A tidy version of the data without the overall score is stored below in the `attitudes_tidy` variable."
   ]
  },
  {
   "cell_type": "code",
   "execution_count": 6,
   "metadata": {
    "nbgrader": {
     "grade": false,
     "grade_id": "cell-08bda415cb782a17",
     "locked": true,
     "schema_version": 3,
     "solution": false,
     "task": false
    }
   },
   "outputs": [
    {
     "data": {
      "text/html": [
       "<table>\n",
       "<caption>A tibble: 6 × 2</caption>\n",
       "<thead>\n",
       "\t<tr><th scope=col>question</th><th scope=col>score</th></tr>\n",
       "\t<tr><th scope=col>&lt;chr&gt;</th><th scope=col>&lt;dbl&gt;</th></tr>\n",
       "</thead>\n",
       "<tbody>\n",
       "\t<tr><td>complaints</td><td>51</td></tr>\n",
       "\t<tr><td>privileges</td><td>30</td></tr>\n",
       "\t<tr><td>learning  </td><td>39</td></tr>\n",
       "\t<tr><td>raises    </td><td>61</td></tr>\n",
       "\t<tr><td>critical  </td><td>92</td></tr>\n",
       "\t<tr><td>advance   </td><td>45</td></tr>\n",
       "</tbody>\n",
       "</table>\n"
      ],
      "text/latex": [
       "A tibble: 6 × 2\n",
       "\\begin{tabular}{ll}\n",
       " question & score\\\\\n",
       " <chr> & <dbl>\\\\\n",
       "\\hline\n",
       "\t complaints & 51\\\\\n",
       "\t privileges & 30\\\\\n",
       "\t learning   & 39\\\\\n",
       "\t raises     & 61\\\\\n",
       "\t critical   & 92\\\\\n",
       "\t advance    & 45\\\\\n",
       "\\end{tabular}\n"
      ],
      "text/markdown": [
       "\n",
       "A tibble: 6 × 2\n",
       "\n",
       "| question &lt;chr&gt; | score &lt;dbl&gt; |\n",
       "|---|---|\n",
       "| complaints | 51 |\n",
       "| privileges | 30 |\n",
       "| learning   | 39 |\n",
       "| raises     | 61 |\n",
       "| critical   | 92 |\n",
       "| advance    | 45 |\n",
       "\n"
      ],
      "text/plain": [
       "  question   score\n",
       "1 complaints 51   \n",
       "2 privileges 30   \n",
       "3 learning   39   \n",
       "4 raises     61   \n",
       "5 critical   92   \n",
       "6 advance    45   "
      ]
     },
     "metadata": {},
     "output_type": "display_data"
    }
   ],
   "source": [
    "attitude_tidy <- \n",
    "    attitude %>% \n",
    "    select(-rating) %>% \n",
    "    pivot_longer(everything(), names_to = \"question\", values_to = \"score\")\n",
    "\n",
    "head(attitude_tidy)"
   ]
  },
  {
   "cell_type": "markdown",
   "metadata": {
    "nbgrader": {
     "grade": false,
     "grade_id": "cell-bb5794f87538efeb",
     "locked": true,
     "schema_version": 3,
     "solution": false,
     "task": false
    }
   },
   "source": [
    "A jitterplot + boxplot of the data is shown below:"
   ]
  },
  {
   "cell_type": "code",
   "execution_count": 7,
   "metadata": {
    "fig.align": "center",
    "fig.height": 3,
    "fig.width": 5,
    "nbgrader": {
     "grade": false,
     "grade_id": "cell-9cf9b2f149373847",
     "locked": true,
     "schema_version": 3,
     "solution": false,
     "task": false
    }
   },
   "outputs": [
    {
     "data": {
      "image/png": "[encoded data removed]",
      "text/plain": [
       "plot without title"
      ]
     },
     "metadata": {
      "image/png": {
       "height": 420,
       "width": 420
      }
     },
     "output_type": "display_data"
    }
   ],
   "source": [
    "attitude_tidy %>% \n",
    "    mutate(question = question %>% \n",
    "                         as_factor() %>% \n",
    "                         fct_reorder(score)) %>% \n",
    "    ggplot(aes(question, score)) +\n",
    "    geom_boxplot(width = 0.4, outlier.shape = NA) +\n",
    "    geom_jitter(width = 0.2, alpha = 1 / 3) +\n",
    "    theme_minimal()"
   ]
  },
  {
   "cell_type": "markdown",
   "metadata": {
    "nbgrader": {
     "grade": false,
     "grade_id": "cell-6a2869d508878e41",
     "locked": true,
     "schema_version": 3,
     "solution": false,
     "task": false
    }
   },
   "source": [
    "Although there are visual differences between the groups, perhaps these differences are due to randomness.\n",
    "\n",
    "For this exercise, denote $\\mu_1, \\mu_2, \\ldots, \\mu_6$ the means of each group (ordered as in the above plot).\n",
    "\n",
    "### Question 2.1\n",
    "\n",
    "Maybe the mean scores are actually the same for each question. How can we write this as a null hypothesis, using symbols? Place the letter to your answer in a variable named `null_hypothesis`.\n",
    "\n",
    "**a**\\. $\\mu_1 = \\mu_2 = \\cdots = \\mu_6$    \n",
    "**b**\\. There are actually 15 null hypotheses, one for each pair of means: $\\mu_1 = \\mu_2$, $\\mu_1 = \\mu_3$, $\\mu_2 = \\mu_3$, etc.     \n",
    "**c**\\. There is an upward trend in score across question type."
   ]
  },
  {
   "cell_type": "code",
   "execution_count": 8,
   "metadata": {
    "nbgrader": {
     "grade": false,
     "grade_id": "cell-0c013cc9509debf9",
     "locked": false,
     "schema_version": 3,
     "solution": true,
     "task": false
    }
   },
   "outputs": [],
   "source": [
    "# null_hypothesis <- \"FILL_THIS_IN\"\n",
    "\n",
    "### BEGIN SOLUTION\n",
    "null_hypothesis <- \"a\"\n",
    "### END SOLUTION"
   ]
  },
  {
   "cell_type": "code",
   "execution_count": 9,
   "metadata": {
    "nbgrader": {
     "grade": true,
     "grade_id": "cell-6a3a9cd39a8d21b0",
     "locked": true,
     "points": 1,
     "schema_version": 3,
     "solution": false,
     "task": false
    }
   },
   "outputs": [
    {
     "name": "stdout",
     "output_type": "stream",
     "text": [
      "success!"
     ]
    }
   ],
   "source": [
    "test_2.1()"
   ]
  },
  {
   "cell_type": "markdown",
   "metadata": {
    "nbgrader": {
     "grade": false,
     "grade_id": "cell-a892af3ec11ba1dc",
     "locked": true,
     "schema_version": 3,
     "solution": false,
     "task": false
    }
   },
   "source": [
    "### Question 2.2\n",
    "\n",
    "Make a tibble containing the variances for each question. Your tibble should have columns named `\"question\"`, containing the question, and `\"variance\"`, containing the variance calculated using the `var()`. There should be six rows -- one for each question. Store the tibble in a variable called `attitude_variances`."
   ]
  },
  {
   "cell_type": "code",
   "execution_count": 10,
   "metadata": {
    "nbgrader": {
     "grade": false,
     "grade_id": "cell-cd7d55fce539aa7c",
     "locked": false,
     "schema_version": 3,
     "solution": true,
     "task": false
    }
   },
   "outputs": [
    {
     "name": "stderr",
     "output_type": "stream",
     "text": [
      "`summarise()` ungrouping output (override with `.groups` argument)\n",
      "\n"
     ]
    },
    {
     "data": {
      "text/html": [
       "<table>\n",
       "<caption>A tibble: 6 × 2</caption>\n",
       "<thead>\n",
       "\t<tr><th scope=col>question</th><th scope=col>variance</th></tr>\n",
       "\t<tr><th scope=col>&lt;chr&gt;</th><th scope=col>&lt;dbl&gt;</th></tr>\n",
       "</thead>\n",
       "<tbody>\n",
       "\t<tr><td>advance   </td><td>105.8575</td></tr>\n",
       "\t<tr><td>complaints</td><td>177.2828</td></tr>\n",
       "\t<tr><td>critical  </td><td> 97.9092</td></tr>\n",
       "\t<tr><td>learning  </td><td>137.7575</td></tr>\n",
       "\t<tr><td>privileges</td><td>149.7057</td></tr>\n",
       "\t<tr><td>raises    </td><td>108.1023</td></tr>\n",
       "</tbody>\n",
       "</table>\n"
      ],
      "text/latex": [
       "A tibble: 6 × 2\n",
       "\\begin{tabular}{ll}\n",
       " question & variance\\\\\n",
       " <chr> & <dbl>\\\\\n",
       "\\hline\n",
       "\t advance    & 105.8575\\\\\n",
       "\t complaints & 177.2828\\\\\n",
       "\t critical   &  97.9092\\\\\n",
       "\t learning   & 137.7575\\\\\n",
       "\t privileges & 149.7057\\\\\n",
       "\t raises     & 108.1023\\\\\n",
       "\\end{tabular}\n"
      ],
      "text/markdown": [
       "\n",
       "A tibble: 6 × 2\n",
       "\n",
       "| question &lt;chr&gt; | variance &lt;dbl&gt; |\n",
       "|---|---|\n",
       "| advance    | 105.8575 |\n",
       "| complaints | 177.2828 |\n",
       "| critical   |  97.9092 |\n",
       "| learning   | 137.7575 |\n",
       "| privileges | 149.7057 |\n",
       "| raises     | 108.1023 |\n",
       "\n"
      ],
      "text/plain": [
       "  question   variance\n",
       "1 advance    105.8575\n",
       "2 complaints 177.2828\n",
       "3 critical    97.9092\n",
       "4 learning   137.7575\n",
       "5 privileges 149.7057\n",
       "6 raises     108.1023"
      ]
     },
     "metadata": {},
     "output_type": "display_data"
    }
   ],
   "source": [
    "# attitude_variances <- FILL_THIS_IN\n",
    "\n",
    "### BEGIN SOLUTION\n",
    "attitude_variances <- \n",
    "    attitude_tidy %>% \n",
    "    group_by(question) %>% \n",
    "    summarise(variance = var(score))\n",
    "### END SOLUTION\n",
    "\n",
    "attitude_variances"
   ]
  },
  {
   "cell_type": "code",
   "execution_count": 11,
   "metadata": {
    "lines_to_next_cell": 2,
    "nbgrader": {
     "grade": true,
     "grade_id": "cell-84949f8e7463ec43",
     "locked": true,
     "points": 1,
     "schema_version": 3,
     "solution": false,
     "task": false
    }
   },
   "outputs": [
    {
     "name": "stdout",
     "output_type": "stream",
     "text": [
      "success!"
     ]
    }
   ],
   "source": [
    "test_2.2()"
   ]
  },
  {
   "cell_type": "markdown",
   "metadata": {
    "nbgrader": {
     "grade": false,
     "grade_id": "cell-271b865277e55db4",
     "locked": true,
     "schema_version": 3,
     "solution": false,
     "task": false
    }
   },
   "source": [
    "### Question 2.3\n",
    "\n",
    "ANOVA performs more accurately if the variances within each group are the same. Judging by the observed variances, does this look like a decent approximation? Some resources say that, as long as the group with the highest variance isn't many multiples bigger than the smallest group variance, then the specified significance level will be roughly equal to the true significance level. Store either `\"a\"`, `\"b\"`, or `\"c\"` with the variable `variance_call` to indicate your response.\n",
    "\n",
    "**a**\\.  We can assume that the variances are equal.   \n",
    "**b**\\.  The difference in variances between groups is concerning.   \n",
    "**c**\\.  Each group having the same variance appears to be a decent approximation."
   ]
  },
  {
   "cell_type": "code",
   "execution_count": 12,
   "metadata": {
    "lines_to_next_cell": 2,
    "nbgrader": {
     "grade": false,
     "grade_id": "cell-d06411780d61ebf0",
     "locked": false,
     "schema_version": 3,
     "solution": true,
     "task": false
    }
   },
   "outputs": [],
   "source": [
    "# variance_call <- \"FILL_THIS_IN\"\n",
    "\n",
    "### BEGIN SOLUTION\n",
    "variance_call <- \"c\"\n",
    "### END SOLUTION"
   ]
  },
  {
   "cell_type": "code",
   "execution_count": 13,
   "metadata": {
    "lines_to_next_cell": 2,
    "nbgrader": {
     "grade": true,
     "grade_id": "cell-eb3eb8016185f490",
     "locked": true,
     "points": 1,
     "schema_version": 3,
     "solution": false,
     "task": false
    }
   },
   "outputs": [
    {
     "name": "stdout",
     "output_type": "stream",
     "text": [
      "success!"
     ]
    }
   ],
   "source": [
    "test_2.3()"
   ]
  },
  {
   "cell_type": "markdown",
   "metadata": {
    "nbgrader": {
     "grade": false,
     "grade_id": "cell-e802fc25001340c6",
     "locked": true,
     "schema_version": 3,
     "solution": false,
     "task": false
    }
   },
   "source": [
    "### Question 2.4\n",
    "\n",
    "If the null hypothesis is true, then the overall variance could be calculated in two ways:\n",
    "\n",
    "- The overall variance, as if the grouping variable was absent. Calculate this quantity, and store it in a variable named `variance_overall`\n",
    "- The average group variance. Calculate this value by averaging the variances within each group. Store this number in a variable named `variance_group_avg`.\n",
    "\n",
    "Note that there are other ANOVA methods that weigh group variances a different ways, to account for situations where groups have quite different variances.\n",
    "\n",
    "A test statistic, then, would measure the discrepancy between these two values. Instead of calculating the difference, it works out better to calculate the _ratio_ of the overall variance to the average group variance. A big number (away from 1) is evidence that the null hypothesis may not be true. Store this ratio in a variable named `variance_ratio`.\n",
    "\n",
    "Framework:\n",
    "\n",
    "```r\n",
    "variance_overall <- \n",
    "    attitude_tidy %>% \n",
    "    summarise(FILL_THIS_IN) %>% \n",
    "    pull(FILL_THIS_IN)\n",
    "    \n",
    "variance_group_avg <- attitude_variances %>% \n",
    "    summarise(FILL_THIS_IN) %>% \n",
    "    pull(FILL_THIS_IN)\n",
    "\n",
    "variance_ratio <- FILL_THIS_IN\n",
    "```\n",
    "\n",
    "Your solution:"
   ]
  },
  {
   "cell_type": "code",
   "execution_count": 14,
   "metadata": {
    "lines_to_next_cell": 2,
    "nbgrader": {
     "grade": false,
     "grade_id": "cell-07a587e9222fe286",
     "locked": false,
     "schema_version": 3,
     "solution": true,
     "task": false
    }
   },
   "outputs": [
    {
     "name": "stdout",
     "output_type": "stream",
     "text": [
      "[1] 232.127\n",
      "[1] 129.4358\n",
      "[1] 1.793375\n"
     ]
    }
   ],
   "source": [
    "### BEGIN SOLUTION\n",
    "variance_overall <- \n",
    "    attitude_tidy %>% \n",
    "    summarise(variance = var(score)) %>% \n",
    "    pull(variance)\n",
    "\n",
    "variance_group_avg <- \n",
    "    attitude_variances %>% \n",
    "    summarise(variance = mean(variance)) %>% \n",
    "    pull(variance)\n",
    "\n",
    "variance_ratio <- variance_overall / variance_group_avg\n",
    "### END SOLUTION\n",
    "\n",
    "print(variance_overall)\n",
    "print(variance_group_avg)\n",
    "print(variance_ratio)"
   ]
  },
  {
   "cell_type": "code",
   "execution_count": 15,
   "metadata": {
    "nbgrader": {
     "grade": true,
     "grade_id": "cell-7206307d327d032a",
     "locked": true,
     "points": 1,
     "schema_version": 3,
     "solution": false,
     "task": false
    }
   },
   "outputs": [
    {
     "name": "stdout",
     "output_type": "stream",
     "text": [
      "success!"
     ]
    }
   ],
   "source": [
    "test_2.4()"
   ]
  },
  {
   "cell_type": "markdown",
   "metadata": {
    "nbgrader": {
     "grade": false,
     "grade_id": "cell-b01d59b1129f3456",
     "locked": true,
     "schema_version": 3,
     "solution": false,
     "task": false
    }
   },
   "source": [
    "### Question 2.5\n",
    "\n",
    "The _actual_ test statistic -- called the ANOVA F-test statistic -- is a little different from the one we calculated. Its scale is adjusted, and is shifted so that its base is at 0. The interpretation is as a ratio of _treatment variance_ (variability of group means around the overall mean) to the within-group variance. Also, it turns out that this test statistic is well approximated by an _F_-distribution if the null hypothesis is true -- and is exactly true if each group's population is Normally distributed, and the group variances are exactly equal.\n",
    "\n",
    "Use the `aov()` function to test the hypothesis. The relevant arguments are:\n",
    "\n",
    "- First argument (`formula`): Takes the form `numeric_column_name ~ group_column_name`.\n",
    "- `data`: Takes a data frame in tidy format (grouping column and numeric column).\n",
    "\n",
    "Use the broom package's `tidy()` function to obtain the F-statistic and p-value. Store these values in the variables `f_stat` and `anova_pval`, respectively.\n",
    "\n",
    "Framework:\n",
    "\n",
    "```r\n",
    "anova_results <- \n",
    "    aov(FILL_THIS_IN ~ FILL_THIS_IN, data = FILL_THIS_IN) %>% \n",
    "    tidy()\n",
    "    \n",
    "f_stat <- FILL_THIS_IN\n",
    "\n",
    "anova_pval <- FILL_THIS_IN\n",
    "```"
   ]
  },
  {
   "cell_type": "code",
   "execution_count": 16,
   "metadata": {
    "nbgrader": {
     "grade": false,
     "grade_id": "cell-e4f6f14c0c38ae6c",
     "locked": false,
     "schema_version": 3,
     "solution": true,
     "task": false
    }
   },
   "outputs": [
    {
     "name": "stdout",
     "output_type": "stream",
     "text": [
      "\u001b[38;5;246m# A tibble: 2 x 6\u001b[39m\n",
      "  term         df  sumsq meansq statistic   p.value\n",
      "  \u001b[3m\u001b[38;5;246m<chr>\u001b[39m\u001b[23m     \u001b[3m\u001b[38;5;246m<dbl>\u001b[39m\u001b[23m  \u001b[3m\u001b[38;5;246m<dbl>\u001b[39m\u001b[23m  \u001b[3m\u001b[38;5;246m<dbl>\u001b[39m\u001b[23m     \u001b[3m\u001b[38;5;246m<dbl>\u001b[39m\u001b[23m     \u001b[3m\u001b[38;5;246m<dbl>\u001b[39m\u001b[23m\n",
      "\u001b[38;5;250m1\u001b[39m question      5 \u001b[4m1\u001b[24m\u001b[4m9\u001b[24m029.  \u001b[4m3\u001b[24m806.      29.4  1.43\u001b[38;5;246me\u001b[39m\u001b[31m-21\u001b[39m\n",
      "\u001b[38;5;250m2\u001b[39m Residuals   174 \u001b[4m2\u001b[24m\u001b[4m2\u001b[24m522.   129.      \u001b[31mNA\u001b[39m   \u001b[31mNA\u001b[39m   \u001b[38;5;246m \u001b[39m   \n",
      "[1] 29.40283\n",
      "[1] 1.42922e-21\n"
     ]
    }
   ],
   "source": [
    "### BEGIN SOLUTION\n",
    "anova_results <- \n",
    "    aov(score ~ question, data = attitude_tidy) %>% \n",
    "    tidy()\n",
    "\n",
    "f_stat <- anova_results$statistic[1]\n",
    "\n",
    "anova_pval <- anova_results$p.value[1]\n",
    "### END SOLUTION\n",
    "\n",
    "print(anova_results)\n",
    "print(f_stat)\n",
    "print(anova_pval)"
   ]
  },
  {
   "cell_type": "code",
   "execution_count": 17,
   "metadata": {
    "lines_to_next_cell": 2,
    "nbgrader": {
     "grade": true,
     "grade_id": "cell-8401214a49d0e3de",
     "locked": true,
     "points": 1,
     "schema_version": 3,
     "solution": false,
     "task": false
    }
   },
   "outputs": [
    {
     "name": "stdout",
     "output_type": "stream",
     "text": [
      "success!"
     ]
    }
   ],
   "source": [
    "test_2.5()"
   ]
  },
  {
   "cell_type": "markdown",
   "metadata": {
    "nbgrader": {
     "grade": false,
     "grade_id": "cell-d766af941418a67b",
     "locked": true,
     "schema_version": 3,
     "solution": false,
     "task": false
    }
   },
   "source": [
    "_Note_: You can also run an ANOVA by fitting linear models first, with `lm()`. But, this is a topic for STAT 301! \n",
    "\n",
    "### Question 2.6\n",
    "\n",
    "What is our conclusion under a 0.01 significance level? Assign the letter response to a variable named `anova_conclusion`.\n",
    "\n",
    "**a**\\. Each group has a different / unique mean.   \n",
    "**b**\\. There's not enough evidence to suggest that the group means are different.   \n",
    "**c**\\. The group means are all equal.     \n",
    "**d**\\. At least one group has a mean that is significantly different from the others.   \n",
    "**e**\\. There is a positive linear relationship between score and question."
   ]
  },
  {
   "cell_type": "code",
   "execution_count": 18,
   "metadata": {
    "nbgrader": {
     "grade": false,
     "grade_id": "cell-f243d8d103397740",
     "locked": false,
     "schema_version": 3,
     "solution": true,
     "task": false
    }
   },
   "outputs": [],
   "source": [
    "# anova_conclusion <- \"FILL_THIS_IN\"\n",
    "### BEGIN SOLUTION\n",
    "anova_conclusion <- \"d\"\n",
    "### END SOLUTION"
   ]
  },
  {
   "cell_type": "code",
   "execution_count": 19,
   "metadata": {
    "lines_to_next_cell": 0,
    "nbgrader": {
     "grade": true,
     "grade_id": "cell-7a84b72472c0f947",
     "locked": true,
     "points": 1,
     "schema_version": 3,
     "solution": false,
     "task": false
    }
   },
   "outputs": [
    {
     "name": "stdout",
     "output_type": "stream",
     "text": [
      "success!"
     ]
    }
   ],
   "source": [
    "test_2.6()"
   ]
  },
  {
   "cell_type": "markdown",
   "metadata": {
    "nbgrader": {
     "grade": false,
     "grade_id": "cell-57c3cb6d60ccea8c",
     "locked": true,
     "schema_version": 3,
     "solution": false,
     "task": false
    }
   },
   "source": [
    "## Exercise 3: Prediction Intervals\n",
    "\n",
    "Until now, we've been making inference on _population parameters_, such as means, quantiles, variances, etc. As we've seen, this inference allows us to present both (1) our best guess as to what the parameter is (an estimate), along with (2) a description of uncertainty (such as confidence intervals and hypothesis tests). But, \n",
    "how can we go about making inference on a _new observation_? \n",
    "\n",
    "In the tutorial, you'll explore predictions themselves. In this worksheet, we'll explore the inference part of predictions: _prediction intervals_.\n",
    "\n",
    "To form a prediction interval, instead of using quantiles of the _(estimated) sampling distribution_, use the _population distribution_. \n",
    "\n",
    "Unlike sampling distributions, using the _true_ population distribution to form prediction intervals actually gives us prediction intervals with the specified probability. Using _true_ sampling distributions, on the other hand, is not useful for forming confidence intervals, because we know the true mean is in the center of the sampling distribution, so no interval at all is needed.\n",
    "\n",
    "Since it's unusual to have access to the population distribution in practice, a common approach is to use the _sample distribution_ when forming prediction intervals. Doing so usually results in the true coverage probability to veer from the specified probability -- something we'll explore a little more in this exercise. \n",
    "\n",
    "### Question 3.1\n",
    "\n",
    "Recall the City of Vancouver building permits dataset `building_permits` in the datateachr R package, which has building permit info on all buildings since 2017. Here is a tibble of the project values of all One-Family Dwellings (having non-zero value):"
   ]
  },
  {
   "cell_type": "code",
   "execution_count": 20,
   "metadata": {
    "lines_to_next_cell": 2,
    "nbgrader": {
     "grade": false,
     "grade_id": "cell-ffb2f8b1e51fbc7f",
     "locked": true,
     "schema_version": 3,
     "solution": false,
     "task": false
    }
   },
   "outputs": [
    {
     "data": {
      "text/html": [
       "<table>\n",
       "<caption>A tibble: 6 × 1</caption>\n",
       "<thead>\n",
       "\t<tr><th scope=col>project_value</th></tr>\n",
       "\t<tr><th scope=col>&lt;dbl&gt;</th></tr>\n",
       "</thead>\n",
       "<tbody>\n",
       "\t<tr><td>35000</td></tr>\n",
       "\t<tr><td>15000</td></tr>\n",
       "\t<tr><td> 4800</td></tr>\n",
       "\t<tr><td>60000</td></tr>\n",
       "\t<tr><td>15000</td></tr>\n",
       "\t<tr><td>15000</td></tr>\n",
       "</tbody>\n",
       "</table>\n"
      ],
      "text/latex": [
       "A tibble: 6 × 1\n",
       "\\begin{tabular}{l}\n",
       " project\\_value\\\\\n",
       " <dbl>\\\\\n",
       "\\hline\n",
       "\t 35000\\\\\n",
       "\t 15000\\\\\n",
       "\t  4800\\\\\n",
       "\t 60000\\\\\n",
       "\t 15000\\\\\n",
       "\t 15000\\\\\n",
       "\\end{tabular}\n"
      ],
      "text/markdown": [
       "\n",
       "A tibble: 6 × 1\n",
       "\n",
       "| project_value &lt;dbl&gt; |\n",
       "|---|\n",
       "| 35000 |\n",
       "| 15000 |\n",
       "|  4800 |\n",
       "| 60000 |\n",
       "| 15000 |\n",
       "| 15000 |\n",
       "\n"
      ],
      "text/plain": [
       "  project_value\n",
       "1 35000        \n",
       "2 15000        \n",
       "3  4800        \n",
       "4 60000        \n",
       "5 15000        \n",
       "6 15000        "
      ]
     },
     "metadata": {},
     "output_type": "display_data"
    }
   ],
   "source": [
    "project_values <- \n",
    "    building_permits %>% \n",
    "    filter(specific_use_category == \"One-Family Dwelling\") %>% \n",
    "    select(project_value) %>% \n",
    "    filter(project_value > 0)\n",
    "\n",
    "head(project_values)"
   ]
  },
  {
   "cell_type": "markdown",
   "metadata": {
    "nbgrader": {
     "grade": false,
     "grade_id": "cell-b815d929182a1b66",
     "locked": true,
     "schema_version": 3,
     "solution": false,
     "task": false
    }
   },
   "source": [
    "<!-- For your own reference, here is a 95% *confidence* interval for the mean (Here, we'll take the population to be infinite: the value in today's dollars of all one-family dwellings since 2017, going on into the future. (Also assuming society remains similar to today's society.) -->\n",
    "<!-- ) -->\n",
    "\n",
    "<!-- ```{r} -->\n",
    "<!-- project_values %>%  -->\n",
    "<!--   rep_sample_n(size = nrow(.), replace = TRUE, reps = 1000) %>%  -->\n",
    "<!--   group_by(replicate) %>%  -->\n",
    "<!--   summarise(mean_value = mean(project_value), .groups = \"drop\") %>%  -->\n",
    "<!--   pull(mean_value) %>%  -->\n",
    "<!--   quantile(c(0.025, 0.975)) %>%  -->\n",
    "<!--   unname() -->\n",
    "<!-- ``` -->\n",
    "\n",
    "If a new one-family dwelling is going to be built, what is a 90% prediction interval for this property's value (given that it's above 0)? Store this interval as a vector of length two (lower first, upper second), as a variable named `dwelling_pi`. \n",
    "\n",
    "Technicalities:\n",
    "\n",
    "- Use the `quantile()` function (and its default `type = 7` argument).\n",
    "- Ensure equal probability on both sides of the distribution. "
   ]
  },
  {
   "cell_type": "code",
   "execution_count": 21,
   "metadata": {
    "nbgrader": {
     "grade": false,
     "grade_id": "cell-0a236b691b187a60",
     "locked": false,
     "schema_version": 3,
     "solution": true,
     "task": false
    }
   },
   "outputs": [
    {
     "name": "stdout",
     "output_type": "stream",
     "text": [
      "[1]    4500 1232919\n"
     ]
    }
   ],
   "source": [
    "# dwelling_pi <- FILL_THIS_IN\n",
    "\n",
    "### BEGIN SOLUTION\n",
    "dwelling_pi <- \n",
    "    project_values %>% \n",
    "    pull(project_value) %>% \n",
    "    quantile(c(0.05, 0.95)) %>% \n",
    "    unname()\n",
    "### END SOLUTION\n",
    "\n",
    "print(dwelling_pi)"
   ]
  },
  {
   "cell_type": "code",
   "execution_count": 22,
   "metadata": {
    "nbgrader": {
     "grade": true,
     "grade_id": "cell-959598381c47c70d",
     "locked": true,
     "points": 1,
     "schema_version": 3,
     "solution": false,
     "task": false
    }
   },
   "outputs": [
    {
     "name": "stdout",
     "output_type": "stream",
     "text": [
      "success!"
     ]
    }
   ],
   "source": [
    "test_3.1()"
   ]
  },
  {
   "cell_type": "markdown",
   "metadata": {
    "nbgrader": {
     "grade": false,
     "grade_id": "cell-ae52142007c0c214",
     "locked": true,
     "schema_version": 3,
     "solution": false,
     "task": false
    }
   },
   "source": [
    "### Question 3.2\n",
    "\n",
    "Based on the definitions of prediction interval and confidence interval, what happens to these intervals as the sample size increases? Place the letters of your response in alphabetical order as a string, in a variable named `interval_trends`.\n",
    "\n",
    "**a**\\. Confidence intervals remain roughly the same width, because the confidence level remains the same.    \n",
    "**b**\\. Confidence intervals get narrower as we zero in on the true parameter.    \n",
    "**c**\\. Confidence intervals expand as we gain more and more confidence with larger sample sizes.   \n",
    "**d**\\. Prediction intervals remain roughly the same width -- after all, we're just getting better and better at estimating the true quantiles making up the boundaries of the prediction interval.   \n",
    "**e**\\. Prediction intervals get narrower as we zero in on the true future value.    \n",
    "**f**\\. Prediction intervals expand as we gain more and more confidence with larger sample sizes. "
   ]
  },
  {
   "cell_type": "code",
   "execution_count": 23,
   "metadata": {
    "nbgrader": {
     "grade": false,
     "grade_id": "cell-a11587ed58b8c74b",
     "locked": false,
     "schema_version": 3,
     "solution": true,
     "task": false
    }
   },
   "outputs": [],
   "source": [
    "# interval_trends <- \"FILL_THIS_IN\"\n",
    "\n",
    "### BEGIN SOLUTION\n",
    "interval_trends <- \"bd\"\n",
    "### END SOLUTION"
   ]
  },
  {
   "cell_type": "code",
   "execution_count": 24,
   "metadata": {
    "nbgrader": {
     "grade": true,
     "grade_id": "cell-4415ae970aef0c2b",
     "locked": true,
     "points": 1,
     "schema_version": 3,
     "solution": false,
     "task": false
    }
   },
   "outputs": [
    {
     "name": "stdout",
     "output_type": "stream",
     "text": [
      "success!"
     ]
    }
   ],
   "source": [
    "test_3.2()"
   ]
  },
  {
   "cell_type": "markdown",
   "metadata": {
    "nbgrader": {
     "grade": false,
     "grade_id": "cell-bfbf84f298285d2d",
     "locked": true,
     "schema_version": 3,
     "solution": false,
     "task": false
    }
   },
   "source": [
    "### Question 3.3\n",
    "\n",
    "To build concepts, let's interpret our sample as being the entire population. What proportion of this population's property values fall in the prediction interval? This is called the _true coverage probability_, because it's the proportion of the population that truly falls in the interval. Take the interval to be inclusive of both endpoints. Store the proportion in a variable named `dwellings_in_pi`. \n",
    "\n",
    "(By the way: the reason you don't get 90% exactly is because the population is finite. This means that changing one of the endpoints of your prediction interval to the next higher or lower value will cause the confidence level to also make a discrete jump to another value. This is especially characteristic of discrete data.)\n",
    "\n",
    "Framework:\n",
    "\n",
    "```r\n",
    "dwellings_in_pi <- \n",
    "    project_values %>% \n",
    "    summarise(prop = mean(\n",
    "        between( ..., ..., ...)\n",
    "    )) %>% \n",
    "    pull(FILL_THIS_IN)\n",
    "```\n",
    "\n",
    "Your solution:"
   ]
  },
  {
   "cell_type": "code",
   "execution_count": 25,
   "metadata": {
    "nbgrader": {
     "grade": false,
     "grade_id": "cell-289c421bd1a11c64",
     "locked": false,
     "schema_version": 3,
     "solution": true,
     "task": false
    }
   },
   "outputs": [
    {
     "name": "stdout",
     "output_type": "stream",
     "text": [
      "[1] 0.9047917\n"
     ]
    }
   ],
   "source": [
    "# dwellings_in_pi <- FILL_THIS_IN\n",
    "### BEGIN SOLUTION\n",
    "dwellings_in_pi <- project_values %>% \n",
    "  summarise(prop = mean(\n",
    "    project_value >= dwelling_pi[1] &\n",
    "      project_value <= dwelling_pi[2]\n",
    "  )) %>% \n",
    "  pull(prop)\n",
    "### END SOLUTION\n",
    "print(dwellings_in_pi)"
   ]
  },
  {
   "cell_type": "code",
   "execution_count": 26,
   "metadata": {
    "lines_to_next_cell": 2,
    "nbgrader": {
     "grade": true,
     "grade_id": "cell-fc4227d65b91295d",
     "locked": true,
     "points": 1,
     "schema_version": 3,
     "solution": false,
     "task": false
    }
   },
   "outputs": [
    {
     "name": "stdout",
     "output_type": "stream",
     "text": [
      "success!"
     ]
    }
   ],
   "source": [
    "test_3.3()"
   ]
  },
  {
   "cell_type": "markdown",
   "metadata": {
    "nbgrader": {
     "grade": false,
     "grade_id": "cell-a2d18322d817b4c0",
     "locked": true,
     "schema_version": 3,
     "solution": false,
     "task": false
    }
   },
   "source": [
    "### Question 3.4\n",
    "\n",
    "Let's still interpret our sample as being the population, so that we can see an example of the specified coverage probability veering off from the true coverage probability. \n",
    "\n",
    "To see how the true coverage probabilities vary depending on the sample, let's take multiple (1000) samples of size 100, and calculate the true coverage probability for each of them. Remember, since our original sample is the entire population, it wouldn't make sense to sample with replacement, because we could potentially duplicate members of our population. Use a seed of `123`, and store your final vector of 1000 coverage probabilities in a vector named `coverage`. \n",
    "\n",
    "Scaffolding:\n",
    "\n",
    "```r\n",
    "set.seed(123)\n",
    "\n",
    "## Draw 1000 samples of size 100:\n",
    "sample_pi <- \n",
    "    project_values %>% \n",
    "    rep_sample_n(FILL_THIS_IN, replace = FILL_THIS_IN, reps = FILL_THIS_IN) %>% \n",
    "    group_by(replicate) %>% \n",
    "    summarise(lower = quantile(FILL_THIS_IN, FILL_THIS_IN),\n",
    "              upper = quantile(FILL_THIS_IN, FILL_THIS_IN))\n",
    "\n",
    "## Get vector of project values:\n",
    "project_values_vec <- project_values$project_value\n",
    "\n",
    "## Calculate coverage probabilities:\n",
    "coverage <- \n",
    "    sample_pi %>% \n",
    "    group_by(replicate) %>% \n",
    "    summarise(coverage = mean(\n",
    "    project_values_vec >= FILL_THIS_IN &\n",
    "        FILL_THIS_IN\n",
    "    )) %>% \n",
    "    pull(coverage)\n",
    "```\n",
    "\n",
    "Your solution:"
   ]
  },
  {
   "cell_type": "code",
   "execution_count": 27,
   "metadata": {
    "lines_to_next_cell": 2,
    "nbgrader": {
     "grade": false,
     "grade_id": "cell-a0c46e43e511731a",
     "locked": false,
     "schema_version": 3,
     "solution": true,
     "task": false
    }
   },
   "outputs": [
    {
     "name": "stderr",
     "output_type": "stream",
     "text": [
      "`summarise()` ungrouping output (override with `.groups` argument)\n",
      "\n",
      "`summarise()` ungrouping output (override with `.groups` argument)\n",
      "\n"
     ]
    },
    {
     "data": {
      "text/html": [
       "<style>\n",
       ".list-inline {list-style: none; margin:0; padding: 0}\n",
       ".list-inline>li {display: inline-block}\n",
       ".list-inline>li:not(:last-child)::after {content: \"\\00b7\"; padding: 0 .5ex}\n",
       "</style>\n",
       "<ol class=list-inline><li>0.884121515815847</li><li>0.891011587848418</li><li>0.864390854995302</li><li>0.918571875978703</li><li>0.903538991544003</li><li>0.924209207641716</li></ol>\n"
      ],
      "text/latex": [
       "\\begin{enumerate*}\n",
       "\\item 0.884121515815847\n",
       "\\item 0.891011587848418\n",
       "\\item 0.864390854995302\n",
       "\\item 0.918571875978703\n",
       "\\item 0.903538991544003\n",
       "\\item 0.924209207641716\n",
       "\\end{enumerate*}\n"
      ],
      "text/markdown": [
       "1. 0.884121515815847\n",
       "2. 0.891011587848418\n",
       "3. 0.864390854995302\n",
       "4. 0.918571875978703\n",
       "5. 0.903538991544003\n",
       "6. 0.924209207641716\n",
       "\n",
       "\n"
      ],
      "text/plain": [
       "[1] 0.8841215 0.8910116 0.8643909 0.9185719 0.9035390 0.9242092"
      ]
     },
     "metadata": {},
     "output_type": "display_data"
    }
   ],
   "source": [
    "# set.seed(123)\n",
    "# FILL_THIS_IN\n",
    "### BEGIN SOLUTION\n",
    "set.seed(123)\n",
    "sample_pi <- project_values %>% \n",
    "  rep_sample_n(100, replace = FALSE, reps = 1000) %>% \n",
    "  group_by(replicate) %>% \n",
    "  summarise(lower = quantile(project_value, 0.05),\n",
    "            upper = quantile(project_value, 0.95))\n",
    "project_values_vec <- project_values$project_value\n",
    "coverage <- sample_pi %>% \n",
    "  group_by(replicate) %>% \n",
    "  summarise(coverage = mean(\n",
    "    project_values_vec >= lower &\n",
    "      project_values_vec <= upper\n",
    "  )) %>% \n",
    "  pull(coverage)\n",
    "### END SOLUTION\n",
    "head(coverage)"
   ]
  },
  {
   "cell_type": "code",
   "execution_count": 28,
   "metadata": {
    "nbgrader": {
     "grade": true,
     "grade_id": "cell-93e1e1def662ebb3",
     "locked": true,
     "points": 1,
     "schema_version": 3,
     "solution": false,
     "task": false
    }
   },
   "outputs": [
    {
     "name": "stdout",
     "output_type": "stream",
     "text": [
      "success!"
     ]
    }
   ],
   "source": [
    "test_3.4()"
   ]
  },
  {
   "cell_type": "markdown",
   "metadata": {
    "nbgrader": {
     "grade": false,
     "grade_id": "cell-4e4a9c9ae77b0c96",
     "locked": true,
     "schema_version": 3,
     "solution": false,
     "task": false
    }
   },
   "source": [
    "### Question 3.5\n",
    "\n",
    "Here is a histogram of the coverage probabilities you produced, with a vertical line representing the intended coverage probability:"
   ]
  },
  {
   "cell_type": "code",
   "execution_count": 29,
   "metadata": {
    "nbgrader": {
     "grade": false,
     "grade_id": "cell-1d9ba5fd90529702",
     "locked": true,
     "schema_version": 3,
     "solution": false,
     "task": false
    }
   },
   "outputs": [
    {
     "data": {
      "image/png": "[encoded data removed]",
      "text/plain": [
       "plot without title"
      ]
     },
     "metadata": {
      "image/png": {
       "height": 420,
       "width": 420
      }
     },
     "output_type": "display_data"
    }
   ],
   "source": [
    "qplot(coverage, bins = 30) +\n",
    "  theme_minimal() +\n",
    "  xlab(\"Coverage probability\") +\n",
    "  ylab(\"Count\") +\n",
    "  geom_vline(xintercept = 0.9)"
   ]
  },
  {
   "cell_type": "markdown",
   "metadata": {
    "nbgrader": {
     "grade": false,
     "grade_id": "cell-23dc35d1b89130d2",
     "locked": true,
     "schema_version": 3,
     "solution": false,
     "task": false
    }
   },
   "source": [
    "As you can see, the true coverage probability depends on the sample drawn. This histogram shape is typical, with more mass on the left, suggesting that smaller coverage probabilities are more likely.\n",
    "\n",
    "Based on your simulation, just how likely are you to get a coverage probability less than the specified coverage probability of 0.9? Put this probability in a variable named `prob_smaller`."
   ]
  },
  {
   "cell_type": "code",
   "execution_count": 30,
   "metadata": {
    "nbgrader": {
     "grade": false,
     "grade_id": "cell-746dd958bb0ffa9e",
     "locked": false,
     "schema_version": 3,
     "solution": true,
     "task": false
    }
   },
   "outputs": [
    {
     "name": "stdout",
     "output_type": "stream",
     "text": [
      "[1] 0.637\n"
     ]
    }
   ],
   "source": [
    "# prob_smaller <- FILL_THIS_IN\n",
    "### BEGIN SOLUTION\n",
    "prob_smaller <- mean(coverage < 0.9)\n",
    "### END SOLUTION\n",
    "print(prob_smaller)"
   ]
  },
  {
   "cell_type": "code",
   "execution_count": 31,
   "metadata": {
    "lines_to_next_cell": 2,
    "nbgrader": {
     "grade": true,
     "grade_id": "cell-4d12051f167e577a",
     "locked": true,
     "points": 1,
     "schema_version": 3,
     "solution": false,
     "task": false
    }
   },
   "outputs": [
    {
     "name": "stdout",
     "output_type": "stream",
     "text": [
      "success!"
     ]
    }
   ],
   "source": [
    "test_3.5()"
   ]
  },
  {
   "cell_type": "markdown",
   "metadata": {
    "nbgrader": {
     "grade": false,
     "grade_id": "cell-0f9b4a388d2e5685",
     "locked": true,
     "schema_version": 3,
     "solution": false,
     "task": false
    }
   },
   "source": [
    "### Question 3.6\n",
    "\n",
    "Now, consider our original population of one-family dwellings now and in the future. If it turns out that the true coverage probability of our prediction interval is smaller than the specified probability of 90%, what does this mean? Keep in mind that we can't know how the true coverage probability will compare. Place your selection(s) in alphabetical order in one string in a variable named `realities`.\n",
    "\n",
    "**a**\\. More one-family dwellings being built will have property values outside of our interval than we think.   \n",
    "**b**\\. Less one-family dwellings being built will have property values outside of our interval than we think.   \n",
    "**c**\\. In order to capture the true coverage probability, we would need to expand our prediction interval.   \n",
    "**d**\\. In order to capture the true coverage probability, we would need to shrink our prediction interval.   \n",
    "\n",
    "Before we end this section, it's worth saying that there's still merit in using a sample-based prediction interval, even though the true coverage probability might be different from the specified one. Just as we have to accept error when estimating a parameter like the mean, we have to accept some level of error here, too. That being said, there *are* ways of adjusting prediction intervals to more closely match the true coverage probability. A famous one is when the population distribution is Gaussian (just google \"prediction interval\", and many resources will show a formula based on a Normal population). But, we won't cover these methods in this course. "
   ]
  },
  {
   "cell_type": "code",
   "execution_count": 32,
   "metadata": {
    "nbgrader": {
     "grade": false,
     "grade_id": "cell-0b8fd530909e8105",
     "locked": false,
     "schema_version": 3,
     "solution": true,
     "task": false
    }
   },
   "outputs": [],
   "source": [
    "# realities <- \"FILL_THIS_IN\"\n",
    "\n",
    "### BEGIN SOLUTION\n",
    "realities <- \"ac\"\n",
    "### END SOLUTION"
   ]
  },
  {
   "cell_type": "code",
   "execution_count": 33,
   "metadata": {
    "lines_to_next_cell": 0,
    "nbgrader": {
     "grade": true,
     "grade_id": "cell-41b20de3cf33f39b",
     "locked": true,
     "points": 1,
     "schema_version": 3,
     "solution": false,
     "task": false
    }
   },
   "outputs": [
    {
     "name": "stdout",
     "output_type": "stream",
     "text": [
      "success!"
     ]
    }
   ],
   "source": [
    "test_3.6()"
   ]
  }
 ],
 "metadata": {
  "celltoolbar": "Create Assignment",
  "docker": {
   "latest_image_tag": "v0.6.0"
  },
  "jupytext": {
   "cell_metadata_filter": "warning,message,-all",
   "formats": "ipynb,Rmd",
   "notebook_metadata_filter": "-all"
  },
  "kernelspec": {
   "display_name": "R",
   "language": "R",
   "name": "ir"
  },
  "language_info": {
   "codemirror_mode": "r",
   "file_extension": ".r",
   "mimetype": "text/x-r-source",
   "name": "R",
   "pygments_lexer": "r",
   "version": "4.0.0"
  }
 },
 "nbformat": 4,
 "nbformat_minor": 5
}
