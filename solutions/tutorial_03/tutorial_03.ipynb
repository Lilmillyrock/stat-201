{
 "cells": [
  {
   "cell_type": "markdown",
   "metadata": {
    "nbgrader": {
     "grade": false,
     "grade_id": "cell-f3ae6db28c5041d9",
     "locked": true,
     "schema_version": 3,
     "solution": false,
     "task": false
    }
   },
   "source": [
    "# Tutorial 3: Bootstrapping and its Relationship to the Sampling Distribution"
   ]
  },
  {
   "cell_type": "markdown",
   "metadata": {
    "nbgrader": {
     "grade": false,
     "grade_id": "cell-712e9ac4e769eb39",
     "locked": true,
     "schema_version": 3,
     "solution": false,
     "task": false
    }
   },
   "source": [
    "### Lecture and Tutorial Learning Goals\n",
    "After completing this week's lecture and tutorial work, you will be able to:\n",
    "1. Explain why we don’t know/have a sampling distribution in practice/real life.\n",
    "2. Define bootstrapping.\n",
    "3. Write a computer script to create a bootstrap distribution to approximate a sampling distribution.\n",
    "4. Contrast a bootstrap sampling distribution with a sampling distribution obtained using multiple samples."
   ]
  },
  {
   "cell_type": "code",
   "execution_count": 1,
   "metadata": {
    "nbgrader": {
     "grade": false,
     "grade_id": "cell-28cb9e52e89ace8d",
     "locked": true,
     "schema_version": 3,
     "solution": false,
     "task": false
    }
   },
   "outputs": [
    {
     "name": "stderr",
     "output_type": "stream",
     "text": [
      "\n",
      "********************************************************\n",
      "\n",
      "Note: As of version 1.0.0, cowplot does not change the\n",
      "\n",
      "  default ggplot2 theme anymore. To recover the previous\n",
      "\n",
      "  behavior, execute:\n",
      "  theme_set(theme_cowplot())\n",
      "\n",
      "********************************************************\n",
      "\n",
      "\n",
      "Warning message:\n",
      "“package ‘infer’ was built under R version 4.0.2”\n",
      "── \u001b[1mAttaching packages\u001b[22m ─────────────────────────────────────── tidyverse 1.3.0 ──\n",
      "\n",
      "\u001b[32m✔\u001b[39m \u001b[34mggplot2\u001b[39m 3.3.2     \u001b[32m✔\u001b[39m \u001b[34mpurrr  \u001b[39m 0.3.4\n",
      "\u001b[32m✔\u001b[39m \u001b[34mtibble \u001b[39m 3.0.3     \u001b[32m✔\u001b[39m \u001b[34mdplyr  \u001b[39m 1.0.2\n",
      "\u001b[32m✔\u001b[39m \u001b[34mtidyr  \u001b[39m 1.1.1     \u001b[32m✔\u001b[39m \u001b[34mstringr\u001b[39m 1.4.0\n",
      "\u001b[32m✔\u001b[39m \u001b[34mreadr  \u001b[39m 1.3.1     \u001b[32m✔\u001b[39m \u001b[34mforcats\u001b[39m 0.5.0\n",
      "\n",
      "Warning message:\n",
      "“package ‘ggplot2’ was built under R version 4.0.1”\n",
      "Warning message:\n",
      "“package ‘tibble’ was built under R version 4.0.2”\n",
      "Warning message:\n",
      "“package ‘tidyr’ was built under R version 4.0.2”\n",
      "Warning message:\n",
      "“package ‘dplyr’ was built under R version 4.0.2”\n",
      "── \u001b[1mConflicts\u001b[22m ────────────────────────────────────────── tidyverse_conflicts() ──\n",
      "\u001b[31m✖\u001b[39m \u001b[34mdplyr\u001b[39m::\u001b[32mcombine()\u001b[39m masks \u001b[34mgridExtra\u001b[39m::combine()\n",
      "\u001b[31m✖\u001b[39m \u001b[34mdplyr\u001b[39m::\u001b[32mfilter()\u001b[39m  masks \u001b[34mstats\u001b[39m::filter()\n",
      "\u001b[31m✖\u001b[39m \u001b[34mdplyr\u001b[39m::\u001b[32mlag()\u001b[39m     masks \u001b[34mstats\u001b[39m::lag()\n",
      "\n",
      "\n",
      "Attaching package: ‘testthat’\n",
      "\n",
      "\n",
      "The following object is masked from ‘package:dplyr’:\n",
      "\n",
      "    matches\n",
      "\n",
      "\n",
      "The following object is masked from ‘package:purrr’:\n",
      "\n",
      "    is_null\n",
      "\n",
      "\n",
      "The following object is masked from ‘package:tidyr’:\n",
      "\n",
      "    matches\n",
      "\n",
      "\n"
     ]
    }
   ],
   "source": [
    "library(cowplot)\n",
    "library(datateachr)\n",
    "library(digest)\n",
    "library(gridExtra)\n",
    "library(infer)\n",
    "library(repr)\n",
    "library(taxyvr)\n",
    "library(tidyverse)\n",
    "source(\"tests_tutorial_03.R\")"
   ]
  },
  {
   "cell_type": "markdown",
   "metadata": {
    "nbgrader": {
     "grade": false,
     "grade_id": "cell-dc2ef0d60b4a4933",
     "locked": true,
     "schema_version": 3,
     "solution": false,
     "task": false
    }
   },
   "source": [
    "## 1. Warm-Up Questions\n",
    "\n",
    "Let's start off with a few questions about bootstrapping and sampling practices in reality."
   ]
  },
  {
   "cell_type": "markdown",
   "metadata": {
    "nbgrader": {
     "grade": false,
     "grade_id": "cell-3e24b34269f128b4",
     "locked": true,
     "schema_version": 3,
     "solution": false,
     "task": false
    }
   },
   "source": [
    "**Question 1.0**\n",
    "<br>{points: 1}\n",
    "\n",
    "In 1-2 sentences, explain what bootstrapping is useful for."
   ]
  },
  {
   "cell_type": "markdown",
   "metadata": {
    "nbgrader": {
     "grade": true,
     "grade_id": "cell-8c84f203af7f48fd",
     "locked": false,
     "points": 3,
     "schema_version": 3,
     "solution": true,
     "task": false
    }
   },
   "source": [
    "### BEGIN SOLUTION\n",
    "Bootstrapping is useful for approximating a sampling distribution when we do not have access to data for the entire population that we are interested in.\n",
    "### END SOLUTION"
   ]
  },
  {
   "cell_type": "markdown",
   "metadata": {
    "nbgrader": {
     "grade": false,
     "grade_id": "cell-608fcde8287d2be1",
     "locked": true,
     "schema_version": 3,
     "solution": false,
     "task": false
    }
   },
   "source": [
    "**Question 1.1**\n",
    "<br>{points: 1}\n",
    "\n",
    "True or false?\n",
    "\n",
    "A bootstrap sampling distribution will **always** have a similar width as the sampling distribution it is approximating.\n",
    "\n",
    "_Assign your answer to an object called `answer1.1`. Your answer should be either \"true\" or \"false\", surrounded by quotes._"
   ]
  },
  {
   "cell_type": "code",
   "execution_count": 2,
   "metadata": {
    "nbgrader": {
     "grade": false,
     "grade_id": "cell-3eb563d3ebcd4b3e",
     "locked": false,
     "schema_version": 3,
     "solution": true,
     "task": false
    }
   },
   "outputs": [],
   "source": [
    "# answer1.1 <- ...\n",
    "\n",
    "### BEGIN SOLUTION\n",
    "answer1.1 <- \"false\"\n",
    "### END SOLUTION"
   ]
  },
  {
   "cell_type": "code",
   "execution_count": 3,
   "metadata": {
    "nbgrader": {
     "grade": true,
     "grade_id": "cell-ec461d6d65200f1d",
     "locked": true,
     "points": 1,
     "schema_version": 3,
     "solution": false,
     "task": false
    }
   },
   "outputs": [
    {
     "name": "stdout",
     "output_type": "stream",
     "text": [
      "[1] \"Success!\"\n"
     ]
    }
   ],
   "source": [
    "test_1.1()"
   ]
  },
  {
   "cell_type": "markdown",
   "metadata": {
    "nbgrader": {
     "grade": false,
     "grade_id": "cell-45d0af92c1953424",
     "locked": true,
     "schema_version": 3,
     "solution": false,
     "task": false
    }
   },
   "source": [
    "**Question 1.2**\n",
    "<br>{points: 1}\n",
    "\n",
    "True or false?\n",
    "\n",
    "In reality, when we take a sample from the population, we are sampling with replacement.\n",
    "\n",
    "_Assign your answer to an object called `answer1.2`. Your answer should be either \"true\" or \"false\", surrounded by quotes._"
   ]
  },
  {
   "cell_type": "code",
   "execution_count": 4,
   "metadata": {
    "nbgrader": {
     "grade": false,
     "grade_id": "cell-54bf9d55fc56bbf6",
     "locked": false,
     "schema_version": 3,
     "solution": true,
     "task": false
    }
   },
   "outputs": [],
   "source": [
    "# answer1.2 <- ...\n",
    "\n",
    "### BEGIN SOLUTION\n",
    "answer1.2 <- \"false\"\n",
    "### END SOLUTION"
   ]
  },
  {
   "cell_type": "code",
   "execution_count": 5,
   "metadata": {
    "nbgrader": {
     "grade": true,
     "grade_id": "cell-1b1ad2d17f5bb494",
     "locked": true,
     "points": 1,
     "schema_version": 3,
     "solution": false,
     "task": false
    }
   },
   "outputs": [
    {
     "name": "stdout",
     "output_type": "stream",
     "text": [
      "[1] \"Success!\"\n"
     ]
    }
   ],
   "source": [
    "test_1.2()"
   ]
  },
  {
   "cell_type": "markdown",
   "metadata": {
    "nbgrader": {
     "grade": false,
     "grade_id": "cell-d6c903c695f1f6a5",
     "locked": true,
     "schema_version": 3,
     "solution": false,
     "task": false
    }
   },
   "source": [
    "## 2. Bootstrap Distribution vs Sampling Distribution\n",
    "\n",
    "By now you should understand that not all sampling distributions come out as a nice symmetrical bell shape. In `worksheet_02` you saw one example of this when we were studying the distributions of point estimates for the proportion of properties that are located in downtown Vancouver, using the `tax_2019` data set. In the code cell below, we have re-created this sampling distribution so we can look at it a bit more closely.\n",
    "\n",
    "_Use the plot below to answer the **next question**._"
   ]
  },
  {
   "cell_type": "code",
   "execution_count": 6,
   "metadata": {
    "nbgrader": {
     "grade": false,
     "grade_id": "cell-0b662bd6e3054d2b",
     "locked": true,
     "schema_version": 3,
     "solution": false,
     "task": false
    }
   },
   "outputs": [
    {
     "name": "stderr",
     "output_type": "stream",
     "text": [
      "`summarise()` ungrouping output (override with `.groups` argument)\n",
      "\n"
     ]
    },
    {
     "data": {
      "image/png": "[encoded data removed]",
      "text/plain": [
       "plot without title"
      ]
     },
     "metadata": {
      "image/png": {
       "height": 420,
       "width": 420
      }
     },
     "output_type": "display_data"
    }
   ],
   "source": [
    "set.seed(2410) # Use the same seed as last time to get\n",
    "               # the exact same observations in our samples.\n",
    "\n",
    "sampling_dist <- tax_2019 %>% \n",
    "    filter(!is.na(geo_local_area)) %>% \n",
    "    select(geo_local_area) %>% \n",
    "    rep_sample_n(size = 10, reps = 2000) %>% \n",
    "    group_by(replicate) %>% \n",
    "    summarize(x = sum(geo_local_area == \"Downtown\"),\n",
    "              n = n()) %>% \n",
    "    mutate(sample_proportion = x / n) %>% \n",
    "    ggplot(aes(x = sample_proportion)) +\n",
    "        geom_histogram(binwidth = 1/10, colour = \"white\") +\n",
    "        xlab(\"Sample Proportion of Downtown Buildings\") +\n",
    "        ggtitle(\"n = 10\") +\n",
    "        scale_x_continuous(breaks = seq(0, 0.9, 0.1))\n",
    "sampling_dist"
   ]
  },
  {
   "cell_type": "markdown",
   "metadata": {
    "nbgrader": {
     "grade": false,
     "grade_id": "cell-d41acc8f82a60bac",
     "locked": true,
     "schema_version": 3,
     "solution": false,
     "task": false
    }
   },
   "source": [
    "**Question 2.0**\n",
    "<br>{points: 1}\n",
    "\n",
    "The true proportion of buildings in Vancouver that are located downtown is 0.195. Suppose the data was adjusted such that the true proportion is now 0.5, and we created another sampling distribution with samples of size 100 using the code above. How would the symmetry of the new sampling distribution compare to the one generated above?\n",
    "\n",
    "A. The new sampling distribution would be less symmetrical.\n",
    "\n",
    "B. The symmetry of the new sampling distribution would be about the same.\n",
    "\n",
    "C. The new sampling distribution would be more symmetrical.\n",
    "\n",
    "D. It is impossible to tell how the symmetry of the new sampling distribution would compare.\n",
    "\n",
    "_Assign your answer to an object called `answer2.0`. Your answer should be a single character surrounded by quotes._"
   ]
  },
  {
   "cell_type": "code",
   "execution_count": 7,
   "metadata": {
    "nbgrader": {
     "grade": false,
     "grade_id": "cell-1487c5a41a521870",
     "locked": false,
     "schema_version": 3,
     "solution": true,
     "task": false
    }
   },
   "outputs": [],
   "source": [
    "# answer2.0 <- ...\n",
    "\n",
    "### BEGIN SOLUTION\n",
    "answer2.0 <- \"C\"\n",
    "### END SOLUTION"
   ]
  },
  {
   "cell_type": "code",
   "execution_count": 8,
   "metadata": {
    "nbgrader": {
     "grade": true,
     "grade_id": "cell-79e2ecf537661b10",
     "locked": true,
     "points": 1,
     "schema_version": 3,
     "solution": false,
     "task": false
    }
   },
   "outputs": [
    {
     "name": "stdout",
     "output_type": "stream",
     "text": [
      "[1] \"Success!\"\n"
     ]
    }
   ],
   "source": [
    "test_2.0()"
   ]
  },
  {
   "cell_type": "markdown",
   "metadata": {
    "nbgrader": {
     "grade": false,
     "grade_id": "cell-f3fec4bdcd74fe8c",
     "locked": true,
     "schema_version": 3,
     "solution": false,
     "task": false
    }
   },
   "source": [
    "### Root Barriers\n",
    "\n",
    "In this section, we are going to test the limits of bootstrapping to see whether it results in reliable approximations of asymmetrical sampling distributions, such as the one shown above. To do this, we will attempt to use bootstrapping to estimate sampling distributions that we know are even less symmetrical and compare them to see if our estimates are reasonable. One population that we have at our disposal that yields some asymmetrical sampling distributions is the `vancouver_trees` data set from the `datateachr` package. One example of this is the sampling distribution of sample proportions for the `root_barrier` variable; in this section, we will be looking at the proportion of trees that **do not** have a root barrier.\n",
    "\n",
    "<img src=\"https://www.flexiblelining.co.uk/media/shared/product-images/urban-hard-landscaping/rootbarrier/170UR4170-rootbarrier-panels-1.jpg\" width=400>\n",
    "\n",
    "<div style=\"text-align: center\"><i>Image from <a href=\"https://www.flexiblelining.co.uk/green-roof-systems/roof-garden-root-barrier/ribbed-root-barrier-panels\"> Flexible Lining Products</i></a></div>\n",
    "\n",
    "Recall that the `vancouver_trees` dataset contains information about public trees planted along boulevards in Vancouver. The `root_barrier` variable in this dataset specifies whether or not a tree was planted with a root barrier or not. A root barrier is a type of underground wall that protects buildings, sidewalks, and roads from roots, which can severely damage these structures. One example of a type of root barrier is shown in the picture above."
   ]
  },
  {
   "cell_type": "markdown",
   "metadata": {
    "nbgrader": {
     "grade": false,
     "grade_id": "cell-c719fb42fc24881f",
     "locked": true,
     "schema_version": 3,
     "solution": false,
     "task": false
    }
   },
   "source": [
    "**Question 2.1** \n",
    "<br> {points: 1}\n",
    "\n",
    "Filter `vancouver_trees` such that there are no `NA` values in the `root_barrier` column, and then select only that column. Use the scaffolding provided below as a guide:\n",
    "\n",
    "```r\n",
    "tree_pop <- vancouver_trees %>% \n",
    "    filter(...) %>% \n",
    "    ...(root_barrier)\n",
    "```\n",
    "\n",
    "_Assign your data frame to an object called `barrier_pop`._"
   ]
  },
  {
   "cell_type": "code",
   "execution_count": 9,
   "metadata": {
    "nbgrader": {
     "grade": false,
     "grade_id": "cell-65aebf1f840a376d",
     "locked": false,
     "schema_version": 3,
     "solution": true,
     "task": false
    }
   },
   "outputs": [
    {
     "data": {
      "text/html": [
       "<table>\n",
       "<caption>A tibble: 6 × 1</caption>\n",
       "<thead>\n",
       "\t<tr><th scope=col>root_barrier</th></tr>\n",
       "\t<tr><th scope=col>&lt;chr&gt;</th></tr>\n",
       "</thead>\n",
       "<tbody>\n",
       "\t<tr><td>N</td></tr>\n",
       "\t<tr><td>N</td></tr>\n",
       "\t<tr><td>N</td></tr>\n",
       "\t<tr><td>N</td></tr>\n",
       "\t<tr><td>N</td></tr>\n",
       "\t<tr><td>N</td></tr>\n",
       "</tbody>\n",
       "</table>\n"
      ],
      "text/latex": [
       "A tibble: 6 × 1\n",
       "\\begin{tabular}{l}\n",
       " root\\_barrier\\\\\n",
       " <chr>\\\\\n",
       "\\hline\n",
       "\t N\\\\\n",
       "\t N\\\\\n",
       "\t N\\\\\n",
       "\t N\\\\\n",
       "\t N\\\\\n",
       "\t N\\\\\n",
       "\\end{tabular}\n"
      ],
      "text/markdown": [
       "\n",
       "A tibble: 6 × 1\n",
       "\n",
       "| root_barrier &lt;chr&gt; |\n",
       "|---|\n",
       "| N |\n",
       "| N |\n",
       "| N |\n",
       "| N |\n",
       "| N |\n",
       "| N |\n",
       "\n"
      ],
      "text/plain": [
       "  root_barrier\n",
       "1 N           \n",
       "2 N           \n",
       "3 N           \n",
       "4 N           \n",
       "5 N           \n",
       "6 N           "
      ]
     },
     "metadata": {},
     "output_type": "display_data"
    }
   ],
   "source": [
    "### BEGIN SOLUTION\n",
    "barrier_pop <- vancouver_trees %>% \n",
    "    filter(!is.na(root_barrier)) %>% \n",
    "    select(root_barrier)\n",
    "### END SOLUTION\n",
    "head(barrier_pop)"
   ]
  },
  {
   "cell_type": "code",
   "execution_count": 10,
   "metadata": {
    "nbgrader": {
     "grade": true,
     "grade_id": "cell-5be38a133d838f2f",
     "locked": true,
     "points": 1,
     "schema_version": 3,
     "solution": false,
     "task": false
    }
   },
   "outputs": [
    {
     "name": "stdout",
     "output_type": "stream",
     "text": [
      "[1] \"Success!\"\n"
     ]
    }
   ],
   "source": [
    "test_2.1()"
   ]
  },
  {
   "cell_type": "markdown",
   "metadata": {
    "nbgrader": {
     "grade": false,
     "grade_id": "cell-3db19654da2479d1",
     "locked": true,
     "schema_version": 3,
     "solution": false,
     "task": false
    }
   },
   "source": [
    "**Question 2.2** \n",
    "<br> {points: 1}\n",
    "\n",
    "Draw 2000 random samples of size 20 from the population `barrier_pop` using the `rep_sample_n` function and a seed of 3909. For each sample, calculate the proportion of trees that **do not** have a root barrier (i.e. where `root_barrier == \"N\"`) as the point estimate. Lastly, visualize the distribution of the sample proportions you just calculated by plotting a histogram using `geom_histogram` with bin widths of 1/20. Add a descriptive title to the plot using `ggtitle` and ensure that the x-axis has a human-readable label. Your final plot should have a variable named `p` on the x-axis. Use the scaffolding provided below as a guide:\n",
    "\n",
    "```r\n",
    "barrier_sampling_dist <- ... %>% \n",
    "    rep_sample_n(size = ..., reps = ..., replace = ...) %>% \n",
    "    ...(replicate) %>% \n",
    "    summarize(x = sum(... == \"N\"),\n",
    "              n = n()) %>% \n",
    "    mutate(p = ... / ...) %>% \n",
    "    ggplot(aes(x = p)) +\n",
    "        geom_histogram(... = ...) +\n",
    "        xlab(\"Proportion\") +\n",
    "        ggtitle(\"Sampling Distribution of Proportions (n = 20)\")\n",
    "```\n",
    "\n",
    "_Assign your plot to an object called `barrier_sampling_dist`._"
   ]
  },
  {
   "cell_type": "code",
   "execution_count": 11,
   "metadata": {
    "nbgrader": {
     "grade": false,
     "grade_id": "cell-68ae3b69a08fbf94",
     "locked": false,
     "schema_version": 3,
     "solution": true,
     "task": false
    }
   },
   "outputs": [
    {
     "name": "stderr",
     "output_type": "stream",
     "text": [
      "`summarise()` ungrouping output (override with `.groups` argument)\n",
      "\n"
     ]
    },
    {
     "data": {
      "image/png": "[encoded data removed]",
      "text/plain": [
       "plot without title"
      ]
     },
     "metadata": {
      "image/png": {
       "height": 420,
       "width": 420
      }
     },
     "output_type": "display_data"
    }
   ],
   "source": [
    "set.seed(3909) # DO NOT CHANGE!\n",
    "\n",
    "### BEGIN SOLUTION\n",
    "barrier_sampling_dist <- barrier_pop %>% \n",
    "    rep_sample_n(size = 20, reps = 2000, replace = FALSE) %>% \n",
    "    group_by(replicate) %>% \n",
    "    summarize(x = sum(root_barrier == \"N\"),\n",
    "              n = n()) %>% \n",
    "    mutate(p = x / n) %>% \n",
    "    ggplot(aes(x = p)) +\n",
    "        geom_histogram(binwidth = 1/20) +\n",
    "        xlab(\"Proportion\") +\n",
    "        ggtitle(\"Sampling Distribution of Sample Proportions (n = 20)\")\n",
    "### END SOLUTION\n",
    "barrier_sampling_dist"
   ]
  },
  {
   "cell_type": "code",
   "execution_count": 12,
   "metadata": {
    "nbgrader": {
     "grade": true,
     "grade_id": "cell-baec19ed025dc2e9",
     "locked": true,
     "points": 1,
     "schema_version": 3,
     "solution": false,
     "task": false
    }
   },
   "outputs": [
    {
     "name": "stdout",
     "output_type": "stream",
     "text": [
      "[1] \"Success!\"\n"
     ]
    }
   ],
   "source": [
    "test_2.2()"
   ]
  },
  {
   "cell_type": "markdown",
   "metadata": {
    "nbgrader": {
     "grade": false,
     "grade_id": "cell-656b90f2deb5d102",
     "locked": true,
     "schema_version": 3,
     "solution": false,
     "task": false
    }
   },
   "source": [
    "**Question 2.3** \n",
    "<br> {points: 1}\n",
    "\n",
    "Take a single random sample of size 20 from `barrier_pop` using `rep_sample_n` and a seed of 1933. Ensure your resulting data frame only has a single column: `root_barrier`.\n",
    "\n",
    "**Hint:** Remember to `ungroup()` before using `select()`!\n",
    "\n",
    "_Assign your data frame to an object called `barrier_sample`._"
   ]
  },
  {
   "cell_type": "code",
   "execution_count": 13,
   "metadata": {
    "nbgrader": {
     "grade": false,
     "grade_id": "cell-d565a00f0fb18d3a",
     "locked": false,
     "schema_version": 3,
     "solution": true,
     "task": false
    }
   },
   "outputs": [
    {
     "data": {
      "text/html": [
       "<table>\n",
       "<caption>A tibble: 6 × 1</caption>\n",
       "<thead>\n",
       "\t<tr><th scope=col>root_barrier</th></tr>\n",
       "\t<tr><th scope=col>&lt;chr&gt;</th></tr>\n",
       "</thead>\n",
       "<tbody>\n",
       "\t<tr><td>N</td></tr>\n",
       "\t<tr><td>N</td></tr>\n",
       "\t<tr><td>N</td></tr>\n",
       "\t<tr><td>N</td></tr>\n",
       "\t<tr><td>N</td></tr>\n",
       "\t<tr><td>N</td></tr>\n",
       "</tbody>\n",
       "</table>\n"
      ],
      "text/latex": [
       "A tibble: 6 × 1\n",
       "\\begin{tabular}{l}\n",
       " root\\_barrier\\\\\n",
       " <chr>\\\\\n",
       "\\hline\n",
       "\t N\\\\\n",
       "\t N\\\\\n",
       "\t N\\\\\n",
       "\t N\\\\\n",
       "\t N\\\\\n",
       "\t N\\\\\n",
       "\\end{tabular}\n"
      ],
      "text/markdown": [
       "\n",
       "A tibble: 6 × 1\n",
       "\n",
       "| root_barrier &lt;chr&gt; |\n",
       "|---|\n",
       "| N |\n",
       "| N |\n",
       "| N |\n",
       "| N |\n",
       "| N |\n",
       "| N |\n",
       "\n"
      ],
      "text/plain": [
       "  root_barrier\n",
       "1 N           \n",
       "2 N           \n",
       "3 N           \n",
       "4 N           \n",
       "5 N           \n",
       "6 N           "
      ]
     },
     "metadata": {},
     "output_type": "display_data"
    }
   ],
   "source": [
    "set.seed(1933) # DO NOT CHANGE!\n",
    "\n",
    "### BEGIN SOLUTION\n",
    "barrier_sample <- barrier_pop %>% \n",
    "    rep_sample_n(size = 20) %>% \n",
    "    ungroup() %>% \n",
    "    select(root_barrier)\n",
    "### END SOLUTION\n",
    "head(barrier_sample)"
   ]
  },
  {
   "cell_type": "code",
   "execution_count": 14,
   "metadata": {
    "nbgrader": {
     "grade": true,
     "grade_id": "cell-789b0060d74dbe20",
     "locked": true,
     "points": 1,
     "schema_version": 3,
     "solution": false,
     "task": false
    }
   },
   "outputs": [
    {
     "name": "stdout",
     "output_type": "stream",
     "text": [
      "[1] \"Success!\"\n"
     ]
    }
   ],
   "source": [
    "test_2.3()"
   ]
  },
  {
   "cell_type": "markdown",
   "metadata": {
    "nbgrader": {
     "grade": false,
     "grade_id": "cell-5cc1c16691bdfe76",
     "locked": true,
     "schema_version": 3,
     "solution": false,
     "task": false
    }
   },
   "source": [
    "**Question 2.4** \n",
    "<br> {points: 1}\n",
    "\n",
    "Now we want to produce a bootstrap sampling distribution using `barrier_sample` sample we just took, which we will be able to compare to the sampling distribution we generated above. We want to use the exact same scaffolding as **question 2.2** (except the object name we are saving to) to complete the following task: \n",
    "\n",
    "> Take 2000 bootstrap samples from `barrier_sample` using `rep_sample_n` with a seed of 2767. Then, calculate the proportion of trees in each sample that does not have a root barrier (`root_barrier == \"N\"`); name the column containing the sample propotions `p`. Lastly, use `geom_histogram` with bin widths of 1/20 to visualize the bootstrap distribution. Add a descriptive title to the plot using `ggtitle` and ensure that the x-axis has a human-readable label. \n",
    "\n",
    "**Which two `...`'s in the scaffolding below _must_ be different than the code you used in question 2.2?**\n",
    "\n",
    "```R\n",
    "# LINE  1:    bootstrap_dist_20 <- ... %>% \n",
    "# LINE  2:       rep_sample_n(size = ..., reps = ..., replace = ...) %>% \n",
    "# LINE  3:       ...(replicate) %>% \n",
    "# LINE  4:       summarize(x = sum(... == \"N\"),\n",
    "# LINE  5:                 n = n()) %>% \n",
    "# LINE  6:       mutate(p = ... / ...) %>% \n",
    "# LINE  7:       ggplot(aes(x = p)) +\n",
    "# LINE  8:           geom_histogram(... = ...) +\n",
    "# LINE  9:           xlab(\"Proportion\") +\n",
    "# LINE 10:           ...(\"n = 20\")\n",
    "```\n",
    "\n",
    "A. The `...` in `LINE 1` and the third `...` from the left in `LINE 2`\n",
    "\n",
    "B. The `...` in `LINE 1` and the second `...` from the left in `LINE 8`\n",
    "\n",
    "C. The first `...` from the left in `LINE 2` and the third `...` from the left in `LINE 2`\n",
    "\n",
    "D. The first `...` from the left in `LINE 2` and the second `...` from the left in `LINE 8`\n",
    "\n",
    "E. Some other two `...`'s not listed above.\n",
    "\n",
    "F. None of the above; only one `...` must be different.\n",
    "\n",
    "G. None of the above; three or more of the `...` must be different.\n",
    "\n",
    "_Assign your answer to an object called `answer2.4`. Your answer should be a single character surrounded by quotes._"
   ]
  },
  {
   "cell_type": "code",
   "execution_count": 15,
   "metadata": {
    "nbgrader": {
     "grade": false,
     "grade_id": "cell-bb6ac4a03c970908",
     "locked": false,
     "schema_version": 3,
     "solution": true,
     "task": false
    }
   },
   "outputs": [],
   "source": [
    "# answer2.4 <- ...\n",
    "\n",
    "### BEGIN SOLUTION\n",
    "answer2.4 <- \"A\"\n",
    "### END SOLUTION"
   ]
  },
  {
   "cell_type": "code",
   "execution_count": 16,
   "metadata": {
    "nbgrader": {
     "grade": true,
     "grade_id": "cell-c108dea3f7b6b6e2",
     "locked": true,
     "points": 1,
     "schema_version": 3,
     "solution": false,
     "task": false
    }
   },
   "outputs": [
    {
     "name": "stdout",
     "output_type": "stream",
     "text": [
      "[1] \"Success!\"\n"
     ]
    }
   ],
   "source": [
    "test_2.4()"
   ]
  },
  {
   "cell_type": "markdown",
   "metadata": {
    "nbgrader": {
     "grade": false,
     "grade_id": "cell-092e11d77cbda9d5",
     "locked": true,
     "schema_version": 3,
     "solution": false,
     "task": false
    }
   },
   "source": [
    "**Question 2.5** \n",
    "<br> {points: 1}\n",
    "\n",
    "Take 2000 bootstrap samples from `barrier_sample` using `rep_sample_n` with a seed of 2767. Then, calculate the proportion of trees in each sample that does not have a root barrier (`root_barrier == \"N\"`). Lastly, use `geom_histogram` with bin widths of 1/20 to visualize the bootstrap distribution. Add a descriptive title to the plot using `ggtitle` and ensure that the x-axis has a human-readable label. \n",
    "\n",
    "**Hint:** use your answer to the previous question and your code from **question 2.2**.\n",
    "\n",
    "_Assign your plot to an object called `barrier_bootstrap_dist`._"
   ]
  },
  {
   "cell_type": "code",
   "execution_count": 17,
   "metadata": {
    "nbgrader": {
     "grade": false,
     "grade_id": "cell-49c66e4141824107",
     "locked": false,
     "schema_version": 3,
     "solution": true,
     "task": false
    },
    "scrolled": true
   },
   "outputs": [
    {
     "name": "stderr",
     "output_type": "stream",
     "text": [
      "`summarise()` ungrouping output (override with `.groups` argument)\n",
      "\n"
     ]
    },
    {
     "data": {
      "image/png": "[encoded data removed]",
      "text/plain": [
       "plot without title"
      ]
     },
     "metadata": {
      "image/png": {
       "height": 420,
       "width": 420
      }
     },
     "output_type": "display_data"
    }
   ],
   "source": [
    "set.seed(2767) # DO NOT CHANGE!\n",
    "\n",
    "### BEGIN SOLUTION\n",
    "barrier_bootstrap_dist <- barrier_sample %>% \n",
    "    rep_sample_n(size = 20, reps = 2000, replace = TRUE) %>% \n",
    "    group_by(replicate) %>% \n",
    "    summarize(x = sum(root_barrier == \"N\"),\n",
    "              n = n()) %>% \n",
    "    mutate(p = x / n) %>% \n",
    "    ggplot(aes(x = p)) +\n",
    "        geom_histogram(binwidth = 1/20) +\n",
    "        xlab(\"Proportion\") +\n",
    "        ggtitle(\"Bootstrap Distribution of Sample Proportions (n = 20)\")\n",
    "### END SOLUTION\n",
    "barrier_bootstrap_dist"
   ]
  },
  {
   "cell_type": "code",
   "execution_count": 18,
   "metadata": {
    "nbgrader": {
     "grade": true,
     "grade_id": "cell-1e5db4cb336f35b7",
     "locked": true,
     "points": 1,
     "schema_version": 3,
     "solution": false,
     "task": false
    }
   },
   "outputs": [
    {
     "name": "stdout",
     "output_type": "stream",
     "text": [
      "[1] \"Success!\"\n"
     ]
    }
   ],
   "source": [
    "test_2.5()"
   ]
  },
  {
   "cell_type": "markdown",
   "metadata": {
    "nbgrader": {
     "grade": false,
     "grade_id": "cell-5b7a33251a40cd78",
     "locked": true,
     "schema_version": 3,
     "solution": false,
     "task": false
    }
   },
   "source": [
    "**Question 2.6** \n",
    "<br> {points: 1}\n",
    "\n",
    "**Note:** this question has two parts!\n",
    "\n",
    "a) Calculate the standard deviation of the sampling distribution you generated above (`barrier_sampling_dist`); this is the standard error of the corresponding estimator.\n",
    "\n",
    "_Assign your answer to an object called `standard_error`. Your answer should be a single number._\n",
    "\n",
    "<br>\n",
    "\n",
    "b) Calculate the standard deviation of the bootstrap distribution you generated above (`barrier_bootstrap_dist`).\n",
    "\n",
    "_Assign your answer to an object called `standard_deviation`. Your answer should be a single number._\n",
    "\n",
    "**Hints:**\n",
    "- You can get the data that was used to generate using a plot with `plot_name$data`, for example: `barrier_sampling_dist$data`.\n",
    "- You can convert a 1x1 data frame to a number using `as.numeric()`."
   ]
  },
  {
   "cell_type": "code",
   "execution_count": 19,
   "metadata": {
    "nbgrader": {
     "grade": false,
     "grade_id": "cell-723febc1c6611afd",
     "locked": false,
     "schema_version": 3,
     "solution": true,
     "task": false
    }
   },
   "outputs": [
    {
     "data": {
      "text/html": [
       "0.0547777126110561"
      ],
      "text/latex": [
       "0.0547777126110561"
      ],
      "text/markdown": [
       "0.0547777126110561"
      ],
      "text/plain": [
       "[1] 0.05477771"
      ]
     },
     "metadata": {},
     "output_type": "display_data"
    },
    {
     "data": {
      "text/html": [
       "0.0675816072376087"
      ],
      "text/latex": [
       "0.0675816072376087"
      ],
      "text/markdown": [
       "0.0675816072376087"
      ],
      "text/plain": [
       "[1] 0.06758161"
      ]
     },
     "metadata": {},
     "output_type": "display_data"
    }
   ],
   "source": [
    "### BEGIN SOLUTION\n",
    "standard_error <- barrier_sampling_dist$data %>% \n",
    "    summarize(se = sd(p)) %>% \n",
    "    as.numeric()\n",
    "standard_deviation <- barrier_bootstrap_dist$data %>% \n",
    "    summarize(sd = sd(p)) %>% \n",
    "    as.numeric()\n",
    "### END SOLUTION\n",
    "standard_error\n",
    "standard_deviation"
   ]
  },
  {
   "cell_type": "code",
   "execution_count": 20,
   "metadata": {
    "nbgrader": {
     "grade": true,
     "grade_id": "cell-96fbd5f460153e4d",
     "locked": true,
     "points": 1,
     "schema_version": 3,
     "solution": false,
     "task": false
    }
   },
   "outputs": [
    {
     "name": "stdout",
     "output_type": "stream",
     "text": [
      "[1] \"Success!\"\n"
     ]
    }
   ],
   "source": [
    "test_2.6()"
   ]
  },
  {
   "cell_type": "markdown",
   "metadata": {
    "nbgrader": {
     "grade": false,
     "grade_id": "cell-872bca96dfb37d39",
     "locked": true,
     "schema_version": 3,
     "solution": false,
     "task": false
    }
   },
   "source": [
    "**Question 2.7** \n",
    "<br> {points: 1}\n",
    "\n",
    "True or false?\n",
    "\n",
    "The standard deviation of a bootstrap distribution is a \"good guess\" of the standard deviation of the corresponding sampling distribution."
   ]
  },
  {
   "cell_type": "code",
   "execution_count": 21,
   "metadata": {
    "nbgrader": {
     "grade": false,
     "grade_id": "cell-98838fdd73e845c4",
     "locked": false,
     "schema_version": 3,
     "solution": true,
     "task": false
    }
   },
   "outputs": [],
   "source": [
    "# answer2.7 <- ...\n",
    "\n",
    "### BEGIN SOLUTION\n",
    "answer2.7 <- \"true\"\n",
    "### END SOLUTION"
   ]
  },
  {
   "cell_type": "code",
   "execution_count": 22,
   "metadata": {
    "nbgrader": {
     "grade": true,
     "grade_id": "cell-2b590d0c77cfb166",
     "locked": true,
     "points": 1,
     "schema_version": 3,
     "solution": false,
     "task": false
    }
   },
   "outputs": [
    {
     "name": "stdout",
     "output_type": "stream",
     "text": [
      "[1] \"Success!\"\n"
     ]
    }
   ],
   "source": [
    "test_2.7()"
   ]
  },
  {
   "cell_type": "markdown",
   "metadata": {
    "nbgrader": {
     "grade": false,
     "grade_id": "cell-c1862c7bad5b258e",
     "locked": true,
     "schema_version": 3,
     "solution": false,
     "task": false
    }
   },
   "source": [
    "**Question 2.8** \n",
    "<br> {points: 3}\n",
    "\n",
    "Will the standard deviation of a bootstrap distribution **always** be relatively close to the standard deviation of the corresponding sampling distribution?\n",
    "- If no, describe one situation related to our root barrier scenario above that would result in the `standard_deviation` object from **question 2.6** being very different than the `standard_error` object.\n",
    "- If yes, explain why no such situation exists."
   ]
  },
  {
   "cell_type": "markdown",
   "metadata": {
    "nbgrader": {
     "grade": true,
     "grade_id": "cell-692bb294134028ed",
     "locked": false,
     "points": 3,
     "schema_version": 3,
     "solution": true,
     "task": false
    }
   },
   "source": [
    "### BEGIN SOLUTION\n",
    "No. Either\n",
    "1. We get unlucky and get a sample where `root_barrier == \"N\"` for all observations in the sample, which would give us a standard deviation of 0 for the bootstrap distribution.\n",
    "2. We get unlucky and get a sample where we get lots of observations with `root_barrier == \"Y\"` (such as a 50/50 spliit between `\"Y\"` and `\"N\"`) which would give us a much larger standard deviation compared to the standard error.\n",
    "\n",
    "### END SOLUTION"
   ]
  },
  {
   "cell_type": "markdown",
   "metadata": {
    "nbgrader": {
     "grade": false,
     "grade_id": "cell-09699b3910c5e22d",
     "locked": true,
     "schema_version": 3,
     "solution": false,
     "task": false
    }
   },
   "source": [
    "## 3. A Closer Look at Bootstrapping\n",
    "\n",
    "There is one \"rule\" related to bootstrapping that we have not mentioned yet:\n",
    "\n",
    "> When generating a bootstrap distribution to estimate the sampling distribution for the original sample size, the **bootstrap samples** should be the **same size** as the **original sample** to get a useful estimate.\n",
    "\n",
    "For example, we would get poor results if we took a sample of size 30 from the population, and then took many bootstrap samples (resamples from the original sample, with replacement) of size 60 to estimate a sampling distribution for samples of size 30. Why? Let's try it out ourselves to discover the answer. Afterwards, we'll also go through some other questions to continue to solidify our understanding of the various nuances related to bootstrapping."
   ]
  },
  {
   "cell_type": "markdown",
   "metadata": {
    "nbgrader": {
     "grade": false,
     "grade_id": "cell-0bd9dc7d44fd3c04",
     "locked": true,
     "schema_version": 3,
     "solution": false,
     "task": false
    }
   },
   "source": [
    "### Building Permits\n",
    "\n",
    "To explore the \"rule of thumb\" that we mentioned above, we will again use the `vancouver_trees` data set from the `datateachr` pacakge. However, this time the population we are interested in is only the trees with the common name `\"PISSARD PLUM\"`, and the parameter that we are interested in is the standard deviation of the `diameter` of these trees."
   ]
  },
  {
   "cell_type": "code",
   "execution_count": 23,
   "metadata": {
    "nbgrader": {
     "grade": false,
     "grade_id": "cell-499c4bc56a311d6f",
     "locked": true,
     "schema_version": 3,
     "solution": false,
     "task": false
    },
    "scrolled": true
   },
   "outputs": [
    {
     "data": {
      "text/html": [
       "<table>\n",
       "<caption>A tibble: 6 × 20</caption>\n",
       "<thead>\n",
       "\t<tr><th scope=col>tree_id</th><th scope=col>civic_number</th><th scope=col>std_street</th><th scope=col>genus_name</th><th scope=col>species_name</th><th scope=col>cultivar_name</th><th scope=col>common_name</th><th scope=col>assigned</th><th scope=col>root_barrier</th><th scope=col>plant_area</th><th scope=col>on_street_block</th><th scope=col>on_street</th><th scope=col>neighbourhood_name</th><th scope=col>street_side_name</th><th scope=col>height_range_id</th><th scope=col>diameter</th><th scope=col>curb</th><th scope=col>date_planted</th><th scope=col>longitude</th><th scope=col>latitude</th></tr>\n",
       "\t<tr><th scope=col>&lt;dbl&gt;</th><th scope=col>&lt;dbl&gt;</th><th scope=col>&lt;chr&gt;</th><th scope=col>&lt;chr&gt;</th><th scope=col>&lt;chr&gt;</th><th scope=col>&lt;chr&gt;</th><th scope=col>&lt;chr&gt;</th><th scope=col>&lt;chr&gt;</th><th scope=col>&lt;chr&gt;</th><th scope=col>&lt;chr&gt;</th><th scope=col>&lt;dbl&gt;</th><th scope=col>&lt;chr&gt;</th><th scope=col>&lt;chr&gt;</th><th scope=col>&lt;chr&gt;</th><th scope=col>&lt;dbl&gt;</th><th scope=col>&lt;dbl&gt;</th><th scope=col>&lt;chr&gt;</th><th scope=col>&lt;date&gt;</th><th scope=col>&lt;dbl&gt;</th><th scope=col>&lt;dbl&gt;</th></tr>\n",
       "</thead>\n",
       "<tbody>\n",
       "\t<tr><td>149556</td><td> 494</td><td>W 58TH AV </td><td>ULMUS   </td><td>AMERICANA </td><td>BRANDON        </td><td>BRANDON ELM        </td><td>N</td><td>N</td><td>N</td><td> 400</td><td>W 58TH AV </td><td>MARPOLE                 </td><td>EVEN</td><td>2</td><td>10</td><td>N</td><td>1999-01-13</td><td>-123.1161</td><td>49.21776</td></tr>\n",
       "\t<tr><td>149563</td><td> 450</td><td>W 58TH AV </td><td>ZELKOVA </td><td>SERRATA   </td><td>NA             </td><td>JAPANESE ZELKOVA   </td><td>N</td><td>N</td><td>N</td><td> 400</td><td>W 58TH AV </td><td>MARPOLE                 </td><td>EVEN</td><td>4</td><td>10</td><td>N</td><td>1996-05-31</td><td>-123.1147</td><td>49.21776</td></tr>\n",
       "\t<tr><td>149579</td><td>4994</td><td>WINDSOR ST</td><td>STYRAX  </td><td>JAPONICA  </td><td>NA             </td><td>JAPANESE SNOWBELL  </td><td>N</td><td>N</td><td>4</td><td>4900</td><td>WINDSOR ST</td><td>KENSINGTON-CEDAR COTTAGE</td><td>EVEN</td><td>3</td><td> 4</td><td>Y</td><td>1993-11-22</td><td>-123.0846</td><td>49.23938</td></tr>\n",
       "\t<tr><td>149590</td><td> 858</td><td>E 39TH AV </td><td>FRAXINUS</td><td>AMERICANA </td><td>AUTUMN APPLAUSE</td><td>AUTUMN APPLAUSE ASH</td><td>Y</td><td>N</td><td>4</td><td> 800</td><td>E 39TH AV </td><td>KENSINGTON-CEDAR COTTAGE</td><td>EVEN</td><td>4</td><td>18</td><td>Y</td><td>1996-04-29</td><td>-123.0870</td><td>49.23469</td></tr>\n",
       "\t<tr><td>149604</td><td>5032</td><td>WINDSOR ST</td><td>ACER    </td><td>CAMPESTRE </td><td>NA             </td><td>HEDGE MAPLE        </td><td>N</td><td>N</td><td>4</td><td>5000</td><td>WINDSOR ST</td><td>KENSINGTON-CEDAR COTTAGE</td><td>EVEN</td><td>2</td><td> 9</td><td>Y</td><td>1993-12-17</td><td>-123.0846</td><td>49.23894</td></tr>\n",
       "\t<tr><td>149616</td><td> 585</td><td>W 61ST AV </td><td>PYRUS   </td><td>CALLERYANA</td><td>CHANTICLEER    </td><td>CHANTICLEER PEAR   </td><td>N</td><td>N</td><td>B</td><td> 500</td><td>W 61ST AV </td><td>MARPOLE                 </td><td>ODD </td><td>2</td><td> 5</td><td>Y</td><td>NA</td><td>-123.1196</td><td>49.21513</td></tr>\n",
       "</tbody>\n",
       "</table>\n"
      ],
      "text/latex": [
       "A tibble: 6 × 20\n",
       "\\begin{tabular}{llllllllllllllllllll}\n",
       " tree\\_id & civic\\_number & std\\_street & genus\\_name & species\\_name & cultivar\\_name & common\\_name & assigned & root\\_barrier & plant\\_area & on\\_street\\_block & on\\_street & neighbourhood\\_name & street\\_side\\_name & height\\_range\\_id & diameter & curb & date\\_planted & longitude & latitude\\\\\n",
       " <dbl> & <dbl> & <chr> & <chr> & <chr> & <chr> & <chr> & <chr> & <chr> & <chr> & <dbl> & <chr> & <chr> & <chr> & <dbl> & <dbl> & <chr> & <date> & <dbl> & <dbl>\\\\\n",
       "\\hline\n",
       "\t 149556 &  494 & W 58TH AV  & ULMUS    & AMERICANA  & BRANDON         & BRANDON ELM         & N & N & N &  400 & W 58TH AV  & MARPOLE                  & EVEN & 2 & 10 & N & 1999-01-13 & -123.1161 & 49.21776\\\\\n",
       "\t 149563 &  450 & W 58TH AV  & ZELKOVA  & SERRATA    & NA              & JAPANESE ZELKOVA    & N & N & N &  400 & W 58TH AV  & MARPOLE                  & EVEN & 4 & 10 & N & 1996-05-31 & -123.1147 & 49.21776\\\\\n",
       "\t 149579 & 4994 & WINDSOR ST & STYRAX   & JAPONICA   & NA              & JAPANESE SNOWBELL   & N & N & 4 & 4900 & WINDSOR ST & KENSINGTON-CEDAR COTTAGE & EVEN & 3 &  4 & Y & 1993-11-22 & -123.0846 & 49.23938\\\\\n",
       "\t 149590 &  858 & E 39TH AV  & FRAXINUS & AMERICANA  & AUTUMN APPLAUSE & AUTUMN APPLAUSE ASH & Y & N & 4 &  800 & E 39TH AV  & KENSINGTON-CEDAR COTTAGE & EVEN & 4 & 18 & Y & 1996-04-29 & -123.0870 & 49.23469\\\\\n",
       "\t 149604 & 5032 & WINDSOR ST & ACER     & CAMPESTRE  & NA              & HEDGE MAPLE         & N & N & 4 & 5000 & WINDSOR ST & KENSINGTON-CEDAR COTTAGE & EVEN & 2 &  9 & Y & 1993-12-17 & -123.0846 & 49.23894\\\\\n",
       "\t 149616 &  585 & W 61ST AV  & PYRUS    & CALLERYANA & CHANTICLEER     & CHANTICLEER PEAR    & N & N & B &  500 & W 61ST AV  & MARPOLE                  & ODD  & 2 &  5 & Y & NA & -123.1196 & 49.21513\\\\\n",
       "\\end{tabular}\n"
      ],
      "text/markdown": [
       "\n",
       "A tibble: 6 × 20\n",
       "\n",
       "| tree_id &lt;dbl&gt; | civic_number &lt;dbl&gt; | std_street &lt;chr&gt; | genus_name &lt;chr&gt; | species_name &lt;chr&gt; | cultivar_name &lt;chr&gt; | common_name &lt;chr&gt; | assigned &lt;chr&gt; | root_barrier &lt;chr&gt; | plant_area &lt;chr&gt; | on_street_block &lt;dbl&gt; | on_street &lt;chr&gt; | neighbourhood_name &lt;chr&gt; | street_side_name &lt;chr&gt; | height_range_id &lt;dbl&gt; | diameter &lt;dbl&gt; | curb &lt;chr&gt; | date_planted &lt;date&gt; | longitude &lt;dbl&gt; | latitude &lt;dbl&gt; |\n",
       "|---|---|---|---|---|---|---|---|---|---|---|---|---|---|---|---|---|---|---|---|\n",
       "| 149556 |  494 | W 58TH AV  | ULMUS    | AMERICANA  | BRANDON         | BRANDON ELM         | N | N | N |  400 | W 58TH AV  | MARPOLE                  | EVEN | 2 | 10 | N | 1999-01-13 | -123.1161 | 49.21776 |\n",
       "| 149563 |  450 | W 58TH AV  | ZELKOVA  | SERRATA    | NA              | JAPANESE ZELKOVA    | N | N | N |  400 | W 58TH AV  | MARPOLE                  | EVEN | 4 | 10 | N | 1996-05-31 | -123.1147 | 49.21776 |\n",
       "| 149579 | 4994 | WINDSOR ST | STYRAX   | JAPONICA   | NA              | JAPANESE SNOWBELL   | N | N | 4 | 4900 | WINDSOR ST | KENSINGTON-CEDAR COTTAGE | EVEN | 3 |  4 | Y | 1993-11-22 | -123.0846 | 49.23938 |\n",
       "| 149590 |  858 | E 39TH AV  | FRAXINUS | AMERICANA  | AUTUMN APPLAUSE | AUTUMN APPLAUSE ASH | Y | N | 4 |  800 | E 39TH AV  | KENSINGTON-CEDAR COTTAGE | EVEN | 4 | 18 | Y | 1996-04-29 | -123.0870 | 49.23469 |\n",
       "| 149604 | 5032 | WINDSOR ST | ACER     | CAMPESTRE  | NA              | HEDGE MAPLE         | N | N | 4 | 5000 | WINDSOR ST | KENSINGTON-CEDAR COTTAGE | EVEN | 2 |  9 | Y | 1993-12-17 | -123.0846 | 49.23894 |\n",
       "| 149616 |  585 | W 61ST AV  | PYRUS    | CALLERYANA | CHANTICLEER     | CHANTICLEER PEAR    | N | N | B |  500 | W 61ST AV  | MARPOLE                  | ODD  | 2 |  5 | Y | NA | -123.1196 | 49.21513 |\n",
       "\n"
      ],
      "text/plain": [
       "  tree_id civic_number std_street genus_name species_name cultivar_name  \n",
       "1 149556   494         W 58TH AV  ULMUS      AMERICANA    BRANDON        \n",
       "2 149563   450         W 58TH AV  ZELKOVA    SERRATA      NA             \n",
       "3 149579  4994         WINDSOR ST STYRAX     JAPONICA     NA             \n",
       "4 149590   858         E 39TH AV  FRAXINUS   AMERICANA    AUTUMN APPLAUSE\n",
       "5 149604  5032         WINDSOR ST ACER       CAMPESTRE    NA             \n",
       "6 149616   585         W 61ST AV  PYRUS      CALLERYANA   CHANTICLEER    \n",
       "  common_name         assigned root_barrier plant_area on_street_block\n",
       "1 BRANDON ELM         N        N            N           400           \n",
       "2 JAPANESE ZELKOVA    N        N            N           400           \n",
       "3 JAPANESE SNOWBELL   N        N            4          4900           \n",
       "4 AUTUMN APPLAUSE ASH Y        N            4           800           \n",
       "5 HEDGE MAPLE         N        N            4          5000           \n",
       "6 CHANTICLEER PEAR    N        N            B           500           \n",
       "  on_street  neighbourhood_name       street_side_name height_range_id diameter\n",
       "1 W 58TH AV  MARPOLE                  EVEN             2               10      \n",
       "2 W 58TH AV  MARPOLE                  EVEN             4               10      \n",
       "3 WINDSOR ST KENSINGTON-CEDAR COTTAGE EVEN             3                4      \n",
       "4 E 39TH AV  KENSINGTON-CEDAR COTTAGE EVEN             4               18      \n",
       "5 WINDSOR ST KENSINGTON-CEDAR COTTAGE EVEN             2                9      \n",
       "6 W 61ST AV  MARPOLE                  ODD              2                5      \n",
       "  curb date_planted longitude latitude\n",
       "1 N    1999-01-13   -123.1161 49.21776\n",
       "2 N    1996-05-31   -123.1147 49.21776\n",
       "3 Y    1993-11-22   -123.0846 49.23938\n",
       "4 Y    1996-04-29   -123.0870 49.23469\n",
       "5 Y    1993-12-17   -123.0846 49.23894\n",
       "6 Y    <NA>         -123.1196 49.21513"
      ]
     },
     "metadata": {},
     "output_type": "display_data"
    }
   ],
   "source": [
    "head(vancouver_trees)"
   ]
  },
  {
   "cell_type": "markdown",
   "metadata": {
    "nbgrader": {
     "grade": false,
     "grade_id": "cell-b08c8f90c4b7f79d",
     "locked": true,
     "schema_version": 3,
     "solution": false,
     "task": false
    }
   },
   "source": [
    "**Question 3.0** \n",
    "<br> {points: 3}\n",
    "\n",
    "Filter the `vancouver_trees` dataset for the population that we are interested in and then select the variable that we are interested in (your final data frame should have a single column).\n",
    "\n",
    "_Assign your data frame to an object called `plum_pop`._"
   ]
  },
  {
   "cell_type": "code",
   "execution_count": 24,
   "metadata": {
    "nbgrader": {
     "grade": false,
     "grade_id": "cell-bdde492539c6004d",
     "locked": false,
     "schema_version": 3,
     "solution": true,
     "task": false
    }
   },
   "outputs": [
    {
     "data": {
      "text/html": [
       "<table>\n",
       "<caption>A tibble: 6 × 1</caption>\n",
       "<thead>\n",
       "\t<tr><th scope=col>diameter</th></tr>\n",
       "\t<tr><th scope=col>&lt;dbl&gt;</th></tr>\n",
       "</thead>\n",
       "<tbody>\n",
       "\t<tr><td> 7.25</td></tr>\n",
       "\t<tr><td>11.00</td></tr>\n",
       "\t<tr><td>10.00</td></tr>\n",
       "\t<tr><td> 8.25</td></tr>\n",
       "\t<tr><td> 8.00</td></tr>\n",
       "\t<tr><td>15.25</td></tr>\n",
       "</tbody>\n",
       "</table>\n"
      ],
      "text/latex": [
       "A tibble: 6 × 1\n",
       "\\begin{tabular}{l}\n",
       " diameter\\\\\n",
       " <dbl>\\\\\n",
       "\\hline\n",
       "\t  7.25\\\\\n",
       "\t 11.00\\\\\n",
       "\t 10.00\\\\\n",
       "\t  8.25\\\\\n",
       "\t  8.00\\\\\n",
       "\t 15.25\\\\\n",
       "\\end{tabular}\n"
      ],
      "text/markdown": [
       "\n",
       "A tibble: 6 × 1\n",
       "\n",
       "| diameter &lt;dbl&gt; |\n",
       "|---|\n",
       "|  7.25 |\n",
       "| 11.00 |\n",
       "| 10.00 |\n",
       "|  8.25 |\n",
       "|  8.00 |\n",
       "| 15.25 |\n",
       "\n"
      ],
      "text/plain": [
       "  diameter\n",
       "1  7.25   \n",
       "2 11.00   \n",
       "3 10.00   \n",
       "4  8.25   \n",
       "5  8.00   \n",
       "6 15.25   "
      ]
     },
     "metadata": {},
     "output_type": "display_data"
    }
   ],
   "source": [
    "### BEGIN SOLUTION\n",
    "plum_pop <- vancouver_trees %>% \n",
    "    filter(common_name == \"PISSARD PLUM\") %>% \n",
    "    select(diameter)\n",
    "### END SOLUTION\n",
    "head(plum_pop)"
   ]
  },
  {
   "cell_type": "code",
   "execution_count": 25,
   "metadata": {
    "nbgrader": {
     "grade": true,
     "grade_id": "cell-ae4e3ed82fd5daf8",
     "locked": true,
     "points": 1,
     "schema_version": 3,
     "solution": false,
     "task": false
    }
   },
   "outputs": [
    {
     "name": "stdout",
     "output_type": "stream",
     "text": [
      "[1] \"Success!\"\n"
     ]
    }
   ],
   "source": [
    "test_3.0()"
   ]
  },
  {
   "cell_type": "markdown",
   "metadata": {
    "nbgrader": {
     "grade": false,
     "grade_id": "cell-380227c9b0e5412d",
     "locked": true,
     "schema_version": 3,
     "solution": false,
     "task": false
    }
   },
   "source": [
    "**Question 3.1** \n",
    "<br> {points: 3}\n",
    "\n",
    "Take a single random sample of size 10 from `plum_pop` using the `rep_sample_n` function and a seed of 0737. Ensure your resulting data frame only has a single column: `diameter`.\n",
    "\n",
    "_Assign your data frame to an object called `plum_sample`._"
   ]
  },
  {
   "cell_type": "code",
   "execution_count": 26,
   "metadata": {
    "nbgrader": {
     "grade": false,
     "grade_id": "cell-75af97d43ec269ac",
     "locked": false,
     "schema_version": 3,
     "solution": true,
     "task": false
    }
   },
   "outputs": [
    {
     "data": {
      "text/html": [
       "<table>\n",
       "<caption>A tibble: 6 × 1</caption>\n",
       "<thead>\n",
       "\t<tr><th scope=col>diameter</th></tr>\n",
       "\t<tr><th scope=col>&lt;dbl&gt;</th></tr>\n",
       "</thead>\n",
       "<tbody>\n",
       "\t<tr><td> 5.00</td></tr>\n",
       "\t<tr><td>14.50</td></tr>\n",
       "\t<tr><td>20.00</td></tr>\n",
       "\t<tr><td>10.00</td></tr>\n",
       "\t<tr><td>16.50</td></tr>\n",
       "\t<tr><td>17.25</td></tr>\n",
       "</tbody>\n",
       "</table>\n"
      ],
      "text/latex": [
       "A tibble: 6 × 1\n",
       "\\begin{tabular}{l}\n",
       " diameter\\\\\n",
       " <dbl>\\\\\n",
       "\\hline\n",
       "\t  5.00\\\\\n",
       "\t 14.50\\\\\n",
       "\t 20.00\\\\\n",
       "\t 10.00\\\\\n",
       "\t 16.50\\\\\n",
       "\t 17.25\\\\\n",
       "\\end{tabular}\n"
      ],
      "text/markdown": [
       "\n",
       "A tibble: 6 × 1\n",
       "\n",
       "| diameter &lt;dbl&gt; |\n",
       "|---|\n",
       "|  5.00 |\n",
       "| 14.50 |\n",
       "| 20.00 |\n",
       "| 10.00 |\n",
       "| 16.50 |\n",
       "| 17.25 |\n",
       "\n"
      ],
      "text/plain": [
       "  diameter\n",
       "1  5.00   \n",
       "2 14.50   \n",
       "3 20.00   \n",
       "4 10.00   \n",
       "5 16.50   \n",
       "6 17.25   "
      ]
     },
     "metadata": {},
     "output_type": "display_data"
    }
   ],
   "source": [
    "set.seed(0737) # DO NOT CHANGE!\n",
    "\n",
    "### BEGIN SOLUTION\n",
    "plum_sample <- plum_pop %>% \n",
    "    rep_sample_n(size = 10) %>% \n",
    "    ungroup() %>% \n",
    "    select(diameter)\n",
    "### END SOLUTION\n",
    "head(plum_sample)"
   ]
  },
  {
   "cell_type": "code",
   "execution_count": 27,
   "metadata": {
    "nbgrader": {
     "grade": true,
     "grade_id": "cell-0986f2eb2717d803",
     "locked": true,
     "points": 3,
     "schema_version": 3,
     "solution": false,
     "task": false
    }
   },
   "outputs": [
    {
     "name": "stdout",
     "output_type": "stream",
     "text": [
      "[1] \"Success!\"\n"
     ]
    }
   ],
   "source": [
    "# Here we check to see if you have given your answer the correct object name\n",
    "# and if your answer is plausible. However, all other tests have been hidden\n",
    "# so you can practice deciding when you have the correct answer.\n",
    "test_that('Did not assign answer to an object called \"plum_sample\"', {\n",
    "  expect_true(exists(\"plum_sample\"))\n",
    "})\n",
    "test_that(\"Solution should be a data frame\", {\n",
    "  expect_true(\"data.frame\" %in% class(plum_sample))\n",
    "})\n",
    "### BEGIN HIDDEN TESTS\n",
    "expected_colnames <- c(\"diameter\")\n",
    "given_colnames <- colnames(plum_sample)\n",
    "test_that(\"Data frame does not have the correct columns\", {\n",
    "  expect_equal(length(setdiff(\n",
    "    union(expected_colnames, given_colnames),\n",
    "    intersect(expected_colnames, given_colnames)\n",
    "  )), 0)\n",
    "})\n",
    "\n",
    "test_that(\"Data frame does not contain the correct number of rows\", {\n",
    "  expect_equal(digest(as.integer(nrow(plum_sample))), \"71db8a6cad03244e6e50f0ad8bc95a65\")\n",
    "})\n",
    "\n",
    "test_that(\"Data frame does not contain the correct data\", {\n",
    "  expect_equal(digest(as.integer(sum(plum_sample$diameter))), \"bfc11d0fe85d8e3038dc8efe8787392c\")\n",
    "})\n",
    "\n",
    "print(\"Success!\")\n",
    "### END HIDDEN TESTS"
   ]
  },
  {
   "cell_type": "markdown",
   "metadata": {
    "nbgrader": {
     "grade": false,
     "grade_id": "cell-997950696b0f714d",
     "locked": true,
     "schema_version": 3,
     "solution": false,
     "task": false
    }
   },
   "source": [
    "**Question 3.2** \n",
    "<br> {points: 3}\n",
    "\n",
    "Take 2500 bootstrap samples **of size 100** from the sample you took in the previous question by using the `rep_sample_n` function and a seed of 9284. \n",
    "\n",
    "_Assign your data frame to an object called `plum_resamples`._"
   ]
  },
  {
   "cell_type": "code",
   "execution_count": 28,
   "metadata": {
    "nbgrader": {
     "grade": false,
     "grade_id": "cell-b06447756aff9cd5",
     "locked": false,
     "schema_version": 3,
     "solution": true,
     "task": false
    }
   },
   "outputs": [
    {
     "data": {
      "text/html": [
       "<table>\n",
       "<caption>A grouped_df: 6 × 2</caption>\n",
       "<thead>\n",
       "\t<tr><th scope=col>replicate</th><th scope=col>diameter</th></tr>\n",
       "\t<tr><th scope=col>&lt;int&gt;</th><th scope=col>&lt;dbl&gt;</th></tr>\n",
       "</thead>\n",
       "<tbody>\n",
       "\t<tr><td>1</td><td> 5.00</td></tr>\n",
       "\t<tr><td>1</td><td>16.50</td></tr>\n",
       "\t<tr><td>1</td><td>17.25</td></tr>\n",
       "\t<tr><td>1</td><td>14.50</td></tr>\n",
       "\t<tr><td>1</td><td>17.25</td></tr>\n",
       "\t<tr><td>1</td><td> 5.00</td></tr>\n",
       "</tbody>\n",
       "</table>\n"
      ],
      "text/latex": [
       "A grouped\\_df: 6 × 2\n",
       "\\begin{tabular}{ll}\n",
       " replicate & diameter\\\\\n",
       " <int> & <dbl>\\\\\n",
       "\\hline\n",
       "\t 1 &  5.00\\\\\n",
       "\t 1 & 16.50\\\\\n",
       "\t 1 & 17.25\\\\\n",
       "\t 1 & 14.50\\\\\n",
       "\t 1 & 17.25\\\\\n",
       "\t 1 &  5.00\\\\\n",
       "\\end{tabular}\n"
      ],
      "text/markdown": [
       "\n",
       "A grouped_df: 6 × 2\n",
       "\n",
       "| replicate &lt;int&gt; | diameter &lt;dbl&gt; |\n",
       "|---|---|\n",
       "| 1 |  5.00 |\n",
       "| 1 | 16.50 |\n",
       "| 1 | 17.25 |\n",
       "| 1 | 14.50 |\n",
       "| 1 | 17.25 |\n",
       "| 1 |  5.00 |\n",
       "\n"
      ],
      "text/plain": [
       "  replicate diameter\n",
       "1 1          5.00   \n",
       "2 1         16.50   \n",
       "3 1         17.25   \n",
       "4 1         14.50   \n",
       "5 1         17.25   \n",
       "6 1          5.00   "
      ]
     },
     "metadata": {},
     "output_type": "display_data"
    }
   ],
   "source": [
    "set.seed(9284) # DO NOT CHANGE!\n",
    "\n",
    "### BEGIN SOLUTION\n",
    "plum_resamples <- plum_sample %>% \n",
    "    rep_sample_n(size = 100, reps = 2500, replace = TRUE)\n",
    "### END SOLUTION\n",
    "head(plum_resamples)"
   ]
  },
  {
   "cell_type": "code",
   "execution_count": 29,
   "metadata": {
    "nbgrader": {
     "grade": true,
     "grade_id": "cell-a2e18241939fda90",
     "locked": true,
     "points": 3,
     "schema_version": 3,
     "solution": false,
     "task": false
    }
   },
   "outputs": [
    {
     "name": "stdout",
     "output_type": "stream",
     "text": [
      "[1] \"Success!\"\n"
     ]
    }
   ],
   "source": [
    "# Here we check to see if you have given your answer the correct object name\n",
    "# and if your answer is plausible. However, all other tests have been hidden\n",
    "# so you can practice deciding when you have the correct answer.\n",
    "test_that('Did not assign answer to an object called \"plum_resamples\"', {\n",
    "  expect_true(exists(\"plum_resamples\"))\n",
    "})\n",
    "test_that(\"Solution should be a data frame\", {\n",
    "  expect_true(\"data.frame\" %in% class(plum_resamples))\n",
    "})\n",
    "### BEGIN HIDDEN TESTS\n",
    "expected_colnames <- c(\"replicate\", \"diameter\")\n",
    "given_colnames <- colnames(plum_resamples)\n",
    "test_that(\"Data frame does not have the correct columns\", {\n",
    "  expect_equal(length(setdiff(\n",
    "    union(expected_colnames, given_colnames),\n",
    "    intersect(expected_colnames, given_colnames)\n",
    "  )), 0)\n",
    "})\n",
    "\n",
    "test_that(\"Data frame does not contain the correct number of rows\", {\n",
    "  expect_equal(digest(as.integer(nrow(plum_resamples))), \"5c7178efcebee964f040b8aed493ab6e\")\n",
    "})\n",
    "\n",
    "test_that(\"Data frame does not contain the correct data\", {\n",
    "  expect_equal(digest(as.integer(sum(plum_resamples$diameter))), \"6aff2dc3aba0b4e14c6b69d961127d8b\")\n",
    "})\n",
    "\n",
    "print(\"Success!\")\n",
    "### END HIDDEN TESTS"
   ]
  },
  {
   "cell_type": "markdown",
   "metadata": {
    "nbgrader": {
     "grade": false,
     "grade_id": "cell-c8eda13872adcd19",
     "locked": true,
     "schema_version": 3,
     "solution": false,
     "task": false
    }
   },
   "source": [
    "**Question 3.3** \n",
    "<br> {points: 3}\n",
    "\n",
    "Calculate the standard deviation for each resample that you took in the previous question with `group_by()` and `summarize()`. Name the new column containing the standard deviation `sd`.\n",
    "\n",
    "_Assign your data frame to an object called `resample_estimates`._"
   ]
  },
  {
   "cell_type": "code",
   "execution_count": 30,
   "metadata": {
    "nbgrader": {
     "grade": false,
     "grade_id": "cell-704a430b3580ea41",
     "locked": false,
     "schema_version": 3,
     "solution": true,
     "task": false
    }
   },
   "outputs": [
    {
     "name": "stderr",
     "output_type": "stream",
     "text": [
      "`summarise()` ungrouping output (override with `.groups` argument)\n",
      "\n"
     ]
    },
    {
     "data": {
      "text/html": [
       "<table>\n",
       "<caption>A tibble: 6 × 2</caption>\n",
       "<thead>\n",
       "\t<tr><th scope=col>replicate</th><th scope=col>sd</th></tr>\n",
       "\t<tr><th scope=col>&lt;int&gt;</th><th scope=col>&lt;dbl&gt;</th></tr>\n",
       "</thead>\n",
       "<tbody>\n",
       "\t<tr><td>1</td><td>5.145168</td></tr>\n",
       "\t<tr><td>2</td><td>4.947918</td></tr>\n",
       "\t<tr><td>3</td><td>4.106274</td></tr>\n",
       "\t<tr><td>4</td><td>4.450805</td></tr>\n",
       "\t<tr><td>5</td><td>4.387499</td></tr>\n",
       "\t<tr><td>6</td><td>4.407222</td></tr>\n",
       "</tbody>\n",
       "</table>\n"
      ],
      "text/latex": [
       "A tibble: 6 × 2\n",
       "\\begin{tabular}{ll}\n",
       " replicate & sd\\\\\n",
       " <int> & <dbl>\\\\\n",
       "\\hline\n",
       "\t 1 & 5.145168\\\\\n",
       "\t 2 & 4.947918\\\\\n",
       "\t 3 & 4.106274\\\\\n",
       "\t 4 & 4.450805\\\\\n",
       "\t 5 & 4.387499\\\\\n",
       "\t 6 & 4.407222\\\\\n",
       "\\end{tabular}\n"
      ],
      "text/markdown": [
       "\n",
       "A tibble: 6 × 2\n",
       "\n",
       "| replicate &lt;int&gt; | sd &lt;dbl&gt; |\n",
       "|---|---|\n",
       "| 1 | 5.145168 |\n",
       "| 2 | 4.947918 |\n",
       "| 3 | 4.106274 |\n",
       "| 4 | 4.450805 |\n",
       "| 5 | 4.387499 |\n",
       "| 6 | 4.407222 |\n",
       "\n"
      ],
      "text/plain": [
       "  replicate sd      \n",
       "1 1         5.145168\n",
       "2 2         4.947918\n",
       "3 3         4.106274\n",
       "4 4         4.450805\n",
       "5 5         4.387499\n",
       "6 6         4.407222"
      ]
     },
     "metadata": {},
     "output_type": "display_data"
    }
   ],
   "source": [
    "### BEGIN SOLUTION\n",
    "resample_estimates <- plum_resamples %>% \n",
    "    group_by(replicate) %>% \n",
    "    summarize(sd = sd(diameter))\n",
    "### END SOLUTION\n",
    "head(resample_estimates)"
   ]
  },
  {
   "cell_type": "code",
   "execution_count": 31,
   "metadata": {
    "nbgrader": {
     "grade": true,
     "grade_id": "cell-caa64285e3611f8d",
     "locked": true,
     "points": 3,
     "schema_version": 3,
     "solution": false,
     "task": false
    }
   },
   "outputs": [
    {
     "name": "stdout",
     "output_type": "stream",
     "text": [
      "[1] \"Success!\"\n"
     ]
    }
   ],
   "source": [
    "# Here we check to see if you have given your answer the correct object name\n",
    "# and if your answer is plausible. However, all other tests have been hidden\n",
    "# so you can practice deciding when you have the correct answer.\n",
    "test_that('Did not assign answer to an object called \"resample_estimates\"', {\n",
    "  expect_true(exists(\"resample_estimates\"))\n",
    "})\n",
    "test_that(\"Solution should be a data frame\", {\n",
    "  expect_true(\"data.frame\" %in% class(resample_estimates))\n",
    "})\n",
    "### BEGIN HIDDEN TESTS\n",
    "expected_colnames <- c(\"replicate\")\n",
    "given_colnames <- colnames(resample_estimates)\n",
    "test_that(\"Data frame does not have the correct columns\", {\n",
    "  expect_equal(length(setdiff(\n",
    "    union(expected_colnames, given_colnames),\n",
    "    intersect(expected_colnames, given_colnames)\n",
    "  )), 1)\n",
    "})\n",
    "\n",
    "test_that(\"Data frame does not contain the correct number of rows\", {\n",
    "  expect_equal(digest(as.integer(nrow(resample_estimates))), \"45406a48666dcf764d5fead427284f8e\")\n",
    "})\n",
    "\n",
    "test_that(\"Data frame does not contain the correct data\", {\n",
    "  expect_equal(digest(as.integer(sum(pull(select(resample_estimates, -replicate))) * 100000)), \"2800e6a0713a739b996b510cfadf439c\")\n",
    "})\n",
    "\n",
    "print(\"Success!\")\n",
    "### END HIDDEN TESTS"
   ]
  },
  {
   "cell_type": "markdown",
   "metadata": {
    "nbgrader": {
     "grade": false,
     "grade_id": "cell-28a80204df4ba87d",
     "locked": true,
     "schema_version": 3,
     "solution": false,
     "task": false
    }
   },
   "source": [
    "**Question 3.3** \n",
    "<br> {points: 3}\n",
    "\n",
    "Visualize the bootstrap distribution (of `resample_estimates`) by plotting a histogram using `geom_histogram` with bin widths of 0.25. Ensure that the x-axis has a human-readable label.\n",
    "\n",
    "_Assign your plot to an object called `plum_bootstrap_dist`._"
   ]
  },
  {
   "cell_type": "code",
   "execution_count": 32,
   "metadata": {
    "nbgrader": {
     "grade": false,
     "grade_id": "cell-f4e06076985de5fe",
     "locked": false,
     "schema_version": 3,
     "solution": true,
     "task": false
    }
   },
   "outputs": [
    {
     "data": {
      "image/png": "[encoded data removed]",
      "text/plain": [
       "plot without title"
      ]
     },
     "metadata": {
      "image/png": {
       "height": 420,
       "width": 420
      }
     },
     "output_type": "display_data"
    }
   ],
   "source": [
    "### BEGIN SOLUTION\n",
    "plum_bootstrap_dist <- resample_estimates %>% \n",
    "    ggplot(aes(x = sd)) +\n",
    "        geom_histogram(binwidth = 0.25) +\n",
    "        xlab(\"Standard Deviation\")\n",
    "### END SOLUTION\n",
    "plum_bootstrap_dist"
   ]
  },
  {
   "cell_type": "code",
   "execution_count": 33,
   "metadata": {
    "nbgrader": {
     "grade": true,
     "grade_id": "cell-962d663ea98f596f",
     "locked": true,
     "points": 3,
     "schema_version": 3,
     "solution": false,
     "task": false
    }
   },
   "outputs": [
    {
     "name": "stdout",
     "output_type": "stream",
     "text": [
      "[1] \"Success!\"\n"
     ]
    }
   ],
   "source": [
    "# Here we check to see if you have given your answer the correct object name\n",
    "# and if your answer is plausible. However, all other tests have been hidden\n",
    "# so you can practice deciding when you have the correct answer.\n",
    "test_that('Did not assign answer to an object called \"plum_bootstrap_dist\"', {\n",
    "  expect_true(exists(\"plum_bootstrap_dist\"))\n",
    "})\n",
    "test_that(\"Solution should be a ggplot object\", {\n",
    "  expect_true(is.ggplot(plum_bootstrap_dist))\n",
    "})\n",
    "### BEGIN HIDDEN TESTS\n",
    "properties <- c(plum_bootstrap_dist$layers[[1]]$mapping, plum_bootstrap_dist$mapping)\n",
    "\n",
    "test_that(\"Plot is not the correct type\", {\n",
    "  expect_true(\"GeomBar\" %in% class(plum_bootstrap_dist$layers[[1]]$geom))\n",
    "})\n",
    "\n",
    "test_that(\"Plot does not have the correct bin width\", {\n",
    "  expect_equal(\n",
    "    digest(as.integer(mget(\"stat_params\", plum_bootstrap_dist$layers[[1]])[[\"stat_params\"]][[\"binwidth\"]]) * 1000),\n",
    "    \"908d1fd10b357ed0ceaaec823abf81bc\"\n",
    "  )\n",
    "})\n",
    "\n",
    "test_that(\"Plot does not use the correct data\", {\n",
    "  expect_equal(digest(nrow(plum_bootstrap_dist$data)), \"45406a48666dcf764d5fead427284f8e\")\n",
    "  expect_equal(digest(round(sum(pull(plum_bootstrap_dist$data, rlang::get_expr(properties$x))))), \"172d7e5851f5ec0b2133b17bfea4e038\")\n",
    "})\n",
    "\n",
    "test_that(\"x-axis label should be descriptive and human readable\", {\n",
    "  expect_false(plum_bootstrap_dist$labels$x == toString(rlang::get_expr(properties$x)))\n",
    "})\n",
    "\n",
    "print(\"Success!\")\n",
    "### END HIDDEN TESTS"
   ]
  },
  {
   "cell_type": "markdown",
   "metadata": {
    "nbgrader": {
     "grade": false,
     "grade_id": "cell-1b4a28c6484afef9",
     "locked": true,
     "schema_version": 3,
     "solution": false,
     "task": false
    }
   },
   "source": [
    "**Question 3.4** \n",
    "<br> {points: 3}\n",
    "\n",
    "Produce a sampling distribution (**not** a bootstrap distribution) of sample standard deviations for samples of size 10 from the population `plum_pop` using a procedure similar to the previous questions and the last section; use `geom_histogram` with bin widths of 0.25. Also, use 2500 sample replicates and a seed of 2362.\n",
    "\n",
    "_Assign your plot to an object called `plum_sampling_dist`._"
   ]
  },
  {
   "cell_type": "code",
   "execution_count": 34,
   "metadata": {
    "nbgrader": {
     "grade": false,
     "grade_id": "cell-ad672783439467a1",
     "locked": false,
     "schema_version": 3,
     "solution": true,
     "task": false
    }
   },
   "outputs": [
    {
     "name": "stderr",
     "output_type": "stream",
     "text": [
      "`summarise()` ungrouping output (override with `.groups` argument)\n",
      "\n"
     ]
    },
    {
     "data": {
      "image/png": "[encoded data removed]",
      "text/plain": [
       "plot without title"
      ]
     },
     "metadata": {
      "image/png": {
       "height": 420,
       "width": 420
      }
     },
     "output_type": "display_data"
    }
   ],
   "source": [
    "set.seed(2362) # DO NOT CHANGE!\n",
    "\n",
    "### BEGIN SOLUTION\n",
    "plum_sampling_dist <- plum_pop %>% \n",
    "    rep_sample_n(size = 10, reps = 2500, replace = FALSE) %>% \n",
    "    group_by(replicate) %>% \n",
    "    summarize(sd = sd(diameter)) %>%\n",
    "    ggplot(aes(x = sd)) +\n",
    "        geom_histogram(binwidth = 0.25) +\n",
    "        xlab(\"Standard Deviation\")\n",
    "### END SOLUTION\n",
    "plum_sampling_dist"
   ]
  },
  {
   "cell_type": "code",
   "execution_count": 35,
   "metadata": {
    "nbgrader": {
     "grade": true,
     "grade_id": "cell-6766ffaf56560b7f",
     "locked": true,
     "points": 3,
     "schema_version": 3,
     "solution": false,
     "task": false
    }
   },
   "outputs": [
    {
     "name": "stdout",
     "output_type": "stream",
     "text": [
      "[1] \"Success!\"\n"
     ]
    }
   ],
   "source": [
    "# Here we check to see if you have given your answer the correct object name\n",
    "# and if your answer is plausible. However, all other tests have been hidden\n",
    "# so you can practice deciding when you have the correct answer.\n",
    "test_that('Did not assign answer to an object called \"plum_sampling_dist\"', {\n",
    "  expect_true(exists(\"plum_sampling_dist\"))\n",
    "})\n",
    "test_that(\"Solution should be a ggplot object\", {\n",
    "  expect_true(is.ggplot(plum_sampling_dist))\n",
    "})\n",
    "### BEGIN HIDDEN TESTS\n",
    "properties <- c(plum_sampling_dist$layers[[1]]$mapping, plum_sampling_dist$mapping)\n",
    "\n",
    "test_that(\"Plot is not the correct type\", {\n",
    "  expect_true(\"GeomBar\" %in% class(plum_sampling_dist$layers[[1]]$geom))\n",
    "})\n",
    "\n",
    "test_that(\"Plot does not have the correct bin width\", {\n",
    "  expect_equal(\n",
    "    digest(as.integer(mget(\"stat_params\", plum_sampling_dist$layers[[1]])[[\"stat_params\"]][[\"binwidth\"]]) * 1000),\n",
    "    \"908d1fd10b357ed0ceaaec823abf81bc\"\n",
    "  )\n",
    "})\n",
    "\n",
    "test_that(\"Plot does not use the correct data\", {\n",
    "  expect_equal(digest(nrow(plum_sampling_dist$data)), \"45406a48666dcf764d5fead427284f8e\")\n",
    "  expect_equal(digest(round(sum(pull(plum_sampling_dist$data, rlang::get_expr(properties$x))))), \"b8bea64a9c34b72c1bfd996de060a2e4\")\n",
    "})\n",
    "\n",
    "test_that(\"x-axis label should be descriptive and human readable\", {\n",
    "  expect_false(plum_sampling_dist$labels$x == toString(rlang::get_expr(properties$x)))\n",
    "})\n",
    "\n",
    "print(\"Success!\")\n",
    "### END HIDDEN TESTS"
   ]
  },
  {
   "cell_type": "markdown",
   "metadata": {
    "nbgrader": {
     "grade": false,
     "grade_id": "cell-7e8315e5d3cbc365",
     "locked": true,
     "schema_version": 3,
     "solution": false,
     "task": false
    }
   },
   "source": [
    "In the code cell below, we have used `plot_grid` to plot the sample distribution and bootstrap distribution side by side.\n",
    "\n",
    "**Note:** some of the sample standard deviations are not visible because we have manually set bounds on the x-axis so you can compare the important parts of the distributions more easily\n",
    "\n",
    "_Use the two plots below to answer the next **three questions**._"
   ]
  },
  {
   "cell_type": "code",
   "execution_count": 36,
   "metadata": {
    "nbgrader": {
     "grade": false,
     "grade_id": "cell-8fb6ead05de278cb",
     "locked": true,
     "schema_version": 3,
     "solution": false,
     "task": false
    }
   },
   "outputs": [
    {
     "name": "stderr",
     "output_type": "stream",
     "text": [
      "Warning message:\n",
      "“Removed 12 rows containing non-finite values (stat_bin).”\n",
      "Warning message:\n",
      "“Removed 2 rows containing missing values (geom_bar).”\n",
      "Warning message:\n",
      "“Removed 2 rows containing missing values (geom_bar).”\n"
     ]
    },
    {
     "data": {
      "image/png": "[encoded data removed]",
      "text/plain": [
       "plot without title"
      ]
     },
     "metadata": {
      "image/png": {
       "height": 240,
       "width": 720
      }
     },
     "output_type": "display_data"
    }
   ],
   "source": [
    "options(repr.plot.width = 12, repr.plot.height = 4)\n",
    "plot_grid(plum_sampling_dist +\n",
    "              labs(title = \"Sampling Distribution\",\n",
    "                   caption = \"Generated using 2500 sample replicates of size 10.\") +\n",
    "              scale_x_continuous(limits = c(0, 10)),\n",
    "          plum_bootstrap_dist +\n",
    "              labs(title = \"Bootstrap Distribution\",\n",
    "                   caption = \"Generated using 2500 bootstrap samples of size 100 from a sample of size 10.\") + \n",
    "              scale_x_continuous(limits = c(0, 10)),\n",
    "          ncol = 2)"
   ]
  },
  {
   "cell_type": "markdown",
   "metadata": {
    "nbgrader": {
     "grade": false,
     "grade_id": "cell-2244b50e950e9a0c",
     "locked": true,
     "schema_version": 3,
     "solution": false,
     "task": false
    }
   },
   "source": [
    "**Question 3.5** \n",
    "<br> {points: 3}\n",
    "\n",
    "Which statement **best** describes the bootstrap distribution above?\n",
    "\n",
    "A. The distribution of many point estimates for the standard deviation of the population, which were acquired by taking many samples from the population and calculating the standard deviation of each sample.\n",
    "\n",
    "B. The distribution of many point estimates for the standard deviation of the sampling distribution (which is the standard error of the corresponding estimator), which were acquired by re-sampling from the original sample and calculating the standard deviation of each re-sample.\n",
    "\n",
    "C. The distribution of the standard deviations of many samples that were taken from the population.\n",
    "\n",
    "D. The distribution of standard deviations for many re-samples that were taken from the original sample.\n",
    "\n",
    "_Assign your answer to an object called `answer3.5`. Your answer should be a single character surrounded by quotes._"
   ]
  },
  {
   "cell_type": "code",
   "execution_count": 37,
   "metadata": {
    "nbgrader": {
     "grade": false,
     "grade_id": "cell-91d590e6b77000e6",
     "locked": false,
     "schema_version": 3,
     "solution": true,
     "task": false
    }
   },
   "outputs": [],
   "source": [
    "# answer3.5 <- ...\n",
    "\n",
    "### BEGIN SOLUTION\n",
    "answer3.5 <- \"D\"\n",
    "### END SOLUTION"
   ]
  },
  {
   "cell_type": "code",
   "execution_count": 38,
   "metadata": {
    "nbgrader": {
     "grade": true,
     "grade_id": "cell-edf9b5c8e15d6131",
     "locked": true,
     "points": 3,
     "schema_version": 3,
     "solution": false,
     "task": false
    }
   },
   "outputs": [
    {
     "name": "stdout",
     "output_type": "stream",
     "text": [
      "[1] \"Success!\"\n"
     ]
    }
   ],
   "source": [
    "# Here we check to see if you have given your answer the correct object name\n",
    "# and if your answer is plausible. However, all other tests have been hidden\n",
    "# so you can practice deciding when you have the correct answer.\n",
    "test_that('Did not assign answer to an object called \"answer3.5\"', {\n",
    "  expect_true(exists(\"answer3.5\"))\n",
    "})\n",
    "test_that('Solution should be a single character (\"A\", \"B\", \"C\", or \"D\")', {\n",
    "  expect_match(answer3.5, \"a|b|c|d\", ignore.case = TRUE)\n",
    "})\n",
    "### BEGIN HIDDEN TESTS\n",
    "test_that(\"Solution is incorrect\", {\n",
    "  expect_equal(digest(tolower(answer3.5)), \"d110f00cfb1b248e835137025804a23b\")\n",
    "})\n",
    "print(\"Success!\")\n",
    "### END HIDDEN TESTS"
   ]
  },
  {
   "cell_type": "markdown",
   "metadata": {
    "nbgrader": {
     "grade": false,
     "grade_id": "cell-a21ce58b3d2da734",
     "locked": true,
     "schema_version": 3,
     "solution": false,
     "task": false
    }
   },
   "source": [
    "**Question 3.6** \n",
    "<br> {points: 3}\n",
    "\n",
    "By referencing the plots above, explain why it's not a good idea to take bootstrap sizes of a **larger size than the original sample** to estimate the sampling distribution for the original sample size."
   ]
  },
  {
   "cell_type": "markdown",
   "metadata": {
    "nbgrader": {
     "grade": true,
     "grade_id": "cell-ea429f75fae054cc",
     "locked": false,
     "points": 3,
     "schema_version": 3,
     "solution": true,
     "task": false
    }
   },
   "source": [
    "### BEGIN SOLUTION\n",
    "Taking bootstrap sizes of a larger size than the original samples results in an artificially narrower bootstrap distribution, which does not do a good job at estimating the sampling distribution for the original sample size; we will under-estimate the standard error.\n",
    "### END SOLUTION"
   ]
  },
  {
   "cell_type": "markdown",
   "metadata": {
    "nbgrader": {
     "grade": false,
     "grade_id": "cell-5a499689a7ee1a31",
     "locked": true,
     "schema_version": 3,
     "solution": false,
     "task": false
    }
   },
   "source": [
    "**Question 3.7** \n",
    "<br> {points: 3}\n",
    "\n",
    "Suppose you took a single sample of size 164 and then took many bootstrap samples of size 10 from the first sample to produce a bootstrap distribution for the mean of the `diameter` variable in the `plum_pop` population. Suppose you wanted to use the standard deviation of the bootstrap distribution to estimate the standard deviation of the sampling distribution of sample means for the `diameter` variable for samples of size 164. How would you expect the estimate to compare to the actual standard error?\n",
    "\n",
    "A. The estimate would likely be an under-estimate.\n",
    "\n",
    "B. The estimate would likely be accurate.\n",
    "\n",
    "C. The estimate would likely be an over-estimate.\n",
    "\n",
    "D. There is not enough information to make this comparison.\n",
    "\n",
    "_Assign your answer to an object called `answer3.7`. Your answer should be a single character surrounded by quotes._"
   ]
  },
  {
   "cell_type": "code",
   "execution_count": 39,
   "metadata": {
    "nbgrader": {
     "grade": false,
     "grade_id": "cell-fcc688c1a5f5aafc",
     "locked": false,
     "schema_version": 3,
     "solution": true,
     "task": false
    }
   },
   "outputs": [],
   "source": [
    "# answer3.7 <- ...\n",
    "\n",
    "### BEGIN SOLUTION\n",
    "answer3.7 <- \"C\"\n",
    "### END SOLUTION"
   ]
  },
  {
   "cell_type": "code",
   "execution_count": 40,
   "metadata": {
    "nbgrader": {
     "grade": true,
     "grade_id": "cell-77a7fcc29f5d9d08",
     "locked": true,
     "points": 3,
     "schema_version": 3,
     "solution": false,
     "task": false
    }
   },
   "outputs": [
    {
     "name": "stdout",
     "output_type": "stream",
     "text": [
      "[1] \"Success!\"\n"
     ]
    }
   ],
   "source": [
    "# Here we check to see if you have given your answer the correct object name\n",
    "# and if your answer is plausible. However, all other tests have been hidden\n",
    "# so you can practice deciding when you have the correct answer.\n",
    "test_that('Did not assign answer to an object called \"answer3.7\"', {\n",
    "  expect_true(exists(\"answer3.7\"))\n",
    "})\n",
    "test_that('Solution should be a single character (\"A\", \"B\", \"C\", or \"D\")', {\n",
    "  expect_match(answer3.7, \"a|b|c|d\", ignore.case = TRUE)\n",
    "})\n",
    "### BEGIN HIDDEN TESTS\n",
    "test_that(\"Solution is incorrect\", {\n",
    "  expect_equal(digest(tolower(answer3.7)), \"6e7a8c1c098e8817e3df3fd1b21149d1\")\n",
    "})\n",
    "print(\"Success!\")\n",
    "### END HIDDEN TESTS"
   ]
  },
  {
   "cell_type": "markdown",
   "metadata": {
    "nbgrader": {
     "grade": false,
     "grade_id": "cell-aa93730bf9b99905",
     "locked": true,
     "schema_version": 3,
     "solution": false,
     "task": false
    }
   },
   "source": [
    "### More Bootstrapping Nuances"
   ]
  },
  {
   "cell_type": "markdown",
   "metadata": {
    "nbgrader": {
     "grade": false,
     "grade_id": "cell-926dcf19654f9798",
     "locked": true,
     "schema_version": 3,
     "solution": false,
     "task": false
    }
   },
   "source": [
    "**Question 3.8** \n",
    "<br> {points: 3}\n",
    "\n",
    "Suppose a bootstrap distribution of sample means of the `diameter` variable in `plum_pop`, using `rep_sample_n` to take single sample of size 8 from the population and 3000 bootstrap samples. The resulting distribution is displayed below with bin widths of 0.25:\n",
    "\n",
    "<img src=\"plot.png\" width=600/>\n",
    "\n",
    "a) Given that the standard deviation of the `diameter` variable for the population `plum_pop` is around 5.0, is this a shape that you would expect the bootstrap distribution to have?\n",
    "\n",
    "b) If you answered yes, justify yourself in 1-2 sentences. If you answered no, justify yourself in 1-2 sentence and describe an error or scenario that would result in such a distribution in another sentence."
   ]
  },
  {
   "cell_type": "markdown",
   "metadata": {
    "nbgrader": {
     "grade": true,
     "grade_id": "cell-b89f9dba49eab352",
     "locked": false,
     "points": 3,
     "schema_version": 3,
     "solution": true,
     "task": false
    }
   },
   "source": [
    "### BEGIN SOLUTION\n",
    "a) No.\n",
    "**<br>{points: 1}**\n",
    "\n",
    "b) The standard deviation of the population is large enough that the values in our sample should vary more than the bootstrap distribution would indicate; all of our bootstrap sample means fit into a single bin of size 0.001. This means that either we got **very** unlucky and ended up with the exact same bootstrap sample during each of the 3000 replicates **OR** we accidentally resampled **without replacement**, which would give us the same bootstrap sample mean each time (specifically, the mean of the original sample).\n",
    "\n",
    "note: students only need to list one of the above scenarios\n",
    "**<br>{points: 2}**\n",
    "### END SOLUTION"
   ]
  },
  {
   "cell_type": "markdown",
   "metadata": {
    "nbgrader": {
     "grade": false,
     "grade_id": "cell-2ea018ce1de43103",
     "locked": true,
     "schema_version": 3,
     "solution": false,
     "task": false
    }
   },
   "source": [
    "**Question 3.9** \n",
    "<br> {points: 3}\n",
    "\n",
    "Consider the following single random sample of 6 observations of the reported average hours of screen time a person is exposed to each day:\n",
    "\n",
    "| `screen_time` <br> `<dbl>`|\n",
    "| -- |\n",
    "| 3 |\n",
    "| 6 |\n",
    "| 8 |\n",
    "| 1 |\n",
    "| 7 |\n",
    "| 7 |\n",
    "    \n",
    "Below are two more data frames that are claimed to have been created by bootstrapping from the original sample.\n",
    "\n",
    "| `screen_time` <br> `<dbl>`|\n",
    "| -- |\n",
    "| 6 |\n",
    "| 7 |\n",
    "| 6 |\n",
    "| 7 |\n",
    "| 7 |\n",
    "| 1 |\n",
    "\n",
    "| `screen_time` <br> `<dbl>`|\n",
    "| -- |\n",
    "| 7 |\n",
    "| 1 |\n",
    "| 7 |\n",
    "| 3 |\n",
    "| 6 |\n",
    "| 8 |\n",
    "\n",
    " Consider the values in the two data frames above. Is there any evidence to falsify the claim? Explain why or why not in your own words in a few sentences."
   ]
  },
  {
   "cell_type": "markdown",
   "metadata": {
    "nbgrader": {
     "grade": true,
     "grade_id": "cell-e29a92ff6d0d764d",
     "locked": false,
     "points": 3,
     "schema_version": 3,
     "solution": true,
     "task": false
    }
   },
   "source": [
    "### BEGIN SOLUTION\n",
    "There is no evidence that falsifies the claim because:\n",
    "1. All values in the two data frames are present in the original sample\n",
    "2. The order of the values are different, indicating random sampling may have been involved\n",
    "3. The first data frame has one more 7 than the original, indicating that sampling with replacement must have occured here (and/or is missing 3 and/or 8, indicating that sampling with replacement must have occured because the sizes are the same), however, the frequency of the values in the second data frame are identical to the original, but this can still occur when sampling with replacement\n",
    "\n",
    "### END SOLUTION"
   ]
  }
 ],
 "metadata": {
  "celltoolbar": "Create Assignment",
  "docker": {
   "latest_image_tag": "v0.4.0"
  },
  "jupytext": {
   "formats": "ipynb,Rmd"
  },
  "kernelspec": {
   "display_name": "R",
   "language": "R",
   "name": "ir"
  },
  "language_info": {
   "codemirror_mode": "r",
   "file_extension": ".r",
   "mimetype": "text/x-r-source",
   "name": "R",
   "pygments_lexer": "r",
   "version": "4.1.1"
  }
 },
 "nbformat": 4,
 "nbformat_minor": 4
}
