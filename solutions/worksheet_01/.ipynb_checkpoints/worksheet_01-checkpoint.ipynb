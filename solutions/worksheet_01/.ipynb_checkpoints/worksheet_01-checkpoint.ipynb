{
 "cells": [
  {
   "cell_type": "markdown",
   "metadata": {
    "nbgrader": {
     "grade": false,
     "grade_id": "cell-ccd1e2501ff21f28",
     "locked": true,
     "schema_version": 3,
     "solution": false,
     "task": false
    }
   },
   "source": [
    "# Worksheet 1: Introduction to Statistical Inference and Sampling"
   ]
  },
  {
   "cell_type": "markdown",
   "metadata": {
    "nbgrader": {
     "grade": false,
     "grade_id": "cell-a3b416b82b7bac72",
     "locked": true,
     "schema_version": 3,
     "solution": false,
     "task": false
    }
   },
   "source": [
    "### Welcome to STAT 201: Statistical Inference for Data Science\n",
    "\n",
    "Each week you will complete a lecture assignment like this one. Before we get started, there are some administrative details.\n",
    "\n",
    "You can't learn technical subjects without hands-on practice. The weekly lecture worksheets and tutorials are an important part of the course. Collaborating on lecture worksheets and tutorial assignments is more than okay -- it's encouraged! You should rarely be stuck for more than a few minutes on questions in lecture or tutorial, so ask a neighbor, TA or an instructor for help (explaining things is beneficial, too -- the best way to solidify your knowledge of a subject is to explain it). Please don't just share answers, though. Everyone must submit a copy of their own work.\n",
    "\n",
    "You can read more about course policies on the course website."
   ]
  },
  {
   "cell_type": "markdown",
   "metadata": {
    "nbgrader": {
     "grade": false,
     "grade_id": "cell-7f137055c244e8bb",
     "locked": true,
     "schema_version": 3,
     "solution": false,
     "task": false
    }
   },
   "source": [
    "#### Lecture and Tutorial Learning Goals:\n",
    "After completing this week's lecture and tutorial work, you will be able to:\n",
    "\n",
    "1. Describe real-world examples of questions that can be answered with the statistical inference methods presented in this course (e.g., estimation, hypothesis testing).\n",
    "1. Name common population parameters (mean, proportion, median, variance, standard deviation, and correlation) that are often estimated using sample data, and write computer scripts to calculate estimates of these parameters.\n",
    "1. Define the following terms in relation to statistical inference: population, sample, population parameter, estimate, sampling distribution.\n",
    "1. Write a computer script to draw random samples from a finite population (e.g., census data).\n",
    "1. Write a computer script to reveal a sampling distribution from a finite population."
   ]
  },
  {
   "cell_type": "markdown",
   "metadata": {
    "nbgrader": {
     "grade": false,
     "grade_id": "cell-b3e882daf16912d9",
     "locked": true,
     "schema_version": 3,
     "solution": false,
     "task": false
    }
   },
   "source": [
    "DSCI 100 is a prerequisite for this course so students should be comfortable with the tutorial and worksheet style and structure. Student should also be familar with answering  questions in a jupyter notebook and assessing if their answers are correct before submission. \n"
   ]
  },
  {
   "cell_type": "markdown",
   "metadata": {
    "nbgrader": {
     "grade": false,
     "grade_id": "cell-82dfbe5a9829fa67",
     "locked": true,
     "schema_version": 3,
     "solution": false,
     "task": false
    }
   },
   "source": [
    "This worksheet covers [Chapter 7 - 7.3 of the Modern Dive Textbook](https://moderndive.com/7-sampling.html) of the online textbook. You should read this chapter before attempting this worksheet."
   ]
  },
  {
   "cell_type": "code",
   "execution_count": 1,
   "metadata": {
    "nbgrader": {
     "grade": false,
     "grade_id": "cell-ddd97f3228533f17",
     "locked": true,
     "schema_version": 3,
     "solution": false,
     "task": false
    }
   },
   "outputs": [
    {
     "name": "stderr",
     "output_type": "stream",
     "text": [
      "── \u001b[1mAttaching packages\u001b[22m ─────────────────────────────────────── tidyverse 1.3.0 ──\n",
      "\n",
      "\u001b[32m✔\u001b[39m \u001b[34mggplot2\u001b[39m 3.3.2     \u001b[32m✔\u001b[39m \u001b[34mpurrr  \u001b[39m 0.3.4\n",
      "\u001b[32m✔\u001b[39m \u001b[34mtibble \u001b[39m 3.0.3     \u001b[32m✔\u001b[39m \u001b[34mdplyr  \u001b[39m 1.0.2\n",
      "\u001b[32m✔\u001b[39m \u001b[34mtidyr  \u001b[39m 1.1.1     \u001b[32m✔\u001b[39m \u001b[34mstringr\u001b[39m 1.4.0\n",
      "\u001b[32m✔\u001b[39m \u001b[34mreadr  \u001b[39m 1.3.1     \u001b[32m✔\u001b[39m \u001b[34mforcats\u001b[39m 0.5.0\n",
      "\n",
      "Warning message:\n",
      "“package ‘ggplot2’ was built under R version 4.0.1”\n",
      "Warning message:\n",
      "“package ‘tibble’ was built under R version 4.0.2”\n",
      "Warning message:\n",
      "“package ‘tidyr’ was built under R version 4.0.2”\n",
      "Warning message:\n",
      "“package ‘dplyr’ was built under R version 4.0.2”\n",
      "── \u001b[1mConflicts\u001b[22m ────────────────────────────────────────── tidyverse_conflicts() ──\n",
      "\u001b[31m✖\u001b[39m \u001b[34mdplyr\u001b[39m::\u001b[32mfilter()\u001b[39m masks \u001b[34mstats\u001b[39m::filter()\n",
      "\u001b[31m✖\u001b[39m \u001b[34mdplyr\u001b[39m::\u001b[32mlag()\u001b[39m    masks \u001b[34mstats\u001b[39m::lag()\n",
      "\n",
      "Warning message:\n",
      "“package ‘infer’ was built under R version 4.0.2”\n",
      "\n",
      "Attaching package: ‘gridExtra’\n",
      "\n",
      "\n",
      "The following object is masked from ‘package:dplyr’:\n",
      "\n",
      "    combine\n",
      "\n",
      "\n",
      "\n",
      "********************************************************\n",
      "\n",
      "Note: As of version 1.0.0, cowplot does not change the\n",
      "\n",
      "  default ggplot2 theme anymore. To recover the previous\n",
      "\n",
      "  behavior, execute:\n",
      "  theme_set(theme_cowplot())\n",
      "\n",
      "********************************************************\n",
      "\n",
      "\n",
      "\n",
      "Attaching package: ‘testthat’\n",
      "\n",
      "\n",
      "The following object is masked from ‘package:dplyr’:\n",
      "\n",
      "    matches\n",
      "\n",
      "\n",
      "The following object is masked from ‘package:purrr’:\n",
      "\n",
      "    is_null\n",
      "\n",
      "\n",
      "The following object is masked from ‘package:tidyr’:\n",
      "\n",
      "    matches\n",
      "\n",
      "\n"
     ]
    }
   ],
   "source": [
    "# Run this cell before continuing.\n",
    "library(tidyverse)\n",
    "library(repr)\n",
    "library(digest)\n",
    "library(infer)\n",
    "library(gridExtra)\n",
    "library(taxyvr)\n",
    "library(cowplot)\n",
    "source(\"tests_worksheet_01.R\")"
   ]
  },
  {
   "cell_type": "markdown",
   "metadata": {
    "nbgrader": {
     "grade": false,
     "grade_id": "cell-4f02f27ed4ce78da",
     "locked": true,
     "schema_version": 3,
     "solution": false,
     "task": false
    }
   },
   "source": [
    "## 1. Warm Up Questions\n",
    "\n",
    "In DSCI 100, we learned about [6 different types of data analysis questions we can ask and answer](https://ubc-dsci.github.io/introduction-to-datascience/). Let's start this worksheet off by reminding us what an inferential question is."
   ]
  },
  {
   "cell_type": "markdown",
   "metadata": {
    "nbgrader": {
     "grade": false,
     "grade_id": "cell-2a0842175d90ec51",
     "locked": true,
     "schema_version": 3,
     "solution": false,
     "task": false
    }
   },
   "source": [
    "**Question 1.0**\n",
    "<br>{points: 1}\n",
    "\n",
    "Which of the following is an example of an inferential question:\n",
    "\n",
    "A. How many candy stores are there in Kitsilano?   \n",
    "    \n",
    "B. Does the average sleep duration of individuals who consume melatonin 30 minutes before bed differ from those who do not?     \n",
    "     \n",
    "C. If I study 28 hours, what score will I obtain on this exam?     \n",
    "     \n",
    "D. Does owning a houseplant lead to the adoption of a puppy?     \n",
    " \n",
    "_Assign your answer to an object called `answer1.0`. Your answer should be a single character surrounded by quotes._"
   ]
  },
  {
   "cell_type": "code",
   "execution_count": 2,
   "metadata": {
    "nbgrader": {
     "grade": false,
     "grade_id": "cell-7f45af42ce3654c9",
     "locked": false,
     "schema_version": 3,
     "solution": true,
     "task": false
    }
   },
   "outputs": [],
   "source": [
    "# answer1.0 <- ...\n",
    "\n",
    "### BEGIN SOLUTION\n",
    "answer1.0 <- \"B\"\n",
    "### END SOLUTION"
   ]
  },
  {
   "cell_type": "code",
   "execution_count": 3,
   "metadata": {
    "nbgrader": {
     "grade": true,
     "grade_id": "cell-370ef28ef4d2afef",
     "locked": true,
     "points": 1,
     "schema_version": 3,
     "solution": false,
     "task": false
    },
    "scrolled": true
   },
   "outputs": [
    {
     "name": "stdout",
     "output_type": "stream",
     "text": [
      "[1] \"Success!\"\n"
     ]
    }
   ],
   "source": [
    "test_1.0()"
   ]
  },
  {
   "cell_type": "markdown",
   "metadata": {
    "nbgrader": {
     "grade": false,
     "grade_id": "cell-2ade049ef0bdae06",
     "locked": true,
     "schema_version": 3,
     "solution": false,
     "task": false
    }
   },
   "source": [
    "**Question 1.1**\n",
    "<br>{points: 1}\n",
    "\n",
    "True or false?\n",
    "\n",
    "\"How does taking the new experimental drug result in lower blood pressure?\" is an example of an inferential question.\n",
    "\n",
    "_Assign your answer to an object called `answer1.1`. Your answer should be either \"true\" or \"false\", surrounded by quotes._"
   ]
  },
  {
   "cell_type": "code",
   "execution_count": 4,
   "metadata": {
    "nbgrader": {
     "grade": false,
     "grade_id": "cell-a59dd67fdf2b5b14",
     "locked": false,
     "schema_version": 3,
     "solution": true,
     "task": false
    }
   },
   "outputs": [],
   "source": [
    "# answer1.1 <- ...\n",
    "\n",
    "### BEGIN SOLUTION\n",
    "answer1.1 <- \"false\"\n",
    "### END SOLUTION"
   ]
  },
  {
   "cell_type": "code",
   "execution_count": 5,
   "metadata": {
    "nbgrader": {
     "grade": true,
     "grade_id": "cell-24f6f39cbad38803",
     "locked": true,
     "points": 1,
     "schema_version": 3,
     "solution": false,
     "task": false
    }
   },
   "outputs": [
    {
     "name": "stdout",
     "output_type": "stream",
     "text": [
      "[1] \"Success!\"\n"
     ]
    }
   ],
   "source": [
    "test_1.1()"
   ]
  },
  {
   "cell_type": "markdown",
   "metadata": {
    "nbgrader": {
     "grade": false,
     "grade_id": "cell-f05dc7047d85b2cf",
     "locked": true,
     "schema_version": 3,
     "solution": false,
     "task": false
    }
   },
   "source": [
    "**Question 1.2**\n",
    "<br>{points: 1}\n",
    "\n",
    "Which one of these R package can be used for virtual sampling?\n",
    "\n",
    "A. `dbplyr`\n",
    "\n",
    "B. `rep_sample_n`\n",
    "\n",
    "C. `broom`\n",
    "\n",
    "D. `infer`\n",
    "        \n",
    "_Assign your answer to an object called `answer1.2`. Your answer should be a single character surrounded by quotes._"
   ]
  },
  {
   "cell_type": "code",
   "execution_count": 6,
   "metadata": {
    "nbgrader": {
     "grade": false,
     "grade_id": "cell-6fe8a5c60f5088fe",
     "locked": false,
     "schema_version": 3,
     "solution": true,
     "task": false
    }
   },
   "outputs": [],
   "source": [
    "# answer1.2 <- ...\n",
    "\n",
    "### BEGIN SOLUTION\n",
    "answer1.2 <- \"D\"\n",
    "### END SOLUTION"
   ]
  },
  {
   "cell_type": "code",
   "execution_count": 7,
   "metadata": {
    "nbgrader": {
     "grade": true,
     "grade_id": "cell-ca46f7274bbb8e82",
     "locked": true,
     "points": 1,
     "schema_version": 3,
     "solution": false,
     "task": false
    }
   },
   "outputs": [
    {
     "name": "stdout",
     "output_type": "stream",
     "text": [
      "[1] \"Success!\"\n"
     ]
    }
   ],
   "source": [
    "test_1.2()"
   ]
  },
  {
   "cell_type": "markdown",
   "metadata": {
    "nbgrader": {
     "grade": false,
     "grade_id": "cell-082896050f56b83a",
     "locked": true,
     "schema_version": 3,
     "solution": false,
     "task": false
    }
   },
   "source": [
    "**Question 1.3**\n",
    "<br> {points: 1}\n",
    "\n",
    "Read the mixed-up table below and assign each object in the code cell below the integer associated with its correct definition.\n",
    "\n",
    "> **Note:** some of these terms may have different meanings in other fields, but these are the definitions that we will be using in this course.\n",
    "\n",
    "| <p align=\"left\"> Term | <p align=\"left\"> Definition |\n",
    "|----------------|------------|\n",
    "| <p align=\"left\">mean | <p align=\"left\">1. The number of entities/object with a specific characteristic divided by the total number of entities/objects. |\n",
    "| <p align=\"left\">proportion | <p align=\"left\"> 2. The mean of the sum of the squared distances of each observation from the mean value of all observations.|\n",
    "| <p align=\"left\">median | <p align=\"left\">3. The middle observation of a sorted variable’s data.|\n",
    "| <p align=\"left\">variance | <p align=\"left\">4. The strength \\& direction an upward or downward relationship between two variables.|\n",
    "| <p align=\"left\">standard deviation | <p align=\"left\">5. The sum of all of the data observations divided by how many observations there are.|\n",
    "| <p align=\"left\">correlation | <p align=\"left\">6. The square root of the variance.|\n",
    "    \n",
    "_Assign your answers to the objects given below (`mean`, `proportion`, `median`, `variance`, `standard_deviation`, and `correlation`). Your answers should each be a single integer._"
   ]
  },
  {
   "cell_type": "code",
   "execution_count": 8,
   "metadata": {
    "nbgrader": {
     "grade": false,
     "grade_id": "cell-32e8a32bc1e8e019",
     "locked": false,
     "schema_version": 3,
     "solution": true,
     "task": false
    }
   },
   "outputs": [],
   "source": [
    "# mean <- ...\n",
    "# proportion <- ...\n",
    "# median <- ...\n",
    "# variance <- ...\n",
    "# standard_deviation <- ...\n",
    "# correlation <- ...\n",
    "\n",
    "### BEGIN SOLUTION\n",
    "mean <- 5\n",
    "proportion <- 1\n",
    "median <- 3\n",
    "variance <- 2\n",
    "standard_deviation <- 6\n",
    "correlation <- 4\n",
    "### END SOLUTION"
   ]
  },
  {
   "cell_type": "code",
   "execution_count": 9,
   "metadata": {
    "nbgrader": {
     "grade": true,
     "grade_id": "cell-80a34af1e398fc32",
     "locked": true,
     "points": 1,
     "schema_version": 3,
     "solution": false,
     "task": false
    }
   },
   "outputs": [
    {
     "name": "stdout",
     "output_type": "stream",
     "text": [
      "[1] \"Success!\"\n"
     ]
    }
   ],
   "source": [
    "test_1.3()"
   ]
  },
  {
   "cell_type": "markdown",
   "metadata": {
    "nbgrader": {
     "grade": false,
     "grade_id": "cell-9b7cbd596e8db154",
     "locked": true,
     "schema_version": 3,
     "solution": false,
     "task": false
    }
   },
   "source": [
    "**Question 1.4**\n",
    "<br> {points: 1}\n",
    "\n",
    "Read the mixed-up table below and assign each object in the code cell below the integer associated with its correct definition. \n",
    "\n",
    ">**Note:** some of these terms may have different meanings in other fields, but these are the definitions that we will be using in this course.\n",
    "\n",
    "| Terms |  Definitions |\n",
    "|----------------|------------|\n",
    "| <p align=\"left\">point estimate | <p align=\"left\">1. the entire set of entities/objects of interest |\n",
    "| <p align=\"left\">population | <p align=\"left\">2. a numerical summary value about the population|\n",
    "| <p align=\"left\">population parameter | <p align=\"left\">3. a subset of entities/objects in the population |\n",
    "| <p align=\"left\">sample |  <p align=\"left\">4. a single number calculated from a sample that estimates an unknown population parameter of interest |\n",
    "| <p align=\"left\">observation | <p align=\"left\"> 5. a distribution of point estimates, where each point estimate was calculated from a different random sample from the same population |\n",
    "| <p align=\"left\">sampling distribution | <p align=\"left\">6. a quantity or quality (or a set of these) from a single member of a population |\n",
    "    \n",
    "_Assign your answers to the objects given below (`point_estimate`, `population`, `population_parameter`, `sample`, `observation`, and `sampling_distribution`). Your answers should each be a single integer._"
   ]
  },
  {
   "cell_type": "code",
   "execution_count": 10,
   "metadata": {
    "lines_to_next_cell": 2,
    "nbgrader": {
     "grade": false,
     "grade_id": "cell-a1c8c8030496cf62",
     "locked": false,
     "schema_version": 3,
     "solution": true,
     "task": false
    }
   },
   "outputs": [],
   "source": [
    "# point_estimate <- ...\n",
    "# population <- ...\n",
    "# population_parameter <- ...\n",
    "# sample <- ...\n",
    "# observation <- ...\n",
    "# sampling_distribution <- ...\n",
    "\n",
    "### BEGIN SOLUTION\n",
    "point_estimate <- 4\n",
    "population <- 1\n",
    "population_parameter <- 2\n",
    "sample <- 3\n",
    "observation <- 6\n",
    "sampling_distribution <- 5\n",
    "### END SOLUTION"
   ]
  },
  {
   "cell_type": "code",
   "execution_count": 11,
   "metadata": {
    "nbgrader": {
     "grade": true,
     "grade_id": "cell-4a24ccad4eac3a5b",
     "locked": true,
     "points": 1,
     "schema_version": 3,
     "solution": false,
     "task": false
    }
   },
   "outputs": [
    {
     "name": "stdout",
     "output_type": "stream",
     "text": [
      "[1] \"Success!\"\n"
     ]
    }
   ],
   "source": [
    "test_1.4()"
   ]
  },
  {
   "cell_type": "markdown",
   "metadata": {
    "nbgrader": {
     "grade": false,
     "grade_id": "cell-0214e5bdd912ce9f",
     "locked": true,
     "schema_version": 3,
     "solution": false,
     "task": false
    }
   },
   "source": [
    "**Question 1.5**\n",
    "<br> {points: 1}\n",
    "\n",
    "True or false?\n",
    "\n",
    "A distribution shows all possible values (or intervals) of a variable, and how often they occur.\n",
    "\n",
    "_Assign your answer to an object called `answer1.5`. Your answer should be either \"true\" or \"false\" surrounded by quotes._"
   ]
  },
  {
   "cell_type": "code",
   "execution_count": 12,
   "metadata": {
    "nbgrader": {
     "grade": false,
     "grade_id": "cell-58619a3b699b4eb8",
     "locked": false,
     "schema_version": 3,
     "solution": true,
     "task": false
    }
   },
   "outputs": [],
   "source": [
    "# answer1.5 <- ...\n",
    "\n",
    "### BEGIN SOLUTION\n",
    "answer1.5 <- \"true\"\n",
    "### END SOLUTION"
   ]
  },
  {
   "cell_type": "code",
   "execution_count": 13,
   "metadata": {
    "nbgrader": {
     "grade": true,
     "grade_id": "cell-f3553853de48de4f",
     "locked": true,
     "points": 1,
     "schema_version": 3,
     "solution": false,
     "task": false
    }
   },
   "outputs": [
    {
     "name": "stdout",
     "output_type": "stream",
     "text": [
      "[1] \"Success!\"\n"
     ]
    }
   ],
   "source": [
    "test_1.5()"
   ]
  },
  {
   "cell_type": "markdown",
   "metadata": {
    "nbgrader": {
     "grade": false,
     "grade_id": "cell-13a54771fe022451",
     "locked": true,
     "schema_version": 3,
     "solution": false,
     "task": false
    }
   },
   "source": [
    "**Question 1.6**\n",
    "<br> {points: 1}\n",
    "\n",
    "Tiffany got 10 packages of Skittles for Halloween. Every time she opened a new package, she recorded the number of red Skittles that it contained. The table below describes the distribution of the number of red Skittles after she opened all 10 packages.\n",
    "\n",
    "| # Red Skittles | Frequency |\n",
    "|----------------|-----------|\n",
    "| 0              | 0         |\n",
    "| 1              | 1         |\n",
    "| 2              | 3         |\n",
    "| 3              | 3         |\n",
    "| 4              | 2         |\n",
    "| 5              | 1         |\n",
    "| > 5            | 0         |\n",
    "\n",
    "Which histogram below could be used to describe the distribution of the number of red Skittles?\n",
    "\n",
    "_Assign your answer to an object called `answer1.6`. Your answer should be a single character surrounded by quotes._"
   ]
  },
  {
   "cell_type": "code",
   "execution_count": 14,
   "metadata": {
    "nbgrader": {
     "grade": false,
     "grade_id": "cell-be8a82d56273d53e",
     "locked": true,
     "schema_version": 3,
     "solution": false,
     "task": false
    }
   },
   "outputs": [
    {
     "data": {
      "image/png": "[encoded data removed]",
      "text/plain": [
       "plot without title"
      ]
     },
     "metadata": {
      "image/png": {
       "height": 420,
       "width": 420
      }
     },
     "output_type": "display_data"
    }
   ],
   "source": [
    "# Run this cell before continuing.\n",
    "source(\"skittles.R\")"
   ]
  },
  {
   "cell_type": "code",
   "execution_count": 15,
   "metadata": {
    "nbgrader": {
     "grade": false,
     "grade_id": "cell-eae0ae97905ad1e3",
     "locked": false,
     "schema_version": 3,
     "solution": true,
     "task": false
    }
   },
   "outputs": [],
   "source": [
    "# answer1.6 <- ...\n",
    "\n",
    "### BEGIN SOLUTION\n",
    "answer1.6 <- \"D\"\n",
    "### END SOLUTION"
   ]
  },
  {
   "cell_type": "code",
   "execution_count": 16,
   "metadata": {
    "nbgrader": {
     "grade": true,
     "grade_id": "cell-d2292a2dede39897",
     "locked": true,
     "points": 1,
     "schema_version": 3,
     "solution": false,
     "task": false
    }
   },
   "outputs": [
    {
     "name": "stdout",
     "output_type": "stream",
     "text": [
      "[1] \"Success!\"\n"
     ]
    }
   ],
   "source": [
    "test_1.6()"
   ]
  },
  {
   "cell_type": "markdown",
   "metadata": {
    "nbgrader": {
     "grade": false,
     "grade_id": "cell-1319bf8e4602d44d",
     "locked": true,
     "schema_version": 3,
     "solution": false,
     "task": false
    }
   },
   "source": [
    "Use the histogram below to answer the next **two** questions. It was produced using the `mpg` variable from the `mtcars` dataset. Note that it is not necessary to understand the code used to produce the histogram to answer the questions."
   ]
  },
  {
   "cell_type": "code",
   "execution_count": 17,
   "metadata": {
    "nbgrader": {
     "grade": false,
     "grade_id": "cell-68be4905e01e2179",
     "locked": true,
     "schema_version": 3,
     "solution": false,
     "task": false
    }
   },
   "outputs": [
    {
     "data": {
      "image/png": "[encoded data removed]",
      "text/plain": [
       "plot without title"
      ]
     },
     "metadata": {
      "image/png": {
       "height": 180,
       "width": 240
      }
     },
     "output_type": "display_data"
    }
   ],
   "source": [
    "# Run this cell before continuing.\n",
    "options(repr.plot.width = 4, repr.plot.height = 3)\n",
    "\n",
    "mtcars %>%\n",
    "    ggplot(aes(x = mpg)) +\n",
    "    scale_y_continuous(breaks = seq(0, 8, 1)) +\n",
    "    geom_histogram(boundary = 10, binwidth = 2, colour = \"white\") +\n",
    "    scale_x_continuous(breaks = seq(10, 34, 2)) +\n",
    "    xlab(\"Miles per gallon (mpg)\") +\n",
    "    ylab(\"Frequency\") +\n",
    "    ggtitle(\"Distribution of miles per gallon \\nrating for all cars in the mtcars dataset\")"
   ]
  },
  {
   "cell_type": "markdown",
   "metadata": {
    "nbgrader": {
     "grade": false,
     "grade_id": "cell-951363965048a8c7",
     "locked": true,
     "schema_version": 3,
     "solution": false,
     "task": false
    }
   },
   "source": [
    "**Question 1.7**\n",
    "<br>{points: 1}\n",
    "\n",
    "How many cars are there in the `mtcars` dataset with a `mpg` rating of less than 12?\n",
    "\n",
    "_Assign your answer to an object called `answer1.7`. Your answer should be a single integer._"
   ]
  },
  {
   "cell_type": "code",
   "execution_count": 18,
   "metadata": {
    "nbgrader": {
     "grade": false,
     "grade_id": "cell-1fd2456f311a850a",
     "locked": false,
     "schema_version": 3,
     "solution": true,
     "task": false
    }
   },
   "outputs": [],
   "source": [
    "# answer1.7 <- ...\n",
    "\n",
    "### BEGIN SOLUTION\n",
    "answer1.7 <- 2\n",
    "### END SOLUTION"
   ]
  },
  {
   "cell_type": "code",
   "execution_count": 19,
   "metadata": {
    "nbgrader": {
     "grade": true,
     "grade_id": "cell-d9493c9861f1a5a8",
     "locked": true,
     "points": 1,
     "schema_version": 3,
     "solution": false,
     "task": false
    }
   },
   "outputs": [
    {
     "name": "stdout",
     "output_type": "stream",
     "text": [
      "[1] \"Success!\"\n"
     ]
    }
   ],
   "source": [
    "test_1.7()"
   ]
  },
  {
   "cell_type": "markdown",
   "metadata": {
    "nbgrader": {
     "grade": false,
     "grade_id": "cell-9966fe7c15c32e34",
     "locked": true,
     "schema_version": 3,
     "solution": false,
     "task": false
    }
   },
   "source": [
    "**Question 1.8**\n",
    "<br>{points: 1}\n",
    "\n",
    "How many more cars are there in the `mtcars` dataset with a `mpg` rating between 16 and 22 than there are with a `mpg` rating between 22 and 28?\n",
    "\n",
    "_Assign your answer to an object called `answer1.8`. Your answer should be a single integer._"
   ]
  },
  {
   "cell_type": "code",
   "execution_count": 20,
   "metadata": {
    "nbgrader": {
     "grade": false,
     "grade_id": "cell-ac4ffeb74fafd7ac",
     "locked": false,
     "schema_version": 3,
     "solution": true,
     "task": false
    }
   },
   "outputs": [],
   "source": [
    "# answer1.8 <- ...\n",
    "\n",
    "### BEGIN SOLUTION\n",
    "answer1.8 <- 8\n",
    "### END SOLUTION"
   ]
  },
  {
   "cell_type": "code",
   "execution_count": 21,
   "metadata": {
    "nbgrader": {
     "grade": true,
     "grade_id": "cell-2e69ac12dd07b62b",
     "locked": true,
     "points": 1,
     "schema_version": 3,
     "solution": false,
     "task": false
    }
   },
   "outputs": [
    {
     "name": "stdout",
     "output_type": "stream",
     "text": [
      "[1] \"Success!\"\n"
     ]
    }
   ],
   "source": [
    "test_1.8()"
   ]
  },
  {
   "cell_type": "markdown",
   "metadata": {
    "lines_to_next_cell": 2,
    "nbgrader": {
     "grade": false,
     "grade_id": "cell-c49b636f4737765f",
     "locked": true,
     "schema_version": 3,
     "solution": false,
     "task": false
    }
   },
   "source": [
    "Now we will start working with a real population to explore the concepts of population distributions, sampling, and sampling distributions a bit more in-depth. We will compute a single point estimate of a population parameter, compare it to the true value, and then take many samples to explore the distribution of the point estimates themselves, which we call *sampling distribution*. We'll also compare the sampling distribution to the population distribution and its parameters.\n",
    "\n",
    "## 2. Vancouver Property Tax"
   ]
  },
  {
   "cell_type": "markdown",
   "metadata": {
    "nbgrader": {
     "grade": false,
     "grade_id": "cell-1a705931653de4e8",
     "locked": true,
     "schema_version": 3,
     "solution": false,
     "task": false
    }
   },
   "source": [
    "> _\"In this world, nothing is certain except death and taxes.\"_\n",
    "<br>\n",
    "> [Benjamin Franklin](https://constitutioncenter.org/blog/benjamin-franklins-last-great-quote-and-the-constitution)\n",
    "        \n",
    "Homeowners in Vancouver can certainly agree with this statement. Every year, Vancouverites have their properties assessed for their value, and based on that, are charged a certain amount as tax for owning the property. For several years, the City of Vancouver has been collecting assessment and levy data for every property in Vancouver. This data has been made publicly available on their [Data Portal](https://opendata.vancouver.ca/), and we have compiled it into an R package called `taxyvr`. Let's load that package now."
   ]
  },
  {
   "cell_type": "code",
   "execution_count": 22,
   "metadata": {
    "nbgrader": {
     "grade": false,
     "grade_id": "cell-1e28f10ad2685f3c",
     "locked": true,
     "schema_version": 3,
     "solution": false,
     "task": false
    }
   },
   "outputs": [],
   "source": [
    "# Run this cell before continuing.\n",
    "library(taxyvr)"
   ]
  },
  {
   "cell_type": "markdown",
   "metadata": {
    "nbgrader": {
     "grade": false,
     "grade_id": "cell-b9f303065910237c",
     "locked": true,
     "schema_version": 3,
     "solution": false,
     "task": false
    }
   },
   "source": [
    "`taxyvr` contains property tax assessment data for all properties from 2014 to 2019, with one data frame for each year, named `tax_2014`, `tax_2015`, and so on. It also contains data frames with more recent information about some properties, but the city is still updating them. We will be using data from the `taxyvr` package throughout the course, so be sure to familiarize yourself with its contents!\n",
    "\n",
    "For this worksheet, we will be looking at the data from 2019, `tax_2019`. This dataset represents all the properties in Vancouver for 2019 and can be considered a census.\n",
    "\n",
    "<br>\n",
    "\n",
    "![](https://media.giphy.com/media/28jeqp9apQJM6pClEo/giphy.gif)\n",
    "<div style=\"text-align: center\"><i>Image from <a href=\"https://media.giphy.com/media/28jeqp9apQJM6pClEo/giphy.gif\">giphy.com</i></a></div>\n",
    "<br>\n",
    "\n",
    "In Vancouver, there are many different types of properties with various purposes. The City of Vancouver has classified each property into nine different zone categories: comprehensive development, one or multiple-family dwellings, and commercial. We are interested in understanding the assessment values of one of the most common types of residential homes in Vancouver: multiple-family dwellings in strata housing (e.g., condos, townhouses, duplexes). Specifically, we are interested in estimating the mean assessment value for multiple-family dwellings in strata housing.\n",
    "\n",
    "As mentioned above, the City of Vancouver collects this data for all properties in the entire city. Thus, we have data for the whole population of interest. Usually, this is not the case, and when we **do** have access to the entire population as we do here, this defeats the purpose of estimating since we can easily calculate the mean directly. However, we are still going to be estimating here (in fact, we will be making hundreds of estimates!) to understand how our estimations behave.\n",
    "\n",
    "Our population of interest is a subset of all Vancouver properties, so we need to select only the rows for this property type. Before we do that, let's look at the first few rows of our `tax_2019` data set."
   ]
  },
  {
   "cell_type": "code",
   "execution_count": 23,
   "metadata": {
    "nbgrader": {
     "grade": false,
     "grade_id": "cell-fc176c52f0481b55",
     "locked": true,
     "schema_version": 3,
     "solution": false,
     "task": false
    }
   },
   "outputs": [
    {
     "data": {
      "text/html": [
       "<table>\n",
       "<caption>A tibble: 6 × 32</caption>\n",
       "<thead>\n",
       "\t<tr><th scope=col>pid</th><th scope=col>legal_type</th><th scope=col>folio</th><th scope=col>land_coordinate</th><th scope=col>zone_name</th><th scope=col>zone_category</th><th scope=col>block</th><th scope=col>plan</th><th scope=col>district_lot</th><th scope=col>lot</th><th scope=col>⋯</th><th scope=col>previous_improvement_value</th><th scope=col>previous_land_value</th><th scope=col>year_built</th><th scope=col>big_improvement_year</th><th scope=col>tax_levy</th><th scope=col>neighbourhood_code</th><th scope=col>report_year</th><th scope=col>geo_local_area</th><th scope=col>longitude</th><th scope=col>latitude</th></tr>\n",
       "\t<tr><th scope=col>&lt;chr&gt;</th><th scope=col>&lt;chr&gt;</th><th scope=col>&lt;dbl&gt;</th><th scope=col>&lt;dbl&gt;</th><th scope=col>&lt;chr&gt;</th><th scope=col>&lt;chr&gt;</th><th scope=col>&lt;chr&gt;</th><th scope=col>&lt;chr&gt;</th><th scope=col>&lt;chr&gt;</th><th scope=col>&lt;chr&gt;</th><th scope=col>⋯</th><th scope=col>&lt;dbl&gt;</th><th scope=col>&lt;dbl&gt;</th><th scope=col>&lt;dbl&gt;</th><th scope=col>&lt;dbl&gt;</th><th scope=col>&lt;dbl&gt;</th><th scope=col>&lt;chr&gt;</th><th scope=col>&lt;dbl&gt;</th><th scope=col>&lt;chr&gt;</th><th scope=col>&lt;dbl&gt;</th><th scope=col>&lt;dbl&gt;</th></tr>\n",
       "</thead>\n",
       "<tbody>\n",
       "\t<tr><td>010-862-706</td><td>LAND</td><td>19632060000</td><td>1963206</td><td>RS-1</td><td>One Family Dwelling</td><td>2</td><td>VAP6583</td><td>140</td><td>22</td><td>⋯</td><td>1230000</td><td>16046000</td><td>2018</td><td>2018</td><td>100098.0</td><td>001</td><td>2019</td><td>West Point Grey</td><td>-123.2230</td><td>49.27487</td></tr>\n",
       "\t<tr><td>010-863-915</td><td>LAND</td><td>19632290000</td><td>1963229</td><td>RS-1</td><td>One Family Dwelling</td><td>3</td><td>VAP6583</td><td>140</td><td>8 </td><td>⋯</td><td>1380000</td><td>14392000</td><td>1915</td><td>1997</td><td> 73778.5</td><td>001</td><td>2019</td><td>West Point Grey</td><td>-123.2243</td><td>49.27429</td></tr>\n",
       "\t<tr><td>010-863-923</td><td>LAND</td><td>19632450000</td><td>1963245</td><td>RS-1</td><td>One Family Dwelling</td><td>3</td><td>VAP6583</td><td>140</td><td>9 </td><td>⋯</td><td>  72200</td><td>14582000</td><td>1945</td><td>1945</td><td> 66117.4</td><td>001</td><td>2019</td><td>West Point Grey</td><td>-123.2236</td><td>49.27424</td></tr>\n",
       "\t<tr><td>010-863-931</td><td>LAND</td><td>19632650000</td><td>1963265</td><td>RS-1</td><td>One Family Dwelling</td><td>3</td><td>VAP6583</td><td>140</td><td>10</td><td>⋯</td><td>5808000</td><td>14582000</td><td>2008</td><td>2011</td><td>104148.0</td><td>001</td><td>2019</td><td>West Point Grey</td><td>-123.2230</td><td>49.27419</td></tr>\n",
       "\t<tr><td>010-862-358</td><td>LAND</td><td>19632760000</td><td>1963276</td><td>RS-1</td><td>One Family Dwelling</td><td>2</td><td>VAP6583</td><td>140</td><td>1 </td><td>⋯</td><td> 605000</td><td>17429000</td><td>1976</td><td>2000</td><td> 80885.0</td><td>001</td><td>2019</td><td>West Point Grey</td><td>-123.2206</td><td>49.27454</td></tr>\n",
       "\t<tr><td>010-865-098</td><td>LAND</td><td>19635070000</td><td>1963507</td><td>RS-1</td><td>One Family Dwelling</td><td>3</td><td>VAP6583</td><td>140</td><td>12</td><td>⋯</td><td> 807000</td><td>15168000</td><td>1937</td><td>1995</td><td> 72475.6</td><td>001</td><td>2019</td><td>West Point Grey</td><td>-123.2214</td><td>49.27414</td></tr>\n",
       "</tbody>\n",
       "</table>\n"
      ],
      "text/latex": [
       "A tibble: 6 × 32\n",
       "\\begin{tabular}{lllllllllllllllllllll}\n",
       " pid & legal\\_type & folio & land\\_coordinate & zone\\_name & zone\\_category & block & plan & district\\_lot & lot & ⋯ & previous\\_improvement\\_value & previous\\_land\\_value & year\\_built & big\\_improvement\\_year & tax\\_levy & neighbourhood\\_code & report\\_year & geo\\_local\\_area & longitude & latitude\\\\\n",
       " <chr> & <chr> & <dbl> & <dbl> & <chr> & <chr> & <chr> & <chr> & <chr> & <chr> & ⋯ & <dbl> & <dbl> & <dbl> & <dbl> & <dbl> & <chr> & <dbl> & <chr> & <dbl> & <dbl>\\\\\n",
       "\\hline\n",
       "\t 010-862-706 & LAND & 19632060000 & 1963206 & RS-1 & One Family Dwelling & 2 & VAP6583 & 140 & 22 & ⋯ & 1230000 & 16046000 & 2018 & 2018 & 100098.0 & 001 & 2019 & West Point Grey & -123.2230 & 49.27487\\\\\n",
       "\t 010-863-915 & LAND & 19632290000 & 1963229 & RS-1 & One Family Dwelling & 3 & VAP6583 & 140 & 8  & ⋯ & 1380000 & 14392000 & 1915 & 1997 &  73778.5 & 001 & 2019 & West Point Grey & -123.2243 & 49.27429\\\\\n",
       "\t 010-863-923 & LAND & 19632450000 & 1963245 & RS-1 & One Family Dwelling & 3 & VAP6583 & 140 & 9  & ⋯ &   72200 & 14582000 & 1945 & 1945 &  66117.4 & 001 & 2019 & West Point Grey & -123.2236 & 49.27424\\\\\n",
       "\t 010-863-931 & LAND & 19632650000 & 1963265 & RS-1 & One Family Dwelling & 3 & VAP6583 & 140 & 10 & ⋯ & 5808000 & 14582000 & 2008 & 2011 & 104148.0 & 001 & 2019 & West Point Grey & -123.2230 & 49.27419\\\\\n",
       "\t 010-862-358 & LAND & 19632760000 & 1963276 & RS-1 & One Family Dwelling & 2 & VAP6583 & 140 & 1  & ⋯ &  605000 & 17429000 & 1976 & 2000 &  80885.0 & 001 & 2019 & West Point Grey & -123.2206 & 49.27454\\\\\n",
       "\t 010-865-098 & LAND & 19635070000 & 1963507 & RS-1 & One Family Dwelling & 3 & VAP6583 & 140 & 12 & ⋯ &  807000 & 15168000 & 1937 & 1995 &  72475.6 & 001 & 2019 & West Point Grey & -123.2214 & 49.27414\\\\\n",
       "\\end{tabular}\n"
      ],
      "text/markdown": [
       "\n",
       "A tibble: 6 × 32\n",
       "\n",
       "| pid &lt;chr&gt; | legal_type &lt;chr&gt; | folio &lt;dbl&gt; | land_coordinate &lt;dbl&gt; | zone_name &lt;chr&gt; | zone_category &lt;chr&gt; | block &lt;chr&gt; | plan &lt;chr&gt; | district_lot &lt;chr&gt; | lot &lt;chr&gt; | ⋯ ⋯ | previous_improvement_value &lt;dbl&gt; | previous_land_value &lt;dbl&gt; | year_built &lt;dbl&gt; | big_improvement_year &lt;dbl&gt; | tax_levy &lt;dbl&gt; | neighbourhood_code &lt;chr&gt; | report_year &lt;dbl&gt; | geo_local_area &lt;chr&gt; | longitude &lt;dbl&gt; | latitude &lt;dbl&gt; |\n",
       "|---|---|---|---|---|---|---|---|---|---|---|---|---|---|---|---|---|---|---|---|---|\n",
       "| 010-862-706 | LAND | 19632060000 | 1963206 | RS-1 | One Family Dwelling | 2 | VAP6583 | 140 | 22 | ⋯ | 1230000 | 16046000 | 2018 | 2018 | 100098.0 | 001 | 2019 | West Point Grey | -123.2230 | 49.27487 |\n",
       "| 010-863-915 | LAND | 19632290000 | 1963229 | RS-1 | One Family Dwelling | 3 | VAP6583 | 140 | 8  | ⋯ | 1380000 | 14392000 | 1915 | 1997 |  73778.5 | 001 | 2019 | West Point Grey | -123.2243 | 49.27429 |\n",
       "| 010-863-923 | LAND | 19632450000 | 1963245 | RS-1 | One Family Dwelling | 3 | VAP6583 | 140 | 9  | ⋯ |   72200 | 14582000 | 1945 | 1945 |  66117.4 | 001 | 2019 | West Point Grey | -123.2236 | 49.27424 |\n",
       "| 010-863-931 | LAND | 19632650000 | 1963265 | RS-1 | One Family Dwelling | 3 | VAP6583 | 140 | 10 | ⋯ | 5808000 | 14582000 | 2008 | 2011 | 104148.0 | 001 | 2019 | West Point Grey | -123.2230 | 49.27419 |\n",
       "| 010-862-358 | LAND | 19632760000 | 1963276 | RS-1 | One Family Dwelling | 2 | VAP6583 | 140 | 1  | ⋯ |  605000 | 17429000 | 1976 | 2000 |  80885.0 | 001 | 2019 | West Point Grey | -123.2206 | 49.27454 |\n",
       "| 010-865-098 | LAND | 19635070000 | 1963507 | RS-1 | One Family Dwelling | 3 | VAP6583 | 140 | 12 | ⋯ |  807000 | 15168000 | 1937 | 1995 |  72475.6 | 001 | 2019 | West Point Grey | -123.2214 | 49.27414 |\n",
       "\n"
      ],
      "text/plain": [
       "  pid         legal_type folio       land_coordinate zone_name\n",
       "1 010-862-706 LAND       19632060000 1963206         RS-1     \n",
       "2 010-863-915 LAND       19632290000 1963229         RS-1     \n",
       "3 010-863-923 LAND       19632450000 1963245         RS-1     \n",
       "4 010-863-931 LAND       19632650000 1963265         RS-1     \n",
       "5 010-862-358 LAND       19632760000 1963276         RS-1     \n",
       "6 010-865-098 LAND       19635070000 1963507         RS-1     \n",
       "  zone_category       block plan    district_lot lot ⋯\n",
       "1 One Family Dwelling 2     VAP6583 140          22  ⋯\n",
       "2 One Family Dwelling 3     VAP6583 140          8   ⋯\n",
       "3 One Family Dwelling 3     VAP6583 140          9   ⋯\n",
       "4 One Family Dwelling 3     VAP6583 140          10  ⋯\n",
       "5 One Family Dwelling 2     VAP6583 140          1   ⋯\n",
       "6 One Family Dwelling 3     VAP6583 140          12  ⋯\n",
       "  previous_improvement_value previous_land_value year_built\n",
       "1 1230000                    16046000            2018      \n",
       "2 1380000                    14392000            1915      \n",
       "3   72200                    14582000            1945      \n",
       "4 5808000                    14582000            2008      \n",
       "5  605000                    17429000            1976      \n",
       "6  807000                    15168000            1937      \n",
       "  big_improvement_year tax_levy neighbourhood_code report_year geo_local_area \n",
       "1 2018                 100098.0 001                2019        West Point Grey\n",
       "2 1997                  73778.5 001                2019        West Point Grey\n",
       "3 1945                  66117.4 001                2019        West Point Grey\n",
       "4 2011                 104148.0 001                2019        West Point Grey\n",
       "5 2000                  80885.0 001                2019        West Point Grey\n",
       "6 1995                  72475.6 001                2019        West Point Grey\n",
       "  longitude latitude\n",
       "1 -123.2230 49.27487\n",
       "2 -123.2243 49.27429\n",
       "3 -123.2236 49.27424\n",
       "4 -123.2230 49.27419\n",
       "5 -123.2206 49.27454\n",
       "6 -123.2214 49.27414"
      ]
     },
     "metadata": {},
     "output_type": "display_data"
    }
   ],
   "source": [
    "# Run this cell before continuing.\n",
    "head(tax_2019)"
   ]
  },
  {
   "cell_type": "markdown",
   "metadata": {
    "nbgrader": {
     "grade": false,
     "grade_id": "cell-843ea3d942861b83",
     "locked": true,
     "schema_version": 3,
     "solution": false,
     "task": false
    }
   },
   "source": [
    "Some of the column names are a bit confusing. We can use `?tax_2019` to display more information about the data, including a description of the meaning of each column:"
   ]
  },
  {
   "cell_type": "code",
   "execution_count": 24,
   "metadata": {
    "nbgrader": {
     "grade": false,
     "grade_id": "cell-faf3c0dec4508a51",
     "locked": true,
     "schema_version": 3,
     "solution": false,
     "task": false
    }
   },
   "outputs": [
    {
     "data": {
      "text/html": [
       "\n",
       "<table width=\"100%\" summary=\"page for tax_2019 {taxyvr}\"><tr><td>tax_2019 {taxyvr}</td><td style=\"text-align: right;\">R Documentation</td></tr></table>\n",
       "\n",
       "<h2>VancouverProperty Tax Assessment data\n",
       "This is data that the city of Vancouver has collected on the properties in Vancouver for assessment year 2019.</h2>\n",
       "\n",
       "<h3>Description</h3>\n",
       "\n",
       "<p>VancouverProperty Tax Assessment data\n",
       "This is data that the city of Vancouver has collected on the properties in Vancouver for assessment year 2019.\n",
       "</p>\n",
       "\n",
       "\n",
       "<h3>Usage</h3>\n",
       "\n",
       "<pre>\n",
       "tax_2019\n",
       "</pre>\n",
       "\n",
       "\n",
       "<h3>Format</h3>\n",
       "\n",
       "<p>A data frame with columns:\n",
       "</p>\n",
       "\n",
       "<dl>\n",
       "<dt>pid</dt><dd><p>Property identifier, assigned by Land Title Survey Authority, sourced from BC Assessment records.</p>\n",
       "</dd>\n",
       "<dt>legal_type</dt><dd><p>Values are 'STRATA', indicating property is part of a Strata Plan, 'LAND' indicating property has a non-strata plan number, or 'OTHER' for properties with no plan number.</p>\n",
       "</dd>\n",
       "<dt>folio</dt><dd><p>A 12-digit identifier for purposes of assessment. Assigned by BC Assessment.</p>\n",
       "</dd>\n",
       "<dt>land_coordinate</dt><dd><p>First 8 digits of BC Assessment's folio number</p>\n",
       "</dd>\n",
       "<dt>zone_name</dt><dd><p>Name of zoning district. Each zoning districts has a corresponding district schedule in the Zoning and Development By-law.</p>\n",
       "</dd>\n",
       "<dt>zone_category</dt><dd><p>Name of zoning category.</p>\n",
       "</dd>\n",
       "<dt>block</dt><dd><p>Component of legal description which is assigned by Land Title Survey Authority,.</p>\n",
       "</dd>\n",
       "<dt>plan</dt><dd><p>Component of legal description which is assigned by Land Title Survey Authority.</p>\n",
       "</dd>\n",
       "<dt>district_lot</dt><dd><p>Component of legal description which is assigned by Land Title Survey Authority.</p>\n",
       "</dd>\n",
       "<dt>lot</dt><dd><p>Component of legal description which is assigned by Land Title Survey Authority.</p>\n",
       "</dd>\n",
       "<dt>from_civic_number</dt><dd><p>This is the house number, it may be the first number in a range.</p>\n",
       "</dd>\n",
       "<dt>to_civic_number</dt><dd><p>Blank unless it is the last house number in a range.</p>\n",
       "</dd>\n",
       "<dt>street_name</dt><dd><p>The name of the street where the property is located.</p>\n",
       "</dd>\n",
       "<dt>property_postal_code</dt><dd><p>A series of letters and/or digits that is attached to a property address.</p>\n",
       "</dd>\n",
       "<dt>narrative_legal_line1</dt><dd><p>Describes a property for registration purposes, assigned by Land Title Survey Authority</p>\n",
       "</dd>\n",
       "<dt>narrative_legal_line2</dt><dd><p>Describes a property for registration purposes, assigned by Land Title Survey Authority</p>\n",
       "</dd>\n",
       "<dt>narrative_legal_line3</dt><dd><p>Describes a property for registration purposes,  assigned by Land Title Survey Authority</p>\n",
       "</dd>\n",
       "<dt>narrative_legal_line4</dt><dd><p>Describes a property for registration purposes, assigned by Land Title Survey Authority</p>\n",
       "</dd>\n",
       "<dt>narrative_legal_line5</dt><dd><p>Describes a property for registration purposes, assigned by Land Title Survey Authority</p>\n",
       "</dd>\n",
       "<dt>current_land_value</dt><dd><p>The market value of the fee simple interest in land and improvements. This is the actual value; it differs from taxable value which is net of exemptions and which may also be averaged.</p>\n",
       "</dd>\n",
       "<dt>current_improvement_value</dt><dd><p>The market value of the fee simple interest in land and improvements. This is the actual value; it differs from taxable value which is net of exemptions and which may also be averaged.</p>\n",
       "</dd>\n",
       "<dt>tax_assessment_year</dt><dd><p>Year in effect for Current_Land_Value, Current_Improvement_Value and Tax_Levy</p>\n",
       "</dd>\n",
       "<dt>previous_improvement_value</dt><dd><p>This value is for the previous assessment year.</p>\n",
       "</dd>\n",
       "<dt>previous_land_value</dt><dd><p>This value is for the previous assessment year. </p>\n",
       "</dd>\n",
       "<dt>year_built</dt><dd><p>Year that the property was built. </p>\n",
       "</dd>\n",
       "<dt>big_improvement_year</dt><dd><p>Year of major improvement to the property</p>\n",
       "</dd>\n",
       "<dt>tax_levy</dt><dd><p>This is the total taxes printed on the most recent tax notice.  It includes the City's general levy,levies for all taxing authorities, utilities, local improvements and miscellaneous charges</p>\n",
       "</dd>\n",
       "<dt>neighbourhood_code</dt><dd><p>This is a 3-digit number assigned by BCA which identifies the neighbourhood for the folio.</p>\n",
       "</dd>\n",
       "<dt>report_year</dt><dd><p>report_year</p>\n",
       "</dd></dl>\n",
       "<p>#'\n",
       "</p>\n",
       "<dl>\n",
       "<dt>geo_local_area</dt><dd><p>The local area where the feature is found, derived from the feature's coordinates or address in the source system. The City has 22 local areas (also known as local planning areas)</p>\n",
       "</dd>\n",
       "<dt>longitude</dt><dd><p>Longitude coordinate</p>\n",
       "</dd>\n",
       "<dt>latitude</dt><dd><p>Latitude coordinate</p>\n",
       "</dd>\n",
       "</dl>\n",
       "\n",
       "\n",
       "\n",
       "<h3>Source</h3>\n",
       "\n",
       "<p><a href=\"https://opendata.vancouver.ca/explore/dataset/property-tax-report/information/\">https://opendata.vancouver.ca/explore/dataset/property-tax-report/information/</a>, downloaded 2020-03-27\n",
       "</p>\n",
       "\n",
       "\n",
       "<h3>Examples</h3>\n",
       "\n",
       "<pre>\n",
       "tax_2019\n",
       "\n",
       "head(tax_2019)\n",
       "summary(tax_2019)\n",
       "\n",
       "</pre>\n",
       "\n",
       "<hr /><div style=\"text-align: center;\">[Package <em>taxyvr</em> version 0.0.0.1 ]</div>"
      ],
      "text/latex": [
       "\\inputencoding{utf8}\n",
       "\\HeaderA{tax\\_2019}{VancouverProperty Tax Assessment data This is data that the city of Vancouver has collected on the properties in Vancouver for assessment year 2019.}{tax.Rul.2019}\n",
       "\\keyword{datasets}{tax\\_2019}\n",
       "%\n",
       "\\begin{Description}\\relax\n",
       "VancouverProperty Tax Assessment data\n",
       "This is data that the city of Vancouver has collected on the properties in Vancouver for assessment year 2019.\n",
       "\\end{Description}\n",
       "%\n",
       "\\begin{Usage}\n",
       "\\begin{verbatim}\n",
       "tax_2019\n",
       "\\end{verbatim}\n",
       "\\end{Usage}\n",
       "%\n",
       "\\begin{Format}\n",
       "A data frame with columns:\n",
       "\\begin{description}\n",
       "\n",
       "\\item[pid] Property identifier, assigned by Land Title Survey Authority, sourced from BC Assessment records.\n",
       "\\item[legal\\_type] Values are 'STRATA', indicating property is part of a Strata Plan, 'LAND' indicating property has a non-strata plan number, or 'OTHER' for properties with no plan number.\n",
       "\\item[folio] A 12-digit identifier for purposes of assessment. Assigned by BC Assessment.\n",
       "\\item[land\\_coordinate] First 8 digits of BC Assessment's folio number\n",
       "\\item[zone\\_name] Name of zoning district. Each zoning districts has a corresponding district schedule in the Zoning and Development By-law.\n",
       "\\item[zone\\_category] Name of zoning category.\n",
       "\\item[block] Component of legal description which is assigned by Land Title Survey Authority,.\n",
       "\\item[plan] Component of legal description which is assigned by Land Title Survey Authority.\n",
       "\\item[district\\_lot] Component of legal description which is assigned by Land Title Survey Authority.\n",
       "\\item[lot] Component of legal description which is assigned by Land Title Survey Authority.\n",
       "\\item[from\\_civic\\_number] This is the house number, it may be the first number in a range.\n",
       "\\item[to\\_civic\\_number] Blank unless it is the last house number in a range.\n",
       "\\item[street\\_name] The name of the street where the property is located.\n",
       "\\item[property\\_postal\\_code] A series of letters and/or digits that is attached to a property address.\n",
       "\\item[narrative\\_legal\\_line1] Describes a property for registration purposes, assigned by Land Title Survey Authority\n",
       "\\item[narrative\\_legal\\_line2] Describes a property for registration purposes, assigned by Land Title Survey Authority\n",
       "\\item[narrative\\_legal\\_line3] Describes a property for registration purposes,  assigned by Land Title Survey Authority\n",
       "\\item[narrative\\_legal\\_line4] Describes a property for registration purposes, assigned by Land Title Survey Authority\n",
       "\\item[narrative\\_legal\\_line5] Describes a property for registration purposes, assigned by Land Title Survey Authority\n",
       "\\item[current\\_land\\_value] The market value of the fee simple interest in land and improvements. This is the actual value; it differs from taxable value which is net of exemptions and which may also be averaged.\n",
       "\\item[current\\_improvement\\_value] The market value of the fee simple interest in land and improvements. This is the actual value; it differs from taxable value which is net of exemptions and which may also be averaged.\n",
       "\\item[tax\\_assessment\\_year] Year in effect for Current\\_Land\\_Value, Current\\_Improvement\\_Value and Tax\\_Levy\n",
       "\\item[previous\\_improvement\\_value] This value is for the previous assessment year.\n",
       "\\item[previous\\_land\\_value] This value is for the previous assessment year. \n",
       "\\item[year\\_built] Year that the property was built. \n",
       "\\item[big\\_improvement\\_year] Year of major improvement to the property\n",
       "\\item[tax\\_levy] This is the total taxes printed on the most recent tax notice.  It includes the City's general levy,levies for all taxing authorities, utilities, local improvements and miscellaneous charges\n",
       "\\item[neighbourhood\\_code] This is a 3-digit number assigned by BCA which identifies the neighbourhood for the folio.\n",
       "\\item[report\\_year] report\\_year\\#'\n",
       "\\item[geo\\_local\\_area] The local area where the feature is found, derived from the feature's coordinates or address in the source system. The City has 22 local areas (also known as local planning areas)\n",
       "\\item[longitude] Longitude coordinate\n",
       "\\item[latitude] Latitude coordinate\n",
       "\n",
       "\\end{description}\n",
       "\n",
       "\\end{Format}\n",
       "%\n",
       "\\begin{Source}\\relax\n",
       "\\url{https://opendata.vancouver.ca/explore/dataset/property-tax-report/information/}, downloaded 2020-03-27\n",
       "\\end{Source}\n",
       "%\n",
       "\\begin{Examples}\n",
       "\\begin{ExampleCode}\n",
       "tax_2019\n",
       "\n",
       "head(tax_2019)\n",
       "summary(tax_2019)\n",
       "\n",
       "\\end{ExampleCode}\n",
       "\\end{Examples}"
      ],
      "text/plain": [
       "tax_2019                package:taxyvr                 R Documentation\n",
       "\n",
       "_\bV_\ba_\bn_\bc_\bo_\bu_\bv_\be_\br_\bP_\br_\bo_\bp_\be_\br_\bt_\by _\bT_\ba_\bx _\bA_\bs_\bs_\be_\bs_\bs_\bm_\be_\bn_\bt _\bd_\ba_\bt_\ba _\bT_\bh_\bi_\bs _\bi_\bs _\bd_\ba_\bt_\ba _\bt_\bh_\ba_\bt _\bt_\bh_\be _\bc_\bi_\bt_\by _\bo_\bf\n",
       "_\bV_\ba_\bn_\bc_\bo_\bu_\bv_\be_\br _\bh_\ba_\bs _\bc_\bo_\bl_\bl_\be_\bc_\bt_\be_\bd _\bo_\bn _\bt_\bh_\be _\bp_\br_\bo_\bp_\be_\br_\bt_\bi_\be_\bs _\bi_\bn _\bV_\ba_\bn_\bc_\bo_\bu_\bv_\be_\br _\bf_\bo_\br _\ba_\bs_\bs_\be_\bs_\bs_\bm_\be_\bn_\bt\n",
       "_\by_\be_\ba_\br _\b2_\b0_\b1_\b9.\n",
       "\n",
       "_\bD_\be_\bs_\bc_\br_\bi_\bp_\bt_\bi_\bo_\bn:\n",
       "\n",
       "     VancouverProperty Tax Assessment data This is data that the city\n",
       "     of Vancouver has collected on the properties in Vancouver for\n",
       "     assessment year 2019.\n",
       "\n",
       "_\bU_\bs_\ba_\bg_\be:\n",
       "\n",
       "     tax_2019\n",
       "     \n",
       "_\bF_\bo_\br_\bm_\ba_\bt:\n",
       "\n",
       "     A data frame with columns:\n",
       "\n",
       "     pid Property identifier, assigned by Land Title Survey Authority,\n",
       "          sourced from BC Assessment records.\n",
       "\n",
       "     legal_type Values are 'STRATA', indicating property is part of a\n",
       "          Strata Plan, 'LAND' indicating property has a non-strata plan\n",
       "          number, or 'OTHER' for properties with no plan number.\n",
       "\n",
       "     folio A 12-digit identifier for purposes of assessment. Assigned\n",
       "          by BC Assessment.\n",
       "\n",
       "     land_coordinate First 8 digits of BC Assessment's folio number\n",
       "\n",
       "     zone_name Name of zoning district. Each zoning districts has a\n",
       "          corresponding district schedule in the Zoning and Development\n",
       "          By-law.\n",
       "\n",
       "     zone_category Name of zoning category.\n",
       "\n",
       "     block Component of legal description which is assigned by Land\n",
       "          Title Survey Authority,.\n",
       "\n",
       "     plan Component of legal description which is assigned by Land\n",
       "          Title Survey Authority.\n",
       "\n",
       "     district_lot Component of legal description which is assigned by\n",
       "          Land Title Survey Authority.\n",
       "\n",
       "     lot Component of legal description which is assigned by Land Title\n",
       "          Survey Authority.\n",
       "\n",
       "     from_civic_number This is the house number, it may be the first\n",
       "          number in a range.\n",
       "\n",
       "     to_civic_number Blank unless it is the last house number in a\n",
       "          range.\n",
       "\n",
       "     street_name The name of the street where the property is located.\n",
       "\n",
       "     property_postal_code A series of letters and/or digits that is\n",
       "          attached to a property address.\n",
       "\n",
       "     narrative_legal_line1 Describes a property for registration\n",
       "          purposes, assigned by Land Title Survey Authority\n",
       "\n",
       "     narrative_legal_line2 Describes a property for registration\n",
       "          purposes, assigned by Land Title Survey Authority\n",
       "\n",
       "     narrative_legal_line3 Describes a property for registration\n",
       "          purposes, assigned by Land Title Survey Authority\n",
       "\n",
       "     narrative_legal_line4 Describes a property for registration\n",
       "          purposes, assigned by Land Title Survey Authority\n",
       "\n",
       "     narrative_legal_line5 Describes a property for registration\n",
       "          purposes, assigned by Land Title Survey Authority\n",
       "\n",
       "     current_land_value The market value of the fee simple interest in\n",
       "          land and improvements. This is the actual value; it differs\n",
       "          from taxable value which is net of exemptions and which may\n",
       "          also be averaged.\n",
       "\n",
       "     current_improvement_value The market value of the fee simple\n",
       "          interest in land and improvements. This is the actual value;\n",
       "          it differs from taxable value which is net of exemptions and\n",
       "          which may also be averaged.\n",
       "\n",
       "     tax_assessment_year Year in effect for Current_Land_Value,\n",
       "          Current_Improvement_Value and Tax_Levy\n",
       "\n",
       "     previous_improvement_value This value is for the previous\n",
       "          assessment year.\n",
       "\n",
       "     previous_land_value This value is for the previous assessment\n",
       "          year.\n",
       "\n",
       "     year_built Year that the property was built.\n",
       "\n",
       "     big_improvement_year Year of major improvement to the property\n",
       "\n",
       "     tax_levy This is the total taxes printed on the most recent tax\n",
       "          notice.  It includes the City's general levy,levies for all\n",
       "          taxing authorities, utilities, local improvements and\n",
       "          miscellaneous charges\n",
       "\n",
       "     neighbourhood_code This is a 3-digit number assigned by BCA which\n",
       "          identifies the neighbourhood for the folio.\n",
       "\n",
       "     report_year report_year\n",
       "     #'\n",
       "\n",
       "     geo_local_area The local area where the feature is found, derived\n",
       "          from the feature's coordinates or address in the source\n",
       "          system. The City has 22 local areas (also known as local\n",
       "          planning areas)\n",
       "\n",
       "     longitude Longitude coordinate\n",
       "\n",
       "     latitude Latitude coordinate\n",
       "\n",
       "_\bS_\bo_\bu_\br_\bc_\be:\n",
       "\n",
       "     <URL:\n",
       "     https://opendata.vancouver.ca/explore/dataset/property-tax-report/information/>,\n",
       "     downloaded 2020-03-27\n",
       "\n",
       "_\bE_\bx_\ba_\bm_\bp_\bl_\be_\bs:\n",
       "\n",
       "     tax_2019\n",
       "     \n",
       "     head(tax_2019)\n",
       "     summary(tax_2019)\n",
       "     "
      ]
     },
     "metadata": {},
     "output_type": "display_data"
    }
   ],
   "source": [
    "# Run this cell before continuing.\n",
    "?tax_2019"
   ]
  },
  {
   "cell_type": "markdown",
   "metadata": {
    "nbgrader": {
     "grade": false,
     "grade_id": "cell-87d1179527cc6179",
     "locked": true,
     "schema_version": 3,
     "solution": false,
     "task": false
    }
   },
   "source": [
    "As mentioned above, we are only interested in the population corresponding to multiple-family dwellings in strata housing. In this data set, the properties that correspond to that meet the following criteria:  \n",
    "- **Have a land value greater than \\$1:**  Some properties are assigned a value of `NA`, and these are the properties undergoing big renovations. These values get amended after the renovations and are reflected in the following year's assessment. The same occurs with homes that are assessed at $0.\n",
    "- **Are of legal type land `STRATA`**\n",
    "- **Are of zone category `Multiple Family Dwelling`** "
   ]
  },
  {
   "cell_type": "markdown",
   "metadata": {
    "nbgrader": {
     "grade": false,
     "grade_id": "cell-e7b0e675810d24b4",
     "locked": true,
     "schema_version": 3,
     "solution": false,
     "task": false
    }
   },
   "source": [
    "**Question 2.0** \n",
    "<br> {points: 1}\n",
    "\n",
    "Let's filter our dataset `tax_2019` to get a subset with the above criteria, which we will define as our population. Since we will be concentrating on the `current_land_value` column, ensure that your final data frame has only this column.\n",
    "\n",
    "_Assign your data frame to an object called `multi_family_strata`._"
   ]
  },
  {
   "cell_type": "code",
   "execution_count": 25,
   "metadata": {
    "nbgrader": {
     "grade": false,
     "grade_id": "cell-a5780df8ff3ee2af",
     "locked": false,
     "schema_version": 3,
     "solution": true,
     "task": false
    }
   },
   "outputs": [
    {
     "data": {
      "text/html": [
       "<table>\n",
       "<caption>A tibble: 6 × 1</caption>\n",
       "<thead>\n",
       "\t<tr><th scope=col>current_land_value</th></tr>\n",
       "\t<tr><th scope=col>&lt;dbl&gt;</th></tr>\n",
       "</thead>\n",
       "<tbody>\n",
       "\t<tr><td>1052000</td></tr>\n",
       "\t<tr><td> 984000</td></tr>\n",
       "\t<tr><td> 984000</td></tr>\n",
       "\t<tr><td>1067000</td></tr>\n",
       "\t<tr><td> 500000</td></tr>\n",
       "\t<tr><td> 982000</td></tr>\n",
       "</tbody>\n",
       "</table>\n"
      ],
      "text/latex": [
       "A tibble: 6 × 1\n",
       "\\begin{tabular}{l}\n",
       " current\\_land\\_value\\\\\n",
       " <dbl>\\\\\n",
       "\\hline\n",
       "\t 1052000\\\\\n",
       "\t  984000\\\\\n",
       "\t  984000\\\\\n",
       "\t 1067000\\\\\n",
       "\t  500000\\\\\n",
       "\t  982000\\\\\n",
       "\\end{tabular}\n"
      ],
      "text/markdown": [
       "\n",
       "A tibble: 6 × 1\n",
       "\n",
       "| current_land_value &lt;dbl&gt; |\n",
       "|---|\n",
       "| 1052000 |\n",
       "|  984000 |\n",
       "|  984000 |\n",
       "| 1067000 |\n",
       "|  500000 |\n",
       "|  982000 |\n",
       "\n"
      ],
      "text/plain": [
       "  current_land_value\n",
       "1 1052000           \n",
       "2  984000           \n",
       "3  984000           \n",
       "4 1067000           \n",
       "5  500000           \n",
       "6  982000           "
      ]
     },
     "metadata": {},
     "output_type": "display_data"
    }
   ],
   "source": [
    "# multi_family_strata <- tax_2019 %>%  \n",
    "#     filter(!is.na(...),\n",
    "#            ...,\n",
    "#            ...,\n",
    "#            ...) %>% \n",
    "#     select(...)\n",
    "\n",
    "### BEGIN SOLUTION\n",
    "multi_family_strata <- tax_2019 %>%  \n",
    "    filter(!is.na(current_land_value),\n",
    "           current_land_value > 1,\n",
    "           legal_type == \"STRATA\",\n",
    "           zone_category == \"Multiple Family Dwelling\") %>% \n",
    "    select(current_land_value)\n",
    "### END SOLUTION\n",
    "head(multi_family_strata)"
   ]
  },
  {
   "cell_type": "code",
   "execution_count": 26,
   "metadata": {
    "nbgrader": {
     "grade": true,
     "grade_id": "cell-d0d01d8617427f65",
     "locked": true,
     "points": 1,
     "schema_version": 3,
     "solution": false,
     "task": false
    }
   },
   "outputs": [
    {
     "name": "stdout",
     "output_type": "stream",
     "text": [
      "[1] \"Success!\"\n"
     ]
    }
   ],
   "source": [
    "test_2.0()"
   ]
  },
  {
   "cell_type": "markdown",
   "metadata": {
    "nbgrader": {
     "grade": false,
     "grade_id": "cell-f30ea04eea40b9dd",
     "locked": true,
     "schema_version": 3,
     "solution": false,
     "task": false
    }
   },
   "source": [
    "**Question 2.1** \n",
    "<br> {points: 1}\n",
    "\n",
    "Visualize the distribution of `current_land_value` for the population `multi_family_strata` that we obtained in the previous question by plotting a histogram using `geom_histogram` with the argument `bins = 50`. Ensure that your axes are human-readable. We changed the format of the x-axis scale using `scale_x_continuous` and rotated it to make it more readable.\n",
    "\n",
    "_Assign your plot to an object called `pop_dist`._"
   ]
  },
  {
   "cell_type": "code",
   "execution_count": 27,
   "metadata": {
    "nbgrader": {
     "grade": false,
     "grade_id": "cell-f5534e6c9cd14c66",
     "locked": false,
     "schema_version": 3,
     "solution": true,
     "task": false
    }
   },
   "outputs": [
    {
     "data": {
      "image/png": "[encoded data removed]",
      "text/plain": [
       "plot without title"
      ]
     },
     "metadata": {
      "image/png": {
       "height": 180,
       "width": 240
      }
     },
     "output_type": "display_data"
    }
   ],
   "source": [
    "options(repr.plot.width = 4, repr.plot.height = 3)\n",
    "\n",
    "# pop_dist <- ... %>% \n",
    "#     ggplot(...) + \n",
    "#     geom_...(...) +\n",
    "#     ... +\n",
    "#     ggtitle(\"Land Value Distribution\") +\n",
    "#     scale_x_continuous(labels = scales::dollar_format()) +\n",
    "#     theme(axis.text.x = element_text(angle = 45, hjust = 1))\n",
    "\n",
    "### BEGIN SOLUTION\n",
    "pop_dist <- multi_family_strata %>% \n",
    "    ggplot(aes(x = current_land_value)) + \n",
    "    geom_histogram(bins = 50) +\n",
    "    xlab(\"Land Value (CAD)\") +\n",
    "    ggtitle(\"Land Value Distribution\") +\n",
    "    scale_x_continuous(labels = scales::dollar_format()) +\n",
    "    theme(axis.text.x = element_text(angle = 45, hjust = 1))\n",
    "### END SOLUTION\n",
    "pop_dist"
   ]
  },
  {
   "cell_type": "code",
   "execution_count": 28,
   "metadata": {
    "nbgrader": {
     "grade": true,
     "grade_id": "cell-456cbebb3f4f32b4",
     "locked": true,
     "points": 1,
     "schema_version": 3,
     "solution": false,
     "task": false
    }
   },
   "outputs": [
    {
     "name": "stdout",
     "output_type": "stream",
     "text": [
      "[1] \"Success!\"\n"
     ]
    }
   ],
   "source": [
    "test_2.1()"
   ]
  },
  {
   "cell_type": "markdown",
   "metadata": {
    "nbgrader": {
     "grade": false,
     "grade_id": "cell-62b684a63ec96f31",
     "locked": true,
     "schema_version": 3,
     "solution": false,
     "task": false
    }
   },
   "source": [
    "**Question 2.2** \n",
    "<br> {points: 1}\n",
    "\n",
    "We are interested in the population's mean assessed value for multiple-family dwellings in strata housing. We can calculate the population parameter of interest with `summarise` because we have data for the entire population (`multi_family_strata`). (Note: in practice, we never have access to the entire population.)\n",
    "\n",
    "\n",
    "_Assign your data frame to an object called `pop_mean`. The resulting data frame should have a single column named `pop_mean`._"
   ]
  },
  {
   "cell_type": "code",
   "execution_count": 29,
   "metadata": {
    "nbgrader": {
     "grade": false,
     "grade_id": "cell-fb1b348c31d1d836",
     "locked": false,
     "schema_version": 3,
     "solution": true,
     "task": false
    }
   },
   "outputs": [
    {
     "data": {
      "text/html": [
       "<table>\n",
       "<caption>A tibble: 1 × 1</caption>\n",
       "<thead>\n",
       "\t<tr><th scope=col>pop_mean</th></tr>\n",
       "\t<tr><th scope=col>&lt;dbl&gt;</th></tr>\n",
       "</thead>\n",
       "<tbody>\n",
       "\t<tr><td>620331.5</td></tr>\n",
       "</tbody>\n",
       "</table>\n"
      ],
      "text/latex": [
       "A tibble: 1 × 1\n",
       "\\begin{tabular}{l}\n",
       " pop\\_mean\\\\\n",
       " <dbl>\\\\\n",
       "\\hline\n",
       "\t 620331.5\\\\\n",
       "\\end{tabular}\n"
      ],
      "text/markdown": [
       "\n",
       "A tibble: 1 × 1\n",
       "\n",
       "| pop_mean &lt;dbl&gt; |\n",
       "|---|\n",
       "| 620331.5 |\n",
       "\n"
      ],
      "text/plain": [
       "  pop_mean\n",
       "1 620331.5"
      ]
     },
     "metadata": {},
     "output_type": "display_data"
    }
   ],
   "source": [
    "# pop_mean <- ... %>% \n",
    "#     ...(pop_mean = ...(...))\n",
    "\n",
    "### BEGIN SOLUTION\n",
    "pop_mean <- multi_family_strata %>% \n",
    "    summarise(pop_mean = mean(current_land_value))\n",
    "### END SOLUTION\n",
    "pop_mean"
   ]
  },
  {
   "cell_type": "code",
   "execution_count": 30,
   "metadata": {
    "nbgrader": {
     "grade": true,
     "grade_id": "cell-dc386e49215841fd",
     "locked": true,
     "points": 1,
     "schema_version": 3,
     "solution": false,
     "task": false
    }
   },
   "outputs": [
    {
     "name": "stdout",
     "output_type": "stream",
     "text": [
      "[1] \"Success!\"\n"
     ]
    }
   ],
   "source": [
    "test_2.2()"
   ]
  },
  {
   "cell_type": "markdown",
   "metadata": {
    "nbgrader": {
     "grade": false,
     "grade_id": "cell-035b54d76e73d9c0",
     "locked": true,
     "schema_version": 3,
     "solution": false,
     "task": false
    }
   },
   "source": [
    "**Question 2.3** \n",
    "<br> {points: 1}\n",
    "\n",
    "In most cases, we rarely have the resources to record every observation in the population, so instead, we collect a single sample from the population. We use that single sample to estimate a population parameter (as well as infer how accurate our estimate is, but more on that later).\n",
    "\n",
    "Let's pretend we are in such a situation where we can only take a sample of 40 observations, without replacement, from our population. Use `rep_sample_n` to take your sample, and set the seed to `4321`.\n",
    "\n",
    "_Assign your data frame to an object called `sample_1`._"
   ]
  },
  {
   "cell_type": "code",
   "execution_count": 31,
   "metadata": {
    "nbgrader": {
     "grade": false,
     "grade_id": "cell-6127051155e5b696",
     "locked": false,
     "schema_version": 3,
     "solution": true,
     "task": false
    }
   },
   "outputs": [
    {
     "data": {
      "text/html": [
       "<table>\n",
       "<caption>A grouped_df: 6 × 2</caption>\n",
       "<thead>\n",
       "\t<tr><th scope=col>replicate</th><th scope=col>current_land_value</th></tr>\n",
       "\t<tr><th scope=col>&lt;int&gt;</th><th scope=col>&lt;dbl&gt;</th></tr>\n",
       "</thead>\n",
       "<tbody>\n",
       "\t<tr><td>1</td><td>775000</td></tr>\n",
       "\t<tr><td>1</td><td>376000</td></tr>\n",
       "\t<tr><td>1</td><td>319000</td></tr>\n",
       "\t<tr><td>1</td><td>574000</td></tr>\n",
       "\t<tr><td>1</td><td>707000</td></tr>\n",
       "\t<tr><td>1</td><td>593000</td></tr>\n",
       "</tbody>\n",
       "</table>\n"
      ],
      "text/latex": [
       "A grouped\\_df: 6 × 2\n",
       "\\begin{tabular}{ll}\n",
       " replicate & current\\_land\\_value\\\\\n",
       " <int> & <dbl>\\\\\n",
       "\\hline\n",
       "\t 1 & 775000\\\\\n",
       "\t 1 & 376000\\\\\n",
       "\t 1 & 319000\\\\\n",
       "\t 1 & 574000\\\\\n",
       "\t 1 & 707000\\\\\n",
       "\t 1 & 593000\\\\\n",
       "\\end{tabular}\n"
      ],
      "text/markdown": [
       "\n",
       "A grouped_df: 6 × 2\n",
       "\n",
       "| replicate &lt;int&gt; | current_land_value &lt;dbl&gt; |\n",
       "|---|---|\n",
       "| 1 | 775000 |\n",
       "| 1 | 376000 |\n",
       "| 1 | 319000 |\n",
       "| 1 | 574000 |\n",
       "| 1 | 707000 |\n",
       "| 1 | 593000 |\n",
       "\n"
      ],
      "text/plain": [
       "  replicate current_land_value\n",
       "1 1         775000            \n",
       "2 1         376000            \n",
       "3 1         319000            \n",
       "4 1         574000            \n",
       "5 1         707000            \n",
       "6 1         593000            "
      ]
     },
     "metadata": {},
     "output_type": "display_data"
    }
   ],
   "source": [
    "set.seed(4321) # DO NOT CHANGE!\n",
    "\n",
    "# sample_1 <- ... %>% \n",
    "#     rep_sample_n(...)\n",
    "\n",
    "### BEGIN SOLUTION\n",
    "sample_1 <- multi_family_strata %>% \n",
    "    rep_sample_n(40)\n",
    "### END SOLUTION\n",
    "head(sample_1)"
   ]
  },
  {
   "cell_type": "code",
   "execution_count": 32,
   "metadata": {
    "nbgrader": {
     "grade": true,
     "grade_id": "cell-d9d2029104a018db",
     "locked": true,
     "points": 1,
     "schema_version": 3,
     "solution": false,
     "task": false
    }
   },
   "outputs": [
    {
     "name": "stdout",
     "output_type": "stream",
     "text": [
      "[1] \"Success!\"\n"
     ]
    }
   ],
   "source": [
    "test_2.3()"
   ]
  },
  {
   "cell_type": "markdown",
   "metadata": {
    "nbgrader": {
     "grade": false,
     "grade_id": "cell-8fc6b0362a3e2415",
     "locked": true,
     "schema_version": 3,
     "solution": false,
     "task": false
    }
   },
   "source": [
    "**Question 2.4** \n",
    "<br> {points: 1}\n",
    "\n",
    "Visualize the distribution of the random sample you just took (`sample_1`) by plotting a histogram using `geom_histogram` with the argument `bins = 50`. Add a title to the plot using `ggtitle` and ensure that the x-axis has a human-readable label.\n",
    "\n",
    "_Assign your plot to an object called `sample_1_dist`._"
   ]
  },
  {
   "cell_type": "code",
   "execution_count": 33,
   "metadata": {
    "nbgrader": {
     "grade": false,
     "grade_id": "cell-9b759497eb1b7bef",
     "locked": false,
     "schema_version": 3,
     "solution": true,
     "task": false
    }
   },
   "outputs": [
    {
     "data": {
      "image/png": "[encoded data removed]",
      "text/plain": [
       "plot without title"
      ]
     },
     "metadata": {
      "image/png": {
       "height": 180,
       "width": 240
      }
     },
     "output_type": "display_data"
    }
   ],
   "source": [
    "### BEGIN SOLUTION\n",
    "sample_1_dist <- sample_1 %>% \n",
    "    ggplot(aes(current_land_value)) + \n",
    "    geom_histogram(bins = 50) +\n",
    "    xlab(\"Land Value (CAD)\") +\n",
    "    ggtitle(\"Sample 1 Distribution\") +\n",
    "    scale_x_continuous(labels = scales::dollar_format()) +\n",
    "    theme(axis.text.x = element_text(angle = 45, hjust = 1))\n",
    "### END SOLUTION\n",
    "sample_1_dist"
   ]
  },
  {
   "cell_type": "code",
   "execution_count": 34,
   "metadata": {
    "nbgrader": {
     "grade": true,
     "grade_id": "cell-029a8b40c27703a3",
     "locked": true,
     "points": 1,
     "schema_version": 3,
     "solution": false,
     "task": false
    }
   },
   "outputs": [
    {
     "name": "stdout",
     "output_type": "stream",
     "text": [
      "[1] \"Success!\"\n"
     ]
    }
   ],
   "source": [
    "test_2.4()"
   ]
  },
  {
   "cell_type": "markdown",
   "metadata": {
    "nbgrader": {
     "grade": false,
     "grade_id": "cell-3c4b35ed554cb337",
     "locked": true,
     "schema_version": 3,
     "solution": false,
     "task": false
    }
   },
   "source": [
    "**Question 2.6** \n",
    "<br> {points: 1}\n",
    "\n",
    "Recall that our population parameter of interest is the population's mean assessed value. Using the sample you just took (`sample_1`), calculate a point estimate for the population mean using `summarise`. The resulting data frame should have a single column named `sample_1_mean`.\n",
    "\n",
    "_Assign your data frame to an object called `sample_1_mean`._"
   ]
  },
  {
   "cell_type": "code",
   "execution_count": 35,
   "metadata": {
    "nbgrader": {
     "grade": false,
     "grade_id": "cell-66a0061d96d6e200",
     "locked": false,
     "schema_version": 3,
     "solution": true,
     "task": false
    }
   },
   "outputs": [
    {
     "name": "stderr",
     "output_type": "stream",
     "text": [
      "`summarise()` ungrouping output (override with `.groups` argument)\n",
      "\n"
     ]
    },
    {
     "data": {
      "text/html": [
       "<table>\n",
       "<caption>A tibble: 1 × 1</caption>\n",
       "<thead>\n",
       "\t<tr><th scope=col>sample_1_mean</th></tr>\n",
       "\t<tr><th scope=col>&lt;dbl&gt;</th></tr>\n",
       "</thead>\n",
       "<tbody>\n",
       "\t<tr><td>541925</td></tr>\n",
       "</tbody>\n",
       "</table>\n"
      ],
      "text/latex": [
       "A tibble: 1 × 1\n",
       "\\begin{tabular}{l}\n",
       " sample\\_1\\_mean\\\\\n",
       " <dbl>\\\\\n",
       "\\hline\n",
       "\t 541925\\\\\n",
       "\\end{tabular}\n"
      ],
      "text/markdown": [
       "\n",
       "A tibble: 1 × 1\n",
       "\n",
       "| sample_1_mean &lt;dbl&gt; |\n",
       "|---|\n",
       "| 541925 |\n",
       "\n"
      ],
      "text/plain": [
       "  sample_1_mean\n",
       "1 541925       "
      ]
     },
     "metadata": {},
     "output_type": "display_data"
    }
   ],
   "source": [
    "# sample_1_mean <- ... %>% \n",
    "#     ...(sample_1_mean = ...(...)) %>% \n",
    "#     select(-replicate)\n",
    "\n",
    "### BEGIN SOLUTION\n",
    "sample_1_mean <- sample_1 %>% \n",
    "    summarise(sample_1_mean = mean(current_land_value)) %>% \n",
    "    select(-replicate)\n",
    "### END SOLUTION\n",
    "sample_1_mean"
   ]
  },
  {
   "cell_type": "code",
   "execution_count": 36,
   "metadata": {
    "nbgrader": {
     "grade": true,
     "grade_id": "cell-ee2a0a06a44ea114",
     "locked": true,
     "points": 1,
     "schema_version": 3,
     "solution": false,
     "task": false
    }
   },
   "outputs": [
    {
     "name": "stdout",
     "output_type": "stream",
     "text": [
      "[1] \"Success!\"\n"
     ]
    }
   ],
   "source": [
    "test_2.6()"
   ]
  },
  {
   "cell_type": "markdown",
   "metadata": {
    "nbgrader": {
     "grade": false,
     "grade_id": "cell-21b6178f8e9bdffb",
     "locked": true,
     "schema_version": 3,
     "solution": false,
     "task": false
    }
   },
   "source": [
    "Now, let's compare our random sample to the population from where it was drawn.\n",
    "\n",
    "**Note**: a small number of the members of our population and sample are not visible because we set an upper bound on the x-axis so you can see a majority of the distribution easier (this causes some of the warnings you see below)."
   ]
  },
  {
   "cell_type": "code",
   "execution_count": 37,
   "metadata": {
    "nbgrader": {
     "grade": false,
     "grade_id": "cell-154ba1653638eb0b",
     "locked": true,
     "schema_version": 3,
     "solution": false,
     "task": false
    }
   },
   "outputs": [
    {
     "name": "stderr",
     "output_type": "stream",
     "text": [
      "Scale for 'x' is already present. Adding another scale for 'x', which will\n",
      "replace the existing scale.\n",
      "\n",
      "Scale for 'x' is already present. Adding another scale for 'x', which will\n",
      "replace the existing scale.\n",
      "\n",
      "Warning message:\n",
      "“Removed 124 rows containing non-finite values (stat_bin).”\n",
      "Warning message:\n",
      "“Removed 2 rows containing missing values (geom_bar).”\n",
      "Warning message:\n",
      "“Removed 2 rows containing missing values (geom_bar).”\n"
     ]
    },
    {
     "data": {
      "image/png": "[encoded data removed]",
      "text/plain": [
       "plot without title"
      ]
     },
     "metadata": {
      "image/png": {
       "height": 300,
       "width": 240
      }
     },
     "output_type": "display_data"
    }
   ],
   "source": [
    "# Run this cell before continuing.\n",
    "options(repr.plot.height = 5, repr.plot.width = 4)\n",
    "plot_grid(pop_dist +\n",
    "                 scale_x_continuous(limits = c(0, 3000000),\n",
    "                                    labels = scales::dollar_format()),\n",
    "          sample_1_dist +\n",
    "                 scale_x_continuous(limits = c(0, 3000000),\n",
    "                                    labels = scales::dollar_format()) +\n",
    "                 scale_y_continuous(breaks = seq(0, 10, 2)),\n",
    "          align = \"v\",\n",
    "          axis = \"lr\",\n",
    "          ncol = 1)"
   ]
  },
  {
   "cell_type": "markdown",
   "metadata": {
    "nbgrader": {
     "grade": false,
     "grade_id": "cell-eb2c62ea4906de98",
     "locked": true,
     "schema_version": 3,
     "solution": false,
     "task": false
    }
   },
   "source": [
    "And now let's compare our point estimate with the true population parameter we were trying to estimate:"
   ]
  },
  {
   "cell_type": "code",
   "execution_count": 38,
   "metadata": {
    "nbgrader": {
     "grade": false,
     "grade_id": "cell-be2a0262a31de71f",
     "locked": true,
     "schema_version": 3,
     "solution": false,
     "task": false
    }
   },
   "outputs": [
    {
     "data": {
      "text/html": [
       "<table>\n",
       "<caption>A tibble: 1 × 1</caption>\n",
       "<thead>\n",
       "\t<tr><th scope=col>pop_mean</th></tr>\n",
       "\t<tr><th scope=col>&lt;dbl&gt;</th></tr>\n",
       "</thead>\n",
       "<tbody>\n",
       "\t<tr><td>620331.5</td></tr>\n",
       "</tbody>\n",
       "</table>\n"
      ],
      "text/latex": [
       "A tibble: 1 × 1\n",
       "\\begin{tabular}{l}\n",
       " pop\\_mean\\\\\n",
       " <dbl>\\\\\n",
       "\\hline\n",
       "\t 620331.5\\\\\n",
       "\\end{tabular}\n"
      ],
      "text/markdown": [
       "\n",
       "A tibble: 1 × 1\n",
       "\n",
       "| pop_mean &lt;dbl&gt; |\n",
       "|---|\n",
       "| 620331.5 |\n",
       "\n"
      ],
      "text/plain": [
       "  pop_mean\n",
       "1 620331.5"
      ]
     },
     "metadata": {},
     "output_type": "display_data"
    },
    {
     "data": {
      "text/html": [
       "<table>\n",
       "<caption>A tibble: 1 × 1</caption>\n",
       "<thead>\n",
       "\t<tr><th scope=col>sample_1_mean</th></tr>\n",
       "\t<tr><th scope=col>&lt;dbl&gt;</th></tr>\n",
       "</thead>\n",
       "<tbody>\n",
       "\t<tr><td>541925</td></tr>\n",
       "</tbody>\n",
       "</table>\n"
      ],
      "text/latex": [
       "A tibble: 1 × 1\n",
       "\\begin{tabular}{l}\n",
       " sample\\_1\\_mean\\\\\n",
       " <dbl>\\\\\n",
       "\\hline\n",
       "\t 541925\\\\\n",
       "\\end{tabular}\n"
      ],
      "text/markdown": [
       "\n",
       "A tibble: 1 × 1\n",
       "\n",
       "| sample_1_mean &lt;dbl&gt; |\n",
       "|---|\n",
       "| 541925 |\n",
       "\n"
      ],
      "text/plain": [
       "  sample_1_mean\n",
       "1 541925       "
      ]
     },
     "metadata": {},
     "output_type": "display_data"
    }
   ],
   "source": [
    "# Run this cell before continuing.\n",
    "pop_mean\n",
    "sample_1_mean"
   ]
  },
  {
   "cell_type": "markdown",
   "metadata": {
    "nbgrader": {
     "grade": false,
     "grade_id": "cell-8659c3d519a6c08c",
     "locked": true,
     "schema_version": 3,
     "solution": false,
     "task": false
    }
   },
   "source": [
    "**Question 2.7**\n",
    "<br> {points: 1}\n",
    "\n",
    "After comparing the population and sample distributions above, and the true population parameter and the sample point estimate, which statement below **is not** correct:\n",
    "\n",
    "A. The sample point estimate is close to the value of the true population parameter we are trying to estimate.\n",
    "\n",
    "B. The sample distribution is of a similar shape to the population distribution.\n",
    "\n",
    "C. The sample point estimate is identical to the value of the true population parameter we are trying to estimate.\n",
    "\n",
    "_Assign your answer to an object called `answer2.7`. Your answer should be a single character surrounded by quotes._"
   ]
  },
  {
   "cell_type": "code",
   "execution_count": 39,
   "metadata": {
    "lines_to_next_cell": 2,
    "nbgrader": {
     "grade": false,
     "grade_id": "cell-b8b05f3e0f161221",
     "locked": false,
     "schema_version": 3,
     "solution": true,
     "task": false
    }
   },
   "outputs": [],
   "source": [
    "# answer2.7 <- ...\n",
    "\n",
    "### BEGIN SOLUTION\n",
    "answer2.7 <- \"C\"\n",
    "### END SOLUTION"
   ]
  },
  {
   "cell_type": "code",
   "execution_count": 40,
   "metadata": {
    "nbgrader": {
     "grade": true,
     "grade_id": "cell-be6afdaf764b33d4",
     "locked": true,
     "points": 1,
     "schema_version": 3,
     "solution": false,
     "task": false
    }
   },
   "outputs": [
    {
     "name": "stdout",
     "output_type": "stream",
     "text": [
      "[1] \"Success!\"\n"
     ]
    }
   ],
   "source": [
    "test_2.7()"
   ]
  },
  {
   "cell_type": "markdown",
   "metadata": {
    "nbgrader": {
     "grade": false,
     "grade_id": "cell-76f60ee97027b734",
     "locked": true,
     "schema_version": 3,
     "solution": false,
     "task": false
    }
   },
   "source": [
    "**Question 2.8** \n",
    "<br> {points: 1}\n",
    "\n",
    "What if we took another sample? What would we expect? Let's try! Take another random sample from the population using the seed `9999`, visualize its distribution, and then calculate the point estimate (sample mean). To do this, copy and paste the code below and then rearrange the lines so that the code runs properly.\n",
    "\n",
    "```{r}\n",
    "summarise(sample_2_mean = mean(current_land_value))\n",
    "xlab(\"Land Value (CAD)\") +\n",
    "rep_sample_n(40)\n",
    "scale_x_continuous(labels = scales::dollar_format()) +\n",
    "theme(axis.text.x = element_text(angle = 45, hjust = 1))\n",
    "sample_2 <- multi_family_strata %>% \n",
    "ggtitle(\"Sample 2 distribution\") +\n",
    "geom_histogram(bins = 50) +\n",
    "sample_2_mean <- sample_2 %>% \n",
    "sample_2_dist <- ggplot(sample_2, aes(x = current_land_value)) + \n",
    "```\n",
    "\n",
    "_You should end up with three objects: `sample_2` (your random sample), `sample_2_dist` (your plot), and `sample_2_mean` (your point estimate)._"
   ]
  },
  {
   "cell_type": "code",
   "execution_count": 41,
   "metadata": {
    "nbgrader": {
     "grade": false,
     "grade_id": "cell-2a682041fddd28e7",
     "locked": false,
     "schema_version": 3,
     "solution": true,
     "task": false
    }
   },
   "outputs": [
    {
     "name": "stderr",
     "output_type": "stream",
     "text": [
      "`summarise()` ungrouping output (override with `.groups` argument)\n",
      "\n"
     ]
    },
    {
     "data": {
      "text/html": [
       "<table>\n",
       "<caption>A tibble: 1 × 2</caption>\n",
       "<thead>\n",
       "\t<tr><th scope=col>replicate</th><th scope=col>sample_2_mean</th></tr>\n",
       "\t<tr><th scope=col>&lt;int&gt;</th><th scope=col>&lt;dbl&gt;</th></tr>\n",
       "</thead>\n",
       "<tbody>\n",
       "\t<tr><td>1</td><td>629475</td></tr>\n",
       "</tbody>\n",
       "</table>\n"
      ],
      "text/latex": [
       "A tibble: 1 × 2\n",
       "\\begin{tabular}{ll}\n",
       " replicate & sample\\_2\\_mean\\\\\n",
       " <int> & <dbl>\\\\\n",
       "\\hline\n",
       "\t 1 & 629475\\\\\n",
       "\\end{tabular}\n"
      ],
      "text/markdown": [
       "\n",
       "A tibble: 1 × 2\n",
       "\n",
       "| replicate &lt;int&gt; | sample_2_mean &lt;dbl&gt; |\n",
       "|---|---|\n",
       "| 1 | 629475 |\n",
       "\n"
      ],
      "text/plain": [
       "  replicate sample_2_mean\n",
       "1 1         629475       "
      ]
     },
     "metadata": {},
     "output_type": "display_data"
    },
    {
     "data": {
      "image/png": "[encoded data removed]",
      "text/plain": [
       "plot without title"
      ]
     },
     "metadata": {
      "image/png": {
       "height": 180,
       "width": 240
      }
     },
     "output_type": "display_data"
    }
   ],
   "source": [
    "set.seed(9999) # DO NOT CHANGE!\n",
    "options(repr.plot.width = 4, repr.plot.height = 3)\n",
    "\n",
    "### BEGIN SOLUTION\n",
    "sample_2 <- multi_family_strata %>% \n",
    "    rep_sample_n(40)\n",
    "\n",
    "sample_2_dist <- ggplot(sample_2, aes(x = current_land_value)) + \n",
    "    geom_histogram(bins = 50) +\n",
    "    xlab(\"Land Value (CAD)\") +\n",
    "    ggtitle(\"Sample 2 distribution\") +\n",
    "    scale_x_continuous(labels = scales::dollar_format()) +\n",
    "    theme(axis.text.x = element_text(angle = 45, hjust = 1))\n",
    "\n",
    "sample_2_mean <- sample_2 %>% \n",
    "    summarise(sample_2_mean = mean(current_land_value))\n",
    "### END SOLUTION\n",
    "sample_2_dist\n",
    "sample_2_mean"
   ]
  },
  {
   "cell_type": "code",
   "execution_count": 42,
   "metadata": {
    "nbgrader": {
     "grade": true,
     "grade_id": "cell-1db5a1e7c5ad9e78",
     "locked": true,
     "points": 1,
     "schema_version": 3,
     "solution": false,
     "task": false
    }
   },
   "outputs": [
    {
     "name": "stdout",
     "output_type": "stream",
     "text": [
      "[1] \"Success!\"\n"
     ]
    }
   ],
   "source": [
    "test_2.8()"
   ]
  },
  {
   "cell_type": "markdown",
   "metadata": {
    "nbgrader": {
     "grade": false,
     "grade_id": "cell-b6efdf4350e942fd",
     "locked": true,
     "schema_version": 3,
     "solution": false,
     "task": false
    }
   },
   "source": [
    "Use the distributions and point estimates printed below to answer the **next question**. Some of the code may be confusing, but you do not need to understand the code to answer the question.\n",
    "\n",
    "**Note**: a small number of the members of our population and samples are not visible because we set an upper bound on the x-axis so you can see a majority of the distribution easier."
   ]
  },
  {
   "cell_type": "code",
   "execution_count": 43,
   "metadata": {
    "nbgrader": {
     "grade": false,
     "grade_id": "cell-15b9866aa792f76b",
     "locked": true,
     "schema_version": 3,
     "solution": false,
     "task": false
    }
   },
   "outputs": [
    {
     "name": "stdout",
     "output_type": "stream",
     "text": [
      "True population mean:  620331.5 \n",
      "Sample 1 point estimate of mean:  541925 \n",
      "Sample 2 point estimate of mean:  629475"
     ]
    },
    {
     "data": {
      "image/png": "[encoded data removed]",
      "text/plain": [
       "plot without title"
      ]
     },
     "metadata": {
      "image/png": {
       "height": 240,
       "width": 360
      }
     },
     "output_type": "display_data"
    }
   ],
   "source": [
    "# Run this cell before continuing.\n",
    "cat(\"True population mean: \", as.numeric(pop_mean$pop_mean), \"\\n\")\n",
    "cat(\"Sample 1 point estimate of mean: \", as.numeric(sample_1_mean$sample_1_mean), \"\\n\")\n",
    "cat(\"Sample 2 point estimate of mean: \", as.numeric(sample_2_mean$sample_2_mean))\n",
    "options(repr.plot.height = 4, repr.plot.width = 6)\n",
    "suppressWarnings(suppressMessages(plot_grid(pop_dist + scale_x_continuous(limits = c(0, 3000000),\n",
    "                                                                          labels = scales::dollar_format()),\n",
    "          sample_1_dist + scale_x_continuous(limits = c(0, 3000000),\n",
    "                                             labels = scales::dollar_format()),\n",
    "          sample_2_dist + scale_x_continuous(limits = c(0, 3000000),\n",
    "                                             labels = scales::dollar_format()),\n",
    "          ncol = 3)))"
   ]
  },
  {
   "cell_type": "markdown",
   "metadata": {
    "nbgrader": {
     "grade": false,
     "grade_id": "cell-eb219a4fb15011de",
     "locked": true,
     "schema_version": 3,
     "solution": false,
     "task": false
    }
   },
   "source": [
    "**Question 2.9** \n",
    "<br> {points: 1}\n",
    "\n",
    "After comparing the distribution and point estimate of this second random sample from the population with that of the first random sample and the population, which statements below **is not** correct?\n",
    "\n",
    "A. The sample distributions from different random samples will vary a bit depending on which values are captured in the sample.\n",
    "\n",
    "B. The sample distributions from different random samples are of a similar shape to the population distribution.\n",
    "\n",
    "C. The point estimates from different random samples are close to the true population parameter, but they vary a bit depending which values are captured in the sample.\n",
    "\n",
    "D. Every random sample from the same population will have a point estimate equal to the population parameter that you are trying to estimate.\n",
    "\n",
    "_Assign your answer to an object called `answer2.9`. Your answer should be a single character surrounded by quotes._"
   ]
  },
  {
   "cell_type": "code",
   "execution_count": 44,
   "metadata": {
    "nbgrader": {
     "grade": false,
     "grade_id": "cell-edd6cd70c14dfcca",
     "locked": false,
     "schema_version": 3,
     "solution": true,
     "task": false
    }
   },
   "outputs": [],
   "source": [
    "# answer2.9 <- ...\n",
    "\n",
    "### BEGIN SOLUTION\n",
    "answer2.9 <- \"D\"\n",
    "### END SOLUTION"
   ]
  },
  {
   "cell_type": "code",
   "execution_count": 45,
   "metadata": {
    "nbgrader": {
     "grade": true,
     "grade_id": "cell-961d5cc12c2f4ef7",
     "locked": true,
     "points": 1,
     "schema_version": 3,
     "solution": false,
     "task": false
    }
   },
   "outputs": [
    {
     "name": "stdout",
     "output_type": "stream",
     "text": [
      "[1] \"Success!\"\n"
     ]
    }
   ],
   "source": [
    "test_2.9()"
   ]
  },
  {
   "cell_type": "markdown",
   "metadata": {
    "nbgrader": {
     "grade": false,
     "grade_id": "cell-8f85485e137d66db",
     "locked": true,
     "schema_version": 3,
     "solution": false,
     "task": false
    }
   },
   "source": [
    "## 3. Exploring the sampling distribution of an estimate\n",
    "\n",
    "Just how much should we expect the point estimates of our random samples to vary? Let's experiment a little more with our multiple-family dwelling property population to build an intuition for this. To do this, we will take 1500 random samples of size 40 and then calculate the point estimate we are interested in (let's choose the mean for this example) for each sample. Finally, we will visualize the distribution of the sample point estimates. This distribution will tell us how much we would expect the point estimates of our random samples to vary for this population for samples of size 40 (the size of our samples)."
   ]
  },
  {
   "cell_type": "markdown",
   "metadata": {
    "nbgrader": {
     "grade": false,
     "grade_id": "cell-f430927379459861",
     "locked": true,
     "schema_version": 3,
     "solution": false,
     "task": false
    }
   },
   "source": [
    "**Question 3.0** \n",
    "<br> {points: 1}\n",
    "\n",
    "Draw 1500 random samples from our population of multiple family dwelling strata properties (`multi_family_strata`). Each sample should have 40 observations. Use `4321` as your seed.\n",
    "\n",
    "_Assign your data frame to an object called `samples`._"
   ]
  },
  {
   "cell_type": "code",
   "execution_count": 46,
   "metadata": {
    "nbgrader": {
     "grade": false,
     "grade_id": "cell-0cd0a42b7d255c17",
     "locked": false,
     "schema_version": 3,
     "solution": true,
     "task": false
    }
   },
   "outputs": [
    {
     "data": {
      "text/html": [
       "<table>\n",
       "<caption>A grouped_df: 6 × 2</caption>\n",
       "<thead>\n",
       "\t<tr><th scope=col>replicate</th><th scope=col>current_land_value</th></tr>\n",
       "\t<tr><th scope=col>&lt;int&gt;</th><th scope=col>&lt;dbl&gt;</th></tr>\n",
       "</thead>\n",
       "<tbody>\n",
       "\t<tr><td>1</td><td>775000</td></tr>\n",
       "\t<tr><td>1</td><td>376000</td></tr>\n",
       "\t<tr><td>1</td><td>319000</td></tr>\n",
       "\t<tr><td>1</td><td>574000</td></tr>\n",
       "\t<tr><td>1</td><td>707000</td></tr>\n",
       "\t<tr><td>1</td><td>593000</td></tr>\n",
       "</tbody>\n",
       "</table>\n"
      ],
      "text/latex": [
       "A grouped\\_df: 6 × 2\n",
       "\\begin{tabular}{ll}\n",
       " replicate & current\\_land\\_value\\\\\n",
       " <int> & <dbl>\\\\\n",
       "\\hline\n",
       "\t 1 & 775000\\\\\n",
       "\t 1 & 376000\\\\\n",
       "\t 1 & 319000\\\\\n",
       "\t 1 & 574000\\\\\n",
       "\t 1 & 707000\\\\\n",
       "\t 1 & 593000\\\\\n",
       "\\end{tabular}\n"
      ],
      "text/markdown": [
       "\n",
       "A grouped_df: 6 × 2\n",
       "\n",
       "| replicate &lt;int&gt; | current_land_value &lt;dbl&gt; |\n",
       "|---|---|\n",
       "| 1 | 775000 |\n",
       "| 1 | 376000 |\n",
       "| 1 | 319000 |\n",
       "| 1 | 574000 |\n",
       "| 1 | 707000 |\n",
       "| 1 | 593000 |\n",
       "\n"
      ],
      "text/plain": [
       "  replicate current_land_value\n",
       "1 1         775000            \n",
       "2 1         376000            \n",
       "3 1         319000            \n",
       "4 1         574000            \n",
       "5 1         707000            \n",
       "6 1         593000            "
      ]
     },
     "metadata": {},
     "output_type": "display_data"
    },
    {
     "data": {
      "text/html": [
       "<table>\n",
       "<caption>A grouped_df: 6 × 2</caption>\n",
       "<thead>\n",
       "\t<tr><th scope=col>replicate</th><th scope=col>current_land_value</th></tr>\n",
       "\t<tr><th scope=col>&lt;int&gt;</th><th scope=col>&lt;dbl&gt;</th></tr>\n",
       "</thead>\n",
       "<tbody>\n",
       "\t<tr><td>1500</td><td>460000</td></tr>\n",
       "\t<tr><td>1500</td><td>793000</td></tr>\n",
       "\t<tr><td>1500</td><td>598000</td></tr>\n",
       "\t<tr><td>1500</td><td>489000</td></tr>\n",
       "\t<tr><td>1500</td><td>672000</td></tr>\n",
       "\t<tr><td>1500</td><td>512000</td></tr>\n",
       "</tbody>\n",
       "</table>\n"
      ],
      "text/latex": [
       "A grouped\\_df: 6 × 2\n",
       "\\begin{tabular}{ll}\n",
       " replicate & current\\_land\\_value\\\\\n",
       " <int> & <dbl>\\\\\n",
       "\\hline\n",
       "\t 1500 & 460000\\\\\n",
       "\t 1500 & 793000\\\\\n",
       "\t 1500 & 598000\\\\\n",
       "\t 1500 & 489000\\\\\n",
       "\t 1500 & 672000\\\\\n",
       "\t 1500 & 512000\\\\\n",
       "\\end{tabular}\n"
      ],
      "text/markdown": [
       "\n",
       "A grouped_df: 6 × 2\n",
       "\n",
       "| replicate &lt;int&gt; | current_land_value &lt;dbl&gt; |\n",
       "|---|---|\n",
       "| 1500 | 460000 |\n",
       "| 1500 | 793000 |\n",
       "| 1500 | 598000 |\n",
       "| 1500 | 489000 |\n",
       "| 1500 | 672000 |\n",
       "| 1500 | 512000 |\n",
       "\n"
      ],
      "text/plain": [
       "  replicate current_land_value\n",
       "1 1500      460000            \n",
       "2 1500      793000            \n",
       "3 1500      598000            \n",
       "4 1500      489000            \n",
       "5 1500      672000            \n",
       "6 1500      512000            "
      ]
     },
     "metadata": {},
     "output_type": "display_data"
    },
    {
     "data": {
      "text/html": [
       "60000"
      ],
      "text/latex": [
       "60000"
      ],
      "text/markdown": [
       "60000"
      ],
      "text/plain": [
       "[1] 60000"
      ]
     },
     "metadata": {},
     "output_type": "display_data"
    }
   ],
   "source": [
    "set.seed(4321) # DO NOT CHANGE!\n",
    "\n",
    "# samples <- ... %>% \n",
    "#     rep_sample_n(size = ..., reps = ...)\n",
    "\n",
    "### BEGIN SOLUTION\n",
    "samples <- multi_family_strata %>% \n",
    "    rep_sample_n(size = 40, reps = 1500)\n",
    "### END SOLUTION\n",
    "head(samples)\n",
    "tail(samples)\n",
    "nrow(samples)"
   ]
  },
  {
   "cell_type": "code",
   "execution_count": 47,
   "metadata": {
    "nbgrader": {
     "grade": true,
     "grade_id": "cell-5fb4d9288b5d06ed",
     "locked": true,
     "points": 1,
     "schema_version": 3,
     "solution": false,
     "task": false
    }
   },
   "outputs": [
    {
     "name": "stdout",
     "output_type": "stream",
     "text": [
      "[1] \"Success!\"\n"
     ]
    }
   ],
   "source": [
    "test_3.0()"
   ]
  },
  {
   "cell_type": "markdown",
   "metadata": {
    "nbgrader": {
     "grade": false,
     "grade_id": "cell-9d0c47c5bd510ff6",
     "locked": true,
     "schema_version": 3,
     "solution": false,
     "task": false
    }
   },
   "source": [
    "**Question 3.1** \n",
    "<br> {points: 1}\n",
    "\n",
    "Using the 1500 random samples you just took, group by the sample replicate number (`replicate`), and then for each sample, calculate the mean as the point estimate. The resulting data frame should have the columns `replicate` and `sample_mean`.\n",
    "\n",
    "_Assign your data frame to an object called `sample_estimates`._"
   ]
  },
  {
   "cell_type": "code",
   "execution_count": 48,
   "metadata": {
    "nbgrader": {
     "grade": false,
     "grade_id": "cell-f7a679dc1b0f3222",
     "locked": false,
     "schema_version": 3,
     "solution": true,
     "task": false
    }
   },
   "outputs": [
    {
     "name": "stderr",
     "output_type": "stream",
     "text": [
      "`summarise()` ungrouping output (override with `.groups` argument)\n",
      "\n"
     ]
    },
    {
     "data": {
      "text/html": [
       "<table>\n",
       "<caption>A tibble: 6 × 2</caption>\n",
       "<thead>\n",
       "\t<tr><th scope=col>replicate</th><th scope=col>sample_mean</th></tr>\n",
       "\t<tr><th scope=col>&lt;int&gt;</th><th scope=col>&lt;dbl&gt;</th></tr>\n",
       "</thead>\n",
       "<tbody>\n",
       "\t<tr><td>1</td><td>541925</td></tr>\n",
       "\t<tr><td>2</td><td>565875</td></tr>\n",
       "\t<tr><td>3</td><td>579385</td></tr>\n",
       "\t<tr><td>4</td><td>795950</td></tr>\n",
       "\t<tr><td>5</td><td>639250</td></tr>\n",
       "\t<tr><td>6</td><td>593075</td></tr>\n",
       "</tbody>\n",
       "</table>\n"
      ],
      "text/latex": [
       "A tibble: 6 × 2\n",
       "\\begin{tabular}{ll}\n",
       " replicate & sample\\_mean\\\\\n",
       " <int> & <dbl>\\\\\n",
       "\\hline\n",
       "\t 1 & 541925\\\\\n",
       "\t 2 & 565875\\\\\n",
       "\t 3 & 579385\\\\\n",
       "\t 4 & 795950\\\\\n",
       "\t 5 & 639250\\\\\n",
       "\t 6 & 593075\\\\\n",
       "\\end{tabular}\n"
      ],
      "text/markdown": [
       "\n",
       "A tibble: 6 × 2\n",
       "\n",
       "| replicate &lt;int&gt; | sample_mean &lt;dbl&gt; |\n",
       "|---|---|\n",
       "| 1 | 541925 |\n",
       "| 2 | 565875 |\n",
       "| 3 | 579385 |\n",
       "| 4 | 795950 |\n",
       "| 5 | 639250 |\n",
       "| 6 | 593075 |\n",
       "\n"
      ],
      "text/plain": [
       "  replicate sample_mean\n",
       "1 1         541925     \n",
       "2 2         565875     \n",
       "3 3         579385     \n",
       "4 4         795950     \n",
       "5 5         639250     \n",
       "6 6         593075     "
      ]
     },
     "metadata": {},
     "output_type": "display_data"
    },
    {
     "data": {
      "text/html": [
       "<table>\n",
       "<caption>A tibble: 6 × 2</caption>\n",
       "<thead>\n",
       "\t<tr><th scope=col>replicate</th><th scope=col>sample_mean</th></tr>\n",
       "\t<tr><th scope=col>&lt;int&gt;</th><th scope=col>&lt;dbl&gt;</th></tr>\n",
       "</thead>\n",
       "<tbody>\n",
       "\t<tr><td>1495</td><td>570697.5</td></tr>\n",
       "\t<tr><td>1496</td><td>662500.0</td></tr>\n",
       "\t<tr><td>1497</td><td>595192.5</td></tr>\n",
       "\t<tr><td>1498</td><td>610960.0</td></tr>\n",
       "\t<tr><td>1499</td><td>590400.0</td></tr>\n",
       "\t<tr><td>1500</td><td>625075.0</td></tr>\n",
       "</tbody>\n",
       "</table>\n"
      ],
      "text/latex": [
       "A tibble: 6 × 2\n",
       "\\begin{tabular}{ll}\n",
       " replicate & sample\\_mean\\\\\n",
       " <int> & <dbl>\\\\\n",
       "\\hline\n",
       "\t 1495 & 570697.5\\\\\n",
       "\t 1496 & 662500.0\\\\\n",
       "\t 1497 & 595192.5\\\\\n",
       "\t 1498 & 610960.0\\\\\n",
       "\t 1499 & 590400.0\\\\\n",
       "\t 1500 & 625075.0\\\\\n",
       "\\end{tabular}\n"
      ],
      "text/markdown": [
       "\n",
       "A tibble: 6 × 2\n",
       "\n",
       "| replicate &lt;int&gt; | sample_mean &lt;dbl&gt; |\n",
       "|---|---|\n",
       "| 1495 | 570697.5 |\n",
       "| 1496 | 662500.0 |\n",
       "| 1497 | 595192.5 |\n",
       "| 1498 | 610960.0 |\n",
       "| 1499 | 590400.0 |\n",
       "| 1500 | 625075.0 |\n",
       "\n"
      ],
      "text/plain": [
       "  replicate sample_mean\n",
       "1 1495      570697.5   \n",
       "2 1496      662500.0   \n",
       "3 1497      595192.5   \n",
       "4 1498      610960.0   \n",
       "5 1499      590400.0   \n",
       "6 1500      625075.0   "
      ]
     },
     "metadata": {},
     "output_type": "display_data"
    }
   ],
   "source": [
    "### BEGIN SOLUTION\n",
    "sample_estimates <- samples %>% \n",
    "    group_by(replicate) %>% \n",
    "    summarise(sample_mean = mean(current_land_value))\n",
    "### END SOLUTION\n",
    "head(sample_estimates)\n",
    "tail(sample_estimates)"
   ]
  },
  {
   "cell_type": "code",
   "execution_count": 49,
   "metadata": {
    "nbgrader": {
     "grade": true,
     "grade_id": "cell-f2619e029e119d40",
     "locked": true,
     "points": 1,
     "schema_version": 3,
     "solution": false,
     "task": false
    }
   },
   "outputs": [
    {
     "name": "stdout",
     "output_type": "stream",
     "text": [
      "[1] \"Success!\"\n"
     ]
    }
   ],
   "source": [
    "test_3.1()"
   ]
  },
  {
   "cell_type": "markdown",
   "metadata": {
    "nbgrader": {
     "grade": false,
     "grade_id": "cell-f7c9f1334fb8632e",
     "locked": true,
     "schema_version": 3,
     "solution": false,
     "task": false
    }
   },
   "source": [
    "**Question 3.2** \n",
    "<br> {points: 1}\n",
    "\n",
    "Visualize the distribution of the sample estimates (`sample_estimates`) you just calculated by plotting a histogram using `geom_histogram` with the argument `bins = 30`. Add a title to the plot using `ggtitle` and ensure that the x-axis has a human-readable label.\n",
    "\n",
    "_Assign your plot to an object called `sampling_distribution`._"
   ]
  },
  {
   "cell_type": "code",
   "execution_count": 50,
   "metadata": {
    "nbgrader": {
     "grade": false,
     "grade_id": "cell-918edc33544fa612",
     "locked": false,
     "schema_version": 3,
     "solution": true,
     "task": false
    }
   },
   "outputs": [
    {
     "data": {
      "image/png": "[encoded data removed]",
      "text/plain": [
       "plot without title"
      ]
     },
     "metadata": {
      "image/png": {
       "height": 240,
       "width": 360
      }
     },
     "output_type": "display_data"
    }
   ],
   "source": [
    "### BEGIN SOLUTION\n",
    "sampling_distribution <- sample_estimates %>% \n",
    "    ggplot(aes(x = sample_mean)) +\n",
    "    geom_histogram(bins = 30, color = \"white\") +\n",
    "    xlab(\"Mean Land Value (CAD)\") +\n",
    "    ggtitle(\"Sampling distribution of sample means\") +\n",
    "    scale_x_continuous(labels = scales::dollar_format()) +\n",
    "    theme(axis.text.x = element_text(angle = 45, hjust = 1))\n",
    "### END SOLUTION\n",
    "sampling_distribution"
   ]
  },
  {
   "cell_type": "code",
   "execution_count": 51,
   "metadata": {
    "nbgrader": {
     "grade": true,
     "grade_id": "cell-5bea467e58589db9",
     "locked": true,
     "points": 1,
     "schema_version": 3,
     "solution": false,
     "task": false
    }
   },
   "outputs": [
    {
     "name": "stdout",
     "output_type": "stream",
     "text": [
      "[1] \"Success!\"\n"
     ]
    }
   ],
   "source": [
    "test_3.2()"
   ]
  },
  {
   "cell_type": "markdown",
   "metadata": {
    "nbgrader": {
     "grade": false,
     "grade_id": "cell-cb6de75bfb66278d",
     "locked": true,
     "schema_version": 3,
     "solution": false,
     "task": false
    }
   },
   "source": [
    "**Question 3.3** \n",
    "<br> {points: 1}\n",
    "\n",
    "Let's refresh our memory; what is the mean current land value of the population (we calculated this above)?\n",
    "\n",
    "_Assign your answer to an object called `answer3.3`. Your answer should be a single number._"
   ]
  },
  {
   "cell_type": "code",
   "execution_count": 52,
   "metadata": {
    "nbgrader": {
     "grade": false,
     "grade_id": "cell-db4bbfe72c697682",
     "locked": false,
     "schema_version": 3,
     "solution": true,
     "task": false
    }
   },
   "outputs": [
    {
     "data": {
      "text/html": [
       "620331.476287058"
      ],
      "text/latex": [
       "620331.476287058"
      ],
      "text/markdown": [
       "620331.476287058"
      ],
      "text/plain": [
       "[1] 620331.5"
      ]
     },
     "metadata": {},
     "output_type": "display_data"
    }
   ],
   "source": [
    "# answer3.3 <- ...\n",
    "\n",
    "### BEGIN SOLUTION\n",
    "answer3.3 <- pop_mean$pop_mean\n",
    "### END SOLUTION\n",
    "answer3.3"
   ]
  },
  {
   "cell_type": "code",
   "execution_count": 53,
   "metadata": {
    "nbgrader": {
     "grade": true,
     "grade_id": "cell-b07acd6be3cc9451",
     "locked": true,
     "points": 1,
     "schema_version": 3,
     "solution": false,
     "task": false
    }
   },
   "outputs": [
    {
     "name": "stdout",
     "output_type": "stream",
     "text": [
      "[1] \"Success!\"\n"
     ]
    }
   ],
   "source": [
    "test_3.3()"
   ]
  },
  {
   "cell_type": "markdown",
   "metadata": {
    "nbgrader": {
     "grade": false,
     "grade_id": "cell-a8242c02db1ac403",
     "locked": true,
     "schema_version": 3,
     "solution": false,
     "task": false
    }
   },
   "source": [
    "**Question 3.4**\n",
    "<br> {points: 1}\n",
    "\n",
    "Considering the true value for the population mean, and the sampling distribution you created and visualized in Question 3.2, which statement below **is not** correct:\n",
    "\n",
    "A. The sampling distribution is centered at the true population mean.\n",
    "\n",
    "B. Most sample means are at or very near the same value as the true population mean.\n",
    "\n",
    "C. All the sample means are the same value as the true population mean.\n",
    "\n",
    "D. The sampling distribution is more concentrated around the population mean than most sample distributions would be.\n",
    "\n",
    "*Assign your answer to an object called `answer3.4`. Your answer should be a single character surrounded by quotes.*"
   ]
  },
  {
   "cell_type": "code",
   "execution_count": 54,
   "metadata": {
    "nbgrader": {
     "grade": false,
     "grade_id": "cell-b016cfdf5fb664e1",
     "locked": false,
     "schema_version": 3,
     "solution": true,
     "task": false
    }
   },
   "outputs": [],
   "source": [
    "# answer3.4 <- ...\n",
    "\n",
    "### BEGIN SOLUTION\n",
    "answer3.4 <- \"C\"\n",
    "### END SOLUTION"
   ]
  },
  {
   "cell_type": "code",
   "execution_count": 55,
   "metadata": {
    "nbgrader": {
     "grade": true,
     "grade_id": "cell-2f8e7fb5ba342a36",
     "locked": true,
     "points": 1,
     "schema_version": 3,
     "solution": false,
     "task": false
    }
   },
   "outputs": [
    {
     "name": "stdout",
     "output_type": "stream",
     "text": [
      "[1] \"Success!\"\n"
     ]
    }
   ],
   "source": [
    "test_3.4()"
   ]
  },
  {
   "cell_type": "code",
   "execution_count": 56,
   "metadata": {
    "nbgrader": {
     "grade": false,
     "grade_id": "cell-c5a2718621752af7",
     "locked": true,
     "schema_version": 3,
     "solution": false,
     "task": false
    }
   },
   "outputs": [
    {
     "name": "stderr",
     "output_type": "stream",
     "text": [
      "Scale for 'x' is already present. Adding another scale for 'x', which will\n",
      "replace the existing scale.\n",
      "\n"
     ]
    },
    {
     "data": {
      "image/png": "[encoded data removed]",
      "text/plain": [
       "plot without title"
      ]
     },
     "metadata": {
      "image/png": {
       "height": 240,
       "width": 360
      }
     },
     "output_type": "display_data"
    }
   ],
   "source": [
    "# Run this cell before continuing.\n",
    "sampling_distribution + scale_x_continuous(breaks = seq(500000, 1000000, 100000),\n",
    "                                           labels = scales::dollar_format())"
   ]
  },
  {
   "cell_type": "markdown",
   "metadata": {
    "nbgrader": {
     "grade": false,
     "grade_id": "cell-22a1ff67bac51f32",
     "locked": true,
     "schema_version": 3,
     "solution": false,
     "task": false
    }
   },
   "source": [
    "**Question 3.5**\n",
    "<br> {points: 1}\n",
    "\n",
    "Considering the sampling distribution you visualized in Question 3.2 (and showed again above), within which of the following range of values (in CAD) do **most** of the sample means lie? We have printed the sampling distribution again directly above this question for your convenience.\n",
    "\n",
    "A. \\\\$700,000 to \\\\$1,000,000\n",
    "\n",
    "B. \\\\$650,000 to \\\\$800,000\n",
    "\n",
    "C. \\\\$550,000 to \\\\$700,000\n",
    "\n",
    "D. \\\\$500,000 to \\\\$600,000\n",
    "\n",
    "_Assign your answer to an object called `answer3.5`. Your answer should be a single character surrounded by quotes._"
   ]
  },
  {
   "cell_type": "code",
   "execution_count": 57,
   "metadata": {
    "nbgrader": {
     "grade": false,
     "grade_id": "cell-185c21a8d9bc1db6",
     "locked": false,
     "schema_version": 3,
     "solution": true,
     "task": false
    }
   },
   "outputs": [],
   "source": [
    "# answer3.5 <- ...\n",
    "\n",
    "### BEGIN SOLUTION\n",
    "answer3.5 <- \"C\"\n",
    "### END SOLUTION"
   ]
  },
  {
   "cell_type": "code",
   "execution_count": 58,
   "metadata": {
    "nbgrader": {
     "grade": true,
     "grade_id": "cell-83569649ee33da44",
     "locked": true,
     "points": 1,
     "schema_version": 3,
     "solution": false,
     "task": false
    }
   },
   "outputs": [
    {
     "name": "stdout",
     "output_type": "stream",
     "text": [
      "[1] \"Success!\"\n"
     ]
    }
   ],
   "source": [
    "test_3.5()"
   ]
  },
  {
   "cell_type": "markdown",
   "metadata": {
    "nbgrader": {
     "grade": false,
     "grade_id": "cell-2faa963145be56a4",
     "locked": true,
     "schema_version": 3,
     "solution": false,
     "task": false
    }
   },
   "source": [
    "**Question 3.6**\n",
    "<br> {points: 1}\n",
    "\n",
    "True or false?\n",
    "\n",
    "Taking a random sample and calculating a point estimate is a \"good guess\" of the unknown population parameter you are interested in. \n",
    "\n",
    "_Assign your answer to an object called `answer3.6`. Your answer should be either \"true\" or \"false\", surrounded by quotes._"
   ]
  },
  {
   "cell_type": "code",
   "execution_count": 59,
   "metadata": {
    "nbgrader": {
     "grade": false,
     "grade_id": "cell-bc3094d5d6c32ef5",
     "locked": false,
     "schema_version": 3,
     "solution": true,
     "task": false
    }
   },
   "outputs": [],
   "source": [
    "# answer3.6 <- ...\n",
    "\n",
    "### BEGIN SOLUTION\n",
    "answer3.6 <- \"true\"\n",
    "### END SOLUTION"
   ]
  },
  {
   "cell_type": "code",
   "execution_count": 60,
   "metadata": {
    "nbgrader": {
     "grade": true,
     "grade_id": "cell-6969f5fb23f7b4c9",
     "locked": true,
     "points": 1,
     "schema_version": 3,
     "solution": false,
     "task": false
    }
   },
   "outputs": [
    {
     "name": "stdout",
     "output_type": "stream",
     "text": [
      "[1] \"Success!\"\n"
     ]
    }
   ],
   "source": [
    "test_3.6()"
   ]
  },
  {
   "cell_type": "markdown",
   "metadata": {
    "nbgrader": {
     "grade": false,
     "grade_id": "cell-273734adaa8bd084",
     "locked": true,
     "schema_version": 3,
     "solution": false,
     "task": false
    }
   },
   "source": [
    "**Question 3.7**\n",
    "<br> {points: 1}\n",
    "\n",
    "Suppose you work for a radio station in Vancouver, and the owner (your boss) is interested in selecting music based on the age of the audience. You are asked to gather a random sample of the audience and report an estimation of the mean age of the entire audience to your boss. Considering what you know about sampling distributions, which of the following **is true** regarding the estimation of the population parameter of interest (mean) using a single point estimate?\n",
    "\n",
    "A. A single point estimate might be inaccurate, depending on who ends up in the random sample. Perhaps you should hold off on this project until you learn more about the error associated with a point estimate and how you could report it to your boss.\n",
    "\n",
    "B. A single point estimate might be inaccurate, depending on who ends up in the random sample. However, you should ignore this and not report anything about this to your boss since there is much higher chance that the point estimate will be close to the true population parameter.\n",
    "\n",
    "C. A single point estimate from a random sample is guaranteed to be accurate. You can report the point estimate to your boss with complete confidence.\n",
    "\n",
    "_Assign your answer to an object called `answer3.7`. Your answer should be a single character surrounded by quotes._"
   ]
  },
  {
   "cell_type": "code",
   "execution_count": 61,
   "metadata": {
    "nbgrader": {
     "grade": false,
     "grade_id": "cell-fb7837805cdad156",
     "locked": false,
     "schema_version": 3,
     "solution": true,
     "task": false
    }
   },
   "outputs": [],
   "source": [
    "# answer3.7 <- ...\n",
    "\n",
    "### BEGIN SOLUTION\n",
    "answer3.7 <- \"A\"\n",
    "### END SOLUTION"
   ]
  },
  {
   "cell_type": "code",
   "execution_count": 62,
   "metadata": {
    "nbgrader": {
     "grade": true,
     "grade_id": "cell-10d1f7d1ec842a1f",
     "locked": true,
     "points": 1,
     "schema_version": 3,
     "solution": false,
     "task": false
    }
   },
   "outputs": [
    {
     "name": "stdout",
     "output_type": "stream",
     "text": [
      "[1] \"Success!\"\n"
     ]
    }
   ],
   "source": [
    "test_3.7()"
   ]
  },
  {
   "cell_type": "markdown",
   "metadata": {
    "nbgrader": {
     "grade": false,
     "grade_id": "cell-e88fa2107d4d8a58",
     "locked": true,
     "schema_version": 3,
     "solution": false,
     "task": false
    }
   },
   "source": [
    "### Final thoughts\n",
    "\n",
    "Congratulations! You have completed your first STAT 201 worksheet. Before you close the tab, here are a few final remarks:\n",
    "- **First, don't forget to save your work with `File` -> `Save & Checkpoint`. You should always do this periodically _(TIP: use the keybind `Ctrl+S` or `Cmd+S` to speed up the process)._**\n",
    "- Recall that we were interested in estimating the mean assessment value (`current_land_value`) for multiple family dwellings in strata housing (`multi_family_strata`).\n",
    "- Here, we had access to data to the entire population, which would defeat the purpose of \"estimating\" in reality. Usually, this is not the case. However, we went ahead and made many estimates anyways to learn about how they behave.\n",
    "- By doing this, we now understand that point estimates can vary. This knowledge will be useful when we don't have access to the entire population, and later on, we will learn how to quantify this inherent \"uncertainty\" in our point estimates and infer about how accurate they are."
   ]
  }
 ],
 "metadata": {
  "celltoolbar": "Create Assignment",
  "docker": {
   "latest_image_tag": "v0.4.0"
  },
  "jupytext": {
   "encoding": "# -*- coding: utf-8 -*-",
   "formats": "ipynb,Rmd"
  },
  "kernelspec": {
   "display_name": "R",
   "language": "R",
   "name": "ir"
  },
  "language_info": {
   "codemirror_mode": "r",
   "file_extension": ".r",
   "mimetype": "text/x-r-source",
   "name": "R",
   "pygments_lexer": "r",
   "version": "4.1.1"
  }
 },
 "nbformat": 4,
 "nbformat_minor": 4
}
