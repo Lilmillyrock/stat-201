{
 "cells": [
  {
   "cell_type": "markdown",
   "metadata": {
    "nbgrader": {
     "grade": false,
     "grade_id": "cell-0a3a16e4560c3222",
     "locked": true,
     "schema_version": 3,
     "solution": false,
     "task": false
    }
   },
   "source": [
    "# Tutorial 4: Confidence Intervals via Bootstrapping"
   ]
  },
  {
   "cell_type": "markdown",
   "metadata": {
    "nbgrader": {
     "grade": false,
     "grade_id": "cell-697926f90dfb6d3f",
     "locked": true,
     "schema_version": 3,
     "solution": false,
     "task": false
    }
   },
   "source": [
    "#### Lecture and Tutorial Learning Goals:\n",
    "From this section, students are expected to be able to:\n",
    "\n",
    "1. Define what a confidence interval is, and why we want to generate one.\n",
    "2. Explain how the bootstrap sampling distribution can be used to create confidence intervals.\n",
    "3. Write a computer script to calculate confidence intervals for a population parameter using bootstrapping.\n",
    "4. Effectively visualize point estimates and confidence intervals.\n",
    "5. Interpret and explain results from confidence intervals.\n",
    "6. Discuss the potential limitations of these methods."
   ]
  },
  {
   "cell_type": "code",
   "execution_count": 1,
   "metadata": {
    "nbgrader": {
     "grade": false,
     "grade_id": "cell-9d4ab0c1978d7fc8",
     "locked": true,
     "schema_version": 3,
     "solution": false,
     "task": false
    }
   },
   "outputs": [
    {
     "name": "stderr",
     "output_type": "stream",
     "text": [
      "── \u001b[1mAttaching packages\u001b[22m ────────────────────────────────────────────────────────────────── tidyverse 1.3.1 ──\n",
      "\n",
      "\u001b[32m✔\u001b[39m \u001b[34mggplot2\u001b[39m 3.3.5     \u001b[32m✔\u001b[39m \u001b[34mpurrr  \u001b[39m 0.3.4\n",
      "\u001b[32m✔\u001b[39m \u001b[34mtibble \u001b[39m 3.1.5     \u001b[32m✔\u001b[39m \u001b[34mdplyr  \u001b[39m 1.0.7\n",
      "\u001b[32m✔\u001b[39m \u001b[34mtidyr  \u001b[39m 1.1.4     \u001b[32m✔\u001b[39m \u001b[34mstringr\u001b[39m 1.4.0\n",
      "\u001b[32m✔\u001b[39m \u001b[34mreadr  \u001b[39m 2.0.2     \u001b[32m✔\u001b[39m \u001b[34mforcats\u001b[39m 0.5.1\n",
      "\n",
      "── \u001b[1mConflicts\u001b[22m ───────────────────────────────────────────────────────────────────── tidyverse_conflicts() ──\n",
      "\u001b[31m✖\u001b[39m \u001b[34mdplyr\u001b[39m::\u001b[32mfilter()\u001b[39m masks \u001b[34mstats\u001b[39m::filter()\n",
      "\u001b[31m✖\u001b[39m \u001b[34mdplyr\u001b[39m::\u001b[32mlag()\u001b[39m    masks \u001b[34mstats\u001b[39m::lag()\n",
      "\n",
      "\n",
      "Attaching package: ‘testthat’\n",
      "\n",
      "\n",
      "The following object is masked from ‘package:dplyr’:\n",
      "\n",
      "    matches\n",
      "\n",
      "\n",
      "The following object is masked from ‘package:purrr’:\n",
      "\n",
      "    is_null\n",
      "\n",
      "\n",
      "The following objects are masked from ‘package:readr’:\n",
      "\n",
      "    edition_get, local_edition\n",
      "\n",
      "\n",
      "The following object is masked from ‘package:tidyr’:\n",
      "\n",
      "    matches\n",
      "\n",
      "\n"
     ]
    }
   ],
   "source": [
    "# Run this cell before continuing.\n",
    "library(cowplot)\n",
    "library(datateachr)\n",
    "library(digest)\n",
    "library(infer)\n",
    "library(repr)\n",
    "library(taxyvr)\n",
    "library(tidyverse)\n",
    "source(\"tests_tutorial_04.R\")"
   ]
  },
  {
   "cell_type": "markdown",
   "metadata": {
    "nbgrader": {
     "grade": false,
     "grade_id": "cell-8f98efcea21ec2e0",
     "locked": true,
     "schema_version": 3,
     "solution": false,
     "task": false
    }
   },
   "source": [
    "## 1. Steam Games\n",
    "\n",
    "For the first part of this tutorial, we'll be working with a dataset that contains various attributes, including the name, original price, genre, and description, of over 40,000 different games available on Steam. Steam is a platform where video games (and some other types of applications) are distributed digitally. Essentially, Steam acts as a digital game store and library. Although this particular dataset was compiled in 2019, for this tutorial, we will assume we have data for the entire population for simplicity.\n",
    "\n",
    "\n",
    "<img src=\"https://steamcdn-a.akamaihd.net/store/about/social-og.jpg\" width=500>\n",
    "<div style=\"text-align: center\"><i>Image from <a href=\"https://store.steampowered.com/about/\">store.steampowered.com</i></a></div><br>\n",
    "\n",
    "This data set, like several of the others we have worked with so far, is included in the `datateachr` package under the object name `steam_games`. The original source of the data set can be found in the documentation (`?steam_games`). We are interested in calculating a **90% confidence interval** for the **median of the `original_price`** of the games in the population. Afterwards, we will interpret the confidence interval and, because we are lucky enough to have access to data for the entire finite population, we will calculate the true median and see whether it is captured by our confidence interval."
   ]
  },
  {
   "cell_type": "code",
   "execution_count": 2,
   "metadata": {
    "nbgrader": {
     "grade": false,
     "grade_id": "cell-ad245a9f4e1c5358",
     "locked": true,
     "schema_version": 3,
     "solution": false,
     "task": false
    }
   },
   "outputs": [
    {
     "name": "stderr",
     "output_type": "stream",
     "text": [
      "Warning message in seq_len(head.end.idx):\n",
      "“first element used of 'length.out' argument”\n",
      "ERROR while rich displaying an object: Error in seq_len(head.end.idx): argument must be coercible to non-negative integer\n",
      "\n",
      "Traceback:\n",
      "1. FUN(X[[i]], ...)\n",
      "2. tryCatch(withCallingHandlers({\n",
      " .     if (!mime %in% names(repr::mime2repr)) \n",
      " .         stop(\"No repr_* for mimetype \", mime, \" in repr::mime2repr\")\n",
      " .     rpr <- repr::mime2repr[[mime]](obj)\n",
      " .     if (is.null(rpr)) \n",
      " .         return(NULL)\n",
      " .     prepare_content(is.raw(rpr), rpr)\n",
      " . }, error = error_handler), error = outer_handler)\n",
      "3. tryCatchList(expr, classes, parentenv, handlers)\n",
      "4. tryCatchOne(expr, names, parentenv, handlers[[1L]])\n",
      "5. doTryCatch(return(expr), name, parentenv, handler)\n",
      "6. withCallingHandlers({\n",
      " .     if (!mime %in% names(repr::mime2repr)) \n",
      " .         stop(\"No repr_* for mimetype \", mime, \" in repr::mime2repr\")\n",
      " .     rpr <- repr::mime2repr[[mime]](obj)\n",
      " .     if (is.null(rpr)) \n",
      " .         return(NULL)\n",
      " .     prepare_content(is.raw(rpr), rpr)\n",
      " . }, error = error_handler)\n",
      "7. repr::mime2repr[[mime]](obj)\n",
      "8. repr_html.help_files_with_topic(obj)\n",
      "9. repr_help_files_with_topic_generic(obj, Rd2HTML)\n"
     ]
    }
   ],
   "source": [
    "?steam_games"
   ]
  },
  {
   "cell_type": "markdown",
   "metadata": {
    "nbgrader": {
     "grade": false,
     "grade_id": "cell-e3af05128aa353b2",
     "locked": true,
     "schema_version": 3,
     "solution": false,
     "task": false
    }
   },
   "source": [
    "**Question 1.0** \n",
    "<br> {points: 1}\n",
    "\n",
    "Filter out all `NA` values from the variable we are interested in (`original_price`), and select only that column.\n",
    "\n",
    "**Note:** the values of `original_price` are in $USD.\n",
    "\n",
    "_Assign your data frame to an object called `steam_pop`._"
   ]
  },
  {
   "cell_type": "code",
   "execution_count": 3,
   "metadata": {
    "nbgrader": {
     "grade": false,
     "grade_id": "cell-fa279e7c87ba536d",
     "locked": false,
     "schema_version": 3,
     "solution": true,
     "task": false
    }
   },
   "outputs": [
    {
     "data": {
      "text/html": [
       "<table class=\"dataframe\">\n",
       "<caption>A tibble: 6 × 1</caption>\n",
       "<thead>\n",
       "\t<tr><th scope=col>original_price</th></tr>\n",
       "\t<tr><th scope=col>&lt;dbl&gt;</th></tr>\n",
       "</thead>\n",
       "<tbody>\n",
       "\t<tr><td>19.99</td></tr>\n",
       "\t<tr><td>29.99</td></tr>\n",
       "\t<tr><td>39.99</td></tr>\n",
       "\t<tr><td>44.99</td></tr>\n",
       "\t<tr><td> 0.00</td></tr>\n",
       "\t<tr><td>59.99</td></tr>\n",
       "</tbody>\n",
       "</table>\n"
      ],
      "text/latex": [
       "A tibble: 6 × 1\n",
       "\\begin{tabular}{l}\n",
       " original\\_price\\\\\n",
       " <dbl>\\\\\n",
       "\\hline\n",
       "\t 19.99\\\\\n",
       "\t 29.99\\\\\n",
       "\t 39.99\\\\\n",
       "\t 44.99\\\\\n",
       "\t  0.00\\\\\n",
       "\t 59.99\\\\\n",
       "\\end{tabular}\n"
      ],
      "text/markdown": [
       "\n",
       "A tibble: 6 × 1\n",
       "\n",
       "| original_price &lt;dbl&gt; |\n",
       "|---|\n",
       "| 19.99 |\n",
       "| 29.99 |\n",
       "| 39.99 |\n",
       "| 44.99 |\n",
       "|  0.00 |\n",
       "| 59.99 |\n",
       "\n"
      ],
      "text/plain": [
       "  original_price\n",
       "1 19.99         \n",
       "2 29.99         \n",
       "3 39.99         \n",
       "4 44.99         \n",
       "5  0.00         \n",
       "6 59.99         "
      ]
     },
     "metadata": {},
     "output_type": "display_data"
    }
   ],
   "source": [
    "### BEGIN SOLUTION\n",
    "steam_pop <- \n",
    "    steam_games %>% \n",
    "    filter(!is.na(original_price)) %>% \n",
    "    select(original_price)\n",
    "### END SOLUTION\n",
    "\n",
    "head(steam_pop)"
   ]
  },
  {
   "cell_type": "code",
   "execution_count": 4,
   "metadata": {
    "nbgrader": {
     "grade": true,
     "grade_id": "cell-2328820ae2dd9342",
     "locked": true,
     "points": 1,
     "schema_version": 3,
     "solution": false,
     "task": false
    }
   },
   "outputs": [
    {
     "name": "stdout",
     "output_type": "stream",
     "text": [
      "\u001b[32mTest passed\u001b[39m 🥇\n",
      "\u001b[32mTest passed\u001b[39m 🌈\n",
      "\u001b[32mTest passed\u001b[39m 🎊\n",
      "\u001b[32mTest passed\u001b[39m 🥇\n",
      "\u001b[32mTest passed\u001b[39m 🥳\n",
      "[1] \"Success!\"\n"
     ]
    }
   ],
   "source": [
    "test_1.0()"
   ]
  },
  {
   "cell_type": "markdown",
   "metadata": {
    "nbgrader": {
     "grade": false,
     "grade_id": "cell-6e83465e672d5f4a",
     "locked": true,
     "schema_version": 3,
     "solution": false,
     "task": false
    }
   },
   "source": [
    "**Question 1.1** \n",
    "<br> {points: 1}\n",
    "\n",
    "Take a single random sample of size 40 from `steam_pop` using `rep_sample_n` and a seed of 2078. After taking the sample, ensure that only the `original_price` column is selected. (_Hint: you will need to ungroup before selecting the column_.)\n",
    "\n",
    "_Assign your data frame to an object called `steam_sample`._"
   ]
  },
  {
   "cell_type": "code",
   "execution_count": 5,
   "metadata": {
    "nbgrader": {
     "grade": false,
     "grade_id": "cell-b15be21c9148990e",
     "locked": false,
     "schema_version": 3,
     "solution": true,
     "task": false
    }
   },
   "outputs": [
    {
     "data": {
      "text/html": [
       "<table class=\"dataframe\">\n",
       "<caption>A tibble: 6 × 1</caption>\n",
       "<thead>\n",
       "\t<tr><th scope=col>original_price</th></tr>\n",
       "\t<tr><th scope=col>&lt;dbl&gt;</th></tr>\n",
       "</thead>\n",
       "<tbody>\n",
       "\t<tr><td>  8.99</td></tr>\n",
       "\t<tr><td> 19.99</td></tr>\n",
       "\t<tr><td>  9.99</td></tr>\n",
       "\t<tr><td>203.95</td></tr>\n",
       "\t<tr><td> 19.99</td></tr>\n",
       "\t<tr><td>  4.99</td></tr>\n",
       "</tbody>\n",
       "</table>\n"
      ],
      "text/latex": [
       "A tibble: 6 × 1\n",
       "\\begin{tabular}{l}\n",
       " original\\_price\\\\\n",
       " <dbl>\\\\\n",
       "\\hline\n",
       "\t   8.99\\\\\n",
       "\t  19.99\\\\\n",
       "\t   9.99\\\\\n",
       "\t 203.95\\\\\n",
       "\t  19.99\\\\\n",
       "\t   4.99\\\\\n",
       "\\end{tabular}\n"
      ],
      "text/markdown": [
       "\n",
       "A tibble: 6 × 1\n",
       "\n",
       "| original_price &lt;dbl&gt; |\n",
       "|---|\n",
       "|   8.99 |\n",
       "|  19.99 |\n",
       "|   9.99 |\n",
       "| 203.95 |\n",
       "|  19.99 |\n",
       "|   4.99 |\n",
       "\n"
      ],
      "text/plain": [
       "  original_price\n",
       "1   8.99        \n",
       "2  19.99        \n",
       "3   9.99        \n",
       "4 203.95        \n",
       "5  19.99        \n",
       "6   4.99        "
      ]
     },
     "metadata": {},
     "output_type": "display_data"
    }
   ],
   "source": [
    "set.seed(2078)\n",
    "\n",
    "### BEGIN SOLUTION\n",
    "steam_sample <- \n",
    "    steam_pop %>% \n",
    "    rep_sample_n(reps = 1, size = 40, replace = FALSE) %>% \n",
    "    ungroup() %>% \n",
    "    select(original_price)\n",
    "### END SOLUTION\n",
    "\n",
    "head(steam_sample)"
   ]
  },
  {
   "cell_type": "code",
   "execution_count": 6,
   "metadata": {
    "nbgrader": {
     "grade": true,
     "grade_id": "cell-aa73f2f5d26ec1a5",
     "locked": true,
     "points": 1,
     "schema_version": 3,
     "solution": false,
     "task": false
    }
   },
   "outputs": [
    {
     "name": "stdout",
     "output_type": "stream",
     "text": [
      "\u001b[32mTest passed\u001b[39m 🥇\n",
      "\u001b[32mTest passed\u001b[39m 🥳\n",
      "\u001b[32mTest passed\u001b[39m 😀\n",
      "\u001b[32mTest passed\u001b[39m 😀\n",
      "\u001b[32mTest passed\u001b[39m 🎊\n",
      "[1] \"Success!\"\n"
     ]
    }
   ],
   "source": [
    "test_1.1()"
   ]
  },
  {
   "cell_type": "markdown",
   "metadata": {
    "nbgrader": {
     "grade": false,
     "grade_id": "cell-f8d2705dd1f8a738",
     "locked": true,
     "schema_version": 3,
     "solution": false,
     "task": false
    }
   },
   "source": [
    "**Question 1.2** \n",
    "<br> {points: 1}\n",
    "\n",
    "Take 1500 bootstrap samples from `steam_sample` using `rep_sample_n` and a seed of 9844. Then, calculate the median of each sample (name this column `bootstrap_median`). Your final data frame should have a `replicate` column and a `bootstrap_median` column.\n",
    "\n",
    "_Assign your data frame to an object called `steam_bootstrapped`._"
   ]
  },
  {
   "cell_type": "code",
   "execution_count": 7,
   "metadata": {
    "nbgrader": {
     "grade": false,
     "grade_id": "cell-fb44dfe96bbfc3e2",
     "locked": false,
     "schema_version": 3,
     "solution": true,
     "task": false
    }
   },
   "outputs": [
    {
     "data": {
      "text/html": [
       "<table class=\"dataframe\">\n",
       "<caption>A tibble: 6 × 2</caption>\n",
       "<thead>\n",
       "\t<tr><th scope=col>replicate</th><th scope=col>bootstrap_median</th></tr>\n",
       "\t<tr><th scope=col>&lt;int&gt;</th><th scope=col>&lt;dbl&gt;</th></tr>\n",
       "</thead>\n",
       "<tbody>\n",
       "\t<tr><td>1</td><td>13.49</td></tr>\n",
       "\t<tr><td>2</td><td> 4.99</td></tr>\n",
       "\t<tr><td>3</td><td> 4.99</td></tr>\n",
       "\t<tr><td>4</td><td> 8.99</td></tr>\n",
       "\t<tr><td>5</td><td> 4.99</td></tr>\n",
       "\t<tr><td>6</td><td> 9.99</td></tr>\n",
       "</tbody>\n",
       "</table>\n"
      ],
      "text/latex": [
       "A tibble: 6 × 2\n",
       "\\begin{tabular}{ll}\n",
       " replicate & bootstrap\\_median\\\\\n",
       " <int> & <dbl>\\\\\n",
       "\\hline\n",
       "\t 1 & 13.49\\\\\n",
       "\t 2 &  4.99\\\\\n",
       "\t 3 &  4.99\\\\\n",
       "\t 4 &  8.99\\\\\n",
       "\t 5 &  4.99\\\\\n",
       "\t 6 &  9.99\\\\\n",
       "\\end{tabular}\n"
      ],
      "text/markdown": [
       "\n",
       "A tibble: 6 × 2\n",
       "\n",
       "| replicate &lt;int&gt; | bootstrap_median &lt;dbl&gt; |\n",
       "|---|---|\n",
       "| 1 | 13.49 |\n",
       "| 2 |  4.99 |\n",
       "| 3 |  4.99 |\n",
       "| 4 |  8.99 |\n",
       "| 5 |  4.99 |\n",
       "| 6 |  9.99 |\n",
       "\n"
      ],
      "text/plain": [
       "  replicate bootstrap_median\n",
       "1 1         13.49           \n",
       "2 2          4.99           \n",
       "3 3          4.99           \n",
       "4 4          8.99           \n",
       "5 5          4.99           \n",
       "6 6          9.99           "
      ]
     },
     "metadata": {},
     "output_type": "display_data"
    }
   ],
   "source": [
    "set.seed(9844)\n",
    "\n",
    "### BEGIN SOLUTION\n",
    "steam_bootstrapped <- steam_sample %>% \n",
    "    rep_sample_n(reps = 1500, size = 40, replace = TRUE) %>% \n",
    "    group_by(replicate) %>% \n",
    "    summarize(bootstrap_median = median(original_price))\n",
    "### END SOLUTION\n",
    "\n",
    "head(steam_bootstrapped)"
   ]
  },
  {
   "cell_type": "code",
   "execution_count": 8,
   "metadata": {
    "nbgrader": {
     "grade": true,
     "grade_id": "cell-ac7825fd6fb09e74",
     "locked": true,
     "points": 1,
     "schema_version": 3,
     "solution": false,
     "task": false
    }
   },
   "outputs": [
    {
     "name": "stdout",
     "output_type": "stream",
     "text": [
      "\u001b[32mTest passed\u001b[39m 🎉\n",
      "\u001b[32mTest passed\u001b[39m 🥳\n",
      "\u001b[32mTest passed\u001b[39m 😀\n",
      "\u001b[32mTest passed\u001b[39m 😀\n",
      "\u001b[32mTest passed\u001b[39m 🥇\n",
      "[1] \"Success!\"\n"
     ]
    }
   ],
   "source": [
    "test_1.2()"
   ]
  },
  {
   "cell_type": "markdown",
   "metadata": {
    "nbgrader": {
     "grade": false,
     "grade_id": "cell-a81081ee88a8dcbb",
     "locked": true,
     "schema_version": 3,
     "solution": false,
     "task": false
    }
   },
   "source": [
    "**Question 1.3** \n",
    "<br> {points: 1}\n",
    "\n",
    "Use the `summarize` and `quantile` functions to calculate a 90% confidence interval for the median. Use the 0.05th and 0.95th quantiles for the lower and upper bounds of the interval, respectively. Name the column containing the lower bound of the interval `ci_lower` and the upper bound `ci_upper`.\n",
    "\n",
    "_Assign your data frame to an object called `steam_ci`._"
   ]
  },
  {
   "cell_type": "code",
   "execution_count": 9,
   "metadata": {
    "nbgrader": {
     "grade": false,
     "grade_id": "cell-32b6987424efb99e",
     "locked": false,
     "schema_version": 3,
     "solution": true,
     "task": false
    }
   },
   "outputs": [
    {
     "data": {
      "text/html": [
       "<table class=\"dataframe\">\n",
       "<caption>A tibble: 1 × 2</caption>\n",
       "<thead>\n",
       "\t<tr><th scope=col>ci_lower</th><th scope=col>ci_upper</th></tr>\n",
       "\t<tr><th scope=col>&lt;dbl&gt;</th><th scope=col>&lt;dbl&gt;</th></tr>\n",
       "</thead>\n",
       "<tbody>\n",
       "\t<tr><td>4.99</td><td>12.49</td></tr>\n",
       "</tbody>\n",
       "</table>\n"
      ],
      "text/latex": [
       "A tibble: 1 × 2\n",
       "\\begin{tabular}{ll}\n",
       " ci\\_lower & ci\\_upper\\\\\n",
       " <dbl> & <dbl>\\\\\n",
       "\\hline\n",
       "\t 4.99 & 12.49\\\\\n",
       "\\end{tabular}\n"
      ],
      "text/markdown": [
       "\n",
       "A tibble: 1 × 2\n",
       "\n",
       "| ci_lower &lt;dbl&gt; | ci_upper &lt;dbl&gt; |\n",
       "|---|---|\n",
       "| 4.99 | 12.49 |\n",
       "\n"
      ],
      "text/plain": [
       "  ci_lower ci_upper\n",
       "1 4.99     12.49   "
      ]
     },
     "metadata": {},
     "output_type": "display_data"
    }
   ],
   "source": [
    "### BEGIN SOLUTION\n",
    "steam_ci <- steam_bootstrapped %>% \n",
    "    summarize(ci_lower = quantile(bootstrap_median, 0.05),\n",
    "              ci_upper = quantile(bootstrap_median, 0.95))\n",
    "### END SOLUTION\n",
    "head(steam_ci)"
   ]
  },
  {
   "cell_type": "code",
   "execution_count": 10,
   "metadata": {
    "nbgrader": {
     "grade": true,
     "grade_id": "cell-d5e684abafd5de61",
     "locked": true,
     "points": 1,
     "schema_version": 3,
     "solution": false,
     "task": false
    }
   },
   "outputs": [
    {
     "name": "stdout",
     "output_type": "stream",
     "text": [
      "\u001b[32mTest passed\u001b[39m 🎊\n",
      "\u001b[32mTest passed\u001b[39m 🎊\n",
      "\u001b[32mTest passed\u001b[39m 😸\n",
      "\u001b[32mTest passed\u001b[39m 🌈\n",
      "\u001b[32mTest passed\u001b[39m 🥳\n",
      "[1] \"Success!\"\n"
     ]
    }
   ],
   "source": [
    "test_1.3()"
   ]
  },
  {
   "cell_type": "markdown",
   "metadata": {
    "nbgrader": {
     "grade": false,
     "grade_id": "cell-83b27ff0876de4d5",
     "locked": true,
     "schema_version": 3,
     "solution": false,
     "task": false
    }
   },
   "source": [
    "### The `infer` package workflow for bootstrapping (and calculating confidence intervals)\n",
    "\n",
    "As you may have seen in [ModernDive](https://moderndive.com/8-confidence-intervals.html#infer-workflow), there is an alternative workflow for generating bootstrap distributions and calculating confidence intervals. The benefits are outlined in [Section 8.4.2](https://moderndive.com/8-confidence-intervals.html#infer-workflow). However, to summarize, the main benefit is that it will allow us to use similar code for inference methods that we will learn about later on, so we can compare and transition from one method to another much easier. The general workflow for bootstrapping with the `infer` workflow is summarized in the chart below:\n",
    "\n",
    "<img src=\"https://d33wubrfki0l68.cloudfront.net/e7a0c87bc2cf1c53724bff5b58ff74e80224aac2/7e5fe/images/flowcharts/infer/calculate.png\n",
    "\" width=400>\n",
    "<div style=\"text-align: center\"><i>Image from <a href=\"https://moderndive.com/8-confidence-intervals.html#infer-workflow\">ModernDive</i></a></div><br>\n",
    "\n",
    "Given a sample, in the `specify` step, you \"specify\" the variable in the sample that you are interested in. With `generate`, you \"generate\" the bootstrap samples (like using `rep_sample_n`). Then, with `calculate`, you \"calculate\" the statistic you are interested in for each re-sample (like using `group_by(replicate)` and then `summarize`).\n",
    "\n",
    "Finally, you can use `get_confidence_interval` to calculate a confidence interval using our bootstrap distribution and quantiles (like using the `summarize` and `quantile` functions).\n",
    "\n",
    "Let's re-do **question 1.2** and **question 1.3** using this new workflow for practice."
   ]
  },
  {
   "cell_type": "markdown",
   "metadata": {
    "nbgrader": {
     "grade": false,
     "grade_id": "cell-d38884f4b37c73d0",
     "locked": true,
     "schema_version": 3,
     "solution": false,
     "task": false
    }
   },
   "source": [
    "**Question 1.2 (with the `infer` workflow!)** \n",
    "<br> {points: 1}\n",
    "\n",
    "Using the `infer` workflow, take 1500 bootstrap samples from `steam_sample` and calculate the **median** of each sample. Use the same seed as you did previously (9844) and the scaffolding provided below as a guide:\n",
    "\n",
    "```r\n",
    "steam_bootstrapped2 <- ... %>% \n",
    "    specify(response = ...) %>% \n",
    "    generate(type = \"bootstrap\", reps = ...) %>% \n",
    "    calculate(stat = \"...\")\n",
    "```\n",
    "\n",
    "_Assign your data frame to an object called `steam_bootstrapped2`._"
   ]
  },
  {
   "cell_type": "code",
   "execution_count": 11,
   "metadata": {
    "nbgrader": {
     "grade": false,
     "grade_id": "cell-1f0df6bdbb62604c",
     "locked": false,
     "schema_version": 3,
     "solution": true,
     "task": false
    }
   },
   "outputs": [
    {
     "data": {
      "text/html": [
       "<table class=\"dataframe\">\n",
       "<caption>A infer: 6 × 2</caption>\n",
       "<thead>\n",
       "\t<tr><th scope=col>replicate</th><th scope=col>stat</th></tr>\n",
       "\t<tr><th scope=col>&lt;int&gt;</th><th scope=col>&lt;dbl&gt;</th></tr>\n",
       "</thead>\n",
       "<tbody>\n",
       "\t<tr><td>1</td><td>13.49</td></tr>\n",
       "\t<tr><td>2</td><td> 4.99</td></tr>\n",
       "\t<tr><td>3</td><td> 4.99</td></tr>\n",
       "\t<tr><td>4</td><td> 8.99</td></tr>\n",
       "\t<tr><td>5</td><td> 4.99</td></tr>\n",
       "\t<tr><td>6</td><td> 9.99</td></tr>\n",
       "</tbody>\n",
       "</table>\n"
      ],
      "text/latex": [
       "A infer: 6 × 2\n",
       "\\begin{tabular}{ll}\n",
       " replicate & stat\\\\\n",
       " <int> & <dbl>\\\\\n",
       "\\hline\n",
       "\t 1 & 13.49\\\\\n",
       "\t 2 &  4.99\\\\\n",
       "\t 3 &  4.99\\\\\n",
       "\t 4 &  8.99\\\\\n",
       "\t 5 &  4.99\\\\\n",
       "\t 6 &  9.99\\\\\n",
       "\\end{tabular}\n"
      ],
      "text/markdown": [
       "\n",
       "A infer: 6 × 2\n",
       "\n",
       "| replicate &lt;int&gt; | stat &lt;dbl&gt; |\n",
       "|---|---|\n",
       "| 1 | 13.49 |\n",
       "| 2 |  4.99 |\n",
       "| 3 |  4.99 |\n",
       "| 4 |  8.99 |\n",
       "| 5 |  4.99 |\n",
       "| 6 |  9.99 |\n",
       "\n"
      ],
      "text/plain": [
       "  replicate stat \n",
       "1 1         13.49\n",
       "2 2          4.99\n",
       "3 3          4.99\n",
       "4 4          8.99\n",
       "5 5          4.99\n",
       "6 6          9.99"
      ]
     },
     "metadata": {},
     "output_type": "display_data"
    }
   ],
   "source": [
    "set.seed(9844) # DO NOT CHANGE\n",
    "\n",
    "### BEGIN SOLUTION\n",
    "steam_bootstrapped2 <- steam_sample %>% \n",
    "    specify(response = original_price) %>% \n",
    "    generate(type = \"bootstrap\", reps = 1500) %>% \n",
    "    calculate(stat = \"median\")\n",
    "### END SOLUTION\n",
    "head(steam_bootstrapped2)"
   ]
  },
  {
   "cell_type": "code",
   "execution_count": 12,
   "metadata": {
    "nbgrader": {
     "grade": true,
     "grade_id": "cell-b45446b574e94ceb",
     "locked": true,
     "points": 1,
     "schema_version": 3,
     "solution": false,
     "task": false
    }
   },
   "outputs": [
    {
     "name": "stdout",
     "output_type": "stream",
     "text": [
      "\u001b[32mTest passed\u001b[39m 🎉\n",
      "\u001b[32mTest passed\u001b[39m 🥳\n",
      "\u001b[32mTest passed\u001b[39m 😀\n",
      "\u001b[32mTest passed\u001b[39m 😀\n",
      "\u001b[32mTest passed\u001b[39m 🥇\n",
      "[1] \"Success!\"\n"
     ]
    }
   ],
   "source": [
    "test_1.2_infer()"
   ]
  },
  {
   "cell_type": "markdown",
   "metadata": {
    "nbgrader": {
     "grade": false,
     "grade_id": "cell-2d3f19165602c754",
     "locked": true,
     "schema_version": 3,
     "solution": false,
     "task": false
    }
   },
   "source": [
    "**Question 1.3 (with the `infer` workflow)** \n",
    "<br> {points: 1}\n",
    "\n",
    "Use the `get_confidence_interval` function with the bootstrap distribution you just generated (`steam_bootstrapped2`) to calculate a 90% confidence interval for the median. Use the scaffolding provided below as a guide:\n",
    "\n",
    "```r\n",
    "steam_ci2 <- steam_bootstrapped2 %>% \n",
    "    get_confidence_interval(level = ..., type = \"percentile\")\n",
    "\n",
    "```\n",
    "\n",
    "**Note:** you can also use the function `get_ci`, which is the same as the function `get_confidence_interval`, but it is much more concise. Try replacing `get_confidence_interval` with `get_ci`, and the result will be the same!\n",
    "\n",
    "_Assign your data frame to an object called `steam_ci2`._"
   ]
  },
  {
   "cell_type": "code",
   "execution_count": 13,
   "metadata": {
    "nbgrader": {
     "grade": false,
     "grade_id": "cell-236e2d720af60c9f",
     "locked": false,
     "schema_version": 3,
     "solution": true,
     "task": false
    }
   },
   "outputs": [
    {
     "data": {
      "text/html": [
       "<table class=\"dataframe\">\n",
       "<caption>A tibble: 1 × 2</caption>\n",
       "<thead>\n",
       "\t<tr><th scope=col>lower_ci</th><th scope=col>upper_ci</th></tr>\n",
       "\t<tr><th scope=col>&lt;dbl&gt;</th><th scope=col>&lt;dbl&gt;</th></tr>\n",
       "</thead>\n",
       "<tbody>\n",
       "\t<tr><td>4.99</td><td>12.49</td></tr>\n",
       "</tbody>\n",
       "</table>\n"
      ],
      "text/latex": [
       "A tibble: 1 × 2\n",
       "\\begin{tabular}{ll}\n",
       " lower\\_ci & upper\\_ci\\\\\n",
       " <dbl> & <dbl>\\\\\n",
       "\\hline\n",
       "\t 4.99 & 12.49\\\\\n",
       "\\end{tabular}\n"
      ],
      "text/markdown": [
       "\n",
       "A tibble: 1 × 2\n",
       "\n",
       "| lower_ci &lt;dbl&gt; | upper_ci &lt;dbl&gt; |\n",
       "|---|---|\n",
       "| 4.99 | 12.49 |\n",
       "\n"
      ],
      "text/plain": [
       "  lower_ci upper_ci\n",
       "1 4.99     12.49   "
      ]
     },
     "metadata": {},
     "output_type": "display_data"
    }
   ],
   "source": [
    "### BEGIN SOLUTION\n",
    "steam_ci2 <- steam_bootstrapped2 %>% \n",
    "    get_confidence_interval(level = 0.90, type = \"percentile\")\n",
    "### END SOLUTION\n",
    "steam_ci2"
   ]
  },
  {
   "cell_type": "code",
   "execution_count": 14,
   "metadata": {
    "nbgrader": {
     "grade": true,
     "grade_id": "cell-bcb118f1c903bc0c",
     "locked": true,
     "points": 1,
     "schema_version": 3,
     "solution": false,
     "task": false
    }
   },
   "outputs": [
    {
     "name": "stdout",
     "output_type": "stream",
     "text": [
      "\u001b[32mTest passed\u001b[39m 🎊\n",
      "\u001b[32mTest passed\u001b[39m 🎊\n",
      "\u001b[32mTest passed\u001b[39m 😸\n",
      "\u001b[32mTest passed\u001b[39m 🌈\n",
      "\u001b[32mTest passed\u001b[39m 🥳\n",
      "[1] \"Success!\"\n"
     ]
    }
   ],
   "source": [
    "test_1.3_infer()"
   ]
  },
  {
   "cell_type": "markdown",
   "metadata": {
    "nbgrader": {
     "grade": false,
     "grade_id": "cell-787bd139839ff9f2",
     "locked": true,
     "schema_version": 3,
     "solution": false,
     "task": false
    }
   },
   "source": [
    "**Question 1.4**\n",
    "<br> {points: 1}\n",
    "\n",
    "Visualize the confidence interval (`steam_ci2`) with two `geom_vline` layers on top of the bootstrap distribution (`steam_bootstrapped2`) using `geom_histogram` with bin widths of 5. Use the scaffolding provided below as a guide:\n",
    "\n",
    "```r\n",
    "steam_ci_plot <- steam_bootstrapped2 %>% \n",
    "    ggplot(aes(x = ...)) +\n",
    "    ...(binwidth = ...) +\n",
    "    ...(xintercept = steam_ci[[1]]) +\n",
    "    ...(xintercept = ...)\n",
    "```\n",
    "\n",
    "_Assign your plot to an object called `steam_ci_plot`._"
   ]
  },
  {
   "cell_type": "code",
   "execution_count": 15,
   "metadata": {
    "nbgrader": {
     "grade": false,
     "grade_id": "cell-ed597d1944e8d0f4",
     "locked": false,
     "schema_version": 3,
     "solution": true,
     "task": false
    }
   },
   "outputs": [
    {
     "data": {
      "image/png": "[encoded data removed]",
      "text/plain": [
       "plot without title"
      ]
     },
     "metadata": {
      "image/png": {
       "height": 420,
       "width": 420
      }
     },
     "output_type": "display_data"
    }
   ],
   "source": [
    "### BEGIN SOLUTION\n",
    "steam_ci_plot <- steam_bootstrapped2 %>% \n",
    "    ggplot(aes(x = stat)) +\n",
    "    geom_histogram(binwidth = 5) +\n",
    "    geom_vline(xintercept = steam_ci[[1]]) +\n",
    "    geom_vline(xintercept = steam_ci[[2]])\n",
    "### END SOLUTION\n",
    "steam_ci_plot"
   ]
  },
  {
   "cell_type": "code",
   "execution_count": 16,
   "metadata": {
    "nbgrader": {
     "grade": true,
     "grade_id": "cell-33d5d981468b489b",
     "locked": true,
     "points": 1,
     "schema_version": 3,
     "solution": false,
     "task": false
    }
   },
   "outputs": [
    {
     "name": "stdout",
     "output_type": "stream",
     "text": [
      "\u001b[32mTest passed\u001b[39m 🎊\n",
      "\u001b[32mTest passed\u001b[39m 😀\n",
      "\u001b[32mTest passed\u001b[39m 🎊\n",
      "\u001b[32mTest passed\u001b[39m 🥇\n",
      "\u001b[32mTest passed\u001b[39m 🥇\n",
      "\u001b[32mTest passed\u001b[39m 😸\n",
      "[1] \"Success!\"\n"
     ]
    }
   ],
   "source": [
    "test_1.4()"
   ]
  },
  {
   "cell_type": "markdown",
   "metadata": {
    "nbgrader": {
     "grade": false,
     "grade_id": "cell-ae991fa30d049a8c",
     "locked": true,
     "schema_version": 3,
     "solution": false,
     "task": false
    }
   },
   "source": [
    "**Question 1.5** \n",
    "<br> {points: 3}\n",
    "\n",
    "Consider the effectiveness of the plot above. If you think the plot is effective, list **at least** three reasons why. Otherwise, list **at least** three things that you would change about the plot to make it more effective."
   ]
  },
  {
   "cell_type": "markdown",
   "metadata": {
    "nbgrader": {
     "grade": true,
     "grade_id": "cell-d8bb30be9c34acae",
     "locked": false,
     "points": 1,
     "schema_version": 3,
     "solution": true,
     "task": false
    }
   },
   "source": [
    "### BEGIN SOLUTION\n",
    "Overall, the plot is ineffective. Some things to change may include:\n",
    "1. Decrease the size of the bins so the underlying bootstrap distribution is more apparent.\n",
    "2. Add a descriptive title.\n",
    "3. Add a descriptive x-axis.\n",
    "4. Make the boundaries of the confidence interval more apparent, perhaps by either\n",
    "    - Changing the colours of the vertical lines (and perhaps increase the thickness)\n",
    "    - Changing the colours of the histogram bars\n",
    "    - Add a transluscent rectangle spanning the y-axis and the confidence interval that contrasts with the histogram bars\n",
    "    - Label the boundaries of the confidence interval\n",
    "5. Add more breaks to the x-axis scale to make it easier to estimate values between the breaks.\n",
    "\n",
    "### END SOLUTION"
   ]
  },
  {
   "cell_type": "markdown",
   "metadata": {
    "nbgrader": {
     "grade": false,
     "grade_id": "cell-671f9c9171d201f1",
     "locked": true,
     "schema_version": 3,
     "solution": false,
     "task": false
    }
   },
   "source": [
    "**Question 1.6** \n",
    "<br> {points: 1}\n",
    "\n",
    "Calculate the median of the population `steam_pop`.\n",
    "\n",
    "_Assign your answer to an object called `steam_median`. Your answer should be a single number._"
   ]
  },
  {
   "cell_type": "code",
   "execution_count": 17,
   "metadata": {
    "nbgrader": {
     "grade": false,
     "grade_id": "cell-bf6e8d2bad6dbfa0",
     "locked": false,
     "schema_version": 3,
     "solution": true,
     "task": false
    }
   },
   "outputs": [
    {
     "data": {
      "text/html": [
       "4.99"
      ],
      "text/latex": [
       "4.99"
      ],
      "text/markdown": [
       "4.99"
      ],
      "text/plain": [
       "[1] 4.99"
      ]
     },
     "metadata": {},
     "output_type": "display_data"
    }
   ],
   "source": [
    "### BEGIN SOLUTION\n",
    "steam_median <- steam_pop %>% \n",
    "    pull(original_price) %>% \n",
    "    median()\n",
    "### END SOLUTION\n",
    "steam_median"
   ]
  },
  {
   "cell_type": "code",
   "execution_count": 18,
   "metadata": {
    "nbgrader": {
     "grade": true,
     "grade_id": "cell-54bb7b760cdd994e",
     "locked": true,
     "points": 1,
     "schema_version": 3,
     "solution": false,
     "task": false
    }
   },
   "outputs": [
    {
     "name": "stdout",
     "output_type": "stream",
     "text": [
      "\u001b[32mTest passed\u001b[39m 🌈\n",
      "\u001b[32mTest passed\u001b[39m 🎉\n",
      "\u001b[32mTest passed\u001b[39m 🎉\n",
      "[1] \"Success!\"\n"
     ]
    }
   ],
   "source": [
    "test_1.6()"
   ]
  },
  {
   "cell_type": "markdown",
   "metadata": {
    "nbgrader": {
     "grade": false,
     "grade_id": "cell-479025f4f0b088ae",
     "locked": true,
     "schema_version": 3,
     "solution": false,
     "task": false
    }
   },
   "source": [
    "**Question 1.7**\n",
    "<br>{points: 1}\n",
    "\n",
    "True or false?\n",
    "\n",
    "The confidence interval `steam_ci` captures the parameter of interest.\n",
    "\n",
    "_Assign your answer to an object called `answer1.7`. Your answer should be either \"true\" or \"false\", surrounded by quotes._"
   ]
  },
  {
   "cell_type": "code",
   "execution_count": 19,
   "metadata": {
    "nbgrader": {
     "grade": false,
     "grade_id": "cell-667d895a7bdce38f",
     "locked": false,
     "schema_version": 3,
     "solution": true,
     "task": false
    }
   },
   "outputs": [],
   "source": [
    "# answer1.7 <- ...\n",
    "\n",
    "### BEGIN SOLUTION\n",
    "answer1.7 <- \"true\"\n",
    "### END SOLUTION"
   ]
  },
  {
   "cell_type": "code",
   "execution_count": 20,
   "metadata": {
    "nbgrader": {
     "grade": true,
     "grade_id": "cell-d4ea9b654f5ac678",
     "locked": true,
     "points": 1,
     "schema_version": 3,
     "solution": false,
     "task": false
    }
   },
   "outputs": [
    {
     "name": "stdout",
     "output_type": "stream",
     "text": [
      "\u001b[32mTest passed\u001b[39m 🥇\n",
      "\u001b[32mTest passed\u001b[39m 🥳\n",
      "\u001b[32mTest passed\u001b[39m 🎉\n",
      "[1] \"Success!\"\n"
     ]
    }
   ],
   "source": [
    "test_1.7()"
   ]
  },
  {
   "cell_type": "markdown",
   "metadata": {
    "nbgrader": {
     "grade": false,
     "grade_id": "cell-ad40e9e61ba37ed6",
     "locked": true,
     "schema_version": 3,
     "solution": false,
     "task": false
    }
   },
   "source": [
    "**Question 1.8**\n",
    "<br>{points: 1}\n",
    "\n",
    "Suppose you repeated the process above and took 100 more samples and calculated a 90% cofidence interval for each sample. How many of the 100 intervals would you expect to capture the true median of the population?\n",
    "\n",
    "_Assign your answer to an object called `answer1.8`. Your answer should be a single integer._"
   ]
  },
  {
   "cell_type": "code",
   "execution_count": 21,
   "metadata": {
    "nbgrader": {
     "grade": false,
     "grade_id": "cell-20d3a4e79a063c02",
     "locked": false,
     "schema_version": 3,
     "solution": true,
     "task": false
    }
   },
   "outputs": [],
   "source": [
    "# answer1.8 <- ...\n",
    "\n",
    "### BEGIN SOLUTION\n",
    "answer1.8 <- 90\n",
    "### END SOLUTION"
   ]
  },
  {
   "cell_type": "code",
   "execution_count": 22,
   "metadata": {
    "nbgrader": {
     "grade": true,
     "grade_id": "cell-8e27b4947d4866fb",
     "locked": true,
     "points": 1,
     "schema_version": 3,
     "solution": false,
     "task": false
    }
   },
   "outputs": [
    {
     "name": "stdout",
     "output_type": "stream",
     "text": [
      "\u001b[32mTest passed\u001b[39m 😸\n",
      "\u001b[32mTest passed\u001b[39m 🎉\n",
      "\u001b[32mTest passed\u001b[39m 🥳\n",
      "\u001b[32mTest passed\u001b[39m 🎊\n",
      "[1] \"Success!\"\n"
     ]
    }
   ],
   "source": [
    "# Here we check to see if you have given your answer the correct object name\n",
    "# and if your answer is plausible. However, all other tests have been hidden\n",
    "# so you can practice deciding when you have the correct answer.\n",
    "test_that('Did not assign answer to an object called \"answer1.8\"', {\n",
    "  expect_true(exists(\"answer1.8\"))\n",
    "})\n",
    "answer_as_numeric <- as.numeric(answer1.8)\n",
    "test_that(\"Solution should be a number\", {\n",
    "  expect_false(is.na(answer_as_numeric))\n",
    "})\n",
    "test_that(\"Solution should be an integer\", {\n",
    "  expect_true(answer_as_numeric %% 1 == 0)\n",
    "})\n",
    "### BEGIN HIDDEN TESTS\n",
    "test_that(\"Solution is incorrect\", {\n",
    "  expect_equal(digest(answer_as_numeric), \"ccff14b67a1584858596ab658dbc1e4d\")\n",
    "})\n",
    "print(\"Success!\")\n",
    "### END HIDDEN TESTS"
   ]
  },
  {
   "cell_type": "markdown",
   "metadata": {
    "nbgrader": {
     "grade": false,
     "grade_id": "cell-90ccaf35bb6ea089",
     "locked": true,
     "schema_version": 3,
     "solution": false,
     "task": false
    }
   },
   "source": [
    "## 2. Breast Cancer Diagnosis\n",
    "\n",
    "In this section, we'll be working with a sample of characteristics of the cell nuclei of various breast masses. The data originates from University of Wisconsin Hospital, where a physician named Dr. William H. Wolberg obtained samples of breast lumps (or tumors) using a fine needle aspiration (FNA) biopsy. Images of the samples were digitized to compute the characteristics of the nuclei that you can find in the sample to work towards Dr. Wolberg's original goal of diagnosing new tumours mathematically using only a single FNA [(he was quite successful!)](https://www.pnas.org/content/87/23/9193.short). In the sample, the nuclei characteristics have been paired with the ultimate diagnosis of the mass (benign or malignant).\n",
    "\n",
    "<img src=\"http://pages.cs.wisc.edu/~street/saves/xcyt1.gif\n",
    "\" width=500>\n",
    "<div style=\"text-align: center\">A screenshot from Xcyt, a program that was developed by Dr. Wolberg for breast mass diagnoses using these data.<br><i>Image from <a href=\"https://moderndive.com/8-confidence-intervals.html#infer-workflow\">pages.cs.wisc.edu</i></a></div><br>\n",
    "\n",
    "This sample is located in the `datateachr` package, and is named `cancer_sample`. We are  interested in estimating the **proportion of the patients from the population whose breast masses are malignant** (`diagnosis == \"M\"`)."
   ]
  },
  {
   "cell_type": "code",
   "execution_count": 23,
   "metadata": {
    "nbgrader": {
     "grade": false,
     "grade_id": "cell-97d69e73d0674bea",
     "locked": true,
     "schema_version": 3,
     "solution": false,
     "task": false
    }
   },
   "outputs": [
    {
     "data": {
      "text/html": [
       "<table class=\"dataframe\">\n",
       "<caption>A tibble: 6 × 32</caption>\n",
       "<thead>\n",
       "\t<tr><th scope=col>ID</th><th scope=col>diagnosis</th><th scope=col>radius_mean</th><th scope=col>texture_mean</th><th scope=col>perimeter_mean</th><th scope=col>area_mean</th><th scope=col>smoothness_mean</th><th scope=col>compactness_mean</th><th scope=col>concavity_mean</th><th scope=col>concave_points_mean</th><th scope=col>⋯</th><th scope=col>radius_worst</th><th scope=col>texture_worst</th><th scope=col>perimeter_worst</th><th scope=col>area_worst</th><th scope=col>smoothness_worst</th><th scope=col>compactness_worst</th><th scope=col>concavity_worst</th><th scope=col>concave_points_worst</th><th scope=col>symmetry_worst</th><th scope=col>fractal_dimension_worst</th></tr>\n",
       "\t<tr><th scope=col>&lt;dbl&gt;</th><th scope=col>&lt;chr&gt;</th><th scope=col>&lt;dbl&gt;</th><th scope=col>&lt;dbl&gt;</th><th scope=col>&lt;dbl&gt;</th><th scope=col>&lt;dbl&gt;</th><th scope=col>&lt;dbl&gt;</th><th scope=col>&lt;dbl&gt;</th><th scope=col>&lt;dbl&gt;</th><th scope=col>&lt;dbl&gt;</th><th scope=col>⋯</th><th scope=col>&lt;dbl&gt;</th><th scope=col>&lt;dbl&gt;</th><th scope=col>&lt;dbl&gt;</th><th scope=col>&lt;dbl&gt;</th><th scope=col>&lt;dbl&gt;</th><th scope=col>&lt;dbl&gt;</th><th scope=col>&lt;dbl&gt;</th><th scope=col>&lt;dbl&gt;</th><th scope=col>&lt;dbl&gt;</th><th scope=col>&lt;dbl&gt;</th></tr>\n",
       "</thead>\n",
       "<tbody>\n",
       "\t<tr><td>  842302</td><td>M</td><td>17.99</td><td>10.38</td><td>122.80</td><td>1001.0</td><td>0.11840</td><td>0.27760</td><td>0.3001</td><td>0.14710</td><td>⋯</td><td>25.38</td><td>17.33</td><td>184.60</td><td>2019.0</td><td>0.1622</td><td>0.6656</td><td>0.7119</td><td>0.2654</td><td>0.4601</td><td>0.11890</td></tr>\n",
       "\t<tr><td>  842517</td><td>M</td><td>20.57</td><td>17.77</td><td>132.90</td><td>1326.0</td><td>0.08474</td><td>0.07864</td><td>0.0869</td><td>0.07017</td><td>⋯</td><td>24.99</td><td>23.41</td><td>158.80</td><td>1956.0</td><td>0.1238</td><td>0.1866</td><td>0.2416</td><td>0.1860</td><td>0.2750</td><td>0.08902</td></tr>\n",
       "\t<tr><td>84300903</td><td>M</td><td>19.69</td><td>21.25</td><td>130.00</td><td>1203.0</td><td>0.10960</td><td>0.15990</td><td>0.1974</td><td>0.12790</td><td>⋯</td><td>23.57</td><td>25.53</td><td>152.50</td><td>1709.0</td><td>0.1444</td><td>0.4245</td><td>0.4504</td><td>0.2430</td><td>0.3613</td><td>0.08758</td></tr>\n",
       "\t<tr><td>84348301</td><td>M</td><td>11.42</td><td>20.38</td><td> 77.58</td><td> 386.1</td><td>0.14250</td><td>0.28390</td><td>0.2414</td><td>0.10520</td><td>⋯</td><td>14.91</td><td>26.50</td><td> 98.87</td><td> 567.7</td><td>0.2098</td><td>0.8663</td><td>0.6869</td><td>0.2575</td><td>0.6638</td><td>0.17300</td></tr>\n",
       "\t<tr><td>84358402</td><td>M</td><td>20.29</td><td>14.34</td><td>135.10</td><td>1297.0</td><td>0.10030</td><td>0.13280</td><td>0.1980</td><td>0.10430</td><td>⋯</td><td>22.54</td><td>16.67</td><td>152.20</td><td>1575.0</td><td>0.1374</td><td>0.2050</td><td>0.4000</td><td>0.1625</td><td>0.2364</td><td>0.07678</td></tr>\n",
       "\t<tr><td>  843786</td><td>M</td><td>12.45</td><td>15.70</td><td> 82.57</td><td> 477.1</td><td>0.12780</td><td>0.17000</td><td>0.1578</td><td>0.08089</td><td>⋯</td><td>15.47</td><td>23.75</td><td>103.40</td><td> 741.6</td><td>0.1791</td><td>0.5249</td><td>0.5355</td><td>0.1741</td><td>0.3985</td><td>0.12440</td></tr>\n",
       "</tbody>\n",
       "</table>\n"
      ],
      "text/latex": [
       "A tibble: 6 × 32\n",
       "\\begin{tabular}{lllllllllllllllllllll}\n",
       " ID & diagnosis & radius\\_mean & texture\\_mean & perimeter\\_mean & area\\_mean & smoothness\\_mean & compactness\\_mean & concavity\\_mean & concave\\_points\\_mean & ⋯ & radius\\_worst & texture\\_worst & perimeter\\_worst & area\\_worst & smoothness\\_worst & compactness\\_worst & concavity\\_worst & concave\\_points\\_worst & symmetry\\_worst & fractal\\_dimension\\_worst\\\\\n",
       " <dbl> & <chr> & <dbl> & <dbl> & <dbl> & <dbl> & <dbl> & <dbl> & <dbl> & <dbl> & ⋯ & <dbl> & <dbl> & <dbl> & <dbl> & <dbl> & <dbl> & <dbl> & <dbl> & <dbl> & <dbl>\\\\\n",
       "\\hline\n",
       "\t   842302 & M & 17.99 & 10.38 & 122.80 & 1001.0 & 0.11840 & 0.27760 & 0.3001 & 0.14710 & ⋯ & 25.38 & 17.33 & 184.60 & 2019.0 & 0.1622 & 0.6656 & 0.7119 & 0.2654 & 0.4601 & 0.11890\\\\\n",
       "\t   842517 & M & 20.57 & 17.77 & 132.90 & 1326.0 & 0.08474 & 0.07864 & 0.0869 & 0.07017 & ⋯ & 24.99 & 23.41 & 158.80 & 1956.0 & 0.1238 & 0.1866 & 0.2416 & 0.1860 & 0.2750 & 0.08902\\\\\n",
       "\t 84300903 & M & 19.69 & 21.25 & 130.00 & 1203.0 & 0.10960 & 0.15990 & 0.1974 & 0.12790 & ⋯ & 23.57 & 25.53 & 152.50 & 1709.0 & 0.1444 & 0.4245 & 0.4504 & 0.2430 & 0.3613 & 0.08758\\\\\n",
       "\t 84348301 & M & 11.42 & 20.38 &  77.58 &  386.1 & 0.14250 & 0.28390 & 0.2414 & 0.10520 & ⋯ & 14.91 & 26.50 &  98.87 &  567.7 & 0.2098 & 0.8663 & 0.6869 & 0.2575 & 0.6638 & 0.17300\\\\\n",
       "\t 84358402 & M & 20.29 & 14.34 & 135.10 & 1297.0 & 0.10030 & 0.13280 & 0.1980 & 0.10430 & ⋯ & 22.54 & 16.67 & 152.20 & 1575.0 & 0.1374 & 0.2050 & 0.4000 & 0.1625 & 0.2364 & 0.07678\\\\\n",
       "\t   843786 & M & 12.45 & 15.70 &  82.57 &  477.1 & 0.12780 & 0.17000 & 0.1578 & 0.08089 & ⋯ & 15.47 & 23.75 & 103.40 &  741.6 & 0.1791 & 0.5249 & 0.5355 & 0.1741 & 0.3985 & 0.12440\\\\\n",
       "\\end{tabular}\n"
      ],
      "text/markdown": [
       "\n",
       "A tibble: 6 × 32\n",
       "\n",
       "| ID &lt;dbl&gt; | diagnosis &lt;chr&gt; | radius_mean &lt;dbl&gt; | texture_mean &lt;dbl&gt; | perimeter_mean &lt;dbl&gt; | area_mean &lt;dbl&gt; | smoothness_mean &lt;dbl&gt; | compactness_mean &lt;dbl&gt; | concavity_mean &lt;dbl&gt; | concave_points_mean &lt;dbl&gt; | ⋯ ⋯ | radius_worst &lt;dbl&gt; | texture_worst &lt;dbl&gt; | perimeter_worst &lt;dbl&gt; | area_worst &lt;dbl&gt; | smoothness_worst &lt;dbl&gt; | compactness_worst &lt;dbl&gt; | concavity_worst &lt;dbl&gt; | concave_points_worst &lt;dbl&gt; | symmetry_worst &lt;dbl&gt; | fractal_dimension_worst &lt;dbl&gt; |\n",
       "|---|---|---|---|---|---|---|---|---|---|---|---|---|---|---|---|---|---|---|---|---|\n",
       "|   842302 | M | 17.99 | 10.38 | 122.80 | 1001.0 | 0.11840 | 0.27760 | 0.3001 | 0.14710 | ⋯ | 25.38 | 17.33 | 184.60 | 2019.0 | 0.1622 | 0.6656 | 0.7119 | 0.2654 | 0.4601 | 0.11890 |\n",
       "|   842517 | M | 20.57 | 17.77 | 132.90 | 1326.0 | 0.08474 | 0.07864 | 0.0869 | 0.07017 | ⋯ | 24.99 | 23.41 | 158.80 | 1956.0 | 0.1238 | 0.1866 | 0.2416 | 0.1860 | 0.2750 | 0.08902 |\n",
       "| 84300903 | M | 19.69 | 21.25 | 130.00 | 1203.0 | 0.10960 | 0.15990 | 0.1974 | 0.12790 | ⋯ | 23.57 | 25.53 | 152.50 | 1709.0 | 0.1444 | 0.4245 | 0.4504 | 0.2430 | 0.3613 | 0.08758 |\n",
       "| 84348301 | M | 11.42 | 20.38 |  77.58 |  386.1 | 0.14250 | 0.28390 | 0.2414 | 0.10520 | ⋯ | 14.91 | 26.50 |  98.87 |  567.7 | 0.2098 | 0.8663 | 0.6869 | 0.2575 | 0.6638 | 0.17300 |\n",
       "| 84358402 | M | 20.29 | 14.34 | 135.10 | 1297.0 | 0.10030 | 0.13280 | 0.1980 | 0.10430 | ⋯ | 22.54 | 16.67 | 152.20 | 1575.0 | 0.1374 | 0.2050 | 0.4000 | 0.1625 | 0.2364 | 0.07678 |\n",
       "|   843786 | M | 12.45 | 15.70 |  82.57 |  477.1 | 0.12780 | 0.17000 | 0.1578 | 0.08089 | ⋯ | 15.47 | 23.75 | 103.40 |  741.6 | 0.1791 | 0.5249 | 0.5355 | 0.1741 | 0.3985 | 0.12440 |\n",
       "\n"
      ],
      "text/plain": [
       "  ID       diagnosis radius_mean texture_mean perimeter_mean area_mean\n",
       "1   842302 M         17.99       10.38        122.80         1001.0   \n",
       "2   842517 M         20.57       17.77        132.90         1326.0   \n",
       "3 84300903 M         19.69       21.25        130.00         1203.0   \n",
       "4 84348301 M         11.42       20.38         77.58          386.1   \n",
       "5 84358402 M         20.29       14.34        135.10         1297.0   \n",
       "6   843786 M         12.45       15.70         82.57          477.1   \n",
       "  smoothness_mean compactness_mean concavity_mean concave_points_mean ⋯\n",
       "1 0.11840         0.27760          0.3001         0.14710             ⋯\n",
       "2 0.08474         0.07864          0.0869         0.07017             ⋯\n",
       "3 0.10960         0.15990          0.1974         0.12790             ⋯\n",
       "4 0.14250         0.28390          0.2414         0.10520             ⋯\n",
       "5 0.10030         0.13280          0.1980         0.10430             ⋯\n",
       "6 0.12780         0.17000          0.1578         0.08089             ⋯\n",
       "  radius_worst texture_worst perimeter_worst area_worst smoothness_worst\n",
       "1 25.38        17.33         184.60          2019.0     0.1622          \n",
       "2 24.99        23.41         158.80          1956.0     0.1238          \n",
       "3 23.57        25.53         152.50          1709.0     0.1444          \n",
       "4 14.91        26.50          98.87           567.7     0.2098          \n",
       "5 22.54        16.67         152.20          1575.0     0.1374          \n",
       "6 15.47        23.75         103.40           741.6     0.1791          \n",
       "  compactness_worst concavity_worst concave_points_worst symmetry_worst\n",
       "1 0.6656            0.7119          0.2654               0.4601        \n",
       "2 0.1866            0.2416          0.1860               0.2750        \n",
       "3 0.4245            0.4504          0.2430               0.3613        \n",
       "4 0.8663            0.6869          0.2575               0.6638        \n",
       "5 0.2050            0.4000          0.1625               0.2364        \n",
       "6 0.5249            0.5355          0.1741               0.3985        \n",
       "  fractal_dimension_worst\n",
       "1 0.11890                \n",
       "2 0.08902                \n",
       "3 0.08758                \n",
       "4 0.17300                \n",
       "5 0.07678                \n",
       "6 0.12440                "
      ]
     },
     "metadata": {},
     "output_type": "display_data"
    }
   ],
   "source": [
    "# Run this cell before continuing.\n",
    "head(cancer_sample)"
   ]
  },
  {
   "cell_type": "markdown",
   "metadata": {
    "nbgrader": {
     "grade": false,
     "grade_id": "cell-40898ae24f137226",
     "locked": true,
     "schema_version": 3,
     "solution": false,
     "task": false
    }
   },
   "source": [
    "**Question 2.0**\n",
    "<br>{points: 3}\n",
    "\n",
    "Describe the population from which the sample `cancer_sample` was drawn from.\n",
    "\n",
    "**Note:** this question has a fairly wide range of acceptable answers!"
   ]
  },
  {
   "cell_type": "markdown",
   "metadata": {
    "nbgrader": {
     "grade": true,
     "grade_id": "cell-c8e6f6b5bbccd05b",
     "locked": false,
     "points": 1,
     "schema_version": 3,
     "solution": true,
     "task": false
    }
   },
   "source": [
    "### BEGIN SOLUTION\n",
    "This question has a wide range of acceptable answers. Your answer depends on which group you suspect this sample is representative of (this is unclear). Here are two examples:\n",
    "1. The population is the set of all people in the world with breast lumps, assuming that the sample is representative of this group. \n",
    "2. More realistically, perhaps the population is the set of all people in the United States with breast lumps, assuming that the sample is representative of this group.\n",
    "\n",
    "Regardless, there must be some mention of set of all **people with breast lumps** for full credit.\n",
    "### END SOLUTION"
   ]
  },
  {
   "cell_type": "markdown",
   "metadata": {
    "nbgrader": {
     "grade": false,
     "grade_id": "cell-26332d818a4387fa",
     "locked": true,
     "schema_version": 3,
     "solution": false,
     "task": false
    }
   },
   "source": [
    "**Question 2.1**\n",
    "<br>{points: 3}\n",
    "\n",
    "Use the `infer` package workflow to calculate an 80% confidence interval for the proportion with malignant breast masses (`diagnosis == \"M\"`), using bootstrapping with 1000 replicates. Set your seed to 8943. Your final dataframe should have a single row and two columns named `lower_ci` and `upper_ci`.\n",
    "\n",
    "**Hint:** If you're stuck, don't be afraid to explore the [documentation for the `infer` package](https://cran.r-project.org/web/packages/infer/infer.pdf), peek at [Section 8.5 of ModernDive](https://moderndive.com/8-confidence-intervals.html#one-prop-ci), or ask someone for help! You can use your code from the previous section as a blueprint.\n",
    "\n",
    "_Assign your data frame to an object called `cancer_ci`._"
   ]
  },
  {
   "cell_type": "code",
   "execution_count": 24,
   "metadata": {
    "nbgrader": {
     "grade": false,
     "grade_id": "cell-b3208e919708e3a6",
     "locked": false,
     "schema_version": 3,
     "solution": true,
     "task": false
    }
   },
   "outputs": [
    {
     "data": {
      "text/html": [
       "<table class=\"dataframe\">\n",
       "<caption>A tibble: 1 × 2</caption>\n",
       "<thead>\n",
       "\t<tr><th scope=col>lower_ci</th><th scope=col>upper_ci</th></tr>\n",
       "\t<tr><th scope=col>&lt;dbl&gt;</th><th scope=col>&lt;dbl&gt;</th></tr>\n",
       "</thead>\n",
       "<tbody>\n",
       "\t<tr><td>0.3478032</td><td>0.397188</td></tr>\n",
       "</tbody>\n",
       "</table>\n"
      ],
      "text/latex": [
       "A tibble: 1 × 2\n",
       "\\begin{tabular}{ll}\n",
       " lower\\_ci & upper\\_ci\\\\\n",
       " <dbl> & <dbl>\\\\\n",
       "\\hline\n",
       "\t 0.3478032 & 0.397188\\\\\n",
       "\\end{tabular}\n"
      ],
      "text/markdown": [
       "\n",
       "A tibble: 1 × 2\n",
       "\n",
       "| lower_ci &lt;dbl&gt; | upper_ci &lt;dbl&gt; |\n",
       "|---|---|\n",
       "| 0.3478032 | 0.397188 |\n",
       "\n"
      ],
      "text/plain": [
       "  lower_ci  upper_ci\n",
       "1 0.3478032 0.397188"
      ]
     },
     "metadata": {},
     "output_type": "display_data"
    }
   ],
   "source": [
    "set.seed(8943) # DO NOT CHANGE!\n",
    "\n",
    "### BEGIN SOLUTION\n",
    "cancer_ci <- cancer_sample %>% \n",
    "    specify(response = diagnosis, success = \"M\") %>% \n",
    "    generate(type = \"bootstrap\", reps = 1000) %>% \n",
    "    calculate(stat = \"prop\") %>% \n",
    "    get_ci(type = \"percentile\", level = 0.80)\n",
    "### END SOLUTION\n",
    "cancer_ci"
   ]
  },
  {
   "cell_type": "code",
   "execution_count": 25,
   "metadata": {
    "nbgrader": {
     "grade": true,
     "grade_id": "cell-a48f1ab67ab90f8f",
     "locked": true,
     "points": 1,
     "schema_version": 3,
     "solution": false,
     "task": false
    }
   },
   "outputs": [
    {
     "name": "stdout",
     "output_type": "stream",
     "text": [
      "\u001b[32mTest passed\u001b[39m 😀\n",
      "\u001b[32mTest passed\u001b[39m 🌈\n",
      "\u001b[32mTest passed\u001b[39m 🥳\n",
      "\u001b[32mTest passed\u001b[39m 😀\n",
      "\u001b[32mTest passed\u001b[39m 😸\n",
      "[1] \"Success!\"\n"
     ]
    }
   ],
   "source": [
    "test_2.1()"
   ]
  },
  {
   "cell_type": "markdown",
   "metadata": {
    "nbgrader": {
     "grade": false,
     "grade_id": "cell-c136664317b779e9",
     "locked": true,
     "schema_version": 3,
     "solution": false,
     "task": false
    }
   },
   "source": [
    "**Question 2.2**\n",
    "<br>{points: 3}\n",
    "\n",
    "Does the confidence interval capture the population parameter we are interested in? If there is no way to determine this for certain, explain why that is the case."
   ]
  },
  {
   "cell_type": "markdown",
   "metadata": {
    "nbgrader": {
     "grade": true,
     "grade_id": "cell-dace4e4a65f80abb",
     "locked": false,
     "points": 1,
     "schema_version": 3,
     "solution": true,
     "task": false
    }
   },
   "source": [
    "### BEGIN SOLUTION\n",
    "There is no way to know for certain whether our confidence interval captures the true parameter because we do not have access to data for the entire population.\n",
    "### END SOLUTION"
   ]
  },
  {
   "cell_type": "markdown",
   "metadata": {
    "nbgrader": {
     "grade": false,
     "grade_id": "cell-439bd5e9841feb5b",
     "locked": true,
     "schema_version": 3,
     "solution": false,
     "task": false
    }
   },
   "source": [
    "**Question 2.3**\n",
    "<br>{points: 3}\n",
    "\n",
    "In 1-2 sentences, explain one way you can interpret the confidence interval you calculated above (`cancer_ci`)."
   ]
  },
  {
   "cell_type": "markdown",
   "metadata": {
    "nbgrader": {
     "grade": true,
     "grade_id": "cell-7d0ade0ba996d669",
     "locked": false,
     "points": 1,
     "schema_version": 3,
     "solution": true,
     "task": false
    }
   },
   "source": [
    "### BEGIN SOLUTION\n",
    "**Solution 1:** We are 80% confident that the true proportion of individuals in our population with malignant breast lumps is captured by the confidence interval (0.3478032, 0.397188).\n",
    "\n",
    "**Solution 2:** Out of all possible confidence intervals with a confidence level of 80% that we could calculate for the proportion of individuals in the population with malignant breast lumps, the proportion of intervals that would contain the true population proportion is 0.80.\n",
    "### END SOLUTION"
   ]
  },
  {
   "cell_type": "markdown",
   "metadata": {
    "nbgrader": {
     "grade": false,
     "grade_id": "cell-e62dad9584edaeb3",
     "locked": true,
     "schema_version": 3,
     "solution": false,
     "task": false
    }
   },
   "source": [
    "**Question 2.4**\n",
    "<br>{points: 1}\n",
    "\n",
    "Suppose you calculated another 80% confidence interval for the population proportion, but with a sample that was 5 times larger than `cancer_sample`. How would you expect this second interval compare to the first confidence interval you calculated above (`cancer_ci`)?\n",
    "\n",
    "A. The second confidence interval would likely be narrower than the first.\n",
    "\n",
    "B. The second confidence interval would likely be about the same width as the first.\n",
    "\n",
    "C. The second confidence interval would likely be wider than the first.\n",
    "\n",
    "D. There is no way to tell how the second interval would compare to the first.\n",
    "\n",
    "_Assign your answer to an object called `answer2.4`. Your answer should be a single character surrounded by quotes._"
   ]
  },
  {
   "cell_type": "code",
   "execution_count": 26,
   "metadata": {
    "nbgrader": {
     "grade": false,
     "grade_id": "cell-f8ebc2b8a4e59c38",
     "locked": false,
     "schema_version": 3,
     "solution": true,
     "task": false
    }
   },
   "outputs": [],
   "source": [
    "# answer2.4 <- ...\n",
    "\n",
    "### BEGIN SOLUTION\n",
    "answer2.4 <- \"A\"\n",
    "### END SOLUTION"
   ]
  },
  {
   "cell_type": "code",
   "execution_count": 27,
   "metadata": {
    "nbgrader": {
     "grade": true,
     "grade_id": "cell-1c527e7a33c44b58",
     "locked": true,
     "points": 1,
     "schema_version": 3,
     "solution": false,
     "task": false
    }
   },
   "outputs": [
    {
     "name": "stdout",
     "output_type": "stream",
     "text": [
      "\u001b[32mTest passed\u001b[39m 🎊\n",
      "\u001b[32mTest passed\u001b[39m 🥇\n",
      "\u001b[32mTest passed\u001b[39m 😀\n",
      "[1] \"Success!\"\n"
     ]
    }
   ],
   "source": [
    "# Here we check to see if you have given your answer the correct object name\n",
    "# and if your answer is plausible. However, all other tests have been hidden\n",
    "# so you can practice deciding when you have the correct answer.\n",
    "test_that('Did not assign answer to an object called \"answer2.4\"', {\n",
    "  expect_true(exists(\"answer2.4\"))\n",
    "})\n",
    "test_that('Solution should be a single character (\"A\", \"B\", \"C\", or \"D\")', {\n",
    "  expect_match(answer2.4, \"a|b|c|d\", ignore.case = TRUE)\n",
    "})\n",
    "### BEGIN HIDDEN TESTS\n",
    "test_that(\"Solution is incorrect\", {\n",
    "  expect_equal(digest(tolower(answer2.4)), \"127a2ec00989b9f7faf671ed470be7f8\")\n",
    "})\n",
    "print(\"Success!\")\n",
    "### END HIDDEN TESTS"
   ]
  },
  {
   "cell_type": "markdown",
   "metadata": {
    "nbgrader": {
     "grade": false,
     "grade_id": "cell-ede7d2d839cfd7d4",
     "locked": true,
     "schema_version": 3,
     "solution": false,
     "task": false
    }
   },
   "source": [
    "## 3. Bow River at Banff: 100-Year Flood\n",
    "\n",
    "Sample quantiles, like the other statistics we have introduced such as the sample mean and standard deviation, can also be considered as a point estimate of a population parameter. Meaning, quantiles can be used to describe the distribution of a quantitative variable of a population; each distribution has a unique 0.4 quantile, 0.93 quantile, and so on. One common usage of quantiles is to estimate N-year floods. An N-year flood is defined as smallest possible severety for a flood that we **expect** to occur once every N years (but could occur more or less than once in any given N-year span). To calculate a point estimate N-year flood, one must find a quantile such that $\\frac{1}{N}$ known observations fall above it. Also, like the other population parameters we have mentioned, we can also calculate a **confidence interval** for this parameter, which is what we will be doing in this section.\n",
    "\n",
    "\n",
    "In 2013, a combination of factors lead to the Bow River reaching very high flow rates (466 ${\\text{m}^3}/{\\text{s}}$ near Banff), which contributed to extreme flooding throughout Alberta, the Canadian province that lies directly east of British Columbia. One photograph of the event is shown above. For many years the Government of Canada has been collecting hydrometric data at many different stations for several rivers, including the Bow River. So, what's the least severe flood due to high Bow River flow rates that Albertans can expect every 100 years? To answer this question, our goal is calculate a **95% confidence interval for the 100-year flood** (the $1 - \\frac{1}{100} = 0.99$ quantile) using the **maxima** flow rate data collected at the Banff Bow River station, recorded in ${\\text{m}^3}/{\\text{s}}$. This data is located [here](https://wateroffice.ec.gc.ca/report/historical_e.html?stn=05BB001&dataType=Annual+Extremes&parameterType=Flow&year=2018&mode=Table) but we have already tidied the data for you and included it in the `datateachr` package under the name `flow_sample`.\n",
    "\n",
    "`flow_sample` contains information about the maximum _and_ minimum flow rates for each year, so we need to filter the data set for **flow maxima**. We have done this for you in the cell below:"
   ]
  },
  {
   "cell_type": "code",
   "execution_count": 28,
   "metadata": {
    "nbgrader": {
     "grade": false,
     "grade_id": "cell-bd77bcb71614f9ea",
     "locked": true,
     "schema_version": 3,
     "solution": false,
     "task": false
    }
   },
   "outputs": [
    {
     "data": {
      "text/html": [
       "<table class=\"dataframe\">\n",
       "<caption>A tibble: 6 × 7</caption>\n",
       "<thead>\n",
       "\t<tr><th scope=col>station_id</th><th scope=col>year</th><th scope=col>extreme_type</th><th scope=col>month</th><th scope=col>day</th><th scope=col>flow</th><th scope=col>sym</th></tr>\n",
       "\t<tr><th scope=col>&lt;chr&gt;</th><th scope=col>&lt;dbl&gt;</th><th scope=col>&lt;chr&gt;</th><th scope=col>&lt;dbl&gt;</th><th scope=col>&lt;dbl&gt;</th><th scope=col>&lt;dbl&gt;</th><th scope=col>&lt;chr&gt;</th></tr>\n",
       "</thead>\n",
       "<tbody>\n",
       "\t<tr><td>05BB001</td><td>1909</td><td>maximum</td><td>7</td><td> 7</td><td>314</td><td>NA</td></tr>\n",
       "\t<tr><td>05BB001</td><td>1910</td><td>maximum</td><td>6</td><td>12</td><td>230</td><td>NA</td></tr>\n",
       "\t<tr><td>05BB001</td><td>1911</td><td>maximum</td><td>6</td><td>14</td><td>264</td><td>NA</td></tr>\n",
       "\t<tr><td>05BB001</td><td>1912</td><td>maximum</td><td>8</td><td>25</td><td>174</td><td>NA</td></tr>\n",
       "\t<tr><td>05BB001</td><td>1913</td><td>maximum</td><td>6</td><td>11</td><td>232</td><td>NA</td></tr>\n",
       "\t<tr><td>05BB001</td><td>1914</td><td>maximum</td><td>6</td><td>18</td><td>214</td><td>NA</td></tr>\n",
       "</tbody>\n",
       "</table>\n"
      ],
      "text/latex": [
       "A tibble: 6 × 7\n",
       "\\begin{tabular}{lllllll}\n",
       " station\\_id & year & extreme\\_type & month & day & flow & sym\\\\\n",
       " <chr> & <dbl> & <chr> & <dbl> & <dbl> & <dbl> & <chr>\\\\\n",
       "\\hline\n",
       "\t 05BB001 & 1909 & maximum & 7 &  7 & 314 & NA\\\\\n",
       "\t 05BB001 & 1910 & maximum & 6 & 12 & 230 & NA\\\\\n",
       "\t 05BB001 & 1911 & maximum & 6 & 14 & 264 & NA\\\\\n",
       "\t 05BB001 & 1912 & maximum & 8 & 25 & 174 & NA\\\\\n",
       "\t 05BB001 & 1913 & maximum & 6 & 11 & 232 & NA\\\\\n",
       "\t 05BB001 & 1914 & maximum & 6 & 18 & 214 & NA\\\\\n",
       "\\end{tabular}\n"
      ],
      "text/markdown": [
       "\n",
       "A tibble: 6 × 7\n",
       "\n",
       "| station_id &lt;chr&gt; | year &lt;dbl&gt; | extreme_type &lt;chr&gt; | month &lt;dbl&gt; | day &lt;dbl&gt; | flow &lt;dbl&gt; | sym &lt;chr&gt; |\n",
       "|---|---|---|---|---|---|---|\n",
       "| 05BB001 | 1909 | maximum | 7 |  7 | 314 | NA |\n",
       "| 05BB001 | 1910 | maximum | 6 | 12 | 230 | NA |\n",
       "| 05BB001 | 1911 | maximum | 6 | 14 | 264 | NA |\n",
       "| 05BB001 | 1912 | maximum | 8 | 25 | 174 | NA |\n",
       "| 05BB001 | 1913 | maximum | 6 | 11 | 232 | NA |\n",
       "| 05BB001 | 1914 | maximum | 6 | 18 | 214 | NA |\n",
       "\n"
      ],
      "text/plain": [
       "  station_id year extreme_type month day flow sym\n",
       "1 05BB001    1909 maximum      7      7  314  NA \n",
       "2 05BB001    1910 maximum      6     12  230  NA \n",
       "3 05BB001    1911 maximum      6     14  264  NA \n",
       "4 05BB001    1912 maximum      8     25  174  NA \n",
       "5 05BB001    1913 maximum      6     11  232  NA \n",
       "6 05BB001    1914 maximum      6     18  214  NA "
      ]
     },
     "metadata": {},
     "output_type": "display_data"
    }
   ],
   "source": [
    "# Run this cell before continuing.\n",
    "flow_sample <- flow_sample %>% \n",
    "    filter(extreme_type == \"maximum\")\n",
    "\n",
    "head(flow_sample)"
   ]
  },
  {
   "cell_type": "markdown",
   "metadata": {
    "nbgrader": {
     "grade": false,
     "grade_id": "cell-899204d1a64f2bfd",
     "locked": true,
     "schema_version": 3,
     "solution": false,
     "task": false
    }
   },
   "source": [
    "**Question 3.0**\n",
    "<br>{points: 3}\n",
    "\n",
    "The data contained in `flow_sample` is considered a sample. Describe the population from which the sample was drawn from.\n",
    "\n",
    "**Note:** there may more than one solution to this question depending on how one interprets \"population\"."
   ]
  },
  {
   "cell_type": "markdown",
   "metadata": {
    "nbgrader": {
     "grade": true,
     "grade_id": "cell-31c1a7ca3535d01a",
     "locked": false,
     "points": 1,
     "schema_version": 3,
     "solution": true,
     "task": false
    }
   },
   "source": [
    "### BEGIN SOLUTION\n",
    "One solution could be: You could say the population is the set of all possible years. Or, at least all the years for which the river is in existence.\n",
    "### END SOLUTION"
   ]
  },
  {
   "cell_type": "markdown",
   "metadata": {
    "nbgrader": {
     "grade": false,
     "grade_id": "cell-c6f632ef113e101b",
     "locked": true,
     "schema_version": 3,
     "solution": false,
     "task": false
    }
   },
   "source": [
    "**Question 3.1**\n",
    "<br>{points: 3}\n",
    "\n",
    "Use the `infer` package workflow to generate bootstrap distribution of the appropriate sample quantiles for `flow_sample` using 3000 bootstrap replicates. Set your seed to 4629. Your final dataframe should have the columns `replicate` and `stat`.\n",
    "\n",
    "**IMPORTANT NOTE:** because the `calculate` function does not support using quantiles as the sample statistic, here we have to use the `summarize` function. Thus, in place of the line where you would usually use `calculate` with the `infer` package workflow, you can use the following line:\n",
    "\n",
    "```r\n",
    "    ... %>%\n",
    "    summarize(stat = quantile(flow, probs = 0.99))\n",
    "```\n",
    "\n",
    "_Assign your data frame to an object called `flow_bootstrapped`._"
   ]
  },
  {
   "cell_type": "code",
   "execution_count": 29,
   "metadata": {
    "nbgrader": {
     "grade": false,
     "grade_id": "cell-0355d24604d1db72",
     "locked": false,
     "schema_version": 3,
     "solution": true,
     "task": false
    }
   },
   "outputs": [
    {
     "data": {
      "text/html": [
       "<table class=\"dataframe\">\n",
       "<caption>A tibble: 6 × 2</caption>\n",
       "<thead>\n",
       "\t<tr><th scope=col>replicate</th><th scope=col>stat</th></tr>\n",
       "\t<tr><th scope=col>&lt;int&gt;</th><th scope=col>&lt;dbl&gt;</th></tr>\n",
       "</thead>\n",
       "<tbody>\n",
       "\t<tr><td>1</td><td>456.32</td></tr>\n",
       "\t<tr><td>2</td><td>345.00</td></tr>\n",
       "\t<tr><td>3</td><td>345.00</td></tr>\n",
       "\t<tr><td>4</td><td>330.80</td></tr>\n",
       "\t<tr><td>5</td><td>458.88</td></tr>\n",
       "\t<tr><td>6</td><td>342.52</td></tr>\n",
       "</tbody>\n",
       "</table>\n"
      ],
      "text/latex": [
       "A tibble: 6 × 2\n",
       "\\begin{tabular}{ll}\n",
       " replicate & stat\\\\\n",
       " <int> & <dbl>\\\\\n",
       "\\hline\n",
       "\t 1 & 456.32\\\\\n",
       "\t 2 & 345.00\\\\\n",
       "\t 3 & 345.00\\\\\n",
       "\t 4 & 330.80\\\\\n",
       "\t 5 & 458.88\\\\\n",
       "\t 6 & 342.52\\\\\n",
       "\\end{tabular}\n"
      ],
      "text/markdown": [
       "\n",
       "A tibble: 6 × 2\n",
       "\n",
       "| replicate &lt;int&gt; | stat &lt;dbl&gt; |\n",
       "|---|---|\n",
       "| 1 | 456.32 |\n",
       "| 2 | 345.00 |\n",
       "| 3 | 345.00 |\n",
       "| 4 | 330.80 |\n",
       "| 5 | 458.88 |\n",
       "| 6 | 342.52 |\n",
       "\n"
      ],
      "text/plain": [
       "  replicate stat  \n",
       "1 1         456.32\n",
       "2 2         345.00\n",
       "3 3         345.00\n",
       "4 4         330.80\n",
       "5 5         458.88\n",
       "6 6         342.52"
      ]
     },
     "metadata": {},
     "output_type": "display_data"
    }
   ],
   "source": [
    "set.seed(4629) # DO NOT CHANGE!\n",
    "\n",
    "### BEGIN SOLUTION\n",
    "flow_bootstrapped <- flow_sample %>% \n",
    "    specify(response = flow) %>% \n",
    "    generate(type = \"bootstrap\", reps = 3000) %>% \n",
    "    summarize(stat = quantile(flow, probs = 0.99))\n",
    "### END SOLUTION\n",
    "head(flow_bootstrapped)"
   ]
  },
  {
   "cell_type": "code",
   "execution_count": 30,
   "metadata": {
    "nbgrader": {
     "grade": true,
     "grade_id": "cell-6773d36ab69a5944",
     "locked": true,
     "points": 1,
     "schema_version": 3,
     "solution": false,
     "task": false
    }
   },
   "outputs": [
    {
     "name": "stdout",
     "output_type": "stream",
     "text": [
      "\u001b[32mTest passed\u001b[39m 🎉\n",
      "\u001b[32mTest passed\u001b[39m 🎉\n",
      "\u001b[32mTest passed\u001b[39m 🎉\n",
      "\u001b[32mTest passed\u001b[39m 🎉\n",
      "\u001b[32mTest passed\u001b[39m 🎉\n",
      "[1] \"Success!\"\n"
     ]
    }
   ],
   "source": [
    "# Here we check to see if you have given your answer the correct object name\n",
    "# and if your answer is plausible. However, all other tests have been hidden\n",
    "# so you can practice deciding when you have the correct answer.\n",
    "test_that('Did not assign answer to an object called \"flow_bootstrapped\"', {\n",
    "  expect_true(exists(\"flow_bootstrapped\"))\n",
    "})\n",
    "test_that(\"Solution should be a data frame\", {\n",
    "  expect_true(\"data.frame\" %in% class(flow_bootstrapped))\n",
    "})\n",
    "### BEGIN HIDDEN TESTS\n",
    "expected_colnames <- c(\"replicate\", \"stat\")\n",
    "given_colnames <- colnames(flow_bootstrapped)\n",
    "test_that(\"Data frame does not have the correct columns\", {\n",
    "  expect_equal(length(setdiff(\n",
    "    union(expected_colnames, given_colnames),\n",
    "    intersect(expected_colnames, given_colnames)\n",
    "  )), 0)\n",
    "})\n",
    "\n",
    "test_that(\"Data frame does not contain the correct number of rows\", {\n",
    "  expect_equal(digest(as.integer(nrow(flow_bootstrapped))),\n",
    "               \"b5458e3b37771063dd9f7160eb1e653f\")\n",
    "})\n",
    "\n",
    "test_that(\"Data frame does not contain the correct data\", {\n",
    "  expect_equal(digest(as.integer(sum(flow_bootstrapped$stat) * 1000)),\n",
    "               \"344980685a9b498b9a0c9b5facc1b81d\")\n",
    "})\n",
    "\n",
    "print(\"Success!\")\n",
    "### END HIDDEN TESTS"
   ]
  },
  {
   "cell_type": "markdown",
   "metadata": {
    "nbgrader": {
     "grade": false,
     "grade_id": "cell-0654e2f42a6a3bc0",
     "locked": true,
     "schema_version": 3,
     "solution": false,
     "task": false
    }
   },
   "source": [
    "**Question 3.2**\n",
    "<br>{points: 3}\n",
    "\n",
    "Use the appropriate function from the `infer` package to calculate a 95% confidence interval for the 100-year flood from the bootstrap distribution you just generated. Your final dataframe should have a single row and two columns named `lower_ci` and `upper_ci`.\n",
    "\n",
    "_Assign your data frame to an object called `flow_ci`._"
   ]
  },
  {
   "cell_type": "code",
   "execution_count": 31,
   "metadata": {
    "nbgrader": {
     "grade": false,
     "grade_id": "cell-4b586362c8579701",
     "locked": false,
     "schema_version": 3,
     "solution": true,
     "task": false
    }
   },
   "outputs": [
    {
     "data": {
      "text/html": [
       "<table class=\"dataframe\">\n",
       "<caption>A tibble: 1 × 2</caption>\n",
       "<thead>\n",
       "\t<tr><th scope=col>lower_ci</th><th scope=col>upper_ci</th></tr>\n",
       "\t<tr><th scope=col>&lt;dbl&gt;</th><th scope=col>&lt;dbl&gt;</th></tr>\n",
       "</thead>\n",
       "<tbody>\n",
       "\t<tr><td>313.92</td><td>466</td></tr>\n",
       "</tbody>\n",
       "</table>\n"
      ],
      "text/latex": [
       "A tibble: 1 × 2\n",
       "\\begin{tabular}{ll}\n",
       " lower\\_ci & upper\\_ci\\\\\n",
       " <dbl> & <dbl>\\\\\n",
       "\\hline\n",
       "\t 313.92 & 466\\\\\n",
       "\\end{tabular}\n"
      ],
      "text/markdown": [
       "\n",
       "A tibble: 1 × 2\n",
       "\n",
       "| lower_ci &lt;dbl&gt; | upper_ci &lt;dbl&gt; |\n",
       "|---|---|\n",
       "| 313.92 | 466 |\n",
       "\n"
      ],
      "text/plain": [
       "  lower_ci upper_ci\n",
       "1 313.92   466     "
      ]
     },
     "metadata": {},
     "output_type": "display_data"
    }
   ],
   "source": [
    "### BEGIN SOLUTION\n",
    "flow_ci <- flow_bootstrapped %>% \n",
    "    get_ci(type = \"percentile\", level = 0.95)\n",
    "### END SOLUTION\n",
    "head(flow_ci)"
   ]
  },
  {
   "cell_type": "code",
   "execution_count": 32,
   "metadata": {
    "nbgrader": {
     "grade": true,
     "grade_id": "cell-0452ee4cd567c75f",
     "locked": true,
     "points": 1,
     "schema_version": 3,
     "solution": false,
     "task": false
    }
   },
   "outputs": [
    {
     "name": "stdout",
     "output_type": "stream",
     "text": [
      "\u001b[32mTest passed\u001b[39m 🥳\n",
      "\u001b[32mTest passed\u001b[39m 🌈\n",
      "\u001b[32mTest passed\u001b[39m 😀\n",
      "\u001b[32mTest passed\u001b[39m 😸\n",
      "\u001b[32mTest passed\u001b[39m 🥳\n",
      "[1] \"Success!\"\n"
     ]
    }
   ],
   "source": [
    "# Here we check to see if you have given your answer the correct object name\n",
    "# and if your answer is plausible. However, all other tests have been hidden\n",
    "# so you can practice deciding when you have the correct answer.\n",
    "test_that('Did not assign answer to an object called \"flow_ci\"', {\n",
    "  expect_true(exists(\"flow_ci\"))\n",
    "})\n",
    "test_that(\"Solution should be a data frame\", {\n",
    "  expect_true(\"data.frame\" %in% class(flow_ci))\n",
    "})\n",
    "### BEGIN HIDDEN TESTS\n",
    "expected_colnames <- c(\"lower_ci\", \"upper_ci\")\n",
    "given_colnames <- colnames(flow_ci)\n",
    "test_that(\"Data frame does not have the correct columns\", {\n",
    "  expect_equal(length(setdiff(\n",
    "    union(expected_colnames, given_colnames),\n",
    "    intersect(expected_colnames, given_colnames)\n",
    "  )), 0)\n",
    "})\n",
    "\n",
    "test_that(\"Data frame does not contain the correct number of rows\", {\n",
    "  expect_equal(digest(as.integer(nrow(flow_ci))),\n",
    "               \"4b5630ee914e848e8d07221556b0a2fb\")\n",
    "})\n",
    "\n",
    "test_that(\"Data frame does not contain the correct data\", {\n",
    "  expect_equal(digest(as.integer(flow_ci$lower_ci * 1000)),\n",
    "               \"6c75c5f700980e8e22a49f34a39f3578\")\n",
    "  expect_equal(digest(as.integer(flow_ci$upper_ci * 1000)),\n",
    "               \"18fd33d2daf5aac2f135ef8a7da79317\")\n",
    "})\n",
    "\n",
    "print(\"Success!\")\n",
    "### END HIDDEN TESTS"
   ]
  },
  {
   "cell_type": "markdown",
   "metadata": {
    "nbgrader": {
     "grade": false,
     "grade_id": "cell-38ba2cf206a30f11",
     "locked": true,
     "schema_version": 3,
     "solution": false,
     "task": false
    }
   },
   "source": [
    "**Question 3.3**\n",
    "<br> {points: 3}\n",
    "\n",
    "Create an **effective** visualization of the confidence interval `flow_ci` and its associated bootstrap distribution `flow_bootstrapped`. Use whichever layers and arguments you wish. \n",
    "\n",
    "**Hint:** if you want some inspiration, check out https://www.r-graph-gallery.com/index.html!\n",
    "\n",
    "_Assign your plot to an object called `flow_ci_plot`._"
   ]
  },
  {
   "cell_type": "code",
   "execution_count": 33,
   "metadata": {
    "nbgrader": {
     "grade": true,
     "grade_id": "cell-b2ea95c2613769e0",
     "locked": false,
     "points": 1,
     "schema_version": 3,
     "solution": true,
     "task": false
    }
   },
   "outputs": [
    {
     "name": "stderr",
     "output_type": "stream",
     "text": [
      "Warning message:\n",
      "“Removed 2 rows containing missing values (geom_bar).”\n"
     ]
    },
    {
     "data": {
      "image/png": "[encoded data removed]",
      "text/plain": [
       "plot without title"
      ]
     },
     "metadata": {
      "image/png": {
       "height": 420,
       "width": 420
      }
     },
     "output_type": "display_data"
    }
   ],
   "source": [
    "### BEGIN SOLUTION\n",
    "\n",
    "# Students should at LEAST implement the three changes they suggested for the\n",
    "# first confidence interval plot that they mentioned in question 1.5\n",
    "# (1 point for each change mentioned there)\n",
    "\n",
    "# There may be some other unique ways to display the confidence interval that\n",
    "# would also get full points so long as they convey the story well\n",
    "\n",
    "steam_ci_plot <- flow_bootstrapped %>% \n",
    "    ggplot(aes(x = stat)) +\n",
    "\n",
    "    # Use a more appropriate bin width\n",
    "    # Outline histogram bars\n",
    "    # Use contrasting, colour-blind friendly colours for histogram bars + lines\n",
    "    geom_histogram(binwidth = 10, fill = \"#480087\", colour = \"white\") +\n",
    "\n",
    "    # Increase width of CI boundary lines\n",
    "    geom_vline(xintercept = flow_ci[[1]], colour = \"#2fed2f\", size = 2) +\n",
    "    geom_vline(xintercept = flow_ci[[2]], colour = \"#2fed2f\", size = 2) +\n",
    "\n",
    "    # Add a rectangle annotation to emphasize CI bounds\n",
    "    annotate(\"rect\",\n",
    "             xmin = flow_ci[[1]], xmax = flow_ci[[2]],\n",
    "             ymin = -Inf, ymax = Inf,\n",
    "             fill = \"#2fed2f\",\n",
    "             alpha = 0.2) +\n",
    "\n",
    "    # Make room for CI boundary labels\n",
    "    scale_y_continuous(limits = c(0, 800)) +\n",
    "\n",
    "    # Increase readability of x-axis\n",
    "    scale_x_continuous(limits = c(280, 500), breaks = seq(200, 600, 20)) +\n",
    "\n",
    "    # Labels boundaries of CI\n",
    "    annotate(\"text\",\n",
    "             x = flow_ci[[1]] + 2,\n",
    "             y = 750,\n",
    "             hjust = 0,\n",
    "             label = paste(round(flow_ci[[1]]), \"m^3 / s\")) +\n",
    "    annotate(\"text\",\n",
    "             x = flow_ci[[2]] - 2,\n",
    "             y = 750,\n",
    "             hjust = 1,\n",
    "             label = paste(round(flow_ci[[2]]), \"m^3 / s\")) +\n",
    "\n",
    "    # Add descriptive labels & titles\n",
    "    labs(title = \"Simulated Bootstrap Distribution (1000 reps)\\nWith 95% C.I. For 100-Year Flood\",\n",
    "         subtitle = \"Bow River, Banff, Alberta, Hydrometric Data Station 05BB001\",\n",
    "         x = \"0.99th Quantile of Flow Maxima (m^3/s)\",\n",
    "         y = \"Frequency\") +\n",
    "\n",
    "    # Change theme for further contrast\n",
    "    theme_bw()\n",
    "### END SOLUTION\n",
    "steam_ci_plot"
   ]
  },
  {
   "cell_type": "markdown",
   "metadata": {
    "nbgrader": {
     "grade": false,
     "grade_id": "cell-d8c1d59bb6a4338c",
     "locked": true,
     "schema_version": 3,
     "solution": false,
     "task": false
    }
   },
   "source": [
    "_Use your plot above to help you answer the **next 3 questions**._"
   ]
  },
  {
   "cell_type": "markdown",
   "metadata": {
    "nbgrader": {
     "grade": false,
     "grade_id": "cell-83d097657c5a693e",
     "locked": true,
     "schema_version": 3,
     "solution": false,
     "task": false
    }
   },
   "source": [
    "**Question 3.4**\n",
    "<br>{points: 1}\n",
    "\n",
    "True or false?\n",
    "\n",
    "There is a 50% chance that the true 100-year flood value is captured by the confidence interval `flow_ci`.\n",
    "\n",
    "_Assign your answer to an object called `answer3.4`. Your answer should be either \"true\" or \"false\", surrounded by quotes._"
   ]
  },
  {
   "cell_type": "code",
   "execution_count": 34,
   "metadata": {
    "nbgrader": {
     "grade": false,
     "grade_id": "cell-d9a4eb2e56e2ecbe",
     "locked": false,
     "schema_version": 3,
     "solution": true,
     "task": false
    }
   },
   "outputs": [],
   "source": [
    "# answer3.4 <- ...\n",
    "\n",
    "### BEGIN SOLUTION\n",
    "answer3.4 <- \"false\"\n",
    "### END SOLUTION"
   ]
  },
  {
   "cell_type": "code",
   "execution_count": 35,
   "metadata": {
    "nbgrader": {
     "grade": true,
     "grade_id": "cell-3eb0b62c08bdfbe9",
     "locked": true,
     "points": 1,
     "schema_version": 3,
     "solution": false,
     "task": false
    }
   },
   "outputs": [
    {
     "name": "stdout",
     "output_type": "stream",
     "text": [
      "\u001b[32mTest passed\u001b[39m 🎊\n",
      "\u001b[32mTest passed\u001b[39m 🥳\n",
      "\u001b[32mTest passed\u001b[39m 🥳\n",
      "[1] \"Success!\"\n"
     ]
    }
   ],
   "source": [
    "# Here we check to see if you have given your answer the correct object name\n",
    "# and if your answer is plausible. However, all other tests have been hidden\n",
    "# so you can practice deciding when you have the correct answer.\n",
    "test_that('Did not assign answer to an object called \"answer3.4\"', {\n",
    "  expect_true(exists(\"answer3.4\"))\n",
    "})\n",
    "test_that('Answer should be \"true\" or \"false\"', {\n",
    "  expect_match(answer3.4, \"true|false\", ignore.case = TRUE)\n",
    "})\n",
    "### BEGIN HIDDEN TESTS\n",
    "test_that(\"Solution is incorrect\", {\n",
    "  expect_equal(digest(tolower(answer3.4)),\n",
    "               \"d2a90307aac5ae8d0ef58e2fe730d38b\")\n",
    "})\n",
    "print(\"Success!\")\n",
    "### END HIDDEN TESTS"
   ]
  },
  {
   "cell_type": "markdown",
   "metadata": {
    "nbgrader": {
     "grade": false,
     "grade_id": "cell-d03d1d2daa5f780e",
     "locked": true,
     "schema_version": 3,
     "solution": false,
     "task": false
    }
   },
   "source": [
    "**Question 3.5**\n",
    "<br>{points: 1}\n",
    "\n",
    "True or false?\n",
    "\n",
    "We are 95% confident that the true 100-year flood value is captured by the confidence interval `flow_ci`.\n",
    "\n",
    "_Assign your answer to an object called `answer3.5`. Your answer should be either \"true\" or \"false\", surrounded by quotes._"
   ]
  },
  {
   "cell_type": "code",
   "execution_count": 36,
   "metadata": {
    "nbgrader": {
     "grade": false,
     "grade_id": "cell-f67f3bc2d2cecd09",
     "locked": false,
     "schema_version": 3,
     "solution": true,
     "task": false
    }
   },
   "outputs": [],
   "source": [
    "# answer3.5 <- ...\n",
    "\n",
    "### BEGIN SOLUTION\n",
    "answer3.5 <- \"true\"\n",
    "### END SOLUTION"
   ]
  },
  {
   "cell_type": "code",
   "execution_count": 37,
   "metadata": {
    "nbgrader": {
     "grade": true,
     "grade_id": "cell-2c25ad9596dad135",
     "locked": true,
     "points": 1,
     "schema_version": 3,
     "solution": false,
     "task": false
    }
   },
   "outputs": [
    {
     "name": "stdout",
     "output_type": "stream",
     "text": [
      "\u001b[32mTest passed\u001b[39m 🎊\n",
      "\u001b[32mTest passed\u001b[39m 😸\n",
      "\u001b[32mTest passed\u001b[39m 🌈\n",
      "[1] \"Success!\"\n"
     ]
    }
   ],
   "source": [
    "# Here we check to see if you have given your answer the correct object name\n",
    "# and if your answer is plausible. However, all other tests have been hidden\n",
    "# so you can practice deciding when you have the correct answer.\n",
    "test_that('Did not assign answer to an object called \"answer3.5\"', {\n",
    "  expect_true(exists(\"answer3.5\"))\n",
    "})\n",
    "test_that('Answer should be \"true\" or \"false\"', {\n",
    "  expect_match(answer3.5, \"true|false\", ignore.case = TRUE)\n",
    "})\n",
    "### BEGIN HIDDEN TESTS\n",
    "test_that(\"Solution is incorrect\", {\n",
    "  expect_equal(digest(tolower(answer3.5)),\n",
    "               \"05ca18b596514af73f6880309a21b5dd\")\n",
    "})\n",
    "print(\"Success!\")\n",
    "### END HIDDEN TESTS"
   ]
  },
  {
   "cell_type": "markdown",
   "metadata": {
    "nbgrader": {
     "grade": false,
     "grade_id": "cell-008bc1078d0f8846",
     "locked": true,
     "schema_version": 3,
     "solution": false,
     "task": false
    }
   },
   "source": [
    "**Question 3.6**\n",
    "<br>{points: 1}\n",
    "\n",
    "True or false?\n",
    "\n",
    "If we increased the confidence level of the confidence interval `flow_ci`, we would expect that it would become narrower.\n",
    "\n",
    "_Assign your answer to an object called `answer3.6`. Your answer should be either \"true\" or \"false\", surrounded by quotes._"
   ]
  },
  {
   "cell_type": "code",
   "execution_count": 38,
   "metadata": {
    "nbgrader": {
     "grade": false,
     "grade_id": "cell-91d3dae1fa9afd59",
     "locked": false,
     "schema_version": 3,
     "solution": true,
     "task": false
    }
   },
   "outputs": [],
   "source": [
    "# answer3.6 <- ...\n",
    "\n",
    "### BEGIN SOLUTION\n",
    "answer3.6 <- \"false\"\n",
    "### END SOLUTION"
   ]
  },
  {
   "cell_type": "code",
   "execution_count": 39,
   "metadata": {
    "nbgrader": {
     "grade": true,
     "grade_id": "cell-8375139f411d5d82",
     "locked": true,
     "points": 1,
     "schema_version": 3,
     "solution": false,
     "task": false
    }
   },
   "outputs": [
    {
     "name": "stdout",
     "output_type": "stream",
     "text": [
      "\u001b[32mTest passed\u001b[39m 🥳\n",
      "\u001b[32mTest passed\u001b[39m 🎉\n",
      "\u001b[32mTest passed\u001b[39m 🎉\n",
      "[1] \"Success!\"\n"
     ]
    }
   ],
   "source": [
    "# Here we check to see if you have given your answer the correct object name\n",
    "# and if your answer is plausible. However, all other tests have been hidden\n",
    "# so you can practice deciding when you have the correct answer.\n",
    "test_that('Did not assign answer to an object called \"answer3.6\"', {\n",
    "  expect_true(exists(\"answer3.6\"))\n",
    "})\n",
    "test_that('Answer should be \"true\" or \"false\"', {\n",
    "  expect_match(answer3.6, \"true|false\", ignore.case = TRUE)\n",
    "})\n",
    "### BEGIN HIDDEN TESTS\n",
    "test_that(\"Solution is incorrect\", {\n",
    "  expect_equal(digest(tolower(answer3.6)),\n",
    "               \"d2a90307aac5ae8d0ef58e2fe730d38b\")\n",
    "})\n",
    "print(\"Success!\")\n",
    "### END HIDDEN TESTS"
   ]
  }
 ],
 "metadata": {
  "celltoolbar": "Create Assignment",
  "docker": {
   "latest_image_tag": "v0.4.0"
  },
  "jupytext": {
   "formats": "ipynb,Rmd"
  },
  "kernelspec": {
   "display_name": "R",
   "language": "R",
   "name": "ir"
  },
  "language_info": {
   "codemirror_mode": "r",
   "file_extension": ".r",
   "mimetype": "text/x-r-source",
   "name": "R",
   "pygments_lexer": "r",
   "version": "4.1.1"
  }
 },
 "nbformat": 4,
 "nbformat_minor": 4
}
