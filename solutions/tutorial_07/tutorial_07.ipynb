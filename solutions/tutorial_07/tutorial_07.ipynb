{
 "cells": [
  {
   "cell_type": "markdown",
   "metadata": {
    "nbgrader": {
     "grade": false,
     "grade_id": "cell-c2af283376010ebb",
     "locked": true,
     "schema_version": 3,
     "solution": false,
     "task": false
    }
   },
   "source": [
    "# Week 7: Confidence Intervals (of means and proportions) Based on the Assumption of Normality or the Central Limit Theorem"
   ]
  },
  {
   "cell_type": "markdown",
   "metadata": {
    "nbgrader": {
     "grade": false,
     "grade_id": "cell-7c081b8839e00f79",
     "locked": true,
     "schema_version": 3,
     "solution": false,
     "task": false
    }
   },
   "source": [
    "#### Lecture and Tutorial Learning Goals:\n",
    "From this section, students are expected to be able to:\n",
    "\n",
    "1. Describe the Law of Large Numbers.\n",
    "2. Describe a normal distribution.\n",
    "3. Explain the Central Limit Theorem and its role in constructing confidence intervals.\n",
    "4. Write a computer script to calculate confidence intervals based on the assumption of normality / the Central Limit Theorem.\n",
    "5. Discuss the potential limitations of these methods.\n",
    "6. Decide whether to use asymptotic theory or bootstrapping to compute estimator uncertainty."
   ]
  },
  {
   "cell_type": "code",
   "execution_count": 1,
   "metadata": {
    "nbgrader": {
     "grade": false,
     "grade_id": "cell-65e6f8aa132b1a29",
     "locked": true,
     "schema_version": 3,
     "solution": false,
     "task": false
    }
   },
   "outputs": [
    {
     "name": "stderr",
     "output_type": "stream",
     "text": [
      "── \u001b[1mAttaching packages\u001b[22m ────────────────────────────────────────────────────────────────── tidyverse 1.3.1 ──\n",
      "\n",
      "\u001b[32m✔\u001b[39m \u001b[34mggplot2\u001b[39m 3.3.5     \u001b[32m✔\u001b[39m \u001b[34mpurrr  \u001b[39m 0.3.4\n",
      "\u001b[32m✔\u001b[39m \u001b[34mtibble \u001b[39m 3.1.5     \u001b[32m✔\u001b[39m \u001b[34mdplyr  \u001b[39m 1.0.7\n",
      "\u001b[32m✔\u001b[39m \u001b[34mtidyr  \u001b[39m 1.1.4     \u001b[32m✔\u001b[39m \u001b[34mstringr\u001b[39m 1.4.0\n",
      "\u001b[32m✔\u001b[39m \u001b[34mreadr  \u001b[39m 2.0.2     \u001b[32m✔\u001b[39m \u001b[34mforcats\u001b[39m 0.5.1\n",
      "\n",
      "── \u001b[1mConflicts\u001b[22m ───────────────────────────────────────────────────────────────────── tidyverse_conflicts() ──\n",
      "\u001b[31m✖\u001b[39m \u001b[34mdplyr\u001b[39m::\u001b[32mfilter()\u001b[39m masks \u001b[34mstats\u001b[39m::filter()\n",
      "\u001b[31m✖\u001b[39m \u001b[34mdplyr\u001b[39m::\u001b[32mlag()\u001b[39m    masks \u001b[34mstats\u001b[39m::lag()\n",
      "\n",
      "\n",
      "Attaching package: ‘testthat’\n",
      "\n",
      "\n",
      "The following object is masked from ‘package:dplyr’:\n",
      "\n",
      "    matches\n",
      "\n",
      "\n",
      "The following object is masked from ‘package:purrr’:\n",
      "\n",
      "    is_null\n",
      "\n",
      "\n",
      "The following objects are masked from ‘package:readr’:\n",
      "\n",
      "    edition_get, local_edition\n",
      "\n",
      "\n",
      "The following object is masked from ‘package:tidyr’:\n",
      "\n",
      "    matches\n",
      "\n",
      "\n"
     ]
    }
   ],
   "source": [
    "# Run this cell before continuing.\n",
    "library(cowplot)\n",
    "library(datateachr)\n",
    "library(digest)\n",
    "library(infer)\n",
    "library(repr)\n",
    "library(taxyvr)\n",
    "library(tidyverse)\n",
    "source(\"tests_tutorial_07.R\")"
   ]
  },
  {
   "cell_type": "markdown",
   "metadata": {
    "nbgrader": {
     "grade": false,
     "grade_id": "cell-01839419b350b0e6",
     "locked": true,
     "schema_version": 3,
     "solution": false,
     "task": false
    }
   },
   "source": [
    "## 1. Estimating the Mean using CLT\n",
    "\n",
    "In this section, we will use the Central Limit Theorem to obtain interval estimates (i.e., confidence intervals) for the population mean instead of the simulation approach we used in Week 4. \n",
    "\n",
    "The US Food & Drug Administration (FDA) monitored the mercury level in many different commercial fishes and shellfish between 1990 and 2010. The mercury levels were measured in parts per million (ppm). This study is very relevant because a high mercury level is toxic to people and can cause brain problems and affect the fetus. Pretty serious!! \n",
    "\n",
    "Let us start by loading and taking a peek at the dataset."
   ]
  },
  {
   "cell_type": "code",
   "execution_count": 2,
   "metadata": {
    "nbgrader": {
     "grade": false,
     "grade_id": "cell-3a1222d9cac28f43",
     "locked": true,
     "schema_version": 3,
     "solution": false,
     "task": false
    }
   },
   "outputs": [
    {
     "name": "stderr",
     "output_type": "stream",
     "text": [
      "\u001b[1m\u001b[1mRows: \u001b[1m\u001b[22m\u001b[34m\u001b[34m94\u001b[34m\u001b[39m \u001b[1m\u001b[1mColumns: \u001b[1m\u001b[22m\u001b[34m\u001b[34m2\u001b[34m\u001b[39m\n",
      "\n",
      "\u001b[36m──\u001b[39m \u001b[1m\u001b[1mColumn specification\u001b[1m\u001b[22m \u001b[36m───────────────────────────────────────────────────────────────────────────────────\u001b[39m\n",
      "\u001b[1mDelimiter:\u001b[22m \",\"\n",
      "\u001b[31mchr\u001b[39m (1): fish_species\n",
      "\u001b[32mdbl\u001b[39m (1): mercury_concentration\n",
      "\n",
      "\n",
      "\u001b[36mℹ\u001b[39m Use \u001b[30m\u001b[47m\u001b[30m\u001b[47m`spec()`\u001b[47m\u001b[30m\u001b[49m\u001b[39m to retrieve the full column specification for this data.\n",
      "\u001b[36mℹ\u001b[39m Specify the column types or set \u001b[30m\u001b[47m\u001b[30m\u001b[47m`show_col_types = FALSE`\u001b[47m\u001b[30m\u001b[49m\u001b[39m to quiet this message.\n",
      "\n"
     ]
    },
    {
     "data": {
      "text/html": [
       "<table class=\"dataframe\">\n",
       "<caption>A tibble: 6 × 2</caption>\n",
       "<thead>\n",
       "\t<tr><th scope=col>fish_species</th><th scope=col>mercury_concentration</th></tr>\n",
       "\t<tr><th scope=col>&lt;chr&gt;</th><th scope=col>&lt;dbl&gt;</th></tr>\n",
       "</thead>\n",
       "<tbody>\n",
       "\t<tr><td>salmon</td><td>0.11</td></tr>\n",
       "\t<tr><td>salmon</td><td>0.00</td></tr>\n",
       "\t<tr><td>salmon</td><td>0.00</td></tr>\n",
       "\t<tr><td>salmon</td><td>0.06</td></tr>\n",
       "\t<tr><td>salmon</td><td>0.12</td></tr>\n",
       "\t<tr><td>salmon</td><td>0.19</td></tr>\n",
       "</tbody>\n",
       "</table>\n"
      ],
      "text/latex": [
       "A tibble: 6 × 2\n",
       "\\begin{tabular}{ll}\n",
       " fish\\_species & mercury\\_concentration\\\\\n",
       " <chr> & <dbl>\\\\\n",
       "\\hline\n",
       "\t salmon & 0.11\\\\\n",
       "\t salmon & 0.00\\\\\n",
       "\t salmon & 0.00\\\\\n",
       "\t salmon & 0.06\\\\\n",
       "\t salmon & 0.12\\\\\n",
       "\t salmon & 0.19\\\\\n",
       "\\end{tabular}\n"
      ],
      "text/markdown": [
       "\n",
       "A tibble: 6 × 2\n",
       "\n",
       "| fish_species &lt;chr&gt; | mercury_concentration &lt;dbl&gt; |\n",
       "|---|---|\n",
       "| salmon | 0.11 |\n",
       "| salmon | 0.00 |\n",
       "| salmon | 0.00 |\n",
       "| salmon | 0.06 |\n",
       "| salmon | 0.12 |\n",
       "| salmon | 0.19 |\n",
       "\n"
      ],
      "text/plain": [
       "  fish_species mercury_concentration\n",
       "1 salmon       0.11                 \n",
       "2 salmon       0.00                 \n",
       "3 salmon       0.00                 \n",
       "4 salmon       0.06                 \n",
       "5 salmon       0.12                 \n",
       "6 salmon       0.19                 "
      ]
     },
     "metadata": {},
     "output_type": "display_data"
    }
   ],
   "source": [
    "salmon <- read_csv(\"salmon.csv\")\n",
    "head(salmon)"
   ]
  },
  {
   "cell_type": "markdown",
   "metadata": {
    "nbgrader": {
     "grade": false,
     "grade_id": "cell-ffeef6745cd01c23",
     "locked": true,
     "schema_version": 3,
     "solution": false,
     "task": false
    }
   },
   "source": [
    "**Question 1.1**\n",
    "<br> {points: 1}\n",
    "\n",
    "Since we will be relying on the CLT, it is good to check if there is no severe violation of the CLT's assumptions. A good first step is to check the sample distribution to understand what sort of distribution we are dealing with. Remember that the sample distribution is an estimate of the population distribution. This step is important because \"weird\" distributions, such as asymmetric and/or multimodal distributions **might** require bigger sample sizes for the CLT to kick-in.\n",
    "\n",
    "Your job in this exercise is to plot the histogram of `mercury_concentration` of salmon. \n",
    "\n",
    "_Assign your plot to an object called `salmon_sample_dist`._"
   ]
  },
  {
   "cell_type": "code",
   "execution_count": 3,
   "metadata": {
    "nbgrader": {
     "grade": false,
     "grade_id": "cell-505475c31feb4ce8",
     "locked": false,
     "schema_version": 3,
     "solution": true,
     "task": false
    }
   },
   "outputs": [
    {
     "name": "stderr",
     "output_type": "stream",
     "text": [
      "`stat_bin()` using `bins = 30`. Pick better value with `binwidth`.\n",
      "\n"
     ]
    },
    {
     "data": {
      "image/png": "[encoded data removed]",
      "text/plain": [
       "plot without title"
      ]
     },
     "metadata": {
      "image/png": {
       "height": 420,
       "width": 420
      }
     },
     "output_type": "display_data"
    }
   ],
   "source": [
    "### BEGIN SOLUTION\n",
    "salmon_sample_dist <- \n",
    "    salmon %>% \n",
    "    ggplot() + \n",
    "    geom_histogram(aes(mercury_concentration), color = 'white') + \n",
    "    theme(text = element_text(size = 20)) + \n",
    "    xlab(\"Mercury level\") +\n",
    "    ggtitle(\"Sample distribution of mecury level in salmon\", subtitle = \"Sample size: 94\")\n",
    "### END SOLUTION\n",
    "\n",
    "salmon_sample_dist"
   ]
  },
  {
   "cell_type": "code",
   "execution_count": 4,
   "metadata": {
    "nbgrader": {
     "grade": true,
     "grade_id": "cell-2341e1f3b090bbfb",
     "locked": true,
     "points": 1,
     "schema_version": 3,
     "solution": false,
     "task": false
    }
   },
   "outputs": [
    {
     "name": "stdout",
     "output_type": "stream",
     "text": [
      "\u001b[32mTest passed\u001b[39m 🥇\n",
      "\u001b[32mTest passed\u001b[39m 🥳\n",
      "\u001b[32mTest passed\u001b[39m 🥇\n",
      "\u001b[32mTest passed\u001b[39m 🥳\n",
      "\u001b[32mTest passed\u001b[39m 🥳\n",
      "\u001b[32mTest passed\u001b[39m 🎊\n",
      "\u001b[32mTest passed\u001b[39m 🥳\n",
      "\u001b[32mTest passed\u001b[39m 🥳\n",
      "[1] \"Success!\"\n"
     ]
    }
   ],
   "source": [
    "test_1.1()"
   ]
  },
  {
   "cell_type": "markdown",
   "metadata": {
    "nbgrader": {
     "grade": false,
     "grade_id": "cell-8313321fcd62d878",
     "locked": true,
     "schema_version": 3,
     "solution": false,
     "task": false
    }
   },
   "source": [
    "**Question 1.2**\n",
    "<br>{points: 1}\n",
    "\n",
    "Based on the previous question's sample distribution plot, select all that apply:\n",
    "\n",
    "A. The distribution is symmetric;\n",
    "\n",
    "B. The distribution is left-skewed;\n",
    "\n",
    "C. The distribution is right-skewed;\n",
    "\n",
    "D. The distribution is multimodal;\n",
    "\n",
    "E. The distribution is unimodal;\n",
    "\n",
    "F. The distribution is quite similar to the Normal distribution;\n",
    "\n",
    "_Assign your answer to an object called `answer1.2`. Your answer should be a sequence of characters surrounded by quotes, e.g., \"ACF\"._"
   ]
  },
  {
   "cell_type": "code",
   "execution_count": 5,
   "metadata": {
    "nbgrader": {
     "grade": false,
     "grade_id": "cell-26d36a2f8841840b",
     "locked": false,
     "schema_version": 3,
     "solution": true,
     "task": false
    }
   },
   "outputs": [],
   "source": [
    "# answer1.2 <- ...\n",
    "\n",
    "### BEGIN SOLUTION\n",
    "answer1.2 <- \"CE\"\n",
    "### END SOLUTION"
   ]
  },
  {
   "cell_type": "code",
   "execution_count": 6,
   "metadata": {
    "nbgrader": {
     "grade": true,
     "grade_id": "cell-aad2cf21c6f6f4e5",
     "locked": true,
     "points": 1,
     "schema_version": 3,
     "solution": false,
     "task": false
    }
   },
   "outputs": [
    {
     "name": "stdout",
     "output_type": "stream",
     "text": [
      "\u001b[32mTest passed\u001b[39m 🎊\n",
      "\u001b[32mTest passed\u001b[39m 😸\n",
      "[1] \"Success!\"\n"
     ]
    }
   ],
   "source": [
    "# Here we check to see if you have given your answer the correct object name\n",
    "# and if your answer is plausible. However, all other tests have been hidden\n",
    "# so you can practice deciding when you have the correct answer.\n",
    "test_that('Did not assign answer to an object called \"answer1.2\"', {\n",
    "  expect_true(exists(\"answer1.2\"))\n",
    "})\n",
    "\n",
    "### BEGIN HIDDEN TESTS\n",
    "answer_hash  <- digest(tolower(paste(sort(unlist(strsplit(answer1.2, \"\"))), collapse = \"\")))\n",
    "test_that(\"Solution is incorrect\", {\n",
    "  expect_equal(answer_hash, \"af3b9dd3ec5caf00ed91c392d69f070d\")\n",
    "})\n",
    "print(\"Success!\")\n",
    "### END HIDDEN TESTS"
   ]
  },
  {
   "cell_type": "markdown",
   "metadata": {
    "nbgrader": {
     "grade": false,
     "grade_id": "cell-abc6d7359bcc1fd8",
     "locked": true,
     "schema_version": 3,
     "solution": false,
     "task": false
    }
   },
   "source": [
    "**Question 1.3**\n",
    "<br> {points: 4}\n",
    "\n",
    "The previous question showed that the population is quite asymmetric, with most salmons presenting low mercury levels but some salmons presenting much higher levels. Asymmetry, especially with outliers, might require a larger **n** for the CLT to kick in. On the other hand, our sample size is already somewhat large, with 94 fish in the sample. \n",
    "\n",
    "Remember that, if the conditions are satisfied, the CLT states that the $\\bar{X}\\sim N\\left(\\mu, \\sigma/\\sqrt{n}\\right)$ . \n",
    "\n",
    "If you have a strong suspicion that your sample size is not large enough, you might want to consider using the bootstrap approach. Let's take a look at the approximation of the sampling distribution provided by both approaches: bootstrap and CLT. Let's use the sample mean and standard deviation as placeholders for $\\mu$ and $\\sigma$, respectively, in the case of CLT.\n",
    "\n",
    "Your job:\n",
    "\n",
    "1. Calculate the sample mean and store it in an object called `salmon_x_bar`. Note: `salmon_x_bar` must be a number, not a `tibble`.\n",
    "2. Calculate the estimate of the standard error of $\\bar{X}$ and store it in an object called `salmon_std_error`. Note: `salmon_std_error` must be a number, not a `tibble`.\n",
    "3. Obtain the bootstrap sampling distribution using 2000 bootstrap samples and store them in a data frame called `salmon_btsp_samp_dist`. Note: the data frame `salmon_btsp_samp_dist` must have two columns only: (1) `replicate`; and (2) `stat`.\n",
    "4. Create the histogram to visualize the bootstrap sampling distribution vs the Normal density given by the CLT. Assign your plot to an object called `salmon_btsp_vs_clt_samp_dist_plot`."
   ]
  },
  {
   "cell_type": "code",
   "execution_count": 7,
   "metadata": {
    "nbgrader": {
     "grade": false,
     "grade_id": "cell-6e7a7cfa050817e0",
     "locked": false,
     "schema_version": 3,
     "solution": true,
     "task": false
    },
    "scrolled": false
   },
   "outputs": [
    {
     "name": "stderr",
     "output_type": "stream",
     "text": [
      "Setting `type = \"bootstrap\"` in `generate()`.\n",
      "\n",
      "`stat_bin()` using `bins = 30`. Pick better value with `binwidth`.\n",
      "\n"
     ]
    },
    {
     "data": {
      "image/png": "[encoded data removed]",
      "text/plain": [
       "plot without title"
      ]
     },
     "metadata": {
      "image/png": {
       "height": 420,
       "width": 420
      }
     },
     "output_type": "display_data"
    }
   ],
   "source": [
    "set.seed(20210201) # Do not change this\n",
    "\n",
    "# # Obtain the sample mean\n",
    "# salmon_x_bar <- mean(salmon$...)\n",
    "\n",
    "# # Obtain the sample std. error \n",
    "# salmon_std_error <- ...\n",
    "\n",
    "# # Done for you: the normal curve\n",
    "# clt_samp_dist <- \n",
    "#     tibble(x = seq(salmon_x_bar - 4 * salmon_std_error, \n",
    "#                    salmon_x_bar + 4 * salmon_std_error, 0.0001),\n",
    "#            density = dnorm(x, salmon_x_bar, salmon_std_error))\n",
    "\n",
    "# # Obtain the boostrap sampling distribution\n",
    "# salmon_btsp_samp_dist <-\n",
    "#     salmon %>% \n",
    "#     ...\n",
    "\n",
    "# # Let's plot the bootstrap vs the CLT estimates\n",
    "# salmon_btsp_vs_clt_samp_dist_plot <- \n",
    "#     salmon_btsp_samp_dist %>% \n",
    "#     ggplot() + \n",
    "#     geom_histogram(aes(..., ..density..), color = 'white') + \n",
    "#     geom_line(data = clt_samp_dist, aes(x, density), lwd = 2, color = \"red\") + \n",
    "#     ... + \n",
    "#     ... + \n",
    "#     theme(text = element_text(size = 20))\n",
    "\n",
    "### BEGIN SOLUTION\n",
    "\n",
    "salmon_std_error <- sd(salmon$mercury_concentration) / sqrt(nrow(salmon))\n",
    "salmon_x_bar <- mean(salmon$mercury_concentration)\n",
    "clt_samp_dist <- tibble(x = seq(salmon_x_bar - 4 * salmon_std_error, salmon_x_bar + 4 * salmon_std_error, 0.0001),\n",
    "                        density = dnorm(x, salmon_x_bar, salmon_std_error))\n",
    "\n",
    "salmon_btsp_samp_dist <-\n",
    "    salmon %>% \n",
    "    specify(response = mercury_concentration) %>% \n",
    "    generate(reps = 2000) %>% \n",
    "    calculate(stat = \"mean\")\n",
    "\n",
    "salmon_btsp_vs_clt_samp_dist_plot <- \n",
    "    salmon_btsp_samp_dist %>% \n",
    "    ggplot() + \n",
    "    geom_histogram(aes(stat, ..density..), color = 'white') + \n",
    "    xlab(\"Sample mean of mercury concentration (ppm)\") + \n",
    "    geom_line(data = clt_samp_dist, aes(x, density), lwd = 2, color = \"red\") + \n",
    "    ggtitle(\"Bootstrap sampling distribution vs CLT\") + \n",
    "    theme(text = element_text(size = 20))\n",
    "\n",
    "### END SOLUTION\n",
    "\n",
    "salmon_btsp_vs_clt_samp_dist_plot"
   ]
  },
  {
   "cell_type": "code",
   "execution_count": 8,
   "metadata": {
    "nbgrader": {
     "grade": true,
     "grade_id": "cell-4d977cd79601c36c",
     "locked": true,
     "points": 4,
     "schema_version": 3,
     "solution": false,
     "task": false
    }
   },
   "outputs": [
    {
     "name": "stdout",
     "output_type": "stream",
     "text": [
      "\u001b[32mTest passed\u001b[39m 😀\n",
      "\u001b[32mTest passed\u001b[39m 🎊\n",
      "\u001b[32mTest passed\u001b[39m 🎉\n",
      "[1] \"Success!\"\n",
      "\u001b[32mTest passed\u001b[39m 😀\n",
      "\u001b[32mTest passed\u001b[39m 🎉\n",
      "\u001b[32mTest passed\u001b[39m 🎊\n",
      "[1] \"Success!\"\n",
      "\u001b[32mTest passed\u001b[39m 🥇\n",
      "\u001b[32mTest passed\u001b[39m 🥳\n",
      "\u001b[32mTest passed\u001b[39m 🥳\n",
      "\u001b[32mTest passed\u001b[39m 🎉\n",
      "\u001b[32mTest passed\u001b[39m 😸\n",
      "[1] \"Success!\"\n",
      "\u001b[32mTest passed\u001b[39m 🎊\n",
      "\u001b[32mTest passed\u001b[39m 🥇\n",
      "\u001b[32mTest passed\u001b[39m 🥇\n",
      "\u001b[32mTest passed\u001b[39m 🥳\n",
      "\u001b[32mTest passed\u001b[39m 🌈\n",
      "\u001b[32mTest passed\u001b[39m 🎊\n",
      "\u001b[32mTest passed\u001b[39m 🎉\n",
      "\u001b[32mTest passed\u001b[39m 😸\n",
      "[1] \"Success!\"\n"
     ]
    }
   ],
   "source": [
    "test_1.3()"
   ]
  },
  {
   "cell_type": "markdown",
   "metadata": {
    "nbgrader": {
     "grade": false,
     "grade_id": "cell-139b4197575ce68c",
     "locked": true,
     "schema_version": 3,
     "solution": false,
     "task": false
    }
   },
   "source": [
    "As we can see from the plot above, the sampling distribution estimates given by the CLT and boostrap approaches are fairly close. Therefore, from this similarity, we could already expect that both confidence intervals will be similar. "
   ]
  },
  {
   "cell_type": "markdown",
   "metadata": {
    "nbgrader": {
     "grade": false,
     "grade_id": "cell-668136ec5fe49a52",
     "locked": true,
     "schema_version": 3,
     "solution": false,
     "task": false
    }
   },
   "source": [
    "**Question 1.4** \n",
    "<br> {points: 1}\n",
    "\n",
    "\n",
    "Obtain the 92.8% confidence interval for the mean mercury levels in fish and shellfish applying the CLT.\n",
    "\n",
    "_Assign your data frame to an object called `salmon_clt_ci`. The data frame should have two columns: (1) `lower_ci`; and `upper_ci`_"
   ]
  },
  {
   "cell_type": "code",
   "execution_count": 9,
   "metadata": {
    "nbgrader": {
     "grade": false,
     "grade_id": "cell-fc98a923c0c14e96",
     "locked": false,
     "schema_version": 3,
     "solution": true,
     "task": false
    }
   },
   "outputs": [
    {
     "data": {
      "text/html": [
       "<table class=\"dataframe\">\n",
       "<caption>A tibble: 1 × 2</caption>\n",
       "<thead>\n",
       "\t<tr><th scope=col>lower_ci</th><th scope=col>upper_ci</th></tr>\n",
       "\t<tr><th scope=col>&lt;dbl&gt;</th><th scope=col>&lt;dbl&gt;</th></tr>\n",
       "</thead>\n",
       "<tbody>\n",
       "\t<tr><td>0.01590012</td><td>0.02862329</td></tr>\n",
       "</tbody>\n",
       "</table>\n"
      ],
      "text/latex": [
       "A tibble: 1 × 2\n",
       "\\begin{tabular}{ll}\n",
       " lower\\_ci & upper\\_ci\\\\\n",
       " <dbl> & <dbl>\\\\\n",
       "\\hline\n",
       "\t 0.01590012 & 0.02862329\\\\\n",
       "\\end{tabular}\n"
      ],
      "text/markdown": [
       "\n",
       "A tibble: 1 × 2\n",
       "\n",
       "| lower_ci &lt;dbl&gt; | upper_ci &lt;dbl&gt; |\n",
       "|---|---|\n",
       "| 0.01590012 | 0.02862329 |\n",
       "\n"
      ],
      "text/plain": [
       "  lower_ci   upper_ci  \n",
       "1 0.01590012 0.02862329"
      ]
     },
     "metadata": {},
     "output_type": "display_data"
    }
   ],
   "source": [
    "# salmon_clt_ci <- \n",
    "#     tibble(lower_ci = ... + qnorm(...) * ..., \n",
    "#            upper_ci = ... )\n",
    "\n",
    "### BEGIN SOLUTION\n",
    "salmon_clt_ci <- \n",
    "    tibble(lower_ci = salmon_x_bar + qnorm(0.036) * salmon_std_error, \n",
    "           upper_ci = salmon_x_bar - qnorm(0.036) * salmon_std_error)\n",
    "### END SOLUTION\n",
    "\n",
    "head(salmon_clt_ci)"
   ]
  },
  {
   "cell_type": "code",
   "execution_count": 10,
   "metadata": {
    "nbgrader": {
     "grade": true,
     "grade_id": "cell-f7e0b7f67926de11",
     "locked": true,
     "points": 1,
     "schema_version": 3,
     "solution": false,
     "task": false
    }
   },
   "outputs": [
    {
     "name": "stdout",
     "output_type": "stream",
     "text": [
      "\u001b[32mTest passed\u001b[39m 🎉\n",
      "\u001b[32mTest passed\u001b[39m 🥇\n",
      "\u001b[32mTest passed\u001b[39m 🥳\n",
      "\u001b[32mTest passed\u001b[39m 🎉\n",
      "\u001b[32mTest passed\u001b[39m 🌈\n",
      "[1] \"Success!\"\n"
     ]
    }
   ],
   "source": [
    "# Here we check to see if you have given your answer the correct object name\n",
    "# and if your answer is plausible. However, all other tests have been hidden\n",
    "# so you can practice deciding when you have the correct answer.\n",
    "test_that('Did not assign answer to an object called \"salmon_clt_ci\"', {\n",
    "  expect_true(exists(\"salmon_clt_ci\"))\n",
    "})\n",
    "test_that(\"Solution should be a data frame\", {\n",
    "  expect_true(\"data.frame\" %in% class(salmon_clt_ci))\n",
    "})\n",
    "test_that(\"Data frame does not contain the correct number of rows\", {\n",
    "  expect_equal(digest(as.integer(nrow(salmon_clt_ci))), \"4b5630ee914e848e8d07221556b0a2fb\")\n",
    "})\n",
    "\n",
    "\n",
    "### BEGIN HIDDEN TESTS\n",
    "expected_colnames <- c(\"lower_ci\", \"upper_ci\")\n",
    "given_colnames <- colnames(salmon_clt_ci)\n",
    "test_that(\"Data frame does not have the correct columns\", {\n",
    "  expect_equal(length(setdiff(\n",
    "    union(expected_colnames, given_colnames),\n",
    "    intersect(expected_colnames, given_colnames)\n",
    "  )), 0)\n",
    "})\n",
    "\n",
    "test_that(\"Data frame does not contain the correct data\", {\n",
    "  expect_equal(digest(as.integer(salmon_clt_ci$lower_ci+salmon_clt_ci$upper_ci * 10e6)), \"cf2ec3721d3e32d27f29f27ce598a4d9\")\n",
    "})\n",
    "\n",
    "print(\"Success!\")\n",
    "### END HIDDEN TESTS"
   ]
  },
  {
   "cell_type": "markdown",
   "metadata": {
    "nbgrader": {
     "grade": false,
     "grade_id": "cell-88f74a6c5fda18d5",
     "locked": true,
     "schema_version": 3,
     "solution": false,
     "task": false
    }
   },
   "source": [
    "**Question 1.5** \n",
    "<br> {points: 1}\n",
    "\n",
    "\n",
    "Obtain the 92.8% confidence interval for the mean mercury levels in fish and shellfish using the bootstrap distribution you obtained previously: `salmon_btsp_samp_dist`.\n",
    "\n",
    "_Assign your data frame to an object called `salmon_btsp_ci`. The data frame should have two columns: (1) `lower_ci`; and `upper_ci`_"
   ]
  },
  {
   "cell_type": "code",
   "execution_count": 11,
   "metadata": {
    "nbgrader": {
     "grade": false,
     "grade_id": "cell-1168254298238bad",
     "locked": false,
     "schema_version": 3,
     "solution": true,
     "task": false
    }
   },
   "outputs": [
    {
     "data": {
      "text/html": [
       "<table class=\"dataframe\">\n",
       "<caption>A tibble: 1 × 2</caption>\n",
       "<thead>\n",
       "\t<tr><th scope=col>lower_ci</th><th scope=col>upper_ci</th></tr>\n",
       "\t<tr><th scope=col>&lt;dbl&gt;</th><th scope=col>&lt;dbl&gt;</th></tr>\n",
       "</thead>\n",
       "<tbody>\n",
       "\t<tr><td>0.0162112</td><td>0.02882246</td></tr>\n",
       "</tbody>\n",
       "</table>\n"
      ],
      "text/latex": [
       "A tibble: 1 × 2\n",
       "\\begin{tabular}{ll}\n",
       " lower\\_ci & upper\\_ci\\\\\n",
       " <dbl> & <dbl>\\\\\n",
       "\\hline\n",
       "\t 0.0162112 & 0.02882246\\\\\n",
       "\\end{tabular}\n"
      ],
      "text/markdown": [
       "\n",
       "A tibble: 1 × 2\n",
       "\n",
       "| lower_ci &lt;dbl&gt; | upper_ci &lt;dbl&gt; |\n",
       "|---|---|\n",
       "| 0.0162112 | 0.02882246 |\n",
       "\n"
      ],
      "text/plain": [
       "  lower_ci  upper_ci  \n",
       "1 0.0162112 0.02882246"
      ]
     },
     "metadata": {},
     "output_type": "display_data"
    }
   ],
   "source": [
    "# salmon_btsp_ci <- \n",
    "#     salmon_btsp_samp_dist %>% \n",
    "#     ...\n",
    "\n",
    "### BEGIN SOLUTION\n",
    "salmon_btsp_ci <- \n",
    "    salmon_btsp_samp_dist %>% \n",
    "    get_ci(level = 0.928)\n",
    "### END SOLUTION\n",
    "\n",
    "head(salmon_btsp_ci)"
   ]
  },
  {
   "cell_type": "code",
   "execution_count": 12,
   "metadata": {
    "nbgrader": {
     "grade": true,
     "grade_id": "cell-4a8b5c77767d3335",
     "locked": true,
     "points": 1,
     "schema_version": 3,
     "solution": false,
     "task": false
    }
   },
   "outputs": [
    {
     "name": "stdout",
     "output_type": "stream",
     "text": [
      "\u001b[32mTest passed\u001b[39m 🎊\n",
      "\u001b[32mTest passed\u001b[39m 🥇\n",
      "\u001b[32mTest passed\u001b[39m 🥇\n",
      "\u001b[32mTest passed\u001b[39m 🎊\n",
      "\u001b[32mTest passed\u001b[39m 😀\n",
      "[1] \"Success!\"\n"
     ]
    }
   ],
   "source": [
    "test_1.5()"
   ]
  },
  {
   "cell_type": "markdown",
   "metadata": {
    "nbgrader": {
     "grade": false,
     "grade_id": "cell-a554f04c00004696",
     "locked": true,
     "schema_version": 3,
     "solution": false,
     "task": false
    }
   },
   "source": [
    "As we imagined, the CLT and bootstrap confidence intervals are quite close."
   ]
  },
  {
   "cell_type": "markdown",
   "metadata": {
    "nbgrader": {
     "grade": false,
     "grade_id": "cell-5bb24b0c5edc5ded",
     "locked": true,
     "schema_version": 3,
     "solution": false,
     "task": false
    }
   },
   "source": [
    "## 2. Estimating the Difference in Means using CLT"
   ]
  },
  {
   "cell_type": "markdown",
   "metadata": {
    "nbgrader": {
     "grade": false,
     "grade_id": "cell-c5ccd82df7ec91ab",
     "locked": true,
     "schema_version": 3,
     "solution": false,
     "task": false
    }
   },
   "source": [
    "Is parking in Downtown Vancouver more expensive than in Kitsilano?\n",
    "For this question, we will use the Vancouver parking meter data set. \n",
    "First, let's preview the dataset."
   ]
  },
  {
   "cell_type": "code",
   "execution_count": 13,
   "metadata": {
    "nbgrader": {
     "grade": false,
     "grade_id": "cell-89379583801bf044",
     "locked": true,
     "schema_version": 3,
     "solution": false,
     "task": false
    }
   },
   "outputs": [
    {
     "name": "stderr",
     "output_type": "stream",
     "text": [
      "Warning message in seq_len(head.end.idx):\n",
      "“first element used of 'length.out' argument”\n",
      "ERROR while rich displaying an object: Error in seq_len(head.end.idx): argument must be coercible to non-negative integer\n",
      "\n",
      "Traceback:\n",
      "1. FUN(X[[i]], ...)\n",
      "2. tryCatch(withCallingHandlers({\n",
      " .     if (!mime %in% names(repr::mime2repr)) \n",
      " .         stop(\"No repr_* for mimetype \", mime, \" in repr::mime2repr\")\n",
      " .     rpr <- repr::mime2repr[[mime]](obj)\n",
      " .     if (is.null(rpr)) \n",
      " .         return(NULL)\n",
      " .     prepare_content(is.raw(rpr), rpr)\n",
      " . }, error = error_handler), error = outer_handler)\n",
      "3. tryCatchList(expr, classes, parentenv, handlers)\n",
      "4. tryCatchOne(expr, names, parentenv, handlers[[1L]])\n",
      "5. doTryCatch(return(expr), name, parentenv, handler)\n",
      "6. withCallingHandlers({\n",
      " .     if (!mime %in% names(repr::mime2repr)) \n",
      " .         stop(\"No repr_* for mimetype \", mime, \" in repr::mime2repr\")\n",
      " .     rpr <- repr::mime2repr[[mime]](obj)\n",
      " .     if (is.null(rpr)) \n",
      " .         return(NULL)\n",
      " .     prepare_content(is.raw(rpr), rpr)\n",
      " . }, error = error_handler)\n",
      "7. repr::mime2repr[[mime]](obj)\n",
      "8. repr_html.help_files_with_topic(obj)\n",
      "9. repr_help_files_with_topic_generic(obj, Rd2HTML)\n"
     ]
    }
   ],
   "source": [
    "?parking_meters"
   ]
  },
  {
   "cell_type": "code",
   "execution_count": 14,
   "metadata": {
    "nbgrader": {
     "grade": false,
     "grade_id": "cell-8bb6be6fd6461cd8",
     "locked": true,
     "schema_version": 3,
     "solution": false,
     "task": false
    }
   },
   "outputs": [
    {
     "data": {
      "text/html": [
       "<table class=\"dataframe\">\n",
       "<caption>A tibble: 6 × 22</caption>\n",
       "<thead>\n",
       "\t<tr><th scope=col>meter_head</th><th scope=col>r_mf_9a_6p</th><th scope=col>r_mf_6p_10</th><th scope=col>r_sa_9a_6p</th><th scope=col>r_sa_6p_10</th><th scope=col>r_su_9a_6p</th><th scope=col>r_su_6p_10</th><th scope=col>rate_misc</th><th scope=col>time_in_effect</th><th scope=col>t_mf_9a_6p</th><th scope=col>⋯</th><th scope=col>t_sa_6p_10</th><th scope=col>t_su_9a_6p</th><th scope=col>t_su_6p_10</th><th scope=col>time_misc</th><th scope=col>credit_card</th><th scope=col>pay_phone</th><th scope=col>longitude</th><th scope=col>latitude</th><th scope=col>geo_local_area</th><th scope=col>meter_id</th></tr>\n",
       "\t<tr><th scope=col>&lt;chr&gt;</th><th scope=col>&lt;chr&gt;</th><th scope=col>&lt;chr&gt;</th><th scope=col>&lt;chr&gt;</th><th scope=col>&lt;chr&gt;</th><th scope=col>&lt;chr&gt;</th><th scope=col>&lt;chr&gt;</th><th scope=col>&lt;chr&gt;</th><th scope=col>&lt;chr&gt;</th><th scope=col>&lt;chr&gt;</th><th scope=col>⋯</th><th scope=col>&lt;chr&gt;</th><th scope=col>&lt;chr&gt;</th><th scope=col>&lt;chr&gt;</th><th scope=col>&lt;chr&gt;</th><th scope=col>&lt;chr&gt;</th><th scope=col>&lt;chr&gt;</th><th scope=col>&lt;dbl&gt;</th><th scope=col>&lt;dbl&gt;</th><th scope=col>&lt;chr&gt;</th><th scope=col>&lt;chr&gt;</th></tr>\n",
       "</thead>\n",
       "<tbody>\n",
       "\t<tr><td>Twin       </td><td>$2.00</td><td>$4.00</td><td>$2.00</td><td>$4.00</td><td>$2.00</td><td>$4.00</td><td>NA   </td><td>METER IN EFFECT: 9:00 AM TO 10:00 PM</td><td>2 Hr  </td><td>⋯</td><td>4 Hr  </td><td>2 Hr  </td><td>4 Hr  </td><td>NA           </td><td>No </td><td>66890</td><td>-123.1289</td><td>49.28690</td><td>West End       </td><td>670805</td></tr>\n",
       "\t<tr><td>Pay Station</td><td>$1.00</td><td>$1.00</td><td>$1.00</td><td>$1.00</td><td>$1.00</td><td>$1.00</td><td>$ .50</td><td>METER IN EFFECT: 9:00 AM TO 10:00 PM</td><td>10 Hrs</td><td>⋯</td><td>10 Hrs</td><td>10 Hrs</td><td>10 Hrs</td><td>No Time Limit</td><td>Yes</td><td>59916</td><td>-123.0982</td><td>49.27215</td><td>Strathcona     </td><td>471405</td></tr>\n",
       "\t<tr><td>Twin       </td><td>$1.00</td><td>$1.00</td><td>$1.00</td><td>$1.00</td><td>$1.00</td><td>$1.00</td><td>NA   </td><td>METER IN EFFECT: 9:00 AM TO 10:00 PM</td><td>2 Hr  </td><td>⋯</td><td>4 Hr  </td><td>2 Hr  </td><td>4 Hr  </td><td>NA           </td><td>No </td><td>57042</td><td>-123.1013</td><td>49.25468</td><td>Riley Park     </td><td>C80145</td></tr>\n",
       "\t<tr><td>Single     </td><td>$1.00</td><td>$1.00</td><td>$1.00</td><td>$1.00</td><td>$1.00</td><td>$1.00</td><td>NA   </td><td>METER IN EFFECT: 9:00 AM TO 10:00 PM</td><td>2 Hr  </td><td>⋯</td><td>4 Hr  </td><td>2 Hr  </td><td>4 Hr  </td><td>NA           </td><td>No </td><td>57159</td><td>-123.1862</td><td>49.26341</td><td>West Point Grey</td><td>D03704</td></tr>\n",
       "\t<tr><td>Twin       </td><td>$2.00</td><td>$1.00</td><td>$2.00</td><td>$1.00</td><td>$2.00</td><td>$1.00</td><td>NA   </td><td>METER IN EFFECT: 9:00 AM TO 10:00 PM</td><td>2 Hr  </td><td>⋯</td><td>4 Hr  </td><td>2 Hr  </td><td>4 Hr  </td><td>NA           </td><td>No </td><td>51104</td><td>-123.1278</td><td>49.26354</td><td>Fairview       </td><td>301023</td></tr>\n",
       "\t<tr><td>Twin       </td><td>$2.00</td><td>$1.00</td><td>$2.00</td><td>$1.00</td><td>$2.00</td><td>$1.00</td><td>NA   </td><td>METER IN EFFECT: 9:00 AM TO 10:00 PM</td><td>3 Hr  </td><td>⋯</td><td>4 Hr  </td><td>3 Hr  </td><td>4 Hr  </td><td>NA           </td><td>No </td><td>60868</td><td>-123.1265</td><td>49.27431</td><td>Downtown       </td><td>591318</td></tr>\n",
       "</tbody>\n",
       "</table>\n"
      ],
      "text/latex": [
       "A tibble: 6 × 22\n",
       "\\begin{tabular}{lllllllllllllllllllll}\n",
       " meter\\_head & r\\_mf\\_9a\\_6p & r\\_mf\\_6p\\_10 & r\\_sa\\_9a\\_6p & r\\_sa\\_6p\\_10 & r\\_su\\_9a\\_6p & r\\_su\\_6p\\_10 & rate\\_misc & time\\_in\\_effect & t\\_mf\\_9a\\_6p & ⋯ & t\\_sa\\_6p\\_10 & t\\_su\\_9a\\_6p & t\\_su\\_6p\\_10 & time\\_misc & credit\\_card & pay\\_phone & longitude & latitude & geo\\_local\\_area & meter\\_id\\\\\n",
       " <chr> & <chr> & <chr> & <chr> & <chr> & <chr> & <chr> & <chr> & <chr> & <chr> & ⋯ & <chr> & <chr> & <chr> & <chr> & <chr> & <chr> & <dbl> & <dbl> & <chr> & <chr>\\\\\n",
       "\\hline\n",
       "\t Twin        & \\$2.00 & \\$4.00 & \\$2.00 & \\$4.00 & \\$2.00 & \\$4.00 & NA    & METER IN EFFECT: 9:00 AM TO 10:00 PM & 2 Hr   & ⋯ & 4 Hr   & 2 Hr   & 4 Hr   & NA            & No  & 66890 & -123.1289 & 49.28690 & West End        & 670805\\\\\n",
       "\t Pay Station & \\$1.00 & \\$1.00 & \\$1.00 & \\$1.00 & \\$1.00 & \\$1.00 & \\$ .50 & METER IN EFFECT: 9:00 AM TO 10:00 PM & 10 Hrs & ⋯ & 10 Hrs & 10 Hrs & 10 Hrs & No Time Limit & Yes & 59916 & -123.0982 & 49.27215 & Strathcona      & 471405\\\\\n",
       "\t Twin        & \\$1.00 & \\$1.00 & \\$1.00 & \\$1.00 & \\$1.00 & \\$1.00 & NA    & METER IN EFFECT: 9:00 AM TO 10:00 PM & 2 Hr   & ⋯ & 4 Hr   & 2 Hr   & 4 Hr   & NA            & No  & 57042 & -123.1013 & 49.25468 & Riley Park      & C80145\\\\\n",
       "\t Single      & \\$1.00 & \\$1.00 & \\$1.00 & \\$1.00 & \\$1.00 & \\$1.00 & NA    & METER IN EFFECT: 9:00 AM TO 10:00 PM & 2 Hr   & ⋯ & 4 Hr   & 2 Hr   & 4 Hr   & NA            & No  & 57159 & -123.1862 & 49.26341 & West Point Grey & D03704\\\\\n",
       "\t Twin        & \\$2.00 & \\$1.00 & \\$2.00 & \\$1.00 & \\$2.00 & \\$1.00 & NA    & METER IN EFFECT: 9:00 AM TO 10:00 PM & 2 Hr   & ⋯ & 4 Hr   & 2 Hr   & 4 Hr   & NA            & No  & 51104 & -123.1278 & 49.26354 & Fairview        & 301023\\\\\n",
       "\t Twin        & \\$2.00 & \\$1.00 & \\$2.00 & \\$1.00 & \\$2.00 & \\$1.00 & NA    & METER IN EFFECT: 9:00 AM TO 10:00 PM & 3 Hr   & ⋯ & 4 Hr   & 3 Hr   & 4 Hr   & NA            & No  & 60868 & -123.1265 & 49.27431 & Downtown        & 591318\\\\\n",
       "\\end{tabular}\n"
      ],
      "text/markdown": [
       "\n",
       "A tibble: 6 × 22\n",
       "\n",
       "| meter_head &lt;chr&gt; | r_mf_9a_6p &lt;chr&gt; | r_mf_6p_10 &lt;chr&gt; | r_sa_9a_6p &lt;chr&gt; | r_sa_6p_10 &lt;chr&gt; | r_su_9a_6p &lt;chr&gt; | r_su_6p_10 &lt;chr&gt; | rate_misc &lt;chr&gt; | time_in_effect &lt;chr&gt; | t_mf_9a_6p &lt;chr&gt; | ⋯ ⋯ | t_sa_6p_10 &lt;chr&gt; | t_su_9a_6p &lt;chr&gt; | t_su_6p_10 &lt;chr&gt; | time_misc &lt;chr&gt; | credit_card &lt;chr&gt; | pay_phone &lt;chr&gt; | longitude &lt;dbl&gt; | latitude &lt;dbl&gt; | geo_local_area &lt;chr&gt; | meter_id &lt;chr&gt; |\n",
       "|---|---|---|---|---|---|---|---|---|---|---|---|---|---|---|---|---|---|---|---|---|\n",
       "| Twin        | $2.00 | $4.00 | $2.00 | $4.00 | $2.00 | $4.00 | NA    | METER IN EFFECT: 9:00 AM TO 10:00 PM | 2 Hr   | ⋯ | 4 Hr   | 2 Hr   | 4 Hr   | NA            | No  | 66890 | -123.1289 | 49.28690 | West End        | 670805 |\n",
       "| Pay Station | $1.00 | $1.00 | $1.00 | $1.00 | $1.00 | $1.00 | $ .50 | METER IN EFFECT: 9:00 AM TO 10:00 PM | 10 Hrs | ⋯ | 10 Hrs | 10 Hrs | 10 Hrs | No Time Limit | Yes | 59916 | -123.0982 | 49.27215 | Strathcona      | 471405 |\n",
       "| Twin        | $1.00 | $1.00 | $1.00 | $1.00 | $1.00 | $1.00 | NA    | METER IN EFFECT: 9:00 AM TO 10:00 PM | 2 Hr   | ⋯ | 4 Hr   | 2 Hr   | 4 Hr   | NA            | No  | 57042 | -123.1013 | 49.25468 | Riley Park      | C80145 |\n",
       "| Single      | $1.00 | $1.00 | $1.00 | $1.00 | $1.00 | $1.00 | NA    | METER IN EFFECT: 9:00 AM TO 10:00 PM | 2 Hr   | ⋯ | 4 Hr   | 2 Hr   | 4 Hr   | NA            | No  | 57159 | -123.1862 | 49.26341 | West Point Grey | D03704 |\n",
       "| Twin        | $2.00 | $1.00 | $2.00 | $1.00 | $2.00 | $1.00 | NA    | METER IN EFFECT: 9:00 AM TO 10:00 PM | 2 Hr   | ⋯ | 4 Hr   | 2 Hr   | 4 Hr   | NA            | No  | 51104 | -123.1278 | 49.26354 | Fairview        | 301023 |\n",
       "| Twin        | $2.00 | $1.00 | $2.00 | $1.00 | $2.00 | $1.00 | NA    | METER IN EFFECT: 9:00 AM TO 10:00 PM | 3 Hr   | ⋯ | 4 Hr   | 3 Hr   | 4 Hr   | NA            | No  | 60868 | -123.1265 | 49.27431 | Downtown        | 591318 |\n",
       "\n"
      ],
      "text/plain": [
       "  meter_head  r_mf_9a_6p r_mf_6p_10 r_sa_9a_6p r_sa_6p_10 r_su_9a_6p r_su_6p_10\n",
       "1 Twin        $2.00      $4.00      $2.00      $4.00      $2.00      $4.00     \n",
       "2 Pay Station $1.00      $1.00      $1.00      $1.00      $1.00      $1.00     \n",
       "3 Twin        $1.00      $1.00      $1.00      $1.00      $1.00      $1.00     \n",
       "4 Single      $1.00      $1.00      $1.00      $1.00      $1.00      $1.00     \n",
       "5 Twin        $2.00      $1.00      $2.00      $1.00      $2.00      $1.00     \n",
       "6 Twin        $2.00      $1.00      $2.00      $1.00      $2.00      $1.00     \n",
       "  rate_misc time_in_effect                       t_mf_9a_6p ⋯ t_sa_6p_10\n",
       "1 NA        METER IN EFFECT: 9:00 AM TO 10:00 PM 2 Hr       ⋯ 4 Hr      \n",
       "2 $ .50     METER IN EFFECT: 9:00 AM TO 10:00 PM 10 Hrs     ⋯ 10 Hrs    \n",
       "3 NA        METER IN EFFECT: 9:00 AM TO 10:00 PM 2 Hr       ⋯ 4 Hr      \n",
       "4 NA        METER IN EFFECT: 9:00 AM TO 10:00 PM 2 Hr       ⋯ 4 Hr      \n",
       "5 NA        METER IN EFFECT: 9:00 AM TO 10:00 PM 2 Hr       ⋯ 4 Hr      \n",
       "6 NA        METER IN EFFECT: 9:00 AM TO 10:00 PM 3 Hr       ⋯ 4 Hr      \n",
       "  t_su_9a_6p t_su_6p_10 time_misc     credit_card pay_phone longitude latitude\n",
       "1 2 Hr       4 Hr       NA            No          66890     -123.1289 49.28690\n",
       "2 10 Hrs     10 Hrs     No Time Limit Yes         59916     -123.0982 49.27215\n",
       "3 2 Hr       4 Hr       NA            No          57042     -123.1013 49.25468\n",
       "4 2 Hr       4 Hr       NA            No          57159     -123.1862 49.26341\n",
       "5 2 Hr       4 Hr       NA            No          51104     -123.1278 49.26354\n",
       "6 3 Hr       4 Hr       NA            No          60868     -123.1265 49.27431\n",
       "  geo_local_area  meter_id\n",
       "1 West End        670805  \n",
       "2 Strathcona      471405  \n",
       "3 Riley Park      C80145  \n",
       "4 West Point Grey D03704  \n",
       "5 Fairview        301023  \n",
       "6 Downtown        591318  "
      ]
     },
     "metadata": {},
     "output_type": "display_data"
    }
   ],
   "source": [
    "head(parking_meters)"
   ]
  },
  {
   "cell_type": "markdown",
   "metadata": {
    "nbgrader": {
     "grade": false,
     "grade_id": "cell-9700be8c7785053a",
     "locked": true,
     "schema_version": 3,
     "solution": false,
     "task": false
    }
   },
   "source": [
    "Let's focus on 9 am to 10 pm Monday to Friday's rate. We will take a sample of 53 downtown meters and a sample of 40 Kitsilano meters. The sample is stored in `downtown_kitsilano_sample`."
   ]
  },
  {
   "cell_type": "code",
   "execution_count": 15,
   "metadata": {
    "nbgrader": {
     "grade": false,
     "grade_id": "cell-5101e5167f562c33",
     "locked": true,
     "schema_version": 3,
     "solution": false,
     "task": false
    },
    "scrolled": false
   },
   "outputs": [
    {
     "data": {
      "text/html": [
       "<table class=\"dataframe\">\n",
       "<caption>A grouped_df: 6 × 2</caption>\n",
       "<thead>\n",
       "\t<tr><th scope=col>geo_local_area</th><th scope=col>r_mf_9a_6p</th></tr>\n",
       "\t<tr><th scope=col>&lt;chr&gt;</th><th scope=col>&lt;dbl&gt;</th></tr>\n",
       "</thead>\n",
       "<tbody>\n",
       "\t<tr><td>Downtown </td><td>5</td></tr>\n",
       "\t<tr><td>Downtown </td><td>1</td></tr>\n",
       "\t<tr><td>Downtown </td><td>2</td></tr>\n",
       "\t<tr><td>Kitsilano</td><td>5</td></tr>\n",
       "\t<tr><td>Kitsilano</td><td>1</td></tr>\n",
       "\t<tr><td>Kitsilano</td><td>4</td></tr>\n",
       "</tbody>\n",
       "</table>\n"
      ],
      "text/latex": [
       "A grouped\\_df: 6 × 2\n",
       "\\begin{tabular}{ll}\n",
       " geo\\_local\\_area & r\\_mf\\_9a\\_6p\\\\\n",
       " <chr> & <dbl>\\\\\n",
       "\\hline\n",
       "\t Downtown  & 5\\\\\n",
       "\t Downtown  & 1\\\\\n",
       "\t Downtown  & 2\\\\\n",
       "\t Kitsilano & 5\\\\\n",
       "\t Kitsilano & 1\\\\\n",
       "\t Kitsilano & 4\\\\\n",
       "\\end{tabular}\n"
      ],
      "text/markdown": [
       "\n",
       "A grouped_df: 6 × 2\n",
       "\n",
       "| geo_local_area &lt;chr&gt; | r_mf_9a_6p &lt;dbl&gt; |\n",
       "|---|---|\n",
       "| Downtown  | 5 |\n",
       "| Downtown  | 1 |\n",
       "| Downtown  | 2 |\n",
       "| Kitsilano | 5 |\n",
       "| Kitsilano | 1 |\n",
       "| Kitsilano | 4 |\n",
       "\n"
      ],
      "text/plain": [
       "  geo_local_area r_mf_9a_6p\n",
       "1 Downtown       5         \n",
       "2 Downtown       1         \n",
       "3 Downtown       2         \n",
       "4 Kitsilano      5         \n",
       "5 Kitsilano      1         \n",
       "6 Kitsilano      4         "
      ]
     },
     "metadata": {},
     "output_type": "display_data"
    }
   ],
   "source": [
    "# Run this cell before continuing\n",
    "\n",
    "set.seed(4759)\n",
    "\n",
    "parking_pop <- # Some data cleaning\n",
    "    parking_meters %>% \n",
    "    filter((geo_local_area %in% c(\"Downtown\", \"Kitsilano\")) & (!is.na(r_mf_9a_6p))) %>%\n",
    "    select(geo_local_area, r_mf_9a_6p) %>% \n",
    "    mutate(r_mf_9a_6p = as.numeric(str_remove(r_mf_9a_6p, \"\\\\$\")))\n",
    "\n",
    "downtown_kitsilano_sample <- # Taking the sample\n",
    "    parking_pop %>% \n",
    "    group_by(geo_local_area) %>% \n",
    "    sample_n(size = case_when(geo_local_area == \"Downtown\" ~ 53,\n",
    "                              geo_local_area == \"Kitsilano\" ~ 40), replace = FALSE) %>% \n",
    "    ungroup()\n",
    "\n",
    "downtown_kitsilano_sample %>% # Let's take a peek\n",
    "    group_by(geo_local_area) %>% \n",
    "    sample_n(size = 3)"
   ]
  },
  {
   "cell_type": "markdown",
   "metadata": {
    "nbgrader": {
     "grade": false,
     "grade_id": "cell-58fd73de5fcd5c27",
     "locked": true,
     "schema_version": 3,
     "solution": false,
     "task": false
    }
   },
   "source": [
    "**Question 2.1**\n",
    "<br> {points: 1}\n",
    "\n",
    "As usual, let's start by checking the sample distribution of each neighbourhood. Use `binwidth = 1`.\n",
    "\n",
    "_Assign your plot to an object called `parking_samp_dist_plot`._"
   ]
  },
  {
   "cell_type": "code",
   "execution_count": 16,
   "metadata": {
    "nbgrader": {
     "grade": false,
     "grade_id": "cell-61c19e838da29421",
     "locked": false,
     "schema_version": 3,
     "solution": true,
     "task": false
    }
   },
   "outputs": [
    {
     "data": {
      "image/png": "[encoded data removed]",
      "text/plain": [
       "plot without title"
      ]
     },
     "metadata": {
      "image/png": {
       "height": 420,
       "width": 420
      }
     },
     "output_type": "display_data"
    }
   ],
   "source": [
    "# parking_samp_dist_plot <- \n",
    "#     downtown_kitsilano_sample %>% \n",
    "#     ... + \n",
    "#     ...(..., ... = 1, color = 'white') +\n",
    "#     facet_wrap(~ geo_local_area) + \n",
    "#     ...\n",
    "#     theme(text = element_text(size = 22))\n",
    "\n",
    "\n",
    "### BEGIN SOLUTION\n",
    "parking_samp_dist_plot <- \n",
    "    downtown_kitsilano_sample %>% \n",
    "    ggplot() + \n",
    "    geom_histogram(aes(r_mf_9a_6p), binwidth = 1, color = 'white') +\n",
    "    facet_wrap(~ geo_local_area) + \n",
    "    theme(text = element_text(size = 22)) +\n",
    "    ggtitle(\"Sample distribution\") + \n",
    "    xlab(\"Parking rate\")\n",
    "### END SOLUTION\n",
    "\n",
    "parking_samp_dist_plot"
   ]
  },
  {
   "cell_type": "code",
   "execution_count": 17,
   "metadata": {
    "nbgrader": {
     "grade": true,
     "grade_id": "cell-ceb4f6891dbf13a9",
     "locked": true,
     "points": 1,
     "schema_version": 3,
     "solution": false,
     "task": false
    }
   },
   "outputs": [
    {
     "name": "stdout",
     "output_type": "stream",
     "text": [
      "\u001b[32mTest passed\u001b[39m 🥇\n",
      "\u001b[32mTest passed\u001b[39m 😀\n",
      "\u001b[32mTest passed\u001b[39m 🎉\n",
      "\u001b[32mTest passed\u001b[39m 😀\n",
      "\u001b[32mTest passed\u001b[39m 🎉\n",
      "\u001b[32mTest passed\u001b[39m 😀\n",
      "\u001b[32mTest passed\u001b[39m 🥇\n",
      "[1] \"Success!\"\n"
     ]
    }
   ],
   "source": [
    "test_2.1()"
   ]
  },
  {
   "cell_type": "markdown",
   "metadata": {
    "nbgrader": {
     "grade": false,
     "grade_id": "cell-8bf35263fd5b0e8a",
     "locked": true,
     "schema_version": 3,
     "solution": false,
     "task": false
    }
   },
   "source": [
    "**Question 2.2** \n",
    "<br> {points: 1}\n",
    "\n",
    "Obtain the sample averages of parking rates for each region, `Kitsilano` and `Downtown`, as well as their standard error.\n",
    "\n",
    "_Assign your data frame to an object called `parking_summary`. The data frame should have three columns: (1) `geo_local_area`; (2) `sample_mean`; and (3) `sample_std_error`_"
   ]
  },
  {
   "cell_type": "code",
   "execution_count": 18,
   "metadata": {
    "nbgrader": {
     "grade": false,
     "grade_id": "cell-ad6b08b245fcd5b1",
     "locked": false,
     "schema_version": 3,
     "solution": true,
     "task": false
    },
    "scrolled": true
   },
   "outputs": [
    {
     "data": {
      "text/html": [
       "<table class=\"dataframe\">\n",
       "<caption>A tibble: 2 × 3</caption>\n",
       "<thead>\n",
       "\t<tr><th scope=col>geo_local_area</th><th scope=col>sample_mean</th><th scope=col>sample_std_error</th></tr>\n",
       "\t<tr><th scope=col>&lt;chr&gt;</th><th scope=col>&lt;dbl&gt;</th><th scope=col>&lt;dbl&gt;</th></tr>\n",
       "</thead>\n",
       "<tbody>\n",
       "\t<tr><td>Downtown </td><td>3.396226</td><td>0.3110678</td></tr>\n",
       "\t<tr><td>Kitsilano</td><td>2.325000</td><td>0.2412242</td></tr>\n",
       "</tbody>\n",
       "</table>\n"
      ],
      "text/latex": [
       "A tibble: 2 × 3\n",
       "\\begin{tabular}{lll}\n",
       " geo\\_local\\_area & sample\\_mean & sample\\_std\\_error\\\\\n",
       " <chr> & <dbl> & <dbl>\\\\\n",
       "\\hline\n",
       "\t Downtown  & 3.396226 & 0.3110678\\\\\n",
       "\t Kitsilano & 2.325000 & 0.2412242\\\\\n",
       "\\end{tabular}\n"
      ],
      "text/markdown": [
       "\n",
       "A tibble: 2 × 3\n",
       "\n",
       "| geo_local_area &lt;chr&gt; | sample_mean &lt;dbl&gt; | sample_std_error &lt;dbl&gt; |\n",
       "|---|---|---|\n",
       "| Downtown  | 3.396226 | 0.3110678 |\n",
       "| Kitsilano | 2.325000 | 0.2412242 |\n",
       "\n"
      ],
      "text/plain": [
       "  geo_local_area sample_mean sample_std_error\n",
       "1 Downtown       3.396226    0.3110678       \n",
       "2 Kitsilano      2.325000    0.2412242       "
      ]
     },
     "metadata": {},
     "output_type": "display_data"
    }
   ],
   "source": [
    "### BEGIN SOLUTION\n",
    "parking_summary <- \n",
    "    downtown_kitsilano_sample %>% \n",
    "    group_by(geo_local_area) %>% \n",
    "    summarise(sample_mean = mean(r_mf_9a_6p),\n",
    "              sample_std_error = sd(r_mf_9a_6p)/sqrt(n()))\n",
    "### END SOLUTION\n",
    "\n",
    "head(parking_summary)"
   ]
  },
  {
   "cell_type": "code",
   "execution_count": 19,
   "metadata": {
    "nbgrader": {
     "grade": true,
     "grade_id": "cell-9cc24470ed6dc564",
     "locked": true,
     "points": 1,
     "schema_version": 3,
     "solution": false,
     "task": false
    }
   },
   "outputs": [
    {
     "name": "stdout",
     "output_type": "stream",
     "text": [
      "\u001b[32mTest passed\u001b[39m 😀\n",
      "\u001b[32mTest passed\u001b[39m 🥇\n",
      "\u001b[32mTest passed\u001b[39m 🥇\n",
      "\u001b[32mTest passed\u001b[39m 😀\n",
      "\u001b[32mTest passed\u001b[39m 😸\n",
      "[1] \"Success!\"\n"
     ]
    }
   ],
   "source": [
    "test_2.2()"
   ]
  },
  {
   "cell_type": "markdown",
   "metadata": {
    "nbgrader": {
     "grade": false,
     "grade_id": "cell-1da961ba5a8fef3f",
     "locked": true,
     "schema_version": 3,
     "solution": false,
     "task": false
    }
   },
   "source": [
    "**Question 2.3** \n",
    "<br> {points: 1}\n",
    "\n",
    "Obtain a 94% confidence interval for the difference between the means of Downtown and Kitsilano's parking rates using the CLT. \n",
    "\n",
    "_Assign your data frame to an object called `parking_clt_ci`. The data frame should have two columns: `lower_ci` and `upper_ci`._"
   ]
  },
  {
   "cell_type": "code",
   "execution_count": 20,
   "metadata": {
    "nbgrader": {
     "grade": false,
     "grade_id": "cell-c76bedd3b1c241b6",
     "locked": false,
     "schema_version": 3,
     "solution": true,
     "task": false
    },
    "scrolled": true
   },
   "outputs": [
    {
     "data": {
      "text/html": [
       "<table class=\"dataframe\">\n",
       "<caption>A tibble: 1 × 2</caption>\n",
       "<thead>\n",
       "\t<tr><th scope=col>lower_ci</th><th scope=col>upper_ci</th></tr>\n",
       "\t<tr><th scope=col>&lt;dbl&gt;</th><th scope=col>&lt;dbl&gt;</th></tr>\n",
       "</thead>\n",
       "<tbody>\n",
       "\t<tr><td>0.3308713</td><td>1.811582</td></tr>\n",
       "</tbody>\n",
       "</table>\n"
      ],
      "text/latex": [
       "A tibble: 1 × 2\n",
       "\\begin{tabular}{ll}\n",
       " lower\\_ci & upper\\_ci\\\\\n",
       " <dbl> & <dbl>\\\\\n",
       "\\hline\n",
       "\t 0.3308713 & 1.811582\\\\\n",
       "\\end{tabular}\n"
      ],
      "text/markdown": [
       "\n",
       "A tibble: 1 × 2\n",
       "\n",
       "| lower_ci &lt;dbl&gt; | upper_ci &lt;dbl&gt; |\n",
       "|---|---|\n",
       "| 0.3308713 | 1.811582 |\n",
       "\n"
      ],
      "text/plain": [
       "  lower_ci  upper_ci\n",
       "1 0.3308713 1.811582"
      ]
     },
     "metadata": {},
     "output_type": "display_data"
    }
   ],
   "source": [
    "# downtown_mean <- parking_summary$...\n",
    "# downtown_var <- ...\n",
    "# kits_mean <- ...\n",
    "# kits_var <- ...\n",
    "\n",
    "# parking_clt_ci <- \n",
    "#     tibble(lower_ci = ...,\n",
    "#            upper_ci = ...)\n",
    "\n",
    "### BEGIN SOLUTION\n",
    "downtown_mean <- parking_summary$sample_mean[1]\n",
    "downtown_var <- parking_summary$sample_std_error[1]^2\n",
    "kits_mean <- parking_summary$sample_mean[2]\n",
    "kits_var <- parking_summary$sample_std_error[2]^2\n",
    "\n",
    "parking_clt_ci <- \n",
    "    tibble(lower_ci = (downtown_mean - kits_mean - qnorm(0.97) * sqrt(kits_var + downtown_var)),\n",
    "           upper_ci = (downtown_mean - kits_mean + qnorm(0.97) * sqrt(kits_var + downtown_var)))\n",
    "### END SOLUTION\n",
    "\n",
    "head(parking_clt_ci)"
   ]
  },
  {
   "cell_type": "code",
   "execution_count": 21,
   "metadata": {
    "nbgrader": {
     "grade": true,
     "grade_id": "cell-94b7ce714b831581",
     "locked": true,
     "points": 1,
     "schema_version": 3,
     "solution": false,
     "task": false
    }
   },
   "outputs": [
    {
     "name": "stdout",
     "output_type": "stream",
     "text": [
      "\u001b[32mTest passed\u001b[39m 😀\n",
      "\u001b[32mTest passed\u001b[39m 🥇\n",
      "\u001b[32mTest passed\u001b[39m 🎊\n",
      "\u001b[32mTest passed\u001b[39m 🎉\n",
      "\u001b[32mTest passed\u001b[39m 🥳\n",
      "[1] \"Success!\"\n"
     ]
    }
   ],
   "source": [
    "# Here we check to see if you have given your answer the correct object name\n",
    "# and if your answer is plausible. However, all other tests have been hidden\n",
    "# so you can practice deciding when you have the correct answer.\n",
    "test_that('Did not assign answer to an object called \"parking_clt_ci\"', {\n",
    "  expect_true(exists(\"parking_clt_ci\"))\n",
    "})\n",
    "test_that(\"Solution should be a data frame\", {\n",
    "  expect_true(\"data.frame\" %in% class(parking_clt_ci))\n",
    "})\n",
    "\n",
    "### BEGIN HIDDEN TESTS\n",
    "expected_colnames <- c(\"lower_ci\", \"upper_ci\")\n",
    "given_colnames <- colnames(parking_clt_ci)\n",
    "test_that(\"Data frame does not have the correct columns\", {\n",
    "  expect_equal(length(setdiff(\n",
    "    union(expected_colnames, given_colnames),\n",
    "    intersect(expected_colnames, given_colnames)\n",
    "  )), 0)\n",
    "})\n",
    "\n",
    "test_that(\"Data frame does not contain the correct number of rows\", {\n",
    "  expect_equal(digest(as.integer(nrow(parking_clt_ci))), \"4b5630ee914e848e8d07221556b0a2fb\")\n",
    "})\n",
    "\n",
    "test_that(\"Data frame does not contain the correct data\", {\n",
    "      expect_equal(digest(as.integer(parking_clt_ci$lower_ci+parking_clt_ci$upper_ci * 10e6)), \"5aa2c08214afc7ce67726e78c9b741dc\")\n",
    "})\n",
    "\n",
    "print(\"Success!\")\n",
    "### END HIDDEN TESTS"
   ]
  },
  {
   "cell_type": "markdown",
   "metadata": {
    "nbgrader": {
     "grade": false,
     "grade_id": "cell-accda98a2b390651",
     "locked": true,
     "schema_version": 3,
     "solution": false,
     "task": false
    }
   },
   "source": [
    "**Question 2.4**\n",
    "<br> {points: 1}\n",
    "\n",
    "\n",
    "Are these intervals accurate? In other words, if we were to do this process multiple times, will we capture the true parking rate difference approximately 94% of the time?  This is what we are going to investigate in this exercise. We have already taken 100 samples saved in the `parking_multiple_ci` object. \n",
    "\n",
    "Your job is:\n",
    "1. add two columns to the `parking_multiple_ci` data frame, namely, `lower_ci` and `upper_ci` with the lower and upper bound of the respective confidence interval. \n",
    "2. add a third column, `captured`, with `TRUE` or `FALSE`, if the interval captured the true difference. \n",
    "3. finally, select only the `replicate`, `lower_ci`, `upper_ci`, and `captured` columns.\n",
    "\n",
    "\n",
    "_Assign your plot to an object called `parking_multiple_ci`._"
   ]
  },
  {
   "cell_type": "code",
   "execution_count": 22,
   "metadata": {
    "nbgrader": {
     "grade": false,
     "grade_id": "cell-320b591ff02f2dcd",
     "locked": true,
     "schema_version": 3,
     "solution": false,
     "task": false
    }
   },
   "outputs": [
    {
     "name": "stderr",
     "output_type": "stream",
     "text": [
      "`summarise()` has grouped output by 'replicate'. You can override using the `.groups` argument.\n",
      "\n"
     ]
    },
    {
     "data": {
      "text/html": [
       "<table class=\"dataframe\">\n",
       "<caption>A grouped_df: 6 × 7</caption>\n",
       "<thead>\n",
       "\t<tr><th scope=col>replicate</th><th scope=col>sample_mean_Downtown</th><th scope=col>sample_mean_Kitsilano</th><th scope=col>sample_std_error_Downtown</th><th scope=col>sample_std_error_Kitsilano</th><th scope=col>n_Downtown</th><th scope=col>n_Kitsilano</th></tr>\n",
       "\t<tr><th scope=col>&lt;int&gt;</th><th scope=col>&lt;dbl&gt;</th><th scope=col>&lt;dbl&gt;</th><th scope=col>&lt;dbl&gt;</th><th scope=col>&lt;dbl&gt;</th><th scope=col>&lt;int&gt;</th><th scope=col>&lt;int&gt;</th></tr>\n",
       "</thead>\n",
       "<tbody>\n",
       "\t<tr><td>1</td><td>3.528302</td><td>2.4000</td><td>0.2791156</td><td>0.2601775</td><td>53</td><td>40</td></tr>\n",
       "\t<tr><td>2</td><td>3.528302</td><td>2.3500</td><td>0.2883864</td><td>0.2620188</td><td>53</td><td>40</td></tr>\n",
       "\t<tr><td>3</td><td>4.000000</td><td>2.3250</td><td>0.3047757</td><td>0.2490688</td><td>53</td><td>40</td></tr>\n",
       "\t<tr><td>4</td><td>2.764151</td><td>2.4000</td><td>0.2742597</td><td>0.2698528</td><td>53</td><td>40</td></tr>\n",
       "\t<tr><td>5</td><td>3.443396</td><td>2.3500</td><td>0.3129001</td><td>0.2898939</td><td>53</td><td>40</td></tr>\n",
       "\t<tr><td>6</td><td>3.811321</td><td>1.9125</td><td>0.3365243</td><td>0.2117445</td><td>53</td><td>40</td></tr>\n",
       "</tbody>\n",
       "</table>\n"
      ],
      "text/latex": [
       "A grouped\\_df: 6 × 7\n",
       "\\begin{tabular}{lllllll}\n",
       " replicate & sample\\_mean\\_Downtown & sample\\_mean\\_Kitsilano & sample\\_std\\_error\\_Downtown & sample\\_std\\_error\\_Kitsilano & n\\_Downtown & n\\_Kitsilano\\\\\n",
       " <int> & <dbl> & <dbl> & <dbl> & <dbl> & <int> & <int>\\\\\n",
       "\\hline\n",
       "\t 1 & 3.528302 & 2.4000 & 0.2791156 & 0.2601775 & 53 & 40\\\\\n",
       "\t 2 & 3.528302 & 2.3500 & 0.2883864 & 0.2620188 & 53 & 40\\\\\n",
       "\t 3 & 4.000000 & 2.3250 & 0.3047757 & 0.2490688 & 53 & 40\\\\\n",
       "\t 4 & 2.764151 & 2.4000 & 0.2742597 & 0.2698528 & 53 & 40\\\\\n",
       "\t 5 & 3.443396 & 2.3500 & 0.3129001 & 0.2898939 & 53 & 40\\\\\n",
       "\t 6 & 3.811321 & 1.9125 & 0.3365243 & 0.2117445 & 53 & 40\\\\\n",
       "\\end{tabular}\n"
      ],
      "text/markdown": [
       "\n",
       "A grouped_df: 6 × 7\n",
       "\n",
       "| replicate &lt;int&gt; | sample_mean_Downtown &lt;dbl&gt; | sample_mean_Kitsilano &lt;dbl&gt; | sample_std_error_Downtown &lt;dbl&gt; | sample_std_error_Kitsilano &lt;dbl&gt; | n_Downtown &lt;int&gt; | n_Kitsilano &lt;int&gt; |\n",
       "|---|---|---|---|---|---|---|\n",
       "| 1 | 3.528302 | 2.4000 | 0.2791156 | 0.2601775 | 53 | 40 |\n",
       "| 2 | 3.528302 | 2.3500 | 0.2883864 | 0.2620188 | 53 | 40 |\n",
       "| 3 | 4.000000 | 2.3250 | 0.3047757 | 0.2490688 | 53 | 40 |\n",
       "| 4 | 2.764151 | 2.4000 | 0.2742597 | 0.2698528 | 53 | 40 |\n",
       "| 5 | 3.443396 | 2.3500 | 0.3129001 | 0.2898939 | 53 | 40 |\n",
       "| 6 | 3.811321 | 1.9125 | 0.3365243 | 0.2117445 | 53 | 40 |\n",
       "\n"
      ],
      "text/plain": [
       "  replicate sample_mean_Downtown sample_mean_Kitsilano\n",
       "1 1         3.528302             2.4000               \n",
       "2 2         3.528302             2.3500               \n",
       "3 3         4.000000             2.3250               \n",
       "4 4         2.764151             2.4000               \n",
       "5 5         3.443396             2.3500               \n",
       "6 6         3.811321             1.9125               \n",
       "  sample_std_error_Downtown sample_std_error_Kitsilano n_Downtown n_Kitsilano\n",
       "1 0.2791156                 0.2601775                  53         40         \n",
       "2 0.2883864                 0.2620188                  53         40         \n",
       "3 0.3047757                 0.2490688                  53         40         \n",
       "4 0.2742597                 0.2698528                  53         40         \n",
       "5 0.3129001                 0.2898939                  53         40         \n",
       "6 0.3365243                 0.2117445                  53         40         "
      ]
     },
     "metadata": {},
     "output_type": "display_data"
    }
   ],
   "source": [
    "# Run this cell before continuing\n",
    "\n",
    "set.seed(20210301) # Do not change this.\n",
    "\n",
    "# Obtain the means of parking rates in each neighbourhood.\n",
    "true_means <-\n",
    "    parking_pop %>% \n",
    "    group_by(geo_local_area) %>% \n",
    "    summarise(sample_mean = mean(r_mf_9a_6p)) %>% \n",
    "    pull(sample_mean)\n",
    "\n",
    "# Obtain the true difference in mean\n",
    "true_diff = true_means[1] - true_means[2]\n",
    "\n",
    "parking_multiple_samples <- \n",
    "    tibble(replicate = 1:100) %>% \n",
    "    mutate(sample = map(replicate,\n",
    "                        `.f` = ~\n",
    "                            parking_pop %>% \n",
    "                            group_by(geo_local_area) %>% \n",
    "                            sample_n(size = case_when(geo_local_area == \"Downtown\" ~ 53,\n",
    "                                                      geo_local_area == \"Kitsilano\" ~ 40), replace = FALSE) %>% \n",
    "                            ungroup() \n",
    "                    )\n",
    "    ) %>% \n",
    "    unnest(sample) %>% \n",
    "    group_by(replicate, geo_local_area) %>% \n",
    "    summarise(sample_mean = mean(r_mf_9a_6p),\n",
    "              sample_std_error = sd(r_mf_9a_6p)/sqrt(n()),\n",
    "              n = n()) %>% \n",
    "    pivot_wider(names_from = geo_local_area, values_from = c(sample_mean, sample_std_error, n))\n",
    "\n",
    "head(parking_multiple_samples)"
   ]
  },
  {
   "cell_type": "code",
   "execution_count": 23,
   "metadata": {
    "nbgrader": {
     "grade": false,
     "grade_id": "cell-b2f055d4516416ac",
     "locked": false,
     "schema_version": 3,
     "solution": true,
     "task": false
    }
   },
   "outputs": [
    {
     "data": {
      "text/html": [
       "<table class=\"dataframe\">\n",
       "<caption>A grouped_df: 6 × 4</caption>\n",
       "<thead>\n",
       "\t<tr><th scope=col>replicate</th><th scope=col>lower_ci</th><th scope=col>upper_ci</th><th scope=col>captured</th></tr>\n",
       "\t<tr><th scope=col>&lt;int&gt;</th><th scope=col>&lt;dbl&gt;</th><th scope=col>&lt;dbl&gt;</th><th scope=col>&lt;lgl&gt;</th></tr>\n",
       "</thead>\n",
       "<tbody>\n",
       "\t<tr><td>1</td><td> 0.4106422</td><td>1.845962</td><td> TRUE</td></tr>\n",
       "\t<tr><td>2</td><td> 0.4454664</td><td>1.911137</td><td> TRUE</td></tr>\n",
       "\t<tr><td>3</td><td> 0.9347136</td><td>2.415286</td><td> TRUE</td></tr>\n",
       "\t<tr><td>4</td><td>-0.3594999</td><td>1.087802</td><td> TRUE</td></tr>\n",
       "\t<tr><td>5</td><td> 0.2911437</td><td>1.895649</td><td> TRUE</td></tr>\n",
       "\t<tr><td>6</td><td> 1.1510205</td><td>2.646621</td><td>FALSE</td></tr>\n",
       "</tbody>\n",
       "</table>\n"
      ],
      "text/latex": [
       "A grouped\\_df: 6 × 4\n",
       "\\begin{tabular}{llll}\n",
       " replicate & lower\\_ci & upper\\_ci & captured\\\\\n",
       " <int> & <dbl> & <dbl> & <lgl>\\\\\n",
       "\\hline\n",
       "\t 1 &  0.4106422 & 1.845962 &  TRUE\\\\\n",
       "\t 2 &  0.4454664 & 1.911137 &  TRUE\\\\\n",
       "\t 3 &  0.9347136 & 2.415286 &  TRUE\\\\\n",
       "\t 4 & -0.3594999 & 1.087802 &  TRUE\\\\\n",
       "\t 5 &  0.2911437 & 1.895649 &  TRUE\\\\\n",
       "\t 6 &  1.1510205 & 2.646621 & FALSE\\\\\n",
       "\\end{tabular}\n"
      ],
      "text/markdown": [
       "\n",
       "A grouped_df: 6 × 4\n",
       "\n",
       "| replicate &lt;int&gt; | lower_ci &lt;dbl&gt; | upper_ci &lt;dbl&gt; | captured &lt;lgl&gt; |\n",
       "|---|---|---|---|\n",
       "| 1 |  0.4106422 | 1.845962 |  TRUE |\n",
       "| 2 |  0.4454664 | 1.911137 |  TRUE |\n",
       "| 3 |  0.9347136 | 2.415286 |  TRUE |\n",
       "| 4 | -0.3594999 | 1.087802 |  TRUE |\n",
       "| 5 |  0.2911437 | 1.895649 |  TRUE |\n",
       "| 6 |  1.1510205 | 2.646621 | FALSE |\n",
       "\n"
      ],
      "text/plain": [
       "  replicate lower_ci   upper_ci captured\n",
       "1 1          0.4106422 1.845962  TRUE   \n",
       "2 2          0.4454664 1.911137  TRUE   \n",
       "3 3          0.9347136 2.415286  TRUE   \n",
       "4 4         -0.3594999 1.087802  TRUE   \n",
       "5 5          0.2911437 1.895649  TRUE   \n",
       "6 6          1.1510205 2.646621 FALSE   "
      ]
     },
     "metadata": {},
     "output_type": "display_data"
    }
   ],
   "source": [
    "# parking_multiple_ci <-\n",
    "#     parking_multiple_samples %>% \n",
    "#     mutate(lower_ci = ...,\n",
    "#            upper_ci = ...) %>% \n",
    "#     select(replicate, lower_ci, upper_ci) %>% \n",
    "#     mutate(captured = between(true_diff, ..., ...))\n",
    "\n",
    "\n",
    "### BEGIN SOLUTION\n",
    "\n",
    "parking_multiple_ci <-\n",
    "    parking_multiple_samples %>% \n",
    "    mutate(lower_ci = sample_mean_Downtown - sample_mean_Kitsilano - qnorm(0.97) * sqrt(sample_std_error_Downtown^2+sample_std_error_Kitsilano^2),\n",
    "           upper_ci = sample_mean_Downtown - sample_mean_Kitsilano + qnorm(0.97) * sqrt(sample_std_error_Downtown^2+sample_std_error_Kitsilano^2)) %>% \n",
    "    select(replicate, lower_ci, upper_ci) %>% \n",
    "    mutate(captured = between(true_diff, lower_ci, upper_ci))\n",
    "\n",
    "### END SOLUTION\n",
    "\n",
    "head(parking_multiple_ci)"
   ]
  },
  {
   "cell_type": "code",
   "execution_count": 24,
   "metadata": {
    "nbgrader": {
     "grade": true,
     "grade_id": "cell-d112254b32c744cc",
     "locked": true,
     "points": 1,
     "schema_version": 3,
     "solution": false,
     "task": false
    }
   },
   "outputs": [
    {
     "name": "stdout",
     "output_type": "stream",
     "text": [
      "\u001b[32mTest passed\u001b[39m 🌈\n",
      "\u001b[32mTest passed\u001b[39m 🌈\n",
      "\u001b[32mTest passed\u001b[39m 🎉\n",
      "\u001b[32mTest passed\u001b[39m 🥇\n",
      "\u001b[32mTest passed\u001b[39m 😸\n",
      "[1] \"Success!\"\n"
     ]
    }
   ],
   "source": [
    "test_2.4()"
   ]
  },
  {
   "cell_type": "markdown",
   "metadata": {
    "nbgrader": {
     "grade": false,
     "grade_id": "cell-157421d1b1768043",
     "locked": true,
     "schema_version": 3,
     "solution": false,
     "task": false
    }
   },
   "source": [
    "Nice job! Run the cell below to visualize the confidence intervals."
   ]
  },
  {
   "cell_type": "code",
   "execution_count": 25,
   "metadata": {},
   "outputs": [
    {
     "data": {
      "image/png": "[encoded data removed]",
      "text/plain": [
       "plot without title"
      ]
     },
     "metadata": {
      "image/png": {
       "height": 420,
       "width": 420
      }
     },
     "output_type": "display_data"
    }
   ],
   "source": [
    "parking_multiple_ci %>% \n",
    "    ggplot() +\n",
    "    scale_colour_manual(breaks = c(\"TRUE\", \"FALSE\"), # Change colour scale for better visibility.\n",
    "                        values = c(\"grey\", \"black\")) +\n",
    "    geom_segment(aes(x = lower_ci,\n",
    "                     xend = upper_ci,\n",
    "                     y = replicate,\n",
    "                     yend = replicate,\n",
    "                     colour = captured)) +\n",
    "    geom_vline(xintercept = true_diff, colour = \"red\", size = 1) +\n",
    "    labs(title = \"100 90% Confidence Intervals\",\n",
    "         x = 'Difference in means',\n",
    "         y = \"Sample ID\",\n",
    "         colour = \"Captured?\") +\n",
    "    theme_bw() + # Sets a theme for better visibility.\n",
    "    theme(text = element_text(size = 18)) \n",
    "    "
   ]
  },
  {
   "cell_type": "markdown",
   "metadata": {
    "nbgrader": {
     "grade": false,
     "grade_id": "cell-181ab17fe26a6a50",
     "locked": true,
     "schema_version": 3,
     "solution": false,
     "task": false
    }
   },
   "source": [
    "As you can see, the CLT approximation seems quite reasonable, even though our population is not Normal."
   ]
  },
  {
   "cell_type": "markdown",
   "metadata": {
    "nbgrader": {
     "grade": false,
     "grade_id": "cell-43ca3aa53c81359d",
     "locked": true,
     "schema_version": 3,
     "solution": false,
     "task": false
    }
   },
   "source": [
    "## 3. Estimating Proportions using CLT\n",
    "\n",
    "There was a provincial election in British Columbia in 2020. Before the election, the pollsters were hard at work trying to estimate the proportion of votes each party would get if the election happened when the data was collected. In this section, we will work with a data set from [a poll performed by the Angus Reid Institute](https://angusreid.org/bc-election-post-debate/) that asked people which party they intended to vote for. Let's start by reading the data set.\n"
   ]
  },
  {
   "cell_type": "code",
   "execution_count": 26,
   "metadata": {
    "nbgrader": {
     "grade": false,
     "grade_id": "cell-3f476650f00a2175",
     "locked": true,
     "schema_version": 3,
     "solution": false,
     "task": false
    }
   },
   "outputs": [
    {
     "name": "stderr",
     "output_type": "stream",
     "text": [
      "\u001b[1m\u001b[1mRows: \u001b[1m\u001b[22m\u001b[34m\u001b[34m714\u001b[34m\u001b[39m \u001b[1m\u001b[1mColumns: \u001b[1m\u001b[22m\u001b[34m\u001b[34m1\u001b[34m\u001b[39m\n",
      "\n",
      "\u001b[36m──\u001b[39m \u001b[1m\u001b[1mColumn specification\u001b[1m\u001b[22m \u001b[36m───────────────────────────────────────────────────────────────────────────────────\u001b[39m\n",
      "\u001b[1mDelimiter:\u001b[22m \",\"\n",
      "\u001b[31mchr\u001b[39m (1): party\n",
      "\n",
      "\n",
      "\u001b[36mℹ\u001b[39m Use \u001b[30m\u001b[47m\u001b[30m\u001b[47m`spec()`\u001b[47m\u001b[30m\u001b[49m\u001b[39m to retrieve the full column specification for this data.\n",
      "\u001b[36mℹ\u001b[39m Specify the column types or set \u001b[30m\u001b[47m\u001b[30m\u001b[47m`show_col_types = FALSE`\u001b[47m\u001b[30m\u001b[49m\u001b[39m to quiet this message.\n",
      "\n"
     ]
    },
    {
     "data": {
      "text/html": [
       "<table class=\"dataframe\">\n",
       "<caption>A tibble: 6 × 1</caption>\n",
       "<thead>\n",
       "\t<tr><th scope=col>party</th></tr>\n",
       "\t<tr><th scope=col>&lt;fct&gt;</th></tr>\n",
       "</thead>\n",
       "<tbody>\n",
       "\t<tr><td>BC Liberals   </td></tr>\n",
       "\t<tr><td>BC NDP        </td></tr>\n",
       "\t<tr><td>BC Green Party</td></tr>\n",
       "\t<tr><td>BC Liberals   </td></tr>\n",
       "\t<tr><td>BC NDP        </td></tr>\n",
       "\t<tr><td>BC NDP        </td></tr>\n",
       "</tbody>\n",
       "</table>\n"
      ],
      "text/latex": [
       "A tibble: 6 × 1\n",
       "\\begin{tabular}{l}\n",
       " party\\\\\n",
       " <fct>\\\\\n",
       "\\hline\n",
       "\t BC Liberals   \\\\\n",
       "\t BC NDP        \\\\\n",
       "\t BC Green Party\\\\\n",
       "\t BC Liberals   \\\\\n",
       "\t BC NDP        \\\\\n",
       "\t BC NDP        \\\\\n",
       "\\end{tabular}\n"
      ],
      "text/markdown": [
       "\n",
       "A tibble: 6 × 1\n",
       "\n",
       "| party &lt;fct&gt; |\n",
       "|---|\n",
       "| BC Liberals    |\n",
       "| BC NDP         |\n",
       "| BC Green Party |\n",
       "| BC Liberals    |\n",
       "| BC NDP         |\n",
       "| BC NDP         |\n",
       "\n"
      ],
      "text/plain": [
       "  party         \n",
       "1 BC Liberals   \n",
       "2 BC NDP        \n",
       "3 BC Green Party\n",
       "4 BC Liberals   \n",
       "5 BC NDP        \n",
       "6 BC NDP        "
      ]
     },
     "metadata": {},
     "output_type": "display_data"
    }
   ],
   "source": [
    "polls <- \n",
    "    read_csv(\"angus_reid_poll.csv\") %>% \n",
    "    mutate(party = as.factor(party))\n",
    "\n",
    "head(polls)"
   ]
  },
  {
   "cell_type": "markdown",
   "metadata": {
    "nbgrader": {
     "grade": false,
     "grade_id": "cell-a2326ccc916cf24e",
     "locked": true,
     "schema_version": 3,
     "solution": false,
     "task": false
    }
   },
   "source": [
    "**Question 3.1** \n",
    "<br> {points: 1}\n",
    "\n",
    "Since we intend to use the CLT, let us start by calculating the quantities that we need:\n",
    "\n",
    "1. the total number of votes each party received, this should be stored in a column named `n`;\n",
    "2. the proportion of votes each party received, this should be stored in a column named `prop`;\n",
    "3. the standard error of the sample proportion of each party, which should be stored in a column named `se`;\n",
    "3. lower and upper boundaries of the 90% confidence interval, stored in columns `lower_ci` and `upper_ci` respectively;\n",
    "\n",
    "_Assign your data frame to an object called `polls_summary`._"
   ]
  },
  {
   "cell_type": "code",
   "execution_count": 27,
   "metadata": {
    "nbgrader": {
     "grade": false,
     "grade_id": "cell-ff46d1939db8240a",
     "locked": false,
     "schema_version": 3,
     "solution": true,
     "task": false
    }
   },
   "outputs": [
    {
     "data": {
      "text/html": [
       "<table class=\"dataframe\">\n",
       "<caption>A tibble: 4 × 6</caption>\n",
       "<thead>\n",
       "\t<tr><th scope=col>party</th><th scope=col>prop</th><th scope=col>n</th><th scope=col>se</th><th scope=col>lower_ci</th><th scope=col>upper_ci</th></tr>\n",
       "\t<tr><th scope=col>&lt;fct&gt;</th><th scope=col>&lt;dbl&gt;</th><th scope=col>&lt;int&gt;</th><th scope=col>&lt;dbl&gt;</th><th scope=col>&lt;dbl&gt;</th><th scope=col>&lt;dbl&gt;</th></tr>\n",
       "</thead>\n",
       "<tbody>\n",
       "\t<tr><td>Another party </td><td>0.04761905</td><td> 34</td><td>0.007969785</td><td>0.03199856</td><td>0.06323954</td></tr>\n",
       "\t<tr><td>BC Green Party</td><td>0.13725490</td><td> 98</td><td>0.012878227</td><td>0.11201404</td><td>0.16249576</td></tr>\n",
       "\t<tr><td>BC Liberals   </td><td>0.32773109</td><td>234</td><td>0.017566338</td><td>0.29330170</td><td>0.36216048</td></tr>\n",
       "\t<tr><td>BC NDP        </td><td>0.48739496</td><td>348</td><td>0.018706083</td><td>0.45073171</td><td>0.52405821</td></tr>\n",
       "</tbody>\n",
       "</table>\n"
      ],
      "text/latex": [
       "A tibble: 4 × 6\n",
       "\\begin{tabular}{llllll}\n",
       " party & prop & n & se & lower\\_ci & upper\\_ci\\\\\n",
       " <fct> & <dbl> & <int> & <dbl> & <dbl> & <dbl>\\\\\n",
       "\\hline\n",
       "\t Another party  & 0.04761905 &  34 & 0.007969785 & 0.03199856 & 0.06323954\\\\\n",
       "\t BC Green Party & 0.13725490 &  98 & 0.012878227 & 0.11201404 & 0.16249576\\\\\n",
       "\t BC Liberals    & 0.32773109 & 234 & 0.017566338 & 0.29330170 & 0.36216048\\\\\n",
       "\t BC NDP         & 0.48739496 & 348 & 0.018706083 & 0.45073171 & 0.52405821\\\\\n",
       "\\end{tabular}\n"
      ],
      "text/markdown": [
       "\n",
       "A tibble: 4 × 6\n",
       "\n",
       "| party &lt;fct&gt; | prop &lt;dbl&gt; | n &lt;int&gt; | se &lt;dbl&gt; | lower_ci &lt;dbl&gt; | upper_ci &lt;dbl&gt; |\n",
       "|---|---|---|---|---|---|\n",
       "| Another party  | 0.04761905 |  34 | 0.007969785 | 0.03199856 | 0.06323954 |\n",
       "| BC Green Party | 0.13725490 |  98 | 0.012878227 | 0.11201404 | 0.16249576 |\n",
       "| BC Liberals    | 0.32773109 | 234 | 0.017566338 | 0.29330170 | 0.36216048 |\n",
       "| BC NDP         | 0.48739496 | 348 | 0.018706083 | 0.45073171 | 0.52405821 |\n",
       "\n"
      ],
      "text/plain": [
       "  party          prop       n   se          lower_ci   upper_ci  \n",
       "1 Another party  0.04761905  34 0.007969785 0.03199856 0.06323954\n",
       "2 BC Green Party 0.13725490  98 0.012878227 0.11201404 0.16249576\n",
       "3 BC Liberals    0.32773109 234 0.017566338 0.29330170 0.36216048\n",
       "4 BC NDP         0.48739496 348 0.018706083 0.45073171 0.52405821"
      ]
     },
     "metadata": {},
     "output_type": "display_data"
    }
   ],
   "source": [
    "# polls_summary <- \n",
    "#     polls %>% \n",
    "#     ... %>% \n",
    "#     summarise(n =  n(),\n",
    "#               prop = ...,              \n",
    "#               se = ...,\n",
    "#               lower_ci = ...,\n",
    "#               upper_ci = ...) %>% \n",
    "#     mutate(party = fct_reorder(party, prop, .desc = TRUE))\n",
    "\n",
    "### BEGIN SOLUTION\n",
    "polls_summary <- \n",
    "    polls %>% \n",
    "    group_by(party) %>% \n",
    "    summarise(prop = n() / nrow(polls),\n",
    "              n =  n(),\n",
    "              se = sqrt(prop * (1 - prop) / nrow(polls) ),\n",
    "              lower_ci = prop - (qnorm(0.975) * se),\n",
    "              upper_ci = prop + (qnorm(0.975) * se)) %>% \n",
    "    mutate(party = fct_reorder(party, prop, .desc = TRUE))\n",
    "### END SOLUTION\n",
    "\n",
    "head(polls_summary)"
   ]
  },
  {
   "cell_type": "code",
   "execution_count": 28,
   "metadata": {
    "nbgrader": {
     "grade": true,
     "grade_id": "cell-17b4f1c1973d3ee8",
     "locked": true,
     "points": 1,
     "schema_version": 3,
     "solution": false,
     "task": false
    }
   },
   "outputs": [
    {
     "name": "stdout",
     "output_type": "stream",
     "text": [
      "\u001b[32mTest passed\u001b[39m 🥇\n",
      "\u001b[32mTest passed\u001b[39m 😀\n",
      "\u001b[32mTest passed\u001b[39m 🥳\n",
      "\u001b[32mTest passed\u001b[39m 🥳\n",
      "\u001b[32mTest passed\u001b[39m 🎊\n",
      "[1] \"Success!\"\n"
     ]
    }
   ],
   "source": [
    "# Here we check to see if you have given your answer the correct object name\n",
    "# and if your answer is plausible. However, all other tests have been hidden\n",
    "# so you can practice deciding when you have the correct answer.\n",
    "test_that('Did not assign answer to an object called \"polls_summary\"', {\n",
    "  expect_true(exists(\"polls_summary\"))\n",
    "})\n",
    "test_that(\"Solution should be a data frame\", {\n",
    "  expect_true(\"data.frame\" %in% class(polls_summary))\n",
    "})\n",
    "expected_colnames <- c(\"party\", \"prop\", \"n\", \"se\", \"lower_ci\", \"upper_ci\")\n",
    "\n",
    "given_colnames <- colnames(polls_summary)\n",
    "test_that(\"Data frame does not have the correct columns\", {\n",
    "  expect_equal(length(setdiff(\n",
    "    union(expected_colnames, given_colnames),\n",
    "    intersect(expected_colnames, given_colnames)\n",
    "  )), 0)\n",
    "})\n",
    "\n",
    "test_that(\"Data frame does not contain the correct number of rows\", {\n",
    "  expect_equal(digest(as.integer(nrow(polls_summary))), \"234a2a5581872457b9fe1187d1616b13\")\n",
    "})\n",
    "\n",
    "\n",
    "### BEGIN HIDDEN TESTS\n",
    "test_that(\"Data frame does not contain the correct data\", {\n",
    "    expect_equal(digest(as.integer(sum(polls_summary$prop) * 10e6)), \"e70c8aebf8e11c6fa4c9d6fc367d7fc9\")\n",
    "    expect_equal(digest(as.integer(sum(polls_summary$n))), \"1ca78180d8528ea0a2e5807559c93229\")\n",
    "    expect_equal(digest(as.integer(sum(polls_summary$se) * 10e6)), \"c28860f1c3af2490f74916cfd0ff9d25\")\n",
    "    expect_equal(digest(as.integer(sum(polls_summary$lower_ci) * 10e6)), \"5d2c81d7292b016071dbb7761c21fc84\")\n",
    "    expect_equal(digest(as.integer(sum(polls_summary$upper_ci) * 10e6)), \"0992bc7d957a8f39a1759e71560fb1a4\")\n",
    "})\n",
    "\n",
    "print(\"Success!\")\n",
    "### END HIDDEN TESTS"
   ]
  },
  {
   "cell_type": "markdown",
   "metadata": {
    "nbgrader": {
     "grade": false,
     "grade_id": "cell-fe486c881a7e169a",
     "locked": true,
     "schema_version": 3,
     "solution": false,
     "task": false
    }
   },
   "source": [
    "How about we visualize the information you obtained with a plot? "
   ]
  },
  {
   "cell_type": "code",
   "execution_count": 29,
   "metadata": {
    "nbgrader": {
     "grade": false,
     "grade_id": "cell-ae789f888efdcffa",
     "locked": true,
     "schema_version": 3,
     "solution": false,
     "task": false
    }
   },
   "outputs": [
    {
     "data": {
      "image/png": "[encoded data removed]",
      "text/plain": [
       "plot without title"
      ]
     },
     "metadata": {
      "image/png": {
       "height": 480,
       "width": 600
      }
     },
     "output_type": "display_data"
    }
   ],
   "source": [
    "options(repr.plot.width = 10, repr.plot.height = 8)\n",
    "\n",
    "poll_ci_plot <- \n",
    "    polls_summary %>% \n",
    "    ggplot(aes(x = party, y = prop, fill=party)) +\n",
    "      geom_bar(stat = \"identity\", \n",
    "               colour=\"black\",\n",
    "               alpha = .6) +\n",
    "      geom_errorbar(aes(ymin = lower_ci, ymax = upper_ci),\n",
    "                    size = 0.5, color = \"black\", width=.2) +\n",
    "      theme_bw() +\n",
    "      xlab(\"Political party\") +\n",
    "      ylab(\"Proportion intending to vote\") +\n",
    "      theme(text = element_text(size = 20)) + \n",
    "      ggtitle(\"Poll BC 2020 election\")\n",
    "\n",
    "poll_ci_plot"
   ]
  },
  {
   "cell_type": "markdown",
   "metadata": {
    "nbgrader": {
     "grade": false,
     "grade_id": "cell-d21f147740f1292e",
     "locked": true,
     "schema_version": 3,
     "solution": false,
     "task": false
    }
   },
   "source": [
    "**Question 3.2** \n",
    "<br> {points: 4}\n",
    "\n",
    "Use written English to interpret and report the estimates (and their confidence intervals) for each party. Is there any concern over using the CLT to obtain the confidence interval for the proportion for any of the parties?"
   ]
  },
  {
   "cell_type": "markdown",
   "metadata": {
    "nbgrader": {
     "grade": true,
     "grade_id": "cell-de06e53cd1d8d152",
     "locked": false,
     "points": 3,
     "schema_version": 3,
     "solution": true,
     "task": false
    }
   },
   "source": [
    "\n",
    "### BEGIN SOLUTION\n",
    "We calculated an estimate that 48.74% of people intend to vote for the BC NDP party and we are 90% “confident” that true value for this is between 45.07 and 52.41%.\n",
    "\n",
    "We calculated an estimate that 32.77% of people intend to vote for the BC Liberals party and we are 90% “confident” that true value for this is between 29.33 and 36.22%.\n",
    "\n",
    "We calculated an estimate that 13.73% of people intend to vote for the BC Green Party party and we are 90% “confident” that true value for this is between 11.2 and 16.25%.\n",
    "\n",
    "We calculated an estimate that 4.76% of people intend to vote for Another party and we are 90% “confident” that true value for this is between 3.2 and 6.32%. One might say that the CLT is inappropriate in this case, as the sample proportion is quite low and $p\\times n\\approx 1.8$, which indicates that the CLT will be a poor aproximation of the sampling distribution in this case. \n",
    "### END SOLUTION"
   ]
  },
  {
   "cell_type": "markdown",
   "metadata": {
    "nbgrader": {
     "grade": false,
     "grade_id": "cell-60a87776067987a6",
     "locked": true,
     "schema_version": 3,
     "solution": false,
     "task": false
    }
   },
   "source": [
    "## 4. Estimating difference in proportions using CLT\n",
    "\n",
    "In Question 3 of Tutorial 6, we used the [Breast Cancer](https://archive.ics.uci.edu/ml/datasets/Breast+Cancer) data set and studied the effects of radiation therapy on the recurrence of breast cancer. Now, we will obtain the confidence interval of the difference in proportions by bootstrapping and CLT."
   ]
  },
  {
   "cell_type": "code",
   "execution_count": 30,
   "metadata": {
    "nbgrader": {
     "grade": false,
     "grade_id": "cell-5c7a76ec0020781c",
     "locked": true,
     "schema_version": 3,
     "solution": false,
     "task": false
    }
   },
   "outputs": [
    {
     "name": "stderr",
     "output_type": "stream",
     "text": [
      "\u001b[1m\u001b[1mRows: \u001b[1m\u001b[22m\u001b[34m\u001b[34m286\u001b[34m\u001b[39m \u001b[1m\u001b[1mColumns: \u001b[1m\u001b[22m\u001b[34m\u001b[34m10\u001b[34m\u001b[39m\n",
      "\n",
      "\u001b[36m──\u001b[39m \u001b[1m\u001b[1mColumn specification\u001b[1m\u001b[22m \u001b[36m───────────────────────────────────────────────────────────────────────────────────\u001b[39m\n",
      "\u001b[1mDelimiter:\u001b[22m \",\"\n",
      "\u001b[31mchr\u001b[39m (9): class, age, menopause, tumor-size, inv-nodes, node-caps, breast, br...\n",
      "\u001b[32mdbl\u001b[39m (1): deg-malig\n",
      "\n",
      "\n",
      "\u001b[36mℹ\u001b[39m Use \u001b[30m\u001b[47m\u001b[30m\u001b[47m`spec()`\u001b[47m\u001b[30m\u001b[49m\u001b[39m to retrieve the full column specification for this data.\n",
      "\u001b[36mℹ\u001b[39m Specify the column types or set \u001b[30m\u001b[47m\u001b[30m\u001b[47m`show_col_types = FALSE`\u001b[47m\u001b[30m\u001b[49m\u001b[39m to quiet this message.\n",
      "\n"
     ]
    },
    {
     "data": {
      "text/html": [
       "<table class=\"dataframe\">\n",
       "<caption>A grouped_df: 8 × 2</caption>\n",
       "<thead>\n",
       "\t<tr><th scope=col>class</th><th scope=col>irradiat</th></tr>\n",
       "\t<tr><th scope=col>&lt;chr&gt;</th><th scope=col>&lt;chr&gt;</th></tr>\n",
       "</thead>\n",
       "<tbody>\n",
       "\t<tr><td>no-recurrence-events</td><td>no </td></tr>\n",
       "\t<tr><td>no-recurrence-events</td><td>no </td></tr>\n",
       "\t<tr><td>no-recurrence-events</td><td>yes</td></tr>\n",
       "\t<tr><td>no-recurrence-events</td><td>yes</td></tr>\n",
       "\t<tr><td>recurrence-events   </td><td>no </td></tr>\n",
       "\t<tr><td>recurrence-events   </td><td>no </td></tr>\n",
       "\t<tr><td>recurrence-events   </td><td>yes</td></tr>\n",
       "\t<tr><td>recurrence-events   </td><td>yes</td></tr>\n",
       "</tbody>\n",
       "</table>\n"
      ],
      "text/latex": [
       "A grouped\\_df: 8 × 2\n",
       "\\begin{tabular}{ll}\n",
       " class & irradiat\\\\\n",
       " <chr> & <chr>\\\\\n",
       "\\hline\n",
       "\t no-recurrence-events & no \\\\\n",
       "\t no-recurrence-events & no \\\\\n",
       "\t no-recurrence-events & yes\\\\\n",
       "\t no-recurrence-events & yes\\\\\n",
       "\t recurrence-events    & no \\\\\n",
       "\t recurrence-events    & no \\\\\n",
       "\t recurrence-events    & yes\\\\\n",
       "\t recurrence-events    & yes\\\\\n",
       "\\end{tabular}\n"
      ],
      "text/markdown": [
       "\n",
       "A grouped_df: 8 × 2\n",
       "\n",
       "| class &lt;chr&gt; | irradiat &lt;chr&gt; |\n",
       "|---|---|\n",
       "| no-recurrence-events | no  |\n",
       "| no-recurrence-events | no  |\n",
       "| no-recurrence-events | yes |\n",
       "| no-recurrence-events | yes |\n",
       "| recurrence-events    | no  |\n",
       "| recurrence-events    | no  |\n",
       "| recurrence-events    | yes |\n",
       "| recurrence-events    | yes |\n",
       "\n"
      ],
      "text/plain": [
       "  class                irradiat\n",
       "1 no-recurrence-events no      \n",
       "2 no-recurrence-events no      \n",
       "3 no-recurrence-events yes     \n",
       "4 no-recurrence-events yes     \n",
       "5 recurrence-events    no      \n",
       "6 recurrence-events    no      \n",
       "7 recurrence-events    yes     \n",
       "8 recurrence-events    yes     "
      ]
     },
     "metadata": {},
     "output_type": "display_data"
    }
   ],
   "source": [
    "breast_cancer <- \n",
    "    read_csv(url(\"https://archive.ics.uci.edu/ml/machine-learning-databases/breast-cancer/breast-cancer.data\"), \n",
    "             col_names = c(\"class\", \"age\", \"menopause\", \"tumor-size\", \"inv-nodes\", \"node-caps\", \"deg-malig\", \"breast\", \"breast-quad\", \"irradiat\")) %>% \n",
    "    select(class, irradiat)\n",
    "\n",
    "# Taking a peek of the data set\n",
    "breast_cancer %>% \n",
    "    group_by(class,irradiat) %>% \n",
    "    sample_n(size = 2)"
   ]
  },
  {
   "cell_type": "markdown",
   "metadata": {
    "nbgrader": {
     "grade": false,
     "grade_id": "cell-2e298ff81e52730d",
     "locked": true,
     "schema_version": 3,
     "solution": false,
     "task": false
    }
   },
   "source": [
    "Let $p_{1}$ be the proportion of patients with past radiation treatment (irradiate=yes) that had recurrent cancer, and let $p_{2}$ be the proportion of patients with no radiation treatment (irradiate=no) that had recurrent cancer. We would like to study $p_1-p_2$ and find its 95% confidence interval."
   ]
  },
  {
   "cell_type": "markdown",
   "metadata": {
    "nbgrader": {
     "grade": false,
     "grade_id": "cell-a2282e8e593dc225",
     "locked": true,
     "schema_version": 3,
     "solution": false,
     "task": false
    }
   },
   "source": [
    "<b>Question 4.1: Sample Proportions</b>\n",
    "<br>{points: 1}\n",
    "\n",
    "Find the sample proportions of $p_1$ (proportion of patients with radiation treatment with recurrent cancer) and $p_2$ (proportion of patients without radiation treatment with recurrent cancer).\n",
    "\n",
    "<i>Assign your answers to a data frame named `p_summary`. The data frame should have four columns: `p_yes` and `p_no`, `n_yes`, `n_no`.</i>"
   ]
  },
  {
   "cell_type": "code",
   "execution_count": 31,
   "metadata": {
    "nbgrader": {
     "grade": false,
     "grade_id": "cell-fcd41e98689bf0b2",
     "locked": false,
     "schema_version": 3,
     "solution": true,
     "task": false
    }
   },
   "outputs": [
    {
     "name": "stderr",
     "output_type": "stream",
     "text": [
      "`summarise()` has grouped output by 'class'. You can override using the `.groups` argument.\n",
      "\n"
     ]
    },
    {
     "data": {
      "text/html": [
       "<table class=\"dataframe\">\n",
       "<caption>A tibble: 1 × 4</caption>\n",
       "<thead>\n",
       "\t<tr><th scope=col>n_no</th><th scope=col>n_yes</th><th scope=col>p_no</th><th scope=col>p_yes</th></tr>\n",
       "\t<tr><th scope=col>&lt;int&gt;</th><th scope=col>&lt;int&gt;</th><th scope=col>&lt;dbl&gt;</th><th scope=col>&lt;dbl&gt;</th></tr>\n",
       "</thead>\n",
       "<tbody>\n",
       "\t<tr><td>218</td><td>68</td><td>0.2477064</td><td>0.4558824</td></tr>\n",
       "</tbody>\n",
       "</table>\n"
      ],
      "text/latex": [
       "A tibble: 1 × 4\n",
       "\\begin{tabular}{llll}\n",
       " n\\_no & n\\_yes & p\\_no & p\\_yes\\\\\n",
       " <int> & <int> & <dbl> & <dbl>\\\\\n",
       "\\hline\n",
       "\t 218 & 68 & 0.2477064 & 0.4558824\\\\\n",
       "\\end{tabular}\n"
      ],
      "text/markdown": [
       "\n",
       "A tibble: 1 × 4\n",
       "\n",
       "| n_no &lt;int&gt; | n_yes &lt;int&gt; | p_no &lt;dbl&gt; | p_yes &lt;dbl&gt; |\n",
       "|---|---|---|---|\n",
       "| 218 | 68 | 0.2477064 | 0.4558824 |\n",
       "\n"
      ],
      "text/plain": [
       "  n_no n_yes p_no      p_yes    \n",
       "1 218  68    0.2477064 0.4558824"
      ]
     },
     "metadata": {},
     "output_type": "display_data"
    }
   ],
   "source": [
    "### BEGIN SOLUTION\n",
    "p_summary <- \n",
    "    breast_cancer %>% \n",
    "    group_by(class, irradiat) %>% \n",
    "    summarise(p = n()) %>% \n",
    "    group_by(irradiat) %>% \n",
    "    mutate(n = sum(p), p = p / sum(p)) %>% \n",
    "    filter(class == 'recurrence-events') %>% \n",
    "    select(-class) %>% \n",
    "    pivot_wider(names_from = irradiat, values_from = c(n,p))\n",
    "### END SOLUTION\n",
    "\n",
    "p_summary"
   ]
  },
  {
   "cell_type": "code",
   "execution_count": 32,
   "metadata": {
    "nbgrader": {
     "grade": true,
     "grade_id": "cell-6fb2812708724b85",
     "locked": true,
     "points": 1,
     "schema_version": 3,
     "solution": false,
     "task": false
    }
   },
   "outputs": [
    {
     "name": "stdout",
     "output_type": "stream",
     "text": [
      "\u001b[32mTest passed\u001b[39m 🎊\n",
      "\u001b[32mTest passed\u001b[39m 😸\n",
      "\u001b[32mTest passed\u001b[39m 😸\n",
      "\u001b[32mTest passed\u001b[39m 🥳\n",
      "\u001b[32mTest passed\u001b[39m 🌈\n",
      "[1] \"Success!\"\n"
     ]
    }
   ],
   "source": [
    "test_4.1()"
   ]
  },
  {
   "cell_type": "markdown",
   "metadata": {
    "nbgrader": {
     "grade": false,
     "grade_id": "cell-d35d2b4be52c2ac9",
     "locked": true,
     "schema_version": 3,
     "solution": false,
     "task": false
    }
   },
   "source": [
    "<b> Question 4.2 </b>\n",
    "<br>{points: 1}\n",
    "\n",
    "Add two more columns to the `p_summary` data frame: \n",
    "\n",
    "1. `p_diff` to store the observed difference in proportion, i.e., $\\hat{p_1}-\\hat{p_2}$;\n",
    "2. `p_diff_std_error` to store the sample standard error of the difference in proportions."
   ]
  },
  {
   "cell_type": "code",
   "execution_count": 33,
   "metadata": {
    "nbgrader": {
     "grade": false,
     "grade_id": "cell-6249970dc725cf18",
     "locked": false,
     "schema_version": 3,
     "solution": true,
     "task": false
    }
   },
   "outputs": [
    {
     "data": {
      "text/html": [
       "<table class=\"dataframe\">\n",
       "<caption>A tibble: 1 × 6</caption>\n",
       "<thead>\n",
       "\t<tr><th scope=col>n_no</th><th scope=col>n_yes</th><th scope=col>p_no</th><th scope=col>p_yes</th><th scope=col>p_diff</th><th scope=col>p_diff_std_error</th></tr>\n",
       "\t<tr><th scope=col>&lt;int&gt;</th><th scope=col>&lt;int&gt;</th><th scope=col>&lt;dbl&gt;</th><th scope=col>&lt;dbl&gt;</th><th scope=col>&lt;dbl&gt;</th><th scope=col>&lt;dbl&gt;</th></tr>\n",
       "</thead>\n",
       "<tbody>\n",
       "\t<tr><td>218</td><td>68</td><td>0.2477064</td><td>0.4558824</td><td>0.2081759</td><td>0.06710182</td></tr>\n",
       "</tbody>\n",
       "</table>\n"
      ],
      "text/latex": [
       "A tibble: 1 × 6\n",
       "\\begin{tabular}{llllll}\n",
       " n\\_no & n\\_yes & p\\_no & p\\_yes & p\\_diff & p\\_diff\\_std\\_error\\\\\n",
       " <int> & <int> & <dbl> & <dbl> & <dbl> & <dbl>\\\\\n",
       "\\hline\n",
       "\t 218 & 68 & 0.2477064 & 0.4558824 & 0.2081759 & 0.06710182\\\\\n",
       "\\end{tabular}\n"
      ],
      "text/markdown": [
       "\n",
       "A tibble: 1 × 6\n",
       "\n",
       "| n_no &lt;int&gt; | n_yes &lt;int&gt; | p_no &lt;dbl&gt; | p_yes &lt;dbl&gt; | p_diff &lt;dbl&gt; | p_diff_std_error &lt;dbl&gt; |\n",
       "|---|---|---|---|---|---|\n",
       "| 218 | 68 | 0.2477064 | 0.4558824 | 0.2081759 | 0.06710182 |\n",
       "\n"
      ],
      "text/plain": [
       "  n_no n_yes p_no      p_yes     p_diff    p_diff_std_error\n",
       "1 218  68    0.2477064 0.4558824 0.2081759 0.06710182      "
      ]
     },
     "metadata": {},
     "output_type": "display_data"
    }
   ],
   "source": [
    "# p_summary <-\n",
    "#     p_summary %>% \n",
    "#     mutate(p_diff = ...,\n",
    "#            p_diff_std_error = ...)\n",
    "\n",
    "### BEGIN SOLUTION\n",
    "p_summary <-\n",
    "    p_summary %>% \n",
    "    mutate(p_diff = p_yes - p_no,\n",
    "           p_diff_std_error = sqrt(p_yes*(1-p_yes)/n_yes + p_no*(1-p_no)/n_no))\n",
    "### END SOLUTION\n",
    "\n",
    "p_summary"
   ]
  },
  {
   "cell_type": "code",
   "execution_count": 34,
   "metadata": {
    "nbgrader": {
     "grade": true,
     "grade_id": "cell-13a5255d8373230c",
     "locked": true,
     "points": 1,
     "schema_version": 3,
     "solution": false,
     "task": false
    }
   },
   "outputs": [
    {
     "name": "stdout",
     "output_type": "stream",
     "text": [
      "\u001b[32mTest passed\u001b[39m 🎊\n",
      "\u001b[32mTest passed\u001b[39m 🎉\n",
      "\u001b[32mTest passed\u001b[39m 🌈\n",
      "\u001b[32mTest passed\u001b[39m 🥇\n",
      "\u001b[32mTest passed\u001b[39m 🎉\n",
      "[1] \"Success!\"\n"
     ]
    }
   ],
   "source": [
    "test_4.2()"
   ]
  },
  {
   "cell_type": "markdown",
   "metadata": {
    "nbgrader": {
     "grade": false,
     "grade_id": "cell-1a7dd63aace9412d",
     "locked": true,
     "schema_version": 3,
     "solution": false,
     "task": false
    }
   },
   "source": [
    "<b>Question 4.3</b>\n",
    "<br>{points: 1}\n",
    "\n",
    "Finally, obtain the 95% confidence interval for the difference in proportion. Add two more columns to `p_summary` data frame: (1) `lower_ci`; and (2) `upper_ci`."
   ]
  },
  {
   "cell_type": "code",
   "execution_count": 35,
   "metadata": {
    "nbgrader": {
     "grade": false,
     "grade_id": "cell-86046e88f3a47b9e",
     "locked": false,
     "schema_version": 3,
     "solution": true,
     "task": false
    }
   },
   "outputs": [
    {
     "data": {
      "text/html": [
       "<table class=\"dataframe\">\n",
       "<caption>A tibble: 1 × 8</caption>\n",
       "<thead>\n",
       "\t<tr><th scope=col>n_no</th><th scope=col>n_yes</th><th scope=col>p_no</th><th scope=col>p_yes</th><th scope=col>p_diff</th><th scope=col>p_diff_std_error</th><th scope=col>lower_ci</th><th scope=col>upper_ci</th></tr>\n",
       "\t<tr><th scope=col>&lt;int&gt;</th><th scope=col>&lt;int&gt;</th><th scope=col>&lt;dbl&gt;</th><th scope=col>&lt;dbl&gt;</th><th scope=col>&lt;dbl&gt;</th><th scope=col>&lt;dbl&gt;</th><th scope=col>&lt;dbl&gt;</th><th scope=col>&lt;dbl&gt;</th></tr>\n",
       "</thead>\n",
       "<tbody>\n",
       "\t<tr><td>218</td><td>68</td><td>0.2477064</td><td>0.4558824</td><td>0.2081759</td><td>0.06710182</td><td>0.07665877</td><td>0.3396931</td></tr>\n",
       "</tbody>\n",
       "</table>\n"
      ],
      "text/latex": [
       "A tibble: 1 × 8\n",
       "\\begin{tabular}{llllllll}\n",
       " n\\_no & n\\_yes & p\\_no & p\\_yes & p\\_diff & p\\_diff\\_std\\_error & lower\\_ci & upper\\_ci\\\\\n",
       " <int> & <int> & <dbl> & <dbl> & <dbl> & <dbl> & <dbl> & <dbl>\\\\\n",
       "\\hline\n",
       "\t 218 & 68 & 0.2477064 & 0.4558824 & 0.2081759 & 0.06710182 & 0.07665877 & 0.3396931\\\\\n",
       "\\end{tabular}\n"
      ],
      "text/markdown": [
       "\n",
       "A tibble: 1 × 8\n",
       "\n",
       "| n_no &lt;int&gt; | n_yes &lt;int&gt; | p_no &lt;dbl&gt; | p_yes &lt;dbl&gt; | p_diff &lt;dbl&gt; | p_diff_std_error &lt;dbl&gt; | lower_ci &lt;dbl&gt; | upper_ci &lt;dbl&gt; |\n",
       "|---|---|---|---|---|---|---|---|\n",
       "| 218 | 68 | 0.2477064 | 0.4558824 | 0.2081759 | 0.06710182 | 0.07665877 | 0.3396931 |\n",
       "\n"
      ],
      "text/plain": [
       "  n_no n_yes p_no      p_yes     p_diff    p_diff_std_error lower_ci  \n",
       "1 218  68    0.2477064 0.4558824 0.2081759 0.06710182       0.07665877\n",
       "  upper_ci \n",
       "1 0.3396931"
      ]
     },
     "metadata": {},
     "output_type": "display_data"
    }
   ],
   "source": [
    "# p_summary <- \n",
    "#     p_summary %>% \n",
    "#     mutate(lower_ci = qnorm(..., ..., ...),\n",
    "#            upper_ci = ...)\n",
    "\n",
    "### BEGIN SOLUTION\n",
    "p_summary <- \n",
    "    p_summary %>% \n",
    "    mutate(lower_ci = qnorm(0.025, p_diff, p_diff_std_error),\n",
    "    upper_ci = qnorm(0.975, p_diff, p_diff_std_error)\n",
    ")\n",
    "### END SOLUTION\n",
    "\n",
    "p_summary"
   ]
  },
  {
   "cell_type": "code",
   "execution_count": 36,
   "metadata": {
    "nbgrader": {
     "grade": true,
     "grade_id": "cell-301202705377a780",
     "locked": true,
     "points": 1,
     "schema_version": 3,
     "solution": false,
     "task": false
    }
   },
   "outputs": [
    {
     "name": "stdout",
     "output_type": "stream",
     "text": [
      "\u001b[32mTest passed\u001b[39m 🥳\n",
      "\u001b[32mTest passed\u001b[39m 🎉\n",
      "\u001b[32mTest passed\u001b[39m 🌈\n",
      "\u001b[32mTest passed\u001b[39m 🎊\n",
      "\u001b[32mTest passed\u001b[39m 🌈\n",
      "[1] \"Success!\"\n"
     ]
    }
   ],
   "source": [
    "# Here we check to see if you have given your answer the correct object name\n",
    "# and if your answer is plausible. However, all other tests have been hidden\n",
    "# so you can practice deciding when you have the correct answer.\n",
    "\n",
    "test_that('Did not assign answer to an object called \"p_summary\"', {\n",
    "expect_true(exists(\"p_summary\"))\n",
    "})\n",
    "\n",
    "test_that(\"Solution should be a data frame\", {\n",
    "expect_true(\"data.frame\" %in% class(p_summary))\n",
    "})\n",
    "\n",
    "expected_colnames <- c(\"n_no\", \"n_yes\", \"p_no\", \"p_yes\", \"p_diff\", \"p_diff_std_error\", \"lower_ci\", \"upper_ci\")\n",
    "given_colnames <- colnames(p_summary)\n",
    "test_that(\"Data frame does not have the correct columns\", {\n",
    "expect_equal(length(setdiff(\n",
    "  union(expected_colnames, given_colnames),\n",
    "  intersect(expected_colnames, given_colnames)\n",
    ")), 0)\n",
    "})\n",
    "\n",
    "test_that(\"Data frame does not contain the correct number of rows\", {\n",
    "expect_equal(digest(as.integer(nrow(p_summary))), \"4b5630ee914e848e8d07221556b0a2fb\")\n",
    "})\n",
    "### BEGIN HIDDEN TESTS\n",
    "  test_that(\"Data frame does not contain the correct data\", {\n",
    "    expect_equal(digest(as.integer(sum(p_summary$n_no))), \"69291c7a64149c882605dffd1b74141a\")\n",
    "    expect_equal(digest(as.integer(sum(p_summary$n_yes))), \"1b387a44b518030b040d524a5fa7e672\")\n",
    "    expect_equal(digest(as.integer(sum(p_summary$p_no) * 10e6)), \"36501df683b8973ff0c3976c5eea9f1c\")\n",
    "    expect_equal(digest(as.integer(sum(p_summary$p_yes) * 10e6)), \"759e71d4a4767b90c14e3c8d110b7b2a\")      \n",
    "    expect_equal(digest(as.integer(sum(p_summary$p_diff) * 10e6)), \"87ed83a98443f988e25cb2f2d75bfc4b\")\n",
    "    expect_equal(digest(as.integer(sum(p_summary$p_diff_std_error) * 10e6)), \"5e18c6c71d9faf021165f2e491b4c019\")\n",
    "    expect_equal(digest(as.integer(sum(p_summary$lower_ci) * 10e6)), \"14af2d6030374ac1af966a863ffd4765\")\n",
    "    expect_equal(digest(as.integer(sum(p_summary$upper_ci) * 10e6)), \"9adc7038d23c41a1b81763dbbbba7b94\")\n",
    "  })\n",
    "\n",
    "  print(\"Success!\")\n",
    "### END HIDDEN TESTS"
   ]
  },
  {
   "cell_type": "markdown",
   "metadata": {
    "nbgrader": {
     "grade": false,
     "grade_id": "cell-33bb912bc710294a",
     "locked": true,
     "schema_version": 3,
     "solution": false,
     "task": false
    }
   },
   "source": [
    "<b>Question 4.4: Confidence Interval by Bootstrap</b>\n",
    "<br>{points: 1}\n",
    "\n",
    "Obtain the 95% confidence interval of the difference of proportions ($p_1-p_2$) via bootstrapping by generating 1000 samples from `breast_cancer`.\n",
    "```r\n",
    "diff_in_props_btsp_ci <- \n",
    "    breast_cancer %>%\n",
    "    specify(formula = class ~ irradiat, success=...) %>%\n",
    "    generate(...) %>%\n",
    "    calculate(stat = ..., order = c(...)) %>%\n",
    "    get_ci()\n",
    "```\n",
    "<i>Assign your answer to a variable called ` diff_in_props_btsp_ci`</i>."
   ]
  },
  {
   "cell_type": "code",
   "execution_count": 37,
   "metadata": {
    "nbgrader": {
     "grade": false,
     "grade_id": "cell-e80d61bc1a6048c1",
     "locked": false,
     "schema_version": 3,
     "solution": true,
     "task": false
    }
   },
   "outputs": [
    {
     "data": {
      "text/html": [
       "<table class=\"dataframe\">\n",
       "<caption>A tibble: 1 × 2</caption>\n",
       "<thead>\n",
       "\t<tr><th scope=col>lower_ci</th><th scope=col>upper_ci</th></tr>\n",
       "\t<tr><th scope=col>&lt;dbl&gt;</th><th scope=col>&lt;dbl&gt;</th></tr>\n",
       "</thead>\n",
       "<tbody>\n",
       "\t<tr><td>0.07527387</td><td>0.3493027</td></tr>\n",
       "</tbody>\n",
       "</table>\n"
      ],
      "text/latex": [
       "A tibble: 1 × 2\n",
       "\\begin{tabular}{ll}\n",
       " lower\\_ci & upper\\_ci\\\\\n",
       " <dbl> & <dbl>\\\\\n",
       "\\hline\n",
       "\t 0.07527387 & 0.3493027\\\\\n",
       "\\end{tabular}\n"
      ],
      "text/markdown": [
       "\n",
       "A tibble: 1 × 2\n",
       "\n",
       "| lower_ci &lt;dbl&gt; | upper_ci &lt;dbl&gt; |\n",
       "|---|---|\n",
       "| 0.07527387 | 0.3493027 |\n",
       "\n"
      ],
      "text/plain": [
       "  lower_ci   upper_ci \n",
       "1 0.07527387 0.3493027"
      ]
     },
     "metadata": {},
     "output_type": "display_data"
    }
   ],
   "source": [
    "set.seed(20210301) # Do not change this\n",
    "\n",
    "### BEGIN SOLUTION\n",
    "diff_in_props_btsp_ci <- \n",
    "    breast_cancer %>%\n",
    "    specify(formula = class ~ irradiat, success=\"recurrence-events\") %>%\n",
    "    generate(reps = 1000, type = \"bootstrap\") %>%\n",
    "    calculate(stat = \"diff in props\", order = c(\"yes\", \"no\")) %>%\n",
    "    get_ci()\n",
    "### END SOLUTION\n",
    "\n",
    "diff_in_props_btsp_ci"
   ]
  },
  {
   "cell_type": "code",
   "execution_count": 38,
   "metadata": {
    "nbgrader": {
     "grade": true,
     "grade_id": "cell-c5dfba410a596cee",
     "locked": true,
     "points": 1,
     "schema_version": 3,
     "solution": false,
     "task": false
    }
   },
   "outputs": [
    {
     "name": "stdout",
     "output_type": "stream",
     "text": [
      "\u001b[32mTest passed\u001b[39m 🥇\n",
      "\u001b[32mTest passed\u001b[39m 😀\n",
      "\u001b[32mTest passed\u001b[39m 🌈\n",
      "\u001b[32mTest passed\u001b[39m 🎉\n",
      "\u001b[32mTest passed\u001b[39m 🎊\n",
      "[1] \"Success!\"\n"
     ]
    }
   ],
   "source": [
    "test_4.4()"
   ]
  }
 ],
 "metadata": {
  "celltoolbar": "Create Assignment",
  "jupytext": {
   "formats": "ipynb,Rmd"
  },
  "kernelspec": {
   "display_name": "R",
   "language": "R",
   "name": "ir"
  },
  "language_info": {
   "codemirror_mode": "r",
   "file_extension": ".r",
   "mimetype": "text/x-r-source",
   "name": "R",
   "pygments_lexer": "r",
   "version": "4.1.1"
  }
 },
 "nbformat": 4,
 "nbformat_minor": 4
}
