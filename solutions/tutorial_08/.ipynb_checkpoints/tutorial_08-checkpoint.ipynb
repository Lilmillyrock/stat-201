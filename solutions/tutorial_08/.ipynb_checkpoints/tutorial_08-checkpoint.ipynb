{
 "cells": [
  {
   "cell_type": "markdown",
   "metadata": {
    "nbgrader": {
     "grade": false,
     "grade_id": "cell-9789477e89b5b9a3",
     "locked": true,
     "schema_version": 3,
     "solution": false,
     "task": false
    }
   },
   "source": [
    "#  Tutorial 8: Classical Tests Based on Normal and t- Distributions\n",
    "\n",
    "#### Lecture and Tutorial Learning Goals:\n",
    "From this section, students are expected to be able to:\n",
    "\n",
    "1. Describe a t-distribution and its relationship with the normal distribution.\n",
    "2. Use results from the assumption of normality or the Central Limit Theorem to perform estimation and hypothesis testing.\n",
    "3. Compare and contrast the parts of estimation and hypothesis testing that differ between simulation- and resampling-based approaches with the assumption of normality or the Central Limit Theorem-based approaches.\n",
    "4. Write a computer script to perform hypothesis testing based on results from the assumption of normality or the Central Limit Theorem.\n",
    "5. Discuss the potential limitations of these methods."
   ]
  },
  {
   "cell_type": "code",
   "execution_count": 1,
   "metadata": {
    "nbgrader": {
     "grade": false,
     "grade_id": "cell-31ba334fdcee78a8",
     "locked": true,
     "schema_version": 3,
     "solution": false,
     "task": false
    },
    "scrolled": false
   },
   "outputs": [
    {
     "name": "stderr",
     "output_type": "stream",
     "text": [
      "\n",
      "********************************************************\n",
      "\n",
      "Note: As of version 1.0.0, cowplot does not change the\n",
      "\n",
      "  default ggplot2 theme anymore. To recover the previous\n",
      "\n",
      "  behavior, execute:\n",
      "  theme_set(theme_cowplot())\n",
      "\n",
      "********************************************************\n",
      "\n",
      "\n",
      "Warning message:\n",
      "“package ‘infer’ was built under R version 4.0.2”\n",
      "── \u001b[1mAttaching packages\u001b[22m ─────────────────────────────────────── tidyverse 1.3.0 ──\n",
      "\n",
      "\u001b[32m✔\u001b[39m \u001b[34mggplot2\u001b[39m 3.3.2     \u001b[32m✔\u001b[39m \u001b[34mpurrr  \u001b[39m 0.3.4\n",
      "\u001b[32m✔\u001b[39m \u001b[34mtibble \u001b[39m 3.0.3     \u001b[32m✔\u001b[39m \u001b[34mdplyr  \u001b[39m 1.0.2\n",
      "\u001b[32m✔\u001b[39m \u001b[34mtidyr  \u001b[39m 1.1.1     \u001b[32m✔\u001b[39m \u001b[34mstringr\u001b[39m 1.4.0\n",
      "\u001b[32m✔\u001b[39m \u001b[34mreadr  \u001b[39m 1.3.1     \u001b[32m✔\u001b[39m \u001b[34mforcats\u001b[39m 0.5.0\n",
      "\n",
      "Warning message:\n",
      "“package ‘ggplot2’ was built under R version 4.0.1”\n",
      "Warning message:\n",
      "“package ‘tibble’ was built under R version 4.0.2”\n",
      "Warning message:\n",
      "“package ‘tidyr’ was built under R version 4.0.2”\n",
      "Warning message:\n",
      "“package ‘dplyr’ was built under R version 4.0.2”\n",
      "── \u001b[1mConflicts\u001b[22m ────────────────────────────────────────── tidyverse_conflicts() ──\n",
      "\u001b[31m✖\u001b[39m \u001b[34mdplyr\u001b[39m::\u001b[32mfilter()\u001b[39m masks \u001b[34mstats\u001b[39m::filter()\n",
      "\u001b[31m✖\u001b[39m \u001b[34mdplyr\u001b[39m::\u001b[32mlag()\u001b[39m    masks \u001b[34mstats\u001b[39m::lag()\n",
      "\n",
      "Warning message:\n",
      "“package ‘broom’ was built under R version 4.0.2”\n",
      "\n",
      "Attaching package: ‘testthat’\n",
      "\n",
      "\n",
      "The following object is masked from ‘package:dplyr’:\n",
      "\n",
      "    matches\n",
      "\n",
      "\n",
      "The following object is masked from ‘package:purrr’:\n",
      "\n",
      "    is_null\n",
      "\n",
      "\n",
      "The following object is masked from ‘package:tidyr’:\n",
      "\n",
      "    matches\n",
      "\n",
      "\n"
     ]
    }
   ],
   "source": [
    "# Run this cell before continuing.\n",
    "library(cowplot)\n",
    "library(datateachr)\n",
    "library(digest)\n",
    "library(infer)\n",
    "library(repr)\n",
    "library(taxyvr)\n",
    "library(tidyverse)\n",
    "library(broom)\n",
    "library(digest)\n",
    "library(testthat)\n",
    "source(\"tests_tutorial_08.r\")"
   ]
  },
  {
   "cell_type": "markdown",
   "metadata": {
    "nbgrader": {
     "grade": false,
     "grade_id": "cell-9abf3ecffe3e519e",
     "locked": true,
     "schema_version": 3,
     "solution": false,
     "task": false
    }
   },
   "source": [
    "## 1. Lotto 6/42\n",
    "\n",
    "Though the lottery is fair in general, many believe that the distribution of winning numbers is not even. Some lottery enthusiasts spend years studying the pattern of numbers and come up with complex theories to win the grand prize in the next draw. For this question, we will study past winning numbers of Lotto 6/42, which is a lottery in Ireland. Every time, six winning numbers are drawn from a pool of 42 numbers without replacement. You can view the description of the data [here](http://jse.amstat.org/datasets/lotto.txt). Let's load and preview the data."
   ]
  },
  {
   "cell_type": "code",
   "execution_count": 2,
   "metadata": {
    "nbgrader": {
     "grade": false,
     "grade_id": "cell-ff138e8dcafe9fb0",
     "locked": true,
     "schema_version": 3,
     "solution": false,
     "task": false
    }
   },
   "outputs": [
    {
     "data": {
      "text/html": [
       "<table>\n",
       "<caption>A data.frame: 6 × 6</caption>\n",
       "<thead>\n",
       "\t<tr><th></th><th scope=col>first</th><th scope=col>second</th><th scope=col>third</th><th scope=col>fourth</th><th scope=col>fifth</th><th scope=col>sixth</th></tr>\n",
       "\t<tr><th></th><th scope=col>&lt;int&gt;</th><th scope=col>&lt;int&gt;</th><th scope=col>&lt;int&gt;</th><th scope=col>&lt;int&gt;</th><th scope=col>&lt;int&gt;</th><th scope=col>&lt;int&gt;</th></tr>\n",
       "</thead>\n",
       "<tbody>\n",
       "\t<tr><th scope=row>1</th><td> 4</td><td>17</td><td>37</td><td>10</td><td>21</td><td>29</td></tr>\n",
       "\t<tr><th scope=row>2</th><td>21</td><td>39</td><td>10</td><td>15</td><td>42</td><td>27</td></tr>\n",
       "\t<tr><th scope=row>3</th><td> 5</td><td>42</td><td>27</td><td>29</td><td>28</td><td>20</td></tr>\n",
       "\t<tr><th scope=row>4</th><td>35</td><td>40</td><td>32</td><td>19</td><td>30</td><td>10</td></tr>\n",
       "\t<tr><th scope=row>5</th><td>28</td><td>41</td><td>12</td><td>29</td><td>19</td><td>35</td></tr>\n",
       "\t<tr><th scope=row>6</th><td>31</td><td>42</td><td>30</td><td>21</td><td>24</td><td>33</td></tr>\n",
       "</tbody>\n",
       "</table>\n"
      ],
      "text/latex": [
       "A data.frame: 6 × 6\n",
       "\\begin{tabular}{r|llllll}\n",
       "  & first & second & third & fourth & fifth & sixth\\\\\n",
       "  & <int> & <int> & <int> & <int> & <int> & <int>\\\\\n",
       "\\hline\n",
       "\t1 &  4 & 17 & 37 & 10 & 21 & 29\\\\\n",
       "\t2 & 21 & 39 & 10 & 15 & 42 & 27\\\\\n",
       "\t3 &  5 & 42 & 27 & 29 & 28 & 20\\\\\n",
       "\t4 & 35 & 40 & 32 & 19 & 30 & 10\\\\\n",
       "\t5 & 28 & 41 & 12 & 29 & 19 & 35\\\\\n",
       "\t6 & 31 & 42 & 30 & 21 & 24 & 33\\\\\n",
       "\\end{tabular}\n"
      ],
      "text/markdown": [
       "\n",
       "A data.frame: 6 × 6\n",
       "\n",
       "| <!--/--> | first &lt;int&gt; | second &lt;int&gt; | third &lt;int&gt; | fourth &lt;int&gt; | fifth &lt;int&gt; | sixth &lt;int&gt; |\n",
       "|---|---|---|---|---|---|---|\n",
       "| 1 |  4 | 17 | 37 | 10 | 21 | 29 |\n",
       "| 2 | 21 | 39 | 10 | 15 | 42 | 27 |\n",
       "| 3 |  5 | 42 | 27 | 29 | 28 | 20 |\n",
       "| 4 | 35 | 40 | 32 | 19 | 30 | 10 |\n",
       "| 5 | 28 | 41 | 12 | 29 | 19 | 35 |\n",
       "| 6 | 31 | 42 | 30 | 21 | 24 | 33 |\n",
       "\n"
      ],
      "text/plain": [
       "  first second third fourth fifth sixth\n",
       "1  4    17     37    10     21    29   \n",
       "2 21    39     10    15     42    27   \n",
       "3  5    42     27    29     28    20   \n",
       "4 35    40     32    19     30    10   \n",
       "5 28    41     12    29     19    35   \n",
       "6 31    42     30    21     24    33   "
      ]
     },
     "metadata": {},
     "output_type": "display_data"
    }
   ],
   "source": [
    "lotto6_42 <- read.delim(\"http://jse.amstat.org/datasets/lotto.dat.txt\", header = FALSE, sep = \"\\t\", dec = \".\")\n",
    "colnames(lotto6_42) <- c(\"code\", \"first\", \"second\", \"third\", \"fourth\", \"fifth\", \"sixth\")\n",
    "lotto6_42 <- lotto6_42 %>%\n",
    "                filter(code == 2) %>% ## to look at actual lottory numbers\n",
    "                subset(select=-c(code))\n",
    "head(lotto6_42)"
   ]
  },
  {
   "cell_type": "markdown",
   "metadata": {
    "nbgrader": {
     "grade": false,
     "grade_id": "cell-024efa85c80baca9",
     "locked": true,
     "schema_version": 3,
     "solution": false,
     "task": false
    }
   },
   "source": [
    "One claim is that the winning numbers are usually double-digit numbers, and in most cases, there is at most one single-digit winning number in each draw. Looking at the first six rows, we may agree with this claim. But now, we know better than just look at anecdotal evidence. Let's test the hypothesis that the probability of having more than one single-digit winning number in a draw is not what it should be if the lottery was fair. What does the data tell us?\n",
    "\n",
    "Note that, in total, ${42 - 9 \\choose 6}+{42 - 9 \\choose 5}{9 \\choose 1} = 3,243,592$ out of ${42 \\choose 6} = 5,245,786$ games have zero or one single-digit winning number. If the lottery is fair, we expect all the games to have the same chance of occurrence.  "
   ]
  },
  {
   "cell_type": "markdown",
   "metadata": {
    "nbgrader": {
     "grade": false,
     "grade_id": "cell-6a86aa28c97c5914",
     "locked": true,
     "schema_version": 3,
     "solution": false,
     "task": false
    }
   },
   "source": [
    "**Question 1.1**\n",
    "<br>{points: 1}\n",
    "\n",
    "Let $p$ be the probability of having at least two single-digit winning numbers in a draw. \n",
    "Considering the scenario above, the null hypothesis is:\n",
    "\n",
    "A. $H_0: p = \\frac{2,002,194}{5,245,786}$\n",
    "\n",
    "B. $H_0: p = \\frac{3,243,592}{5,245,786}$\n",
    "\n",
    "C. $H_0: p = \\frac{2,002,194}{3,243,592}$\n",
    "\n",
    "D. $H_0: p = \\frac{9}{42}$\n",
    "\n",
    "_Assign your answer to an object called `answer1.1`. Your answer should be a single character surrounded by quotes. Also, create a variable `lotto_p0` and assign the probability of the null hypothesis._"
   ]
  },
  {
   "cell_type": "code",
   "execution_count": 3,
   "metadata": {
    "nbgrader": {
     "grade": false,
     "grade_id": "cell-a031ed67de158eb4",
     "locked": false,
     "schema_version": 3,
     "solution": true,
     "task": false
    }
   },
   "outputs": [
    {
     "data": {
      "text/html": [
       "0.38167664483454"
      ],
      "text/latex": [
       "0.38167664483454"
      ],
      "text/markdown": [
       "0.38167664483454"
      ],
      "text/plain": [
       "[1] 0.3816766"
      ]
     },
     "metadata": {},
     "output_type": "display_data"
    }
   ],
   "source": [
    "# answer1.1 <- ...\n",
    "# lotto_p0 <- ..\n",
    "\n",
    "### BEGIN SOLUTION\n",
    "answer1.1 <- \"A\"\n",
    "lotto_p0 <- 2002194/5245786\n",
    "### END SOLUTION\n",
    "\n",
    "lotto_p0"
   ]
  },
  {
   "cell_type": "code",
   "execution_count": 4,
   "metadata": {
    "nbgrader": {
     "grade": true,
     "grade_id": "cell-3dd24214ec4a72bc",
     "locked": true,
     "points": 1,
     "schema_version": 3,
     "solution": false,
     "task": false
    }
   },
   "outputs": [
    {
     "name": "stdout",
     "output_type": "stream",
     "text": [
      "[1] \"Success!\"\n"
     ]
    }
   ],
   "source": [
    "# Here we check to see if you have given your answer the correct object name\n",
    "# and if your answer is plausible. However, all other tests have been hidden\n",
    "# so you can practice deciding when you have the correct answer.\n",
    "test_that('Did not assign answer to an object called \"answer1.1\"', {\n",
    "  expect_true(exists(\"answer1.1\"))\n",
    "})\n",
    "\n",
    "test_that('Solution should be a single character (\"A\", \"B\", \"C\", or \"D\")', {\n",
    "  expect_match(answer1.1, \"a|b|c|d\", ignore.case = TRUE)\n",
    "})\n",
    "\n",
    "test_that('Did not assign answer to an object called \"lotto_p0\"', {\n",
    "  expect_true(exists(\"lotto_p0\"))\n",
    "})\n",
    "\n",
    "answer_as_numeric <- as.numeric(lotto_p0)\n",
    "test_that(\"Solution should be a number\", {\n",
    "  expect_false(is.na(answer_as_numeric))\n",
    "})\n",
    "\n",
    "test_that(\"Solution is incorrect\", {\n",
    "  expect_equal(digest(as.integer(answer_as_numeric * 10e6)), \"089e824515c530884e22bea2dd98a447\")\n",
    "})\n",
    "\n",
    "### BEGIN HIDDEN TESTS\n",
    "test_that(\"Solution is incorrect\", {\n",
    "  expect_equal(digest(tolower(answer1.1)), \"127a2ec00989b9f7faf671ed470be7f8\")\n",
    "})\n",
    "print(\"Success!\")\n",
    "### END HIDDEN TESTS"
   ]
  },
  {
   "cell_type": "markdown",
   "metadata": {
    "nbgrader": {
     "grade": false,
     "grade_id": "cell-e4522fe39863266d",
     "locked": true,
     "schema_version": 3,
     "solution": false,
     "task": false
    }
   },
   "source": [
    "<b> Question 1.2 </b>\n",
    "<br> {points: 1}\n",
    "\n",
    "What is the correct alternative hypothesis?\n",
    "\n",
    "A. $H_a: p > \\frac{2,002,194}{5,245,786}$\n",
    "\n",
    "B. $H_a: p \\neq \\frac{2,002,194}{5,245,786}$\n",
    "\n",
    "C. $H_a: p > \\frac{2,002,194}{5,245,786}$\n",
    "\n",
    "D. $H_a: p > \\frac{3,243,592}{5,245,786}$\n",
    "\n",
    "E. $H_a: p \\neq \\frac{3,243,592}{5,245,786}$\n",
    "\n",
    "F. $H_a: p > \\frac{3,243,592}{5,245,786}$\n",
    "\n",
    "G. $H_0: p < \\frac{2,002,194}{3,243,592}$\n",
    "\n",
    "H. $H_0: p < \\frac{9}{42}$\n",
    "\n",
    "<i>Assign your answer to an object called</i> `answer1.2`</i>. Your answer should be a single character surrounded by quotes.</i>"
   ]
  },
  {
   "cell_type": "code",
   "execution_count": 5,
   "metadata": {
    "nbgrader": {
     "grade": false,
     "grade_id": "cell-953de2b41250600f",
     "locked": false,
     "schema_version": 3,
     "solution": true,
     "task": false
    }
   },
   "outputs": [
    {
     "data": {
      "text/html": [
       "'B'"
      ],
      "text/latex": [
       "'B'"
      ],
      "text/markdown": [
       "'B'"
      ],
      "text/plain": [
       "[1] \"B\""
      ]
     },
     "metadata": {},
     "output_type": "display_data"
    }
   ],
   "source": [
    "#answer1.2 <-\n",
    "\n",
    "### BEGIN SOLUTION\n",
    "answer1.2 <- \"B\"\n",
    "### END SOLUTION\n",
    "\n",
    "answer1.2"
   ]
  },
  {
   "cell_type": "code",
   "execution_count": 6,
   "metadata": {
    "nbgrader": {
     "grade": true,
     "grade_id": "cell-42a8b3c3f979c582",
     "locked": true,
     "points": 1,
     "schema_version": 3,
     "solution": false,
     "task": false
    }
   },
   "outputs": [
    {
     "name": "stdout",
     "output_type": "stream",
     "text": [
      "[1] \"Success!\"\n"
     ]
    }
   ],
   "source": [
    "# Here we check to see if you have given your answer the correct object name\n",
    "# and if your answer is plausible. However, all other tests have been hidden\n",
    "# so you can practice deciding when you have the correct answer.\n",
    "test_that('Did not assign answer to an object called \"answer1.2\"', {\n",
    "  expect_true(exists(\"answer1.2\"))\n",
    "})\n",
    "test_that('Solution should be a single character (\"A\", \"B\", \"C\", \"D\", \"E\", \"F\", \"G\", or \"H\")', {\n",
    "  expect_match(answer1.2, \"a|b|c|d|e|f|g|h\", ignore.case = TRUE)\n",
    "})\n",
    "### BEGIN HIDDEN TESTS\n",
    "test_that(\"Solution is incorrect\", {\n",
    "  expect_equal(digest(tolower(answer1.2)), \"ddf100612805359cd81fdc5ce3b9fbba\")\n",
    "})\n",
    "print(\"Success!\")\n",
    "### END HIDDEN TESTS"
   ]
  },
  {
   "cell_type": "markdown",
   "metadata": {
    "nbgrader": {
     "grade": false,
     "grade_id": "cell-579c0ef6d5874140",
     "locked": true,
     "schema_version": 3,
     "solution": false,
     "task": false
    }
   },
   "source": [
    "<b> Question 1.3</b>\n",
    "<br> {points: 1}\n",
    "\n",
    "Calculate the sample proportion, $\\hat{p}$, of draws with at least two single-digit numbers. \n",
    "(Hint: take a look at the function `rowSums`.)\n",
    "\n",
    "<i>Assign your answer to an object called `lotto_p_hat`. Your answer should be a single number.</i>"
   ]
  },
  {
   "cell_type": "code",
   "execution_count": 7,
   "metadata": {
    "nbgrader": {
     "grade": false,
     "grade_id": "cell-13dbbb252d779073",
     "locked": false,
     "schema_version": 3,
     "solution": true,
     "task": false
    }
   },
   "outputs": [
    {
     "data": {
      "text/html": [
       "0.375"
      ],
      "text/latex": [
       "0.375"
      ],
      "text/markdown": [
       "0.375"
      ],
      "text/plain": [
       "[1] 0.375"
      ]
     },
     "metadata": {},
     "output_type": "display_data"
    }
   ],
   "source": [
    "# lotto_p_hat <- \n",
    "    \n",
    "\n",
    "### BEGIN SOLUTION\n",
    "lotto_p_hat <- \n",
    "    lotto6_42 %>% \n",
    "    rowwise() %>%\n",
    "    summarise(n_single_digits = sum(c_across() <10), .groups = \"drop\") %>% \n",
    "    filter(n_single_digits > 1) %>% \n",
    "    nrow() / nrow(lotto6_42)\n",
    "\n",
    "# You could also do like this:\n",
    "lotto_p_hat <- mean(rowSums(lotto6_42 < 10) > 1)\n",
    "\n",
    "### END SOLUTION\n",
    "\n",
    "lotto_p_hat"
   ]
  },
  {
   "cell_type": "code",
   "execution_count": 8,
   "metadata": {
    "nbgrader": {
     "grade": true,
     "grade_id": "cell-7f864d2096f6d498",
     "locked": true,
     "points": 1,
     "schema_version": 3,
     "solution": false,
     "task": false
    }
   },
   "outputs": [
    {
     "name": "stdout",
     "output_type": "stream",
     "text": [
      "[1] \"Success!\"\n"
     ]
    }
   ],
   "source": [
    "test_1.3()"
   ]
  },
  {
   "cell_type": "markdown",
   "metadata": {
    "nbgrader": {
     "grade": false,
     "grade_id": "cell-11d8b8dca0afa388",
     "locked": true,
     "schema_version": 3,
     "solution": false,
     "task": false
    }
   },
   "source": [
    "<b>Question 1.4</b>\n",
    "<br> {points: 1}\n",
    "\n",
    "Calculate the standard error of $\\hat{p}$ of the null model.\n",
    "\n",
    "<i>Assign your answer to an object called `lotto_std_error`. Your answer should be a single number.</i>"
   ]
  },
  {
   "cell_type": "code",
   "execution_count": 9,
   "metadata": {
    "nbgrader": {
     "grade": false,
     "grade_id": "cell-e7e6e899ede534af",
     "locked": false,
     "schema_version": 3,
     "solution": true,
     "task": false
    }
   },
   "outputs": [
    {
     "data": {
      "text/html": [
       "0.0298987928978993"
      ],
      "text/latex": [
       "0.0298987928978993"
      ],
      "text/markdown": [
       "0.0298987928978993"
      ],
      "text/plain": [
       "[1] 0.02989879"
      ]
     },
     "metadata": {},
     "output_type": "display_data"
    }
   ],
   "source": [
    "#lotto_std_error <-\n",
    "\n",
    "### BEGIN SOLUTION\n",
    "lotto_std_error <- sqrt(lotto_p0 * (1 - lotto_p0) / nrow(lotto6_42))\n",
    "### END SOLUTION\n",
    "\n",
    "lotto_std_error"
   ]
  },
  {
   "cell_type": "code",
   "execution_count": 10,
   "metadata": {
    "nbgrader": {
     "grade": true,
     "grade_id": "cell-e4c4cc60a51fa19f",
     "locked": true,
     "points": 1,
     "schema_version": 3,
     "solution": false,
     "task": false
    }
   },
   "outputs": [
    {
     "name": "stdout",
     "output_type": "stream",
     "text": [
      "[1] \"Success!\"\n"
     ]
    }
   ],
   "source": [
    "test_1.4()"
   ]
  },
  {
   "cell_type": "markdown",
   "metadata": {
    "nbgrader": {
     "grade": false,
     "grade_id": "cell-f926f2539510a90c",
     "locked": true,
     "schema_version": 3,
     "solution": false,
     "task": false
    }
   },
   "source": [
    "<b>Question 1.5: Calculate p-value</b>\n",
    "<br> {points: 1}\n",
    "\n",
    "Check if the assumptions for the CLT hold. Calculate the p-value.\n",
    "\n",
    "<i>Assign your answer to an object called </i>`lotto_p_value`."
   ]
  },
  {
   "cell_type": "code",
   "execution_count": 11,
   "metadata": {
    "nbgrader": {
     "grade": false,
     "grade_id": "cell-1810d3e9653d014f",
     "locked": false,
     "schema_version": 3,
     "solution": true,
     "task": false
    }
   },
   "outputs": [
    {
     "data": {
      "text/html": [
       "0.823295666273011"
      ],
      "text/latex": [
       "0.823295666273011"
      ],
      "text/markdown": [
       "0.823295666273011"
      ],
      "text/plain": [
       "[1] 0.8232957"
      ]
     },
     "metadata": {},
     "output_type": "display_data"
    }
   ],
   "source": [
    "# lotto_p_value<-\n",
    "\n",
    "### BEGIN SOLUTION\n",
    "lotto_p_value <- 2 * pnorm(lotto_p_hat, lotto_p0, lotto_std_error)\n",
    "### END SOLUTION\n",
    "\n",
    "lotto_p_value"
   ]
  },
  {
   "cell_type": "code",
   "execution_count": 12,
   "metadata": {
    "nbgrader": {
     "grade": true,
     "grade_id": "cell-42eeed6d8d08211c",
     "locked": true,
     "points": 1,
     "schema_version": 3,
     "solution": false,
     "task": false
    }
   },
   "outputs": [
    {
     "name": "stdout",
     "output_type": "stream",
     "text": [
      "[1] \"Success!\"\n"
     ]
    }
   ],
   "source": [
    "test_1.5()"
   ]
  },
  {
   "cell_type": "markdown",
   "metadata": {
    "nbgrader": {
     "grade": false,
     "grade_id": "cell-5504dffbcf46731b",
     "locked": true,
     "schema_version": 3,
     "solution": false,
     "task": false
    }
   },
   "source": [
    "<b>Question 1.6: Conclusion</b>\n",
    "<br> {points: 1}\n",
    "\n",
    "What can we conclude from this test?\n",
    "\n",
    "A. It would be very unlikely to observe $\\hat{p} = 0.375$ in 264 draws, if the true proportion were $p =\\frac{2,002,194}{5,245,786}$. Therefore, we reject $H_0$ and conclude that the lottery is not fair.\n",
    "\n",
    "B. It would be very unlikely to observe $\\hat{p} = 0.375$ in 264 draws, if the true proportion were $p =\\frac{2,002,194}{5,245,786}$. Therefore, we accept $H_0$ and conclude that the lottery is fair.\n",
    "\n",
    "C. It is quite plausible to observe $\\hat{p} = 0.375$ in 264 draws, if the true proportion were $p =\\frac{2,002,194}{5,245,786}$. Therefore, we have enough evidence to reject $H_0$ and conclude that the lottery is not fair.\n",
    "\n",
    "D. It is quite plausible to observe $\\hat{p} = 0.375$ in 264 draws, if the true proportion were $p =\\frac{2,002,194}{5,245,786}$. Therefore, we do not have enough evidence to reject $H_0$ and conclude that the lottery is not fair."
   ]
  },
  {
   "cell_type": "code",
   "execution_count": 13,
   "metadata": {
    "nbgrader": {
     "grade": false,
     "grade_id": "cell-71803e10c6d1d886",
     "locked": false,
     "schema_version": 3,
     "solution": true,
     "task": false
    }
   },
   "outputs": [
    {
     "data": {
      "text/html": [
       "'D'"
      ],
      "text/latex": [
       "'D'"
      ],
      "text/markdown": [
       "'D'"
      ],
      "text/plain": [
       "[1] \"D\""
      ]
     },
     "metadata": {},
     "output_type": "display_data"
    }
   ],
   "source": [
    "# answer1.6 <- ...\n",
    "\n",
    "### BEGIN SOLUTION\n",
    "answer1.6 <- \"D\"\n",
    "### END SOLUTION\n",
    "\n",
    "answer1.6"
   ]
  },
  {
   "cell_type": "code",
   "execution_count": 14,
   "metadata": {
    "nbgrader": {
     "grade": true,
     "grade_id": "cell-5450be7f522aa485",
     "locked": true,
     "points": 1,
     "schema_version": 3,
     "solution": false,
     "task": false
    }
   },
   "outputs": [
    {
     "name": "stdout",
     "output_type": "stream",
     "text": [
      "[1] \"Success!\"\n"
     ]
    }
   ],
   "source": [
    "# Here we check to see if you have given your answer the correct object name\n",
    "# and if your answer is plausible. However, all other tests have been hidden\n",
    "# so you can practice deciding when you have the correct answer.\n",
    "test_that('Did not assign answer to an object called \"answer1.6\"', {\n",
    "  expect_true(exists(\"answer1.6\"))\n",
    "})\n",
    "test_that('Solution should be a single character (\"A\", \"B\", \"C\", or \"D\")', {\n",
    "  expect_match(answer1.6, \"a|b|c|d\", ignore.case = TRUE)\n",
    "})\n",
    "### BEGIN HIDDEN TESTS\n",
    "test_that(\"Solution is incorrect\", {\n",
    "  expect_equal(digest(tolower(answer1.6)), \"d110f00cfb1b248e835137025804a23b\")\n",
    "})\n",
    "print(\"Success!\")\n",
    "### END HIDDEN TESTS"
   ]
  },
  {
   "cell_type": "markdown",
   "metadata": {
    "nbgrader": {
     "grade": false,
     "grade_id": "cell-33bf61389d1a7058",
     "locked": true,
     "schema_version": 3,
     "solution": false,
     "task": false
    }
   },
   "source": [
    "<b>Question 1.7</b>\n",
    "<br> {points: 1}\n",
    "\n",
    "Use R's `prop.test`function to test the hypothesis. Make sure to use the `correct = FALSE` and `broom::tidy()` to get a more organized result.\n",
    "\n",
    "<i>Assign your answer to an object called </i>`lotto_prop_test`."
   ]
  },
  {
   "cell_type": "code",
   "execution_count": 15,
   "metadata": {
    "nbgrader": {
     "grade": false,
     "grade_id": "cell-54eef665dd5eab4c",
     "locked": false,
     "schema_version": 3,
     "solution": true,
     "task": false
    },
    "scrolled": true
   },
   "outputs": [
    {
     "data": {
      "text/html": [
       "<table>\n",
       "<caption>A tibble: 1 × 8</caption>\n",
       "<thead>\n",
       "\t<tr><th scope=col>estimate</th><th scope=col>statistic</th><th scope=col>p.value</th><th scope=col>parameter</th><th scope=col>conf.low</th><th scope=col>conf.high</th><th scope=col>method</th><th scope=col>alternative</th></tr>\n",
       "\t<tr><th scope=col>&lt;dbl&gt;</th><th scope=col>&lt;dbl&gt;</th><th scope=col>&lt;dbl&gt;</th><th scope=col>&lt;int&gt;</th><th scope=col>&lt;dbl&gt;</th><th scope=col>&lt;dbl&gt;</th><th scope=col>&lt;chr&gt;</th><th scope=col>&lt;chr&gt;</th></tr>\n",
       "</thead>\n",
       "<tbody>\n",
       "\t<tr><td>0.375</td><td>0.04986654</td><td>0.8232957</td><td>1</td><td>0.3187869</td><td>0.4347987</td><td>1-sample proportions test without continuity correction</td><td>two.sided</td></tr>\n",
       "</tbody>\n",
       "</table>\n"
      ],
      "text/latex": [
       "A tibble: 1 × 8\n",
       "\\begin{tabular}{llllllll}\n",
       " estimate & statistic & p.value & parameter & conf.low & conf.high & method & alternative\\\\\n",
       " <dbl> & <dbl> & <dbl> & <int> & <dbl> & <dbl> & <chr> & <chr>\\\\\n",
       "\\hline\n",
       "\t 0.375 & 0.04986654 & 0.8232957 & 1 & 0.3187869 & 0.4347987 & 1-sample proportions test without continuity correction & two.sided\\\\\n",
       "\\end{tabular}\n"
      ],
      "text/markdown": [
       "\n",
       "A tibble: 1 × 8\n",
       "\n",
       "| estimate &lt;dbl&gt; | statistic &lt;dbl&gt; | p.value &lt;dbl&gt; | parameter &lt;int&gt; | conf.low &lt;dbl&gt; | conf.high &lt;dbl&gt; | method &lt;chr&gt; | alternative &lt;chr&gt; |\n",
       "|---|---|---|---|---|---|---|---|\n",
       "| 0.375 | 0.04986654 | 0.8232957 | 1 | 0.3187869 | 0.4347987 | 1-sample proportions test without continuity correction | two.sided |\n",
       "\n"
      ],
      "text/plain": [
       "  estimate statistic  p.value   parameter conf.low  conf.high\n",
       "1 0.375    0.04986654 0.8232957 1         0.3187869 0.4347987\n",
       "  method                                                  alternative\n",
       "1 1-sample proportions test without continuity correction two.sided  "
      ]
     },
     "metadata": {},
     "output_type": "display_data"
    }
   ],
   "source": [
    "#lotto_prop_test <- ...\n",
    "\n",
    "### BEGIN SOLUTION\n",
    "lotto_prop_test <- tidy(prop.test(lotto_p_hat * nrow(lotto6_42),\n",
    "                             n = nrow(lotto6_42), \n",
    "                             p = lotto_p0, correct = FALSE))\n",
    "### END SOLUTION\n",
    "\n",
    "lotto_prop_test"
   ]
  },
  {
   "cell_type": "code",
   "execution_count": 16,
   "metadata": {
    "nbgrader": {
     "grade": true,
     "grade_id": "cell-fbfcca60e4b8ad6e",
     "locked": true,
     "points": 1,
     "schema_version": 3,
     "solution": false,
     "task": false
    }
   },
   "outputs": [
    {
     "name": "stdout",
     "output_type": "stream",
     "text": [
      "[1] \"Success!\"\n"
     ]
    }
   ],
   "source": [
    "# Here we check to see if you have given your answer the correct object name\n",
    "# and if your answer is plausible. However, all other tests have been hidden\n",
    "# so you can practice deciding when you have the correct answer.\n",
    "test_that('Did not assign answer to an object called \"lotto_prop_test\"', {\n",
    "  expect_true(exists(\"lotto_prop_test\"))\n",
    "})\n",
    "test_that(\"Solution should be the output of t.test\", {\n",
    "    expect_true(\"data.frame\" %in% class(lotto_prop_test))\n",
    "})\n",
    "### BEGIN HIDDEN TESTS\n",
    "  test_that(\"Wrong statistic value\", {\n",
    "    expect_equal(digest(as.integer(lotto_prop_test$statistic*10e6)), \"b9a549653e162eaca853bd9978a27ca6\")\n",
    "  })\n",
    "  \n",
    "  test_that(\"Wrong p-value\", {\n",
    "    expect_equal(digest(as.integer(lotto_prop_test$p.value*10e6)), \"83e9ccfb5fc36266bd1f437fe5529eb0\")\n",
    "  })\n",
    "  test_that(\"Wrong estimate\", {\n",
    "    expect_equal(digest(as.integer(lotto_prop_test$estimate*10e6)), \"ab8316d1cadf0166e59aad6f3aba8e7f\")\n",
    "  })\n",
    "  test_that(\"Wrong parameter\", {\n",
    "    expect_equal(digest(lotto_prop_test$parameter), \"cff4821792ec6a04a0622fe7246d298a\")\n",
    "  })\n",
    "  test_that(\"Wrong alternative hypothesis\", {\n",
    "    expect_equal(digest(lotto_prop_test$alternative), \"d095e00cba6f80bf1d5ad5db0400f812\")\n",
    "  })\n",
    "\n",
    "print(\"Success!\")\n",
    "### END HIDDEN TESTS"
   ]
  },
  {
   "cell_type": "markdown",
   "metadata": {
    "nbgrader": {
     "grade": false,
     "grade_id": "cell-49a8a83b1b680f59",
     "locked": true,
     "schema_version": 3,
     "solution": false,
     "task": false
    }
   },
   "source": [
    "## 2. Jellyfish\n",
    "\n",
    "&emsp; For this question, we will study the length of jellyfish from Hawkesbury River in New South Wales, Australia. First, let's load and preview the data."
   ]
  },
  {
   "cell_type": "code",
   "execution_count": 17,
   "metadata": {
    "nbgrader": {
     "grade": false,
     "grade_id": "cell-ebcc92b8aeec9ee7",
     "locked": true,
     "schema_version": 3,
     "solution": false,
     "task": false
    }
   },
   "outputs": [
    {
     "name": "stderr",
     "output_type": "stream",
     "text": [
      "Parsed with column specification:\n",
      "cols(\n",
      "  Location = \u001b[31mcol_character()\u001b[39m,\n",
      "  Width = \u001b[32mcol_double()\u001b[39m,\n",
      "  Length = \u001b[32mcol_double()\u001b[39m\n",
      ")\n",
      "\n"
     ]
    },
    {
     "data": {
      "text/html": [
       "<table>\n",
       "<caption>A tibble: 6 × 3</caption>\n",
       "<thead>\n",
       "\t<tr><th scope=col>Location</th><th scope=col>Width</th><th scope=col>Length</th></tr>\n",
       "\t<tr><th scope=col>&lt;chr&gt;</th><th scope=col>&lt;dbl&gt;</th><th scope=col>&lt;dbl&gt;</th></tr>\n",
       "</thead>\n",
       "<tbody>\n",
       "\t<tr><td>Dangar</td><td>6.0</td><td> 9</td></tr>\n",
       "\t<tr><td>Dangar</td><td>6.5</td><td> 8</td></tr>\n",
       "\t<tr><td>Dangar</td><td>6.5</td><td> 9</td></tr>\n",
       "\t<tr><td>Dangar</td><td>7.0</td><td> 9</td></tr>\n",
       "\t<tr><td>Dangar</td><td>7.0</td><td>10</td></tr>\n",
       "\t<tr><td>Dangar</td><td>7.0</td><td>11</td></tr>\n",
       "</tbody>\n",
       "</table>\n"
      ],
      "text/latex": [
       "A tibble: 6 × 3\n",
       "\\begin{tabular}{lll}\n",
       " Location & Width & Length\\\\\n",
       " <chr> & <dbl> & <dbl>\\\\\n",
       "\\hline\n",
       "\t Dangar & 6.0 &  9\\\\\n",
       "\t Dangar & 6.5 &  8\\\\\n",
       "\t Dangar & 6.5 &  9\\\\\n",
       "\t Dangar & 7.0 &  9\\\\\n",
       "\t Dangar & 7.0 & 10\\\\\n",
       "\t Dangar & 7.0 & 11\\\\\n",
       "\\end{tabular}\n"
      ],
      "text/markdown": [
       "\n",
       "A tibble: 6 × 3\n",
       "\n",
       "| Location &lt;chr&gt; | Width &lt;dbl&gt; | Length &lt;dbl&gt; |\n",
       "|---|---|---|\n",
       "| Dangar | 6.0 |  9 |\n",
       "| Dangar | 6.5 |  8 |\n",
       "| Dangar | 6.5 |  9 |\n",
       "| Dangar | 7.0 |  9 |\n",
       "| Dangar | 7.0 | 10 |\n",
       "| Dangar | 7.0 | 11 |\n",
       "\n"
      ],
      "text/plain": [
       "  Location Width Length\n",
       "1 Dangar   6.0    9    \n",
       "2 Dangar   6.5    8    \n",
       "3 Dangar   6.5    9    \n",
       "4 Dangar   7.0    9    \n",
       "5 Dangar   7.0   10    \n",
       "6 Dangar   7.0   11    "
      ]
     },
     "metadata": {},
     "output_type": "display_data"
    }
   ],
   "source": [
    "jellyfish <- read_csv(\"data/jellyfish.csv\")\n",
    "head(jellyfish)"
   ]
  },
  {
   "cell_type": "markdown",
   "metadata": {
    "nbgrader": {
     "grade": false,
     "grade_id": "cell-605ad75042742cef",
     "locked": true,
     "schema_version": 3,
     "solution": false,
     "task": false
    }
   },
   "source": [
    "Let $\\mu$ be the average length of Jellyfish in Dangar, and we will perform hypothesis testing on $\\mu$ at a <b>10% significance level</b>. Our null hypothesis is that the average length $\\mu$ is 11 cm, while the alternate hypothesis is that $\\mu \\neq 11$."
   ]
  },
  {
   "cell_type": "markdown",
   "metadata": {
    "nbgrader": {
     "grade": false,
     "grade_id": "cell-ca10698dd448e089",
     "locked": true,
     "schema_version": 3,
     "solution": false,
     "task": false
    }
   },
   "source": [
    "**Question 2.1** \n",
    "<br> {points: 1}\n",
    "\n",
    "Select only the fish in Dangar and select the `length` column. Also, create a variable `dangar_mu0` to store the hypothesized $\\mu$.\n",
    "\n",
    "_Assign your data frame to an object called `dangar`._"
   ]
  },
  {
   "cell_type": "code",
   "execution_count": 18,
   "metadata": {
    "nbgrader": {
     "grade": false,
     "grade_id": "cell-1f8c8499695a51d3",
     "locked": false,
     "schema_version": 3,
     "solution": true,
     "task": false
    }
   },
   "outputs": [
    {
     "data": {
      "text/html": [
       "<table>\n",
       "<caption>A tibble: 6 × 1</caption>\n",
       "<thead>\n",
       "\t<tr><th scope=col>Length</th></tr>\n",
       "\t<tr><th scope=col>&lt;dbl&gt;</th></tr>\n",
       "</thead>\n",
       "<tbody>\n",
       "\t<tr><td> 9</td></tr>\n",
       "\t<tr><td> 8</td></tr>\n",
       "\t<tr><td> 9</td></tr>\n",
       "\t<tr><td> 9</td></tr>\n",
       "\t<tr><td>10</td></tr>\n",
       "\t<tr><td>11</td></tr>\n",
       "</tbody>\n",
       "</table>\n"
      ],
      "text/latex": [
       "A tibble: 6 × 1\n",
       "\\begin{tabular}{l}\n",
       " Length\\\\\n",
       " <dbl>\\\\\n",
       "\\hline\n",
       "\t  9\\\\\n",
       "\t  8\\\\\n",
       "\t  9\\\\\n",
       "\t  9\\\\\n",
       "\t 10\\\\\n",
       "\t 11\\\\\n",
       "\\end{tabular}\n"
      ],
      "text/markdown": [
       "\n",
       "A tibble: 6 × 1\n",
       "\n",
       "| Length &lt;dbl&gt; |\n",
       "|---|\n",
       "|  9 |\n",
       "|  8 |\n",
       "|  9 |\n",
       "|  9 |\n",
       "| 10 |\n",
       "| 11 |\n",
       "\n"
      ],
      "text/plain": [
       "  Length\n",
       "1  9    \n",
       "2  8    \n",
       "3  9    \n",
       "4  9    \n",
       "5 10    \n",
       "6 11    "
      ]
     },
     "metadata": {},
     "output_type": "display_data"
    }
   ],
   "source": [
    "#dangar <- \n",
    "#dangar_mu0 <-\n",
    "### BEGIN SOLUTION\n",
    "dangar <-\n",
    "    jellyfish %>%\n",
    "    filter(Location == \"Dangar\") %>%\n",
    "    select(Length)\n",
    "\n",
    "dangar_mu0 <- 11\n",
    "### END SOLUTION\n",
    "\n",
    "head(dangar)"
   ]
  },
  {
   "cell_type": "code",
   "execution_count": 19,
   "metadata": {
    "nbgrader": {
     "grade": true,
     "grade_id": "cell-e76bf600ed48ac37",
     "locked": true,
     "points": 1,
     "schema_version": 3,
     "solution": false,
     "task": false
    }
   },
   "outputs": [
    {
     "name": "stdout",
     "output_type": "stream",
     "text": [
      "[1] \"Success!\"\n"
     ]
    }
   ],
   "source": [
    "test_2.1()"
   ]
  },
  {
   "cell_type": "markdown",
   "metadata": {
    "nbgrader": {
     "grade": false,
     "grade_id": "cell-a34e08d6194fc3c4",
     "locked": true,
     "schema_version": 3,
     "solution": false,
     "task": false
    }
   },
   "source": [
    "<b>Question 2.2: Calculate the observed test statistics</b>\n",
    "<br>{points: 1}\n",
    "\n",
    "Calculate the observed mean length. \n",
    "\n",
    "_Assign your answer to an object called `dangar_x_bar`. Your answer should be a single number._"
   ]
  },
  {
   "cell_type": "code",
   "execution_count": 20,
   "metadata": {
    "nbgrader": {
     "grade": false,
     "grade_id": "cell-7810bd7565f60e8d",
     "locked": false,
     "schema_version": 3,
     "solution": true,
     "task": false
    }
   },
   "outputs": [
    {
     "data": {
      "text/html": [
       "12.3409090909091"
      ],
      "text/latex": [
       "12.3409090909091"
      ],
      "text/markdown": [
       "12.3409090909091"
      ],
      "text/plain": [
       "[1] 12.34091"
      ]
     },
     "metadata": {},
     "output_type": "display_data"
    }
   ],
   "source": [
    "#dangar_x_bar <-\n",
    "\n",
    "### BEGIN SOLUTION\n",
    "dangar_x_bar <- mean(dangar$Length)\n",
    "### END SOLUTION\n",
    "\n",
    "dangar_x_bar"
   ]
  },
  {
   "cell_type": "code",
   "execution_count": 21,
   "metadata": {
    "nbgrader": {
     "grade": true,
     "grade_id": "cell-81334746e4af0371",
     "locked": true,
     "points": 1,
     "schema_version": 3,
     "solution": false,
     "task": false
    }
   },
   "outputs": [
    {
     "name": "stdout",
     "output_type": "stream",
     "text": [
      "[1] \"Success!\"\n"
     ]
    }
   ],
   "source": [
    "test_2.2()"
   ]
  },
  {
   "cell_type": "markdown",
   "metadata": {
    "nbgrader": {
     "grade": false,
     "grade_id": "cell-b6c97e0e7e611020",
     "locked": true,
     "schema_version": 3,
     "solution": false,
     "task": false
    }
   },
   "source": [
    "<b>Question 2.3: Standard Error</b>\n",
    "<br> {points: 1}\n",
    "\n",
    "Calculate the standard error of the test statistic. \n",
    "\n",
    "_Assign your answer to an object called `dangar_std_error`. Your answer should be a single number._"
   ]
  },
  {
   "cell_type": "code",
   "execution_count": 22,
   "metadata": {
    "nbgrader": {
     "grade": false,
     "grade_id": "cell-4ddc593b0daca66d",
     "locked": false,
     "schema_version": 3,
     "solution": true,
     "task": false
    }
   },
   "outputs": [
    {
     "data": {
      "text/html": [
       "0.640773987172355"
      ],
      "text/latex": [
       "0.640773987172355"
      ],
      "text/markdown": [
       "0.640773987172355"
      ],
      "text/plain": [
       "[1] 0.640774"
      ]
     },
     "metadata": {},
     "output_type": "display_data"
    }
   ],
   "source": [
    "#dangar_std_error <-\n",
    "\n",
    "### BEGIN SOLUTION\n",
    "dangar_std_error <- sd(dangar$Length) / sqrt(nrow(dangar))\n",
    "### END SOLUTION\n",
    "\n",
    "dangar_std_error"
   ]
  },
  {
   "cell_type": "code",
   "execution_count": 23,
   "metadata": {
    "nbgrader": {
     "grade": true,
     "grade_id": "cell-fd3aeec68bf192f2",
     "locked": true,
     "points": 1,
     "schema_version": 3,
     "solution": false,
     "task": false
    }
   },
   "outputs": [
    {
     "name": "stdout",
     "output_type": "stream",
     "text": [
      "[1] \"Success!\"\n"
     ]
    }
   ],
   "source": [
    "test_2.3()"
   ]
  },
  {
   "cell_type": "markdown",
   "metadata": {
    "nbgrader": {
     "grade": false,
     "grade_id": "cell-b1bbbaefdfde818a",
     "locked": true,
     "schema_version": 3,
     "solution": false,
     "task": false
    }
   },
   "source": [
    "<b>Question 2.4: P-Value</b>\n",
    "<br> {points: 1}\n",
    "\n",
    "Calculate the p-value of the observed test statistic using t-distribution.\n",
    "\n",
    "_Assign your answer to an object called `dangar_p_value`. Your answer should be a single number._"
   ]
  },
  {
   "cell_type": "code",
   "execution_count": 24,
   "metadata": {
    "nbgrader": {
     "grade": false,
     "grade_id": "cell-01689a7333b0a91b",
     "locked": false,
     "schema_version": 3,
     "solution": true,
     "task": false
    }
   },
   "outputs": [
    {
     "data": {
      "text/html": [
       "0.048706165751307"
      ],
      "text/latex": [
       "0.048706165751307"
      ],
      "text/markdown": [
       "0.048706165751307"
      ],
      "text/plain": [
       "[1] 0.04870617"
      ]
     },
     "metadata": {},
     "output_type": "display_data"
    }
   ],
   "source": [
    "#dangar_p_value <-\n",
    "\n",
    "### BEGIN SOLUTION\n",
    "dangar_p_value <- 2 * pt((dangar_x_bar - dangar_mu0)/dangar_std_error, df = nrow(dangar)-1, lower.tail=FALSE)\n",
    "### END SOLUTION\n",
    "\n",
    "dangar_p_value"
   ]
  },
  {
   "cell_type": "code",
   "execution_count": 25,
   "metadata": {
    "nbgrader": {
     "grade": true,
     "grade_id": "cell-ffbdf5552e7f97b5",
     "locked": true,
     "points": 1,
     "schema_version": 3,
     "solution": false,
     "task": false
    }
   },
   "outputs": [
    {
     "name": "stdout",
     "output_type": "stream",
     "text": [
      "[1] \"Success!\"\n"
     ]
    }
   ],
   "source": [
    "# Here we check to see if you have given your answer the correct object name\n",
    "# and if your answer is plausible. However, all other tests have been hidden\n",
    "# so you can practice deciding when you have the correct answer.\n",
    "test_that('Did not assign answer to an object called \"dangar_p_value\"', {\n",
    "  expect_true(exists(\"dangar_p_value\"))\n",
    "})\n",
    "answer_as_numeric <- as.numeric(dangar_p_value)\n",
    "test_that(\"Solution should be a number\", {\n",
    "  expect_false(is.na(answer_as_numeric))\n",
    "})\n",
    "### BEGIN HIDDEN TESTS\n",
    "test_that(\"Solution is incorrect\", {\n",
    "  expect_equal(digest(as.integer(answer_as_numeric * 10e6)), \"998dd14467338ebb1f7cd9938bf705b5\")\n",
    "})\n",
    "print(\"Success!\")\n",
    "### END HIDDEN TESTS"
   ]
  },
  {
   "cell_type": "markdown",
   "metadata": {
    "nbgrader": {
     "grade": false,
     "grade_id": "cell-ed20fd90fed54c31",
     "locked": true,
     "schema_version": 3,
     "solution": false,
     "task": false
    }
   },
   "source": [
    "<b>Question 2.5: Confidence Interval </b>\n",
    "<br> {points:1}\n",
    "\n",
    "Calculate the 90% confidence interval of the population mean $\\mu$. \n",
    "\n",
    "Use the scaffolding below:\n",
    "\n",
    "`dangar_mean_ci <- tibble(\n",
    "    lower_ci = ...\n",
    "    upper_ci = ...\n",
    ")` \n",
    "\n",
    "(Hint: the function `qt` can help you).\n",
    "\n",
    "_Assign your data frame to an object called `dangar_mean_ci`._"
   ]
  },
  {
   "cell_type": "code",
   "execution_count": 26,
   "metadata": {
    "nbgrader": {
     "grade": false,
     "grade_id": "cell-ee48198e8bb5266c",
     "locked": false,
     "schema_version": 3,
     "solution": true,
     "task": false
    }
   },
   "outputs": [
    {
     "data": {
      "text/html": [
       "<table>\n",
       "<caption>A tibble: 1 × 2</caption>\n",
       "<thead>\n",
       "\t<tr><th scope=col>lower_ci</th><th scope=col>upper_ci</th></tr>\n",
       "\t<tr><th scope=col>&lt;dbl&gt;</th><th scope=col>&lt;dbl&gt;</th></tr>\n",
       "</thead>\n",
       "<tbody>\n",
       "\t<tr><td>11.2383</td><td>13.44352</td></tr>\n",
       "</tbody>\n",
       "</table>\n"
      ],
      "text/latex": [
       "A tibble: 1 × 2\n",
       "\\begin{tabular}{ll}\n",
       " lower\\_ci & upper\\_ci\\\\\n",
       " <dbl> & <dbl>\\\\\n",
       "\\hline\n",
       "\t 11.2383 & 13.44352\\\\\n",
       "\\end{tabular}\n"
      ],
      "text/markdown": [
       "\n",
       "A tibble: 1 × 2\n",
       "\n",
       "| lower_ci &lt;dbl&gt; | upper_ci &lt;dbl&gt; |\n",
       "|---|---|\n",
       "| 11.2383 | 13.44352 |\n",
       "\n"
      ],
      "text/plain": [
       "  lower_ci upper_ci\n",
       "1 11.2383  13.44352"
      ]
     },
     "metadata": {},
     "output_type": "display_data"
    }
   ],
   "source": [
    "#dangar_mean_ci <- tibble(\n",
    "#    lower_ci = ...\n",
    "#    upper_ci = ...\n",
    "#)\n",
    "\n",
    "### BEGIN SOLUTIOn\n",
    "dangar_mean_ci <- tibble(\n",
    "    lower_ci = qt(0.05, df = nrow(dangar) - 1) * dangar_std_error + dangar_x_bar,\n",
    "    upper_ci = qt(0.95, df = nrow(dangar) - 1) * dangar_std_error + dangar_x_bar,\n",
    ")\n",
    "### END SOLUTION\n",
    "\n",
    "dangar_mean_ci"
   ]
  },
  {
   "cell_type": "code",
   "execution_count": 27,
   "metadata": {
    "nbgrader": {
     "grade": true,
     "grade_id": "cell-8412a03985988198",
     "locked": true,
     "points": 1,
     "schema_version": 3,
     "solution": false,
     "task": false
    }
   },
   "outputs": [
    {
     "name": "stdout",
     "output_type": "stream",
     "text": [
      "[1] \"Success!\"\n"
     ]
    }
   ],
   "source": [
    "# Here we check to see if you have given your answer the correct object name\n",
    "# and if your answer is plausible. However, all other tests have been hidden\n",
    "# so you can practice deciding when you have the correct answer.\n",
    "test_that('Did not assign answer to an object called \"dangar_mean_ci\"', {\n",
    "  expect_true(exists(\"dangar_mean_ci\"))\n",
    "})\n",
    "test_that(\"Solution should be a data frame\", {\n",
    "  expect_true(\"data.frame\" %in% class(dangar_mean_ci))\n",
    "})\n",
    "\n",
    "expected_colnames <- c(\"lower_ci\", \"upper_ci\")\n",
    "given_colnames <- colnames(dangar_mean_ci)\n",
    "test_that(\"Data frame does not have the correct columns\", {\n",
    "  expect_equal(length(setdiff(\n",
    "    union(expected_colnames, given_colnames),\n",
    "    intersect(expected_colnames, given_colnames)\n",
    "  )), 0)\n",
    "})\n",
    "\n",
    "### BEGIN HIDDEN TESTS\n",
    "\n",
    "test_that(\"Data frame does not contain the correct number of rows\", {\n",
    "  expect_equal(digest(as.integer(nrow(dangar_mean_ci))), \"4b5630ee914e848e8d07221556b0a2fb\")\n",
    "})\n",
    "\n",
    "test_that(\"Data frame does not contain the correct data\", {\n",
    "  expect_equal(digest(as.integer(dangar_mean_ci$lower_ci + dangar_mean_ci$upper_ci) * 10e6), \"57c7ad99882de228268d0b4f5134e785\")\n",
    "})\n",
    "\n",
    "print(\"Success!\")\n",
    "### END HIDDEN TESTS"
   ]
  },
  {
   "cell_type": "markdown",
   "metadata": {
    "nbgrader": {
     "grade": false,
     "grade_id": "cell-686d44b65da860c1",
     "locked": true,
     "schema_version": 3,
     "solution": false,
     "task": false
    }
   },
   "source": [
    "**Question 2.6: Conclusion**\n",
    "<br>{points: 1}\n",
    "\n",
    "What can we conclude from this test?\n",
    "\n",
    "A. Since the `p-value` is lower than 10%, we don't have enough evidence to reject $H_0$ and conclude that the average fish's length in Dangar is 11cm.\n",
    "\n",
    "B. Since the `p-value` is lower than 10%, we have enough evidence to reject $H_0$ and conclude that the average fish's length in Dangar is not 11cm.\n",
    "\n",
    "_Assign your answer to an object called `answer2.6`. Your answer should be a single character surrounded by quotes._"
   ]
  },
  {
   "cell_type": "code",
   "execution_count": 28,
   "metadata": {
    "nbgrader": {
     "grade": false,
     "grade_id": "cell-1cfe84eb36891a94",
     "locked": false,
     "schema_version": 3,
     "solution": true,
     "task": false
    }
   },
   "outputs": [],
   "source": [
    "# answer2.6 <- ...\n",
    "\n",
    "### BEGIN SOLUTION\n",
    "answer2.6 <- \"B\"\n",
    "### END SOLUTION"
   ]
  },
  {
   "cell_type": "code",
   "execution_count": 29,
   "metadata": {
    "nbgrader": {
     "grade": true,
     "grade_id": "cell-85b5e16fd3160d91",
     "locked": true,
     "points": 1,
     "schema_version": 3,
     "solution": false,
     "task": false
    }
   },
   "outputs": [
    {
     "name": "stdout",
     "output_type": "stream",
     "text": [
      "[1] \"Success!\"\n"
     ]
    }
   ],
   "source": [
    "# Here we check to see if you have given your answer the correct object name\n",
    "# and if your answer is plausible. However, all other tests have been hidden\n",
    "# so you can practice deciding when you have the correct answer.\n",
    "test_that('Did not assign answer to an object called \"answer2.6\"', {\n",
    "  expect_true(exists(\"answer2.6\"))\n",
    "})\n",
    "test_that('Solution should be a single character (\"A\" or \"B\")', {\n",
    "  expect_match(answer2.6, \"a|b\", ignore.case = TRUE)\n",
    "})\n",
    "### BEGIN HIDDEN TESTS\n",
    "test_that(\"Solution is incorrect\", {\n",
    "  expect_equal(digest(tolower(answer2.6)), \"ddf100612805359cd81fdc5ce3b9fbba\")\n",
    "})\n",
    "print(\"Success!\")\n",
    "### END HIDDEN TESTS"
   ]
  },
  {
   "cell_type": "markdown",
   "metadata": {
    "nbgrader": {
     "grade": false,
     "grade_id": "cell-42738f7f4f0d52ad",
     "locked": true,
     "schema_version": 3,
     "solution": false,
     "task": false
    }
   },
   "source": [
    "**Question 2.7** \n",
    "<br> {points: 1}\n",
    "\n",
    "Use R's `t.test` function to test the hypotheses $H_0: \\mu = 11$. Make sure to use `broom::tidy()` to get a more organized result.\n",
    "\n",
    "_Assign your data frame to an object called `dangar_t_test`._"
   ]
  },
  {
   "cell_type": "code",
   "execution_count": 30,
   "metadata": {
    "nbgrader": {
     "grade": false,
     "grade_id": "cell-d4e5e466203bcc2b",
     "locked": false,
     "schema_version": 3,
     "solution": true,
     "task": false
    }
   },
   "outputs": [
    {
     "data": {
      "text/html": [
       "<table>\n",
       "<caption>A tibble: 1 × 8</caption>\n",
       "<thead>\n",
       "\t<tr><th scope=col>estimate</th><th scope=col>statistic</th><th scope=col>p.value</th><th scope=col>parameter</th><th scope=col>conf.low</th><th scope=col>conf.high</th><th scope=col>method</th><th scope=col>alternative</th></tr>\n",
       "\t<tr><th scope=col>&lt;dbl&gt;</th><th scope=col>&lt;dbl&gt;</th><th scope=col>&lt;dbl&gt;</th><th scope=col>&lt;dbl&gt;</th><th scope=col>&lt;dbl&gt;</th><th scope=col>&lt;dbl&gt;</th><th scope=col>&lt;chr&gt;</th><th scope=col>&lt;chr&gt;</th></tr>\n",
       "</thead>\n",
       "<tbody>\n",
       "\t<tr><td>12.34091</td><td>2.09264</td><td>0.04870617</td><td>21</td><td>11.00835</td><td>13.67347</td><td>One Sample t-test</td><td>two.sided</td></tr>\n",
       "</tbody>\n",
       "</table>\n"
      ],
      "text/latex": [
       "A tibble: 1 × 8\n",
       "\\begin{tabular}{llllllll}\n",
       " estimate & statistic & p.value & parameter & conf.low & conf.high & method & alternative\\\\\n",
       " <dbl> & <dbl> & <dbl> & <dbl> & <dbl> & <dbl> & <chr> & <chr>\\\\\n",
       "\\hline\n",
       "\t 12.34091 & 2.09264 & 0.04870617 & 21 & 11.00835 & 13.67347 & One Sample t-test & two.sided\\\\\n",
       "\\end{tabular}\n"
      ],
      "text/markdown": [
       "\n",
       "A tibble: 1 × 8\n",
       "\n",
       "| estimate &lt;dbl&gt; | statistic &lt;dbl&gt; | p.value &lt;dbl&gt; | parameter &lt;dbl&gt; | conf.low &lt;dbl&gt; | conf.high &lt;dbl&gt; | method &lt;chr&gt; | alternative &lt;chr&gt; |\n",
       "|---|---|---|---|---|---|---|---|\n",
       "| 12.34091 | 2.09264 | 0.04870617 | 21 | 11.00835 | 13.67347 | One Sample t-test | two.sided |\n",
       "\n"
      ],
      "text/plain": [
       "  estimate statistic p.value    parameter conf.low conf.high method           \n",
       "1 12.34091 2.09264   0.04870617 21        11.00835 13.67347  One Sample t-test\n",
       "  alternative\n",
       "1 two.sided  "
      ]
     },
     "metadata": {},
     "output_type": "display_data"
    }
   ],
   "source": [
    "#dangar_t_test <-\n",
    "\n",
    "### BEGIN SOLUTION\n",
    "dangar_t_test <- tidy(t.test(dangar, mu = 11))\n",
    "### END SOLUTION\n",
    "\n",
    "dangar_t_test"
   ]
  },
  {
   "cell_type": "code",
   "execution_count": 31,
   "metadata": {
    "nbgrader": {
     "grade": true,
     "grade_id": "cell-ee8be1f61a5a8f39",
     "locked": true,
     "points": 1,
     "schema_version": 3,
     "solution": false,
     "task": false
    }
   },
   "outputs": [
    {
     "name": "stdout",
     "output_type": "stream",
     "text": [
      "[1] \"Success!\"\n"
     ]
    }
   ],
   "source": [
    "# Here we check to see if you have given your answer the correct object name\n",
    "# and if your answer is plausible. However, all other tests have been hidden\n",
    "# so you can practice deciding when you have the correct answer.\n",
    "test_that('Did not assign answer to an object called \"dangar_t_test\"', {\n",
    "  expect_true(exists(\"dangar_t_test\"))\n",
    "})\n",
    "test_that(\"Solution should be the output of t.test\", {\n",
    "    expect_true(\"data.frame\" %in% class(dangar_t_test))\n",
    "})\n",
    "### BEGIN HIDDEN TESTS\n",
    "  test_that(\"Wrong statistic value\", {\n",
    "    expect_equal(digest(as.integer(dangar_t_test$statistic*10e6)), \"d8cdbf79e18367b1993eeb6f880737df\")\n",
    "  })\n",
    "  \n",
    "  test_that(\"Wrong p-value\", {\n",
    "    expect_equal(digest(as.integer(dangar_t_test$p.value*10e6)), \"998dd14467338ebb1f7cd9938bf705b5\")\n",
    "  })\n",
    "  test_that(\"Wrong estimate\", {\n",
    "    expect_equal(digest(as.integer(dangar_t_test$estimate*10e6)), \"85b4fb3fc7bcebf153c433fac3244fdc\")\n",
    "  })\n",
    "  test_that(\"Wrong parameter\", {\n",
    "    expect_equal(digest(dangar_t_test$parameter), \"00363a4a30820157d44d41ac4a3c6de3\")\n",
    "  })\n",
    "  test_that(\"Wrong alternative hypothesis\", {\n",
    "    expect_equal(digest(dangar_t_test$alternative), \"d095e00cba6f80bf1d5ad5db0400f812\")\n",
    "  })\n",
    "\n",
    "print(\"Success!\")\n",
    "### END HIDDEN TESTS"
   ]
  },
  {
   "cell_type": "markdown",
   "metadata": {
    "nbgrader": {
     "grade": false,
     "grade_id": "cell-3975cc4fd8ece220",
     "locked": true,
     "schema_version": 3,
     "solution": false,
     "task": false
    }
   },
   "source": [
    "## 3. Chronic Bronchial Reaction to Dust\n",
    "\n",
    "In this section, we will study the `dust` dataset, which records the survey result of the chronic bronchial reaction of employees of a Munich factory. Let's load and preview the dataset."
   ]
  },
  {
   "cell_type": "code",
   "execution_count": 32,
   "metadata": {
    "nbgrader": {
     "grade": false,
     "grade_id": "cell-09bbc9ab6c12a176",
     "locked": true,
     "schema_version": 3,
     "solution": false,
     "task": false
    }
   },
   "outputs": [
    {
     "name": "stderr",
     "output_type": "stream",
     "text": [
      "Parsed with column specification:\n",
      "cols(\n",
      "  bronch = \u001b[32mcol_double()\u001b[39m,\n",
      "  dust = \u001b[32mcol_double()\u001b[39m,\n",
      "  smoke = \u001b[32mcol_double()\u001b[39m,\n",
      "  years = \u001b[32mcol_double()\u001b[39m\n",
      ")\n",
      "\n"
     ]
    },
    {
     "data": {
      "text/html": [
       "<table>\n",
       "<caption>A tibble: 6 × 4</caption>\n",
       "<thead>\n",
       "\t<tr><th scope=col>bronch</th><th scope=col>dust</th><th scope=col>smoke</th><th scope=col>years</th></tr>\n",
       "\t<tr><th scope=col>&lt;dbl&gt;</th><th scope=col>&lt;dbl&gt;</th><th scope=col>&lt;dbl&gt;</th><th scope=col>&lt;dbl&gt;</th></tr>\n",
       "</thead>\n",
       "<tbody>\n",
       "\t<tr><td>0</td><td>0.79</td><td>0</td><td>33</td></tr>\n",
       "\t<tr><td>0</td><td>0.71</td><td>1</td><td>14</td></tr>\n",
       "\t<tr><td>0</td><td>0.49</td><td>1</td><td>47</td></tr>\n",
       "\t<tr><td>0</td><td>0.56</td><td>1</td><td> 9</td></tr>\n",
       "\t<tr><td>0</td><td>0.39</td><td>1</td><td>18</td></tr>\n",
       "\t<tr><td>1</td><td>8.00</td><td>1</td><td>29</td></tr>\n",
       "</tbody>\n",
       "</table>\n"
      ],
      "text/latex": [
       "A tibble: 6 × 4\n",
       "\\begin{tabular}{llll}\n",
       " bronch & dust & smoke & years\\\\\n",
       " <dbl> & <dbl> & <dbl> & <dbl>\\\\\n",
       "\\hline\n",
       "\t 0 & 0.79 & 0 & 33\\\\\n",
       "\t 0 & 0.71 & 1 & 14\\\\\n",
       "\t 0 & 0.49 & 1 & 47\\\\\n",
       "\t 0 & 0.56 & 1 &  9\\\\\n",
       "\t 0 & 0.39 & 1 & 18\\\\\n",
       "\t 1 & 8.00 & 1 & 29\\\\\n",
       "\\end{tabular}\n"
      ],
      "text/markdown": [
       "\n",
       "A tibble: 6 × 4\n",
       "\n",
       "| bronch &lt;dbl&gt; | dust &lt;dbl&gt; | smoke &lt;dbl&gt; | years &lt;dbl&gt; |\n",
       "|---|---|---|---|\n",
       "| 0 | 0.79 | 0 | 33 |\n",
       "| 0 | 0.71 | 1 | 14 |\n",
       "| 0 | 0.49 | 1 | 47 |\n",
       "| 0 | 0.56 | 1 |  9 |\n",
       "| 0 | 0.39 | 1 | 18 |\n",
       "| 1 | 8.00 | 1 | 29 |\n",
       "\n"
      ],
      "text/plain": [
       "  bronch dust smoke years\n",
       "1 0      0.79 0     33   \n",
       "2 0      0.71 1     14   \n",
       "3 0      0.49 1     47   \n",
       "4 0      0.56 1      9   \n",
       "5 0      0.39 1     18   \n",
       "6 1      8.00 1     29   "
      ]
     },
     "metadata": {},
     "output_type": "display_data"
    }
   ],
   "source": [
    "dust <- read_csv(\"data//dust.csv\")\n",
    "head(dust %>% slice_sample(n = 6)) "
   ]
  },
  {
   "cell_type": "markdown",
   "metadata": {
    "nbgrader": {
     "grade": false,
     "grade_id": "cell-8374bbf47fddcf90",
     "locked": true,
     "schema_version": 3,
     "solution": false,
     "task": false
    }
   },
   "source": [
    "Let's assume that all of the employees are exposed to the same dust concentration within the factory. Let $p_{0}$ be the proportion of non-smoking employees (`smoke==0`) that have a chronic bronchial reaction, and let $p_{1}$ be the proportion of smoking employees (`smoke==1`) that have a chronic bronchial reaction. We will perform hypothesis testing on the difference in proportions $p_{1}-p_{0}$ at a 5% significance level.\n",
    "\n",
    "Our null hypothesis is that smoking is unrelated to chronic bronchitis in this factory ($p_{1}=p_{0}$), while the alternative hypothesis is that there is a difference in proportions of employees having chronic bronchitis between the smokers and the non-smokers ($p_{1} \\neq p_{0}$)."
   ]
  },
  {
   "cell_type": "code",
   "execution_count": 33,
   "metadata": {
    "nbgrader": {
     "grade": false,
     "grade_id": "cell-b1e26d08a125a208",
     "locked": true,
     "schema_version": 3,
     "solution": false,
     "task": false
    },
    "scrolled": true
   },
   "outputs": [
    {
     "data": {
      "text/html": [
       "<table>\n",
       "<caption>A tibble: 6 × 2</caption>\n",
       "<thead>\n",
       "\t<tr><th scope=col>bronch</th><th scope=col>smoke</th></tr>\n",
       "\t<tr><th scope=col>&lt;fct&gt;</th><th scope=col>&lt;chr&gt;</th></tr>\n",
       "</thead>\n",
       "<tbody>\n",
       "\t<tr><td>no_reaction</td><td>smoker</td></tr>\n",
       "\t<tr><td>no_reaction</td><td>smoker</td></tr>\n",
       "\t<tr><td>no_reaction</td><td>smoker</td></tr>\n",
       "\t<tr><td>no_reaction</td><td>smoker</td></tr>\n",
       "\t<tr><td>no_reaction</td><td>smoker</td></tr>\n",
       "\t<tr><td>no_reaction</td><td>smoker</td></tr>\n",
       "</tbody>\n",
       "</table>\n"
      ],
      "text/latex": [
       "A tibble: 6 × 2\n",
       "\\begin{tabular}{ll}\n",
       " bronch & smoke\\\\\n",
       " <fct> & <chr>\\\\\n",
       "\\hline\n",
       "\t no\\_reaction & smoker\\\\\n",
       "\t no\\_reaction & smoker\\\\\n",
       "\t no\\_reaction & smoker\\\\\n",
       "\t no\\_reaction & smoker\\\\\n",
       "\t no\\_reaction & smoker\\\\\n",
       "\t no\\_reaction & smoker\\\\\n",
       "\\end{tabular}\n"
      ],
      "text/markdown": [
       "\n",
       "A tibble: 6 × 2\n",
       "\n",
       "| bronch &lt;fct&gt; | smoke &lt;chr&gt; |\n",
       "|---|---|\n",
       "| no_reaction | smoker |\n",
       "| no_reaction | smoker |\n",
       "| no_reaction | smoker |\n",
       "| no_reaction | smoker |\n",
       "| no_reaction | smoker |\n",
       "| no_reaction | smoker |\n",
       "\n"
      ],
      "text/plain": [
       "  bronch      smoke \n",
       "1 no_reaction smoker\n",
       "2 no_reaction smoker\n",
       "3 no_reaction smoker\n",
       "4 no_reaction smoker\n",
       "5 no_reaction smoker\n",
       "6 no_reaction smoker"
      ]
     },
     "metadata": {},
     "output_type": "display_data"
    },
    {
     "data": {
      "text/plain": [
       "             smoke\n",
       "bronch        non_smoker smoker\n",
       "  no_reaction        274    680\n",
       "  reaction            51    241"
      ]
     },
     "metadata": {},
     "output_type": "display_data"
    }
   ],
   "source": [
    "smoke_bronch <- dust %>%\n",
    "                    select(\"bronch\", \"smoke\") %>%\n",
    "                    filter(!is.na(smoke))  %>%\n",
    "                    mutate(smoke = recode(smoke, `0`=\"non_smoker\", `1`=\"smoker\"),\n",
    "                           bronch = fct_recode(factor(bronch), \"no_reaction\" = \"0\", \"reaction\" = '1'))\n",
    "head(smoke_bronch)\n",
    "table(smoke_bronch)"
   ]
  },
  {
   "cell_type": "markdown",
   "metadata": {
    "nbgrader": {
     "grade": false,
     "grade_id": "cell-e7e1924b2d648a46",
     "locked": true,
     "schema_version": 3,
     "solution": false,
     "task": false
    }
   },
   "source": [
    "<b>Question 3.1: Observed test statistic</b>\n",
    "<br> {points:1}\n",
    "\n",
    "Calculate the observed test statistic $\\hat{p}_1-\\hat{p}_0$. \n",
    "\n",
    "_Assign your data frame to an object called `dust_summary`. The data frame should contain five columns: `n_non_smoker`,\t`n_smoker`,\t`p_hat_non_smoker`,\t`p_hat_smoker`, and `prop_diff`._"
   ]
  },
  {
   "cell_type": "code",
   "execution_count": 34,
   "metadata": {
    "nbgrader": {
     "grade": false,
     "grade_id": "cell-d6047bea6a8ece4f",
     "locked": false,
     "schema_version": 3,
     "solution": true,
     "task": false
    }
   },
   "outputs": [
    {
     "data": {
      "text/html": [
       "<table>\n",
       "<caption>A tibble: 1 × 5</caption>\n",
       "<thead>\n",
       "\t<tr><th scope=col>n_non_smoker</th><th scope=col>n_smoker</th><th scope=col>p_hat_non_smoker</th><th scope=col>p_hat_smoker</th><th scope=col>prop_diff</th></tr>\n",
       "\t<tr><th scope=col>&lt;int&gt;</th><th scope=col>&lt;int&gt;</th><th scope=col>&lt;dbl&gt;</th><th scope=col>&lt;dbl&gt;</th><th scope=col>&lt;dbl&gt;</th></tr>\n",
       "</thead>\n",
       "<tbody>\n",
       "\t<tr><td>325</td><td>921</td><td>0.1569231</td><td>0.2616721</td><td>0.104749</td></tr>\n",
       "</tbody>\n",
       "</table>\n"
      ],
      "text/latex": [
       "A tibble: 1 × 5\n",
       "\\begin{tabular}{lllll}\n",
       " n\\_non\\_smoker & n\\_smoker & p\\_hat\\_non\\_smoker & p\\_hat\\_smoker & prop\\_diff\\\\\n",
       " <int> & <int> & <dbl> & <dbl> & <dbl>\\\\\n",
       "\\hline\n",
       "\t 325 & 921 & 0.1569231 & 0.2616721 & 0.104749\\\\\n",
       "\\end{tabular}\n"
      ],
      "text/markdown": [
       "\n",
       "A tibble: 1 × 5\n",
       "\n",
       "| n_non_smoker &lt;int&gt; | n_smoker &lt;int&gt; | p_hat_non_smoker &lt;dbl&gt; | p_hat_smoker &lt;dbl&gt; | prop_diff &lt;dbl&gt; |\n",
       "|---|---|---|---|---|\n",
       "| 325 | 921 | 0.1569231 | 0.2616721 | 0.104749 |\n",
       "\n"
      ],
      "text/plain": [
       "  n_non_smoker n_smoker p_hat_non_smoker p_hat_smoker prop_diff\n",
       "1 325          921      0.1569231        0.2616721    0.104749 "
      ]
     },
     "metadata": {},
     "output_type": "display_data"
    }
   ],
   "source": [
    "# dust_summary <-\n",
    "#     smoke_bronch %>% \n",
    "#     group_by(...) %>% \n",
    "#     summarise(n = ..., \n",
    "#               p_hat = ...,  \n",
    "#              `.groups` = \"drop\") %>% \n",
    "#     pivot_wider(names_from = smoke, values_from = c(n, p_hat)) %>% \n",
    "#     mutate(...)\n",
    "\n",
    "### BEGIN SOLUTION\n",
    "dust_summary <-\n",
    "    smoke_bronch %>% \n",
    "    group_by(smoke) %>% \n",
    "    summarise(n = n(), p_hat = mean(bronch==\"reaction\"), `.groups` = \"drop\") %>% \n",
    "    pivot_wider(names_from = smoke, values_from = c(n, p_hat)) %>% \n",
    "    mutate(prop_diff = p_hat_smoker-p_hat_non_smoker)\n",
    "### END SOLUTION\n",
    "\n",
    "dust_summary"
   ]
  },
  {
   "cell_type": "code",
   "execution_count": 35,
   "metadata": {
    "nbgrader": {
     "grade": true,
     "grade_id": "cell-321f77d28e5cfd66",
     "locked": true,
     "points": 1,
     "schema_version": 3,
     "solution": false,
     "task": false
    }
   },
   "outputs": [
    {
     "name": "stdout",
     "output_type": "stream",
     "text": [
      "[1] \"Success!\"\n"
     ]
    }
   ],
   "source": [
    "test_3.1()"
   ]
  },
  {
   "cell_type": "markdown",
   "metadata": {
    "nbgrader": {
     "grade": false,
     "grade_id": "cell-fba8e97df6d6e6d1",
     "locked": true,
     "schema_version": 3,
     "solution": false,
     "task": false
    }
   },
   "source": [
    "<b>Question 3.2</b>\n",
    "<br> {points:1}\n",
    "\n",
    "Add a sixth column to `dust_summary`, named `null_std_error`, with the standard error of the observed test statistic under the null model. "
   ]
  },
  {
   "cell_type": "code",
   "execution_count": 36,
   "metadata": {
    "nbgrader": {
     "grade": false,
     "grade_id": "cell-e74749361b4da832",
     "locked": false,
     "schema_version": 3,
     "solution": true,
     "task": false
    },
    "scrolled": true
   },
   "outputs": [
    {
     "data": {
      "text/html": [
       "<table>\n",
       "<caption>A tibble: 1 × 6</caption>\n",
       "<thead>\n",
       "\t<tr><th scope=col>n_non_smoker</th><th scope=col>n_smoker</th><th scope=col>p_hat_non_smoker</th><th scope=col>p_hat_smoker</th><th scope=col>prop_diff</th><th scope=col>null_std_error</th></tr>\n",
       "\t<tr><th scope=col>&lt;int&gt;</th><th scope=col>&lt;int&gt;</th><th scope=col>&lt;dbl&gt;</th><th scope=col>&lt;dbl&gt;</th><th scope=col>&lt;dbl&gt;</th><th scope=col>&lt;dbl&gt;</th></tr>\n",
       "</thead>\n",
       "<tbody>\n",
       "\t<tr><td>325</td><td>921</td><td>0.1569231</td><td>0.2616721</td><td>0.104749</td><td>0.02732971</td></tr>\n",
       "</tbody>\n",
       "</table>\n"
      ],
      "text/latex": [
       "A tibble: 1 × 6\n",
       "\\begin{tabular}{llllll}\n",
       " n\\_non\\_smoker & n\\_smoker & p\\_hat\\_non\\_smoker & p\\_hat\\_smoker & prop\\_diff & null\\_std\\_error\\\\\n",
       " <int> & <int> & <dbl> & <dbl> & <dbl> & <dbl>\\\\\n",
       "\\hline\n",
       "\t 325 & 921 & 0.1569231 & 0.2616721 & 0.104749 & 0.02732971\\\\\n",
       "\\end{tabular}\n"
      ],
      "text/markdown": [
       "\n",
       "A tibble: 1 × 6\n",
       "\n",
       "| n_non_smoker &lt;int&gt; | n_smoker &lt;int&gt; | p_hat_non_smoker &lt;dbl&gt; | p_hat_smoker &lt;dbl&gt; | prop_diff &lt;dbl&gt; | null_std_error &lt;dbl&gt; |\n",
       "|---|---|---|---|---|---|\n",
       "| 325 | 921 | 0.1569231 | 0.2616721 | 0.104749 | 0.02732971 |\n",
       "\n"
      ],
      "text/plain": [
       "  n_non_smoker n_smoker p_hat_non_smoker p_hat_smoker prop_diff null_std_error\n",
       "1 325          921      0.1569231        0.2616721    0.104749  0.02732971    "
      ]
     },
     "metadata": {},
     "output_type": "display_data"
    }
   ],
   "source": [
    "\n",
    "### BEGIN SOLUTION\n",
    "dust_summary <-\n",
    "    dust_summary %>% \n",
    "    mutate(p = (p_hat_smoker * n_smoker + p_hat_non_smoker * n_non_smoker)/(n_non_smoker+n_smoker),\n",
    "           null_std_error = sqrt(p*(1-p)*(1/n_smoker+1/n_non_smoker))) %>% \n",
    "    select(-p)\n",
    "### END SOLUTION\n",
    "\n",
    "dust_summary"
   ]
  },
  {
   "cell_type": "code",
   "execution_count": 37,
   "metadata": {
    "nbgrader": {
     "grade": true,
     "grade_id": "cell-fb16182231ab71f1",
     "locked": true,
     "points": 1,
     "schema_version": 3,
     "solution": false,
     "task": false
    }
   },
   "outputs": [
    {
     "name": "stdout",
     "output_type": "stream",
     "text": [
      "[1] \"Success!\"\n"
     ]
    }
   ],
   "source": [
    "# Here we check to see if you have given your answer the correct object name\n",
    "# and if your answer is plausible. However, all other tests have been hidden\n",
    "# so you can practice deciding when you have the correct answer.\n",
    "  test_that('Did not assign answer to an object called \"dust_summary\"', {\n",
    "    expect_true(exists(\"dust_summary\"))\n",
    "  })\n",
    "\n",
    "  test_that(\"Solution should be a data frame\", {\n",
    "    expect_true(\"data.frame\" %in% class(dust_summary))\n",
    "  })\n",
    "\n",
    "  expected_colnames <- c(\"n_non_smoker\", \"n_smoker\", \"p_hat_non_smoker\", \"p_hat_smoker\", \"prop_diff\", \"null_std_error\")\n",
    "  given_colnames <- colnames(dust_summary)\n",
    "  test_that(\"Data frame does not have the correct columns\", {\n",
    "    expect_equal(length(setdiff(\n",
    "      union(expected_colnames, given_colnames),\n",
    "      intersect(expected_colnames, given_colnames)\n",
    "    )), 0)\n",
    "  })\n",
    "\n",
    "  test_that(\"Data frame does not contain the correct number of rows\", {\n",
    "    expect_equal(digest(as.integer(nrow(dust_summary))), \"4b5630ee914e848e8d07221556b0a2fb\")\n",
    "  })\n",
    "\n",
    "  test_that(\"Data frame does not contain the correct data\", {\n",
    "    expect_equal(digest(as.integer(sum(dust_summary$n_non_smoker))), \"87f3407882014ba8f18016b8e408ad35\")\n",
    "    expect_equal(digest(as.integer(sum(dust_summary$n_smoker))), \"76bb48cccd68153482cda2b8ebfecd93\")\n",
    "    expect_equal(digest(as.integer(sum(dust_summary$p_hat_non_smoker) * 10e6)), \"e772aa3c54a729784d27e153931979c7\")\n",
    "    expect_equal(digest(as.integer(sum(dust_summary$p_hat_smoker) * 10e6)), \"65105150a89cf0f1e8f0b93ae773058d\")\n",
    "    expect_equal(digest(as.integer(sum(dust_summary$prop_diff) * 10e6)), \"2b59c114711ded35f1991bdb2cfe5562\")\n",
    "  })\n",
    "\n",
    "### BEGIN HIDDEN TESTS\n",
    "test_that(\"Solution is incorrect\", {\n",
    "  expect_equal(digest(as.integer(sum(dust_summary$null_std_error) * 10e6)), \"cc782cbe4d3b401bd627f6992b356310\")\n",
    "})\n",
    "print(\"Success!\")\n",
    "### END HIDDEN TESTS"
   ]
  },
  {
   "cell_type": "markdown",
   "metadata": {
    "nbgrader": {
     "grade": false,
     "grade_id": "cell-6e35b178ece4b5ab",
     "locked": true,
     "schema_version": 3,
     "solution": false,
     "task": false
    }
   },
   "source": [
    "<b>Question 3.3:</b>\n",
    "<br> {points: 1}\n",
    "\n",
    "Add another column to `dust_summary`, named `p_value`, with the p-value of the observed test statistic calculated using the CLT."
   ]
  },
  {
   "cell_type": "code",
   "execution_count": 38,
   "metadata": {
    "nbgrader": {
     "grade": false,
     "grade_id": "cell-478ce0cc8ccaa607",
     "locked": false,
     "schema_version": 3,
     "solution": true,
     "task": false
    },
    "scrolled": true
   },
   "outputs": [
    {
     "data": {
      "text/html": [
       "<table>\n",
       "<caption>A tibble: 1 × 7</caption>\n",
       "<thead>\n",
       "\t<tr><th scope=col>n_non_smoker</th><th scope=col>n_smoker</th><th scope=col>p_hat_non_smoker</th><th scope=col>p_hat_smoker</th><th scope=col>prop_diff</th><th scope=col>null_std_error</th><th scope=col>p_value</th></tr>\n",
       "\t<tr><th scope=col>&lt;int&gt;</th><th scope=col>&lt;int&gt;</th><th scope=col>&lt;dbl&gt;</th><th scope=col>&lt;dbl&gt;</th><th scope=col>&lt;dbl&gt;</th><th scope=col>&lt;dbl&gt;</th><th scope=col>&lt;dbl&gt;</th></tr>\n",
       "</thead>\n",
       "<tbody>\n",
       "\t<tr><td>325</td><td>921</td><td>0.1569231</td><td>0.2616721</td><td>0.104749</td><td>0.02732971</td><td>0.0001266988</td></tr>\n",
       "</tbody>\n",
       "</table>\n"
      ],
      "text/latex": [
       "A tibble: 1 × 7\n",
       "\\begin{tabular}{lllllll}\n",
       " n\\_non\\_smoker & n\\_smoker & p\\_hat\\_non\\_smoker & p\\_hat\\_smoker & prop\\_diff & null\\_std\\_error & p\\_value\\\\\n",
       " <int> & <int> & <dbl> & <dbl> & <dbl> & <dbl> & <dbl>\\\\\n",
       "\\hline\n",
       "\t 325 & 921 & 0.1569231 & 0.2616721 & 0.104749 & 0.02732971 & 0.0001266988\\\\\n",
       "\\end{tabular}\n"
      ],
      "text/markdown": [
       "\n",
       "A tibble: 1 × 7\n",
       "\n",
       "| n_non_smoker &lt;int&gt; | n_smoker &lt;int&gt; | p_hat_non_smoker &lt;dbl&gt; | p_hat_smoker &lt;dbl&gt; | prop_diff &lt;dbl&gt; | null_std_error &lt;dbl&gt; | p_value &lt;dbl&gt; |\n",
       "|---|---|---|---|---|---|---|\n",
       "| 325 | 921 | 0.1569231 | 0.2616721 | 0.104749 | 0.02732971 | 0.0001266988 |\n",
       "\n"
      ],
      "text/plain": [
       "  n_non_smoker n_smoker p_hat_non_smoker p_hat_smoker prop_diff null_std_error\n",
       "1 325          921      0.1569231        0.2616721    0.104749  0.02732971    \n",
       "  p_value     \n",
       "1 0.0001266988"
      ]
     },
     "metadata": {},
     "output_type": "display_data"
    }
   ],
   "source": [
    "### BEGIN SOLUTION\n",
    "dust_summary <- \n",
    "    dust_summary  %>% \n",
    "    mutate(p_value = 2 * pnorm(prop_diff, 0, null_std_error, lower.tail=FALSE))\n",
    "### END SOLUTION\n",
    "\n",
    "dust_summary"
   ]
  },
  {
   "cell_type": "code",
   "execution_count": 39,
   "metadata": {
    "nbgrader": {
     "grade": true,
     "grade_id": "cell-b2957c7169b94d37",
     "locked": true,
     "points": 1,
     "schema_version": 3,
     "solution": false,
     "task": false
    }
   },
   "outputs": [
    {
     "name": "stdout",
     "output_type": "stream",
     "text": [
      "[1] \"Success!\"\n"
     ]
    }
   ],
   "source": [
    "# Here we check to see if you have given your answer the correct object name\n",
    "# and if your answer is plausible. However, all other tests have been hidden\n",
    "# so you can practice deciding when you have the correct answer.\n",
    "  test_that('Did not assign answer to an object called \"dust_summary\"', {\n",
    "    expect_true(exists(\"dust_summary\"))\n",
    "  })\n",
    "\n",
    "  test_that(\"Solution should be a data frame\", {\n",
    "    expect_true(\"data.frame\" %in% class(dust_summary))\n",
    "  })\n",
    "\n",
    "  expected_colnames <- c(\"n_non_smoker\", \"n_smoker\", \"p_hat_non_smoker\", \"p_hat_smoker\", \"prop_diff\", \"null_std_error\", \"p_value\")\n",
    "  given_colnames <- colnames(dust_summary)\n",
    "  test_that(\"Data frame does not have the correct columns\", {\n",
    "    expect_equal(length(setdiff(\n",
    "      union(expected_colnames, given_colnames),\n",
    "      intersect(expected_colnames, given_colnames)\n",
    "    )), 0)\n",
    "  })\n",
    "\n",
    "  test_that(\"Data frame does not contain the correct number of rows\", {\n",
    "    expect_equal(digest(as.integer(nrow(dust_summary))), \"4b5630ee914e848e8d07221556b0a2fb\")\n",
    "  })\n",
    "\n",
    "  test_that(\"Data frame does not contain the correct data\", {\n",
    "    expect_equal(digest(as.integer(sum(dust_summary$n_non_smoker))), \"87f3407882014ba8f18016b8e408ad35\")\n",
    "    expect_equal(digest(as.integer(sum(dust_summary$n_smoker))), \"76bb48cccd68153482cda2b8ebfecd93\")\n",
    "    expect_equal(digest(as.integer(sum(dust_summary$p_hat_non_smoker) * 10e6)), \"e772aa3c54a729784d27e153931979c7\")\n",
    "    expect_equal(digest(as.integer(sum(dust_summary$p_hat_smoker) * 10e6)), \"65105150a89cf0f1e8f0b93ae773058d\")\n",
    "    expect_equal(digest(as.integer(sum(dust_summary$prop_diff) * 10e6)), \"2b59c114711ded35f1991bdb2cfe5562\")\n",
    "  })\n",
    "\n",
    "### BEGIN HIDDEN TESTS\n",
    "test_that(\"Solution is incorrect\", {\n",
    "  expect_equal(digest(as.integer(sum(dust_summary$null_std_error) * 10e6)), \"cc782cbe4d3b401bd627f6992b356310\")\n",
    "  expect_equal(  digest(as.integer(sum(dust_summary$p_value) * 10e6)), \"40a71fcefb374785bd9c9e10386e24e5\")\n",
    "})\n",
    "\n",
    "print(\"Success!\")\n",
    "### END HIDDEN TESTS"
   ]
  },
  {
   "cell_type": "markdown",
   "metadata": {
    "nbgrader": {
     "grade": false,
     "grade_id": "cell-90e5cb997b7e41a4",
     "locked": true,
     "schema_version": 3,
     "solution": false,
     "task": false
    }
   },
   "source": [
    "**Question 3.4** \n",
    "<br> {points: 1}\n",
    "\n",
    "Use R's `prop.test` function to test the hypothesis. Make sure to use the `correct = FALSE`.\n",
    "Make sure to use `broom::tidy()` to get a more organized result.\n",
    "\n",
    "_Assign your data frame to an object called `dust_prop_test`._"
   ]
  },
  {
   "cell_type": "code",
   "execution_count": 40,
   "metadata": {
    "nbgrader": {
     "grade": false,
     "grade_id": "cell-f3f2e5e35a535fc4",
     "locked": false,
     "schema_version": 3,
     "solution": true,
     "task": false
    }
   },
   "outputs": [
    {
     "data": {
      "text/html": [
       "<table>\n",
       "<caption>A tibble: 1 × 9</caption>\n",
       "<thead>\n",
       "\t<tr><th scope=col>estimate1</th><th scope=col>estimate2</th><th scope=col>statistic</th><th scope=col>p.value</th><th scope=col>parameter</th><th scope=col>conf.low</th><th scope=col>conf.high</th><th scope=col>method</th><th scope=col>alternative</th></tr>\n",
       "\t<tr><th scope=col>&lt;dbl&gt;</th><th scope=col>&lt;dbl&gt;</th><th scope=col>&lt;dbl&gt;</th><th scope=col>&lt;dbl&gt;</th><th scope=col>&lt;dbl&gt;</th><th scope=col>&lt;dbl&gt;</th><th scope=col>&lt;dbl&gt;</th><th scope=col>&lt;chr&gt;</th><th scope=col>&lt;chr&gt;</th></tr>\n",
       "</thead>\n",
       "<tbody>\n",
       "\t<tr><td>0.2616721</td><td>0.1569231</td><td>14.69027</td><td>0.0001266988</td><td>1</td><td>0.05607071</td><td>0.1534273</td><td>2-sample test for equality of proportions without continuity correction</td><td>two.sided</td></tr>\n",
       "</tbody>\n",
       "</table>\n"
      ],
      "text/latex": [
       "A tibble: 1 × 9\n",
       "\\begin{tabular}{lllllllll}\n",
       " estimate1 & estimate2 & statistic & p.value & parameter & conf.low & conf.high & method & alternative\\\\\n",
       " <dbl> & <dbl> & <dbl> & <dbl> & <dbl> & <dbl> & <dbl> & <chr> & <chr>\\\\\n",
       "\\hline\n",
       "\t 0.2616721 & 0.1569231 & 14.69027 & 0.0001266988 & 1 & 0.05607071 & 0.1534273 & 2-sample test for equality of proportions without continuity correction & two.sided\\\\\n",
       "\\end{tabular}\n"
      ],
      "text/markdown": [
       "\n",
       "A tibble: 1 × 9\n",
       "\n",
       "| estimate1 &lt;dbl&gt; | estimate2 &lt;dbl&gt; | statistic &lt;dbl&gt; | p.value &lt;dbl&gt; | parameter &lt;dbl&gt; | conf.low &lt;dbl&gt; | conf.high &lt;dbl&gt; | method &lt;chr&gt; | alternative &lt;chr&gt; |\n",
       "|---|---|---|---|---|---|---|---|---|\n",
       "| 0.2616721 | 0.1569231 | 14.69027 | 0.0001266988 | 1 | 0.05607071 | 0.1534273 | 2-sample test for equality of proportions without continuity correction | two.sided |\n",
       "\n"
      ],
      "text/plain": [
       "  estimate1 estimate2 statistic p.value      parameter conf.low   conf.high\n",
       "1 0.2616721 0.1569231 14.69027  0.0001266988 1         0.05607071 0.1534273\n",
       "  method                                                                 \n",
       "1 2-sample test for equality of proportions without continuity correction\n",
       "  alternative\n",
       "1 two.sided  "
      ]
     },
     "metadata": {},
     "output_type": "display_data"
    }
   ],
   "source": [
    "### BEGIN SOLUTION\n",
    "dust_prop_test <- \n",
    "    tidy(prop.test(x = c(dust_summary %>% mutate(success = n_smoker * p_hat_smoker) %>% pull(success),\n",
    "                    dust_summary %>% mutate(success = n_non_smoker * p_hat_non_smoker) %>% pull(success)),\n",
    "              n = c(dust_summary$n_smoker, dust_summary$n_non_smoker),\n",
    "             correct=FALSE))\n",
    "### END SOLUTION\n",
    "\n",
    "dust_prop_test"
   ]
  },
  {
   "cell_type": "code",
   "execution_count": 41,
   "metadata": {
    "nbgrader": {
     "grade": true,
     "grade_id": "cell-e99c6f5030213b7c",
     "locked": true,
     "points": 1,
     "schema_version": 3,
     "solution": false,
     "task": false
    }
   },
   "outputs": [
    {
     "name": "stdout",
     "output_type": "stream",
     "text": [
      "[1] \"Success!\"\n"
     ]
    }
   ],
   "source": [
    "test_3.4()"
   ]
  },
  {
   "cell_type": "markdown",
   "metadata": {},
   "source": [
    "**Question 3.5**\n",
    "<br>{points: 1}\n",
    "\n",
    "What can we conclude from this test?\n",
    "\n",
    "A. It would be very unlikely to observe a difference in proportion $\\hat{p}_1 - \\hat{p}_2 = 0.104749$ among 325 smokers and 921 non-smokers, if the proportions were the same. Therefore, we reject $H_0$ at 5% significance level and conclude that smokers have a higher chance of having a reaction.\n",
    "\n",
    "B. It would be very unlikely to observe a difference in proportion $\\hat{p}_1 - \\hat{p}_2 = 0.104749$ among 325 smokers and 921 non-smokers, if the proportions were the same. Therefore, we accept $H_0$ at 5% significance level and conclude that smokers do not have a higher chance of having a reaction.\n",
    "\n",
    "C. It is quite plausible to observe a difference in proportion $\\hat{p}_1 - \\hat{p}_2 = 0.104749$ among 325 smokers and 921 non-smokers, if the proportions were the same. Therefore, we do not reject $H_0$ at 5% significance level and conclude that smokers do not have a higher chance of having a reaction.\n",
    "\n",
    "D. It is quite plausible to observe a difference in proportion $\\hat{p}_1 - \\hat{p}_2 = 0.104749$ among 325 smokers and 921 non-smokers, if the proportions were the same. Therefore, we reject $H_0$ at 5% significance level and conclude that smokers have a higher chance of having a reaction.\n",
    "\n",
    "_Assign your answer to an object called `answer3.5`. Your answer should be a single character surrounded by quotes._"
   ]
  },
  {
   "cell_type": "code",
   "execution_count": 42,
   "metadata": {
    "nbgrader": {
     "grade": false,
     "grade_id": "cell-1849f303dfd420d3",
     "locked": false,
     "schema_version": 3,
     "solution": true,
     "task": false
    }
   },
   "outputs": [],
   "source": [
    "# answer3.5 <- ...\n",
    "\n",
    "### BEGIN SOLUTION\n",
    "answer3.5 <- \"A\"\n",
    "### END SOLUTION"
   ]
  },
  {
   "cell_type": "code",
   "execution_count": 43,
   "metadata": {
    "nbgrader": {
     "grade": true,
     "grade_id": "cell-597712c9e4a395eb",
     "locked": true,
     "points": 1,
     "schema_version": 3,
     "solution": false,
     "task": false
    }
   },
   "outputs": [
    {
     "name": "stdout",
     "output_type": "stream",
     "text": [
      "[1] \"Success!\"\n"
     ]
    }
   ],
   "source": [
    "# Here we check to see if you have given your answer the correct object name\n",
    "# and if your answer is plausible. However, all other tests have been hidden\n",
    "# so you can practice deciding when you have the correct answer.\n",
    "test_that('Did not assign answer to an object called \"answer3.5\"', {\n",
    "  expect_true(exists(\"answer3.5\"))\n",
    "})\n",
    "test_that('Solution should be a single character (\"A\", \"B\", \"C\", or \"D\")', {\n",
    "  expect_match(answer3.5, \"a|b|c|d\", ignore.case = TRUE)\n",
    "})\n",
    "### BEGIN HIDDEN TESTS\n",
    "test_that(\"Solution is incorrect\", {\n",
    "  expect_equal(digest(tolower(answer3.5)), \"127a2ec00989b9f7faf671ed470be7f8\")\n",
    "})\n",
    "print(\"Success!\")\n",
    "### END HIDDEN TESTS"
   ]
  },
  {
   "cell_type": "markdown",
   "metadata": {
    "nbgrader": {
     "grade": false,
     "grade_id": "cell-52d053e74919bd2f",
     "locked": true,
     "schema_version": 3,
     "solution": false,
     "task": false
    }
   },
   "source": [
    "## 4. The difference in lengths of fish species\n",
    "\n",
    "We will use the `fishcatch` dataset, which records the measurement of 159 fish of 7 species from the lake Laengelmavesi near Tampere in Finland. More details of the dataset are in http://jse.amstat.org/datasets/fishcatch.txt."
   ]
  },
  {
   "cell_type": "code",
   "execution_count": 44,
   "metadata": {
    "nbgrader": {
     "grade": false,
     "grade_id": "cell-caee0e7a808b7b3e",
     "locked": true,
     "schema_version": 3,
     "solution": false,
     "task": false
    }
   },
   "outputs": [
    {
     "data": {
      "text/html": [
       "<table>\n",
       "<caption>A data.frame: 6 × 9</caption>\n",
       "<thead>\n",
       "\t<tr><th></th><th scope=col>Obs</th><th scope=col>Species</th><th scope=col>Weight</th><th scope=col>Length1</th><th scope=col>Length2</th><th scope=col>Length3</th><th scope=col>Height</th><th scope=col>Width</th><th scope=col>Sex</th></tr>\n",
       "\t<tr><th></th><th scope=col>&lt;int&gt;</th><th scope=col>&lt;int&gt;</th><th scope=col>&lt;dbl&gt;</th><th scope=col>&lt;dbl&gt;</th><th scope=col>&lt;dbl&gt;</th><th scope=col>&lt;dbl&gt;</th><th scope=col>&lt;dbl&gt;</th><th scope=col>&lt;dbl&gt;</th><th scope=col>&lt;int&gt;</th></tr>\n",
       "</thead>\n",
       "<tbody>\n",
       "\t<tr><th scope=row>1</th><td>1</td><td>1</td><td>242</td><td>23.2</td><td>25.4</td><td>30.0</td><td>38.4</td><td>13.4</td><td>NA</td></tr>\n",
       "\t<tr><th scope=row>2</th><td>2</td><td>1</td><td>290</td><td>24.0</td><td>26.3</td><td>31.2</td><td>40.0</td><td>13.8</td><td>NA</td></tr>\n",
       "\t<tr><th scope=row>3</th><td>3</td><td>1</td><td>340</td><td>23.9</td><td>26.5</td><td>31.1</td><td>39.8</td><td>15.1</td><td>NA</td></tr>\n",
       "\t<tr><th scope=row>4</th><td>4</td><td>1</td><td>363</td><td>26.3</td><td>29.0</td><td>33.5</td><td>38.0</td><td>13.3</td><td>NA</td></tr>\n",
       "\t<tr><th scope=row>5</th><td>5</td><td>1</td><td>430</td><td>26.5</td><td>29.0</td><td>34.0</td><td>36.6</td><td>15.1</td><td>NA</td></tr>\n",
       "\t<tr><th scope=row>6</th><td>6</td><td>1</td><td>450</td><td>26.8</td><td>29.7</td><td>34.7</td><td>39.2</td><td>14.2</td><td>NA</td></tr>\n",
       "</tbody>\n",
       "</table>\n"
      ],
      "text/latex": [
       "A data.frame: 6 × 9\n",
       "\\begin{tabular}{r|lllllllll}\n",
       "  & Obs & Species & Weight & Length1 & Length2 & Length3 & Height & Width & Sex\\\\\n",
       "  & <int> & <int> & <dbl> & <dbl> & <dbl> & <dbl> & <dbl> & <dbl> & <int>\\\\\n",
       "\\hline\n",
       "\t1 & 1 & 1 & 242 & 23.2 & 25.4 & 30.0 & 38.4 & 13.4 & NA\\\\\n",
       "\t2 & 2 & 1 & 290 & 24.0 & 26.3 & 31.2 & 40.0 & 13.8 & NA\\\\\n",
       "\t3 & 3 & 1 & 340 & 23.9 & 26.5 & 31.1 & 39.8 & 15.1 & NA\\\\\n",
       "\t4 & 4 & 1 & 363 & 26.3 & 29.0 & 33.5 & 38.0 & 13.3 & NA\\\\\n",
       "\t5 & 5 & 1 & 430 & 26.5 & 29.0 & 34.0 & 36.6 & 15.1 & NA\\\\\n",
       "\t6 & 6 & 1 & 450 & 26.8 & 29.7 & 34.7 & 39.2 & 14.2 & NA\\\\\n",
       "\\end{tabular}\n"
      ],
      "text/markdown": [
       "\n",
       "A data.frame: 6 × 9\n",
       "\n",
       "| <!--/--> | Obs &lt;int&gt; | Species &lt;int&gt; | Weight &lt;dbl&gt; | Length1 &lt;dbl&gt; | Length2 &lt;dbl&gt; | Length3 &lt;dbl&gt; | Height &lt;dbl&gt; | Width &lt;dbl&gt; | Sex &lt;int&gt; |\n",
       "|---|---|---|---|---|---|---|---|---|---|\n",
       "| 1 | 1 | 1 | 242 | 23.2 | 25.4 | 30.0 | 38.4 | 13.4 | NA |\n",
       "| 2 | 2 | 1 | 290 | 24.0 | 26.3 | 31.2 | 40.0 | 13.8 | NA |\n",
       "| 3 | 3 | 1 | 340 | 23.9 | 26.5 | 31.1 | 39.8 | 15.1 | NA |\n",
       "| 4 | 4 | 1 | 363 | 26.3 | 29.0 | 33.5 | 38.0 | 13.3 | NA |\n",
       "| 5 | 5 | 1 | 430 | 26.5 | 29.0 | 34.0 | 36.6 | 15.1 | NA |\n",
       "| 6 | 6 | 1 | 450 | 26.8 | 29.7 | 34.7 | 39.2 | 14.2 | NA |\n",
       "\n"
      ],
      "text/plain": [
       "  Obs Species Weight Length1 Length2 Length3 Height Width Sex\n",
       "1 1   1       242    23.2    25.4    30.0    38.4   13.4  NA \n",
       "2 2   1       290    24.0    26.3    31.2    40.0   13.8  NA \n",
       "3 3   1       340    23.9    26.5    31.1    39.8   15.1  NA \n",
       "4 4   1       363    26.3    29.0    33.5    38.0   13.3  NA \n",
       "5 5   1       430    26.5    29.0    34.0    36.6   15.1  NA \n",
       "6 6   1       450    26.8    29.7    34.7    39.2   14.2  NA "
      ]
     },
     "metadata": {},
     "output_type": "display_data"
    }
   ],
   "source": [
    "fish <- read.table(\"http://jse.amstat.org/datasets/fishcatch.dat.txt\", header=FALSE)\n",
    "colnames(fish) <- c(\"Obs\", \"Species\", \"Weight\", \"Length1\", \"Length2\", \"Length3\", \"Height\", \"Width\", \"Sex\")\n",
    "head(fish)"
   ]
  },
  {
   "cell_type": "markdown",
   "metadata": {
    "nbgrader": {
     "grade": false,
     "grade_id": "cell-a288c75a0ddb7ae8",
     "locked": true,
     "schema_version": 3,
     "solution": false,
     "task": false
    }
   },
   "source": [
    "We are interested to see if there is a significant difference in the length from the nose to the end of the tail (`Length3`) of the two species Bream (`Species==1`) and Roach (`Species==3`). Let $\\mu_1$ be the mean of Bream's length, and let $\\mu_2$ be the mean of Roach's length. We will perform hypothesis testing on $\\mu_1 - \\mu_2$ at a 5 % significance level. The null hypothesis is $\\mu_1 = \\mu_2$.\n",
    "\n",
    "<b>Question 4.1: Alternative Hypothesis</b>\n",
    "<br> {point: 1}\n",
    "\n",
    "What is an appropriate alternative hypothesis?\n",
    "\n",
    "A. $\\mu_1 > \\mu_2$\n",
    "\n",
    "B. $\\mu_1 \\neq \\mu_2$\n",
    "\n",
    "C. $\\mu_1 < \\mu_2$\n",
    "\n",
    "<i>Your answer should be a string with one letter assigned to the variable </i>`answer4.1`."
   ]
  },
  {
   "cell_type": "code",
   "execution_count": 45,
   "metadata": {
    "nbgrader": {
     "grade": false,
     "grade_id": "cell-e11fbc487a032a19",
     "locked": false,
     "schema_version": 3,
     "solution": true,
     "task": false
    }
   },
   "outputs": [
    {
     "data": {
      "text/html": [
       "'B'"
      ],
      "text/latex": [
       "'B'"
      ],
      "text/markdown": [
       "'B'"
      ],
      "text/plain": [
       "[1] \"B\""
      ]
     },
     "metadata": {},
     "output_type": "display_data"
    }
   ],
   "source": [
    "# answer4.1 <-\n",
    "\n",
    "### BEGIN SOLUTION\n",
    "answer4.1 <- \"B\"\n",
    "### END SOLUTION\n",
    "answer4.1"
   ]
  },
  {
   "cell_type": "code",
   "execution_count": 46,
   "metadata": {
    "nbgrader": {
     "grade": true,
     "grade_id": "cell-e16a90d8922ce521",
     "locked": true,
     "points": 1,
     "schema_version": 3,
     "solution": false,
     "task": false
    }
   },
   "outputs": [
    {
     "name": "stdout",
     "output_type": "stream",
     "text": [
      "[1] \"Success!\"\n"
     ]
    }
   ],
   "source": [
    "# Here we check to see if you have given your answer the correct object name\n",
    "# and if your answer is plausible. However, all other tests have been hidden\n",
    "# so you can practice deciding when you have the correct answer.\n",
    "test_that('Did not assign answer to an object called \"answer4.1\"', {\n",
    "  expect_true(exists(\"answer4.1\"))\n",
    "})\n",
    "test_that('Solution should be a single character (\"A\", \"B\", or \"C\")', {\n",
    "  expect_match(answer4.1, \"a|b|c\", ignore.case = TRUE)\n",
    "})\n",
    "### BEGIN HIDDEN TESTS\n",
    "test_that(\"Solution is incorrect\", {\n",
    "  expect_equal(digest(tolower(answer4.1)), \"ddf100612805359cd81fdc5ce3b9fbba\")\n",
    "})\n",
    "print(\"Success!\")\n",
    "### END HIDDEN TESTS"
   ]
  },
  {
   "cell_type": "markdown",
   "metadata": {
    "nbgrader": {
     "grade": false,
     "grade_id": "cell-5bf2fc6cb7a33dde",
     "locked": true,
     "schema_version": 3,
     "solution": false,
     "task": false
    }
   },
   "source": [
    "<b>Question 4.2</b>\n",
    "<br> {points:1}\n",
    "\n",
    "Filter the `fish` data set to only keep the Bream (`Species==1`) and Roach (`Species==3`) species, and only keep the `Species` and `Length3` columns. Replace the species code with the name of the species. \n",
    "\n",
    "_Assign your data frame to an object called `bream_roach`. The data frame should contain two columns: `Species` and `Length3`._"
   ]
  },
  {
   "cell_type": "code",
   "execution_count": 47,
   "metadata": {
    "nbgrader": {
     "grade": false,
     "grade_id": "cell-efe438fd11bc0703",
     "locked": false,
     "schema_version": 3,
     "solution": true,
     "task": false
    }
   },
   "outputs": [
    {
     "data": {
      "text/html": [
       "<table>\n",
       "<caption>A data.frame: 6 × 2</caption>\n",
       "<thead>\n",
       "\t<tr><th></th><th scope=col>Species</th><th scope=col>Length3</th></tr>\n",
       "\t<tr><th></th><th scope=col>&lt;fct&gt;</th><th scope=col>&lt;dbl&gt;</th></tr>\n",
       "</thead>\n",
       "<tbody>\n",
       "\t<tr><th scope=row>1</th><td>Bream</td><td>30.0</td></tr>\n",
       "\t<tr><th scope=row>2</th><td>Bream</td><td>31.2</td></tr>\n",
       "\t<tr><th scope=row>3</th><td>Bream</td><td>31.1</td></tr>\n",
       "\t<tr><th scope=row>4</th><td>Bream</td><td>33.5</td></tr>\n",
       "\t<tr><th scope=row>5</th><td>Bream</td><td>34.0</td></tr>\n",
       "\t<tr><th scope=row>6</th><td>Bream</td><td>34.7</td></tr>\n",
       "</tbody>\n",
       "</table>\n"
      ],
      "text/latex": [
       "A data.frame: 6 × 2\n",
       "\\begin{tabular}{r|ll}\n",
       "  & Species & Length3\\\\\n",
       "  & <fct> & <dbl>\\\\\n",
       "\\hline\n",
       "\t1 & Bream & 30.0\\\\\n",
       "\t2 & Bream & 31.2\\\\\n",
       "\t3 & Bream & 31.1\\\\\n",
       "\t4 & Bream & 33.5\\\\\n",
       "\t5 & Bream & 34.0\\\\\n",
       "\t6 & Bream & 34.7\\\\\n",
       "\\end{tabular}\n"
      ],
      "text/markdown": [
       "\n",
       "A data.frame: 6 × 2\n",
       "\n",
       "| <!--/--> | Species &lt;fct&gt; | Length3 &lt;dbl&gt; |\n",
       "|---|---|---|\n",
       "| 1 | Bream | 30.0 |\n",
       "| 2 | Bream | 31.2 |\n",
       "| 3 | Bream | 31.1 |\n",
       "| 4 | Bream | 33.5 |\n",
       "| 5 | Bream | 34.0 |\n",
       "| 6 | Bream | 34.7 |\n",
       "\n"
      ],
      "text/plain": [
       "  Species Length3\n",
       "1 Bream   30.0   \n",
       "2 Bream   31.2   \n",
       "3 Bream   31.1   \n",
       "4 Bream   33.5   \n",
       "5 Bream   34.0   \n",
       "6 Bream   34.7   "
      ]
     },
     "metadata": {},
     "output_type": "display_data"
    }
   ],
   "source": [
    "# bream_roach <- \n",
    "#     fish %>%\n",
    "#     select(...) %>%\n",
    "#     filter(...) %>%\n",
    "#     mutate(Species = fct_recode(as_factor(Species), Bream='1', Roach='3'))\n",
    "\n",
    "\n",
    "### BEGIN SOLUTION\n",
    "bream_roach <- \n",
    "    fish %>%\n",
    "    select(\"Species\", \"Length3\") %>%\n",
    "    filter(Species %in% c(1, 3)) %>%\n",
    "    mutate(Species = fct_recode(as_factor(Species), Bream='1', Roach='3'))\n",
    "### END SOLUTION\n",
    "\n",
    "head(bream_roach)"
   ]
  },
  {
   "cell_type": "code",
   "execution_count": 48,
   "metadata": {
    "nbgrader": {
     "grade": true,
     "grade_id": "cell-15dec3e4e4868170",
     "locked": true,
     "points": 1,
     "schema_version": 3,
     "solution": false,
     "task": false
    }
   },
   "outputs": [
    {
     "name": "stdout",
     "output_type": "stream",
     "text": [
      "[1] \"Success!\"\n"
     ]
    }
   ],
   "source": [
    "test_4.2()"
   ]
  },
  {
   "cell_type": "markdown",
   "metadata": {
    "nbgrader": {
     "grade": false,
     "grade_id": "cell-bde2779ff4108d68",
     "locked": true,
     "schema_version": 3,
     "solution": false,
     "task": false
    }
   },
   "source": [
    "<b> Question 4.3: Observed Test Statistic </b>\n",
    "<br> {points: 1}\n",
    "\n",
    "In this exercise, you need to:\n",
    "\n",
    "1. obtain the sample size of `Bream` and `Roach` species. \n",
    "2. calculate the sample average and standard deviation of `Length3` for `Bream` species.\n",
    "3. calculate the sample average and standard deviation of `Length3` for `Roach` species.\n",
    "4. calculate observed test statistics $\\bar{X}_1 - \\bar{X}_2$, where $\\bar{X}_1$ and $\\bar{X_2}$ are the sample average of `Length3` of `Bream` and `Roach` species, respectively. \n",
    "\n",
    "_Assign your data frame to an object called `bream_roach_summary`. The data frame should contain seven columns: `n_Bream`,\t`n_Roach`, `x_bar_Bream`, `x_bar_Roach`, `sd_Bream`, `sd_Roach`, and `mean_diff`._"
   ]
  },
  {
   "cell_type": "code",
   "execution_count": 49,
   "metadata": {
    "nbgrader": {
     "grade": false,
     "grade_id": "cell-5ae4939f0d87e8b4",
     "locked": false,
     "schema_version": 3,
     "solution": true,
     "task": false
    }
   },
   "outputs": [
    {
     "data": {
      "text/html": [
       "<table>\n",
       "<caption>A tibble: 1 × 7</caption>\n",
       "<thead>\n",
       "\t<tr><th scope=col>n_Bream</th><th scope=col>n_Roach</th><th scope=col>x_bar_Bream</th><th scope=col>x_bar_Roach</th><th scope=col>sd_Bream</th><th scope=col>sd_Roach</th><th scope=col>mean_diff</th></tr>\n",
       "\t<tr><th scope=col>&lt;int&gt;</th><th scope=col>&lt;int&gt;</th><th scope=col>&lt;dbl&gt;</th><th scope=col>&lt;dbl&gt;</th><th scope=col>&lt;dbl&gt;</th><th scope=col>&lt;dbl&gt;</th><th scope=col>&lt;dbl&gt;</th></tr>\n",
       "</thead>\n",
       "<tbody>\n",
       "\t<tr><td>35</td><td>20</td><td>38.35429</td><td>24.97</td><td>4.157866</td><td>4.031599</td><td>13.38429</td></tr>\n",
       "</tbody>\n",
       "</table>\n"
      ],
      "text/latex": [
       "A tibble: 1 × 7\n",
       "\\begin{tabular}{lllllll}\n",
       " n\\_Bream & n\\_Roach & x\\_bar\\_Bream & x\\_bar\\_Roach & sd\\_Bream & sd\\_Roach & mean\\_diff\\\\\n",
       " <int> & <int> & <dbl> & <dbl> & <dbl> & <dbl> & <dbl>\\\\\n",
       "\\hline\n",
       "\t 35 & 20 & 38.35429 & 24.97 & 4.157866 & 4.031599 & 13.38429\\\\\n",
       "\\end{tabular}\n"
      ],
      "text/markdown": [
       "\n",
       "A tibble: 1 × 7\n",
       "\n",
       "| n_Bream &lt;int&gt; | n_Roach &lt;int&gt; | x_bar_Bream &lt;dbl&gt; | x_bar_Roach &lt;dbl&gt; | sd_Bream &lt;dbl&gt; | sd_Roach &lt;dbl&gt; | mean_diff &lt;dbl&gt; |\n",
       "|---|---|---|---|---|---|---|\n",
       "| 35 | 20 | 38.35429 | 24.97 | 4.157866 | 4.031599 | 13.38429 |\n",
       "\n"
      ],
      "text/plain": [
       "  n_Bream n_Roach x_bar_Bream x_bar_Roach sd_Bream sd_Roach mean_diff\n",
       "1 35      20      38.35429    24.97       4.157866 4.031599 13.38429 "
      ]
     },
     "metadata": {},
     "output_type": "display_data"
    }
   ],
   "source": [
    "# bream_roach_summary <-\n",
    "#     bream_roach %>% \n",
    "#     group_by(...) %>% \n",
    "#     summarise(n = ...,\n",
    "#               x_bar = ...,\n",
    "#               sd = ...,\n",
    "#               `.groups` = \"drop\") %>% \n",
    "#     pivot_wider(names_from = Species, values_from = c(n, x_bar, sd)) %>% \n",
    "#     mutate(...)\n",
    "\n",
    "### BEGIN SOLUTION\n",
    "bream_roach_summary <-\n",
    "    bream_roach %>% \n",
    "    group_by(Species) %>% \n",
    "    summarise(n = n(),\n",
    "              x_bar = mean(Length3),\n",
    "              sd = sd(Length3),\n",
    "              `.groups` = \"drop\") %>% \n",
    "    pivot_wider(names_from = Species, values_from = c(n, x_bar, sd)) %>% \n",
    "    mutate(mean_diff = x_bar_Bream - x_bar_Roach)\n",
    "\n",
    "### END SOLUTION\n",
    "\n",
    "bream_roach_summary"
   ]
  },
  {
   "cell_type": "code",
   "execution_count": 50,
   "metadata": {
    "nbgrader": {
     "grade": true,
     "grade_id": "cell-9099e2ce70e5014c",
     "locked": true,
     "points": 1,
     "schema_version": 3,
     "solution": false,
     "task": false
    }
   },
   "outputs": [
    {
     "name": "stdout",
     "output_type": "stream",
     "text": [
      "[1] \"Success!\"\n"
     ]
    }
   ],
   "source": [
    "test_4.3()"
   ]
  },
  {
   "cell_type": "markdown",
   "metadata": {
    "nbgrader": {
     "grade": false,
     "grade_id": "cell-7fec4fe844c5562f",
     "locked": true,
     "schema_version": 3,
     "solution": false,
     "task": false
    }
   },
   "source": [
    "<b> Question 4.4: Standard deviation of the observed test statistic </b>\n",
    "<br> {points:1}\n",
    "\n",
    "Add another column to `bream_roach_summary`, named `null_std_error`, with the standard error of the test statistics $\\bar{X}_1 - \\bar{X}_2$ under the null model. "
   ]
  },
  {
   "cell_type": "code",
   "execution_count": 51,
   "metadata": {
    "nbgrader": {
     "grade": false,
     "grade_id": "cell-7d1c51f760a4b5ed",
     "locked": false,
     "schema_version": 3,
     "solution": true,
     "task": false
    }
   },
   "outputs": [
    {
     "data": {
      "text/html": [
       "<table>\n",
       "<caption>A tibble: 1 × 8</caption>\n",
       "<thead>\n",
       "\t<tr><th scope=col>n_Bream</th><th scope=col>n_Roach</th><th scope=col>x_bar_Bream</th><th scope=col>x_bar_Roach</th><th scope=col>sd_Bream</th><th scope=col>sd_Roach</th><th scope=col>mean_diff</th><th scope=col>null_std_error</th></tr>\n",
       "\t<tr><th scope=col>&lt;int&gt;</th><th scope=col>&lt;int&gt;</th><th scope=col>&lt;dbl&gt;</th><th scope=col>&lt;dbl&gt;</th><th scope=col>&lt;dbl&gt;</th><th scope=col>&lt;dbl&gt;</th><th scope=col>&lt;dbl&gt;</th><th scope=col>&lt;dbl&gt;</th></tr>\n",
       "</thead>\n",
       "<tbody>\n",
       "\t<tr><td>35</td><td>20</td><td>38.35429</td><td>24.97</td><td>4.157866</td><td>4.031599</td><td>13.38429</td><td>1.143078</td></tr>\n",
       "</tbody>\n",
       "</table>\n"
      ],
      "text/latex": [
       "A tibble: 1 × 8\n",
       "\\begin{tabular}{llllllll}\n",
       " n\\_Bream & n\\_Roach & x\\_bar\\_Bream & x\\_bar\\_Roach & sd\\_Bream & sd\\_Roach & mean\\_diff & null\\_std\\_error\\\\\n",
       " <int> & <int> & <dbl> & <dbl> & <dbl> & <dbl> & <dbl> & <dbl>\\\\\n",
       "\\hline\n",
       "\t 35 & 20 & 38.35429 & 24.97 & 4.157866 & 4.031599 & 13.38429 & 1.143078\\\\\n",
       "\\end{tabular}\n"
      ],
      "text/markdown": [
       "\n",
       "A tibble: 1 × 8\n",
       "\n",
       "| n_Bream &lt;int&gt; | n_Roach &lt;int&gt; | x_bar_Bream &lt;dbl&gt; | x_bar_Roach &lt;dbl&gt; | sd_Bream &lt;dbl&gt; | sd_Roach &lt;dbl&gt; | mean_diff &lt;dbl&gt; | null_std_error &lt;dbl&gt; |\n",
       "|---|---|---|---|---|---|---|---|\n",
       "| 35 | 20 | 38.35429 | 24.97 | 4.157866 | 4.031599 | 13.38429 | 1.143078 |\n",
       "\n"
      ],
      "text/plain": [
       "  n_Bream n_Roach x_bar_Bream x_bar_Roach sd_Bream sd_Roach mean_diff\n",
       "1 35      20      38.35429    24.97       4.157866 4.031599 13.38429 \n",
       "  null_std_error\n",
       "1 1.143078      "
      ]
     },
     "metadata": {},
     "output_type": "display_data"
    }
   ],
   "source": [
    "\n",
    "### BEGIN SOLUTION\n",
    "bream_roach_summary <-\n",
    "    bream_roach_summary %>% \n",
    "    mutate(null_std_error = sqrt(sd_Bream^2/n_Bream + sd_Roach^2/n_Roach))\n",
    "### END SOLUTION\n",
    "\n",
    "bream_roach_summary"
   ]
  },
  {
   "cell_type": "code",
   "execution_count": 52,
   "metadata": {
    "nbgrader": {
     "grade": true,
     "grade_id": "cell-d96caf3d80d08480",
     "locked": true,
     "points": 1,
     "schema_version": 3,
     "solution": false,
     "task": false
    }
   },
   "outputs": [
    {
     "name": "stdout",
     "output_type": "stream",
     "text": [
      "[1] \"Success!\"\n"
     ]
    }
   ],
   "source": [
    "test_4.4()"
   ]
  },
  {
   "cell_type": "markdown",
   "metadata": {
    "nbgrader": {
     "grade": false,
     "grade_id": "cell-383b076ebbbd623a",
     "locked": true,
     "schema_version": 3,
     "solution": false,
     "task": false
    }
   },
   "source": [
    "<b> Question 4.5: Obtaining p-value </b>\n",
    "<br> {points:1}\n",
    "\n",
    "Add another column to `bream_roach_summary`, named `p_value`, with the test's p-value using the t-distribution. To help you, we calculated the approximate degrees of freedom for you: 40.7105 (for details on how to obtain this value, see Question 3.3.4 from Worksheet_08). "
   ]
  },
  {
   "cell_type": "code",
   "execution_count": 53,
   "metadata": {
    "nbgrader": {
     "grade": false,
     "grade_id": "cell-25a19360d259a5f4",
     "locked": false,
     "schema_version": 3,
     "solution": true,
     "task": false
    }
   },
   "outputs": [
    {
     "data": {
      "text/html": [
       "<table>\n",
       "<caption>A tibble: 1 × 9</caption>\n",
       "<thead>\n",
       "\t<tr><th scope=col>n_Bream</th><th scope=col>n_Roach</th><th scope=col>x_bar_Bream</th><th scope=col>x_bar_Roach</th><th scope=col>sd_Bream</th><th scope=col>sd_Roach</th><th scope=col>mean_diff</th><th scope=col>null_std_error</th><th scope=col>p_value</th></tr>\n",
       "\t<tr><th scope=col>&lt;int&gt;</th><th scope=col>&lt;int&gt;</th><th scope=col>&lt;dbl&gt;</th><th scope=col>&lt;dbl&gt;</th><th scope=col>&lt;dbl&gt;</th><th scope=col>&lt;dbl&gt;</th><th scope=col>&lt;dbl&gt;</th><th scope=col>&lt;dbl&gt;</th><th scope=col>&lt;dbl&gt;</th></tr>\n",
       "</thead>\n",
       "<tbody>\n",
       "\t<tr><td>35</td><td>20</td><td>38.35429</td><td>24.97</td><td>4.157866</td><td>4.031599</td><td>13.38429</td><td>1.143078</td><td>1.304443e-14</td></tr>\n",
       "</tbody>\n",
       "</table>\n"
      ],
      "text/latex": [
       "A tibble: 1 × 9\n",
       "\\begin{tabular}{lllllllll}\n",
       " n\\_Bream & n\\_Roach & x\\_bar\\_Bream & x\\_bar\\_Roach & sd\\_Bream & sd\\_Roach & mean\\_diff & null\\_std\\_error & p\\_value\\\\\n",
       " <int> & <int> & <dbl> & <dbl> & <dbl> & <dbl> & <dbl> & <dbl> & <dbl>\\\\\n",
       "\\hline\n",
       "\t 35 & 20 & 38.35429 & 24.97 & 4.157866 & 4.031599 & 13.38429 & 1.143078 & 1.304443e-14\\\\\n",
       "\\end{tabular}\n"
      ],
      "text/markdown": [
       "\n",
       "A tibble: 1 × 9\n",
       "\n",
       "| n_Bream &lt;int&gt; | n_Roach &lt;int&gt; | x_bar_Bream &lt;dbl&gt; | x_bar_Roach &lt;dbl&gt; | sd_Bream &lt;dbl&gt; | sd_Roach &lt;dbl&gt; | mean_diff &lt;dbl&gt; | null_std_error &lt;dbl&gt; | p_value &lt;dbl&gt; |\n",
       "|---|---|---|---|---|---|---|---|---|\n",
       "| 35 | 20 | 38.35429 | 24.97 | 4.157866 | 4.031599 | 13.38429 | 1.143078 | 1.304443e-14 |\n",
       "\n"
      ],
      "text/plain": [
       "  n_Bream n_Roach x_bar_Bream x_bar_Roach sd_Bream sd_Roach mean_diff\n",
       "1 35      20      38.35429    24.97       4.157866 4.031599 13.38429 \n",
       "  null_std_error p_value     \n",
       "1 1.143078       1.304443e-14"
      ]
     },
     "metadata": {},
     "output_type": "display_data"
    }
   ],
   "source": [
    "### BEGIN SOLUTION\n",
    "bream_roach_summary <- \n",
    "    bream_roach_summary %>% \n",
    "    mutate(p_value = 2 * pt(mean_diff/null_std_error, df=40.7105, lower.tail=FALSE))\n",
    "### END SOLUTION\n",
    "\n",
    "bream_roach_summary"
   ]
  },
  {
   "cell_type": "code",
   "execution_count": 54,
   "metadata": {
    "nbgrader": {
     "grade": true,
     "grade_id": "cell-0da44e46c587a6d5",
     "locked": true,
     "points": 1,
     "schema_version": 3,
     "solution": false,
     "task": false
    }
   },
   "outputs": [
    {
     "name": "stdout",
     "output_type": "stream",
     "text": [
      "[1] \"Success!\"\n"
     ]
    }
   ],
   "source": [
    "test_4.5()"
   ]
  },
  {
   "cell_type": "markdown",
   "metadata": {
    "nbgrader": {
     "grade": false,
     "grade_id": "cell-2eb2f8bacd5cc983",
     "locked": true,
     "schema_version": 3,
     "solution": false,
     "task": false
    }
   },
   "source": [
    "**Question 4.6** \n",
    "<br> {points: 1}\n",
    "\n",
    "Use R's `t.test` function to test the hypothesis. Make sure to use `broom::tidy()` to get a more organized result.\n",
    "\n",
    "_Assign your data frame to an object called `bream_roach_t_test`._"
   ]
  },
  {
   "cell_type": "code",
   "execution_count": 55,
   "metadata": {
    "nbgrader": {
     "grade": false,
     "grade_id": "cell-e7af0c2c6e325b85",
     "locked": false,
     "schema_version": 3,
     "solution": true,
     "task": false
    }
   },
   "outputs": [
    {
     "data": {
      "text/html": [
       "<table>\n",
       "<caption>A tibble: 1 × 10</caption>\n",
       "<thead>\n",
       "\t<tr><th scope=col>estimate</th><th scope=col>estimate1</th><th scope=col>estimate2</th><th scope=col>statistic</th><th scope=col>p.value</th><th scope=col>parameter</th><th scope=col>conf.low</th><th scope=col>conf.high</th><th scope=col>method</th><th scope=col>alternative</th></tr>\n",
       "\t<tr><th scope=col>&lt;dbl&gt;</th><th scope=col>&lt;dbl&gt;</th><th scope=col>&lt;dbl&gt;</th><th scope=col>&lt;dbl&gt;</th><th scope=col>&lt;dbl&gt;</th><th scope=col>&lt;dbl&gt;</th><th scope=col>&lt;dbl&gt;</th><th scope=col>&lt;dbl&gt;</th><th scope=col>&lt;chr&gt;</th><th scope=col>&lt;chr&gt;</th></tr>\n",
       "</thead>\n",
       "<tbody>\n",
       "\t<tr><td>13.38429</td><td>38.35429</td><td>24.97</td><td>11.70898</td><td>1.304444e-14</td><td>40.7105</td><td>11.07529</td><td>15.69328</td><td>Welch Two Sample t-test</td><td>two.sided</td></tr>\n",
       "</tbody>\n",
       "</table>\n"
      ],
      "text/latex": [
       "A tibble: 1 × 10\n",
       "\\begin{tabular}{llllllllll}\n",
       " estimate & estimate1 & estimate2 & statistic & p.value & parameter & conf.low & conf.high & method & alternative\\\\\n",
       " <dbl> & <dbl> & <dbl> & <dbl> & <dbl> & <dbl> & <dbl> & <dbl> & <chr> & <chr>\\\\\n",
       "\\hline\n",
       "\t 13.38429 & 38.35429 & 24.97 & 11.70898 & 1.304444e-14 & 40.7105 & 11.07529 & 15.69328 & Welch Two Sample t-test & two.sided\\\\\n",
       "\\end{tabular}\n"
      ],
      "text/markdown": [
       "\n",
       "A tibble: 1 × 10\n",
       "\n",
       "| estimate &lt;dbl&gt; | estimate1 &lt;dbl&gt; | estimate2 &lt;dbl&gt; | statistic &lt;dbl&gt; | p.value &lt;dbl&gt; | parameter &lt;dbl&gt; | conf.low &lt;dbl&gt; | conf.high &lt;dbl&gt; | method &lt;chr&gt; | alternative &lt;chr&gt; |\n",
       "|---|---|---|---|---|---|---|---|---|---|\n",
       "| 13.38429 | 38.35429 | 24.97 | 11.70898 | 1.304444e-14 | 40.7105 | 11.07529 | 15.69328 | Welch Two Sample t-test | two.sided |\n",
       "\n"
      ],
      "text/plain": [
       "  estimate estimate1 estimate2 statistic p.value      parameter conf.low\n",
       "1 13.38429 38.35429  24.97     11.70898  1.304444e-14 40.7105   11.07529\n",
       "  conf.high method                  alternative\n",
       "1 15.69328  Welch Two Sample t-test two.sided  "
      ]
     },
     "metadata": {},
     "output_type": "display_data"
    }
   ],
   "source": [
    "# bream_roach_t_test <-\n",
    "\n",
    "### BEGIN SOLUTION\n",
    "bream_roach_t_test <- \n",
    "    tidy(t.test(bream_roach %>% filter(Species == \"Bream\") %>% pull(Length3),\n",
    "           bream_roach %>% filter(Species == \"Roach\") %>% pull(Length3)))\n",
    "### END SOLUTION\n",
    "\n",
    "bream_roach_t_test"
   ]
  },
  {
   "cell_type": "code",
   "execution_count": 56,
   "metadata": {
    "nbgrader": {
     "grade": true,
     "grade_id": "cell-b54b22e8936ed299",
     "locked": true,
     "points": 1,
     "schema_version": 3,
     "solution": false,
     "task": false
    }
   },
   "outputs": [
    {
     "name": "stdout",
     "output_type": "stream",
     "text": [
      "[1] \"Success!\"\n"
     ]
    }
   ],
   "source": [
    "test_4.6()"
   ]
  },
  {
   "cell_type": "markdown",
   "metadata": {
    "nbgrader": {
     "grade": false,
     "grade_id": "cell-a9770cbe93b71f71",
     "locked": true,
     "schema_version": 3,
     "solution": false,
     "task": false
    }
   },
   "source": [
    "<b>Question 4.7: Conclusion of the test</b>\n",
    "<br>{points: 1}\n",
    "\n",
    "It would be unlikely to observe a difference in the average length of 13.38 if both species had the same mean length. Therefore, we reject $H_0$ at the following significance levels:\n",
    "\n",
    "A. 10%\n",
    "\n",
    "B. 5%\n",
    "\n",
    "C. 1%\n",
    " \n",
    "D. 0.01%\n",
    "\n",
    "E. All the above.\n",
    "\n",
    "_Assign your answer to an object called `answer4.7`. Your answer should be a single character surrounded by quotes._\n"
   ]
  },
  {
   "cell_type": "code",
   "execution_count": 57,
   "metadata": {
    "nbgrader": {
     "grade": false,
     "grade_id": "cell-955096caa6841343",
     "locked": false,
     "schema_version": 3,
     "solution": true,
     "task": false
    }
   },
   "outputs": [],
   "source": [
    "# answer4.7 <- ...\n",
    "\n",
    "### BEGIN SOLUTION\n",
    "answer4.7 <- \"E\"\n",
    "### END SOLUTION"
   ]
  },
  {
   "cell_type": "code",
   "execution_count": 58,
   "metadata": {
    "nbgrader": {
     "grade": true,
     "grade_id": "cell-7c3499054494fd09",
     "locked": true,
     "points": 1,
     "schema_version": 3,
     "solution": false,
     "task": false
    }
   },
   "outputs": [
    {
     "name": "stdout",
     "output_type": "stream",
     "text": [
      "[1] \"Success!\"\n"
     ]
    }
   ],
   "source": [
    "# Here we check to see if you have given your answer the correct object name\n",
    "# and if your answer is plausible. However, all other tests have been hidden\n",
    "# so you can practice deciding when you have the correct answer.\n",
    "test_that('Did not assign answer to an object called \"answer4.7\"', {\n",
    "  expect_true(exists(\"answer4.7\"))\n",
    "})\n",
    "test_that('Solution should be a single character (\"A\", \"B\", \"C\", \"D\", or \"E\")', {\n",
    "  expect_match(answer4.7, \"a|b|c|d|e\", ignore.case = TRUE)\n",
    "})\n",
    "### BEGIN HIDDEN TESTS\n",
    "test_that(\"Solution is incorrect\", {\n",
    "  expect_equal(digest(tolower(answer4.7)), \"93a9078c6326f37b481d3e99b60ad987\")\n",
    "})\n",
    "print(\"Success!\")\n",
    "### END HIDDEN TESTS"
   ]
  },
  {
   "cell_type": "markdown",
   "metadata": {
    "nbgrader": {
     "grade": false,
     "grade_id": "cell-4772b89b35af0c64",
     "locked": true,
     "schema_version": 3,
     "solution": false,
     "task": false
    }
   },
   "source": [
    "## 5. Soybean: stress vs non-stress\n",
    "\n",
    "For this question, we will use the `soybean` dataset. First, let's load and preview the data. Since the dataset is small, we can examine the full data."
   ]
  },
  {
   "cell_type": "code",
   "execution_count": 59,
   "metadata": {
    "nbgrader": {
     "grade": false,
     "grade_id": "cell-9e6e756eaddff316",
     "locked": true,
     "schema_version": 3,
     "solution": false,
     "task": false
    }
   },
   "outputs": [
    {
     "name": "stderr",
     "output_type": "stream",
     "text": [
      "Parsed with column specification:\n",
      "cols(\n",
      "  pair = \u001b[32mcol_double()\u001b[39m,\n",
      "  stress = \u001b[32mcol_double()\u001b[39m,\n",
      "  nostress = \u001b[32mcol_double()\u001b[39m\n",
      ")\n",
      "\n"
     ]
    },
    {
     "data": {
      "text/html": [
       "<table>\n",
       "<caption>A spec_tbl_df: 13 × 3</caption>\n",
       "<thead>\n",
       "\t<tr><th scope=col>pair</th><th scope=col>stress</th><th scope=col>nostress</th></tr>\n",
       "\t<tr><th scope=col>&lt;dbl&gt;</th><th scope=col>&lt;dbl&gt;</th><th scope=col>&lt;dbl&gt;</th></tr>\n",
       "</thead>\n",
       "<tbody>\n",
       "\t<tr><td> 1</td><td>205</td><td>193</td></tr>\n",
       "\t<tr><td> 2</td><td>220</td><td>168</td></tr>\n",
       "\t<tr><td> 3</td><td>230</td><td>187</td></tr>\n",
       "\t<tr><td> 4</td><td>234</td><td>210</td></tr>\n",
       "\t<tr><td> 5</td><td>235</td><td>207</td></tr>\n",
       "\t<tr><td> 6</td><td>237</td><td>200</td></tr>\n",
       "\t<tr><td> 7</td><td>246</td><td>220</td></tr>\n",
       "\t<tr><td> 8</td><td>258</td><td>219</td></tr>\n",
       "\t<tr><td> 9</td><td>261</td><td>217</td></tr>\n",
       "\t<tr><td>10</td><td>269</td><td>240</td></tr>\n",
       "\t<tr><td>11</td><td>273</td><td>235</td></tr>\n",
       "\t<tr><td>12</td><td>293</td><td>277</td></tr>\n",
       "\t<tr><td>13</td><td>294</td><td>261</td></tr>\n",
       "</tbody>\n",
       "</table>\n"
      ],
      "text/latex": [
       "A spec\\_tbl\\_df: 13 × 3\n",
       "\\begin{tabular}{lll}\n",
       " pair & stress & nostress\\\\\n",
       " <dbl> & <dbl> & <dbl>\\\\\n",
       "\\hline\n",
       "\t  1 & 205 & 193\\\\\n",
       "\t  2 & 220 & 168\\\\\n",
       "\t  3 & 230 & 187\\\\\n",
       "\t  4 & 234 & 210\\\\\n",
       "\t  5 & 235 & 207\\\\\n",
       "\t  6 & 237 & 200\\\\\n",
       "\t  7 & 246 & 220\\\\\n",
       "\t  8 & 258 & 219\\\\\n",
       "\t  9 & 261 & 217\\\\\n",
       "\t 10 & 269 & 240\\\\\n",
       "\t 11 & 273 & 235\\\\\n",
       "\t 12 & 293 & 277\\\\\n",
       "\t 13 & 294 & 261\\\\\n",
       "\\end{tabular}\n"
      ],
      "text/markdown": [
       "\n",
       "A spec_tbl_df: 13 × 3\n",
       "\n",
       "| pair &lt;dbl&gt; | stress &lt;dbl&gt; | nostress &lt;dbl&gt; |\n",
       "|---|---|---|\n",
       "|  1 | 205 | 193 |\n",
       "|  2 | 220 | 168 |\n",
       "|  3 | 230 | 187 |\n",
       "|  4 | 234 | 210 |\n",
       "|  5 | 235 | 207 |\n",
       "|  6 | 237 | 200 |\n",
       "|  7 | 246 | 220 |\n",
       "|  8 | 258 | 219 |\n",
       "|  9 | 261 | 217 |\n",
       "| 10 | 269 | 240 |\n",
       "| 11 | 273 | 235 |\n",
       "| 12 | 293 | 277 |\n",
       "| 13 | 294 | 261 |\n",
       "\n"
      ],
      "text/plain": [
       "   pair stress nostress\n",
       "1   1   205    193     \n",
       "2   2   220    168     \n",
       "3   3   230    187     \n",
       "4   4   234    210     \n",
       "5   5   235    207     \n",
       "6   6   237    200     \n",
       "7   7   246    220     \n",
       "8   8   258    219     \n",
       "9   9   261    217     \n",
       "10 10   269    240     \n",
       "11 11   273    235     \n",
       "12 12   293    277     \n",
       "13 13   294    261     "
      ]
     },
     "metadata": {},
     "output_type": "display_data"
    }
   ],
   "source": [
    "soybean <- read_csv(\"data/soybean.csv\")\n",
    "soybean"
   ]
  },
  {
   "cell_type": "markdown",
   "metadata": {
    "nbgrader": {
     "grade": false,
     "grade_id": "cell-0c431799009b7159",
     "locked": true,
     "schema_version": 3,
     "solution": false,
     "task": false
    }
   },
   "source": [
    "Here's the description of the data set taken directly from the package `isdals`' documentation:\n",
    "\n",
    ">An experiment was carried out with 26 soybean plants. The plants were pairwise genetically identical, so there were 13 pairs in total. For each pair, one of the plants was 'stressed' by being shaken daily, whereas the other plant was not shaken. After a period the plants were harvested and the total leaf area was measured for each plant."
   ]
  },
  {
   "cell_type": "markdown",
   "metadata": {
    "nbgrader": {
     "grade": false,
     "grade_id": "cell-2509e9345878c011",
     "locked": true,
     "schema_version": 3,
     "solution": false,
     "task": false
    }
   },
   "source": [
    "&emsp; We would like to investigate whether the stress induced by daily shaking the plants affects the total leaf area. Let $\\mu_1$ be the average of the total leaf area of stressed plants, and let $\\mu_0$ be the average of the total leaf area of unstressed plants. We would like to do hypothesis testing on $\\mu_1-\\mu_0$ at a 5% significance level and suppose that the null hypothesis is $\\mu_1=\\mu_0$. We would like to test the difference in paired means."
   ]
  },
  {
   "cell_type": "markdown",
   "metadata": {
    "nbgrader": {
     "grade": false,
     "grade_id": "cell-93b6b66998918b1a",
     "locked": true,
     "schema_version": 3,
     "solution": false,
     "task": false
    }
   },
   "source": [
    "<b>Question 5.1: Mean and standard deviation</b>\n",
    "<br> {points: 1}\n",
    "\n",
    "Let’s create the summary data frame for `soybean` data set. Your job is to:\n",
    "\n",
    "1. calculate the difference between the pairs, save it in a column named `d’;\n",
    "2. calculate the mean and standard deviation of the differences, stored in columns `d_bar` and `sd`, respectively; \n",
    "3. calculate the standard error of the mean difference and store it in a column `std_error`;\n",
    "4. finally, store the sample size as well in a column called ’n’.\n",
    "\n",
    "_Assign your data frame to an object called `soybean_summary`._"
   ]
  },
  {
   "cell_type": "code",
   "execution_count": 60,
   "metadata": {
    "nbgrader": {
     "grade": false,
     "grade_id": "cell-818e72f8d3e1921b",
     "locked": false,
     "schema_version": 3,
     "solution": true,
     "task": false
    }
   },
   "outputs": [
    {
     "data": {
      "text/html": [
       "<table>\n",
       "<caption>A tibble: 1 × 4</caption>\n",
       "<thead>\n",
       "\t<tr><th scope=col>n</th><th scope=col>d_bar</th><th scope=col>sd</th><th scope=col>std_error</th></tr>\n",
       "\t<tr><th scope=col>&lt;int&gt;</th><th scope=col>&lt;dbl&gt;</th><th scope=col>&lt;dbl&gt;</th><th scope=col>&lt;dbl&gt;</th></tr>\n",
       "</thead>\n",
       "<tbody>\n",
       "\t<tr><td>13</td><td>32.38462</td><td>11.38375</td><td>3.157284</td></tr>\n",
       "</tbody>\n",
       "</table>\n"
      ],
      "text/latex": [
       "A tibble: 1 × 4\n",
       "\\begin{tabular}{llll}\n",
       " n & d\\_bar & sd & std\\_error\\\\\n",
       " <int> & <dbl> & <dbl> & <dbl>\\\\\n",
       "\\hline\n",
       "\t 13 & 32.38462 & 11.38375 & 3.157284\\\\\n",
       "\\end{tabular}\n"
      ],
      "text/markdown": [
       "\n",
       "A tibble: 1 × 4\n",
       "\n",
       "| n &lt;int&gt; | d_bar &lt;dbl&gt; | sd &lt;dbl&gt; | std_error &lt;dbl&gt; |\n",
       "|---|---|---|---|\n",
       "| 13 | 32.38462 | 11.38375 | 3.157284 |\n",
       "\n"
      ],
      "text/plain": [
       "  n  d_bar    sd       std_error\n",
       "1 13 32.38462 11.38375 3.157284 "
      ]
     },
     "metadata": {},
     "output_type": "display_data"
    }
   ],
   "source": [
    "# soybean_summary <-\n",
    "#     soybean_original %>% \n",
    "#     mutate(...) %>% \n",
    "#     summarise(n = n(), \n",
    "#               d_bar = ..., \n",
    "#               sd =...,\n",
    "#               std_error = ...)\n",
    "\n",
    "### BEGIN SOLUTION\n",
    "soybean_summary <-\n",
    "    soybean %>% \n",
    "    mutate(d = stress - nostress) %>% \n",
    "    summarise(n = n(), d_bar = mean(d), sd = sd(d), std_error = sd/sqrt(n))\n",
    "### END SOLUTION\n",
    "\n",
    "soybean_summary"
   ]
  },
  {
   "cell_type": "code",
   "execution_count": 61,
   "metadata": {
    "nbgrader": {
     "grade": true,
     "grade_id": "cell-b163f0db45fb1aff",
     "locked": true,
     "points": 1,
     "schema_version": 3,
     "solution": false,
     "task": false
    }
   },
   "outputs": [
    {
     "name": "stdout",
     "output_type": "stream",
     "text": [
      "[1] \"Success!\"\n"
     ]
    }
   ],
   "source": [
    "test_5.1()"
   ]
  },
  {
   "cell_type": "markdown",
   "metadata": {
    "nbgrader": {
     "grade": false,
     "grade_id": "cell-09c0111f91da4053",
     "locked": true,
     "schema_version": 3,
     "solution": false,
     "task": false
    }
   },
   "source": [
    "<b> Question 5.2: P-value </b>\n",
    "<br> {points: 1}\n",
    "\n",
    "Add another column to `soybean_summary`, named `p_value`, with the p-value associated with the observed test statistic `d_bar`. "
   ]
  },
  {
   "cell_type": "code",
   "execution_count": 62,
   "metadata": {
    "nbgrader": {
     "grade": false,
     "grade_id": "cell-19d96c09c88e2934",
     "locked": false,
     "schema_version": 3,
     "solution": true,
     "task": false
    }
   },
   "outputs": [
    {
     "data": {
      "text/html": [
       "<table>\n",
       "<caption>A tibble: 1 × 5</caption>\n",
       "<thead>\n",
       "\t<tr><th scope=col>n</th><th scope=col>d_bar</th><th scope=col>sd</th><th scope=col>std_error</th><th scope=col>p_value</th></tr>\n",
       "\t<tr><th scope=col>&lt;int&gt;</th><th scope=col>&lt;dbl&gt;</th><th scope=col>&lt;dbl&gt;</th><th scope=col>&lt;dbl&gt;</th><th scope=col>&lt;dbl&gt;</th></tr>\n",
       "</thead>\n",
       "<tbody>\n",
       "\t<tr><td>13</td><td>32.38462</td><td>11.38375</td><td>3.157284</td><td>2.720343e-07</td></tr>\n",
       "</tbody>\n",
       "</table>\n"
      ],
      "text/latex": [
       "A tibble: 1 × 5\n",
       "\\begin{tabular}{lllll}\n",
       " n & d\\_bar & sd & std\\_error & p\\_value\\\\\n",
       " <int> & <dbl> & <dbl> & <dbl> & <dbl>\\\\\n",
       "\\hline\n",
       "\t 13 & 32.38462 & 11.38375 & 3.157284 & 2.720343e-07\\\\\n",
       "\\end{tabular}\n"
      ],
      "text/markdown": [
       "\n",
       "A tibble: 1 × 5\n",
       "\n",
       "| n &lt;int&gt; | d_bar &lt;dbl&gt; | sd &lt;dbl&gt; | std_error &lt;dbl&gt; | p_value &lt;dbl&gt; |\n",
       "|---|---|---|---|---|\n",
       "| 13 | 32.38462 | 11.38375 | 3.157284 | 2.720343e-07 |\n",
       "\n"
      ],
      "text/plain": [
       "  n  d_bar    sd       std_error p_value     \n",
       "1 13 32.38462 11.38375 3.157284  2.720343e-07"
      ]
     },
     "metadata": {},
     "output_type": "display_data"
    }
   ],
   "source": [
    "\n",
    "### BEGIN SOLUTION\n",
    "soybean_summary <-\n",
    "    soybean_summary %>% \n",
    "    mutate(p_value = 2 * pt(d_bar/std_error, df = n-1, lower.tail=FALSE))\n",
    "### END SOLUTION\n",
    "\n",
    "soybean_summary"
   ]
  },
  {
   "cell_type": "code",
   "execution_count": 63,
   "metadata": {
    "nbgrader": {
     "grade": true,
     "grade_id": "cell-ccbc186116158585",
     "locked": true,
     "points": 1,
     "schema_version": 3,
     "solution": false,
     "task": false
    }
   },
   "outputs": [
    {
     "name": "stdout",
     "output_type": "stream",
     "text": [
      "[1] \"Success!\"\n"
     ]
    }
   ],
   "source": [
    "# Here we check to see if you have given your answer the correct object name\n",
    "# and if your answer is plausible. However, all other tests have been hidden\n",
    "# so you can practice deciding when you have the correct answer.\n",
    "  test_that('Did not assign answer to an object called \"soybean_summary\"', {\n",
    "    expect_true(exists(\"soybean_summary\"))\n",
    "  })\n",
    "\n",
    "  test_that(\"Solution should be a data frame\", {\n",
    "    expect_true(\"data.frame\" %in% class(soybean_summary))\n",
    "  })\n",
    "\n",
    "  expected_colnames <- c(\"n\", \"d_bar\", \"sd\", \"std_error\", \"p_value\")\n",
    "  given_colnames <- colnames(soybean_summary)\n",
    "  test_that(\"Data frame does not have the correct columns\", {\n",
    "    expect_equal(length(setdiff(\n",
    "      union(expected_colnames, given_colnames),\n",
    "      intersect(expected_colnames, given_colnames)\n",
    "    )), 0)\n",
    "  })\n",
    "  test_that(\"Data frame does not contain the correct number of rows\", {\n",
    "    expect_equal(digest(as.integer(nrow(soybean_summary))), \"4b5630ee914e848e8d07221556b0a2fb\")\n",
    "  })\n",
    "\n",
    "### BEGIN HIDDEN TESTS\n",
    "\n",
    "test_that(\"Data frame does not contain the correct data\", {\n",
    "    expect_equal(digest(as.integer(sum(soybean_summary$p_value) * 10e6)), \"c01f179e4b57ab8bd9de309e6d576c48\")\n",
    "})\n",
    "\n",
    "print(\"Success!\")\n",
    "### END HIDDEN TESTS"
   ]
  },
  {
   "cell_type": "markdown",
   "metadata": {
    "nbgrader": {
     "grade": false,
     "grade_id": "cell-04dcb4e650c5a14f",
     "locked": true,
     "schema_version": 3,
     "solution": false,
     "task": false
    }
   },
   "source": [
    "**Question 5.3** \n",
    "<br> {points: 1}\n",
    "\n",
    "Use R's `t.test` function to test the hypotheses. Make sure to use `broom::tidy()` to get a more organized result.\n",
    "\n",
    "_Assign your data frame to an object called `soybean_t_test`._"
   ]
  },
  {
   "cell_type": "code",
   "execution_count": 64,
   "metadata": {
    "nbgrader": {
     "grade": false,
     "grade_id": "cell-2a6e41fda667b8b1",
     "locked": false,
     "schema_version": 3,
     "solution": true,
     "task": false
    }
   },
   "outputs": [
    {
     "data": {
      "text/html": [
       "<table>\n",
       "<caption>A tibble: 1 × 8</caption>\n",
       "<thead>\n",
       "\t<tr><th scope=col>estimate</th><th scope=col>statistic</th><th scope=col>p.value</th><th scope=col>parameter</th><th scope=col>conf.low</th><th scope=col>conf.high</th><th scope=col>method</th><th scope=col>alternative</th></tr>\n",
       "\t<tr><th scope=col>&lt;dbl&gt;</th><th scope=col>&lt;dbl&gt;</th><th scope=col>&lt;dbl&gt;</th><th scope=col>&lt;dbl&gt;</th><th scope=col>&lt;dbl&gt;</th><th scope=col>&lt;dbl&gt;</th><th scope=col>&lt;chr&gt;</th><th scope=col>&lt;chr&gt;</th></tr>\n",
       "</thead>\n",
       "<tbody>\n",
       "\t<tr><td>32.38462</td><td>10.25711</td><td>2.720343e-07</td><td>12</td><td>25.50548</td><td>39.26375</td><td>Paired t-test</td><td>two.sided</td></tr>\n",
       "</tbody>\n",
       "</table>\n"
      ],
      "text/latex": [
       "A tibble: 1 × 8\n",
       "\\begin{tabular}{llllllll}\n",
       " estimate & statistic & p.value & parameter & conf.low & conf.high & method & alternative\\\\\n",
       " <dbl> & <dbl> & <dbl> & <dbl> & <dbl> & <dbl> & <chr> & <chr>\\\\\n",
       "\\hline\n",
       "\t 32.38462 & 10.25711 & 2.720343e-07 & 12 & 25.50548 & 39.26375 & Paired t-test & two.sided\\\\\n",
       "\\end{tabular}\n"
      ],
      "text/markdown": [
       "\n",
       "A tibble: 1 × 8\n",
       "\n",
       "| estimate &lt;dbl&gt; | statistic &lt;dbl&gt; | p.value &lt;dbl&gt; | parameter &lt;dbl&gt; | conf.low &lt;dbl&gt; | conf.high &lt;dbl&gt; | method &lt;chr&gt; | alternative &lt;chr&gt; |\n",
       "|---|---|---|---|---|---|---|---|\n",
       "| 32.38462 | 10.25711 | 2.720343e-07 | 12 | 25.50548 | 39.26375 | Paired t-test | two.sided |\n",
       "\n"
      ],
      "text/plain": [
       "  estimate statistic p.value      parameter conf.low conf.high method       \n",
       "1 32.38462 10.25711  2.720343e-07 12        25.50548 39.26375  Paired t-test\n",
       "  alternative\n",
       "1 two.sided  "
      ]
     },
     "metadata": {},
     "output_type": "display_data"
    }
   ],
   "source": [
    "### BEGIN SOLUTION\n",
    "soybean_t_test <- \n",
    "    tidy(t.test(soybean$stress, soybean$nostress, paired = TRUE))\n",
    "### END SOLUTION\n",
    "\n",
    "soybean_t_test"
   ]
  },
  {
   "cell_type": "code",
   "execution_count": 65,
   "metadata": {
    "nbgrader": {
     "grade": true,
     "grade_id": "cell-773d4f54070c07de",
     "locked": true,
     "points": 1,
     "schema_version": 3,
     "solution": false,
     "task": false
    }
   },
   "outputs": [
    {
     "name": "stdout",
     "output_type": "stream",
     "text": [
      "[1] \"Success!\"\n"
     ]
    }
   ],
   "source": [
    "test_5.3()"
   ]
  },
  {
   "cell_type": "markdown",
   "metadata": {
    "nbgrader": {
     "grade": false,
     "grade_id": "cell-352598e6e338e7fb",
     "locked": true,
     "schema_version": 3,
     "solution": false,
     "task": false
    }
   },
   "source": [
    "**Question 5.4**\n",
    "<br>{points: 1}\n",
    "\n",
    "True or false?\n",
    "\n",
    "We reject at 5% significance the null hypothesis that the mean total leaf area is the same for stressed and no-stressed soybeans. \n",
    "\n",
    "_Assign your answer to an object called `answer5.4`. Your answer should be either \"true\" or \"false\", surrounded by quotes._"
   ]
  },
  {
   "cell_type": "code",
   "execution_count": 66,
   "metadata": {
    "nbgrader": {
     "grade": false,
     "grade_id": "cell-c53a24ccc64645e4",
     "locked": false,
     "schema_version": 3,
     "solution": true,
     "task": false
    }
   },
   "outputs": [],
   "source": [
    "# answer5.4 <- ...\n",
    "\n",
    "### BEGIN SOLUTION\n",
    "answer5.4 <- \"true\"\n",
    "### END SOLUTION"
   ]
  },
  {
   "cell_type": "code",
   "execution_count": 67,
   "metadata": {
    "nbgrader": {
     "grade": true,
     "grade_id": "cell-6c8f47dafd6af2ef",
     "locked": true,
     "points": 1,
     "schema_version": 3,
     "solution": false,
     "task": false
    }
   },
   "outputs": [
    {
     "name": "stdout",
     "output_type": "stream",
     "text": [
      "[1] \"Success!\"\n"
     ]
    }
   ],
   "source": [
    "# Here we check to see if you have given your answer the correct object name\n",
    "# and if your answer is plausible. However, all other tests have been hidden\n",
    "# so you can practice deciding when you have the correct answer.\n",
    "test_that('Did not assign answer to an object called \"answer5.4\"', {\n",
    "  expect_true(exists(\"answer5.4\"))\n",
    "})\n",
    "test_that('Answer should be \"true\" or \"false\"', {\n",
    "  expect_match(answer5.4, \"true|false\", ignore.case = TRUE)\n",
    "})\n",
    "### BEGIN HIDDEN TESTS\n",
    "test_that(\"Solution is incorrect\", {\n",
    "  expect_equal(digest(tolower(answer5.4)), \"05ca18b596514af73f6880309a21b5dd\")\n",
    "})\n",
    "print(\"Success!\")\n",
    "### END HIDDEN TESTS"
   ]
  }
 ],
 "metadata": {
  "celltoolbar": "Create Assignment",
  "jupytext": {
   "formats": "ipynb,Rmd"
  },
  "kernelspec": {
   "display_name": "R",
   "language": "R",
   "name": "ir"
  },
  "language_info": {
   "codemirror_mode": "r",
   "file_extension": ".r",
   "mimetype": "text/x-r-source",
   "name": "R",
   "pygments_lexer": "r",
   "version": "4.1.1"
  }
 },
 "nbformat": 4,
 "nbformat_minor": 4
}
